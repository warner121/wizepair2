{
 "cells": [
  {
   "cell_type": "markdown",
   "metadata": {},
   "source": [
    "## Glucocorticoid receptor - part 3 (rule aggregation)"
   ]
  },
  {
   "cell_type": "markdown",
   "metadata": {},
   "source": [
    "### Import libraries"
   ]
  },
  {
   "cell_type": "code",
   "execution_count": 1,
   "metadata": {},
   "outputs": [],
   "source": [
    "import pandas as pd"
   ]
  },
  {
   "cell_type": "markdown",
   "metadata": {},
   "source": [
    "### Read in the datasets"
   ]
  },
  {
   "cell_type": "code",
   "execution_count": 2,
   "metadata": {},
   "outputs": [],
   "source": [
    "df = pd.read_csv('nr3c1_agonists_stripped.csv')\n",
    "df_pairs = pd.read_csv('nr3c1_agonists_pairs.csv')"
   ]
  },
  {
   "cell_type": "markdown",
   "metadata": {},
   "source": [
    "### Filter pairs with MCS > 50% and radius >= 2"
   ]
  },
  {
   "cell_type": "code",
   "execution_count": 3,
   "metadata": {},
   "outputs": [],
   "source": [
    "df_pairs = df_pairs[(df_pairs.percentmcs > 0.50) & (df_pairs.radius >= 2)]"
   ]
  },
  {
   "cell_type": "markdown",
   "metadata": {},
   "source": [
    "### Determine which measurements can be included in delta property calculation"
   ]
  },
  {
   "cell_type": "code",
   "execution_count": 4,
   "metadata": {},
   "outputs": [],
   "source": [
    "df['pchembl_exact'] = df.apply(lambda x: x.pchembl_value if x.standard_relation == \"=\" and x.pchembl_value else None, axis=1)"
   ]
  },
  {
   "cell_type": "markdown",
   "metadata": {},
   "source": [
    "### Combine twice with confirmed molecular pairs"
   ]
  },
  {
   "cell_type": "code",
   "execution_count": 5,
   "metadata": {},
   "outputs": [
    {
     "data": {
      "text/html": [
       "<div>\n",
       "<style scoped>\n",
       "    .dataframe tbody tr th:only-of-type {\n",
       "        vertical-align: middle;\n",
       "    }\n",
       "\n",
       "    .dataframe tbody tr th {\n",
       "        vertical-align: top;\n",
       "    }\n",
       "\n",
       "    .dataframe thead th {\n",
       "        text-align: right;\n",
       "    }\n",
       "</style>\n",
       "<table border=\"1\" class=\"dataframe\">\n",
       "  <thead>\n",
       "    <tr style=\"text-align: right;\">\n",
       "      <th></th>\n",
       "      <th>4460</th>\n",
       "      <th>2186</th>\n",
       "      <th>12220</th>\n",
       "    </tr>\n",
       "  </thead>\n",
       "  <tbody>\n",
       "    <tr>\n",
       "      <th>smiles1</th>\n",
       "      <td>C[C@]12C[C@H](O)[C@H]3[C@@H](CCC4=CC(=O)C=C[C@...</td>\n",
       "      <td>Cn1c(SCC(=O)[C@@]2(O)CC[C@H]3[C@@H]4CCC5=CC(=O...</td>\n",
       "      <td>CC1CC2C(C(O)CC3(C)C2CCC3(O)C(=O)CO)C2(C)C=CC(=...</td>\n",
       "    </tr>\n",
       "    <tr>\n",
       "      <th>smiles2</th>\n",
       "      <td>C[C@]12C[C@H](O)[C@H]3[C@@H](CCC4=CC(=O)C=C[C@...</td>\n",
       "      <td>C[C@]12C[C@H](O)[C@H]3[C@@H](CCC4=CC(=O)C=C[C@...</td>\n",
       "      <td>C[C@]12C=CC(=O)C=C1CC[C@@H]1[C@H]3C[C@@H](O)[C...</td>\n",
       "    </tr>\n",
       "    <tr>\n",
       "      <th>percentmcs</th>\n",
       "      <td>0.853659</td>\n",
       "      <td>0.725</td>\n",
       "      <td>0.53125</td>\n",
       "    </tr>\n",
       "    <tr>\n",
       "      <th>radius</th>\n",
       "      <td>2</td>\n",
       "      <td>2</td>\n",
       "      <td>4</td>\n",
       "    </tr>\n",
       "    <tr>\n",
       "      <th>valid</th>\n",
       "      <td>True</td>\n",
       "      <td>True</td>\n",
       "      <td>True</td>\n",
       "    </tr>\n",
       "    <tr>\n",
       "      <th>...</th>\n",
       "      <td>...</td>\n",
       "      <td>...</td>\n",
       "      <td>...</td>\n",
       "    </tr>\n",
       "    <tr>\n",
       "      <th>ligand_efficiency.le_y</th>\n",
       "      <td>0.33</td>\n",
       "      <td>0.44</td>\n",
       "      <td>NaN</td>\n",
       "    </tr>\n",
       "    <tr>\n",
       "      <th>stripped_smiles_y</th>\n",
       "      <td>C[C@]12C[C@H](O)[C@H]3[C@@H](CCC4=CC(=O)C=C[C@...</td>\n",
       "      <td>C[C@]12C[C@H](O)[C@H]3[C@@H](CCC4=CC(=O)C=C[C@...</td>\n",
       "      <td>C[C@]12C=CC(=O)C=C1CC[C@@H]1[C@H]3C[C@@H](O)[C...</td>\n",
       "    </tr>\n",
       "    <tr>\n",
       "      <th>achiral_smiles_y</th>\n",
       "      <td>CC12C=CC(=O)C=C1CCC1C2C(O)CC2(C)C1CCC2(O)C(=O)...</td>\n",
       "      <td>CC12C=CC(=O)C=C1CCC1C2C(O)CC2(C)C1CCC2(O)C(=O)CO</td>\n",
       "      <td>CC12C=CC(=O)C=C1CCC1C3CC(O)C(O)(C(=O)CO)C3(C)C...</td>\n",
       "    </tr>\n",
       "    <tr>\n",
       "      <th>pchembl_exact_y</th>\n",
       "      <td>8.42</td>\n",
       "      <td>8.39</td>\n",
       "      <td>7.7</td>\n",
       "    </tr>\n",
       "    <tr>\n",
       "      <th>pchembl_exact_delta</th>\n",
       "      <td>1.9</td>\n",
       "      <td>1.76</td>\n",
       "      <td>0.3</td>\n",
       "    </tr>\n",
       "  </tbody>\n",
       "</table>\n",
       "<p>105 rows × 3 columns</p>\n",
       "</div>"
      ],
      "text/plain": [
       "                                                                    4460   \\\n",
       "smiles1                 C[C@]12C[C@H](O)[C@H]3[C@@H](CCC4=CC(=O)C=C[C@...   \n",
       "smiles2                 C[C@]12C[C@H](O)[C@H]3[C@@H](CCC4=CC(=O)C=C[C@...   \n",
       "percentmcs                                                       0.853659   \n",
       "radius                                                                  2   \n",
       "valid                                                                True   \n",
       "...                                                                   ...   \n",
       "ligand_efficiency.le_y                                               0.33   \n",
       "stripped_smiles_y       C[C@]12C[C@H](O)[C@H]3[C@@H](CCC4=CC(=O)C=C[C@...   \n",
       "achiral_smiles_y        CC12C=CC(=O)C=C1CCC1C2C(O)CC2(C)C1CCC2(O)C(=O)...   \n",
       "pchembl_exact_y                                                      8.42   \n",
       "pchembl_exact_delta                                                   1.9   \n",
       "\n",
       "                                                                    2186   \\\n",
       "smiles1                 Cn1c(SCC(=O)[C@@]2(O)CC[C@H]3[C@@H]4CCC5=CC(=O...   \n",
       "smiles2                 C[C@]12C[C@H](O)[C@H]3[C@@H](CCC4=CC(=O)C=C[C@...   \n",
       "percentmcs                                                          0.725   \n",
       "radius                                                                  2   \n",
       "valid                                                                True   \n",
       "...                                                                   ...   \n",
       "ligand_efficiency.le_y                                               0.44   \n",
       "stripped_smiles_y       C[C@]12C[C@H](O)[C@H]3[C@@H](CCC4=CC(=O)C=C[C@...   \n",
       "achiral_smiles_y         CC12C=CC(=O)C=C1CCC1C2C(O)CC2(C)C1CCC2(O)C(=O)CO   \n",
       "pchembl_exact_y                                                      8.39   \n",
       "pchembl_exact_delta                                                  1.76   \n",
       "\n",
       "                                                                    12220  \n",
       "smiles1                 CC1CC2C(C(O)CC3(C)C2CCC3(O)C(=O)CO)C2(C)C=CC(=...  \n",
       "smiles2                 C[C@]12C=CC(=O)C=C1CC[C@@H]1[C@H]3C[C@@H](O)[C...  \n",
       "percentmcs                                                        0.53125  \n",
       "radius                                                                  4  \n",
       "valid                                                                True  \n",
       "...                                                                   ...  \n",
       "ligand_efficiency.le_y                                                NaN  \n",
       "stripped_smiles_y       C[C@]12C=CC(=O)C=C1CC[C@@H]1[C@H]3C[C@@H](O)[C...  \n",
       "achiral_smiles_y        CC12C=CC(=O)C=C1CCC1C3CC(O)C(O)(C(=O)CO)C3(C)C...  \n",
       "pchembl_exact_y                                                       7.7  \n",
       "pchembl_exact_delta                                                   0.3  \n",
       "\n",
       "[105 rows x 3 columns]"
      ]
     },
     "execution_count": 5,
     "metadata": {},
     "output_type": "execute_result"
    }
   ],
   "source": [
    "df_merge = df_pairs.merge(df, left_on='smiles1', right_on='stripped_smiles')\n",
    "df_merge = df_merge.merge(df, left_on=['smiles2', 'target_pref_name', 'standard_type'], right_on=['stripped_smiles', 'target_pref_name', 'standard_type'])\n",
    "df_merge['pchembl_exact_delta'] = df_merge['pchembl_exact_y'] - df_merge['pchembl_exact_x'] \n",
    "df_merge.sample(3).transpose()"
   ]
  },
  {
   "cell_type": "markdown",
   "metadata": {},
   "source": [
    "### Aggregate data by the two fragments"
   ]
  },
  {
   "cell_type": "code",
   "execution_count": 6,
   "metadata": {},
   "outputs": [],
   "source": [
    "indexcols = ['fragment1', 'fragment2', 'radius', 'target_pref_name', 'standard_type'] #, 'assay_chembl_id', 'standard_units']\n",
    "df_agg_data = pd.pivot_table(df_merge, values=['pchembl_exact_delta', 'percentmcs'], index=indexcols, aggfunc=['count','mean'])\n",
    "df_agg_data.columns = ['_'.join(col).strip() for col in df_agg_data.columns.values]"
   ]
  },
  {
   "cell_type": "markdown",
   "metadata": {},
   "source": [
    "### Retain single SMIRKS per transformation (effectively at random)"
   ]
  },
  {
   "cell_type": "code",
   "execution_count": 7,
   "metadata": {},
   "outputs": [],
   "source": [
    "df_agg_smirks = pd.pivot_table(df_merge, values='smirks', index=indexcols, aggfunc='first')\n",
    "df_agg = df_agg_data.join(df_agg_smirks).reset_index()"
   ]
  },
  {
   "cell_type": "markdown",
   "metadata": {},
   "source": [
    "### Write to file"
   ]
  },
  {
   "cell_type": "code",
   "execution_count": 8,
   "metadata": {},
   "outputs": [],
   "source": [
    "df_agg.to_csv('nr3c1_agonists_transformations.csv', index=False)"
   ]
  }
 ],
 "metadata": {
  "kernelspec": {
   "display_name": "Python 3",
   "language": "python",
   "name": "python3"
  },
  "language_info": {
   "codemirror_mode": {
    "name": "ipython",
    "version": 3
   },
   "file_extension": ".py",
   "mimetype": "text/x-python",
   "name": "python",
   "nbconvert_exporter": "python",
   "pygments_lexer": "ipython3",
   "version": "3.6.10"
  }
 },
 "nbformat": 4,
 "nbformat_minor": 4
}
