{
 "cells": [
  {
   "cell_type": "markdown",
   "metadata": {},
   "source": [
    "## Glucocorticoid receptor - part 2 (MMP identification)"
   ]
  },
  {
   "cell_type": "markdown",
   "metadata": {},
   "source": [
    "### Import libraries"
   ]
  },
  {
   "cell_type": "code",
   "execution_count": 1,
   "metadata": {},
   "outputs": [],
   "source": [
    "import pandas as pd"
   ]
  },
  {
   "cell_type": "code",
   "execution_count": 2,
   "metadata": {},
   "outputs": [
    {
     "name": "stdout",
     "output_type": "stream",
     "text": [
      "INFO: Pandarallel will run on 12 workers.\n",
      "INFO: Pandarallel will use Memory file system to transfer data between the main process and workers.\n"
     ]
    }
   ],
   "source": [
    "from pandarallel import pandarallel\n",
    "pandarallel.initialize(progress_bar=True, nb_workers=12)\n",
    "\n",
    "import sys\n",
    "sys.path.append('/home/daniel/wizepair2')\n",
    "from classes.mmp import MMP"
   ]
  },
  {
   "cell_type": "markdown",
   "metadata": {},
   "source": [
    "### Read in the dataset"
   ]
  },
  {
   "cell_type": "code",
   "execution_count": 3,
   "metadata": {},
   "outputs": [
    {
     "data": {
      "text/plain": [
       "2836"
      ]
     },
     "execution_count": 3,
     "metadata": {},
     "output_type": "execute_result"
    }
   ],
   "source": [
    "df = pd.read_csv('nr3c1_agonists_stripped.csv')\n",
    "len(df.index)"
   ]
  },
  {
   "cell_type": "markdown",
   "metadata": {},
   "source": [
    "### Create cartesian product of unique molecules tested in the same assay"
   ]
  },
  {
   "cell_type": "code",
   "execution_count": 4,
   "metadata": {},
   "outputs": [
    {
     "data": {
      "text/html": [
       "<div>\n",
       "<style scoped>\n",
       "    .dataframe tbody tr th:only-of-type {\n",
       "        vertical-align: middle;\n",
       "    }\n",
       "\n",
       "    .dataframe tbody tr th {\n",
       "        vertical-align: top;\n",
       "    }\n",
       "\n",
       "    .dataframe thead th {\n",
       "        text-align: right;\n",
       "    }\n",
       "</style>\n",
       "<table border=\"1\" class=\"dataframe\">\n",
       "  <thead>\n",
       "    <tr style=\"text-align: right;\">\n",
       "      <th></th>\n",
       "      <th>stripped_smiles_x</th>\n",
       "      <th>stripped_smiles_y</th>\n",
       "    </tr>\n",
       "  </thead>\n",
       "  <tbody>\n",
       "    <tr>\n",
       "      <th>0</th>\n",
       "      <td>C[C@]12C[C@H](O)[C@H]3[C@@H](CCC4=CC(=O)C=C[C@...</td>\n",
       "      <td>C[C@]12C[C@H](O)[C@H]3[C@@H](CCC4=CC(=O)C=C[C@...</td>\n",
       "    </tr>\n",
       "    <tr>\n",
       "      <th>1</th>\n",
       "      <td>C[C@]12C[C@H](O)[C@H]3[C@@H](CCC4=CC(=O)C=C[C@...</td>\n",
       "      <td>C[C@]12C[C@H](O)[C@H]3[C@@H](CCC4=CC(=O)C=C[C@...</td>\n",
       "    </tr>\n",
       "    <tr>\n",
       "      <th>2</th>\n",
       "      <td>C[C@]12C[C@H](O)[C@H]3[C@@H](CCC4=CC(=O)C=C[C@...</td>\n",
       "      <td>C[C@]12C[C@H](O)[C@H]3[C@@H](CCC4=CC(=O)C=C[C@...</td>\n",
       "    </tr>\n",
       "    <tr>\n",
       "      <th>3</th>\n",
       "      <td>C[C@]12C[C@H](O)[C@H]3[C@@H](CCC4=CC(=O)C=C[C@...</td>\n",
       "      <td>C[C@]12C[C@H](O)[C@H]3[C@@H](CCC4=CC(=O)C=C[C@...</td>\n",
       "    </tr>\n",
       "    <tr>\n",
       "      <th>4</th>\n",
       "      <td>CCCC1OC2CC3C4CCC5=CC(=O)C=CC5(C)C4C(O)CC3(C)C2...</td>\n",
       "      <td>CCCC1OC2CC3C4CCC5=CC(=O)C=CC5(C)C4C(O)CC3(C)C2...</td>\n",
       "    </tr>\n",
       "    <tr>\n",
       "      <th>8</th>\n",
       "      <td>CCCC1OC2CC3C4CCC5=CC(=O)C=CC5(C)C4C(O)CC3(C)C2...</td>\n",
       "      <td>C[C@]12C[C@H](O)[C@H]3[C@@H](CCC4=CC(=O)CC[C@@...</td>\n",
       "    </tr>\n",
       "    <tr>\n",
       "      <th>18</th>\n",
       "      <td>CCCC1OC2CC3C4CCC5=CC(=O)C=CC5(C)C4C(O)CC3(C)C2...</td>\n",
       "      <td>C[C@]12C[C@H](O)[C@H]3[C@@H](CCC4=CC(=O)C=C[C@...</td>\n",
       "    </tr>\n",
       "    <tr>\n",
       "      <th>36</th>\n",
       "      <td>C[C@]12C[C@H](O)[C@H]3[C@@H](CCC4=CC(=O)CC[C@@...</td>\n",
       "      <td>CCCC1OC2CC3C4CCC5=CC(=O)C=CC5(C)C4C(O)CC3(C)C2...</td>\n",
       "    </tr>\n",
       "    <tr>\n",
       "      <th>38</th>\n",
       "      <td>C[C@]12C[C@H](O)[C@H]3[C@@H](CCC4=CC(=O)CC[C@@...</td>\n",
       "      <td>C[C@]12C[C@H](O)[C@H]3[C@@H](CCC4=CC(=O)CC[C@@...</td>\n",
       "    </tr>\n",
       "    <tr>\n",
       "      <th>48</th>\n",
       "      <td>C[C@]12C[C@H](O)[C@H]3[C@@H](CCC4=CC(=O)CC[C@@...</td>\n",
       "      <td>C[C@]12C[C@H](O)[C@H]3[C@@H](CCC4=CC(=O)C=C[C@...</td>\n",
       "    </tr>\n",
       "    <tr>\n",
       "      <th>186</th>\n",
       "      <td>C[C@]12C[C@H](O)[C@H]3[C@@H](CCC4=CC(=O)C=C[C@...</td>\n",
       "      <td>CCCC1OC2CC3C4CCC5=CC(=O)C=CC5(C)C4C(O)CC3(C)C2...</td>\n",
       "    </tr>\n",
       "    <tr>\n",
       "      <th>188</th>\n",
       "      <td>C[C@]12C[C@H](O)[C@H]3[C@@H](CCC4=CC(=O)C=C[C@...</td>\n",
       "      <td>C[C@]12C[C@H](O)[C@H]3[C@@H](CCC4=CC(=O)CC[C@@...</td>\n",
       "    </tr>\n",
       "    <tr>\n",
       "      <th>191755</th>\n",
       "      <td>C[C@]12C[C@H](O)[C@H]3[C@@H](CCC4=CC(=O)C=C[C@...</td>\n",
       "      <td>CCCC1OC2CC3C4CCC5=CC(=O)C=CC5(C)C4C(O)CC3(C)C2...</td>\n",
       "    </tr>\n",
       "    <tr>\n",
       "      <th>191756</th>\n",
       "      <td>C[C@]12C[C@H](O)[C@H]3[C@@H](CCC4=CC(=O)C=C[C@...</td>\n",
       "      <td>C[C@]12C[C@H](O)[C@H]3[C@@H](CCC4=CC(=O)CC[C@@...</td>\n",
       "    </tr>\n",
       "    <tr>\n",
       "      <th>191758</th>\n",
       "      <td>CCCC1OC2CC3C4CCC5=CC(=O)C=CC5(C)C4C(O)CC3(C)C2...</td>\n",
       "      <td>C[C@]12C[C@H](O)[C@H]3[C@@H](CCC4=CC(=O)C=C[C@...</td>\n",
       "    </tr>\n",
       "    <tr>\n",
       "      <th>191762</th>\n",
       "      <td>C[C@]12C[C@H](O)[C@H]3[C@@H](CCC4=CC(=O)CC[C@@...</td>\n",
       "      <td>C[C@]12C[C@H](O)[C@H]3[C@@H](CCC4=CC(=O)C=C[C@...</td>\n",
       "    </tr>\n",
       "  </tbody>\n",
       "</table>\n",
       "</div>"
      ],
      "text/plain": [
       "                                        stripped_smiles_x  \\\n",
       "0       C[C@]12C[C@H](O)[C@H]3[C@@H](CCC4=CC(=O)C=C[C@...   \n",
       "1       C[C@]12C[C@H](O)[C@H]3[C@@H](CCC4=CC(=O)C=C[C@...   \n",
       "2       C[C@]12C[C@H](O)[C@H]3[C@@H](CCC4=CC(=O)C=C[C@...   \n",
       "3       C[C@]12C[C@H](O)[C@H]3[C@@H](CCC4=CC(=O)C=C[C@...   \n",
       "4       CCCC1OC2CC3C4CCC5=CC(=O)C=CC5(C)C4C(O)CC3(C)C2...   \n",
       "8       CCCC1OC2CC3C4CCC5=CC(=O)C=CC5(C)C4C(O)CC3(C)C2...   \n",
       "18      CCCC1OC2CC3C4CCC5=CC(=O)C=CC5(C)C4C(O)CC3(C)C2...   \n",
       "36      C[C@]12C[C@H](O)[C@H]3[C@@H](CCC4=CC(=O)CC[C@@...   \n",
       "38      C[C@]12C[C@H](O)[C@H]3[C@@H](CCC4=CC(=O)CC[C@@...   \n",
       "48      C[C@]12C[C@H](O)[C@H]3[C@@H](CCC4=CC(=O)CC[C@@...   \n",
       "186     C[C@]12C[C@H](O)[C@H]3[C@@H](CCC4=CC(=O)C=C[C@...   \n",
       "188     C[C@]12C[C@H](O)[C@H]3[C@@H](CCC4=CC(=O)C=C[C@...   \n",
       "191755  C[C@]12C[C@H](O)[C@H]3[C@@H](CCC4=CC(=O)C=C[C@...   \n",
       "191756  C[C@]12C[C@H](O)[C@H]3[C@@H](CCC4=CC(=O)C=C[C@...   \n",
       "191758  CCCC1OC2CC3C4CCC5=CC(=O)C=CC5(C)C4C(O)CC3(C)C2...   \n",
       "191762  C[C@]12C[C@H](O)[C@H]3[C@@H](CCC4=CC(=O)CC[C@@...   \n",
       "\n",
       "                                        stripped_smiles_y  \n",
       "0       C[C@]12C[C@H](O)[C@H]3[C@@H](CCC4=CC(=O)C=C[C@...  \n",
       "1       C[C@]12C[C@H](O)[C@H]3[C@@H](CCC4=CC(=O)C=C[C@...  \n",
       "2       C[C@]12C[C@H](O)[C@H]3[C@@H](CCC4=CC(=O)C=C[C@...  \n",
       "3       C[C@]12C[C@H](O)[C@H]3[C@@H](CCC4=CC(=O)C=C[C@...  \n",
       "4       CCCC1OC2CC3C4CCC5=CC(=O)C=CC5(C)C4C(O)CC3(C)C2...  \n",
       "8       C[C@]12C[C@H](O)[C@H]3[C@@H](CCC4=CC(=O)CC[C@@...  \n",
       "18      C[C@]12C[C@H](O)[C@H]3[C@@H](CCC4=CC(=O)C=C[C@...  \n",
       "36      CCCC1OC2CC3C4CCC5=CC(=O)C=CC5(C)C4C(O)CC3(C)C2...  \n",
       "38      C[C@]12C[C@H](O)[C@H]3[C@@H](CCC4=CC(=O)CC[C@@...  \n",
       "48      C[C@]12C[C@H](O)[C@H]3[C@@H](CCC4=CC(=O)C=C[C@...  \n",
       "186     CCCC1OC2CC3C4CCC5=CC(=O)C=CC5(C)C4C(O)CC3(C)C2...  \n",
       "188     C[C@]12C[C@H](O)[C@H]3[C@@H](CCC4=CC(=O)CC[C@@...  \n",
       "191755  CCCC1OC2CC3C4CCC5=CC(=O)C=CC5(C)C4C(O)CC3(C)C2...  \n",
       "191756  C[C@]12C[C@H](O)[C@H]3[C@@H](CCC4=CC(=O)CC[C@@...  \n",
       "191758  C[C@]12C[C@H](O)[C@H]3[C@@H](CCC4=CC(=O)C=C[C@...  \n",
       "191762  C[C@]12C[C@H](O)[C@H]3[C@@H](CCC4=CC(=O)C=C[C@...  "
      ]
     },
     "execution_count": 4,
     "metadata": {},
     "output_type": "execute_result"
    }
   ],
   "source": [
    "df_pairs = pd.merge(df, df, on=['target_pref_name', 'standard_type'])\n",
    "df_pairs = df_pairs[['stripped_smiles_x', 'stripped_smiles_y']].drop_duplicates()\n",
    "df_pairs"
   ]
  },
  {
   "cell_type": "markdown",
   "metadata": {},
   "source": [
    "### Identify all pairs"
   ]
  },
  {
   "cell_type": "code",
   "execution_count": 5,
   "metadata": {},
   "outputs": [
    {
     "data": {
      "application/vnd.jupyter.widget-view+json": {
       "model_id": "1a0edab5c2f64e70b7a7ecbe2cd5e85e",
       "version_major": 2,
       "version_minor": 0
      },
      "text/plain": [
       "VBox(children=(HBox(children=(IntProgress(value=0, description='0.00%', max=2), Label(value='0 / 2'))), HBox(c…"
      ]
     },
     "metadata": {},
     "output_type": "display_data"
    }
   ],
   "source": [
    "df_pairs = df_pairs.sample(frac=1).parallel_apply(lambda x: MMP(x.stripped_smiles_x, x.stripped_smiles_y, strictness=7).execute(), axis=1)"
   ]
  },
  {
   "cell_type": "code",
   "execution_count": 6,
   "metadata": {},
   "outputs": [
    {
     "data": {
      "text/html": [
       "<div>\n",
       "<style scoped>\n",
       "    .dataframe tbody tr th:only-of-type {\n",
       "        vertical-align: middle;\n",
       "    }\n",
       "\n",
       "    .dataframe tbody tr th {\n",
       "        vertical-align: top;\n",
       "    }\n",
       "\n",
       "    .dataframe thead th {\n",
       "        text-align: right;\n",
       "    }\n",
       "</style>\n",
       "<table border=\"1\" class=\"dataframe\">\n",
       "  <thead>\n",
       "    <tr style=\"text-align: right;\">\n",
       "      <th></th>\n",
       "      <th>1</th>\n",
       "      <th>5</th>\n",
       "      <th>46</th>\n",
       "    </tr>\n",
       "  </thead>\n",
       "  <tbody>\n",
       "    <tr>\n",
       "      <th>smiles1</th>\n",
       "      <td>C[C@]12C[C@H](O)[C@H]3[C@@H](CCC4=CC(=O)CC[C@@...</td>\n",
       "      <td>C[C@]12C[C@H](O)[C@H]3[C@@H](CCC4=CC(=O)C=C[C@...</td>\n",
       "      <td>CCCC1OC2CC3C4CCC5=CC(=O)C=CC5(C)C4C(O)CC3(C)C2...</td>\n",
       "    </tr>\n",
       "    <tr>\n",
       "      <th>smiles2</th>\n",
       "      <td>C[C@]12C[C@H](O)[C@H]3[C@@H](CCC4=CC(=O)C=C[C@...</td>\n",
       "      <td>C[C@]12C[C@H](O)[C@H]3[C@@H](CCC4=CC(=O)CC[C@@...</td>\n",
       "      <td>C[C@]12C[C@H](O)[C@H]3[C@@H](CCC4=CC(=O)CC[C@@...</td>\n",
       "    </tr>\n",
       "    <tr>\n",
       "      <th>percentmcs</th>\n",
       "      <td>0.933333</td>\n",
       "      <td>0.933333</td>\n",
       "      <td>0.433333</td>\n",
       "    </tr>\n",
       "    <tr>\n",
       "      <th>radius</th>\n",
       "      <td>3.0</td>\n",
       "      <td>4.0</td>\n",
       "      <td>4.0</td>\n",
       "    </tr>\n",
       "    <tr>\n",
       "      <th>valid</th>\n",
       "      <td>True</td>\n",
       "      <td>True</td>\n",
       "      <td>True</td>\n",
       "    </tr>\n",
       "    <tr>\n",
       "      <th>solversecs</th>\n",
       "      <td>5.067788</td>\n",
       "      <td>4.373194</td>\n",
       "      <td>5.543565</td>\n",
       "    </tr>\n",
       "    <tr>\n",
       "      <th>embedding</th>\n",
       "      <td>[0, 0, 0, 0, 0, 0, 12, 172, 183, 78, 64, 19, 0...</td>\n",
       "      <td>[0, 0, 0, 0, 0, 0, 12, 172, 183, 78, 64, 19, 0...</td>\n",
       "      <td>[0, 0, 0, 0, 0, 2, 20, 148, 251, 112, 40, 5, 0...</td>\n",
       "    </tr>\n",
       "    <tr>\n",
       "      <th>predsolversecs</th>\n",
       "      <td>6.576</td>\n",
       "      <td>6.576</td>\n",
       "      <td>6.466</td>\n",
       "    </tr>\n",
       "    <tr>\n",
       "      <th>error</th>\n",
       "      <td>None</td>\n",
       "      <td>None</td>\n",
       "      <td>None</td>\n",
       "    </tr>\n",
       "    <tr>\n",
       "      <th>smirks</th>\n",
       "      <td>[H]-[#6:1](-[H])-[#6:2]1=[#6:3](-[H])-[#6:4](=...</td>\n",
       "      <td>[H]-[#8:1]-[#6@@:2](-[#6:3](-[H])-[H])-[#6@@:4...</td>\n",
       "      <td>[H]-[#8]-[#6:1](=[#8:2])-[#6:3]12-[#8:4]-[#6](...</td>\n",
       "    </tr>\n",
       "    <tr>\n",
       "      <th>biproducts</th>\n",
       "      <td>0.0</td>\n",
       "      <td>0.0</td>\n",
       "      <td>0.0</td>\n",
       "    </tr>\n",
       "    <tr>\n",
       "      <th>fragment1</th>\n",
       "      <td>3db6b792d90f8fd1b1a0915063ad588c</td>\n",
       "      <td>c1544df44b096361a103ba8cc4bba882</td>\n",
       "      <td>da832a649625002e476345ea44363436</td>\n",
       "    </tr>\n",
       "    <tr>\n",
       "      <th>fragment2</th>\n",
       "      <td>f6d7a943d65c3dd2ccb62be57938274a</td>\n",
       "      <td>c900872859b8e6db527701df58ae1157</td>\n",
       "      <td>a3e3a4bb516dc821ee4d51db067eccc7</td>\n",
       "    </tr>\n",
       "  </tbody>\n",
       "</table>\n",
       "</div>"
      ],
      "text/plain": [
       "                                                               1   \\\n",
       "smiles1         C[C@]12C[C@H](O)[C@H]3[C@@H](CCC4=CC(=O)CC[C@@...   \n",
       "smiles2         C[C@]12C[C@H](O)[C@H]3[C@@H](CCC4=CC(=O)C=C[C@...   \n",
       "percentmcs                                               0.933333   \n",
       "radius                                                        3.0   \n",
       "valid                                                        True   \n",
       "solversecs                                               5.067788   \n",
       "embedding       [0, 0, 0, 0, 0, 0, 12, 172, 183, 78, 64, 19, 0...   \n",
       "predsolversecs                                              6.576   \n",
       "error                                                        None   \n",
       "smirks          [H]-[#6:1](-[H])-[#6:2]1=[#6:3](-[H])-[#6:4](=...   \n",
       "biproducts                                                    0.0   \n",
       "fragment1                        3db6b792d90f8fd1b1a0915063ad588c   \n",
       "fragment2                        f6d7a943d65c3dd2ccb62be57938274a   \n",
       "\n",
       "                                                               5   \\\n",
       "smiles1         C[C@]12C[C@H](O)[C@H]3[C@@H](CCC4=CC(=O)C=C[C@...   \n",
       "smiles2         C[C@]12C[C@H](O)[C@H]3[C@@H](CCC4=CC(=O)CC[C@@...   \n",
       "percentmcs                                               0.933333   \n",
       "radius                                                        4.0   \n",
       "valid                                                        True   \n",
       "solversecs                                               4.373194   \n",
       "embedding       [0, 0, 0, 0, 0, 0, 12, 172, 183, 78, 64, 19, 0...   \n",
       "predsolversecs                                              6.576   \n",
       "error                                                        None   \n",
       "smirks          [H]-[#8:1]-[#6@@:2](-[#6:3](-[H])-[H])-[#6@@:4...   \n",
       "biproducts                                                    0.0   \n",
       "fragment1                        c1544df44b096361a103ba8cc4bba882   \n",
       "fragment2                        c900872859b8e6db527701df58ae1157   \n",
       "\n",
       "                                                               46  \n",
       "smiles1         CCCC1OC2CC3C4CCC5=CC(=O)C=CC5(C)C4C(O)CC3(C)C2...  \n",
       "smiles2         C[C@]12C[C@H](O)[C@H]3[C@@H](CCC4=CC(=O)CC[C@@...  \n",
       "percentmcs                                               0.433333  \n",
       "radius                                                        4.0  \n",
       "valid                                                        True  \n",
       "solversecs                                               5.543565  \n",
       "embedding       [0, 0, 0, 0, 0, 2, 20, 148, 251, 112, 40, 5, 0...  \n",
       "predsolversecs                                              6.466  \n",
       "error                                                        None  \n",
       "smirks          [H]-[#8]-[#6:1](=[#8:2])-[#6:3]12-[#8:4]-[#6](...  \n",
       "biproducts                                                    0.0  \n",
       "fragment1                        da832a649625002e476345ea44363436  \n",
       "fragment2                        a3e3a4bb516dc821ee4d51db067eccc7  "
      ]
     },
     "execution_count": 6,
     "metadata": {},
     "output_type": "execute_result"
    }
   ],
   "source": [
    "df_pairs = pd.json_normalize(df_pairs.explode())\n",
    "df_pairs.sample(3).transpose()"
   ]
  },
  {
   "cell_type": "markdown",
   "metadata": {},
   "source": [
    "### Drop failures and write output to file"
   ]
  },
  {
   "cell_type": "code",
   "execution_count": 7,
   "metadata": {},
   "outputs": [],
   "source": [
    "df_pairs = df_pairs[df_pairs.valid]\n",
    "df_pairs.to_csv('nr3c1_agonists_pairs.csv', index=False)"
   ]
  },
  {
   "cell_type": "code",
   "execution_count": null,
   "metadata": {},
   "outputs": [],
   "source": []
  }
 ],
 "metadata": {
  "kernelspec": {
   "display_name": "Python 3 (ipykernel)",
   "language": "python",
   "name": "python3"
  },
  "language_info": {
   "codemirror_mode": {
    "name": "ipython",
    "version": 3
   },
   "file_extension": ".py",
   "mimetype": "text/x-python",
   "name": "python",
   "nbconvert_exporter": "python",
   "pygments_lexer": "ipython3",
   "version": "3.7.0"
  }
 },
 "nbformat": 4,
 "nbformat_minor": 4
}
