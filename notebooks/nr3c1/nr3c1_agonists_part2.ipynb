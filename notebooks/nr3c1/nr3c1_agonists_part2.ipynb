{
 "cells": [
  {
   "cell_type": "markdown",
   "metadata": {},
   "source": [
    "## Glucocorticoid receptor - part 2 (MMP identification)"
   ]
  },
  {
   "cell_type": "markdown",
   "metadata": {},
   "source": [
    "### Import libraries"
   ]
  },
  {
   "cell_type": "code",
   "execution_count": 1,
   "metadata": {},
   "outputs": [],
   "source": [
    "import pandas as pd"
   ]
  },
  {
   "cell_type": "code",
   "execution_count": 2,
   "metadata": {},
   "outputs": [
    {
     "name": "stdout",
     "output_type": "stream",
     "text": [
      "INFO: Pandarallel will run on 12 workers.\n",
      "INFO: Pandarallel will use Memory file system to transfer data between the main process and workers.\n"
     ]
    }
   ],
   "source": [
    "from pandarallel import pandarallel\n",
    "pandarallel.initialize(progress_bar=True, nb_workers=12)\n",
    "\n",
    "import sys\n",
    "sys.path.append('/home/daniel/wizepair2')\n",
    "from classes.mmp import MMP"
   ]
  },
  {
   "cell_type": "markdown",
   "metadata": {},
   "source": [
    "### Read in the dataset"
   ]
  },
  {
   "cell_type": "code",
   "execution_count": 3,
   "metadata": {},
   "outputs": [
    {
     "data": {
      "text/plain": [
       "2836"
      ]
     },
     "execution_count": 3,
     "metadata": {},
     "output_type": "execute_result"
    }
   ],
   "source": [
    "df = pd.read_csv('nr3c1_agonists_stripped.csv')\n",
    "len(df.index)"
   ]
  },
  {
   "cell_type": "markdown",
   "metadata": {},
   "source": [
    "### Create cartesian product of unique molecules tested in the same assay"
   ]
  },
  {
   "cell_type": "code",
   "execution_count": 4,
   "metadata": {},
   "outputs": [
    {
     "data": {
      "text/html": [
       "<div>\n",
       "<style scoped>\n",
       "    .dataframe tbody tr th:only-of-type {\n",
       "        vertical-align: middle;\n",
       "    }\n",
       "\n",
       "    .dataframe tbody tr th {\n",
       "        vertical-align: top;\n",
       "    }\n",
       "\n",
       "    .dataframe thead th {\n",
       "        text-align: right;\n",
       "    }\n",
       "</style>\n",
       "<table border=\"1\" class=\"dataframe\">\n",
       "  <thead>\n",
       "    <tr style=\"text-align: right;\">\n",
       "      <th></th>\n",
       "      <th>stripped_smiles_x</th>\n",
       "      <th>stripped_smiles_y</th>\n",
       "    </tr>\n",
       "  </thead>\n",
       "  <tbody>\n",
       "    <tr>\n",
       "      <th>0</th>\n",
       "      <td>C[C@]12C[C@H](O)[C@H]3[C@@H](CCC4=CC(=O)C=C[C@...</td>\n",
       "      <td>C[C@]12C[C@H](O)[C@H]3[C@@H](CCC4=CC(=O)C=C[C@...</td>\n",
       "    </tr>\n",
       "    <tr>\n",
       "      <th>1</th>\n",
       "      <td>C[C@]12C[C@H](O)[C@H]3[C@@H](CCC4=CC(=O)C=C[C@...</td>\n",
       "      <td>C[C@]12C[C@H](O)[C@H]3[C@@H](CCC4=CC(=O)C=C[C@...</td>\n",
       "    </tr>\n",
       "    <tr>\n",
       "      <th>2</th>\n",
       "      <td>C[C@]12C[C@H](O)[C@H]3[C@@H](CCC4=CC(=O)C=C[C@...</td>\n",
       "      <td>C[C@]12C[C@H](O)[C@H]3[C@@H](CCC4=CC(=O)C=C[C@...</td>\n",
       "    </tr>\n",
       "    <tr>\n",
       "      <th>3</th>\n",
       "      <td>C[C@]12C[C@H](O)[C@H]3[C@@H](CCC4=CC(=O)C=C[C@...</td>\n",
       "      <td>C[C@]12C[C@H](O)[C@H]3[C@@H](CCC4=CC(=O)C=C[C@...</td>\n",
       "    </tr>\n",
       "    <tr>\n",
       "      <th>4</th>\n",
       "      <td>CCCC1OC2CC3C4CCC5=CC(=O)C=CC5(C)C4C(O)CC3(C)C2...</td>\n",
       "      <td>CCCC1OC2CC3C4CCC5=CC(=O)C=CC5(C)C4C(O)CC3(C)C2...</td>\n",
       "    </tr>\n",
       "    <tr>\n",
       "      <th>8</th>\n",
       "      <td>CCCC1OC2CC3C4CCC5=CC(=O)C=CC5(C)C4C(O)CC3(C)C2...</td>\n",
       "      <td>C[C@]12C[C@H](O)[C@H]3[C@@H](CCC4=CC(=O)CC[C@@...</td>\n",
       "    </tr>\n",
       "    <tr>\n",
       "      <th>18</th>\n",
       "      <td>CCCC1OC2CC3C4CCC5=CC(=O)C=CC5(C)C4C(O)CC3(C)C2...</td>\n",
       "      <td>C[C@]12C[C@H](O)[C@H]3[C@@H](CCC4=CC(=O)C=C[C@...</td>\n",
       "    </tr>\n",
       "    <tr>\n",
       "      <th>36</th>\n",
       "      <td>C[C@]12C[C@H](O)[C@H]3[C@@H](CCC4=CC(=O)CC[C@@...</td>\n",
       "      <td>CCCC1OC2CC3C4CCC5=CC(=O)C=CC5(C)C4C(O)CC3(C)C2...</td>\n",
       "    </tr>\n",
       "    <tr>\n",
       "      <th>38</th>\n",
       "      <td>C[C@]12C[C@H](O)[C@H]3[C@@H](CCC4=CC(=O)CC[C@@...</td>\n",
       "      <td>C[C@]12C[C@H](O)[C@H]3[C@@H](CCC4=CC(=O)CC[C@@...</td>\n",
       "    </tr>\n",
       "    <tr>\n",
       "      <th>48</th>\n",
       "      <td>C[C@]12C[C@H](O)[C@H]3[C@@H](CCC4=CC(=O)CC[C@@...</td>\n",
       "      <td>C[C@]12C[C@H](O)[C@H]3[C@@H](CCC4=CC(=O)C=C[C@...</td>\n",
       "    </tr>\n",
       "    <tr>\n",
       "      <th>186</th>\n",
       "      <td>C[C@]12C[C@H](O)[C@H]3[C@@H](CCC4=CC(=O)C=C[C@...</td>\n",
       "      <td>CCCC1OC2CC3C4CCC5=CC(=O)C=CC5(C)C4C(O)CC3(C)C2...</td>\n",
       "    </tr>\n",
       "    <tr>\n",
       "      <th>188</th>\n",
       "      <td>C[C@]12C[C@H](O)[C@H]3[C@@H](CCC4=CC(=O)C=C[C@...</td>\n",
       "      <td>C[C@]12C[C@H](O)[C@H]3[C@@H](CCC4=CC(=O)CC[C@@...</td>\n",
       "    </tr>\n",
       "    <tr>\n",
       "      <th>191755</th>\n",
       "      <td>C[C@]12C[C@H](O)[C@H]3[C@@H](CCC4=CC(=O)C=C[C@...</td>\n",
       "      <td>CCCC1OC2CC3C4CCC5=CC(=O)C=CC5(C)C4C(O)CC3(C)C2...</td>\n",
       "    </tr>\n",
       "    <tr>\n",
       "      <th>191756</th>\n",
       "      <td>C[C@]12C[C@H](O)[C@H]3[C@@H](CCC4=CC(=O)C=C[C@...</td>\n",
       "      <td>C[C@]12C[C@H](O)[C@H]3[C@@H](CCC4=CC(=O)CC[C@@...</td>\n",
       "    </tr>\n",
       "    <tr>\n",
       "      <th>191758</th>\n",
       "      <td>CCCC1OC2CC3C4CCC5=CC(=O)C=CC5(C)C4C(O)CC3(C)C2...</td>\n",
       "      <td>C[C@]12C[C@H](O)[C@H]3[C@@H](CCC4=CC(=O)C=C[C@...</td>\n",
       "    </tr>\n",
       "    <tr>\n",
       "      <th>191762</th>\n",
       "      <td>C[C@]12C[C@H](O)[C@H]3[C@@H](CCC4=CC(=O)CC[C@@...</td>\n",
       "      <td>C[C@]12C[C@H](O)[C@H]3[C@@H](CCC4=CC(=O)C=C[C@...</td>\n",
       "    </tr>\n",
       "  </tbody>\n",
       "</table>\n",
       "</div>"
      ],
      "text/plain": [
       "                                        stripped_smiles_x  \\\n",
       "0       C[C@]12C[C@H](O)[C@H]3[C@@H](CCC4=CC(=O)C=C[C@...   \n",
       "1       C[C@]12C[C@H](O)[C@H]3[C@@H](CCC4=CC(=O)C=C[C@...   \n",
       "2       C[C@]12C[C@H](O)[C@H]3[C@@H](CCC4=CC(=O)C=C[C@...   \n",
       "3       C[C@]12C[C@H](O)[C@H]3[C@@H](CCC4=CC(=O)C=C[C@...   \n",
       "4       CCCC1OC2CC3C4CCC5=CC(=O)C=CC5(C)C4C(O)CC3(C)C2...   \n",
       "8       CCCC1OC2CC3C4CCC5=CC(=O)C=CC5(C)C4C(O)CC3(C)C2...   \n",
       "18      CCCC1OC2CC3C4CCC5=CC(=O)C=CC5(C)C4C(O)CC3(C)C2...   \n",
       "36      C[C@]12C[C@H](O)[C@H]3[C@@H](CCC4=CC(=O)CC[C@@...   \n",
       "38      C[C@]12C[C@H](O)[C@H]3[C@@H](CCC4=CC(=O)CC[C@@...   \n",
       "48      C[C@]12C[C@H](O)[C@H]3[C@@H](CCC4=CC(=O)CC[C@@...   \n",
       "186     C[C@]12C[C@H](O)[C@H]3[C@@H](CCC4=CC(=O)C=C[C@...   \n",
       "188     C[C@]12C[C@H](O)[C@H]3[C@@H](CCC4=CC(=O)C=C[C@...   \n",
       "191755  C[C@]12C[C@H](O)[C@H]3[C@@H](CCC4=CC(=O)C=C[C@...   \n",
       "191756  C[C@]12C[C@H](O)[C@H]3[C@@H](CCC4=CC(=O)C=C[C@...   \n",
       "191758  CCCC1OC2CC3C4CCC5=CC(=O)C=CC5(C)C4C(O)CC3(C)C2...   \n",
       "191762  C[C@]12C[C@H](O)[C@H]3[C@@H](CCC4=CC(=O)CC[C@@...   \n",
       "\n",
       "                                        stripped_smiles_y  \n",
       "0       C[C@]12C[C@H](O)[C@H]3[C@@H](CCC4=CC(=O)C=C[C@...  \n",
       "1       C[C@]12C[C@H](O)[C@H]3[C@@H](CCC4=CC(=O)C=C[C@...  \n",
       "2       C[C@]12C[C@H](O)[C@H]3[C@@H](CCC4=CC(=O)C=C[C@...  \n",
       "3       C[C@]12C[C@H](O)[C@H]3[C@@H](CCC4=CC(=O)C=C[C@...  \n",
       "4       CCCC1OC2CC3C4CCC5=CC(=O)C=CC5(C)C4C(O)CC3(C)C2...  \n",
       "8       C[C@]12C[C@H](O)[C@H]3[C@@H](CCC4=CC(=O)CC[C@@...  \n",
       "18      C[C@]12C[C@H](O)[C@H]3[C@@H](CCC4=CC(=O)C=C[C@...  \n",
       "36      CCCC1OC2CC3C4CCC5=CC(=O)C=CC5(C)C4C(O)CC3(C)C2...  \n",
       "38      C[C@]12C[C@H](O)[C@H]3[C@@H](CCC4=CC(=O)CC[C@@...  \n",
       "48      C[C@]12C[C@H](O)[C@H]3[C@@H](CCC4=CC(=O)C=C[C@...  \n",
       "186     CCCC1OC2CC3C4CCC5=CC(=O)C=CC5(C)C4C(O)CC3(C)C2...  \n",
       "188     C[C@]12C[C@H](O)[C@H]3[C@@H](CCC4=CC(=O)CC[C@@...  \n",
       "191755  CCCC1OC2CC3C4CCC5=CC(=O)C=CC5(C)C4C(O)CC3(C)C2...  \n",
       "191756  C[C@]12C[C@H](O)[C@H]3[C@@H](CCC4=CC(=O)CC[C@@...  \n",
       "191758  C[C@]12C[C@H](O)[C@H]3[C@@H](CCC4=CC(=O)C=C[C@...  \n",
       "191762  C[C@]12C[C@H](O)[C@H]3[C@@H](CCC4=CC(=O)C=C[C@...  "
      ]
     },
     "execution_count": 4,
     "metadata": {},
     "output_type": "execute_result"
    }
   ],
   "source": [
    "df_pairs = pd.merge(df, df, on=['target_pref_name', 'standard_type'])\n",
    "df_pairs = df_pairs[['stripped_smiles_x', 'stripped_smiles_y']].drop_duplicates()\n",
    "df_pairs"
   ]
  },
  {
   "cell_type": "markdown",
   "metadata": {},
   "source": [
    "### Identify all pairs"
   ]
  },
  {
   "cell_type": "code",
   "execution_count": 5,
   "metadata": {},
   "outputs": [
    {
     "data": {
      "application/vnd.jupyter.widget-view+json": {
       "model_id": "fde9f29182f740cfbcabab8af52226a1",
       "version_major": 2,
       "version_minor": 0
      },
      "text/plain": [
       "VBox(children=(HBox(children=(IntProgress(value=0, description='0.00%', max=2), Label(value='0 / 2'))), HBox(c…"
      ]
     },
     "metadata": {},
     "output_type": "display_data"
    }
   ],
   "source": [
    "df_pairs = df_pairs.sample(frac=1).parallel_apply(lambda x: MMP(x.stripped_smiles_x, x.stripped_smiles_y, strictness=5).execute(), axis=1)"
   ]
  },
  {
   "cell_type": "code",
   "execution_count": 6,
   "metadata": {},
   "outputs": [
    {
     "data": {
      "text/html": [
       "<div>\n",
       "<style scoped>\n",
       "    .dataframe tbody tr th:only-of-type {\n",
       "        vertical-align: middle;\n",
       "    }\n",
       "\n",
       "    .dataframe tbody tr th {\n",
       "        vertical-align: top;\n",
       "    }\n",
       "\n",
       "    .dataframe thead th {\n",
       "        text-align: right;\n",
       "    }\n",
       "</style>\n",
       "<table border=\"1\" class=\"dataframe\">\n",
       "  <thead>\n",
       "    <tr style=\"text-align: right;\">\n",
       "      <th></th>\n",
       "      <th>49</th>\n",
       "      <th>10</th>\n",
       "      <th>48</th>\n",
       "    </tr>\n",
       "  </thead>\n",
       "  <tbody>\n",
       "    <tr>\n",
       "      <th>smiles1</th>\n",
       "      <td>C[C@]12C[C@H](O)[C@H]3[C@@H](CCC4=CC(=O)CC[C@@...</td>\n",
       "      <td>C[C@]12C[C@H](O)[C@H]3[C@@H](CCC4=CC(=O)CC[C@@...</td>\n",
       "      <td>C[C@]12C[C@H](O)[C@H]3[C@@H](CCC4=CC(=O)CC[C@@...</td>\n",
       "    </tr>\n",
       "    <tr>\n",
       "      <th>smiles2</th>\n",
       "      <td>CCCC1OC2CC3C4CCC5=CC(=O)C=CC5(C)C4C(O)CC3(C)C2...</td>\n",
       "      <td>C[C@]12C[C@H](O)[C@H]3[C@@H](CCC4=CC(=O)C=C[C@...</td>\n",
       "      <td>CCCC1OC2CC3C4CCC5=CC(=O)C=CC5(C)C4C(O)CC3(C)C2...</td>\n",
       "    </tr>\n",
       "    <tr>\n",
       "      <th>percentmcs</th>\n",
       "      <td>0.4</td>\n",
       "      <td>0.933333</td>\n",
       "      <td>0.4</td>\n",
       "    </tr>\n",
       "    <tr>\n",
       "      <th>radius</th>\n",
       "      <td>2.0</td>\n",
       "      <td>2.0</td>\n",
       "      <td>3.0</td>\n",
       "    </tr>\n",
       "    <tr>\n",
       "      <th>valid</th>\n",
       "      <td>True</td>\n",
       "      <td>True</td>\n",
       "      <td>True</td>\n",
       "    </tr>\n",
       "    <tr>\n",
       "      <th>solversecs</th>\n",
       "      <td>3.160189</td>\n",
       "      <td>8.791155</td>\n",
       "      <td>3.160189</td>\n",
       "    </tr>\n",
       "    <tr>\n",
       "      <th>embedding</th>\n",
       "      <td>[0, 0, 0, 0, 3, 92, 126, 96, 39, 33, 4, 0, 0, ...</td>\n",
       "      <td>[0, 0, 0, 0, 2, 80, 71, 81, 48, 65, 13, 0, 0, ...</td>\n",
       "      <td>[0, 0, 0, 0, 3, 92, 126, 96, 39, 33, 4, 0, 0, ...</td>\n",
       "    </tr>\n",
       "    <tr>\n",
       "      <th>predsolversecs</th>\n",
       "      <td>2.350856</td>\n",
       "      <td>2.827687</td>\n",
       "      <td>2.350856</td>\n",
       "    </tr>\n",
       "    <tr>\n",
       "      <th>error</th>\n",
       "      <td>None</td>\n",
       "      <td>None</td>\n",
       "      <td>None</td>\n",
       "    </tr>\n",
       "    <tr>\n",
       "      <th>smirks</th>\n",
       "      <td>[H]-[#8]-[#6:1](-[H])(-[H])-[#6:2](=[#8:3])-[#...</td>\n",
       "      <td>[H]-[#6:1]1=[#6:2]-[#6@:3](-[#6@@:4])(-[#6:5](...</td>\n",
       "      <td>[H]-[#8]-[#6:1](-[H])(-[H])-[#6:2](=[#8:3])-[#...</td>\n",
       "    </tr>\n",
       "    <tr>\n",
       "      <th>biproducts</th>\n",
       "      <td>0.0</td>\n",
       "      <td>0.0</td>\n",
       "      <td>0.0</td>\n",
       "    </tr>\n",
       "    <tr>\n",
       "      <th>fragment1</th>\n",
       "      <td>[H]OC([H])([H])C(=O)[C@@]1(O[H])C([H])([H])C([...</td>\n",
       "      <td>[H]C1=C[C@](C)(C([H])([H])[H])C([H])([H])C([H]...</td>\n",
       "      <td>[H]OC([H])([H])C(=O)[C@@]1(O[H])C([H])([H])C([...</td>\n",
       "    </tr>\n",
       "    <tr>\n",
       "      <th>fragment2</th>\n",
       "      <td>[H]OC(=O)C12OC([H])(C([H])([H])C([H])([H])C([H...</td>\n",
       "      <td>[H]C1=C[C@](C)(C([H])([H])[H])C([H])=C([H])C1=O</td>\n",
       "      <td>[H]OC(=O)C12OC([H])(C([H])([H])C([H])([H])C([H...</td>\n",
       "    </tr>\n",
       "  </tbody>\n",
       "</table>\n",
       "</div>"
      ],
      "text/plain": [
       "                                                               49  \\\n",
       "smiles1         C[C@]12C[C@H](O)[C@H]3[C@@H](CCC4=CC(=O)CC[C@@...   \n",
       "smiles2         CCCC1OC2CC3C4CCC5=CC(=O)C=CC5(C)C4C(O)CC3(C)C2...   \n",
       "percentmcs                                                    0.4   \n",
       "radius                                                        2.0   \n",
       "valid                                                        True   \n",
       "solversecs                                               3.160189   \n",
       "embedding       [0, 0, 0, 0, 3, 92, 126, 96, 39, 33, 4, 0, 0, ...   \n",
       "predsolversecs                                           2.350856   \n",
       "error                                                        None   \n",
       "smirks          [H]-[#8]-[#6:1](-[H])(-[H])-[#6:2](=[#8:3])-[#...   \n",
       "biproducts                                                    0.0   \n",
       "fragment1       [H]OC([H])([H])C(=O)[C@@]1(O[H])C([H])([H])C([...   \n",
       "fragment2       [H]OC(=O)C12OC([H])(C([H])([H])C([H])([H])C([H...   \n",
       "\n",
       "                                                               10  \\\n",
       "smiles1         C[C@]12C[C@H](O)[C@H]3[C@@H](CCC4=CC(=O)CC[C@@...   \n",
       "smiles2         C[C@]12C[C@H](O)[C@H]3[C@@H](CCC4=CC(=O)C=C[C@...   \n",
       "percentmcs                                               0.933333   \n",
       "radius                                                        2.0   \n",
       "valid                                                        True   \n",
       "solversecs                                               8.791155   \n",
       "embedding       [0, 0, 0, 0, 2, 80, 71, 81, 48, 65, 13, 0, 0, ...   \n",
       "predsolversecs                                           2.827687   \n",
       "error                                                        None   \n",
       "smirks          [H]-[#6:1]1=[#6:2]-[#6@:3](-[#6@@:4])(-[#6:5](...   \n",
       "biproducts                                                    0.0   \n",
       "fragment1       [H]C1=C[C@](C)(C([H])([H])[H])C([H])([H])C([H]...   \n",
       "fragment2         [H]C1=C[C@](C)(C([H])([H])[H])C([H])=C([H])C1=O   \n",
       "\n",
       "                                                               48  \n",
       "smiles1         C[C@]12C[C@H](O)[C@H]3[C@@H](CCC4=CC(=O)CC[C@@...  \n",
       "smiles2         CCCC1OC2CC3C4CCC5=CC(=O)C=CC5(C)C4C(O)CC3(C)C2...  \n",
       "percentmcs                                                    0.4  \n",
       "radius                                                        3.0  \n",
       "valid                                                        True  \n",
       "solversecs                                               3.160189  \n",
       "embedding       [0, 0, 0, 0, 3, 92, 126, 96, 39, 33, 4, 0, 0, ...  \n",
       "predsolversecs                                           2.350856  \n",
       "error                                                        None  \n",
       "smirks          [H]-[#8]-[#6:1](-[H])(-[H])-[#6:2](=[#8:3])-[#...  \n",
       "biproducts                                                    0.0  \n",
       "fragment1       [H]OC([H])([H])C(=O)[C@@]1(O[H])C([H])([H])C([...  \n",
       "fragment2       [H]OC(=O)C12OC([H])(C([H])([H])C([H])([H])C([H...  "
      ]
     },
     "execution_count": 6,
     "metadata": {},
     "output_type": "execute_result"
    }
   ],
   "source": [
    "df_pairs = pd.json_normalize(df_pairs.explode())\n",
    "df_pairs.sample(3).transpose()"
   ]
  },
  {
   "cell_type": "markdown",
   "metadata": {},
   "source": [
    "### Drop failures and write output to file"
   ]
  },
  {
   "cell_type": "code",
   "execution_count": 7,
   "metadata": {},
   "outputs": [],
   "source": [
    "df_pairs = df_pairs[df_pairs.valid]\n",
    "df_pairs.to_csv('nr3c1_agonists_pairs.csv', index=False)"
   ]
  },
  {
   "cell_type": "code",
   "execution_count": null,
   "metadata": {},
   "outputs": [],
   "source": []
  }
 ],
 "metadata": {
  "kernelspec": {
   "display_name": "Python 3 (ipykernel)",
   "language": "python",
   "name": "python3"
  },
  "language_info": {
   "codemirror_mode": {
    "name": "ipython",
    "version": 3
   },
   "file_extension": ".py",
   "mimetype": "text/x-python",
   "name": "python",
   "nbconvert_exporter": "python",
   "pygments_lexer": "ipython3",
   "version": "3.7.0"
  }
 },
 "nbformat": 4,
 "nbformat_minor": 4
}
