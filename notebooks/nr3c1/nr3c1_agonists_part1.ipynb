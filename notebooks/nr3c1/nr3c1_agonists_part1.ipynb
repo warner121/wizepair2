{
 "cells": [
  {
   "cell_type": "markdown",
   "metadata": {},
   "source": [
    "## Glucocorticoid receptor - part 1 (dataset preparation)"
   ]
  },
  {
   "cell_type": "markdown",
   "metadata": {},
   "source": [
    "### Import libraries"
   ]
  },
  {
   "cell_type": "code",
   "execution_count": 1,
   "metadata": {},
   "outputs": [],
   "source": [
    "import requests\n",
    "import json\n",
    "import pandas as pd"
   ]
  },
  {
   "cell_type": "code",
   "execution_count": 2,
   "metadata": {},
   "outputs": [
    {
     "name": "stdout",
     "output_type": "stream",
     "text": [
      "INFO: Pandarallel will run on 12 workers.\n",
      "INFO: Pandarallel will use Memory file system to transfer data between the main process and workers.\n"
     ]
    }
   ],
   "source": [
    "from pandarallel import pandarallel\n",
    "pandarallel.initialize(progress_bar=True)\n",
    "\n",
    "import sys\n",
    "sys.path.append('/home/daniel/wizepair2')\n",
    "from mmpa.chem import strip_salts, strip_stereo"
   ]
  },
  {
   "cell_type": "markdown",
   "metadata": {},
   "source": [
    "### Define POST request and download (40% similarity to PREDNISOLONE)"
   ]
  },
  {
   "cell_type": "code",
   "execution_count": 3,
   "metadata": {},
   "outputs": [
    {
     "data": {
      "text/plain": [
       "<Response [200]>"
      ]
     },
     "execution_count": 3,
     "metadata": {},
     "output_type": "execute_result"
    }
   ],
   "source": [
    "url = \"https://www.ebi.ac.uk/chembl/elk/es/chembl_activity/_search\"\n",
    "headers = {'Content-Type': 'application/json'}\n",
    "with open('nr3c1_agonists.chembl') as f:\n",
    "    payload = f.read()\n",
    "response = requests.post(url, headers=headers, data=payload)\n",
    "response"
   ]
  },
  {
   "cell_type": "markdown",
   "metadata": {},
   "source": [
    "### Load results into a pandas data frame"
   ]
  },
  {
   "cell_type": "code",
   "execution_count": 4,
   "metadata": {},
   "outputs": [
    {
     "data": {
      "text/html": [
       "<div>\n",
       "<style scoped>\n",
       "    .dataframe tbody tr th:only-of-type {\n",
       "        vertical-align: middle;\n",
       "    }\n",
       "\n",
       "    .dataframe tbody tr th {\n",
       "        vertical-align: top;\n",
       "    }\n",
       "\n",
       "    .dataframe thead th {\n",
       "        text-align: right;\n",
       "    }\n",
       "</style>\n",
       "<table border=\"1\" class=\"dataframe\">\n",
       "  <thead>\n",
       "    <tr style=\"text-align: right;\">\n",
       "      <th></th>\n",
       "      <th>activity_properties</th>\n",
       "      <th>standard_units</th>\n",
       "      <th>standard_type</th>\n",
       "      <th>standard_relation</th>\n",
       "      <th>data_validity_comment</th>\n",
       "      <th>target_pref_name</th>\n",
       "      <th>activity_comment</th>\n",
       "      <th>bao_label</th>\n",
       "      <th>pchembl_value</th>\n",
       "      <th>assay_chembl_id</th>\n",
       "      <th>...</th>\n",
       "      <th>_metadata.assay_data.cell_chembl_id</th>\n",
       "      <th>_metadata.assay_data.assay_organism</th>\n",
       "      <th>_metadata.assay_data.tissue_chembl_id</th>\n",
       "      <th>_metadata.assay_data.assay_parameters</th>\n",
       "      <th>_metadata.assay_data.assay_tissue</th>\n",
       "      <th>_metadata.source.src_description</th>\n",
       "      <th>ligand_efficiency.lle</th>\n",
       "      <th>ligand_efficiency.sei</th>\n",
       "      <th>ligand_efficiency.bei</th>\n",
       "      <th>ligand_efficiency.le</th>\n",
       "    </tr>\n",
       "  </thead>\n",
       "  <tbody>\n",
       "    <tr>\n",
       "      <th>834</th>\n",
       "      <td>[]</td>\n",
       "      <td>nM</td>\n",
       "      <td>Ki</td>\n",
       "      <td>=</td>\n",
       "      <td>None</td>\n",
       "      <td>Glucocorticoid receptor</td>\n",
       "      <td>None</td>\n",
       "      <td>assay format</td>\n",
       "      <td>8.28</td>\n",
       "      <td>CHEMBL1648865</td>\n",
       "      <td>...</td>\n",
       "      <td>None</td>\n",
       "      <td>None</td>\n",
       "      <td>None</td>\n",
       "      <td>[]</td>\n",
       "      <td>None</td>\n",
       "      <td>Scientific Literature</td>\n",
       "      <td>6.72</td>\n",
       "      <td>8.73</td>\n",
       "      <td>22.96</td>\n",
       "      <td>0.43</td>\n",
       "    </tr>\n",
       "    <tr>\n",
       "      <th>262</th>\n",
       "      <td>[]</td>\n",
       "      <td>nM</td>\n",
       "      <td>IC50</td>\n",
       "      <td>=</td>\n",
       "      <td>None</td>\n",
       "      <td>Plasmodium falciparum</td>\n",
       "      <td>None</td>\n",
       "      <td>organism-based format</td>\n",
       "      <td>5.40</td>\n",
       "      <td>CHEMBL1267251</td>\n",
       "      <td>...</td>\n",
       "      <td>None</td>\n",
       "      <td>Plasmodium falciparum</td>\n",
       "      <td>None</td>\n",
       "      <td>[]</td>\n",
       "      <td>None</td>\n",
       "      <td>Scientific Literature</td>\n",
       "      <td>NaN</td>\n",
       "      <td>NaN</td>\n",
       "      <td>NaN</td>\n",
       "      <td>NaN</td>\n",
       "    </tr>\n",
       "    <tr>\n",
       "      <th>137</th>\n",
       "      <td>[]</td>\n",
       "      <td>nM</td>\n",
       "      <td>Ki</td>\n",
       "      <td>=</td>\n",
       "      <td>None</td>\n",
       "      <td>Cytochrome P450 19A1</td>\n",
       "      <td>None</td>\n",
       "      <td>assay format</td>\n",
       "      <td>6.16</td>\n",
       "      <td>CHEMBL663782</td>\n",
       "      <td>...</td>\n",
       "      <td>None</td>\n",
       "      <td>Homo sapiens</td>\n",
       "      <td>None</td>\n",
       "      <td>[]</td>\n",
       "      <td>None</td>\n",
       "      <td>Scientific Literature</td>\n",
       "      <td>1.48</td>\n",
       "      <td>36.09</td>\n",
       "      <td>22.78</td>\n",
       "      <td>0.42</td>\n",
       "    </tr>\n",
       "  </tbody>\n",
       "</table>\n",
       "<p>3 rows × 46 columns</p>\n",
       "</div>"
      ],
      "text/plain": [
       "    activity_properties standard_units standard_type standard_relation  \\\n",
       "834                  []             nM            Ki                 =   \n",
       "262                  []             nM          IC50                 =   \n",
       "137                  []             nM            Ki                 =   \n",
       "\n",
       "    data_validity_comment         target_pref_name activity_comment  \\\n",
       "834                  None  Glucocorticoid receptor             None   \n",
       "262                  None    Plasmodium falciparum             None   \n",
       "137                  None     Cytochrome P450 19A1             None   \n",
       "\n",
       "                 bao_label pchembl_value assay_chembl_id  ...  \\\n",
       "834           assay format          8.28   CHEMBL1648865  ...   \n",
       "262  organism-based format          5.40   CHEMBL1267251  ...   \n",
       "137           assay format          6.16    CHEMBL663782  ...   \n",
       "\n",
       "    _metadata.assay_data.cell_chembl_id _metadata.assay_data.assay_organism  \\\n",
       "834                                None                                None   \n",
       "262                                None               Plasmodium falciparum   \n",
       "137                                None                        Homo sapiens   \n",
       "\n",
       "    _metadata.assay_data.tissue_chembl_id  \\\n",
       "834                                  None   \n",
       "262                                  None   \n",
       "137                                  None   \n",
       "\n",
       "     _metadata.assay_data.assay_parameters _metadata.assay_data.assay_tissue  \\\n",
       "834                                     []                              None   \n",
       "262                                     []                              None   \n",
       "137                                     []                              None   \n",
       "\n",
       "    _metadata.source.src_description ligand_efficiency.lle  \\\n",
       "834            Scientific Literature                  6.72   \n",
       "262            Scientific Literature                   NaN   \n",
       "137            Scientific Literature                  1.48   \n",
       "\n",
       "     ligand_efficiency.sei  ligand_efficiency.bei ligand_efficiency.le  \n",
       "834                   8.73                  22.96                 0.43  \n",
       "262                    NaN                    NaN                  NaN  \n",
       "137                  36.09                  22.78                 0.42  \n",
       "\n",
       "[3 rows x 46 columns]"
      ]
     },
     "execution_count": 4,
     "metadata": {},
     "output_type": "execute_result"
    }
   ],
   "source": [
    "df = json.loads(response.text)['hits']['hits']\n",
    "df = pd.DataFrame(df)._source\n",
    "df = pd.json_normalize(df)\n",
    "df.sample(3)"
   ]
  },
  {
   "cell_type": "markdown",
   "metadata": {},
   "source": [
    "### Summarise the most common molecules."
   ]
  },
  {
   "cell_type": "code",
   "execution_count": 5,
   "metadata": {},
   "outputs": [
    {
     "data": {
      "text/plain": [
       "molecule_chembl_id  _metadata.parent_molecule_data.compound_key\n",
       "CHEMBL384467        Dexamethasone                                  79\n",
       "CHEMBL131           Prednisolone                                   46\n",
       "CHEMBL384467        dexamethasone                                  36\n",
       "CHEMBL131           prednisolone                                   27\n",
       "CHEMBL384467        Dex                                            21\n",
       "CHEMBL131           1                                              19\n",
       "CHEMBL1370          Budesonide                                     18\n",
       "CHEMBL384467        1                                              18\n",
       "CHEMBL389621        Hydrocortisone                                 18\n",
       "CHEMBL110739        Corticosterone                                 17\n",
       "dtype: int64"
      ]
     },
     "execution_count": 5,
     "metadata": {},
     "output_type": "execute_result"
    }
   ],
   "source": [
    "df[['molecule_chembl_id', '_metadata.parent_molecule_data.compound_key']].value_counts()[0:10]"
   ]
  },
  {
   "cell_type": "markdown",
   "metadata": {},
   "source": [
    "### Summarise the most common targets."
   ]
  },
  {
   "cell_type": "code",
   "execution_count": 6,
   "metadata": {},
   "outputs": [
    {
     "data": {
      "text/plain": [
       "assay_chembl_id  target_pref_name                                                       bao_label              standard_type  standard_units\n",
       "CHEMBL1614456    Hypoxia-inducible factor 1 alpha                                       assay format           Potency        nM                35\n",
       "CHEMBL1613803    Hypoxia-inducible factor 1 alpha                                       assay format           Potency        nM                35\n",
       "CHEMBL1614108    Cytochrome P450 3A4                                                    single protein format  Potency        nM                26\n",
       "CHEMBL1942833    Glucocorticoid receptor                                                cell-based format      IC50           nM                26\n",
       "CHEMBL1613886    Cytochrome P450 3A4                                                    single protein format  Potency        nM                26\n",
       "CHEMBL2025282    Glucocorticoid receptor                                                cell-based format      IC50           nM                20\n",
       "CHEMBL1614544    Prelamin-A/C                                                           assay format           Potency        nM                19\n",
       "CHEMBL1613910    Endoplasmic reticulum-associated amyloid beta-peptide-binding protein  assay format           Potency        nM                19\n",
       "CHEMBL1613836    microRNA 21                                                            assay format           Potency        nM                17\n",
       "CHEMBL1614146    microRNA 21                                                            assay format           Potency        nM                17\n",
       "dtype: int64"
      ]
     },
     "execution_count": 6,
     "metadata": {},
     "output_type": "execute_result"
    }
   ],
   "source": [
    "df[['assay_chembl_id', 'target_pref_name', 'bao_label', 'standard_type', 'standard_units']].value_counts()[0:10]"
   ]
  },
  {
   "cell_type": "markdown",
   "metadata": {},
   "source": [
    "### Consider logD measurements to be pchembl values"
   ]
  },
  {
   "cell_type": "code",
   "execution_count": 7,
   "metadata": {},
   "outputs": [],
   "source": [
    "df['pchembl_value'] = df.apply(lambda x: x['standard_value'] if x['standard_type'] == 'LogD' else x['pchembl_value'], axis=1)"
   ]
  },
  {
   "cell_type": "markdown",
   "metadata": {},
   "source": [
    "### Strip salts from the molecular structures."
   ]
  },
  {
   "cell_type": "code",
   "execution_count": 8,
   "metadata": {},
   "outputs": [
    {
     "data": {
      "application/vnd.jupyter.widget-view+json": {
       "model_id": "b98c3ef3658843e88c170a1562720879",
       "version_major": 2,
       "version_minor": 0
      },
      "text/plain": [
       "VBox(children=(HBox(children=(IntProgress(value=0, description='0.00%', max=97), Label(value='0 / 97'))), HBox…"
      ]
     },
     "metadata": {},
     "output_type": "display_data"
    },
    {
     "data": {
      "text/plain": [
       "178"
      ]
     },
     "execution_count": 8,
     "metadata": {},
     "output_type": "execute_result"
    }
   ],
   "source": [
    "df['stripped_smiles'] = df.canonical_smiles.parallel_apply(strip_salts)\n",
    "df = df[df.stripped_smiles.notna()]\n",
    "df.stripped_smiles.unique().size"
   ]
  },
  {
   "cell_type": "markdown",
   "metadata": {},
   "source": [
    "### Split training from test set and save"
   ]
  },
  {
   "cell_type": "code",
   "execution_count": 9,
   "metadata": {},
   "outputs": [],
   "source": [
    "df['achiral_smiles'] = df.stripped_smiles.apply(strip_stereo)\n",
    "training = ~df['achiral_smiles'].isin(['CCCC1OC2CC3C4CCC5=CC(=O)C=CC5(C)C4C(O)CC3(C)C2(C(=O)CO)O1'])"
   ]
  },
  {
   "cell_type": "code",
   "execution_count": 10,
   "metadata": {},
   "outputs": [],
   "source": [
    "df[training].to_csv('nr3c1_agonists_stripped.csv', index=False)\n",
    "df[~training].to_csv('nr3c1_agonists_stripped_holdout.csv', index=False)"
   ]
  },
  {
   "cell_type": "code",
   "execution_count": null,
   "metadata": {},
   "outputs": [],
   "source": []
  }
 ],
 "metadata": {
  "kernelspec": {
   "display_name": "Python 3",
   "language": "python",
   "name": "python3"
  },
  "language_info": {
   "codemirror_mode": {
    "name": "ipython",
    "version": 3
   },
   "file_extension": ".py",
   "mimetype": "text/x-python",
   "name": "python",
   "nbconvert_exporter": "python",
   "pygments_lexer": "ipython3",
   "version": "3.6.10"
  }
 },
 "nbformat": 4,
 "nbformat_minor": 4
}
