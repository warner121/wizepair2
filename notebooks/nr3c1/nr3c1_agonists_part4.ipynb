{
 "cells": [
  {
   "cell_type": "markdown",
   "metadata": {},
   "source": [
    "## Glucocorticoid receptor - part 4 (library enumeration)"
   ]
  },
  {
   "cell_type": "markdown",
   "metadata": {},
   "source": [
    "### Import libraries"
   ]
  },
  {
   "cell_type": "code",
   "execution_count": 1,
   "metadata": {},
   "outputs": [
    {
     "name": "stdout",
     "output_type": "stream",
     "text": [
      "INFO: Pandarallel will run on 12 workers.\n",
      "INFO: Pandarallel will use Memory file system to transfer data between the main process and workers.\n"
     ]
    }
   ],
   "source": [
    "import pandas as pd\n",
    "\n",
    "from pandarallel import pandarallel\n",
    "pandarallel.initialize(progress_bar=True, nb_workers=12)\n",
    "\n",
    "import sys\n",
    "sys.path.append('/home/daniel/wizepair2')\n",
    "from mmpa.chem import strip_stereo\n",
    "from mmpa.mmp import Reactor\n",
    "\n",
    "from rdkit import Chem"
   ]
  },
  {
   "cell_type": "markdown",
   "metadata": {},
   "source": [
    "### Read in the datasets"
   ]
  },
  {
   "cell_type": "code",
   "execution_count": 2,
   "metadata": {},
   "outputs": [],
   "source": [
    "df = pd.read_csv('nr3c1_agonists_stripped.csv')\n",
    "df_trans = pd.read_csv('nr3c1_agonists_transformations.csv')\n",
    "df_holdout = pd.read_csv('nr3c1_agonists_stripped_holdout.csv')"
   ]
  },
  {
   "cell_type": "markdown",
   "metadata": {},
   "source": [
    "### Take cortisol as only seed"
   ]
  },
  {
   "cell_type": "code",
   "execution_count": 3,
   "metadata": {},
   "outputs": [],
   "source": [
    "#df = df[df.stripped_smiles=='CCCC1OC2CC3C4CCC5=CC(=O)C=CC5(C)C4C(O)CC3(C)C2(C(=O)O)O1']\n",
    "#df = df[df.stripped_smiles=='C[C@]12C[C@H](O)[C@H]3[C@@H](CCC4=CC(=O)C=C[C@@]43C)[C@@H]1CC[C@]2(O)C(=O)O']\n",
    "#df = df[df.stripped_smiles=='C[C@]12C[C@H](O)[C@H]3[C@@H](CCC4=CC(=O)C=C[C@@]43C)[C@@H]1CC[C@]2(O)C(=O)CO']\n",
    "df = df[df.stripped_smiles=='C[C@]12C[C@H](O)[C@H]3[C@@H](CCC4=CC(=O)CC[C@@]43C)[C@@H]1CC[C@]2(O)C(=O)CO']"
   ]
  },
  {
   "cell_type": "markdown",
   "metadata": {},
   "source": [
    "### Merge on assay identifier to enumerate all seed molecule / transformation pairs"
   ]
  },
  {
   "cell_type": "code",
   "execution_count": 4,
   "metadata": {},
   "outputs": [],
   "source": [
    "#df = df[pd.notna(df.pchembl_value)]"
   ]
  },
  {
   "cell_type": "code",
   "execution_count": 5,
   "metadata": {},
   "outputs": [
    {
     "data": {
      "text/html": [
       "<div>\n",
       "<style scoped>\n",
       "    .dataframe tbody tr th:only-of-type {\n",
       "        vertical-align: middle;\n",
       "    }\n",
       "\n",
       "    .dataframe tbody tr th {\n",
       "        vertical-align: top;\n",
       "    }\n",
       "\n",
       "    .dataframe thead th {\n",
       "        text-align: right;\n",
       "    }\n",
       "</style>\n",
       "<table border=\"1\" class=\"dataframe\">\n",
       "  <thead>\n",
       "    <tr style=\"text-align: right;\">\n",
       "      <th></th>\n",
       "      <th>activity_properties</th>\n",
       "      <th>standard_units</th>\n",
       "      <th>standard_type</th>\n",
       "      <th>standard_relation</th>\n",
       "      <th>data_validity_comment</th>\n",
       "      <th>activity_comment</th>\n",
       "      <th>target_pref_name</th>\n",
       "      <th>bao_label</th>\n",
       "      <th>pchembl_value</th>\n",
       "      <th>assay_chembl_id</th>\n",
       "      <th>...</th>\n",
       "      <th>_metadata.assay_data.tissue_chembl_id</th>\n",
       "      <th>_metadata.assay_data.assay_parameters</th>\n",
       "      <th>_metadata.assay_data.assay_tissue</th>\n",
       "      <th>_metadata.source.src_description</th>\n",
       "      <th>ligand_efficiency.lle</th>\n",
       "      <th>ligand_efficiency.sei</th>\n",
       "      <th>ligand_efficiency.bei</th>\n",
       "      <th>ligand_efficiency.le</th>\n",
       "      <th>stripped_smiles</th>\n",
       "      <th>achiral_smiles</th>\n",
       "    </tr>\n",
       "  </thead>\n",
       "  <tbody>\n",
       "    <tr>\n",
       "      <th>10</th>\n",
       "      <td>[]</td>\n",
       "      <td>NaN</td>\n",
       "      <td>logFu</td>\n",
       "      <td>=</td>\n",
       "      <td>NaN</td>\n",
       "      <td>NaN</td>\n",
       "      <td>Plasma</td>\n",
       "      <td>cell-free format</td>\n",
       "      <td>NaN</td>\n",
       "      <td>CHEMBL1100461</td>\n",
       "      <td>...</td>\n",
       "      <td>CHEMBL3559721</td>\n",
       "      <td>[]</td>\n",
       "      <td>Plasma</td>\n",
       "      <td>Scientific Literature</td>\n",
       "      <td>NaN</td>\n",
       "      <td>NaN</td>\n",
       "      <td>NaN</td>\n",
       "      <td>NaN</td>\n",
       "      <td>C[C@]12C[C@H](O)[C@H]3[C@@H](CCC4=CC(=O)CC[C@@...</td>\n",
       "      <td>CC12CCC(=O)C=C1CCC1C2C(O)CC2(C)C1CCC2(O)C(=O)CO</td>\n",
       "    </tr>\n",
       "    <tr>\n",
       "      <th>11</th>\n",
       "      <td>[]</td>\n",
       "      <td>nM</td>\n",
       "      <td>IC50</td>\n",
       "      <td>&gt;</td>\n",
       "      <td>NaN</td>\n",
       "      <td>NaN</td>\n",
       "      <td>Cytochrome P450 3A4</td>\n",
       "      <td>single protein format</td>\n",
       "      <td>NaN</td>\n",
       "      <td>CHEMBL664809</td>\n",
       "      <td>...</td>\n",
       "      <td>NaN</td>\n",
       "      <td>[]</td>\n",
       "      <td>NaN</td>\n",
       "      <td>Scientific Literature</td>\n",
       "      <td>NaN</td>\n",
       "      <td>NaN</td>\n",
       "      <td>NaN</td>\n",
       "      <td>NaN</td>\n",
       "      <td>C[C@]12C[C@H](O)[C@H]3[C@@H](CCC4=CC(=O)CC[C@@...</td>\n",
       "      <td>CC12CCC(=O)C=C1CCC1C2C(O)CC2(C)C1CCC2(O)C(=O)CO</td>\n",
       "    </tr>\n",
       "    <tr>\n",
       "      <th>12</th>\n",
       "      <td>[]</td>\n",
       "      <td>NaN</td>\n",
       "      <td>Ki</td>\n",
       "      <td>NaN</td>\n",
       "      <td>NaN</td>\n",
       "      <td>Not Active (inhibition &lt; 50% @ 10 uM and thus ...</td>\n",
       "      <td>Cytochrome P450 1A2</td>\n",
       "      <td>cell-based format</td>\n",
       "      <td>NaN</td>\n",
       "      <td>CHEMBL1909132</td>\n",
       "      <td>...</td>\n",
       "      <td>NaN</td>\n",
       "      <td>[]</td>\n",
       "      <td>NaN</td>\n",
       "      <td>DrugMatrix</td>\n",
       "      <td>NaN</td>\n",
       "      <td>NaN</td>\n",
       "      <td>NaN</td>\n",
       "      <td>NaN</td>\n",
       "      <td>C[C@]12C[C@H](O)[C@H]3[C@@H](CCC4=CC(=O)CC[C@@...</td>\n",
       "      <td>CC12CCC(=O)C=C1CCC1C2C(O)CC2(C)C1CCC2(O)C(=O)CO</td>\n",
       "    </tr>\n",
       "    <tr>\n",
       "      <th>13</th>\n",
       "      <td>[]</td>\n",
       "      <td>NaN</td>\n",
       "      <td>IC50</td>\n",
       "      <td>NaN</td>\n",
       "      <td>NaN</td>\n",
       "      <td>Not Active (inhibition &lt; 50% @ 10 uM and thus ...</td>\n",
       "      <td>Unchecked</td>\n",
       "      <td>cell membrane format</td>\n",
       "      <td>NaN</td>\n",
       "      <td>CHEMBL1909154</td>\n",
       "      <td>...</td>\n",
       "      <td>CHEMBL3559724</td>\n",
       "      <td>[]</td>\n",
       "      <td>Cerebral cortex</td>\n",
       "      <td>DrugMatrix</td>\n",
       "      <td>NaN</td>\n",
       "      <td>NaN</td>\n",
       "      <td>NaN</td>\n",
       "      <td>NaN</td>\n",
       "      <td>C[C@]12C[C@H](O)[C@H]3[C@@H](CCC4=CC(=O)CC[C@@...</td>\n",
       "      <td>CC12CCC(=O)C=C1CCC1C2C(O)CC2(C)C1CCC2(O)C(=O)CO</td>\n",
       "    </tr>\n",
       "    <tr>\n",
       "      <th>14</th>\n",
       "      <td>[]</td>\n",
       "      <td>NaN</td>\n",
       "      <td>Ki</td>\n",
       "      <td>NaN</td>\n",
       "      <td>NaN</td>\n",
       "      <td>Not Active (inhibition &lt; 50% @ 10 uM and thus ...</td>\n",
       "      <td>Alpha-1a adrenergic receptor</td>\n",
       "      <td>cell membrane format</td>\n",
       "      <td>NaN</td>\n",
       "      <td>CHEMBL1909085</td>\n",
       "      <td>...</td>\n",
       "      <td>CHEMBL3987361</td>\n",
       "      <td>[]</td>\n",
       "      <td>Submaxillary gland</td>\n",
       "      <td>DrugMatrix</td>\n",
       "      <td>NaN</td>\n",
       "      <td>NaN</td>\n",
       "      <td>NaN</td>\n",
       "      <td>NaN</td>\n",
       "      <td>C[C@]12C[C@H](O)[C@H]3[C@@H](CCC4=CC(=O)CC[C@@...</td>\n",
       "      <td>CC12CCC(=O)C=C1CCC1C2C(O)CC2(C)C1CCC2(O)C(=O)CO</td>\n",
       "    </tr>\n",
       "    <tr>\n",
       "      <th>...</th>\n",
       "      <td>...</td>\n",
       "      <td>...</td>\n",
       "      <td>...</td>\n",
       "      <td>...</td>\n",
       "      <td>...</td>\n",
       "      <td>...</td>\n",
       "      <td>...</td>\n",
       "      <td>...</td>\n",
       "      <td>...</td>\n",
       "      <td>...</td>\n",
       "      <td>...</td>\n",
       "      <td>...</td>\n",
       "      <td>...</td>\n",
       "      <td>...</td>\n",
       "      <td>...</td>\n",
       "      <td>...</td>\n",
       "      <td>...</td>\n",
       "      <td>...</td>\n",
       "      <td>...</td>\n",
       "      <td>...</td>\n",
       "      <td>...</td>\n",
       "    </tr>\n",
       "    <tr>\n",
       "      <th>2626</th>\n",
       "      <td>[{'text_value': 'HEPATOCYTE, CENTRILOBULAR, HY...</td>\n",
       "      <td>NaN</td>\n",
       "      <td>Tissue Severity Score</td>\n",
       "      <td>NaN</td>\n",
       "      <td>NaN</td>\n",
       "      <td>See Activity_Supp For Individual Animal Data</td>\n",
       "      <td>Rattus norvegicus</td>\n",
       "      <td>organism-based format</td>\n",
       "      <td>NaN</td>\n",
       "      <td>CHEMBL3885882</td>\n",
       "      <td>...</td>\n",
       "      <td>NaN</td>\n",
       "      <td>[{'comments': None, 'standard_units': None, 's...</td>\n",
       "      <td>NaN</td>\n",
       "      <td>DrugMatrix</td>\n",
       "      <td>NaN</td>\n",
       "      <td>NaN</td>\n",
       "      <td>NaN</td>\n",
       "      <td>NaN</td>\n",
       "      <td>C[C@]12C[C@H](O)[C@H]3[C@@H](CCC4=CC(=O)CC[C@@...</td>\n",
       "      <td>CC12CCC(=O)C=C1CCC1C2C(O)CC2(C)C1CCC2(O)C(=O)CO</td>\n",
       "    </tr>\n",
       "    <tr>\n",
       "      <th>2627</th>\n",
       "      <td>[{'text_value': 'HEPATOCYTE, DIFFUSE, HYPERTRO...</td>\n",
       "      <td>NaN</td>\n",
       "      <td>Tissue Severity Score</td>\n",
       "      <td>NaN</td>\n",
       "      <td>NaN</td>\n",
       "      <td>See Activity_Supp For Individual Animal Data</td>\n",
       "      <td>Rattus norvegicus</td>\n",
       "      <td>organism-based format</td>\n",
       "      <td>NaN</td>\n",
       "      <td>CHEMBL3885882</td>\n",
       "      <td>...</td>\n",
       "      <td>NaN</td>\n",
       "      <td>[{'comments': None, 'standard_units': None, 's...</td>\n",
       "      <td>NaN</td>\n",
       "      <td>DrugMatrix</td>\n",
       "      <td>NaN</td>\n",
       "      <td>NaN</td>\n",
       "      <td>NaN</td>\n",
       "      <td>NaN</td>\n",
       "      <td>C[C@]12C[C@H](O)[C@H]3[C@@H](CCC4=CC(=O)CC[C@@...</td>\n",
       "      <td>CC12CCC(=O)C=C1CCC1C2C(O)CC2(C)C1CCC2(O)C(=O)CO</td>\n",
       "    </tr>\n",
       "    <tr>\n",
       "      <th>2628</th>\n",
       "      <td>[{'text_value': 'MALIGNANT LYMPHOMA', 'comment...</td>\n",
       "      <td>NaN</td>\n",
       "      <td>Tissue Severity Score</td>\n",
       "      <td>NaN</td>\n",
       "      <td>NaN</td>\n",
       "      <td>See Activity_Supp For Individual Animal Data</td>\n",
       "      <td>Rattus norvegicus</td>\n",
       "      <td>organism-based format</td>\n",
       "      <td>NaN</td>\n",
       "      <td>CHEMBL3885882</td>\n",
       "      <td>...</td>\n",
       "      <td>NaN</td>\n",
       "      <td>[{'comments': None, 'standard_units': None, 's...</td>\n",
       "      <td>NaN</td>\n",
       "      <td>DrugMatrix</td>\n",
       "      <td>NaN</td>\n",
       "      <td>NaN</td>\n",
       "      <td>NaN</td>\n",
       "      <td>NaN</td>\n",
       "      <td>C[C@]12C[C@H](O)[C@H]3[C@@H](CCC4=CC(=O)CC[C@@...</td>\n",
       "      <td>CC12CCC(=O)C=C1CCC1C2C(O)CC2(C)C1CCC2(O)C(=O)CO</td>\n",
       "    </tr>\n",
       "    <tr>\n",
       "      <th>2629</th>\n",
       "      <td>[]</td>\n",
       "      <td>%</td>\n",
       "      <td>Efficacy</td>\n",
       "      <td>=</td>\n",
       "      <td>NaN</td>\n",
       "      <td>NaN</td>\n",
       "      <td>Glucocorticoid receptor</td>\n",
       "      <td>cell-based format</td>\n",
       "      <td>NaN</td>\n",
       "      <td>CHEMBL4840202</td>\n",
       "      <td>...</td>\n",
       "      <td>NaN</td>\n",
       "      <td>[]</td>\n",
       "      <td>Pancreas</td>\n",
       "      <td>Scientific Literature</td>\n",
       "      <td>NaN</td>\n",
       "      <td>NaN</td>\n",
       "      <td>NaN</td>\n",
       "      <td>NaN</td>\n",
       "      <td>C[C@]12C[C@H](O)[C@H]3[C@@H](CCC4=CC(=O)CC[C@@...</td>\n",
       "      <td>CC12CCC(=O)C=C1CCC1C2C(O)CC2(C)C1CCC2(O)C(=O)CO</td>\n",
       "    </tr>\n",
       "    <tr>\n",
       "      <th>2834</th>\n",
       "      <td>NaN</td>\n",
       "      <td>NaN</td>\n",
       "      <td>_metadata.parent_molecule_data</td>\n",
       "      <td>=</td>\n",
       "      <td>NaN</td>\n",
       "      <td>NaN</td>\n",
       "      <td>alogp</td>\n",
       "      <td>NaN</td>\n",
       "      <td>1.78</td>\n",
       "      <td>NaN</td>\n",
       "      <td>...</td>\n",
       "      <td>NaN</td>\n",
       "      <td>NaN</td>\n",
       "      <td>NaN</td>\n",
       "      <td>NaN</td>\n",
       "      <td>NaN</td>\n",
       "      <td>NaN</td>\n",
       "      <td>NaN</td>\n",
       "      <td>NaN</td>\n",
       "      <td>C[C@]12C[C@H](O)[C@H]3[C@@H](CCC4=CC(=O)CC[C@@...</td>\n",
       "      <td>CC12CCC(=O)C=C1CCC1C2C(O)CC2(C)C1CCC2(O)C(=O)CO</td>\n",
       "    </tr>\n",
       "  </tbody>\n",
       "</table>\n",
       "<p>1378 rows × 48 columns</p>\n",
       "</div>"
      ],
      "text/plain": [
       "                                    activity_properties standard_units  \\\n",
       "10                                                   []            NaN   \n",
       "11                                                   []             nM   \n",
       "12                                                   []            NaN   \n",
       "13                                                   []            NaN   \n",
       "14                                                   []            NaN   \n",
       "...                                                 ...            ...   \n",
       "2626  [{'text_value': 'HEPATOCYTE, CENTRILOBULAR, HY...            NaN   \n",
       "2627  [{'text_value': 'HEPATOCYTE, DIFFUSE, HYPERTRO...            NaN   \n",
       "2628  [{'text_value': 'MALIGNANT LYMPHOMA', 'comment...            NaN   \n",
       "2629                                                 []              %   \n",
       "2834                                                NaN            NaN   \n",
       "\n",
       "                       standard_type standard_relation data_validity_comment  \\\n",
       "10                             logFu                 =                   NaN   \n",
       "11                              IC50                 >                   NaN   \n",
       "12                                Ki               NaN                   NaN   \n",
       "13                              IC50               NaN                   NaN   \n",
       "14                                Ki               NaN                   NaN   \n",
       "...                              ...               ...                   ...   \n",
       "2626           Tissue Severity Score               NaN                   NaN   \n",
       "2627           Tissue Severity Score               NaN                   NaN   \n",
       "2628           Tissue Severity Score               NaN                   NaN   \n",
       "2629                        Efficacy                 =                   NaN   \n",
       "2834  _metadata.parent_molecule_data                 =                   NaN   \n",
       "\n",
       "                                       activity_comment  \\\n",
       "10                                                  NaN   \n",
       "11                                                  NaN   \n",
       "12    Not Active (inhibition < 50% @ 10 uM and thus ...   \n",
       "13    Not Active (inhibition < 50% @ 10 uM and thus ...   \n",
       "14    Not Active (inhibition < 50% @ 10 uM and thus ...   \n",
       "...                                                 ...   \n",
       "2626       See Activity_Supp For Individual Animal Data   \n",
       "2627       See Activity_Supp For Individual Animal Data   \n",
       "2628       See Activity_Supp For Individual Animal Data   \n",
       "2629                                                NaN   \n",
       "2834                                                NaN   \n",
       "\n",
       "                  target_pref_name              bao_label  pchembl_value  \\\n",
       "10                          Plasma       cell-free format            NaN   \n",
       "11             Cytochrome P450 3A4  single protein format            NaN   \n",
       "12             Cytochrome P450 1A2      cell-based format            NaN   \n",
       "13                       Unchecked   cell membrane format            NaN   \n",
       "14    Alpha-1a adrenergic receptor   cell membrane format            NaN   \n",
       "...                            ...                    ...            ...   \n",
       "2626             Rattus norvegicus  organism-based format            NaN   \n",
       "2627             Rattus norvegicus  organism-based format            NaN   \n",
       "2628             Rattus norvegicus  organism-based format            NaN   \n",
       "2629       Glucocorticoid receptor      cell-based format            NaN   \n",
       "2834                         alogp                    NaN           1.78   \n",
       "\n",
       "     assay_chembl_id  ... _metadata.assay_data.tissue_chembl_id  \\\n",
       "10     CHEMBL1100461  ...                         CHEMBL3559721   \n",
       "11      CHEMBL664809  ...                                   NaN   \n",
       "12     CHEMBL1909132  ...                                   NaN   \n",
       "13     CHEMBL1909154  ...                         CHEMBL3559724   \n",
       "14     CHEMBL1909085  ...                         CHEMBL3987361   \n",
       "...              ...  ...                                   ...   \n",
       "2626   CHEMBL3885882  ...                                   NaN   \n",
       "2627   CHEMBL3885882  ...                                   NaN   \n",
       "2628   CHEMBL3885882  ...                                   NaN   \n",
       "2629   CHEMBL4840202  ...                                   NaN   \n",
       "2834             NaN  ...                                   NaN   \n",
       "\n",
       "                  _metadata.assay_data.assay_parameters  \\\n",
       "10                                                   []   \n",
       "11                                                   []   \n",
       "12                                                   []   \n",
       "13                                                   []   \n",
       "14                                                   []   \n",
       "...                                                 ...   \n",
       "2626  [{'comments': None, 'standard_units': None, 's...   \n",
       "2627  [{'comments': None, 'standard_units': None, 's...   \n",
       "2628  [{'comments': None, 'standard_units': None, 's...   \n",
       "2629                                                 []   \n",
       "2834                                                NaN   \n",
       "\n",
       "      _metadata.assay_data.assay_tissue _metadata.source.src_description  \\\n",
       "10                               Plasma            Scientific Literature   \n",
       "11                                  NaN            Scientific Literature   \n",
       "12                                  NaN                       DrugMatrix   \n",
       "13                      Cerebral cortex                       DrugMatrix   \n",
       "14                   Submaxillary gland                       DrugMatrix   \n",
       "...                                 ...                              ...   \n",
       "2626                                NaN                       DrugMatrix   \n",
       "2627                                NaN                       DrugMatrix   \n",
       "2628                                NaN                       DrugMatrix   \n",
       "2629                           Pancreas            Scientific Literature   \n",
       "2834                                NaN                              NaN   \n",
       "\n",
       "     ligand_efficiency.lle  ligand_efficiency.sei ligand_efficiency.bei  \\\n",
       "10                     NaN                    NaN                   NaN   \n",
       "11                     NaN                    NaN                   NaN   \n",
       "12                     NaN                    NaN                   NaN   \n",
       "13                     NaN                    NaN                   NaN   \n",
       "14                     NaN                    NaN                   NaN   \n",
       "...                    ...                    ...                   ...   \n",
       "2626                   NaN                    NaN                   NaN   \n",
       "2627                   NaN                    NaN                   NaN   \n",
       "2628                   NaN                    NaN                   NaN   \n",
       "2629                   NaN                    NaN                   NaN   \n",
       "2834                   NaN                    NaN                   NaN   \n",
       "\n",
       "      ligand_efficiency.le                                    stripped_smiles  \\\n",
       "10                     NaN  C[C@]12C[C@H](O)[C@H]3[C@@H](CCC4=CC(=O)CC[C@@...   \n",
       "11                     NaN  C[C@]12C[C@H](O)[C@H]3[C@@H](CCC4=CC(=O)CC[C@@...   \n",
       "12                     NaN  C[C@]12C[C@H](O)[C@H]3[C@@H](CCC4=CC(=O)CC[C@@...   \n",
       "13                     NaN  C[C@]12C[C@H](O)[C@H]3[C@@H](CCC4=CC(=O)CC[C@@...   \n",
       "14                     NaN  C[C@]12C[C@H](O)[C@H]3[C@@H](CCC4=CC(=O)CC[C@@...   \n",
       "...                    ...                                                ...   \n",
       "2626                   NaN  C[C@]12C[C@H](O)[C@H]3[C@@H](CCC4=CC(=O)CC[C@@...   \n",
       "2627                   NaN  C[C@]12C[C@H](O)[C@H]3[C@@H](CCC4=CC(=O)CC[C@@...   \n",
       "2628                   NaN  C[C@]12C[C@H](O)[C@H]3[C@@H](CCC4=CC(=O)CC[C@@...   \n",
       "2629                   NaN  C[C@]12C[C@H](O)[C@H]3[C@@H](CCC4=CC(=O)CC[C@@...   \n",
       "2834                   NaN  C[C@]12C[C@H](O)[C@H]3[C@@H](CCC4=CC(=O)CC[C@@...   \n",
       "\n",
       "                                       achiral_smiles  \n",
       "10    CC12CCC(=O)C=C1CCC1C2C(O)CC2(C)C1CCC2(O)C(=O)CO  \n",
       "11    CC12CCC(=O)C=C1CCC1C2C(O)CC2(C)C1CCC2(O)C(=O)CO  \n",
       "12    CC12CCC(=O)C=C1CCC1C2C(O)CC2(C)C1CCC2(O)C(=O)CO  \n",
       "13    CC12CCC(=O)C=C1CCC1C2C(O)CC2(C)C1CCC2(O)C(=O)CO  \n",
       "14    CC12CCC(=O)C=C1CCC1C2C(O)CC2(C)C1CCC2(O)C(=O)CO  \n",
       "...                                               ...  \n",
       "2626  CC12CCC(=O)C=C1CCC1C2C(O)CC2(C)C1CCC2(O)C(=O)CO  \n",
       "2627  CC12CCC(=O)C=C1CCC1C2C(O)CC2(C)C1CCC2(O)C(=O)CO  \n",
       "2628  CC12CCC(=O)C=C1CCC1C2C(O)CC2(C)C1CCC2(O)C(=O)CO  \n",
       "2629  CC12CCC(=O)C=C1CCC1C2C(O)CC2(C)C1CCC2(O)C(=O)CO  \n",
       "2834  CC12CCC(=O)C=C1CCC1C2C(O)CC2(C)C1CCC2(O)C(=O)CO  \n",
       "\n",
       "[1378 rows x 48 columns]"
      ]
     },
     "execution_count": 5,
     "metadata": {},
     "output_type": "execute_result"
    }
   ],
   "source": [
    "df"
   ]
  },
  {
   "cell_type": "markdown",
   "metadata": {},
   "source": [
    "### Apply the transformations"
   ]
  },
  {
   "cell_type": "code",
   "execution_count": 6,
   "metadata": {},
   "outputs": [],
   "source": [
    "def enumerate_recursive(df: pd.DataFrame(), df_trans: pd.DataFrame(), generations=1, hits=None):\n",
    "    \n",
    "    if generations > 0: \n",
    "    \n",
    "        # merge with transformations and enumerate products\n",
    "        print('Generations {}: inital frame - {}'.format(generations, len(df.index)))\n",
    "        df_unique = df[['stripped_smiles', 'target_pref_name', 'standard_type']].drop_duplicates()\n",
    "        print('Generations {}: deduped seeds / property pairs - {}'.format(generations, len(df_unique.index)))\n",
    "        df_unique = df_unique.merge(df_trans, on=['target_pref_name', 'standard_type'])\n",
    "        print('Generations {}: potential seed / transformation pairs - {}'.format(generations, len(df_unique.index)))\n",
    "        df_product = df_unique.sample(frac=1).parallel_apply(lambda x: Reactor(x.smirks).generate_products(x.stripped_smiles), axis=1)\n",
    "\n",
    "        # fan out individual products\n",
    "        df_product = df_unique.join(pd.DataFrame(df_product.explode(), columns=['products']))\n",
    "        print('Generations {}: raw products - {}'.format(generations, len(df_product.index)))\n",
    "        df_product = df_product[pd.notna(df_product.products)]\n",
    "        print('Generations {}: non-null products - {}'.format(generations, len(df_product.index)))\n",
    "        df_product = df.merge(df_product, on=['stripped_smiles', 'target_pref_name', 'standard_type'])\n",
    "        print('Generations {}: final product / prediction pairs - {}'.format(generations, len(df_product.index)))\n",
    "\n",
    "        # detect if target has been identified\n",
    "        df_product['achiral_smiles'] = df_product.products.parallel_apply(strip_stereo)\n",
    "        if df_product.achiral_smiles.isin(hits).any(): print('hit!')\n",
    "                \n",
    "        # trail tracking\n",
    "        df_product['generation'] = generations\n",
    "        if all(elem in df_product.columns for elem in ['last_smiles', 'min_pchembl_value', 'min_mean_percentmcs', 'max_radius']): \n",
    "            df_product.last_smiles = df_product.last_smiles + '.' + df_product.stripped_smiles\n",
    "            df_product.min_pchembl_value = df_product[['min_pchembl_value', 'pchembl_value']].min(axis=1)\n",
    "            df_product.min_mean_percentmcs = df_product[['min_mean_percentmcs', 'mean_percentmcs']].min(axis=1)\n",
    "            df_product.max_radius = df_product[['max_radius', 'radius']].max(axis=1)\n",
    "        else: \n",
    "            df_product['last_smiles'] = df_product.stripped_smiles\n",
    "            df_product['min_pchembl_value'] = df_product.pchembl_value\n",
    "            df_product['min_mean_percentmcs'] = df_product.mean_percentmcs\n",
    "            df_product['max_radius'] = df_product.radius\n",
    "            \n",
    "        # update seed paramters\n",
    "        df_product.stripped_smiles = df_product.products\n",
    "        df_product.pchembl_value = df_product.pchembl_value + df_product.mean_pchembl_exact_delta\n",
    "        \n",
    "        # filter columns\n",
    "        df_product = df_product[['generation', 'last_smiles', 'min_pchembl_value', 'min_mean_percentmcs', 'max_radius',\n",
    "                                 'stripped_smiles', 'target_pref_name', 'standard_type', 'pchembl_value']]\n",
    "        \n",
    "        # filter rows\n",
    "        df_product.drop_duplicates(inplace=True)\n",
    "\n",
    "        # increment counter and yield\n",
    "        generations -= 1\n",
    "        yield df_product\n",
    "        yield from enumerate_recursive(df_product, df_trans, generations, hits)\n"
   ]
  },
  {
   "cell_type": "code",
   "execution_count": 7,
   "metadata": {},
   "outputs": [],
   "source": [
    "df_products = enumerate_recursive(df, df_trans, 2, df_holdout.achiral_smiles.unique())"
   ]
  },
  {
   "cell_type": "code",
   "execution_count": 8,
   "metadata": {},
   "outputs": [
    {
     "name": "stdout",
     "output_type": "stream",
     "text": [
      "Generations 2: inital frame - 1378\n",
      "Generations 2: deduped seeds / property pairs - 520\n",
      "Generations 2: potential seed / transformation pairs - 2898\n"
     ]
    },
    {
     "data": {
      "application/vnd.jupyter.widget-view+json": {
       "model_id": "f9ede4c3711a48ed856223ada8424a77",
       "version_major": 2,
       "version_minor": 0
      },
      "text/plain": [
       "VBox(children=(HBox(children=(IntProgress(value=0, description='0.00%', max=242), Label(value='0 / 242'))), HB…"
      ]
     },
     "metadata": {},
     "output_type": "display_data"
    },
    {
     "name": "stdout",
     "output_type": "stream",
     "text": [
      "Generations 2: raw products - 3618\n",
      "Generations 2: non-null products - 2166\n",
      "Generations 2: final product / prediction pairs - 6042\n"
     ]
    },
    {
     "data": {
      "application/vnd.jupyter.widget-view+json": {
       "model_id": "6d7ab29642154ce78c36e8c95dcdfebf",
       "version_major": 2,
       "version_minor": 0
      },
      "text/plain": [
       "VBox(children=(HBox(children=(IntProgress(value=0, description='0.00%', max=504), Label(value='0 / 504'))), HB…"
      ]
     },
     "metadata": {},
     "output_type": "display_data"
    },
    {
     "name": "stdout",
     "output_type": "stream",
     "text": [
      "Generations 1: inital frame - 2292\n",
      "Generations 1: deduped seeds / property pairs - 1083\n",
      "Generations 1: potential seed / transformation pairs - 8772\n"
     ]
    },
    {
     "data": {
      "application/vnd.jupyter.widget-view+json": {
       "model_id": "c1f18ac33d5f418bbd9636d64181e028",
       "version_major": 2,
       "version_minor": 0
      },
      "text/plain": [
       "VBox(children=(HBox(children=(IntProgress(value=0, description='0.00%', max=731), Label(value='0 / 731'))), HB…"
      ]
     },
     "metadata": {},
     "output_type": "display_data"
    },
    {
     "name": "stdout",
     "output_type": "stream",
     "text": [
      "Generations 1: raw products - 9857\n",
      "Generations 1: non-null products - 5806\n",
      "Generations 1: final product / prediction pairs - 13048\n"
     ]
    },
    {
     "data": {
      "application/vnd.jupyter.widget-view+json": {
       "model_id": "c7ecf38c0b664d1bb45033c4af89b109",
       "version_major": 2,
       "version_minor": 0
      },
      "text/plain": [
       "VBox(children=(HBox(children=(IntProgress(value=0, description='0.00%', max=1088), Label(value='0 / 1088'))), …"
      ]
     },
     "metadata": {},
     "output_type": "display_data"
    },
    {
     "name": "stdout",
     "output_type": "stream",
     "text": [
      "hit!\n"
     ]
    }
   ],
   "source": [
    "df_products = pd.concat([x for x in df_products])"
   ]
  },
  {
   "cell_type": "code",
   "execution_count": 9,
   "metadata": {},
   "outputs": [],
   "source": [
    "df_combined = df_holdout.merge(df_products, on=['stripped_smiles', 'target_pref_name', 'standard_type'], suffixes=['_actual', '_predicted'])"
   ]
  },
  {
   "cell_type": "code",
   "execution_count": 10,
   "metadata": {},
   "outputs": [
    {
     "data": {
      "text/html": [
       "<div>\n",
       "<style scoped>\n",
       "    .dataframe tbody tr th:only-of-type {\n",
       "        vertical-align: middle;\n",
       "    }\n",
       "\n",
       "    .dataframe tbody tr th {\n",
       "        vertical-align: top;\n",
       "    }\n",
       "\n",
       "    .dataframe thead tr th {\n",
       "        text-align: left;\n",
       "    }\n",
       "\n",
       "    .dataframe thead tr:last-of-type th {\n",
       "        text-align: right;\n",
       "    }\n",
       "</style>\n",
       "<table border=\"1\" class=\"dataframe\">\n",
       "  <thead>\n",
       "    <tr>\n",
       "      <th>generation</th>\n",
       "      <th>max_radius</th>\n",
       "      <th>stripped_smiles</th>\n",
       "      <th>target_pref_name</th>\n",
       "      <th>standard_type</th>\n",
       "    </tr>\n",
       "  </thead>\n",
       "  <tbody>\n",
       "  </tbody>\n",
       "</table>\n",
       "</div>"
      ],
      "text/plain": [
       "Empty DataFrame\n",
       "Columns: []\n",
       "Index: []"
      ]
     },
     "execution_count": 10,
     "metadata": {},
     "output_type": "execute_result"
    }
   ],
   "source": [
    "pd.pivot_table(df_combined, \n",
    "               values=['pchembl_value_actual', 'pchembl_value_predicted', 'min_mean_percentmcs'], \n",
    "               index=['generation', 'max_radius', 'stripped_smiles', 'target_pref_name', 'standard_type'], \n",
    "               aggfunc=['min', 'mean', 'max'])"
   ]
  },
  {
   "cell_type": "code",
   "execution_count": 13,
   "metadata": {},
   "outputs": [
    {
     "data": {
      "image/png": "[encoded data removed]",
      "text/plain": [
       "<rdkit.Chem.rdchem.Mol at 0x7f0a354ccc60>"
      ]
     },
     "execution_count": 13,
     "metadata": {},
     "output_type": "execute_result"
    }
   ],
   "source": [
    "Chem.MolFromSmiles(df_products.sample(1).last_smiles.to_list()[0])"
   ]
  },
  {
   "cell_type": "markdown",
   "metadata": {},
   "source": [
    "### Write to file"
   ]
  },
  {
   "cell_type": "code",
   "execution_count": 12,
   "metadata": {},
   "outputs": [],
   "source": [
    "df_products = df_products.reset_index()\n",
    "df_products.to_csv('nr3c1_agonists_products.csv', index=False)"
   ]
  },
  {
   "cell_type": "code",
   "execution_count": null,
   "metadata": {},
   "outputs": [],
   "source": []
  }
 ],
 "metadata": {
  "kernelspec": {
   "display_name": "Python 3 (ipykernel)",
   "language": "python",
   "name": "python3"
  },
  "language_info": {
   "codemirror_mode": {
    "name": "ipython",
    "version": 3
   },
   "file_extension": ".py",
   "mimetype": "text/x-python",
   "name": "python",
   "nbconvert_exporter": "python",
   "pygments_lexer": "ipython3",
   "version": "3.7.0"
  }
 },
 "nbformat": 4,
 "nbformat_minor": 4
}
