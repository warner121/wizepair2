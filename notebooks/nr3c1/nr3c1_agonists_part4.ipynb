{
 "cells": [
  {
   "cell_type": "markdown",
   "metadata": {},
   "source": [
    "## Glucocorticoid receptor - part 4 (library enumeration)"
   ]
  },
  {
   "cell_type": "markdown",
   "metadata": {},
   "source": [
    "### Import libraries"
   ]
  },
  {
   "cell_type": "code",
   "execution_count": 1,
   "metadata": {},
   "outputs": [
    {
     "name": "stdout",
     "output_type": "stream",
     "text": [
      "INFO: Pandarallel will run on 12 workers.\n",
      "INFO: Pandarallel will use Memory file system to transfer data between the main process and workers.\n"
     ]
    }
   ],
   "source": [
    "import pandas as pd\n",
    "\n",
    "from pandarallel import pandarallel\n",
    "pandarallel.initialize(progress_bar=True)\n",
    "\n",
    "import sys\n",
    "sys.path.append('/home/daniel/wizepair2')\n",
    "from mmpa.chem import strip_stereo\n",
    "\n",
    "from rdkit import Chem"
   ]
  },
  {
   "cell_type": "markdown",
   "metadata": {},
   "source": [
    "### Read in the datasets"
   ]
  },
  {
   "cell_type": "code",
   "execution_count": 2,
   "metadata": {},
   "outputs": [],
   "source": [
    "df = pd.read_csv('nr3c1_agonists_stripped.csv')\n",
    "df_trans = pd.read_csv('nr3c1_agonists_transformations.csv')\n",
    "df_holdout = pd.read_csv('nr3c1_agonists_stripped_holdout.csv')"
   ]
  },
  {
   "cell_type": "markdown",
   "metadata": {},
   "source": [
    "### Take cortisol as only seed"
   ]
  },
  {
   "cell_type": "code",
   "execution_count": 3,
   "metadata": {},
   "outputs": [],
   "source": [
    "df = df[df.stripped_smiles=='C[C@]12C[C@H](O)[C@H]3[C@@H](CCC4=CC(=O)CC[C@@]43C)[C@@H]1CC[C@]2(O)C(=O)CO']"
   ]
  },
  {
   "cell_type": "markdown",
   "metadata": {},
   "source": [
    "### Merge on assay identifier to enumerate all seed molecule / transformation pairs"
   ]
  },
  {
   "cell_type": "code",
   "execution_count": 4,
   "metadata": {},
   "outputs": [],
   "source": [
    "df = df[pd.notna(df.pchembl_value)]"
   ]
  },
  {
   "cell_type": "markdown",
   "metadata": {},
   "source": [
    "### Apply the transformations"
   ]
  },
  {
   "cell_type": "code",
   "execution_count": 5,
   "metadata": {},
   "outputs": [],
   "source": [
    "def apply_reaction(smiles, smirks):\n",
    "    rxn = Chem.rdChemReactions.ReactionFromSmarts(smirks)\n",
    "    productset = rxn.RunReactants((Chem.AddHs(Chem.MolFromSmiles(smiles)),))\n",
    "    productlist = set()\n",
    "    for product in productset:\n",
    "        productlist.add('.'.join([Chem.MolToSmiles(Chem.RemoveHs(productpart)) for productpart in product]))\n",
    "    return list(productlist)"
   ]
  },
  {
   "cell_type": "code",
   "execution_count": 6,
   "metadata": {},
   "outputs": [],
   "source": [
    "def enumerate_recursive(df: pd.DataFrame(), df_trans: pd.DataFrame(), generations=1, hits=None):\n",
    "    \n",
    "    if generations > 0: \n",
    "    \n",
    "        # merge with transformations and enumerate products\n",
    "        print('Generations {}: inital frame - {}'.format(generations, len(df.index)))\n",
    "        df_unique = df[['stripped_smiles', 'target_pref_name', 'standard_type']].drop_duplicates()\n",
    "        print('Generations {}: deduped seeds / property pairs - {}'.format(generations, len(df_unique.index)))\n",
    "        df_unique = df_unique.merge(df_trans, on=['target_pref_name', 'standard_type'])\n",
    "        print('Generations {}: potential seed / transformation pairs - {}'.format(generations, len(df_unique.index)))\n",
    "        df_product = df_unique.sample(frac=1).parallel_apply(lambda x: apply_reaction(x.stripped_smiles, x.smirks), axis=1)\n",
    "\n",
    "        # fan out individual products\n",
    "        df_product = df_unique.join(pd.DataFrame(df_product.explode(), columns=['products']))\n",
    "        print('Generations {}: raw products - {}'.format(generations, len(df_product.index)))\n",
    "        df_product = df_product[pd.notna(df_product.products)]\n",
    "        print('Generations {}: non-null products - {}'.format(generations, len(df_product.index)))\n",
    "        df_product = df.merge(df_product, on=['stripped_smiles', 'target_pref_name', 'standard_type'])\n",
    "        print('Generations {}: final product / prediction pairs - {}'.format(generations, len(df_product.index)))\n",
    "\n",
    "        # detect if target has been identified\n",
    "        df_product['achiral_smiles'] = df_product.products.parallel_apply(strip_stereo)\n",
    "        if df_product.achiral_smiles.isin(hits).any(): print('hit!')\n",
    "                \n",
    "        # trail tracking\n",
    "        df_product['generation'] = generations\n",
    "        if all(elem in df_product.columns for elem in ['last_smiles', 'min_pchembl_value', 'min_mean_percentmcs', 'max_radius']): \n",
    "            df_product.last_smiles = df_product.last_smiles + '.' + df_product.stripped_smiles\n",
    "            df_product.min_pchembl_value = df_product[['min_pchembl_value', 'pchembl_value']].min(axis=1)\n",
    "            df_product.min_mean_percentmcs = df_product[['min_mean_percentmcs', 'mean_percentmcs']].min(axis=1)\n",
    "            df_product.max_radius = df_product[['max_radius', 'radius']].max(axis=1)\n",
    "        else: \n",
    "            df_product['last_smiles'] = df_product.stripped_smiles\n",
    "            df_product['min_pchembl_value'] = df_product.pchembl_value\n",
    "            df_product['min_mean_percentmcs'] = df_product.mean_percentmcs\n",
    "            df_product['max_radius'] = df_product.radius\n",
    "            \n",
    "        # update seed paramters\n",
    "        df_product.stripped_smiles = df_product.products\n",
    "        df_product.pchembl_value = df_product.pchembl_value + df_product.mean_pchembl_exact_delta\n",
    "        \n",
    "        # filter columns\n",
    "        df_product = df_product[['generation', 'last_smiles', 'min_pchembl_value', 'min_mean_percentmcs', 'max_radius',\n",
    "                                 'stripped_smiles', 'target_pref_name', 'standard_type', 'pchembl_value']]\n",
    "        \n",
    "        # filter rows\n",
    "        df_product.drop_duplicates(inplace=True)\n",
    "\n",
    "        # increment counter and yield\n",
    "        generations -= 1\n",
    "        yield df_product\n",
    "        yield from enumerate_recursive(df_product, df_trans, generations, hits)\n"
   ]
  },
  {
   "cell_type": "code",
   "execution_count": 7,
   "metadata": {},
   "outputs": [],
   "source": [
    "df_products = enumerate_recursive(df, df_trans, 4, df_holdout.achiral_smiles.unique())"
   ]
  },
  {
   "cell_type": "code",
   "execution_count": 8,
   "metadata": {},
   "outputs": [
    {
     "name": "stdout",
     "output_type": "stream",
     "text": [
      "Generations 4: inital frame - 49\n",
      "Generations 4: deduped seeds / property pairs - 20\n",
      "Generations 4: potential seed / transformation pairs - 2080\n"
     ]
    },
    {
     "data": {
      "application/vnd.jupyter.widget-view+json": {
       "model_id": "9eadfe09172d4faca19913ebd774844b",
       "version_major": 2,
       "version_minor": 0
      },
      "text/plain": [
       "VBox(children=(HBox(children=(IntProgress(value=0, description='0.00%', max=174), Label(value='0 / 174'))), HB…"
      ]
     },
     "metadata": {},
     "output_type": "display_data"
    },
    {
     "name": "stdout",
     "output_type": "stream",
     "text": [
      "Generations 4: raw products - 2103\n",
      "Generations 4: non-null products - 159\n",
      "Generations 4: final product / prediction pairs - 250\n"
     ]
    },
    {
     "data": {
      "application/vnd.jupyter.widget-view+json": {
       "model_id": "850151b74eac40d199f8a378f599c207",
       "version_major": 2,
       "version_minor": 0
      },
      "text/plain": [
       "VBox(children=(HBox(children=(IntProgress(value=0, description='0.00%', max=21), Label(value='0 / 21'))), HBox…"
      ]
     },
     "metadata": {},
     "output_type": "display_data"
    },
    {
     "name": "stdout",
     "output_type": "stream",
     "text": [
      "Generations 3: inital frame - 181\n",
      "Generations 3: deduped seeds / property pairs - 105\n",
      "Generations 3: potential seed / transformation pairs - 60979\n"
     ]
    },
    {
     "data": {
      "application/vnd.jupyter.widget-view+json": {
       "model_id": "b6449e7511f649a5b7b7d4b923a83fda",
       "version_major": 2,
       "version_minor": 0
      },
      "text/plain": [
       "VBox(children=(HBox(children=(IntProgress(value=0, description='0.00%', max=5082), Label(value='0 / 5082'))), …"
      ]
     },
     "metadata": {},
     "output_type": "display_data"
    },
    {
     "name": "stdout",
     "output_type": "stream",
     "text": [
      "Generations 3: raw products - 61171\n",
      "Generations 3: non-null products - 3709\n",
      "Generations 3: final product / prediction pairs - 6351\n"
     ]
    },
    {
     "data": {
      "application/vnd.jupyter.widget-view+json": {
       "model_id": "a19e918ccac843f6816a62d5223ff434",
       "version_major": 2,
       "version_minor": 0
      },
      "text/plain": [
       "VBox(children=(HBox(children=(IntProgress(value=0, description='0.00%', max=530), Label(value='0 / 530'))), HB…"
      ]
     },
     "metadata": {},
     "output_type": "display_data"
    },
    {
     "name": "stdout",
     "output_type": "stream",
     "text": [
      "Generations 2: inital frame - 3379\n",
      "Generations 2: deduped seeds / property pairs - 520\n",
      "Generations 2: potential seed / transformation pairs - 275707\n"
     ]
    },
    {
     "data": {
      "application/vnd.jupyter.widget-view+json": {
       "model_id": "82de982f54f54b7997af57ca210e2ca1",
       "version_major": 2,
       "version_minor": 0
      },
      "text/plain": [
       "VBox(children=(HBox(children=(IntProgress(value=0, description='0.00%', max=22976), Label(value='0 / 22976')))…"
      ]
     },
     "metadata": {},
     "output_type": "display_data"
    },
    {
     "name": "stdout",
     "output_type": "stream",
     "text": [
      "Generations 2: raw products - 276981\n",
      "Generations 2: non-null products - 14916\n",
      "Generations 2: final product / prediction pairs - 145189\n"
     ]
    },
    {
     "data": {
      "application/vnd.jupyter.widget-view+json": {
       "model_id": "47f9dbd0558044a09ca9475bbf212c5e",
       "version_major": 2,
       "version_minor": 0
      },
      "text/plain": [
       "VBox(children=(HBox(children=(IntProgress(value=0, description='0.00%', max=12100), Label(value='0 / 12100')))…"
      ]
     },
     "metadata": {},
     "output_type": "display_data"
    },
    {
     "name": "stdout",
     "output_type": "stream",
     "text": [
      "Generations 1: inital frame - 71099\n",
      "Generations 1: deduped seeds / property pairs - 2155\n",
      "Generations 1: potential seed / transformation pairs - 898819\n"
     ]
    },
    {
     "data": {
      "application/vnd.jupyter.widget-view+json": {
       "model_id": "0c380f3f5d96405e91dbd6d628619658",
       "version_major": 2,
       "version_minor": 0
      },
      "text/plain": [
       "VBox(children=(HBox(children=(IntProgress(value=0, description='0.00%', max=74902), Label(value='0 / 74902')))…"
      ]
     },
     "metadata": {},
     "output_type": "display_data"
    },
    {
     "name": "stdout",
     "output_type": "stream",
     "text": [
      "Generations 1: raw products - 906093\n",
      "Generations 1: non-null products - 52794\n",
      "Generations 1: final product / prediction pairs - 3275776\n"
     ]
    },
    {
     "data": {
      "application/vnd.jupyter.widget-view+json": {
       "model_id": "29d11a538dbe428ca00406ac56756885",
       "version_major": 2,
       "version_minor": 0
      },
      "text/plain": [
       "VBox(children=(HBox(children=(IntProgress(value=0, description='0.00%', max=272982), Label(value='0 / 272982')…"
      ]
     },
     "metadata": {},
     "output_type": "display_data"
    }
   ],
   "source": [
    "df_products = pd.concat([x for x in df_products])"
   ]
  },
  {
   "cell_type": "code",
   "execution_count": 9,
   "metadata": {},
   "outputs": [],
   "source": [
    "df_combined = df_holdout.merge(df_products, on=['stripped_smiles', 'target_pref_name', 'standard_type'], suffixes=['_actual', '_predicted'])"
   ]
  },
  {
   "cell_type": "code",
   "execution_count": 10,
   "metadata": {},
   "outputs": [
    {
     "data": {
      "text/html": [
       "<div>\n",
       "<style scoped>\n",
       "    .dataframe tbody tr th:only-of-type {\n",
       "        vertical-align: middle;\n",
       "    }\n",
       "\n",
       "    .dataframe tbody tr th {\n",
       "        vertical-align: top;\n",
       "    }\n",
       "\n",
       "    .dataframe thead tr th {\n",
       "        text-align: left;\n",
       "    }\n",
       "\n",
       "    .dataframe thead tr:last-of-type th {\n",
       "        text-align: right;\n",
       "    }\n",
       "</style>\n",
       "<table border=\"1\" class=\"dataframe\">\n",
       "  <thead>\n",
       "    <tr>\n",
       "      <th>generation</th>\n",
       "      <th>max_radius</th>\n",
       "      <th>stripped_smiles</th>\n",
       "      <th>target_pref_name</th>\n",
       "      <th>standard_type</th>\n",
       "    </tr>\n",
       "  </thead>\n",
       "  <tbody>\n",
       "  </tbody>\n",
       "</table>\n",
       "</div>"
      ],
      "text/plain": [
       "Empty DataFrame\n",
       "Columns: []\n",
       "Index: []"
      ]
     },
     "execution_count": 10,
     "metadata": {},
     "output_type": "execute_result"
    }
   ],
   "source": [
    "pd.pivot_table(df_combined, \n",
    "               values=['pchembl_value_actual', 'pchembl_value_predicted', 'min_mean_percentmcs'], \n",
    "               index=['generation', 'max_radius', 'stripped_smiles', 'target_pref_name', 'standard_type'], \n",
    "               aggfunc=['min', 'mean', 'max'])"
   ]
  },
  {
   "cell_type": "code",
   "execution_count": 19,
   "metadata": {},
   "outputs": [
    {
     "data": {
      "image/png": "[encoded data removed]",
      "text/plain": [
       "<rdkit.Chem.rdchem.Mol at 0x7f486190a3a0>"
      ]
     },
     "execution_count": 19,
     "metadata": {},
     "output_type": "execute_result"
    }
   ],
   "source": [
    "Chem.MolFromSmiles(df_products.sample(1).last_smiles.to_list()[0])"
   ]
  },
  {
   "cell_type": "markdown",
   "metadata": {},
   "source": [
    "### Write to file"
   ]
  },
  {
   "cell_type": "code",
   "execution_count": 12,
   "metadata": {},
   "outputs": [],
   "source": [
    "df_products = df_products.reset_index()\n",
    "df_products.to_csv('nr3c1_agonists_products.csv', index=False)"
   ]
  }
 ],
 "metadata": {
  "kernelspec": {
   "display_name": "Python 3",
   "language": "python",
   "name": "python3"
  },
  "language_info": {
   "codemirror_mode": {
    "name": "ipython",
    "version": 3
   },
   "file_extension": ".py",
   "mimetype": "text/x-python",
   "name": "python",
   "nbconvert_exporter": "python",
   "pygments_lexer": "ipython3",
   "version": "3.6.10"
  }
 },
 "nbformat": 4,
 "nbformat_minor": 4
}
