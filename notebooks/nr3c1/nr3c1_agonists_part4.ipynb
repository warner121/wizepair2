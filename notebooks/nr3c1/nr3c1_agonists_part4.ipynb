{
 "cells": [
  {
   "cell_type": "markdown",
   "metadata": {},
   "source": [
    "## Glucocorticoid receptor - part 4 (library enumeration)"
   ]
  },
  {
   "cell_type": "markdown",
   "metadata": {},
   "source": [
    "### Import libraries"
   ]
  },
  {
   "cell_type": "code",
   "execution_count": 1,
   "metadata": {},
   "outputs": [
    {
     "name": "stdout",
     "output_type": "stream",
     "text": [
      "INFO: Pandarallel will run on 12 workers.\n",
      "INFO: Pandarallel will use Memory file system to transfer data between the main process and workers.\n"
     ]
    }
   ],
   "source": [
    "import pandas as pd\n",
    "\n",
    "from pandarallel import pandarallel\n",
    "pandarallel.initialize(progress_bar=True, nb_workers=12)\n",
    "\n",
    "import sys\n",
    "sys.path.append('/home/daniel/wizepair2')\n",
    "from classes.chem import strip_stereo\n",
    "from classes.mmp import Reactor\n",
    "\n",
    "from rdkit import Chem"
   ]
  },
  {
   "cell_type": "markdown",
   "metadata": {},
   "source": [
    "### Read in the datasets"
   ]
  },
  {
   "cell_type": "code",
   "execution_count": 2,
   "metadata": {},
   "outputs": [],
   "source": [
    "df = pd.read_csv('nr3c1_agonists_stripped.csv')\n",
    "df_trans = pd.read_csv('nr3c1_agonists_transformations.csv')\n",
    "df_holdout = pd.read_csv('nr3c1_agonists_stripped_holdout.csv')"
   ]
  },
  {
   "cell_type": "markdown",
   "metadata": {},
   "source": [
    "### Take cortisol as only seed"
   ]
  },
  {
   "cell_type": "code",
   "execution_count": 3,
   "metadata": {},
   "outputs": [],
   "source": [
    "df = df[df.stripped_smiles=='C[C@]12C[C@H](O)[C@H]3[C@@H](CCC4=CC(=O)CC[C@@]43C)[C@@H]1CC[C@]2(O)C(=O)CO']"
   ]
  },
  {
   "cell_type": "markdown",
   "metadata": {},
   "source": [
    "### Merge on assay identifier to enumerate all seed molecule / transformation pairs"
   ]
  },
  {
   "cell_type": "code",
   "execution_count": 4,
   "metadata": {},
   "outputs": [],
   "source": [
    "df = df[pd.notna(df.pchembl_value)]"
   ]
  },
  {
   "cell_type": "markdown",
   "metadata": {},
   "source": [
    "### Apply the transformations"
   ]
  },
  {
   "cell_type": "code",
   "execution_count": 5,
   "metadata": {},
   "outputs": [],
   "source": [
    "def enumerate_recursive(df: pd.DataFrame(), df_trans: pd.DataFrame(), generations=1, hits=None):\n",
    "    \n",
    "    if generations > 0: \n",
    "    \n",
    "        # merge with transformations and enumerate products\n",
    "        print('Generations {}: inital frame - {}'.format(generations, len(df.index)))\n",
    "        df_unique = df[['stripped_smiles', 'target_pref_name', 'standard_type']].drop_duplicates()\n",
    "        print('Generations {}: deduped seeds / property pairs - {}'.format(generations, len(df_unique.index)))\n",
    "        df_unique = df_unique.merge(df_trans, on=['target_pref_name', 'standard_type'])\n",
    "        print('Generations {}: potential seed / transformation pairs - {}'.format(generations, len(df_unique.index)))\n",
    "        df_product = df_unique.sample(frac=1).parallel_apply(lambda x: Reactor(x.smirks).generate_products(x.stripped_smiles), axis=1)\n",
    "\n",
    "        # fan out individual products\n",
    "        df_product = df_unique.join(pd.DataFrame(df_product.explode(), columns=['products']))\n",
    "        print('Generations {}: raw products - {}'.format(generations, len(df_product.index)))\n",
    "        df_product = df_product[pd.notna(df_product.products)]\n",
    "        print('Generations {}: non-null products - {}'.format(generations, len(df_product.index)))\n",
    "        df_product = df.merge(df_product, on=['stripped_smiles', 'target_pref_name', 'standard_type'])\n",
    "        print('Generations {}: final product / prediction pairs - {}'.format(generations, len(df_product.index)))\n",
    "\n",
    "        # detect if target has been identified\n",
    "        df_product['achiral_smiles'] = df_product.products.parallel_apply(strip_stereo)\n",
    "        if df_product.achiral_smiles.isin(hits).any(): print('hit!')\n",
    "                \n",
    "        # trail tracking\n",
    "        df_product['generation'] = generations\n",
    "        if all(elem in df_product.columns for elem in ['last_smiles', 'min_pchembl_value', 'min_mean_percentmcs', 'max_radius']): \n",
    "            df_product.last_smiles = df_product.last_smiles + '.' + df_product.stripped_smiles\n",
    "            df_product.min_pchembl_value = df_product[['min_pchembl_value', 'pchembl_value']].min(axis=1)\n",
    "            df_product.min_mean_percentmcs = df_product[['min_mean_percentmcs', 'mean_percentmcs']].min(axis=1)\n",
    "            df_product.max_radius = df_product[['max_radius', 'radius']].max(axis=1)\n",
    "        else: \n",
    "            df_product['last_smiles'] = df_product.stripped_smiles\n",
    "            df_product['min_pchembl_value'] = df_product.pchembl_value\n",
    "            df_product['min_mean_percentmcs'] = df_product.mean_percentmcs\n",
    "            df_product['max_radius'] = df_product.radius\n",
    "            \n",
    "        # update seed paramters\n",
    "        df_product.stripped_smiles = df_product.products\n",
    "        df_product.pchembl_value = df_product.pchembl_value + df_product.mean_pchembl_exact_delta\n",
    "        \n",
    "        # filter columns\n",
    "        df_product = df_product[['generation', 'last_smiles', 'min_pchembl_value', 'min_mean_percentmcs', 'max_radius',\n",
    "                                 'stripped_smiles', 'target_pref_name', 'standard_type', 'pchembl_value', 'achiral_smiles']]\n",
    "        \n",
    "        # filter rows\n",
    "        df_product.drop_duplicates(inplace=True)\n",
    "\n",
    "        # increment counter and yield\n",
    "        generations -= 1\n",
    "        yield df_product\n",
    "        yield from enumerate_recursive(df_product, df_trans, generations, hits)\n"
   ]
  },
  {
   "cell_type": "code",
   "execution_count": 6,
   "metadata": {},
   "outputs": [],
   "source": [
    "df_products = enumerate_recursive(df, df_trans, 4, df_holdout.achiral_smiles.unique())"
   ]
  },
  {
   "cell_type": "code",
   "execution_count": 7,
   "metadata": {},
   "outputs": [
    {
     "name": "stdout",
     "output_type": "stream",
     "text": [
      "Generations 4: inital frame - 62\n",
      "Generations 4: deduped seeds / property pairs - 23\n",
      "Generations 4: potential seed / transformation pairs - 62\n"
     ]
    },
    {
     "data": {
      "application/vnd.jupyter.widget-view+json": {
       "model_id": "4231d0e2275e4d3cad3b9fdd093feb6d",
       "version_major": 2,
       "version_minor": 0
      },
      "text/plain": [
       "VBox(children=(HBox(children=(IntProgress(value=0, description='0.00%', max=6), Label(value='0 / 6'))), HBox(c…"
      ]
     },
     "metadata": {},
     "output_type": "display_data"
    },
    {
     "name": "stdout",
     "output_type": "stream",
     "text": [
      "Generations 4: raw products - 62\n",
      "Generations 4: non-null products - 28\n",
      "Generations 4: final product / prediction pairs - 115\n"
     ]
    },
    {
     "data": {
      "application/vnd.jupyter.widget-view+json": {
       "model_id": "cbc999ad0a124b559ccba89147c0c469",
       "version_major": 2,
       "version_minor": 0
      },
      "text/plain": [
       "VBox(children=(HBox(children=(IntProgress(value=0, description='0.00%', max=10), Label(value='0 / 10'))), HBox…"
      ]
     },
     "metadata": {},
     "output_type": "display_data"
    },
    {
     "name": "stdout",
     "output_type": "stream",
     "text": [
      "Generations 3: inital frame - 85\n",
      "Generations 3: deduped seeds / property pairs - 10\n",
      "Generations 3: potential seed / transformation pairs - 102\n"
     ]
    },
    {
     "data": {
      "application/vnd.jupyter.widget-view+json": {
       "model_id": "7a0f953376d8497b81552b8d6369d792",
       "version_major": 2,
       "version_minor": 0
      },
      "text/plain": [
       "VBox(children=(HBox(children=(IntProgress(value=0, description='0.00%', max=9), Label(value='0 / 9'))), HBox(c…"
      ]
     },
     "metadata": {},
     "output_type": "display_data"
    },
    {
     "name": "stdout",
     "output_type": "stream",
     "text": [
      "Generations 3: raw products - 102\n",
      "Generations 3: non-null products - 43\n",
      "Generations 3: final product / prediction pairs - 280\n"
     ]
    },
    {
     "data": {
      "application/vnd.jupyter.widget-view+json": {
       "model_id": "2ac0386cd1af407eb639ee0c59f635ad",
       "version_major": 2,
       "version_minor": 0
      },
      "text/plain": [
       "VBox(children=(HBox(children=(IntProgress(value=0, description='0.00%', max=24), Label(value='0 / 24'))), HBox…"
      ]
     },
     "metadata": {},
     "output_type": "display_data"
    },
    {
     "name": "stdout",
     "output_type": "stream",
     "text": [
      "Generations 2: inital frame - 94\n",
      "Generations 2: deduped seeds / property pairs - 12\n",
      "Generations 2: potential seed / transformation pairs - 142\n"
     ]
    },
    {
     "data": {
      "application/vnd.jupyter.widget-view+json": {
       "model_id": "748066a1c3f641c4bc09c15def9ef124",
       "version_major": 2,
       "version_minor": 0
      },
      "text/plain": [
       "VBox(children=(HBox(children=(IntProgress(value=0, description='0.00%', max=12), Label(value='0 / 12'))), HBox…"
      ]
     },
     "metadata": {},
     "output_type": "display_data"
    },
    {
     "name": "stdout",
     "output_type": "stream",
     "text": [
      "Generations 2: raw products - 142\n",
      "Generations 2: non-null products - 57\n",
      "Generations 2: final product / prediction pairs - 362\n"
     ]
    },
    {
     "data": {
      "application/vnd.jupyter.widget-view+json": {
       "model_id": "8081244edb714a4395e7179042d3dd1f",
       "version_major": 2,
       "version_minor": 0
      },
      "text/plain": [
       "VBox(children=(HBox(children=(IntProgress(value=0, description='0.00%', max=31), Label(value='0 / 31'))), HBox…"
      ]
     },
     "metadata": {},
     "output_type": "display_data"
    },
    {
     "name": "stdout",
     "output_type": "stream",
     "text": [
      "hit!\n",
      "Generations 1: inital frame - 122\n",
      "Generations 1: deduped seeds / property pairs - 14\n",
      "Generations 1: potential seed / transformation pairs - 182\n"
     ]
    },
    {
     "data": {
      "application/vnd.jupyter.widget-view+json": {
       "model_id": "fa0336c7cf0d43c38c2d6150b6b8b2e4",
       "version_major": 2,
       "version_minor": 0
      },
      "text/plain": [
       "VBox(children=(HBox(children=(IntProgress(value=0, description='0.00%', max=16), Label(value='0 / 16'))), HBox…"
      ]
     },
     "metadata": {},
     "output_type": "display_data"
    },
    {
     "name": "stdout",
     "output_type": "stream",
     "text": [
      "Generations 1: raw products - 182\n",
      "Generations 1: non-null products - 65\n",
      "Generations 1: final product / prediction pairs - 528\n"
     ]
    },
    {
     "data": {
      "application/vnd.jupyter.widget-view+json": {
       "model_id": "bef0e3a20f8b47e088670da12e8b9794",
       "version_major": 2,
       "version_minor": 0
      },
      "text/plain": [
       "VBox(children=(HBox(children=(IntProgress(value=0, description='0.00%', max=44), Label(value='0 / 44'))), HBox…"
      ]
     },
     "metadata": {},
     "output_type": "display_data"
    },
    {
     "name": "stdout",
     "output_type": "stream",
     "text": [
      "hit!\n"
     ]
    }
   ],
   "source": [
    "df_products = pd.concat([x for x in df_products])"
   ]
  },
  {
   "cell_type": "code",
   "execution_count": 8,
   "metadata": {},
   "outputs": [],
   "source": [
    "df_combined = df_holdout.merge(df_products, on=['achiral_smiles', 'target_pref_name', 'standard_type'], suffixes=['_actual', '_predicted'])"
   ]
  },
  {
   "cell_type": "code",
   "execution_count": 9,
   "metadata": {},
   "outputs": [
    {
     "data": {
      "text/html": [
       "<div>\n",
       "<style scoped>\n",
       "    .dataframe tbody tr th:only-of-type {\n",
       "        vertical-align: middle;\n",
       "    }\n",
       "\n",
       "    .dataframe tbody tr th {\n",
       "        vertical-align: top;\n",
       "    }\n",
       "\n",
       "    .dataframe thead tr th {\n",
       "        text-align: left;\n",
       "    }\n",
       "\n",
       "    .dataframe thead tr:last-of-type th {\n",
       "        text-align: right;\n",
       "    }\n",
       "</style>\n",
       "<table border=\"1\" class=\"dataframe\">\n",
       "  <thead>\n",
       "    <tr>\n",
       "      <th></th>\n",
       "      <th></th>\n",
       "      <th></th>\n",
       "      <th></th>\n",
       "      <th></th>\n",
       "      <th colspan=\"3\" halign=\"left\">min</th>\n",
       "      <th colspan=\"3\" halign=\"left\">mean</th>\n",
       "      <th colspan=\"3\" halign=\"left\">max</th>\n",
       "    </tr>\n",
       "    <tr>\n",
       "      <th></th>\n",
       "      <th></th>\n",
       "      <th></th>\n",
       "      <th></th>\n",
       "      <th></th>\n",
       "      <th>min_mean_percentmcs</th>\n",
       "      <th>pchembl_value_actual</th>\n",
       "      <th>pchembl_value_predicted</th>\n",
       "      <th>min_mean_percentmcs</th>\n",
       "      <th>pchembl_value_actual</th>\n",
       "      <th>pchembl_value_predicted</th>\n",
       "      <th>min_mean_percentmcs</th>\n",
       "      <th>pchembl_value_actual</th>\n",
       "      <th>pchembl_value_predicted</th>\n",
       "    </tr>\n",
       "    <tr>\n",
       "      <th>generation</th>\n",
       "      <th>max_radius</th>\n",
       "      <th>stripped_smiles_predicted</th>\n",
       "      <th>target_pref_name</th>\n",
       "      <th>standard_type</th>\n",
       "      <th></th>\n",
       "      <th></th>\n",
       "      <th></th>\n",
       "      <th></th>\n",
       "      <th></th>\n",
       "      <th></th>\n",
       "      <th></th>\n",
       "      <th></th>\n",
       "      <th></th>\n",
       "    </tr>\n",
       "  </thead>\n",
       "  <tbody>\n",
       "    <tr>\n",
       "      <th rowspan=\"3\" valign=\"top\">1</th>\n",
       "      <th>2</th>\n",
       "      <th>CCCC1OC2CC3C4CCC5=CC(=O)C=CC5(C)C4C(O)CC3(C)C2(C(=O)CO)O1</th>\n",
       "      <th>alogp</th>\n",
       "      <th>_metadata.parent_molecule_data</th>\n",
       "      <td>0.533333</td>\n",
       "      <td>2.72</td>\n",
       "      <td>2.72</td>\n",
       "      <td>0.533333</td>\n",
       "      <td>2.72</td>\n",
       "      <td>2.72</td>\n",
       "      <td>0.533333</td>\n",
       "      <td>2.72</td>\n",
       "      <td>2.72</td>\n",
       "    </tr>\n",
       "    <tr>\n",
       "      <th>3</th>\n",
       "      <th>CCCC1OC2CC3C4CCC5=CC(=O)C=CC5(C)C4C(O)CC3(C)C2(C(=O)CO)O1</th>\n",
       "      <th>alogp</th>\n",
       "      <th>_metadata.parent_molecule_data</th>\n",
       "      <td>0.533333</td>\n",
       "      <td>2.72</td>\n",
       "      <td>2.72</td>\n",
       "      <td>0.533333</td>\n",
       "      <td>2.72</td>\n",
       "      <td>2.72</td>\n",
       "      <td>0.533333</td>\n",
       "      <td>2.72</td>\n",
       "      <td>2.72</td>\n",
       "    </tr>\n",
       "    <tr>\n",
       "      <th>4</th>\n",
       "      <th>CCCC1OC2CC3C4CCC5=CC(=O)C=CC5(C)C4C(O)CC3(C)C2(C(=O)CO)O1</th>\n",
       "      <th>alogp</th>\n",
       "      <th>_metadata.parent_molecule_data</th>\n",
       "      <td>0.533333</td>\n",
       "      <td>2.72</td>\n",
       "      <td>2.72</td>\n",
       "      <td>0.533333</td>\n",
       "      <td>2.72</td>\n",
       "      <td>2.72</td>\n",
       "      <td>0.533333</td>\n",
       "      <td>2.72</td>\n",
       "      <td>2.72</td>\n",
       "    </tr>\n",
       "    <tr>\n",
       "      <th>2</th>\n",
       "      <th>4</th>\n",
       "      <th>CCCC1OC2CC3C4CCC5=CC(=O)C=CC5(C)C4C(O)CC3(C)C2(C(=O)CO)O1</th>\n",
       "      <th>alogp</th>\n",
       "      <th>_metadata.parent_molecule_data</th>\n",
       "      <td>0.533333</td>\n",
       "      <td>2.72</td>\n",
       "      <td>2.72</td>\n",
       "      <td>0.533333</td>\n",
       "      <td>2.72</td>\n",
       "      <td>2.72</td>\n",
       "      <td>0.533333</td>\n",
       "      <td>2.72</td>\n",
       "      <td>2.72</td>\n",
       "    </tr>\n",
       "  </tbody>\n",
       "</table>\n",
       "</div>"
      ],
      "text/plain": [
       "                                                                                                                                         min  \\\n",
       "                                                                                                                         min_mean_percentmcs   \n",
       "generation max_radius stripped_smiles_predicted                          target_pref_name standard_type                                        \n",
       "1          2          CCCC1OC2CC3C4CCC5=CC(=O)C=CC5(C)C4C(O)CC3(C)C2(... alogp            _metadata.parent_molecule_data            0.533333   \n",
       "           3          CCCC1OC2CC3C4CCC5=CC(=O)C=CC5(C)C4C(O)CC3(C)C2(... alogp            _metadata.parent_molecule_data            0.533333   \n",
       "           4          CCCC1OC2CC3C4CCC5=CC(=O)C=CC5(C)C4C(O)CC3(C)C2(... alogp            _metadata.parent_molecule_data            0.533333   \n",
       "2          4          CCCC1OC2CC3C4CCC5=CC(=O)C=CC5(C)C4C(O)CC3(C)C2(... alogp            _metadata.parent_molecule_data            0.533333   \n",
       "\n",
       "                                                                                                                                               \\\n",
       "                                                                                                                         pchembl_value_actual   \n",
       "generation max_radius stripped_smiles_predicted                          target_pref_name standard_type                                         \n",
       "1          2          CCCC1OC2CC3C4CCC5=CC(=O)C=CC5(C)C4C(O)CC3(C)C2(... alogp            _metadata.parent_molecule_data                 2.72   \n",
       "           3          CCCC1OC2CC3C4CCC5=CC(=O)C=CC5(C)C4C(O)CC3(C)C2(... alogp            _metadata.parent_molecule_data                 2.72   \n",
       "           4          CCCC1OC2CC3C4CCC5=CC(=O)C=CC5(C)C4C(O)CC3(C)C2(... alogp            _metadata.parent_molecule_data                 2.72   \n",
       "2          4          CCCC1OC2CC3C4CCC5=CC(=O)C=CC5(C)C4C(O)CC3(C)C2(... alogp            _metadata.parent_molecule_data                 2.72   \n",
       "\n",
       "                                                                                                                                                  \\\n",
       "                                                                                                                         pchembl_value_predicted   \n",
       "generation max_radius stripped_smiles_predicted                          target_pref_name standard_type                                            \n",
       "1          2          CCCC1OC2CC3C4CCC5=CC(=O)C=CC5(C)C4C(O)CC3(C)C2(... alogp            _metadata.parent_molecule_data                    2.72   \n",
       "           3          CCCC1OC2CC3C4CCC5=CC(=O)C=CC5(C)C4C(O)CC3(C)C2(... alogp            _metadata.parent_molecule_data                    2.72   \n",
       "           4          CCCC1OC2CC3C4CCC5=CC(=O)C=CC5(C)C4C(O)CC3(C)C2(... alogp            _metadata.parent_molecule_data                    2.72   \n",
       "2          4          CCCC1OC2CC3C4CCC5=CC(=O)C=CC5(C)C4C(O)CC3(C)C2(... alogp            _metadata.parent_molecule_data                    2.72   \n",
       "\n",
       "                                                                                                                                        mean  \\\n",
       "                                                                                                                         min_mean_percentmcs   \n",
       "generation max_radius stripped_smiles_predicted                          target_pref_name standard_type                                        \n",
       "1          2          CCCC1OC2CC3C4CCC5=CC(=O)C=CC5(C)C4C(O)CC3(C)C2(... alogp            _metadata.parent_molecule_data            0.533333   \n",
       "           3          CCCC1OC2CC3C4CCC5=CC(=O)C=CC5(C)C4C(O)CC3(C)C2(... alogp            _metadata.parent_molecule_data            0.533333   \n",
       "           4          CCCC1OC2CC3C4CCC5=CC(=O)C=CC5(C)C4C(O)CC3(C)C2(... alogp            _metadata.parent_molecule_data            0.533333   \n",
       "2          4          CCCC1OC2CC3C4CCC5=CC(=O)C=CC5(C)C4C(O)CC3(C)C2(... alogp            _metadata.parent_molecule_data            0.533333   \n",
       "\n",
       "                                                                                                                                               \\\n",
       "                                                                                                                         pchembl_value_actual   \n",
       "generation max_radius stripped_smiles_predicted                          target_pref_name standard_type                                         \n",
       "1          2          CCCC1OC2CC3C4CCC5=CC(=O)C=CC5(C)C4C(O)CC3(C)C2(... alogp            _metadata.parent_molecule_data                 2.72   \n",
       "           3          CCCC1OC2CC3C4CCC5=CC(=O)C=CC5(C)C4C(O)CC3(C)C2(... alogp            _metadata.parent_molecule_data                 2.72   \n",
       "           4          CCCC1OC2CC3C4CCC5=CC(=O)C=CC5(C)C4C(O)CC3(C)C2(... alogp            _metadata.parent_molecule_data                 2.72   \n",
       "2          4          CCCC1OC2CC3C4CCC5=CC(=O)C=CC5(C)C4C(O)CC3(C)C2(... alogp            _metadata.parent_molecule_data                 2.72   \n",
       "\n",
       "                                                                                                                                                  \\\n",
       "                                                                                                                         pchembl_value_predicted   \n",
       "generation max_radius stripped_smiles_predicted                          target_pref_name standard_type                                            \n",
       "1          2          CCCC1OC2CC3C4CCC5=CC(=O)C=CC5(C)C4C(O)CC3(C)C2(... alogp            _metadata.parent_molecule_data                    2.72   \n",
       "           3          CCCC1OC2CC3C4CCC5=CC(=O)C=CC5(C)C4C(O)CC3(C)C2(... alogp            _metadata.parent_molecule_data                    2.72   \n",
       "           4          CCCC1OC2CC3C4CCC5=CC(=O)C=CC5(C)C4C(O)CC3(C)C2(... alogp            _metadata.parent_molecule_data                    2.72   \n",
       "2          4          CCCC1OC2CC3C4CCC5=CC(=O)C=CC5(C)C4C(O)CC3(C)C2(... alogp            _metadata.parent_molecule_data                    2.72   \n",
       "\n",
       "                                                                                                                                         max  \\\n",
       "                                                                                                                         min_mean_percentmcs   \n",
       "generation max_radius stripped_smiles_predicted                          target_pref_name standard_type                                        \n",
       "1          2          CCCC1OC2CC3C4CCC5=CC(=O)C=CC5(C)C4C(O)CC3(C)C2(... alogp            _metadata.parent_molecule_data            0.533333   \n",
       "           3          CCCC1OC2CC3C4CCC5=CC(=O)C=CC5(C)C4C(O)CC3(C)C2(... alogp            _metadata.parent_molecule_data            0.533333   \n",
       "           4          CCCC1OC2CC3C4CCC5=CC(=O)C=CC5(C)C4C(O)CC3(C)C2(... alogp            _metadata.parent_molecule_data            0.533333   \n",
       "2          4          CCCC1OC2CC3C4CCC5=CC(=O)C=CC5(C)C4C(O)CC3(C)C2(... alogp            _metadata.parent_molecule_data            0.533333   \n",
       "\n",
       "                                                                                                                                               \\\n",
       "                                                                                                                         pchembl_value_actual   \n",
       "generation max_radius stripped_smiles_predicted                          target_pref_name standard_type                                         \n",
       "1          2          CCCC1OC2CC3C4CCC5=CC(=O)C=CC5(C)C4C(O)CC3(C)C2(... alogp            _metadata.parent_molecule_data                 2.72   \n",
       "           3          CCCC1OC2CC3C4CCC5=CC(=O)C=CC5(C)C4C(O)CC3(C)C2(... alogp            _metadata.parent_molecule_data                 2.72   \n",
       "           4          CCCC1OC2CC3C4CCC5=CC(=O)C=CC5(C)C4C(O)CC3(C)C2(... alogp            _metadata.parent_molecule_data                 2.72   \n",
       "2          4          CCCC1OC2CC3C4CCC5=CC(=O)C=CC5(C)C4C(O)CC3(C)C2(... alogp            _metadata.parent_molecule_data                 2.72   \n",
       "\n",
       "                                                                                                                                                  \n",
       "                                                                                                                         pchembl_value_predicted  \n",
       "generation max_radius stripped_smiles_predicted                          target_pref_name standard_type                                           \n",
       "1          2          CCCC1OC2CC3C4CCC5=CC(=O)C=CC5(C)C4C(O)CC3(C)C2(... alogp            _metadata.parent_molecule_data                    2.72  \n",
       "           3          CCCC1OC2CC3C4CCC5=CC(=O)C=CC5(C)C4C(O)CC3(C)C2(... alogp            _metadata.parent_molecule_data                    2.72  \n",
       "           4          CCCC1OC2CC3C4CCC5=CC(=O)C=CC5(C)C4C(O)CC3(C)C2(... alogp            _metadata.parent_molecule_data                    2.72  \n",
       "2          4          CCCC1OC2CC3C4CCC5=CC(=O)C=CC5(C)C4C(O)CC3(C)C2(... alogp            _metadata.parent_molecule_data                    2.72  "
      ]
     },
     "execution_count": 9,
     "metadata": {},
     "output_type": "execute_result"
    }
   ],
   "source": [
    "pd.pivot_table(df_combined, \n",
    "               values=['pchembl_value_actual', 'pchembl_value_predicted', 'min_mean_percentmcs'], \n",
    "               index=['generation', 'max_radius', 'stripped_smiles_predicted', 'target_pref_name', 'standard_type'], \n",
    "               aggfunc=['min', 'mean', 'max'])"
   ]
  },
  {
   "cell_type": "code",
   "execution_count": 10,
   "metadata": {},
   "outputs": [
    {
     "data": {
      "image/png": "[encoded data removed]",
      "text/plain": [
       "<rdkit.Chem.rdchem.Mol at 0x7f8928cf6990>"
      ]
     },
     "execution_count": 10,
     "metadata": {},
     "output_type": "execute_result"
    }
   ],
   "source": [
    "Chem.MolFromSmiles(df_combined.sample(1).last_smiles.to_list()[0])"
   ]
  },
  {
   "cell_type": "markdown",
   "metadata": {},
   "source": [
    "### Write to file"
   ]
  },
  {
   "cell_type": "code",
   "execution_count": 11,
   "metadata": {},
   "outputs": [],
   "source": [
    "df_products = df_products.reset_index()\n",
    "df_products.to_csv('nr3c1_agonists_products.csv', index=False)"
   ]
  },
  {
   "cell_type": "code",
   "execution_count": null,
   "metadata": {},
   "outputs": [],
   "source": []
  }
 ],
 "metadata": {
  "kernelspec": {
   "display_name": "Python 3 (ipykernel)",
   "language": "python",
   "name": "python3"
  },
  "language_info": {
   "codemirror_mode": {
    "name": "ipython",
    "version": 3
   },
   "file_extension": ".py",
   "mimetype": "text/x-python",
   "name": "python",
   "nbconvert_exporter": "python",
   "pygments_lexer": "ipython3",
   "version": "3.7.0"
  }
 },
 "nbformat": 4,
 "nbformat_minor": 4
}
