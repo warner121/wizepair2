{
 "cells": [
  {
   "cell_type": "markdown",
   "metadata": {},
   "source": [
    "## Histone deacetylase 1 - part 3 (rule aggregation)"
   ]
  },
  {
   "cell_type": "markdown",
   "metadata": {},
   "source": [
    "### Import libraries"
   ]
  },
  {
   "cell_type": "code",
   "execution_count": 1,
   "metadata": {},
   "outputs": [],
   "source": [
    "import pandas as pd"
   ]
  },
  {
   "cell_type": "markdown",
   "metadata": {},
   "source": [
    "### Read in the datasets"
   ]
  },
  {
   "cell_type": "code",
   "execution_count": 2,
   "metadata": {},
   "outputs": [],
   "source": [
    "df = pd.read_csv('hdac1_inhibitors_stripped.csv')\n",
    "df_pairs = pd.read_csv('hdac1_inhibitors_pairs.csv')"
   ]
  },
  {
   "cell_type": "markdown",
   "metadata": {},
   "source": [
    "### Determine which measurements can be included in delta property calculation"
   ]
  },
  {
   "cell_type": "code",
   "execution_count": 3,
   "metadata": {},
   "outputs": [],
   "source": [
    "df['pchembl_exact'] = df.apply(lambda x: x.pchembl_value if x.standard_relation == \"=\" and x.pchembl_value else None, axis=1)"
   ]
  },
  {
   "cell_type": "markdown",
   "metadata": {},
   "source": [
    "### Combine twice with confirmed molecular pairs"
   ]
  },
  {
   "cell_type": "code",
   "execution_count": 4,
   "metadata": {},
   "outputs": [
    {
     "data": {
      "text/html": [
       "<div>\n",
       "<style scoped>\n",
       "    .dataframe tbody tr th:only-of-type {\n",
       "        vertical-align: middle;\n",
       "    }\n",
       "\n",
       "    .dataframe tbody tr th {\n",
       "        vertical-align: top;\n",
       "    }\n",
       "\n",
       "    .dataframe thead th {\n",
       "        text-align: right;\n",
       "    }\n",
       "</style>\n",
       "<table border=\"1\" class=\"dataframe\">\n",
       "  <thead>\n",
       "    <tr style=\"text-align: right;\">\n",
       "      <th></th>\n",
       "      <th>551</th>\n",
       "      <th>1002</th>\n",
       "      <th>185</th>\n",
       "    </tr>\n",
       "  </thead>\n",
       "  <tbody>\n",
       "    <tr>\n",
       "      <th>smiles1</th>\n",
       "      <td>Cc1cc(CN2CCC2)cnc1-c1ccc(C(=O)Nc2ccccc2N)cc1</td>\n",
       "      <td>N#Cc1cccnc1-c1ccc(C(=O)Nc2ccccc2N)cc1</td>\n",
       "      <td>CCN1CCN(Cc2cnc(-c3ccc(C(=O)Nc4ccccc4N)cc3)c(C#...</td>\n",
       "    </tr>\n",
       "    <tr>\n",
       "      <th>smiles2</th>\n",
       "      <td>Cc1cc(CN2CCN(C(C)C)CC2)cnc1-c1ccc(C(=O)Nc2cccc...</td>\n",
       "      <td>Cc1cc(CN2CCC2)cnc1-c1ccc(C(=O)Nc2ccccc2N)cc1</td>\n",
       "      <td>CC(C)N1CCN(Cc2cnc(-c3ccc(C(=O)Nc4ccccc4N)cc3)c...</td>\n",
       "    </tr>\n",
       "    <tr>\n",
       "      <th>percentmcs</th>\n",
       "      <td>0.818182</td>\n",
       "      <td>0.75</td>\n",
       "      <td>0.909091</td>\n",
       "    </tr>\n",
       "    <tr>\n",
       "      <th>radius</th>\n",
       "      <td>3</td>\n",
       "      <td>3</td>\n",
       "      <td>4</td>\n",
       "    </tr>\n",
       "    <tr>\n",
       "      <th>valid</th>\n",
       "      <td>True</td>\n",
       "      <td>True</td>\n",
       "      <td>True</td>\n",
       "    </tr>\n",
       "    <tr>\n",
       "      <th>...</th>\n",
       "      <td>...</td>\n",
       "      <td>...</td>\n",
       "      <td>...</td>\n",
       "    </tr>\n",
       "    <tr>\n",
       "      <th>ligand_efficiency.bei_y</th>\n",
       "      <td>NaN</td>\n",
       "      <td>20.59</td>\n",
       "      <td>NaN</td>\n",
       "    </tr>\n",
       "    <tr>\n",
       "      <th>ligand_efficiency.le_y</th>\n",
       "      <td>NaN</td>\n",
       "      <td>0.37</td>\n",
       "      <td>NaN</td>\n",
       "    </tr>\n",
       "    <tr>\n",
       "      <th>stripped_smiles_y</th>\n",
       "      <td>Cc1cc(CN2CCN(C(C)C)CC2)cnc1-c1ccc(C(=O)Nc2cccc...</td>\n",
       "      <td>Cc1cc(CN2CCC2)cnc1-c1ccc(C(=O)Nc2ccccc2N)cc1</td>\n",
       "      <td>CC(C)N1CCN(Cc2cnc(-c3ccc(C(=O)Nc4ccccc4N)cc3)c...</td>\n",
       "    </tr>\n",
       "    <tr>\n",
       "      <th>pchembl_exact_y</th>\n",
       "      <td>6.62</td>\n",
       "      <td>7.67</td>\n",
       "      <td>1.6</td>\n",
       "    </tr>\n",
       "    <tr>\n",
       "      <th>pchembl_exact_delta</th>\n",
       "      <td>0.11</td>\n",
       "      <td>-0.24</td>\n",
       "      <td>0.46</td>\n",
       "    </tr>\n",
       "  </tbody>\n",
       "</table>\n",
       "<p>104 rows × 3 columns</p>\n",
       "</div>"
      ],
      "text/plain": [
       "                                                                      551   \\\n",
       "smiles1                       Cc1cc(CN2CCC2)cnc1-c1ccc(C(=O)Nc2ccccc2N)cc1   \n",
       "smiles2                  Cc1cc(CN2CCN(C(C)C)CC2)cnc1-c1ccc(C(=O)Nc2cccc...   \n",
       "percentmcs                                                        0.818182   \n",
       "radius                                                                   3   \n",
       "valid                                                                 True   \n",
       "...                                                                    ...   \n",
       "ligand_efficiency.bei_y                                                NaN   \n",
       "ligand_efficiency.le_y                                                 NaN   \n",
       "stripped_smiles_y        Cc1cc(CN2CCN(C(C)C)CC2)cnc1-c1ccc(C(=O)Nc2cccc...   \n",
       "pchembl_exact_y                                                       6.62   \n",
       "pchembl_exact_delta                                                   0.11   \n",
       "\n",
       "                                                                 1002  \\\n",
       "smiles1                         N#Cc1cccnc1-c1ccc(C(=O)Nc2ccccc2N)cc1   \n",
       "smiles2                  Cc1cc(CN2CCC2)cnc1-c1ccc(C(=O)Nc2ccccc2N)cc1   \n",
       "percentmcs                                                       0.75   \n",
       "radius                                                              3   \n",
       "valid                                                            True   \n",
       "...                                                               ...   \n",
       "ligand_efficiency.bei_y                                         20.59   \n",
       "ligand_efficiency.le_y                                           0.37   \n",
       "stripped_smiles_y        Cc1cc(CN2CCC2)cnc1-c1ccc(C(=O)Nc2ccccc2N)cc1   \n",
       "pchembl_exact_y                                                  7.67   \n",
       "pchembl_exact_delta                                             -0.24   \n",
       "\n",
       "                                                                      185   \n",
       "smiles1                  CCN1CCN(Cc2cnc(-c3ccc(C(=O)Nc4ccccc4N)cc3)c(C#...  \n",
       "smiles2                  CC(C)N1CCN(Cc2cnc(-c3ccc(C(=O)Nc4ccccc4N)cc3)c...  \n",
       "percentmcs                                                        0.909091  \n",
       "radius                                                                   4  \n",
       "valid                                                                 True  \n",
       "...                                                                    ...  \n",
       "ligand_efficiency.bei_y                                                NaN  \n",
       "ligand_efficiency.le_y                                                 NaN  \n",
       "stripped_smiles_y        CC(C)N1CCN(Cc2cnc(-c3ccc(C(=O)Nc4ccccc4N)cc3)c...  \n",
       "pchembl_exact_y                                                        1.6  \n",
       "pchembl_exact_delta                                                   0.46  \n",
       "\n",
       "[104 rows x 3 columns]"
      ]
     },
     "execution_count": 4,
     "metadata": {},
     "output_type": "execute_result"
    }
   ],
   "source": [
    "df_merge = df_pairs.merge(df, left_on='smiles1', right_on='stripped_smiles')\n",
    "df_merge = df_merge.merge(df, left_on=['smiles2', 'assay_chembl_id'], right_on=['stripped_smiles', 'assay_chembl_id'])\n",
    "df_merge['pchembl_exact_delta'] = df_merge['pchembl_exact_y'] - df_merge['pchembl_exact_x'] \n",
    "df_merge.sample(3).transpose()"
   ]
  },
  {
   "cell_type": "markdown",
   "metadata": {},
   "source": [
    "### Filter mcs > 90%"
   ]
  },
  {
   "cell_type": "code",
   "execution_count": 5,
   "metadata": {},
   "outputs": [],
   "source": [
    "df_agg = df_merge[(df_merge.percentmcs > 0.9) & pd.notna(df_merge.pchembl_exact_delta)]"
   ]
  },
  {
   "cell_type": "markdown",
   "metadata": {},
   "source": [
    "### Aggregate data by the two fragments"
   ]
  },
  {
   "cell_type": "code",
   "execution_count": 6,
   "metadata": {},
   "outputs": [],
   "source": [
    "indexcols = ['fragment1', 'fragment2', 'radius', 'assay_chembl_id']\n",
    "df_agg_data = pd.pivot_table(df_agg, values='pchembl_exact_delta', index=indexcols, aggfunc=['count','mean'])\n",
    "df_agg_data.columns = ['_'.join(col).strip() for col in df_agg_data.columns.values]"
   ]
  },
  {
   "cell_type": "markdown",
   "metadata": {},
   "source": [
    "### Retain single SMIRKS per transformation (effectively at random)"
   ]
  },
  {
   "cell_type": "code",
   "execution_count": 7,
   "metadata": {},
   "outputs": [],
   "source": [
    "df_agg_smirks = pd.pivot_table(df_agg, values='smirks', index=indexcols, aggfunc='first')\n",
    "df_agg = df_agg_data.join(df_agg_smirks).reset_index()"
   ]
  },
  {
   "cell_type": "markdown",
   "metadata": {},
   "source": [
    "### Write to file"
   ]
  },
  {
   "cell_type": "code",
   "execution_count": 8,
   "metadata": {},
   "outputs": [],
   "source": [
    "df_agg.to_csv('hdac1_inhibitors_transformations.csv', index=False)"
   ]
  },
  {
   "cell_type": "markdown",
   "metadata": {},
   "source": [
    "### ...and finally plot (figure 3 from wizepairz paper)"
   ]
  },
  {
   "cell_type": "code",
   "execution_count": 9,
   "metadata": {},
   "outputs": [
    {
     "data": {
      "text/html": [
       "<div>\n",
       "<style scoped>\n",
       "    .dataframe tbody tr th:only-of-type {\n",
       "        vertical-align: middle;\n",
       "    }\n",
       "\n",
       "    .dataframe tbody tr th {\n",
       "        vertical-align: top;\n",
       "    }\n",
       "\n",
       "    .dataframe thead th {\n",
       "        text-align: right;\n",
       "    }\n",
       "</style>\n",
       "<table border=\"1\" class=\"dataframe\">\n",
       "  <thead>\n",
       "    <tr style=\"text-align: right;\">\n",
       "      <th></th>\n",
       "      <th></th>\n",
       "      <th>assay_chembl_id</th>\n",
       "      <th>CHEMBL927948</th>\n",
       "      <th>CHEMBL927949</th>\n",
       "      <th>CHEMBL927950</th>\n",
       "      <th>CHEMBL927952</th>\n",
       "    </tr>\n",
       "    <tr>\n",
       "      <th>fragment1</th>\n",
       "      <th>fragment2</th>\n",
       "      <th>radius</th>\n",
       "      <th></th>\n",
       "      <th></th>\n",
       "      <th></th>\n",
       "      <th></th>\n",
       "    </tr>\n",
       "  </thead>\n",
       "  <tbody>\n",
       "    <tr>\n",
       "      <th>[CH3][CH2][N]([CH2][CH3])[CH2][CH3]</th>\n",
       "      <th>[CH3][CH2][N]([CH2][CH3])[CH]([CH3])[CH3]</th>\n",
       "      <th>3</th>\n",
       "      <td>0.016667</td>\n",
       "      <td>0.003333</td>\n",
       "      <td>0.07</td>\n",
       "      <td>0.083333</td>\n",
       "    </tr>\n",
       "    <tr>\n",
       "      <th>[CH3][CH2][N]([CH2][CH3])[CH]([CH3])[CH3]</th>\n",
       "      <th>[CH3][CH2][N]([CH2][CH3])[CH2][CH3]</th>\n",
       "      <th>3</th>\n",
       "      <td>-0.016667</td>\n",
       "      <td>-0.003333</td>\n",
       "      <td>-0.07</td>\n",
       "      <td>-0.083333</td>\n",
       "    </tr>\n",
       "    <tr>\n",
       "      <th rowspan=\"3\" valign=\"top\">[cH2][cH][c]([CH3])[c](-[cH3])[nH]</th>\n",
       "      <th>[cH2][cH][c]([C]#[N])[c](-[cH3])[nH]</th>\n",
       "      <th>3</th>\n",
       "      <td>0.293333</td>\n",
       "      <td>0.266667</td>\n",
       "      <td>NaN</td>\n",
       "      <td>-0.060000</td>\n",
       "    </tr>\n",
       "    <tr>\n",
       "      <th>[cH2][cH][c]([Cl])[c](-[cH3])[nH]</th>\n",
       "      <th>3</th>\n",
       "      <td>0.110000</td>\n",
       "      <td>-0.140000</td>\n",
       "      <td>NaN</td>\n",
       "      <td>0.425000</td>\n",
       "    </tr>\n",
       "    <tr>\n",
       "      <th>[cH2][cH][c]([F])[c](-[cH3])[nH]</th>\n",
       "      <th>3</th>\n",
       "      <td>-0.305000</td>\n",
       "      <td>-0.255000</td>\n",
       "      <td>NaN</td>\n",
       "      <td>0.335000</td>\n",
       "    </tr>\n",
       "    <tr>\n",
       "      <th rowspan=\"3\" valign=\"top\">[cH2][cH][c]([C]#[N])[c](-[cH3])[nH]</th>\n",
       "      <th>[cH2][cH][c]([CH3])[c](-[cH3])[nH]</th>\n",
       "      <th>3</th>\n",
       "      <td>-0.293333</td>\n",
       "      <td>-0.266667</td>\n",
       "      <td>NaN</td>\n",
       "      <td>0.060000</td>\n",
       "    </tr>\n",
       "    <tr>\n",
       "      <th>[cH2][cH][c]([Cl])[c](-[cH3])[nH]</th>\n",
       "      <th>3</th>\n",
       "      <td>-0.160000</td>\n",
       "      <td>-0.365000</td>\n",
       "      <td>0.43</td>\n",
       "      <td>0.535000</td>\n",
       "    </tr>\n",
       "    <tr>\n",
       "      <th>[cH2][cH][c]([F])[c](-[cH3])[nH]</th>\n",
       "      <th>3</th>\n",
       "      <td>-0.605000</td>\n",
       "      <td>-0.545000</td>\n",
       "      <td>NaN</td>\n",
       "      <td>0.395000</td>\n",
       "    </tr>\n",
       "    <tr>\n",
       "      <th rowspan=\"3\" valign=\"top\">[cH2][cH][c]([Cl])[c](-[cH3])[nH]</th>\n",
       "      <th>[cH2][cH][c]([CH3])[c](-[cH3])[nH]</th>\n",
       "      <th>3</th>\n",
       "      <td>-0.110000</td>\n",
       "      <td>0.140000</td>\n",
       "      <td>NaN</td>\n",
       "      <td>-0.425000</td>\n",
       "    </tr>\n",
       "    <tr>\n",
       "      <th>[cH2][cH][c]([C]#[N])[c](-[cH3])[nH]</th>\n",
       "      <th>3</th>\n",
       "      <td>0.160000</td>\n",
       "      <td>0.365000</td>\n",
       "      <td>-0.43</td>\n",
       "      <td>-0.535000</td>\n",
       "    </tr>\n",
       "    <tr>\n",
       "      <th>[cH2][cH][c]([F])[c](-[cH3])[nH]</th>\n",
       "      <th>3</th>\n",
       "      <td>-0.400000</td>\n",
       "      <td>-0.320000</td>\n",
       "      <td>NaN</td>\n",
       "      <td>-0.080000</td>\n",
       "    </tr>\n",
       "    <tr>\n",
       "      <th rowspan=\"3\" valign=\"top\">[cH2][cH][c]([F])[c](-[cH3])[nH]</th>\n",
       "      <th>[cH2][cH][c]([CH3])[c](-[cH3])[nH]</th>\n",
       "      <th>3</th>\n",
       "      <td>0.305000</td>\n",
       "      <td>0.255000</td>\n",
       "      <td>NaN</td>\n",
       "      <td>-0.335000</td>\n",
       "    </tr>\n",
       "    <tr>\n",
       "      <th>[cH2][cH][c]([C]#[N])[c](-[cH3])[nH]</th>\n",
       "      <th>3</th>\n",
       "      <td>0.605000</td>\n",
       "      <td>0.545000</td>\n",
       "      <td>NaN</td>\n",
       "      <td>-0.395000</td>\n",
       "    </tr>\n",
       "    <tr>\n",
       "      <th>[cH2][cH][c]([Cl])[c](-[cH3])[nH]</th>\n",
       "      <th>3</th>\n",
       "      <td>0.400000</td>\n",
       "      <td>0.320000</td>\n",
       "      <td>NaN</td>\n",
       "      <td>0.080000</td>\n",
       "    </tr>\n",
       "  </tbody>\n",
       "</table>\n",
       "</div>"
      ],
      "text/plain": [
       "assay_chembl_id                                                                             CHEMBL927948  \\\n",
       "fragment1                                 fragment2                                 radius                 \n",
       "[CH3][CH2][N]([CH2][CH3])[CH2][CH3]       [CH3][CH2][N]([CH2][CH3])[CH]([CH3])[CH3] 3           0.016667   \n",
       "[CH3][CH2][N]([CH2][CH3])[CH]([CH3])[CH3] [CH3][CH2][N]([CH2][CH3])[CH2][CH3]       3          -0.016667   \n",
       "[cH2][cH][c]([CH3])[c](-[cH3])[nH]        [cH2][cH][c]([C]#[N])[c](-[cH3])[nH]      3           0.293333   \n",
       "                                          [cH2][cH][c]([Cl])[c](-[cH3])[nH]         3           0.110000   \n",
       "                                          [cH2][cH][c]([F])[c](-[cH3])[nH]          3          -0.305000   \n",
       "[cH2][cH][c]([C]#[N])[c](-[cH3])[nH]      [cH2][cH][c]([CH3])[c](-[cH3])[nH]        3          -0.293333   \n",
       "                                          [cH2][cH][c]([Cl])[c](-[cH3])[nH]         3          -0.160000   \n",
       "                                          [cH2][cH][c]([F])[c](-[cH3])[nH]          3          -0.605000   \n",
       "[cH2][cH][c]([Cl])[c](-[cH3])[nH]         [cH2][cH][c]([CH3])[c](-[cH3])[nH]        3          -0.110000   \n",
       "                                          [cH2][cH][c]([C]#[N])[c](-[cH3])[nH]      3           0.160000   \n",
       "                                          [cH2][cH][c]([F])[c](-[cH3])[nH]          3          -0.400000   \n",
       "[cH2][cH][c]([F])[c](-[cH3])[nH]          [cH2][cH][c]([CH3])[c](-[cH3])[nH]        3           0.305000   \n",
       "                                          [cH2][cH][c]([C]#[N])[c](-[cH3])[nH]      3           0.605000   \n",
       "                                          [cH2][cH][c]([Cl])[c](-[cH3])[nH]         3           0.400000   \n",
       "\n",
       "assay_chembl_id                                                                             CHEMBL927949  \\\n",
       "fragment1                                 fragment2                                 radius                 \n",
       "[CH3][CH2][N]([CH2][CH3])[CH2][CH3]       [CH3][CH2][N]([CH2][CH3])[CH]([CH3])[CH3] 3           0.003333   \n",
       "[CH3][CH2][N]([CH2][CH3])[CH]([CH3])[CH3] [CH3][CH2][N]([CH2][CH3])[CH2][CH3]       3          -0.003333   \n",
       "[cH2][cH][c]([CH3])[c](-[cH3])[nH]        [cH2][cH][c]([C]#[N])[c](-[cH3])[nH]      3           0.266667   \n",
       "                                          [cH2][cH][c]([Cl])[c](-[cH3])[nH]         3          -0.140000   \n",
       "                                          [cH2][cH][c]([F])[c](-[cH3])[nH]          3          -0.255000   \n",
       "[cH2][cH][c]([C]#[N])[c](-[cH3])[nH]      [cH2][cH][c]([CH3])[c](-[cH3])[nH]        3          -0.266667   \n",
       "                                          [cH2][cH][c]([Cl])[c](-[cH3])[nH]         3          -0.365000   \n",
       "                                          [cH2][cH][c]([F])[c](-[cH3])[nH]          3          -0.545000   \n",
       "[cH2][cH][c]([Cl])[c](-[cH3])[nH]         [cH2][cH][c]([CH3])[c](-[cH3])[nH]        3           0.140000   \n",
       "                                          [cH2][cH][c]([C]#[N])[c](-[cH3])[nH]      3           0.365000   \n",
       "                                          [cH2][cH][c]([F])[c](-[cH3])[nH]          3          -0.320000   \n",
       "[cH2][cH][c]([F])[c](-[cH3])[nH]          [cH2][cH][c]([CH3])[c](-[cH3])[nH]        3           0.255000   \n",
       "                                          [cH2][cH][c]([C]#[N])[c](-[cH3])[nH]      3           0.545000   \n",
       "                                          [cH2][cH][c]([Cl])[c](-[cH3])[nH]         3           0.320000   \n",
       "\n",
       "assay_chembl_id                                                                             CHEMBL927950  \\\n",
       "fragment1                                 fragment2                                 radius                 \n",
       "[CH3][CH2][N]([CH2][CH3])[CH2][CH3]       [CH3][CH2][N]([CH2][CH3])[CH]([CH3])[CH3] 3               0.07   \n",
       "[CH3][CH2][N]([CH2][CH3])[CH]([CH3])[CH3] [CH3][CH2][N]([CH2][CH3])[CH2][CH3]       3              -0.07   \n",
       "[cH2][cH][c]([CH3])[c](-[cH3])[nH]        [cH2][cH][c]([C]#[N])[c](-[cH3])[nH]      3                NaN   \n",
       "                                          [cH2][cH][c]([Cl])[c](-[cH3])[nH]         3                NaN   \n",
       "                                          [cH2][cH][c]([F])[c](-[cH3])[nH]          3                NaN   \n",
       "[cH2][cH][c]([C]#[N])[c](-[cH3])[nH]      [cH2][cH][c]([CH3])[c](-[cH3])[nH]        3                NaN   \n",
       "                                          [cH2][cH][c]([Cl])[c](-[cH3])[nH]         3               0.43   \n",
       "                                          [cH2][cH][c]([F])[c](-[cH3])[nH]          3                NaN   \n",
       "[cH2][cH][c]([Cl])[c](-[cH3])[nH]         [cH2][cH][c]([CH3])[c](-[cH3])[nH]        3                NaN   \n",
       "                                          [cH2][cH][c]([C]#[N])[c](-[cH3])[nH]      3              -0.43   \n",
       "                                          [cH2][cH][c]([F])[c](-[cH3])[nH]          3                NaN   \n",
       "[cH2][cH][c]([F])[c](-[cH3])[nH]          [cH2][cH][c]([CH3])[c](-[cH3])[nH]        3                NaN   \n",
       "                                          [cH2][cH][c]([C]#[N])[c](-[cH3])[nH]      3                NaN   \n",
       "                                          [cH2][cH][c]([Cl])[c](-[cH3])[nH]         3                NaN   \n",
       "\n",
       "assay_chembl_id                                                                             CHEMBL927952  \n",
       "fragment1                                 fragment2                                 radius                \n",
       "[CH3][CH2][N]([CH2][CH3])[CH2][CH3]       [CH3][CH2][N]([CH2][CH3])[CH]([CH3])[CH3] 3           0.083333  \n",
       "[CH3][CH2][N]([CH2][CH3])[CH]([CH3])[CH3] [CH3][CH2][N]([CH2][CH3])[CH2][CH3]       3          -0.083333  \n",
       "[cH2][cH][c]([CH3])[c](-[cH3])[nH]        [cH2][cH][c]([C]#[N])[c](-[cH3])[nH]      3          -0.060000  \n",
       "                                          [cH2][cH][c]([Cl])[c](-[cH3])[nH]         3           0.425000  \n",
       "                                          [cH2][cH][c]([F])[c](-[cH3])[nH]          3           0.335000  \n",
       "[cH2][cH][c]([C]#[N])[c](-[cH3])[nH]      [cH2][cH][c]([CH3])[c](-[cH3])[nH]        3           0.060000  \n",
       "                                          [cH2][cH][c]([Cl])[c](-[cH3])[nH]         3           0.535000  \n",
       "                                          [cH2][cH][c]([F])[c](-[cH3])[nH]          3           0.395000  \n",
       "[cH2][cH][c]([Cl])[c](-[cH3])[nH]         [cH2][cH][c]([CH3])[c](-[cH3])[nH]        3          -0.425000  \n",
       "                                          [cH2][cH][c]([C]#[N])[c](-[cH3])[nH]      3          -0.535000  \n",
       "                                          [cH2][cH][c]([F])[c](-[cH3])[nH]          3          -0.080000  \n",
       "[cH2][cH][c]([F])[c](-[cH3])[nH]          [cH2][cH][c]([CH3])[c](-[cH3])[nH]        3          -0.335000  \n",
       "                                          [cH2][cH][c]([C]#[N])[c](-[cH3])[nH]      3          -0.395000  \n",
       "                                          [cH2][cH][c]([Cl])[c](-[cH3])[nH]         3           0.080000  "
      ]
     },
     "execution_count": 9,
     "metadata": {},
     "output_type": "execute_result"
    }
   ],
   "source": [
    "df_plot = df_agg[df_agg.radius == 3]\n",
    "df_plot = pd.pivot_table(df_plot, values='mean_pchembl_exact_delta', index=['fragment1', 'fragment2', 'radius'], columns='assay_chembl_id', aggfunc='first')\n",
    "df_plot"
   ]
  },
  {
   "cell_type": "code",
   "execution_count": 10,
   "metadata": {},
   "outputs": [
    {
     "data": {
      "text/plain": [
       "<AxesSubplot:xlabel='CHEMBL927952', ylabel='CHEMBL927948'>"
      ]
     },
     "execution_count": 10,
     "metadata": {},
     "output_type": "execute_result"
    },
    {
     "data": {
      "image/png": "[encoded data removed]",
      "text/plain": [
       "<Figure size 432x288 with 1 Axes>"
      ]
     },
     "metadata": {
      "needs_background": "light"
     },
     "output_type": "display_data"
    }
   ],
   "source": [
    "%matplotlib inline\n",
    "df_plot.plot.scatter('CHEMBL927952', 'CHEMBL927948')"
   ]
  },
  {
   "cell_type": "code",
   "execution_count": null,
   "metadata": {},
   "outputs": [],
   "source": []
  }
 ],
 "metadata": {
  "kernelspec": {
   "display_name": "Python 3",
   "language": "python",
   "name": "python3"
  },
  "language_info": {
   "codemirror_mode": {
    "name": "ipython",
    "version": 3
   },
   "file_extension": ".py",
   "mimetype": "text/x-python",
   "name": "python",
   "nbconvert_exporter": "python",
   "pygments_lexer": "ipython3",
   "version": "3.6.10"
  }
 },
 "nbformat": 4,
 "nbformat_minor": 4
}
