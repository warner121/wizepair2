{
 "cells": [
  {
   "cell_type": "markdown",
   "metadata": {},
   "source": [
    "## Histone deacetylase 1 - part 4 (library enumeration)"
   ]
  },
  {
   "cell_type": "markdown",
   "metadata": {},
   "source": [
    "### Import libraries"
   ]
  },
  {
   "cell_type": "code",
   "execution_count": 1,
   "metadata": {},
   "outputs": [
    {
     "name": "stdout",
     "output_type": "stream",
     "text": [
      "INFO: Pandarallel will run on 8 workers.\n",
      "INFO: Pandarallel will use Memory file system to transfer data between the main process and workers.\n"
     ]
    }
   ],
   "source": [
    "import pandas as pd\n",
    "\n",
    "from pandarallel import pandarallel\n",
    "pandarallel.initialize(progress_bar=True)\n",
    "\n",
    "from rdkit import Chem"
   ]
  },
  {
   "cell_type": "markdown",
   "metadata": {},
   "source": [
    "### Read in the datasets"
   ]
  },
  {
   "cell_type": "code",
   "execution_count": 2,
   "metadata": {},
   "outputs": [],
   "source": [
    "df = pd.read_csv('hdac1_inhibitors_stripped.csv')\n",
    "df_trans = pd.read_csv('hdac1_inhibitors_transformations.csv')"
   ]
  },
  {
   "cell_type": "markdown",
   "metadata": {},
   "source": [
    "### Merge on assay identifier to enumerate all seed molecule / transformation pairs"
   ]
  },
  {
   "cell_type": "code",
   "execution_count": 3,
   "metadata": {},
   "outputs": [],
   "source": [
    "df = df[pd.notna(df.pchembl_value)]\n",
    "df = df.merge(df_trans, on='assay_chembl_id')"
   ]
  },
  {
   "cell_type": "markdown",
   "metadata": {},
   "source": [
    "### Apply the transformations"
   ]
  },
  {
   "cell_type": "code",
   "execution_count": 4,
   "metadata": {},
   "outputs": [
    {
     "data": {
      "application/vnd.jupyter.widget-view+json": {
       "model_id": "960f029c0ef24d979357a4d0999bb717",
       "version_major": 2,
       "version_minor": 0
      },
      "text/plain": [
       "VBox(children=(HBox(children=(IntProgress(value=0, description='0.00%', max=295), Label(value='0 / 295'))), HB…"
      ]
     },
     "metadata": {},
     "output_type": "display_data"
    }
   ],
   "source": [
    "def apply_reaction(smiles, smirks):\n",
    "    rxn = Chem.rdChemReactions.ReactionFromSmarts(smirks)\n",
    "    productset = rxn.RunReactants((Chem.AddHs(Chem.MolFromSmiles(smiles)),))\n",
    "    productlist = list()\n",
    "    for product in productset:\n",
    "        productlist.append('.'.join([Chem.MolToSmiles(Chem.RemoveHs(productpart)) for productpart in product]))\n",
    "    return list(set(productlist))\n",
    "\n",
    "df_seed = df.parallel_apply(lambda x: apply_reaction(x.stripped_smiles, x.smirks), axis=1)"
   ]
  },
  {
   "cell_type": "markdown",
   "metadata": {},
   "source": [
    "### Associate products with seed data"
   ]
  },
  {
   "cell_type": "code",
   "execution_count": 5,
   "metadata": {},
   "outputs": [],
   "source": [
    "df_seed = df.join(pd.DataFrame(df_seed.explode(), columns=['products']))\n",
    "df_seed = df_seed[pd.notna(df_seed.products)]"
   ]
  },
  {
   "cell_type": "markdown",
   "metadata": {},
   "source": [
    "### Seed + delta = prediction, and aggregate (optionally weighted according to count of pairs in transformation)"
   ]
  },
  {
   "cell_type": "code",
   "execution_count": 6,
   "metadata": {},
   "outputs": [],
   "source": [
    "df_seed['pchembl_predicted'] = (df_seed.pchembl_value + df_seed.mean_pchembl_exact_delta) #* df_seed.count_pchembl_exact_delta\n",
    "df_products = pd.pivot_table(df_seed, values=['count_pchembl_exact_delta', 'pchembl_predicted'], index=['products', 'radius', 'assay_chembl_id'], aggfunc='mean')\n",
    "#df_products['pchembl_predicted'] = df_products.pchembl_predicted / df_products.count_pchembl_exact_delta"
   ]
  },
  {
   "cell_type": "markdown",
   "metadata": {},
   "source": [
    "### Write to file"
   ]
  },
  {
   "cell_type": "code",
   "execution_count": 7,
   "metadata": {},
   "outputs": [],
   "source": [
    "df_products = df_products.reset_index()\n",
    "df_products.to_csv('hdac1_inhibitors_products.csv', index=False)"
   ]
  },
  {
   "cell_type": "markdown",
   "metadata": {},
   "source": [
    "### ... and finaly tabulate (tables 4 & 5 from wizepairz paper)"
   ]
  },
  {
   "cell_type": "code",
   "execution_count": 8,
   "metadata": {},
   "outputs": [],
   "source": [
    "df_holdout = pd.read_csv('hdac1_inhibitors_stripped_holdout.csv')\n",
    "df_holdout = df_seed.merge(df_holdout, left_on=['assay_chembl_id', 'products'], right_on=['assay_chembl_id', 'stripped_smiles'])\n",
    "tablecols = ['_metadata.parent_molecule_data.compound_key_x', 'fragment1', 'fragment2', 'pchembl_value_x', 'mean_pchembl_exact_delta', 'pchembl_predicted']"
   ]
  },
  {
   "cell_type": "code",
   "execution_count": 9,
   "metadata": {},
   "outputs": [
    {
     "data": {
      "text/html": [
       "<div>\n",
       "<style scoped>\n",
       "    .dataframe tbody tr th:only-of-type {\n",
       "        vertical-align: middle;\n",
       "    }\n",
       "\n",
       "    .dataframe tbody tr th {\n",
       "        vertical-align: top;\n",
       "    }\n",
       "\n",
       "    .dataframe thead th {\n",
       "        text-align: right;\n",
       "    }\n",
       "</style>\n",
       "<table border=\"1\" class=\"dataframe\">\n",
       "  <thead>\n",
       "    <tr style=\"text-align: right;\">\n",
       "      <th></th>\n",
       "      <th>_metadata.parent_molecule_data.compound_key_x</th>\n",
       "      <th>fragment1</th>\n",
       "      <th>fragment2</th>\n",
       "      <th>pchembl_value_x</th>\n",
       "      <th>mean_pchembl_exact_delta</th>\n",
       "      <th>pchembl_predicted</th>\n",
       "    </tr>\n",
       "  </thead>\n",
       "  <tbody>\n",
       "    <tr>\n",
       "      <th>1</th>\n",
       "      <td>13b</td>\n",
       "      <td>66c735f6aa9c5b5cc24a7258604abfe3</td>\n",
       "      <td>709d9861baef05140bf108058786fabf</td>\n",
       "      <td>8.01</td>\n",
       "      <td>-0.16</td>\n",
       "      <td>7.85</td>\n",
       "    </tr>\n",
       "    <tr>\n",
       "      <th>4</th>\n",
       "      <td>13a</td>\n",
       "      <td>1e5e8361c8f05f9f512e901d22506931</td>\n",
       "      <td>709d9861baef05140bf108058786fabf</td>\n",
       "      <td>7.67</td>\n",
       "      <td>0.11</td>\n",
       "      <td>7.78</td>\n",
       "    </tr>\n",
       "    <tr>\n",
       "      <th>11</th>\n",
       "      <td>13d</td>\n",
       "      <td>f023e31e01c29c216d13ecf4ae323f3b</td>\n",
       "      <td>709d9861baef05140bf108058786fabf</td>\n",
       "      <td>7.30</td>\n",
       "      <td>0.40</td>\n",
       "      <td>7.70</td>\n",
       "    </tr>\n",
       "  </tbody>\n",
       "</table>\n",
       "</div>"
      ],
      "text/plain": [
       "   _metadata.parent_molecule_data.compound_key_x  \\\n",
       "1                                            13b   \n",
       "4                                            13a   \n",
       "11                                           13d   \n",
       "\n",
       "                           fragment1                         fragment2  \\\n",
       "1   66c735f6aa9c5b5cc24a7258604abfe3  709d9861baef05140bf108058786fabf   \n",
       "4   1e5e8361c8f05f9f512e901d22506931  709d9861baef05140bf108058786fabf   \n",
       "11  f023e31e01c29c216d13ecf4ae323f3b  709d9861baef05140bf108058786fabf   \n",
       "\n",
       "    pchembl_value_x  mean_pchembl_exact_delta  pchembl_predicted  \n",
       "1              8.01                     -0.16               7.85  \n",
       "4              7.67                      0.11               7.78  \n",
       "11             7.30                      0.40               7.70  "
      ]
     },
     "execution_count": 9,
     "metadata": {},
     "output_type": "execute_result"
    }
   ],
   "source": [
    "df_holdout[(df_holdout.radius==3) & (df_holdout.assay_chembl_id=='CHEMBL927948') & (df_holdout['_metadata.parent_molecule_data.compound_key_y']=='13c')][tablecols]"
   ]
  },
  {
   "cell_type": "code",
   "execution_count": 10,
   "metadata": {},
   "outputs": [
    {
     "data": {
      "text/html": [
       "<div>\n",
       "<style scoped>\n",
       "    .dataframe tbody tr th:only-of-type {\n",
       "        vertical-align: middle;\n",
       "    }\n",
       "\n",
       "    .dataframe tbody tr th {\n",
       "        vertical-align: top;\n",
       "    }\n",
       "\n",
       "    .dataframe thead th {\n",
       "        text-align: right;\n",
       "    }\n",
       "</style>\n",
       "<table border=\"1\" class=\"dataframe\">\n",
       "  <thead>\n",
       "    <tr style=\"text-align: right;\">\n",
       "      <th></th>\n",
       "      <th>_metadata.parent_molecule_data.compound_key_x</th>\n",
       "      <th>fragment1</th>\n",
       "      <th>fragment2</th>\n",
       "      <th>pchembl_value_x</th>\n",
       "      <th>mean_pchembl_exact_delta</th>\n",
       "      <th>pchembl_predicted</th>\n",
       "    </tr>\n",
       "  </thead>\n",
       "  <tbody>\n",
       "    <tr>\n",
       "      <th>15</th>\n",
       "      <td>15d</td>\n",
       "      <td>a545b6dcb46a2e453d6a86e729aa3e08</td>\n",
       "      <td>1fd8ece99712a9432eb8759959e992c6</td>\n",
       "      <td>7.48</td>\n",
       "      <td>-0.016667</td>\n",
       "      <td>7.463333</td>\n",
       "    </tr>\n",
       "    <tr>\n",
       "      <th>16</th>\n",
       "      <td>14a</td>\n",
       "      <td>1e5e8361c8f05f9f512e901d22506931</td>\n",
       "      <td>f023e31e01c29c216d13ecf4ae323f3b</td>\n",
       "      <td>7.73</td>\n",
       "      <td>-0.305000</td>\n",
       "      <td>7.425000</td>\n",
       "    </tr>\n",
       "    <tr>\n",
       "      <th>21</th>\n",
       "      <td>14b</td>\n",
       "      <td>66c735f6aa9c5b5cc24a7258604abfe3</td>\n",
       "      <td>f023e31e01c29c216d13ecf4ae323f3b</td>\n",
       "      <td>8.01</td>\n",
       "      <td>-0.605000</td>\n",
       "      <td>7.405000</td>\n",
       "    </tr>\n",
       "    <tr>\n",
       "      <th>24</th>\n",
       "      <td>14c</td>\n",
       "      <td>709d9861baef05140bf108058786fabf</td>\n",
       "      <td>f023e31e01c29c216d13ecf4ae323f3b</td>\n",
       "      <td>7.79</td>\n",
       "      <td>-0.400000</td>\n",
       "      <td>7.390000</td>\n",
       "    </tr>\n",
       "  </tbody>\n",
       "</table>\n",
       "</div>"
      ],
      "text/plain": [
       "   _metadata.parent_molecule_data.compound_key_x  \\\n",
       "15                                           15d   \n",
       "16                                           14a   \n",
       "21                                           14b   \n",
       "24                                           14c   \n",
       "\n",
       "                           fragment1                         fragment2  \\\n",
       "15  a545b6dcb46a2e453d6a86e729aa3e08  1fd8ece99712a9432eb8759959e992c6   \n",
       "16  1e5e8361c8f05f9f512e901d22506931  f023e31e01c29c216d13ecf4ae323f3b   \n",
       "21  66c735f6aa9c5b5cc24a7258604abfe3  f023e31e01c29c216d13ecf4ae323f3b   \n",
       "24  709d9861baef05140bf108058786fabf  f023e31e01c29c216d13ecf4ae323f3b   \n",
       "\n",
       "    pchembl_value_x  mean_pchembl_exact_delta  pchembl_predicted  \n",
       "15             7.48                 -0.016667           7.463333  \n",
       "16             7.73                 -0.305000           7.425000  \n",
       "21             8.01                 -0.605000           7.405000  \n",
       "24             7.79                 -0.400000           7.390000  "
      ]
     },
     "execution_count": 10,
     "metadata": {},
     "output_type": "execute_result"
    }
   ],
   "source": [
    "df_holdout[(df_holdout.radius==3) & (df_holdout.assay_chembl_id=='CHEMBL927948') & (df_holdout['_metadata.parent_molecule_data.compound_key_y']=='14d')][tablecols]"
   ]
  },
  {
   "cell_type": "code",
   "execution_count": null,
   "metadata": {},
   "outputs": [],
   "source": []
  }
 ],
 "metadata": {
  "kernelspec": {
   "display_name": "Python 3 (ipykernel)",
   "language": "python",
   "name": "python3"
  },
  "language_info": {
   "codemirror_mode": {
    "name": "ipython",
    "version": 3
   },
   "file_extension": ".py",
   "mimetype": "text/x-python",
   "name": "python",
   "nbconvert_exporter": "python",
   "pygments_lexer": "ipython3",
   "version": "3.7.0"
  }
 },
 "nbformat": 4,
 "nbformat_minor": 4
}
