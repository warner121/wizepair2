{
 "cells": [
  {
   "cell_type": "markdown",
   "metadata": {},
   "source": [
    "## Histone deacetylase 1 - part 2 (MMP identification)"
   ]
  },
  {
   "cell_type": "markdown",
   "metadata": {},
   "source": [
    "### Import libraries"
   ]
  },
  {
   "cell_type": "code",
   "execution_count": 1,
   "metadata": {},
   "outputs": [],
   "source": [
    "import pandas as pd"
   ]
  },
  {
   "cell_type": "code",
   "execution_count": 2,
   "metadata": {},
   "outputs": [
    {
     "name": "stdout",
     "output_type": "stream",
     "text": [
      "INFO: Pandarallel will run on 6 workers.\n",
      "INFO: Pandarallel will use Memory file system to transfer data between the main process and workers.\n"
     ]
    }
   ],
   "source": [
    "from pandarallel import pandarallel\n",
    "pandarallel.initialize(progress_bar=True)\n",
    "\n",
    "import sys\n",
    "sys.path.append('/home/daniel/wizepair2')\n",
    "from classes.mmp import MMP"
   ]
  },
  {
   "cell_type": "markdown",
   "metadata": {},
   "source": [
    "### Read in the dataset"
   ]
  },
  {
   "cell_type": "code",
   "execution_count": 3,
   "metadata": {},
   "outputs": [
    {
     "data": {
      "text/plain": [
       "108"
      ]
     },
     "execution_count": 3,
     "metadata": {},
     "output_type": "execute_result"
    }
   ],
   "source": [
    "df = pd.read_csv('hdac1_inhibitors_stripped.csv')\n",
    "len(df.index)"
   ]
  },
  {
   "cell_type": "markdown",
   "metadata": {},
   "source": [
    "### Create cartesian product of unique molecules tested in the same assay"
   ]
  },
  {
   "cell_type": "code",
   "execution_count": 4,
   "metadata": {},
   "outputs": [
    {
     "data": {
      "text/html": [
       "<div>\n",
       "<style scoped>\n",
       "    .dataframe tbody tr th:only-of-type {\n",
       "        vertical-align: middle;\n",
       "    }\n",
       "\n",
       "    .dataframe tbody tr th {\n",
       "        vertical-align: top;\n",
       "    }\n",
       "\n",
       "    .dataframe thead th {\n",
       "        text-align: right;\n",
       "    }\n",
       "</style>\n",
       "<table border=\"1\" class=\"dataframe\">\n",
       "  <thead>\n",
       "    <tr style=\"text-align: right;\">\n",
       "      <th></th>\n",
       "      <th>stripped_smiles_x</th>\n",
       "      <th>stripped_smiles_y</th>\n",
       "    </tr>\n",
       "  </thead>\n",
       "  <tbody>\n",
       "    <tr>\n",
       "      <th>0</th>\n",
       "      <td>CC(C)N1CCN(Cc2cnc(-c3ccc(C(=O)Nc4ccccc4N)cc3)c...</td>\n",
       "      <td>CC(C)N1CCN(Cc2cnc(-c3ccc(C(=O)Nc4ccccc4N)cc3)c...</td>\n",
       "    </tr>\n",
       "    <tr>\n",
       "      <th>1</th>\n",
       "      <td>CC(C)N1CCN(Cc2cnc(-c3ccc(C(=O)Nc4ccccc4N)cc3)c...</td>\n",
       "      <td>N#Cc1cc(CN2CCC2)cnc1-c1ccc(C(=O)Nc2ccccc2N)cc1</td>\n",
       "    </tr>\n",
       "    <tr>\n",
       "      <th>2</th>\n",
       "      <td>CC(C)N1CCN(Cc2cnc(-c3ccc(C(=O)Nc4ccccc4N)cc3)c...</td>\n",
       "      <td>CC(C)N1CCN(Cc2cnc(-c3ccc(C(=O)Nc4ccccc4N)cc3)c...</td>\n",
       "    </tr>\n",
       "    <tr>\n",
       "      <th>3</th>\n",
       "      <td>CC(C)N1CCN(Cc2cnc(-c3ccc(C(=O)Nc4ccccc4N)cc3)c...</td>\n",
       "      <td>Cc1cc(CN2CCC2)cnc1-c1ccc(C(=O)Nc2ccccc2N)cc1</td>\n",
       "    </tr>\n",
       "    <tr>\n",
       "      <th>4</th>\n",
       "      <td>CC(C)N1CCN(Cc2cnc(-c3ccc(C(=O)Nc4ccccc4N)cc3)c...</td>\n",
       "      <td>CCN1CCN(Cc2cnc(-c3ccc(C(=O)Nc4ccccc4N)cc3)c(C)...</td>\n",
       "    </tr>\n",
       "    <tr>\n",
       "      <th>...</th>\n",
       "      <td>...</td>\n",
       "      <td>...</td>\n",
       "    </tr>\n",
       "    <tr>\n",
       "      <th>116</th>\n",
       "      <td>N#Cc1cccnc1-c1ccc(C(=O)Nc2ccccc2N)cc1</td>\n",
       "      <td>CCN1CCN(Cc2cnc(-c3ccc(C(=O)Nc4ccccc4N)cc3)c(Cl...</td>\n",
       "    </tr>\n",
       "    <tr>\n",
       "      <th>117</th>\n",
       "      <td>N#Cc1cccnc1-c1ccc(C(=O)Nc2ccccc2N)cc1</td>\n",
       "      <td>CC(C)N1CCN(Cc2cnc(-c3ccc(C(=O)Nc4ccccc4N)cc3)c...</td>\n",
       "    </tr>\n",
       "    <tr>\n",
       "      <th>118</th>\n",
       "      <td>N#Cc1cccnc1-c1ccc(C(=O)Nc2ccccc2N)cc1</td>\n",
       "      <td>Cc1cc(CN2CCN(C(C)C)CC2)cnc1-c1ccc(C(=O)Nc2cccc...</td>\n",
       "    </tr>\n",
       "    <tr>\n",
       "      <th>119</th>\n",
       "      <td>N#Cc1cccnc1-c1ccc(C(=O)Nc2ccccc2N)cc1</td>\n",
       "      <td>Nc1ccccc1NC(=O)c1ccc(-c2ncc(CN3CCC3)cc2F)cc1</td>\n",
       "    </tr>\n",
       "    <tr>\n",
       "      <th>120</th>\n",
       "      <td>N#Cc1cccnc1-c1ccc(C(=O)Nc2ccccc2N)cc1</td>\n",
       "      <td>N#Cc1cccnc1-c1ccc(C(=O)Nc2ccccc2N)cc1</td>\n",
       "    </tr>\n",
       "  </tbody>\n",
       "</table>\n",
       "<p>121 rows × 2 columns</p>\n",
       "</div>"
      ],
      "text/plain": [
       "                                     stripped_smiles_x  \\\n",
       "0    CC(C)N1CCN(Cc2cnc(-c3ccc(C(=O)Nc4ccccc4N)cc3)c...   \n",
       "1    CC(C)N1CCN(Cc2cnc(-c3ccc(C(=O)Nc4ccccc4N)cc3)c...   \n",
       "2    CC(C)N1CCN(Cc2cnc(-c3ccc(C(=O)Nc4ccccc4N)cc3)c...   \n",
       "3    CC(C)N1CCN(Cc2cnc(-c3ccc(C(=O)Nc4ccccc4N)cc3)c...   \n",
       "4    CC(C)N1CCN(Cc2cnc(-c3ccc(C(=O)Nc4ccccc4N)cc3)c...   \n",
       "..                                                 ...   \n",
       "116              N#Cc1cccnc1-c1ccc(C(=O)Nc2ccccc2N)cc1   \n",
       "117              N#Cc1cccnc1-c1ccc(C(=O)Nc2ccccc2N)cc1   \n",
       "118              N#Cc1cccnc1-c1ccc(C(=O)Nc2ccccc2N)cc1   \n",
       "119              N#Cc1cccnc1-c1ccc(C(=O)Nc2ccccc2N)cc1   \n",
       "120              N#Cc1cccnc1-c1ccc(C(=O)Nc2ccccc2N)cc1   \n",
       "\n",
       "                                     stripped_smiles_y  \n",
       "0    CC(C)N1CCN(Cc2cnc(-c3ccc(C(=O)Nc4ccccc4N)cc3)c...  \n",
       "1       N#Cc1cc(CN2CCC2)cnc1-c1ccc(C(=O)Nc2ccccc2N)cc1  \n",
       "2    CC(C)N1CCN(Cc2cnc(-c3ccc(C(=O)Nc4ccccc4N)cc3)c...  \n",
       "3         Cc1cc(CN2CCC2)cnc1-c1ccc(C(=O)Nc2ccccc2N)cc1  \n",
       "4    CCN1CCN(Cc2cnc(-c3ccc(C(=O)Nc4ccccc4N)cc3)c(C)...  \n",
       "..                                                 ...  \n",
       "116  CCN1CCN(Cc2cnc(-c3ccc(C(=O)Nc4ccccc4N)cc3)c(Cl...  \n",
       "117  CC(C)N1CCN(Cc2cnc(-c3ccc(C(=O)Nc4ccccc4N)cc3)c...  \n",
       "118  Cc1cc(CN2CCN(C(C)C)CC2)cnc1-c1ccc(C(=O)Nc2cccc...  \n",
       "119       Nc1ccccc1NC(=O)c1ccc(-c2ncc(CN3CCC3)cc2F)cc1  \n",
       "120              N#Cc1cccnc1-c1ccc(C(=O)Nc2ccccc2N)cc1  \n",
       "\n",
       "[121 rows x 2 columns]"
      ]
     },
     "execution_count": 4,
     "metadata": {},
     "output_type": "execute_result"
    }
   ],
   "source": [
    "df_pairs = pd.merge(df, df, on='assay_chembl_id')\n",
    "df_pairs = df_pairs[['stripped_smiles_x', 'stripped_smiles_y']].drop_duplicates()\n",
    "df_pairs"
   ]
  },
  {
   "cell_type": "markdown",
   "metadata": {},
   "source": [
    "### Identify all pairs"
   ]
  },
  {
   "cell_type": "code",
   "execution_count": 5,
   "metadata": {},
   "outputs": [
    {
     "data": {
      "application/vnd.jupyter.widget-view+json": {
       "model_id": "ea0d510a0a5e4aacbcb8ec7879e0b128",
       "version_major": 2,
       "version_minor": 0
      },
      "text/plain": [
       "VBox(children=(HBox(children=(IntProgress(value=0, description='0.00%', max=21), Label(value='0 / 21'))), HBox…"
      ]
     },
     "metadata": {},
     "output_type": "display_data"
    }
   ],
   "source": [
    "df_pairs = df_pairs.sample(frac=1).parallel_apply(lambda x: MMP(x.stripped_smiles_x, x.stripped_smiles_y, strictness=5).execute(), axis=1)"
   ]
  },
  {
   "cell_type": "code",
   "execution_count": 6,
   "metadata": {},
   "outputs": [
    {
     "data": {
      "text/html": [
       "<div>\n",
       "<style scoped>\n",
       "    .dataframe tbody tr th:only-of-type {\n",
       "        vertical-align: middle;\n",
       "    }\n",
       "\n",
       "    .dataframe tbody tr th {\n",
       "        vertical-align: top;\n",
       "    }\n",
       "\n",
       "    .dataframe thead th {\n",
       "        text-align: right;\n",
       "    }\n",
       "</style>\n",
       "<table border=\"1\" class=\"dataframe\">\n",
       "  <thead>\n",
       "    <tr style=\"text-align: right;\">\n",
       "      <th></th>\n",
       "      <th>227</th>\n",
       "      <th>343</th>\n",
       "      <th>218</th>\n",
       "    </tr>\n",
       "  </thead>\n",
       "  <tbody>\n",
       "    <tr>\n",
       "      <th>smiles1</th>\n",
       "      <td>CC(C)N1CCN(Cc2cnc(-c3ccc(C(=O)Nc4ccccc4N)cc3)c...</td>\n",
       "      <td>Nc1ccccc1NC(=O)c1ccc(-c2ncc(CN3CCC3)cc2F)cc1</td>\n",
       "      <td>CC(C)N1CCN(Cc2cnc(-c3ccc(C(=O)Nc4ccccc4N)cc3)c...</td>\n",
       "    </tr>\n",
       "    <tr>\n",
       "      <th>smiles2</th>\n",
       "      <td>CCN1CCN(Cc2cnc(-c3ccc(C(=O)Nc4ccccc4N)cc3)c(Cl...</td>\n",
       "      <td>CC(C)N1CCN(Cc2cnc(-c3ccc(C(=O)Nc4ccccc4N)cc3)c...</td>\n",
       "      <td>CCN1CCN(Cc2cnc(-c3ccc(C(=O)Nc4ccccc4N)cc3)c(C#...</td>\n",
       "    </tr>\n",
       "    <tr>\n",
       "      <th>percentmcs</th>\n",
       "      <td>0.882353</td>\n",
       "      <td>0.818182</td>\n",
       "      <td>0.909091</td>\n",
       "    </tr>\n",
       "    <tr>\n",
       "      <th>radius</th>\n",
       "      <td>2.0</td>\n",
       "      <td>3.0</td>\n",
       "      <td>3.0</td>\n",
       "    </tr>\n",
       "    <tr>\n",
       "      <th>valid</th>\n",
       "      <td>False</td>\n",
       "      <td>True</td>\n",
       "      <td>False</td>\n",
       "    </tr>\n",
       "    <tr>\n",
       "      <th>solversecs</th>\n",
       "      <td>5.978637</td>\n",
       "      <td>1.828374</td>\n",
       "      <td>7.226936</td>\n",
       "    </tr>\n",
       "    <tr>\n",
       "      <th>embedding</th>\n",
       "      <td>[0, 0, 0, 0, 0, 49, 236, 88, 74, 110, 28, 0, 0...</td>\n",
       "      <td>[0, 0, 0, 0, 11, 117, 171, 41, 82, 91, 2, 0, 0...</td>\n",
       "      <td>[0, 0, 0, 0, 0, 53, 233, 89, 75, 105, 32, 0, 0...</td>\n",
       "    </tr>\n",
       "    <tr>\n",
       "      <th>predsolversecs</th>\n",
       "      <td>4.767457</td>\n",
       "      <td>3.761403</td>\n",
       "      <td>4.808217</td>\n",
       "    </tr>\n",
       "    <tr>\n",
       "      <th>error</th>\n",
       "      <td>not one2one reaction</td>\n",
       "      <td>None</td>\n",
       "      <td>not one2one reaction</td>\n",
       "    </tr>\n",
       "    <tr>\n",
       "      <th>smirks</th>\n",
       "      <td>[H]-[#6:1](-[H])-[#7:2](-[#6:3](-[H])-[H])-[#6...</td>\n",
       "      <td>[H]-[#6:1](-[H])-[#7:2]1-[#6:3](-[H])(-[H])-[#...</td>\n",
       "      <td>[H]-[#6:1](-[H])-[#6:2](-[H])(-[H])-[#7:3](-[#...</td>\n",
       "    </tr>\n",
       "    <tr>\n",
       "      <th>biproducts</th>\n",
       "      <td>NaN</td>\n",
       "      <td>0.0</td>\n",
       "      <td>NaN</td>\n",
       "    </tr>\n",
       "    <tr>\n",
       "      <th>fragment1</th>\n",
       "      <td>[H]C([H])N(C([H])[H])C([H])(C([H])([H])[H])C([...</td>\n",
       "      <td>[H]C([H])N1C([H])([H])C([H])([H])C1([H])[H]</td>\n",
       "      <td>[H]C([H])C([H])([H])N(C([H])([H])C([H])[H])C([...</td>\n",
       "    </tr>\n",
       "    <tr>\n",
       "      <th>fragment2</th>\n",
       "      <td>[H]C([H])N(C([H])[H])C([H])([H])C([H])([H])[H]...</td>\n",
       "      <td>[H]C([H])N1C([H])([H])C([H])([H])N(C([H])(C([H...</td>\n",
       "      <td>[H]C([H])C([H])([H])N(C([H])([H])C([H])[H])C([...</td>\n",
       "    </tr>\n",
       "  </tbody>\n",
       "</table>\n",
       "</div>"
      ],
      "text/plain": [
       "                                                              227  \\\n",
       "smiles1         CC(C)N1CCN(Cc2cnc(-c3ccc(C(=O)Nc4ccccc4N)cc3)c...   \n",
       "smiles2         CCN1CCN(Cc2cnc(-c3ccc(C(=O)Nc4ccccc4N)cc3)c(Cl...   \n",
       "percentmcs                                               0.882353   \n",
       "radius                                                        2.0   \n",
       "valid                                                       False   \n",
       "solversecs                                               5.978637   \n",
       "embedding       [0, 0, 0, 0, 0, 49, 236, 88, 74, 110, 28, 0, 0...   \n",
       "predsolversecs                                           4.767457   \n",
       "error                                        not one2one reaction   \n",
       "smirks          [H]-[#6:1](-[H])-[#7:2](-[#6:3](-[H])-[H])-[#6...   \n",
       "biproducts                                                    NaN   \n",
       "fragment1       [H]C([H])N(C([H])[H])C([H])(C([H])([H])[H])C([...   \n",
       "fragment2       [H]C([H])N(C([H])[H])C([H])([H])C([H])([H])[H]...   \n",
       "\n",
       "                                                              343  \\\n",
       "smiles1              Nc1ccccc1NC(=O)c1ccc(-c2ncc(CN3CCC3)cc2F)cc1   \n",
       "smiles2         CC(C)N1CCN(Cc2cnc(-c3ccc(C(=O)Nc4ccccc4N)cc3)c...   \n",
       "percentmcs                                               0.818182   \n",
       "radius                                                        3.0   \n",
       "valid                                                        True   \n",
       "solversecs                                               1.828374   \n",
       "embedding       [0, 0, 0, 0, 11, 117, 171, 41, 82, 91, 2, 0, 0...   \n",
       "predsolversecs                                           3.761403   \n",
       "error                                                        None   \n",
       "smirks          [H]-[#6:1](-[H])-[#7:2]1-[#6:3](-[H])(-[H])-[#...   \n",
       "biproducts                                                    0.0   \n",
       "fragment1             [H]C([H])N1C([H])([H])C([H])([H])C1([H])[H]   \n",
       "fragment2       [H]C([H])N1C([H])([H])C([H])([H])N(C([H])(C([H...   \n",
       "\n",
       "                                                              218  \n",
       "smiles1         CC(C)N1CCN(Cc2cnc(-c3ccc(C(=O)Nc4ccccc4N)cc3)c...  \n",
       "smiles2         CCN1CCN(Cc2cnc(-c3ccc(C(=O)Nc4ccccc4N)cc3)c(C#...  \n",
       "percentmcs                                               0.909091  \n",
       "radius                                                        3.0  \n",
       "valid                                                       False  \n",
       "solversecs                                               7.226936  \n",
       "embedding       [0, 0, 0, 0, 0, 53, 233, 89, 75, 105, 32, 0, 0...  \n",
       "predsolversecs                                           4.808217  \n",
       "error                                        not one2one reaction  \n",
       "smirks          [H]-[#6:1](-[H])-[#6:2](-[H])(-[H])-[#7:3](-[#...  \n",
       "biproducts                                                    NaN  \n",
       "fragment1       [H]C([H])C([H])([H])N(C([H])([H])C([H])[H])C([...  \n",
       "fragment2       [H]C([H])C([H])([H])N(C([H])([H])C([H])[H])C([...  "
      ]
     },
     "execution_count": 6,
     "metadata": {},
     "output_type": "execute_result"
    }
   ],
   "source": [
    "df_pairs = pd.json_normalize(df_pairs.explode())\n",
    "df_pairs.sample(3).transpose()"
   ]
  },
  {
   "cell_type": "markdown",
   "metadata": {},
   "source": [
    "### Drop failures and write output to file"
   ]
  },
  {
   "cell_type": "code",
   "execution_count": 7,
   "metadata": {},
   "outputs": [],
   "source": [
    "df_pairs = df_pairs[df_pairs.valid]\n",
    "df_pairs.to_csv('hdac1_inhibitors_pairs.csv', index=False)"
   ]
  },
  {
   "cell_type": "code",
   "execution_count": null,
   "metadata": {},
   "outputs": [],
   "source": []
  }
 ],
 "metadata": {
  "kernelspec": {
   "display_name": "Python 3 (ipykernel)",
   "language": "python",
   "name": "python3"
  },
  "language_info": {
   "codemirror_mode": {
    "name": "ipython",
    "version": 3
   },
   "file_extension": ".py",
   "mimetype": "text/x-python",
   "name": "python",
   "nbconvert_exporter": "python",
   "pygments_lexer": "ipython3",
   "version": "3.7.0"
  }
 },
 "nbformat": 4,
 "nbformat_minor": 4
}
