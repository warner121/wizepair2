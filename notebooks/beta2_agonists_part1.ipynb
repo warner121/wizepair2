{
 "cells": [
  {
   "cell_type": "markdown",
   "metadata": {},
   "source": [
    "## Beta-2 adrenergic receptor - part 1 (dataset preparation)"
   ]
  },
  {
   "cell_type": "markdown",
   "metadata": {},
   "source": [
    "### Import libraries"
   ]
  },
  {
   "cell_type": "code",
   "execution_count": 1,
   "metadata": {},
   "outputs": [],
   "source": [
    "import requests\n",
    "import json\n",
    "import pandas as pd"
   ]
  },
  {
   "cell_type": "code",
   "execution_count": 2,
   "metadata": {},
   "outputs": [],
   "source": [
    "from tqdm import tqdm\n",
    "tqdm.pandas()\n",
    "\n",
    "import sys\n",
    "sys.path.append('/home/daniel/wizepair2')\n",
    "from mmpa.chem import strip_salts"
   ]
  },
  {
   "cell_type": "markdown",
   "metadata": {},
   "source": [
    "### Define POST request and download "
   ]
  },
  {
   "cell_type": "code",
   "execution_count": 3,
   "metadata": {},
   "outputs": [
    {
     "data": {
      "text/plain": [
       "<Response [200]>"
      ]
     },
     "execution_count": 3,
     "metadata": {},
     "output_type": "execute_result"
    }
   ],
   "source": [
    "url = \"https://www.ebi.ac.uk/chembl/elk/es/chembl_activity/_search\"\n",
    "headers = {'Content-Type': 'application/json'}\n",
    "with open('beta2_agonists.chembl') as f:\n",
    "    payload = f.read()\n",
    "response = requests.post(url, headers=headers, data=payload)\n",
    "response"
   ]
  },
  {
   "cell_type": "markdown",
   "metadata": {},
   "source": [
    "### Load results into a pandas data frame"
   ]
  },
  {
   "cell_type": "code",
   "execution_count": 4,
   "metadata": {},
   "outputs": [
    {
     "data": {
      "text/html": [
       "<div>\n",
       "<style scoped>\n",
       "    .dataframe tbody tr th:only-of-type {\n",
       "        vertical-align: middle;\n",
       "    }\n",
       "\n",
       "    .dataframe tbody tr th {\n",
       "        vertical-align: top;\n",
       "    }\n",
       "\n",
       "    .dataframe thead th {\n",
       "        text-align: right;\n",
       "    }\n",
       "</style>\n",
       "<table border=\"1\" class=\"dataframe\">\n",
       "  <thead>\n",
       "    <tr style=\"text-align: right;\">\n",
       "      <th></th>\n",
       "      <th>activity_properties</th>\n",
       "      <th>standard_units</th>\n",
       "      <th>standard_type</th>\n",
       "      <th>standard_relation</th>\n",
       "      <th>data_validity_comment</th>\n",
       "      <th>activity_comment</th>\n",
       "      <th>target_pref_name</th>\n",
       "      <th>pchembl_value</th>\n",
       "      <th>bao_label</th>\n",
       "      <th>molecule_pref_name</th>\n",
       "      <th>...</th>\n",
       "      <th>_metadata.assay_data.assay_cell_type</th>\n",
       "      <th>_metadata.assay_data.assay_organism</th>\n",
       "      <th>_metadata.assay_data.tissue_chembl_id</th>\n",
       "      <th>_metadata.assay_data.assay_parameters</th>\n",
       "      <th>_metadata.assay_data.assay_tissue</th>\n",
       "      <th>_metadata.source.src_description</th>\n",
       "      <th>ligand_efficiency.lle</th>\n",
       "      <th>ligand_efficiency.sei</th>\n",
       "      <th>ligand_efficiency.bei</th>\n",
       "      <th>ligand_efficiency.le</th>\n",
       "    </tr>\n",
       "  </thead>\n",
       "  <tbody>\n",
       "    <tr>\n",
       "      <th>1362</th>\n",
       "      <td>[]</td>\n",
       "      <td>nM</td>\n",
       "      <td>Potency</td>\n",
       "      <td>None</td>\n",
       "      <td>None</td>\n",
       "      <td>inconclusive</td>\n",
       "      <td>Histone-lysine N-methyltransferase, H3 lysine-...</td>\n",
       "      <td>None</td>\n",
       "      <td>assay format</td>\n",
       "      <td>OXEDRINE</td>\n",
       "      <td>...</td>\n",
       "      <td>None</td>\n",
       "      <td>Homo sapiens</td>\n",
       "      <td>None</td>\n",
       "      <td>[]</td>\n",
       "      <td>None</td>\n",
       "      <td>PubChem BioAssays</td>\n",
       "      <td>NaN</td>\n",
       "      <td>NaN</td>\n",
       "      <td>NaN</td>\n",
       "      <td>NaN</td>\n",
       "    </tr>\n",
       "    <tr>\n",
       "      <th>5211</th>\n",
       "      <td>[{'text_value': 'LEFT VENTRICLE, MYOCYTE, DEGE...</td>\n",
       "      <td>None</td>\n",
       "      <td>Tissue Severity Score</td>\n",
       "      <td>None</td>\n",
       "      <td>None</td>\n",
       "      <td>See Activity_Supp For Individual Animal Data</td>\n",
       "      <td>Rattus norvegicus</td>\n",
       "      <td>None</td>\n",
       "      <td>organism-based format</td>\n",
       "      <td>EPINEPHRINE</td>\n",
       "      <td>...</td>\n",
       "      <td>None</td>\n",
       "      <td>Rattus norvegicus</td>\n",
       "      <td>None</td>\n",
       "      <td>[{'comments': None, 'standard_units': None, 's...</td>\n",
       "      <td>None</td>\n",
       "      <td>DrugMatrix</td>\n",
       "      <td>NaN</td>\n",
       "      <td>NaN</td>\n",
       "      <td>NaN</td>\n",
       "      <td>NaN</td>\n",
       "    </tr>\n",
       "    <tr>\n",
       "      <th>1097</th>\n",
       "      <td>[]</td>\n",
       "      <td>nM</td>\n",
       "      <td>Potency</td>\n",
       "      <td>=</td>\n",
       "      <td>None</td>\n",
       "      <td>Inconclusive</td>\n",
       "      <td>Lysine-specific demethylase 4D-like</td>\n",
       "      <td>4.90</td>\n",
       "      <td>assay format</td>\n",
       "      <td>PHENYLEPHRINE HYDROCHLORIDE</td>\n",
       "      <td>...</td>\n",
       "      <td>None</td>\n",
       "      <td>Homo sapiens</td>\n",
       "      <td>None</td>\n",
       "      <td>[]</td>\n",
       "      <td>None</td>\n",
       "      <td>PubChem BioAssays</td>\n",
       "      <td>NaN</td>\n",
       "      <td>NaN</td>\n",
       "      <td>NaN</td>\n",
       "      <td>NaN</td>\n",
       "    </tr>\n",
       "  </tbody>\n",
       "</table>\n",
       "<p>3 rows × 46 columns</p>\n",
       "</div>"
      ],
      "text/plain": [
       "                                    activity_properties standard_units  \\\n",
       "1362                                                 []             nM   \n",
       "5211  [{'text_value': 'LEFT VENTRICLE, MYOCYTE, DEGE...           None   \n",
       "1097                                                 []             nM   \n",
       "\n",
       "              standard_type standard_relation data_validity_comment  \\\n",
       "1362                Potency              None                  None   \n",
       "5211  Tissue Severity Score              None                  None   \n",
       "1097                Potency                 =                  None   \n",
       "\n",
       "                                  activity_comment  \\\n",
       "1362                                  inconclusive   \n",
       "5211  See Activity_Supp For Individual Animal Data   \n",
       "1097                                  Inconclusive   \n",
       "\n",
       "                                       target_pref_name pchembl_value  \\\n",
       "1362  Histone-lysine N-methyltransferase, H3 lysine-...          None   \n",
       "5211                                  Rattus norvegicus          None   \n",
       "1097                Lysine-specific demethylase 4D-like          4.90   \n",
       "\n",
       "                  bao_label           molecule_pref_name  ...  \\\n",
       "1362           assay format                     OXEDRINE  ...   \n",
       "5211  organism-based format                  EPINEPHRINE  ...   \n",
       "1097           assay format  PHENYLEPHRINE HYDROCHLORIDE  ...   \n",
       "\n",
       "     _metadata.assay_data.assay_cell_type _metadata.assay_data.assay_organism  \\\n",
       "1362                                 None                        Homo sapiens   \n",
       "5211                                 None                   Rattus norvegicus   \n",
       "1097                                 None                        Homo sapiens   \n",
       "\n",
       "     _metadata.assay_data.tissue_chembl_id  \\\n",
       "1362                                  None   \n",
       "5211                                  None   \n",
       "1097                                  None   \n",
       "\n",
       "                  _metadata.assay_data.assay_parameters  \\\n",
       "1362                                                 []   \n",
       "5211  [{'comments': None, 'standard_units': None, 's...   \n",
       "1097                                                 []   \n",
       "\n",
       "     _metadata.assay_data.assay_tissue _metadata.source.src_description  \\\n",
       "1362                              None                PubChem BioAssays   \n",
       "5211                              None                       DrugMatrix   \n",
       "1097                              None                PubChem BioAssays   \n",
       "\n",
       "     ligand_efficiency.lle  ligand_efficiency.sei  ligand_efficiency.bei  \\\n",
       "1362                   NaN                    NaN                    NaN   \n",
       "5211                   NaN                    NaN                    NaN   \n",
       "1097                   NaN                    NaN                    NaN   \n",
       "\n",
       "     ligand_efficiency.le  \n",
       "1362                  NaN  \n",
       "5211                  NaN  \n",
       "1097                  NaN  \n",
       "\n",
       "[3 rows x 46 columns]"
      ]
     },
     "execution_count": 4,
     "metadata": {},
     "output_type": "execute_result"
    }
   ],
   "source": [
    "df = json.loads(response.text)['hits']['hits']\n",
    "df = pd.DataFrame(df)._source\n",
    "df = pd.json_normalize(df)\n",
    "df.sample(3)"
   ]
  },
  {
   "cell_type": "markdown",
   "metadata": {},
   "source": [
    "### Summarise the most common molecules."
   ]
  },
  {
   "cell_type": "code",
   "execution_count": 5,
   "metadata": {},
   "outputs": [
    {
     "data": {
      "text/plain": [
       "molecule_chembl_id  _metadata.parent_molecule_data.compound_key\n",
       "CHEMBL434           ISOPRENALINE                                   1448\n",
       "CHEMBL679           EPINEPHRINE                                     781\n",
       "CHEMBL1215          L-PHENYLEPHRINE                                 485\n",
       "CHEMBL1437          NOREPINEPHRINE                                  481\n",
       "CHEMBL1740          RACEPINEPHRINE                                  414\n",
       "CHEMBL714           SALBUTAMOL                                      256\n",
       "CHEMBL434           Isoproterenol                                   135\n",
       "                    Isoprenaline                                     74\n",
       "CHEMBL714           Salbutamol                                       61\n",
       "                    salbutamol                                       59\n",
       "dtype: int64"
      ]
     },
     "execution_count": 5,
     "metadata": {},
     "output_type": "execute_result"
    }
   ],
   "source": [
    "df[['molecule_chembl_id', '_metadata.parent_molecule_data.compound_key']].value_counts()[0:10]"
   ]
  },
  {
   "cell_type": "markdown",
   "metadata": {},
   "source": [
    "### Summarise the most common targets."
   ]
  },
  {
   "cell_type": "code",
   "execution_count": 6,
   "metadata": {},
   "outputs": [
    {
     "data": {
      "text/plain": [
       "assay_chembl_id  target_pref_name   bao_label              standard_type  standard_units\n",
       "CHEMBL1794375    Unchecked          assay format           Potency        nM                51\n",
       "CHEMBL3885882    Rattus norvegicus  organism-based format  MONOLE         %                 41\n",
       "                                                           EOS            cells.uL-1        41\n",
       "                                                           GLUC           ug.mL-1           41\n",
       "                                                           HCT            %                 41\n",
       "                                                           HGB            ug.mL-1           41\n",
       "                                                           LIPASE         U.L-1             41\n",
       "                                                           LYM            cells.uL-1        41\n",
       "                                                           MCH            pg                41\n",
       "                                                           MCHC           ug.mL-1           41\n",
       "dtype: int64"
      ]
     },
     "execution_count": 6,
     "metadata": {},
     "output_type": "execute_result"
    }
   ],
   "source": [
    "df[['assay_chembl_id', 'target_pref_name', 'bao_label', 'standard_type', 'standard_units']].value_counts()[0:10]"
   ]
  },
  {
   "cell_type": "markdown",
   "metadata": {},
   "source": [
    "### Strip salts from the molecular structures."
   ]
  },
  {
   "cell_type": "code",
   "execution_count": 7,
   "metadata": {},
   "outputs": [
    {
     "name": "stderr",
     "output_type": "stream",
     "text": [
      "100%|██████████| 8115/8115 [00:15<00:00, 538.31it/s]\n"
     ]
    },
    {
     "data": {
      "text/plain": [
       "233"
      ]
     },
     "execution_count": 7,
     "metadata": {},
     "output_type": "execute_result"
    }
   ],
   "source": [
    "df['stripped_smiles'] = df.canonical_smiles.progress_apply(strip_salts)\n",
    "df.stripped_smiles.unique().size"
   ]
  },
  {
   "cell_type": "markdown",
   "metadata": {},
   "source": [
    "### Split training from test set and save"
   ]
  },
  {
   "cell_type": "code",
   "execution_count": 8,
   "metadata": {},
   "outputs": [],
   "source": [
    "training = ~df['molecule_chembl_id'].isin(['CHEMBL714'])"
   ]
  },
  {
   "cell_type": "code",
   "execution_count": 9,
   "metadata": {},
   "outputs": [],
   "source": [
    "df[training].to_csv('beta2_agonists_stripped.csv', index=False)\n",
    "df[~training].to_csv('beta2_agonists_stripped_holdout.csv', index=False)"
   ]
  },
  {
   "cell_type": "code",
   "execution_count": null,
   "metadata": {},
   "outputs": [],
   "source": []
  }
 ],
 "metadata": {
  "kernelspec": {
   "display_name": "Python 3",
   "language": "python",
   "name": "python3"
  },
  "language_info": {
   "codemirror_mode": {
    "name": "ipython",
    "version": 3
   },
   "file_extension": ".py",
   "mimetype": "text/x-python",
   "name": "python",
   "nbconvert_exporter": "python",
   "pygments_lexer": "ipython3",
   "version": "3.6.10"
  }
 },
 "nbformat": 4,
 "nbformat_minor": 4
}
