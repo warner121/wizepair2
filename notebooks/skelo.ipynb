{
 "cells": [
  {
   "cell_type": "code",
   "execution_count": 1,
   "id": "889b3a4f-a533-47f5-bb4a-37324d2e342a",
   "metadata": {},
   "outputs": [],
   "source": [
    "import numpy as np\n",
    "import pandas as pd\n",
    "\n",
    "from skelo.model.elo import EloEstimator"
   ]
  },
  {
   "cell_type": "code",
   "execution_count": 2,
   "id": "dee8012a-17b0-4e9b-91b0-c541983a849c",
   "metadata": {},
   "outputs": [
    {
     "name": "stdout",
     "output_type": "stream",
     "text": [
      "INFO: Pandarallel will run on 12 workers.\n",
      "INFO: Pandarallel will use Memory file system to transfer data between the main process and workers.\n"
     ]
    }
   ],
   "source": [
    "from pandarallel import pandarallel\n",
    "pandarallel.initialize(progress_bar=True, nb_workers=12)\n"
   ]
  },
  {
   "cell_type": "code",
   "execution_count": 3,
   "id": "5b7fb67d-33d6-4871-bebe-bf662043536d",
   "metadata": {},
   "outputs": [],
   "source": [
    "df = pd.read_csv('/home/daniel/Downloads/bq-results-20221024-192803-1666639724268.csv')"
   ]
  },
  {
   "cell_type": "code",
   "execution_count": 4,
   "id": "cce3d449-1ed4-4b53-9d34-fc9a79b2a1c5",
   "metadata": {},
   "outputs": [
    {
     "data": {
      "text/html": [
       "<div>\n",
       "<style scoped>\n",
       "    .dataframe tbody tr th:only-of-type {\n",
       "        vertical-align: middle;\n",
       "    }\n",
       "\n",
       "    .dataframe tbody tr th {\n",
       "        vertical-align: top;\n",
       "    }\n",
       "\n",
       "    .dataframe thead th {\n",
       "        text-align: right;\n",
       "    }\n",
       "</style>\n",
       "<table border=\"1\" class=\"dataframe\">\n",
       "  <thead>\n",
       "    <tr style=\"text-align: right;\">\n",
       "      <th></th>\n",
       "      <th>wizepair2_uuid</th>\n",
       "      <th>assay_id</th>\n",
       "      <th>standard_type</th>\n",
       "      <th>standard_change</th>\n",
       "      <th>molregno_1</th>\n",
       "      <th>molregno_2</th>\n",
       "      <th>fragment_md5_1</th>\n",
       "      <th>fragment_md5_2</th>\n",
       "      <th>radius</th>\n",
       "      <th>tid_1</th>\n",
       "      <th>tid_2</th>\n",
       "      <th>tid_3</th>\n",
       "      <th>tid_4</th>\n",
       "    </tr>\n",
       "  </thead>\n",
       "  <tbody>\n",
       "    <tr>\n",
       "      <th>0</th>\n",
       "      <td>40ef89666a8e476e324557c726c40557</td>\n",
       "      <td>1907404</td>\n",
       "      <td>IC50</td>\n",
       "      <td>NaN</td>\n",
       "      <td>2347913</td>\n",
       "      <td>2374257</td>\n",
       "      <td>8b6d885a266c725fddf935d31e1aaa12</td>\n",
       "      <td>7ce082bff00ce2cf796a9ab8cc1779ad</td>\n",
       "      <td>4</td>\n",
       "      <td>12697</td>\n",
       "      <td>117134.0</td>\n",
       "      <td>NaN</td>\n",
       "      <td>NaN</td>\n",
       "    </tr>\n",
       "    <tr>\n",
       "      <th>1</th>\n",
       "      <td>40ef89666a8e476e324557c726c40557</td>\n",
       "      <td>1907404</td>\n",
       "      <td>IC50</td>\n",
       "      <td>NaN</td>\n",
       "      <td>2347913</td>\n",
       "      <td>2374257</td>\n",
       "      <td>4bab53fbc1d4bc2dc9826c62874faf90</td>\n",
       "      <td>1549251a9c0e182d0b73e88bbfa6ce35</td>\n",
       "      <td>1</td>\n",
       "      <td>12697</td>\n",
       "      <td>109653.0</td>\n",
       "      <td>104681.0</td>\n",
       "      <td>NaN</td>\n",
       "    </tr>\n",
       "    <tr>\n",
       "      <th>2</th>\n",
       "      <td>40ef89666a8e476e324557c726c40557</td>\n",
       "      <td>1907404</td>\n",
       "      <td>IC50</td>\n",
       "      <td>NaN</td>\n",
       "      <td>2347913</td>\n",
       "      <td>2374257</td>\n",
       "      <td>4bab53fbc1d4bc2dc9826c62874faf90</td>\n",
       "      <td>1549251a9c0e182d0b73e88bbfa6ce35</td>\n",
       "      <td>1</td>\n",
       "      <td>12697</td>\n",
       "      <td>117757.0</td>\n",
       "      <td>104681.0</td>\n",
       "      <td>NaN</td>\n",
       "    </tr>\n",
       "  </tbody>\n",
       "</table>\n",
       "</div>"
      ],
      "text/plain": [
       "                     wizepair2_uuid  assay_id standard_type standard_change  \\\n",
       "0  40ef89666a8e476e324557c726c40557   1907404          IC50             NaN   \n",
       "1  40ef89666a8e476e324557c726c40557   1907404          IC50             NaN   \n",
       "2  40ef89666a8e476e324557c726c40557   1907404          IC50             NaN   \n",
       "\n",
       "   molregno_1  molregno_2                    fragment_md5_1  \\\n",
       "0     2347913     2374257  8b6d885a266c725fddf935d31e1aaa12   \n",
       "1     2347913     2374257  4bab53fbc1d4bc2dc9826c62874faf90   \n",
       "2     2347913     2374257  4bab53fbc1d4bc2dc9826c62874faf90   \n",
       "\n",
       "                     fragment_md5_2  radius  tid_1     tid_2     tid_3  tid_4  \n",
       "0  7ce082bff00ce2cf796a9ab8cc1779ad       4  12697  117134.0       NaN    NaN  \n",
       "1  1549251a9c0e182d0b73e88bbfa6ce35       1  12697  109653.0  104681.0    NaN  \n",
       "2  1549251a9c0e182d0b73e88bbfa6ce35       1  12697  117757.0  104681.0    NaN  "
      ]
     },
     "execution_count": 4,
     "metadata": {},
     "output_type": "execute_result"
    }
   ],
   "source": [
    "df.head(3)"
   ]
  },
  {
   "cell_type": "code",
   "execution_count": 5,
   "id": "cd1027bc-56ff-4a72-b4b3-c2d56b9f2126",
   "metadata": {},
   "outputs": [
    {
     "data": {
      "text/plain": [
       "6395429"
      ]
     },
     "execution_count": 5,
     "metadata": {},
     "output_type": "execute_result"
    }
   ],
   "source": [
    "len(df.index)"
   ]
  },
  {
   "cell_type": "code",
   "execution_count": 6,
   "id": "719f8663-f285-43ec-96dc-52ea499fbbc0",
   "metadata": {},
   "outputs": [
    {
     "data": {
      "text/html": [
       "<div>\n",
       "<style scoped>\n",
       "    .dataframe tbody tr th:only-of-type {\n",
       "        vertical-align: middle;\n",
       "    }\n",
       "\n",
       "    .dataframe tbody tr th {\n",
       "        vertical-align: top;\n",
       "    }\n",
       "\n",
       "    .dataframe thead th {\n",
       "        text-align: right;\n",
       "    }\n",
       "</style>\n",
       "<table border=\"1\" class=\"dataframe\">\n",
       "  <thead>\n",
       "    <tr style=\"text-align: right;\">\n",
       "      <th></th>\n",
       "      <th>index</th>\n",
       "      <th>0</th>\n",
       "    </tr>\n",
       "  </thead>\n",
       "  <tbody>\n",
       "    <tr>\n",
       "      <th>0</th>\n",
       "      <td>0</td>\n",
       "      <td>2347913</td>\n",
       "    </tr>\n",
       "    <tr>\n",
       "      <th>1</th>\n",
       "      <td>1</td>\n",
       "      <td>2371535</td>\n",
       "    </tr>\n",
       "    <tr>\n",
       "      <th>2</th>\n",
       "      <td>2</td>\n",
       "      <td>2461748</td>\n",
       "    </tr>\n",
       "    <tr>\n",
       "      <th>3</th>\n",
       "      <td>3</td>\n",
       "      <td>2458777</td>\n",
       "    </tr>\n",
       "    <tr>\n",
       "      <th>4</th>\n",
       "      <td>4</td>\n",
       "      <td>21184</td>\n",
       "    </tr>\n",
       "    <tr>\n",
       "      <th>...</th>\n",
       "      <td>...</td>\n",
       "      <td>...</td>\n",
       "    </tr>\n",
       "    <tr>\n",
       "      <th>33301</th>\n",
       "      <td>33301</td>\n",
       "      <td>264114</td>\n",
       "    </tr>\n",
       "    <tr>\n",
       "      <th>33302</th>\n",
       "      <td>33302</td>\n",
       "      <td>591660</td>\n",
       "    </tr>\n",
       "    <tr>\n",
       "      <th>33303</th>\n",
       "      <td>33303</td>\n",
       "      <td>396841</td>\n",
       "    </tr>\n",
       "    <tr>\n",
       "      <th>33304</th>\n",
       "      <td>33304</td>\n",
       "      <td>1960937</td>\n",
       "    </tr>\n",
       "    <tr>\n",
       "      <th>33305</th>\n",
       "      <td>33305</td>\n",
       "      <td>109867</td>\n",
       "    </tr>\n",
       "  </tbody>\n",
       "</table>\n",
       "<p>33306 rows × 2 columns</p>\n",
       "</div>"
      ],
      "text/plain": [
       "       index        0\n",
       "0          0  2347913\n",
       "1          1  2371535\n",
       "2          2  2461748\n",
       "3          3  2458777\n",
       "4          4    21184\n",
       "...      ...      ...\n",
       "33301  33301   264114\n",
       "33302  33302   591660\n",
       "33303  33303   396841\n",
       "33304  33304  1960937\n",
       "33305  33305   109867\n",
       "\n",
       "[33306 rows x 2 columns]"
      ]
     },
     "execution_count": 6,
     "metadata": {},
     "output_type": "execute_result"
    }
   ],
   "source": [
    "pd.DataFrame(pd.concat([df.molregno_1, df.molregno_2]).unique()).reset_index()"
   ]
  },
  {
   "cell_type": "code",
   "execution_count": 7,
   "id": "641d343e-d82a-4109-924b-5f44b057132d",
   "metadata": {},
   "outputs": [],
   "source": [
    "s = pd.concat([df.molregno_1, df.molregno_2]).unique()\n",
    "np.random.shuffle(s)\n",
    "s = pd.Series(range(len(s)), index=s).rename('molregno_1_idx')\n",
    "df = df.join(s, on='molregno_1')\n",
    "s.rename('molregno_2_idx', inplace=True)\n",
    "df = df.join(s, on='molregno_2')"
   ]
  },
  {
   "cell_type": "code",
   "execution_count": 8,
   "id": "81d54c76-1ac9-4265-8eea-ad9b9b13ba3d",
   "metadata": {},
   "outputs": [],
   "source": [
    "df_melt = df.melt(id_vars='assay_id', value_vars=['tid_1', 'tid_2', 'tid_3', 'tid_4'])\n",
    "df_melt.dropna(inplace=True)\n",
    "df_melt.drop_duplicates(['assay_id', 'value'], inplace=True, keep='last')"
   ]
  },
  {
   "cell_type": "code",
   "execution_count": 9,
   "id": "cf3d8c99-12f3-459b-88a8-ec953e0da7d0",
   "metadata": {},
   "outputs": [],
   "source": [
    "df_melt['var_idx'] = df_melt.variable.str.extract('(\\d+)').astype(int)\n",
    "df_melt = df_melt.join(\n",
    "    df_melt.groupby('assay_id')['var_idx'].apply(\n",
    "        lambda x: pd.Series((1+x.max())-x, index=x.index)).rename('new'))"
   ]
  },
  {
   "cell_type": "code",
   "execution_count": 10,
   "id": "cefdcf70-8ed5-43c5-b582-cdbf9edcf495",
   "metadata": {},
   "outputs": [
    {
     "data": {
      "text/html": [
       "<div>\n",
       "<style scoped>\n",
       "    .dataframe tbody tr th:only-of-type {\n",
       "        vertical-align: middle;\n",
       "    }\n",
       "\n",
       "    .dataframe tbody tr th {\n",
       "        vertical-align: top;\n",
       "    }\n",
       "\n",
       "    .dataframe thead th {\n",
       "        text-align: right;\n",
       "    }\n",
       "</style>\n",
       "<table border=\"1\" class=\"dataframe\">\n",
       "  <thead>\n",
       "    <tr style=\"text-align: right;\">\n",
       "      <th></th>\n",
       "      <th>assay_id</th>\n",
       "      <th>variable</th>\n",
       "      <th>value</th>\n",
       "      <th>var_idx</th>\n",
       "      <th>new</th>\n",
       "    </tr>\n",
       "  </thead>\n",
       "  <tbody>\n",
       "    <tr>\n",
       "      <th>6165758</th>\n",
       "      <td>1629223</td>\n",
       "      <td>tid_1</td>\n",
       "      <td>108.0</td>\n",
       "      <td>1</td>\n",
       "      <td>4</td>\n",
       "    </tr>\n",
       "    <tr>\n",
       "      <th>12561069</th>\n",
       "      <td>1629223</td>\n",
       "      <td>tid_2</td>\n",
       "      <td>104992.0</td>\n",
       "      <td>2</td>\n",
       "      <td>3</td>\n",
       "    </tr>\n",
       "    <tr>\n",
       "      <th>12561187</th>\n",
       "      <td>1629223</td>\n",
       "      <td>tid_2</td>\n",
       "      <td>104817.0</td>\n",
       "      <td>2</td>\n",
       "      <td>3</td>\n",
       "    </tr>\n",
       "    <tr>\n",
       "      <th>18956616</th>\n",
       "      <td>1629223</td>\n",
       "      <td>tid_3</td>\n",
       "      <td>104784.0</td>\n",
       "      <td>3</td>\n",
       "      <td>2</td>\n",
       "    </tr>\n",
       "    <tr>\n",
       "      <th>25352045</th>\n",
       "      <td>1629223</td>\n",
       "      <td>tid_4</td>\n",
       "      <td>104841.0</td>\n",
       "      <td>4</td>\n",
       "      <td>1</td>\n",
       "    </tr>\n",
       "  </tbody>\n",
       "</table>\n",
       "</div>"
      ],
      "text/plain": [
       "          assay_id variable     value  var_idx  new\n",
       "6165758    1629223    tid_1     108.0        1    4\n",
       "12561069   1629223    tid_2  104992.0        2    3\n",
       "12561187   1629223    tid_2  104817.0        2    3\n",
       "18956616   1629223    tid_3  104784.0        3    2\n",
       "25352045   1629223    tid_4  104841.0        4    1"
      ]
     },
     "execution_count": 10,
     "metadata": {},
     "output_type": "execute_result"
    }
   ],
   "source": [
    "df_melt[df_melt.assay_id==df_melt.assay_id.sample(1).squeeze()]"
   ]
  },
  {
   "cell_type": "code",
   "execution_count": null,
   "id": "58ea3507-9083-452c-ba9c-736b12374872",
   "metadata": {},
   "outputs": [],
   "source": []
  },
  {
   "cell_type": "code",
   "execution_count": null,
   "id": "3ad37a25-36da-416d-a4b4-d484ba4eeeb7",
   "metadata": {},
   "outputs": [],
   "source": []
  },
  {
   "cell_type": "code",
   "execution_count": 11,
   "id": "f97606c6-eb95-4124-955e-11e99869360a",
   "metadata": {},
   "outputs": [],
   "source": [
    "df.drop(['tid_1', 'tid_2', 'tid_3', 'tid_4'], axis=1, inplace=True)\n",
    "df.drop_duplicates(inplace=True)"
   ]
  },
  {
   "cell_type": "code",
   "execution_count": 12,
   "id": "152d455b-050e-48ea-9c98-4824de771fdd",
   "metadata": {},
   "outputs": [
    {
     "data": {
      "text/html": [
       "<div>\n",
       "<style scoped>\n",
       "    .dataframe tbody tr th:only-of-type {\n",
       "        vertical-align: middle;\n",
       "    }\n",
       "\n",
       "    .dataframe tbody tr th {\n",
       "        vertical-align: top;\n",
       "    }\n",
       "\n",
       "    .dataframe thead th {\n",
       "        text-align: right;\n",
       "    }\n",
       "</style>\n",
       "<table border=\"1\" class=\"dataframe\">\n",
       "  <thead>\n",
       "    <tr style=\"text-align: right;\">\n",
       "      <th></th>\n",
       "      <th>wizepair2_uuid</th>\n",
       "      <th>assay_id</th>\n",
       "      <th>standard_type</th>\n",
       "      <th>standard_change</th>\n",
       "      <th>molregno_1</th>\n",
       "      <th>molregno_2</th>\n",
       "      <th>fragment_md5_1</th>\n",
       "      <th>fragment_md5_2</th>\n",
       "      <th>radius</th>\n",
       "      <th>molregno_1_idx</th>\n",
       "      <th>molregno_2_idx</th>\n",
       "    </tr>\n",
       "  </thead>\n",
       "  <tbody>\n",
       "    <tr>\n",
       "      <th>0</th>\n",
       "      <td>40ef89666a8e476e324557c726c40557</td>\n",
       "      <td>1907404</td>\n",
       "      <td>IC50</td>\n",
       "      <td>NaN</td>\n",
       "      <td>2347913</td>\n",
       "      <td>2374257</td>\n",
       "      <td>8b6d885a266c725fddf935d31e1aaa12</td>\n",
       "      <td>7ce082bff00ce2cf796a9ab8cc1779ad</td>\n",
       "      <td>4</td>\n",
       "      <td>30113</td>\n",
       "      <td>5539</td>\n",
       "    </tr>\n",
       "    <tr>\n",
       "      <th>1</th>\n",
       "      <td>40ef89666a8e476e324557c726c40557</td>\n",
       "      <td>1907404</td>\n",
       "      <td>IC50</td>\n",
       "      <td>NaN</td>\n",
       "      <td>2347913</td>\n",
       "      <td>2374257</td>\n",
       "      <td>4bab53fbc1d4bc2dc9826c62874faf90</td>\n",
       "      <td>1549251a9c0e182d0b73e88bbfa6ce35</td>\n",
       "      <td>1</td>\n",
       "      <td>30113</td>\n",
       "      <td>5539</td>\n",
       "    </tr>\n",
       "    <tr>\n",
       "      <th>3</th>\n",
       "      <td>2b0039cd8e8b8f8abb5179d9a25e1c84</td>\n",
       "      <td>1907406</td>\n",
       "      <td>IC50</td>\n",
       "      <td>NaN</td>\n",
       "      <td>2371535</td>\n",
       "      <td>2369372</td>\n",
       "      <td>0ef4d3a6676dfff2cde260b0a4d8a45e</td>\n",
       "      <td>a16d252d536b052bd9d8dc64a80dcd1d</td>\n",
       "      <td>2</td>\n",
       "      <td>17025</td>\n",
       "      <td>2496</td>\n",
       "    </tr>\n",
       "  </tbody>\n",
       "</table>\n",
       "</div>"
      ],
      "text/plain": [
       "                     wizepair2_uuid  assay_id standard_type standard_change  \\\n",
       "0  40ef89666a8e476e324557c726c40557   1907404          IC50             NaN   \n",
       "1  40ef89666a8e476e324557c726c40557   1907404          IC50             NaN   \n",
       "3  2b0039cd8e8b8f8abb5179d9a25e1c84   1907406          IC50             NaN   \n",
       "\n",
       "   molregno_1  molregno_2                    fragment_md5_1  \\\n",
       "0     2347913     2374257  8b6d885a266c725fddf935d31e1aaa12   \n",
       "1     2347913     2374257  4bab53fbc1d4bc2dc9826c62874faf90   \n",
       "3     2371535     2369372  0ef4d3a6676dfff2cde260b0a4d8a45e   \n",
       "\n",
       "                     fragment_md5_2  radius  molregno_1_idx  molregno_2_idx  \n",
       "0  7ce082bff00ce2cf796a9ab8cc1779ad       4           30113            5539  \n",
       "1  1549251a9c0e182d0b73e88bbfa6ce35       1           30113            5539  \n",
       "3  a16d252d536b052bd9d8dc64a80dcd1d       2           17025            2496  "
      ]
     },
     "execution_count": 12,
     "metadata": {},
     "output_type": "execute_result"
    }
   ],
   "source": [
    "df.head(3)"
   ]
  },
  {
   "cell_type": "code",
   "execution_count": 13,
   "id": "b472c134-7448-4b90-8cdc-989a09fd841a",
   "metadata": {},
   "outputs": [
    {
     "data": {
      "text/plain": [
       "3595806"
      ]
     },
     "execution_count": 13,
     "metadata": {},
     "output_type": "execute_result"
    }
   ],
   "source": [
    "len(df.index)"
   ]
  },
  {
   "cell_type": "raw",
   "id": "d595fea4-9237-43ce-bc9f-59ac21b08f14",
   "metadata": {},
   "source": [
    "df['molecule_chembl_num_1'] = df.molecule_chembl_id_1.str.extract('(\\d+)')\n",
    "df['molecule_chembl_num_2'] = df.molecule_chembl_id_2.str.extract('(\\d+)')"
   ]
  },
  {
   "cell_type": "code",
   "execution_count": 14,
   "id": "9c935502-b14a-4335-82cd-fd4e97ef639d",
   "metadata": {},
   "outputs": [],
   "source": [
    "from sklearn.model_selection import GridSearchCV\n",
    "from sklearn.model_selection import GroupKFold\n",
    "\n",
    "def eloCV(df):\n",
    "    \n",
    "    # create a table where winner / loser is defined\n",
    "    df_train = df[df.standard_change.isin(['increase', 'decrease'])].copy(deep=True)\n",
    "    if df_train.empty: return None\n",
    "    df_train['label'] = df_train.standard_change=='increase'\n",
    "\n",
    "    # use index as timeseries\n",
    "    df_train['timestamp'] = df_train[['molregno_1_idx', 'molregno_2_idx']].max(axis=1)\n",
    "    df_train.sort_values('timestamp', inplace=True)\n",
    "    df_train.reset_index(inplace=True)\n",
    "        \n",
    "    model = EloEstimator(\n",
    "        key1_field=\"fragment_md5_1\",\n",
    "        key2_field=\"fragment_md5_2\",\n",
    "        timestamp_field=\"timestamp\",\n",
    "        initial_time=0\n",
    "    )\n",
    "    \n",
    "    # fit model\n",
    "    clf = GridSearchCV(\n",
    "        model,\n",
    "        param_grid={\n",
    "            'default_k': [\n",
    "                20, 40, 60, 100, 160\n",
    "            ]\n",
    "        },\n",
    "        scoring='neg_median_absolute_error',\n",
    "        cv=[(df_train.index, df_train.index)]\n",
    "        ).fit(df_train, df_train.label)\n",
    "\n",
    "    # return proba\n",
    "    #df_train['proba'] = model.transform(df_train, output_type='prob', strict_past_data=True)\n",
    "    #return df_train[['wizepair2_uuid', 'proba', 'label']] \n",
    "    return pd.DataFrame(clf.cv_results_)\n"
   ]
  },
  {
   "cell_type": "code",
   "execution_count": 15,
   "id": "390969fd-de48-46aa-af7b-6f1e792490ce",
   "metadata": {},
   "outputs": [
    {
     "data": {
      "application/vnd.jupyter.widget-view+json": {
       "model_id": "156154a9505e422ca11cd4a985020125",
       "version_major": 2,
       "version_minor": 0
      },
      "text/plain": [
       "VBox(children=(HBox(children=(IntProgress(value=0, description='0.00%', max=6765), Label(value='0 / 6765'))), …"
      ]
     },
     "metadata": {},
     "output_type": "display_data"
    }
   ],
   "source": [
    "df_elocv = df.groupby(['assay_id', 'radius']).parallel_apply(eloCV)"
   ]
  },
  {
   "cell_type": "code",
   "execution_count": 16,
   "id": "5df3f11a-4991-46b4-9db6-c44ba5d742d2",
   "metadata": {},
   "outputs": [
    {
     "data": {
      "text/plain": [
       "param_default_k\n",
       "20    -0.298812\n",
       "40    -0.298734\n",
       "60    -0.298798\n",
       "100   -0.298727\n",
       "160   -0.298939\n",
       "Name: mean_test_score, dtype: float64"
      ]
     },
     "execution_count": 16,
     "metadata": {},
     "output_type": "execute_result"
    }
   ],
   "source": [
    "df_elocv.groupby(['param_default_k'])['mean_test_score'].mean()"
   ]
  },
  {
   "cell_type": "code",
   "execution_count": 17,
   "id": "b74024af-99df-48db-8dd9-b8fa02acce6f",
   "metadata": {},
   "outputs": [],
   "source": [
    "def elo(df):\n",
    "    \n",
    "    # create a table where winner / loser is defined\n",
    "    df_train = df[df.standard_change.isin(['increase', 'decrease'])].copy(deep=True)\n",
    "    if df_train.empty: return None\n",
    "    df_train['label'] = df_train.standard_change=='increase'\n",
    "\n",
    "    # use index as timeseries\n",
    "    df_train['timestamp'] = df_train[['molregno_1_idx', 'molregno_2_idx']].max(axis=1)\n",
    "    df_train.sort_values('timestamp', inplace=True)\n",
    "    df_train.reset_index(inplace=True)\n",
    "    \n",
    "    # fit model\n",
    "    model = EloEstimator(\n",
    "        key1_field=\"fragment_md5_1\",\n",
    "        key2_field=\"fragment_md5_2\",\n",
    "        timestamp_field=\"timestamp\",\n",
    "        initial_time=0,\n",
    "        default_k=60\n",
    "    ).fit(df_train, df_train.label)\n",
    "    \n",
    "    # return proba\n",
    "    df_train['proba'] = model.transform(df_train, output_type='prob', strict_past_data=True)\n",
    "    try: return df_train[['wizepair2_uuid', 'assay_id', 'proba', 'label']]\n",
    "    except KeyError: return df_train[['wizepair2_uuid', 'proba', 'label']]\n",
    "    "
   ]
  },
  {
   "cell_type": "code",
   "execution_count": 18,
   "id": "6109cf72-d379-45ff-8ffa-c8c65618c2dc",
   "metadata": {},
   "outputs": [
    {
     "data": {
      "application/vnd.jupyter.widget-view+json": {
       "model_id": "a39125c92e4c4fe1824901593d2a7882",
       "version_major": 2,
       "version_minor": 0
      },
      "text/plain": [
       "VBox(children=(HBox(children=(IntProgress(value=0, description='0.00%', max=6765), Label(value='0 / 6765'))), …"
      ]
     },
     "metadata": {},
     "output_type": "display_data"
    }
   ],
   "source": [
    "df_elo = df.groupby(['assay_id', 'radius']).parallel_apply(elo)"
   ]
  },
  {
   "cell_type": "code",
   "execution_count": 19,
   "id": "9255ac52-7c3d-4440-904a-1f70feb048b5",
   "metadata": {},
   "outputs": [
    {
     "data": {
      "text/plain": [
       "0.0    0.001622\n",
       "0.1    0.273669\n",
       "0.5    0.500000\n",
       "0.9    0.727061\n",
       "1.0    0.998378\n",
       "Name: proba, dtype: float64"
      ]
     },
     "execution_count": 19,
     "metadata": {},
     "output_type": "execute_result"
    }
   ],
   "source": [
    "df_elo.proba.quantile([0, 0.1, 0.5, 0.9, 1])"
   ]
  },
  {
   "cell_type": "code",
   "execution_count": 20,
   "id": "cdf52023-e7e0-4a58-8e6f-e8c1e35b0fb5",
   "metadata": {},
   "outputs": [
    {
     "data": {
      "text/plain": [
       "0.7576284270356538"
      ]
     },
     "execution_count": 20,
     "metadata": {},
     "output_type": "execute_result"
    }
   ],
   "source": [
    "from sklearn.metrics import roc_auc_score\n",
    "\n",
    "roc_auc_score(df_elo.label, df_elo.proba)"
   ]
  },
  {
   "cell_type": "code",
   "execution_count": 21,
   "id": "900cf872-0357-499a-88fa-95ba500132e8",
   "metadata": {},
   "outputs": [
    {
     "data": {
      "text/plain": [
       "<matplotlib.legend.Legend at 0x7f9885e28f60>"
      ]
     },
     "execution_count": 21,
     "metadata": {},
     "output_type": "execute_result"
    },
    {
     "data": {
      "image/png": "[encoded data removed]",
      "text/plain": [
       "<Figure size 640x480 with 1 Axes>"
      ]
     },
     "metadata": {},
     "output_type": "display_data"
    }
   ],
   "source": [
    "import matplotlib.pyplot as plt\n",
    "from sklearn.calibration import calibration_curve\n",
    "\n",
    "prob_true, prob_pred = calibration_curve(\n",
    "  df_elo.label,\n",
    "  df_elo.proba,\n",
    "  n_bins=10\n",
    ")\n",
    "plt.plot(prob_pred, prob_true, label=f\"Elo Classifier\", marker='s', color='b')\n",
    "plt.plot([0, 1], [0, 1], label=\"Perfect Calibration\", ls=\":\", color='k')\n",
    "plt.xlabel(\"Predicted Probability\")\n",
    "plt.ylabel(\"Empirical Probability\")\n",
    "plt.legend()"
   ]
  },
  {
   "cell_type": "code",
   "execution_count": null,
   "id": "9e14b157-9e64-4cbc-a937-61e1ed362a0c",
   "metadata": {},
   "outputs": [],
   "source": []
  },
  {
   "cell_type": "code",
   "execution_count": 22,
   "id": "36c3c19a-cc12-42b5-af69-502c1f249005",
   "metadata": {},
   "outputs": [],
   "source": [
    "df_merge = df.merge(df_melt, on='assay_id')"
   ]
  },
  {
   "cell_type": "code",
   "execution_count": 23,
   "id": "339367f2-faf4-4ccb-b7c0-11f46f6b1dca",
   "metadata": {},
   "outputs": [
    {
     "data": {
      "text/plain": [
       "6858452"
      ]
     },
     "execution_count": 23,
     "metadata": {},
     "output_type": "execute_result"
    }
   ],
   "source": [
    "len(df_merge.index)"
   ]
  },
  {
   "cell_type": "code",
   "execution_count": 24,
   "id": "9dfa88fa-08f2-4e60-9388-cce98c820ee7",
   "metadata": {},
   "outputs": [
    {
     "data": {
      "application/vnd.jupyter.widget-view+json": {
       "model_id": "085c8301df474752ad7348ec34c5f326",
       "version_major": 2,
       "version_minor": 0
      },
      "text/plain": [
       "VBox(children=(HBox(children=(IntProgress(value=0, description='0.00%', max=1941), Label(value='0 / 1941'))), …"
      ]
     },
     "metadata": {},
     "output_type": "display_data"
    }
   ],
   "source": [
    "df_merge_elocv = df_merge.groupby(['standard_type', 'value', 'radius']).parallel_apply(eloCV)"
   ]
  },
  {
   "cell_type": "code",
   "execution_count": 25,
   "id": "b2eb79f7-c68b-4166-8495-b4cc99f10458",
   "metadata": {},
   "outputs": [
    {
     "data": {
      "text/plain": [
       "param_default_k\n",
       "20    -0.214971\n",
       "40    -0.214830\n",
       "60    -0.214830\n",
       "100   -0.214901\n",
       "160   -0.214690\n",
       "Name: mean_test_score, dtype: float64"
      ]
     },
     "execution_count": 25,
     "metadata": {},
     "output_type": "execute_result"
    }
   ],
   "source": [
    "df_merge_elocv.groupby('param_default_k')['mean_test_score'].mean()"
   ]
  },
  {
   "cell_type": "code",
   "execution_count": 26,
   "id": "9b0810aa-ab55-43cd-b6ae-275cc4e39827",
   "metadata": {},
   "outputs": [
    {
     "data": {
      "application/vnd.jupyter.widget-view+json": {
       "model_id": "8ec4919c85024d758a2546094e2c6aa9",
       "version_major": 2,
       "version_minor": 0
      },
      "text/plain": [
       "VBox(children=(HBox(children=(IntProgress(value=0, description='0.00%', max=1941), Label(value='0 / 1941'))), …"
      ]
     },
     "metadata": {},
     "output_type": "display_data"
    }
   ],
   "source": [
    "df_merge_elo = df_merge.groupby(['standard_type', 'value', 'radius']).parallel_apply(elo)"
   ]
  },
  {
   "cell_type": "code",
   "execution_count": 27,
   "id": "6c0a7105-7d88-42ef-8559-f7f06aa90b2e",
   "metadata": {},
   "outputs": [
    {
     "data": {
      "text/plain": [
       "0.0    1.202657e-11\n",
       "0.1    2.205858e-01\n",
       "0.5    5.000000e-01\n",
       "0.9    7.818366e-01\n",
       "1.0    1.000000e+00\n",
       "Name: proba, dtype: float64"
      ]
     },
     "execution_count": 27,
     "metadata": {},
     "output_type": "execute_result"
    }
   ],
   "source": [
    "df_merge_elo.proba.quantile([0, 0.1, 0.5, 0.9, 1])"
   ]
  },
  {
   "cell_type": "code",
   "execution_count": 28,
   "id": "817dcdc4-2a6a-4a2c-b3aa-c10b2d1537f9",
   "metadata": {},
   "outputs": [
    {
     "data": {
      "text/plain": [
       "0.7399836189945551"
      ]
     },
     "execution_count": 28,
     "metadata": {},
     "output_type": "execute_result"
    }
   ],
   "source": [
    "from sklearn.metrics import roc_auc_score\n",
    "\n",
    "roc_auc_score(df_merge_elo.label, df_merge_elo.proba)"
   ]
  },
  {
   "cell_type": "code",
   "execution_count": 29,
   "id": "5e124c4f-b52e-4c4f-ba73-041fee4a2c37",
   "metadata": {},
   "outputs": [
    {
     "data": {
      "text/plain": [
       "<matplotlib.legend.Legend at 0x7f989808eb00>"
      ]
     },
     "execution_count": 29,
     "metadata": {},
     "output_type": "execute_result"
    },
    {
     "data": {
      "image/png": "[encoded data removed]",
      "text/plain": [
       "<Figure size 640x480 with 1 Axes>"
      ]
     },
     "metadata": {},
     "output_type": "display_data"
    }
   ],
   "source": [
    "import matplotlib.pyplot as plt\n",
    "from sklearn.calibration import calibration_curve\n",
    "\n",
    "prob_true, prob_pred = calibration_curve(\n",
    "  df_merge_elo.label,\n",
    "  df_merge_elo.proba,\n",
    "  n_bins=10\n",
    ")\n",
    "plt.plot(prob_pred, prob_true, label=f\"Elo Classifier\", marker='s', color='b')\n",
    "plt.plot([0, 1], [0, 1], label=\"Perfect Calibration\", ls=\":\", color='k')\n",
    "plt.xlabel(\"Predicted Probability\")\n",
    "plt.ylabel(\"Empirical Probability\")\n",
    "plt.legend()"
   ]
  },
  {
   "cell_type": "code",
   "execution_count": 30,
   "id": "f30cf622-4ccb-441e-aa6d-2191d7f708b8",
   "metadata": {},
   "outputs": [
    {
     "data": {
      "text/html": [
       "<div>\n",
       "<style scoped>\n",
       "    .dataframe tbody tr th:only-of-type {\n",
       "        vertical-align: middle;\n",
       "    }\n",
       "\n",
       "    .dataframe tbody tr th {\n",
       "        vertical-align: top;\n",
       "    }\n",
       "\n",
       "    .dataframe thead th {\n",
       "        text-align: right;\n",
       "    }\n",
       "</style>\n",
       "<table border=\"1\" class=\"dataframe\">\n",
       "  <thead>\n",
       "    <tr style=\"text-align: right;\">\n",
       "      <th></th>\n",
       "      <th></th>\n",
       "      <th></th>\n",
       "      <th></th>\n",
       "      <th>wizepair2_uuid</th>\n",
       "      <th>assay_id</th>\n",
       "      <th>proba</th>\n",
       "      <th>label</th>\n",
       "    </tr>\n",
       "    <tr>\n",
       "      <th>standard_type</th>\n",
       "      <th>value</th>\n",
       "      <th>radius</th>\n",
       "      <th></th>\n",
       "      <th></th>\n",
       "      <th></th>\n",
       "      <th></th>\n",
       "      <th></th>\n",
       "    </tr>\n",
       "  </thead>\n",
       "  <tbody>\n",
       "    <tr>\n",
       "      <th rowspan=\"11\" valign=\"top\">Ki</th>\n",
       "      <th rowspan=\"11\" valign=\"top\">104764.0</th>\n",
       "      <th rowspan=\"11\" valign=\"top\">1</th>\n",
       "      <th>54396</th>\n",
       "      <td>94190a240d110ec0c33ef6f2c121a3b8</td>\n",
       "      <td>826238</td>\n",
       "      <td>1.000000e+00</td>\n",
       "      <td>True</td>\n",
       "    </tr>\n",
       "    <tr>\n",
       "      <th>55125</th>\n",
       "      <td>94190a240d110ec0c33ef6f2c121a3b8</td>\n",
       "      <td>1543851</td>\n",
       "      <td>1.000000e+00</td>\n",
       "      <td>True</td>\n",
       "    </tr>\n",
       "    <tr>\n",
       "      <th>53447</th>\n",
       "      <td>94190a240d110ec0c33ef6f2c121a3b8</td>\n",
       "      <td>47514</td>\n",
       "      <td>1.000000e+00</td>\n",
       "      <td>True</td>\n",
       "    </tr>\n",
       "    <tr>\n",
       "      <th>53844</th>\n",
       "      <td>94190a240d110ec0c33ef6f2c121a3b8</td>\n",
       "      <td>497635</td>\n",
       "      <td>1.000000e+00</td>\n",
       "      <td>True</td>\n",
       "    </tr>\n",
       "    <tr>\n",
       "      <th>55462</th>\n",
       "      <td>94190a240d110ec0c33ef6f2c121a3b8</td>\n",
       "      <td>47515</td>\n",
       "      <td>1.000000e+00</td>\n",
       "      <td>True</td>\n",
       "    </tr>\n",
       "    <tr>\n",
       "      <th>...</th>\n",
       "      <td>...</td>\n",
       "      <td>...</td>\n",
       "      <td>...</td>\n",
       "      <td>...</td>\n",
       "    </tr>\n",
       "    <tr>\n",
       "      <th>54482</th>\n",
       "      <td>e566c2f8b1aa5928b367a3dc39916270</td>\n",
       "      <td>347176</td>\n",
       "      <td>1.202657e-11</td>\n",
       "      <td>False</td>\n",
       "    </tr>\n",
       "    <tr>\n",
       "      <th>54498</th>\n",
       "      <td>e566c2f8b1aa5928b367a3dc39916270</td>\n",
       "      <td>45443</td>\n",
       "      <td>1.202657e-11</td>\n",
       "      <td>True</td>\n",
       "    </tr>\n",
       "    <tr>\n",
       "      <th>54550</th>\n",
       "      <td>e566c2f8b1aa5928b367a3dc39916270</td>\n",
       "      <td>562985</td>\n",
       "      <td>1.202657e-11</td>\n",
       "      <td>False</td>\n",
       "    </tr>\n",
       "    <tr>\n",
       "      <th>54575</th>\n",
       "      <td>e566c2f8b1aa5928b367a3dc39916270</td>\n",
       "      <td>45247</td>\n",
       "      <td>1.202657e-11</td>\n",
       "      <td>True</td>\n",
       "    </tr>\n",
       "    <tr>\n",
       "      <th>56491</th>\n",
       "      <td>e566c2f8b1aa5928b367a3dc39916270</td>\n",
       "      <td>45078</td>\n",
       "      <td>1.202657e-11</td>\n",
       "      <td>False</td>\n",
       "    </tr>\n",
       "  </tbody>\n",
       "</table>\n",
       "<p>5860565 rows × 4 columns</p>\n",
       "</div>"
      ],
      "text/plain": [
       "                                                       wizepair2_uuid  \\\n",
       "standard_type value    radius                                           \n",
       "Ki            104764.0 1      54396  94190a240d110ec0c33ef6f2c121a3b8   \n",
       "                              55125  94190a240d110ec0c33ef6f2c121a3b8   \n",
       "                              53447  94190a240d110ec0c33ef6f2c121a3b8   \n",
       "                              53844  94190a240d110ec0c33ef6f2c121a3b8   \n",
       "                              55462  94190a240d110ec0c33ef6f2c121a3b8   \n",
       "...                                                               ...   \n",
       "                              54482  e566c2f8b1aa5928b367a3dc39916270   \n",
       "                              54498  e566c2f8b1aa5928b367a3dc39916270   \n",
       "                              54550  e566c2f8b1aa5928b367a3dc39916270   \n",
       "                              54575  e566c2f8b1aa5928b367a3dc39916270   \n",
       "                              56491  e566c2f8b1aa5928b367a3dc39916270   \n",
       "\n",
       "                                     assay_id         proba  label  \n",
       "standard_type value    radius                                       \n",
       "Ki            104764.0 1      54396    826238  1.000000e+00   True  \n",
       "                              55125   1543851  1.000000e+00   True  \n",
       "                              53447     47514  1.000000e+00   True  \n",
       "                              53844    497635  1.000000e+00   True  \n",
       "                              55462     47515  1.000000e+00   True  \n",
       "...                                       ...           ...    ...  \n",
       "                              54482    347176  1.202657e-11  False  \n",
       "                              54498     45443  1.202657e-11   True  \n",
       "                              54550    562985  1.202657e-11  False  \n",
       "                              54575     45247  1.202657e-11   True  \n",
       "                              56491     45078  1.202657e-11  False  \n",
       "\n",
       "[5860565 rows x 4 columns]"
      ]
     },
     "execution_count": 30,
     "metadata": {},
     "output_type": "execute_result"
    }
   ],
   "source": [
    "df_merge_elo.sort_values('proba', ascending=False)"
   ]
  },
  {
   "cell_type": "code",
   "execution_count": 38,
   "id": "848f4bca-ec0c-41ea-826f-af85ee5046dd",
   "metadata": {},
   "outputs": [
    {
     "data": {
      "text/plain": [
       "standard_type  value     radius  standard_change  molregno_1  molregno_2\n",
       "IC50           104764.0  1       decrease         1148        969            2\n",
       "                         2       decrease         1148        969            2\n",
       "                         3       decrease         1148        969            2\n",
       "                         4       decrease         1148        969            2\n",
       "Ki             104764.0  1       decrease         1148        969           13\n",
       "                         2       decrease         1148        969           13\n",
       "                         3       decrease         1148        969           13\n",
       "                         4       decrease         1148        969           13\n",
       "                         1       increase         1148        969           48\n",
       "                         2       increase         1148        969           48\n",
       "                         3       increase         1148        969           48\n",
       "                         4       increase         1148        969           48\n",
       "dtype: int64"
      ]
     },
     "execution_count": 38,
     "metadata": {},
     "output_type": "execute_result"
    }
   ],
   "source": [
    "df_merge[(df_merge.wizepair2_uuid=='94190a240d110ec0c33ef6f2c121a3b8') & (df_merge.value==104764.0)].groupby(\n",
    "    ['standard_type', 'value', 'radius', 'standard_change', 'molregno_1', 'molregno_2']).size().sort_values()"
   ]
  },
  {
   "cell_type": "code",
   "execution_count": 34,
   "id": "772588b0-8e19-4148-92ac-5cf7c1381647",
   "metadata": {},
   "outputs": [
    {
     "data": {
      "text/html": [
       "<div>\n",
       "<style scoped>\n",
       "    .dataframe tbody tr th:only-of-type {\n",
       "        vertical-align: middle;\n",
       "    }\n",
       "\n",
       "    .dataframe tbody tr th {\n",
       "        vertical-align: top;\n",
       "    }\n",
       "\n",
       "    .dataframe thead th {\n",
       "        text-align: right;\n",
       "    }\n",
       "</style>\n",
       "<table border=\"1\" class=\"dataframe\">\n",
       "  <thead>\n",
       "    <tr style=\"text-align: right;\">\n",
       "      <th></th>\n",
       "      <th>wizepair2_uuid</th>\n",
       "      <th>assay_id</th>\n",
       "      <th>standard_type</th>\n",
       "      <th>standard_change</th>\n",
       "      <th>molregno_1</th>\n",
       "      <th>molregno_2</th>\n",
       "      <th>fragment_md5_1</th>\n",
       "      <th>fragment_md5_2</th>\n",
       "      <th>radius</th>\n",
       "      <th>molregno_1_idx</th>\n",
       "      <th>molregno_2_idx</th>\n",
       "      <th>variable</th>\n",
       "      <th>value</th>\n",
       "      <th>var_idx</th>\n",
       "      <th>new</th>\n",
       "    </tr>\n",
       "  </thead>\n",
       "  <tbody>\n",
       "    <tr>\n",
       "      <th>435742</th>\n",
       "      <td>94190a240d110ec0c33ef6f2c121a3b8</td>\n",
       "      <td>325762</td>\n",
       "      <td>Ki</td>\n",
       "      <td>decrease</td>\n",
       "      <td>1148</td>\n",
       "      <td>969</td>\n",
       "      <td>67deba9cd7169ffa34e73e519e249d69</td>\n",
       "      <td>4fc9d18145af23420e3a43b3304480ba</td>\n",
       "      <td>1</td>\n",
       "      <td>26142</td>\n",
       "      <td>24348</td>\n",
       "      <td>tid_3</td>\n",
       "      <td>104764.0</td>\n",
       "      <td>3</td>\n",
       "      <td>1</td>\n",
       "    </tr>\n",
       "    <tr>\n",
       "      <th>1598891</th>\n",
       "      <td>94190a240d110ec0c33ef6f2c121a3b8</td>\n",
       "      <td>305668</td>\n",
       "      <td>IC50</td>\n",
       "      <td>decrease</td>\n",
       "      <td>1148</td>\n",
       "      <td>969</td>\n",
       "      <td>67deba9cd7169ffa34e73e519e249d69</td>\n",
       "      <td>4fc9d18145af23420e3a43b3304480ba</td>\n",
       "      <td>1</td>\n",
       "      <td>26142</td>\n",
       "      <td>24348</td>\n",
       "      <td>tid_3</td>\n",
       "      <td>104764.0</td>\n",
       "      <td>3</td>\n",
       "      <td>1</td>\n",
       "    </tr>\n",
       "    <tr>\n",
       "      <th>1749804</th>\n",
       "      <td>94190a240d110ec0c33ef6f2c121a3b8</td>\n",
       "      <td>325761</td>\n",
       "      <td>Ki</td>\n",
       "      <td>decrease</td>\n",
       "      <td>1148</td>\n",
       "      <td>969</td>\n",
       "      <td>67deba9cd7169ffa34e73e519e249d69</td>\n",
       "      <td>4fc9d18145af23420e3a43b3304480ba</td>\n",
       "      <td>1</td>\n",
       "      <td>26142</td>\n",
       "      <td>24348</td>\n",
       "      <td>tid_3</td>\n",
       "      <td>104764.0</td>\n",
       "      <td>3</td>\n",
       "      <td>1</td>\n",
       "    </tr>\n",
       "    <tr>\n",
       "      <th>3104083</th>\n",
       "      <td>94190a240d110ec0c33ef6f2c121a3b8</td>\n",
       "      <td>423832</td>\n",
       "      <td>Ki</td>\n",
       "      <td>decrease</td>\n",
       "      <td>1148</td>\n",
       "      <td>969</td>\n",
       "      <td>67deba9cd7169ffa34e73e519e249d69</td>\n",
       "      <td>4fc9d18145af23420e3a43b3304480ba</td>\n",
       "      <td>1</td>\n",
       "      <td>26142</td>\n",
       "      <td>24348</td>\n",
       "      <td>tid_2</td>\n",
       "      <td>104764.0</td>\n",
       "      <td>2</td>\n",
       "      <td>1</td>\n",
       "    </tr>\n",
       "    <tr>\n",
       "      <th>3398817</th>\n",
       "      <td>94190a240d110ec0c33ef6f2c121a3b8</td>\n",
       "      <td>302350</td>\n",
       "      <td>Ki</td>\n",
       "      <td>decrease</td>\n",
       "      <td>1148</td>\n",
       "      <td>969</td>\n",
       "      <td>67deba9cd7169ffa34e73e519e249d69</td>\n",
       "      <td>4fc9d18145af23420e3a43b3304480ba</td>\n",
       "      <td>1</td>\n",
       "      <td>26142</td>\n",
       "      <td>24348</td>\n",
       "      <td>tid_2</td>\n",
       "      <td>104764.0</td>\n",
       "      <td>2</td>\n",
       "      <td>1</td>\n",
       "    </tr>\n",
       "    <tr>\n",
       "      <th>...</th>\n",
       "      <td>...</td>\n",
       "      <td>...</td>\n",
       "      <td>...</td>\n",
       "      <td>...</td>\n",
       "      <td>...</td>\n",
       "      <td>...</td>\n",
       "      <td>...</td>\n",
       "      <td>...</td>\n",
       "      <td>...</td>\n",
       "      <td>...</td>\n",
       "      <td>...</td>\n",
       "      <td>...</td>\n",
       "      <td>...</td>\n",
       "      <td>...</td>\n",
       "      <td>...</td>\n",
       "    </tr>\n",
       "    <tr>\n",
       "      <th>6475672</th>\n",
       "      <td>94190a240d110ec0c33ef6f2c121a3b8</td>\n",
       "      <td>303196</td>\n",
       "      <td>Ki</td>\n",
       "      <td>decrease</td>\n",
       "      <td>1148</td>\n",
       "      <td>969</td>\n",
       "      <td>67deba9cd7169ffa34e73e519e249d69</td>\n",
       "      <td>4fc9d18145af23420e3a43b3304480ba</td>\n",
       "      <td>1</td>\n",
       "      <td>26142</td>\n",
       "      <td>24348</td>\n",
       "      <td>tid_3</td>\n",
       "      <td>104764.0</td>\n",
       "      <td>3</td>\n",
       "      <td>1</td>\n",
       "    </tr>\n",
       "    <tr>\n",
       "      <th>6478897</th>\n",
       "      <td>94190a240d110ec0c33ef6f2c121a3b8</td>\n",
       "      <td>517303</td>\n",
       "      <td>Ki</td>\n",
       "      <td>decrease</td>\n",
       "      <td>1148</td>\n",
       "      <td>969</td>\n",
       "      <td>67deba9cd7169ffa34e73e519e249d69</td>\n",
       "      <td>4fc9d18145af23420e3a43b3304480ba</td>\n",
       "      <td>1</td>\n",
       "      <td>26142</td>\n",
       "      <td>24348</td>\n",
       "      <td>tid_3</td>\n",
       "      <td>104764.0</td>\n",
       "      <td>3</td>\n",
       "      <td>1</td>\n",
       "    </tr>\n",
       "    <tr>\n",
       "      <th>6500824</th>\n",
       "      <td>94190a240d110ec0c33ef6f2c121a3b8</td>\n",
       "      <td>45443</td>\n",
       "      <td>Ki</td>\n",
       "      <td>decrease</td>\n",
       "      <td>1148</td>\n",
       "      <td>969</td>\n",
       "      <td>67deba9cd7169ffa34e73e519e249d69</td>\n",
       "      <td>4fc9d18145af23420e3a43b3304480ba</td>\n",
       "      <td>1</td>\n",
       "      <td>26142</td>\n",
       "      <td>24348</td>\n",
       "      <td>tid_3</td>\n",
       "      <td>104764.0</td>\n",
       "      <td>3</td>\n",
       "      <td>1</td>\n",
       "    </tr>\n",
       "    <tr>\n",
       "      <th>6531121</th>\n",
       "      <td>94190a240d110ec0c33ef6f2c121a3b8</td>\n",
       "      <td>45446</td>\n",
       "      <td>Ki</td>\n",
       "      <td>decrease</td>\n",
       "      <td>1148</td>\n",
       "      <td>969</td>\n",
       "      <td>67deba9cd7169ffa34e73e519e249d69</td>\n",
       "      <td>4fc9d18145af23420e3a43b3304480ba</td>\n",
       "      <td>1</td>\n",
       "      <td>26142</td>\n",
       "      <td>24348</td>\n",
       "      <td>tid_3</td>\n",
       "      <td>104764.0</td>\n",
       "      <td>3</td>\n",
       "      <td>1</td>\n",
       "    </tr>\n",
       "    <tr>\n",
       "      <th>6537517</th>\n",
       "      <td>94190a240d110ec0c33ef6f2c121a3b8</td>\n",
       "      <td>423835</td>\n",
       "      <td>Ki</td>\n",
       "      <td>decrease</td>\n",
       "      <td>1148</td>\n",
       "      <td>969</td>\n",
       "      <td>67deba9cd7169ffa34e73e519e249d69</td>\n",
       "      <td>4fc9d18145af23420e3a43b3304480ba</td>\n",
       "      <td>1</td>\n",
       "      <td>26142</td>\n",
       "      <td>24348</td>\n",
       "      <td>tid_3</td>\n",
       "      <td>104764.0</td>\n",
       "      <td>3</td>\n",
       "      <td>1</td>\n",
       "    </tr>\n",
       "  </tbody>\n",
       "</table>\n",
       "<p>63 rows × 15 columns</p>\n",
       "</div>"
      ],
      "text/plain": [
       "                           wizepair2_uuid  assay_id standard_type  \\\n",
       "435742   94190a240d110ec0c33ef6f2c121a3b8    325762            Ki   \n",
       "1598891  94190a240d110ec0c33ef6f2c121a3b8    305668          IC50   \n",
       "1749804  94190a240d110ec0c33ef6f2c121a3b8    325761            Ki   \n",
       "3104083  94190a240d110ec0c33ef6f2c121a3b8    423832            Ki   \n",
       "3398817  94190a240d110ec0c33ef6f2c121a3b8    302350            Ki   \n",
       "...                                   ...       ...           ...   \n",
       "6475672  94190a240d110ec0c33ef6f2c121a3b8    303196            Ki   \n",
       "6478897  94190a240d110ec0c33ef6f2c121a3b8    517303            Ki   \n",
       "6500824  94190a240d110ec0c33ef6f2c121a3b8     45443            Ki   \n",
       "6531121  94190a240d110ec0c33ef6f2c121a3b8     45446            Ki   \n",
       "6537517  94190a240d110ec0c33ef6f2c121a3b8    423835            Ki   \n",
       "\n",
       "        standard_change  molregno_1  molregno_2  \\\n",
       "435742         decrease        1148         969   \n",
       "1598891        decrease        1148         969   \n",
       "1749804        decrease        1148         969   \n",
       "3104083        decrease        1148         969   \n",
       "3398817        decrease        1148         969   \n",
       "...                 ...         ...         ...   \n",
       "6475672        decrease        1148         969   \n",
       "6478897        decrease        1148         969   \n",
       "6500824        decrease        1148         969   \n",
       "6531121        decrease        1148         969   \n",
       "6537517        decrease        1148         969   \n",
       "\n",
       "                           fragment_md5_1                    fragment_md5_2  \\\n",
       "435742   67deba9cd7169ffa34e73e519e249d69  4fc9d18145af23420e3a43b3304480ba   \n",
       "1598891  67deba9cd7169ffa34e73e519e249d69  4fc9d18145af23420e3a43b3304480ba   \n",
       "1749804  67deba9cd7169ffa34e73e519e249d69  4fc9d18145af23420e3a43b3304480ba   \n",
       "3104083  67deba9cd7169ffa34e73e519e249d69  4fc9d18145af23420e3a43b3304480ba   \n",
       "3398817  67deba9cd7169ffa34e73e519e249d69  4fc9d18145af23420e3a43b3304480ba   \n",
       "...                                   ...                               ...   \n",
       "6475672  67deba9cd7169ffa34e73e519e249d69  4fc9d18145af23420e3a43b3304480ba   \n",
       "6478897  67deba9cd7169ffa34e73e519e249d69  4fc9d18145af23420e3a43b3304480ba   \n",
       "6500824  67deba9cd7169ffa34e73e519e249d69  4fc9d18145af23420e3a43b3304480ba   \n",
       "6531121  67deba9cd7169ffa34e73e519e249d69  4fc9d18145af23420e3a43b3304480ba   \n",
       "6537517  67deba9cd7169ffa34e73e519e249d69  4fc9d18145af23420e3a43b3304480ba   \n",
       "\n",
       "         radius  molregno_1_idx  molregno_2_idx variable     value  var_idx  \\\n",
       "435742        1           26142           24348    tid_3  104764.0        3   \n",
       "1598891       1           26142           24348    tid_3  104764.0        3   \n",
       "1749804       1           26142           24348    tid_3  104764.0        3   \n",
       "3104083       1           26142           24348    tid_2  104764.0        2   \n",
       "3398817       1           26142           24348    tid_2  104764.0        2   \n",
       "...         ...             ...             ...      ...       ...      ...   \n",
       "6475672       1           26142           24348    tid_3  104764.0        3   \n",
       "6478897       1           26142           24348    tid_3  104764.0        3   \n",
       "6500824       1           26142           24348    tid_3  104764.0        3   \n",
       "6531121       1           26142           24348    tid_3  104764.0        3   \n",
       "6537517       1           26142           24348    tid_3  104764.0        3   \n",
       "\n",
       "         new  \n",
       "435742     1  \n",
       "1598891    1  \n",
       "1749804    1  \n",
       "3104083    1  \n",
       "3398817    1  \n",
       "...      ...  \n",
       "6475672    1  \n",
       "6478897    1  \n",
       "6500824    1  \n",
       "6531121    1  \n",
       "6537517    1  \n",
       "\n",
       "[63 rows x 15 columns]"
      ]
     },
     "execution_count": 34,
     "metadata": {},
     "output_type": "execute_result"
    }
   ],
   "source": [
    "df_merge[(df_merge.wizepair2_uuid=='94190a240d110ec0c33ef6f2c121a3b8') & (df_merge.value==104764.0) & (df_merge.radius==1)]"
   ]
  },
  {
   "cell_type": "code",
   "execution_count": null,
   "id": "2bd0d5bc-03a5-4a64-b04d-0c9dc11c3142",
   "metadata": {},
   "outputs": [],
   "source": []
  }
 ],
 "metadata": {
  "kernelspec": {
   "display_name": "Python 3 (ipykernel)",
   "language": "python",
   "name": "python3"
  },
  "language_info": {
   "codemirror_mode": {
    "name": "ipython",
    "version": 3
   },
   "file_extension": ".py",
   "mimetype": "text/x-python",
   "name": "python",
   "nbconvert_exporter": "python",
   "pygments_lexer": "ipython3",
   "version": "3.7.0"
  }
 },
 "nbformat": 4,
 "nbformat_minor": 5
}
