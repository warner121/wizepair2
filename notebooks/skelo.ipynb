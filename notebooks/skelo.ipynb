{
 "cells": [
  {
   "cell_type": "code",
   "execution_count": 1,
   "id": "889b3a4f-a533-47f5-bb4a-37324d2e342a",
   "metadata": {},
   "outputs": [],
   "source": [
    "import pandas as pd\n",
    "\n",
    "from skelo.model.elo import EloEstimator"
   ]
  },
  {
   "cell_type": "code",
   "execution_count": 2,
   "id": "5b7fb67d-33d6-4871-bebe-bf662043536d",
   "metadata": {},
   "outputs": [],
   "source": [
    "df = pd.read_csv('/home/daniel/Downloads/bq-results-20221008-142606-1665239275955.csv')"
   ]
  },
  {
   "cell_type": "code",
   "execution_count": 3,
   "id": "81d54c76-1ac9-4265-8eea-ad9b9b13ba3d",
   "metadata": {},
   "outputs": [
    {
     "data": {
      "text/html": [
       "<div>\n",
       "<style scoped>\n",
       "    .dataframe tbody tr th:only-of-type {\n",
       "        vertical-align: middle;\n",
       "    }\n",
       "\n",
       "    .dataframe tbody tr th {\n",
       "        vertical-align: top;\n",
       "    }\n",
       "\n",
       "    .dataframe thead th {\n",
       "        text-align: right;\n",
       "    }\n",
       "</style>\n",
       "<table border=\"1\" class=\"dataframe\">\n",
       "  <thead>\n",
       "    <tr style=\"text-align: right;\">\n",
       "      <th></th>\n",
       "      <th>wizepair2_uuid</th>\n",
       "      <th>assay_chembl_id</th>\n",
       "      <th>standard_type</th>\n",
       "      <th>standard_change</th>\n",
       "      <th>standard_relation_1</th>\n",
       "      <th>standard_value_1</th>\n",
       "      <th>molecule_chembl_id_1</th>\n",
       "      <th>standard_relation_2</th>\n",
       "      <th>standard_value_2</th>\n",
       "      <th>molecule_chembl_id_2</th>\n",
       "      <th>f0_</th>\n",
       "      <th>f1_</th>\n",
       "      <th>radius</th>\n",
       "    </tr>\n",
       "  </thead>\n",
       "  <tbody>\n",
       "    <tr>\n",
       "      <th>0</th>\n",
       "      <td>60464d5292bbba795a2428cd27ad7833</td>\n",
       "      <td>CHEMBL752162</td>\n",
       "      <td>Ki</td>\n",
       "      <td>increase</td>\n",
       "      <td>=</td>\n",
       "      <td>664000.0</td>\n",
       "      <td>CHEMBL1235287</td>\n",
       "      <td>=</td>\n",
       "      <td>1223000.0</td>\n",
       "      <td>CHEMBL280690</td>\n",
       "      <td>1a09b8ff812b2451b761bc53994c2677</td>\n",
       "      <td>071801fba5cd6bbdfca6cc049e47e0f1</td>\n",
       "      <td>3</td>\n",
       "    </tr>\n",
       "    <tr>\n",
       "      <th>1</th>\n",
       "      <td>410dbc1620307b618895ffb6eae23b6f</td>\n",
       "      <td>CHEMBL900468</td>\n",
       "      <td>IC50</td>\n",
       "      <td>increase</td>\n",
       "      <td>=</td>\n",
       "      <td>184000.0</td>\n",
       "      <td>CHEMBL236687</td>\n",
       "      <td>=</td>\n",
       "      <td>282000.0</td>\n",
       "      <td>CHEMBL237994</td>\n",
       "      <td>a7819ba0c0604bc6b3f2193c43a20177</td>\n",
       "      <td>e41cb4886145842788680dc951e672e0</td>\n",
       "      <td>1</td>\n",
       "    </tr>\n",
       "    <tr>\n",
       "      <th>2</th>\n",
       "      <td>622e41e027086bfb3346185feba42c9f</td>\n",
       "      <td>CHEMBL1673901</td>\n",
       "      <td>Inhibition</td>\n",
       "      <td>increase</td>\n",
       "      <td>=</td>\n",
       "      <td>5.0</td>\n",
       "      <td>CHEMBL1673084</td>\n",
       "      <td>=</td>\n",
       "      <td>10.0</td>\n",
       "      <td>CHEMBL1673074</td>\n",
       "      <td>794232d3bbea41006db74ae326800268</td>\n",
       "      <td>4e171e0fcd1260b2cfc785de2c842caf</td>\n",
       "      <td>2</td>\n",
       "    </tr>\n",
       "  </tbody>\n",
       "</table>\n",
       "</div>"
      ],
      "text/plain": [
       "                     wizepair2_uuid assay_chembl_id standard_type  \\\n",
       "0  60464d5292bbba795a2428cd27ad7833    CHEMBL752162            Ki   \n",
       "1  410dbc1620307b618895ffb6eae23b6f    CHEMBL900468          IC50   \n",
       "2  622e41e027086bfb3346185feba42c9f   CHEMBL1673901    Inhibition   \n",
       "\n",
       "  standard_change standard_relation_1  standard_value_1 molecule_chembl_id_1  \\\n",
       "0        increase                   =          664000.0        CHEMBL1235287   \n",
       "1        increase                   =          184000.0         CHEMBL236687   \n",
       "2        increase                   =               5.0        CHEMBL1673084   \n",
       "\n",
       "  standard_relation_2  standard_value_2 molecule_chembl_id_2  \\\n",
       "0                   =         1223000.0         CHEMBL280690   \n",
       "1                   =          282000.0         CHEMBL237994   \n",
       "2                   =              10.0        CHEMBL1673074   \n",
       "\n",
       "                                f0_                               f1_  radius  \n",
       "0  1a09b8ff812b2451b761bc53994c2677  071801fba5cd6bbdfca6cc049e47e0f1       3  \n",
       "1  a7819ba0c0604bc6b3f2193c43a20177  e41cb4886145842788680dc951e672e0       1  \n",
       "2  794232d3bbea41006db74ae326800268  4e171e0fcd1260b2cfc785de2c842caf       2  "
      ]
     },
     "execution_count": 3,
     "metadata": {},
     "output_type": "execute_result"
    }
   ],
   "source": [
    "df.head(3)"
   ]
  },
  {
   "cell_type": "code",
   "execution_count": 4,
   "id": "d2cde78d-36fd-4b97-a173-1be5ba9f6dcf",
   "metadata": {},
   "outputs": [],
   "source": [
    "df['molecule_chembl_num_1'] = df.molecule_chembl_id_1.str.extract('(\\d+)')\n",
    "df['molecule_chembl_num_2'] = df.molecule_chembl_id_2.str.extract('(\\d+)')"
   ]
  },
  {
   "cell_type": "code",
   "execution_count": 5,
   "id": "d6d81493-17ec-4d76-a2f0-4a4eb69d89a3",
   "metadata": {},
   "outputs": [],
   "source": [
    "df['timestamp'] = df[['molecule_chembl_num_1', 'molecule_chembl_num_2']].max(axis=1)"
   ]
  },
  {
   "cell_type": "code",
   "execution_count": 6,
   "id": "b74024af-99df-48db-8dd9-b8fa02acce6f",
   "metadata": {},
   "outputs": [],
   "source": [
    "def elo(df):\n",
    "    \n",
    "    # create a table of winner/loser in that order\n",
    "    df_winners = df.apply(\n",
    "        lambda x: \n",
    "        pd.Series({'winner': x.f0_, 'loser':x.f1_}) if x.standard_change=='increase' else \n",
    "        pd.Series({'winner': x.f1_, 'loser':x.f0_}) if x.standard_change=='decrease' else \n",
    "        None, axis=1)\n",
    "    if isinstance(df_winners, pd.Series): return None\n",
    "    df_winners = df_winners.join(df)[['wizepair2_uuid', 'timestamp', 'winner', 'loser']].dropna()\n",
    "    \n",
    "    # use index as timeseries\n",
    "    df_winners.sort_values('timestamp', inplace=True)\n",
    "    labels = len(df_winners) * [1]\n",
    "    \n",
    "    # fit model\n",
    "    model = EloEstimator(\n",
    "        key1_field=\"winner\",\n",
    "        key2_field=\"loser\",\n",
    "        timestamp_field=\"timestamp\",\n",
    "        initial_time=0\n",
    "    ).fit(df_winners, labels)\n",
    "    \n",
    "    # return proba\n",
    "    df_winners['proba'] = model.transform(df_winners, output_type='prob', strict_past_data=True)\n",
    "    return df_winners[['wizepair2_uuid', 'proba']]\n",
    "    "
   ]
  },
  {
   "cell_type": "code",
   "execution_count": 7,
   "id": "390969fd-de48-46aa-af7b-6f1e792490ce",
   "metadata": {},
   "outputs": [],
   "source": [
    "df_elo = df.groupby('assay_chembl_id').apply(elo)"
   ]
  },
  {
   "cell_type": "code",
   "execution_count": 8,
   "id": "74652570-120d-4321-9ed8-65583b5fe34e",
   "metadata": {},
   "outputs": [
    {
     "data": {
      "text/plain": [
       "0.0    0.004088\n",
       "0.1    0.447386\n",
       "0.5    0.519082\n",
       "0.9    0.746442\n",
       "1.0    0.996977\n",
       "Name: proba, dtype: float64"
      ]
     },
     "execution_count": 8,
     "metadata": {},
     "output_type": "execute_result"
    }
   ],
   "source": [
    "df_elo.proba.quantile([0, 0.1, 0.5, 0.9, 1])"
   ]
  },
  {
   "cell_type": "code",
   "execution_count": 9,
   "id": "e3c4ca97-b14e-4c15-8069-c9d87098b282",
   "metadata": {},
   "outputs": [],
   "source": [
    "def eloo(df):\n",
    "    \n",
    "    loo = list(pd.DataFrame())\n",
    "    for mol in pd.concat([df.molecule_chembl_id_1, df.molecule_chembl_id_2]).unique():\n",
    "    \n",
    "        # create a table of winner/loser in that order\n",
    "        df_winners = df.apply(\n",
    "            lambda x: \n",
    "            pd.Series({'winner': x.f0_, 'loser':x.f1_}) if x.standard_change=='increase' else \n",
    "            pd.Series({'winner': x.f1_, 'loser':x.f0_}) if x.standard_change=='decrease' else \n",
    "            None, axis=1)\n",
    "        if isinstance(df_winners, pd.Series): continue\n",
    "        df_winners = df_winners.join(df)[['wizepair2_uuid', 'molecule_chembl_id_1', 'molecule_chembl_id_2', 'winner', 'loser']].dropna()\n",
    "\n",
    "        # use loo group as timeseries\n",
    "        df_winners['timestamp'] = ((df_winners.molecule_chembl_id_1==mol) | (df_winners.molecule_chembl_id_2==mol)).astype(int)\n",
    "        df_winners.sort_values('timestamp', inplace=True)\n",
    "        labels = len(df_winners) * [1]\n",
    "\n",
    "        # fit mode\n",
    "        model = EloEstimator(\n",
    "            key1_field=\"winner\",\n",
    "            key2_field=\"loser\",\n",
    "            timestamp_field=\"timestamp\",\n",
    "            initial_time=0\n",
    "        ).fit(df_winners, labels)\n",
    "\n",
    "        # return proba\n",
    "        df_winners['proba'] = model.transform(df_winners, output_type='prob', strict_past_data=True)\n",
    "        loo.append(df_winners[df_winners.timestamp==1][['wizepair2_uuid', 'proba']])\n",
    "\n",
    "    try: return pd.concat(loo)\n",
    "    except ValueError: return None"
   ]
  },
  {
   "cell_type": "code",
   "execution_count": 10,
   "id": "f6b79c4d-8d50-4af3-acf2-8443a6d17632",
   "metadata": {},
   "outputs": [],
   "source": [
    "df_elo = df.groupby('assay_chembl_id').apply(eloo)"
   ]
  },
  {
   "cell_type": "code",
   "execution_count": 11,
   "id": "b35705a6-8199-4f5b-9ef5-baf2bb916aeb",
   "metadata": {},
   "outputs": [
    {
     "data": {
      "text/plain": [
       "0.0    0.002039\n",
       "0.1    0.397556\n",
       "0.5    0.551946\n",
       "0.9    0.800660\n",
       "1.0    0.997855\n",
       "Name: proba, dtype: float64"
      ]
     },
     "execution_count": 11,
     "metadata": {},
     "output_type": "execute_result"
    }
   ],
   "source": [
    "df_elo.proba.quantile([0, 0.1, 0.5, 0.9, 1])"
   ]
  },
  {
   "cell_type": "code",
   "execution_count": null,
   "id": "0ceee57e-4f34-4697-8d3e-06549ec3392f",
   "metadata": {},
   "outputs": [],
   "source": []
  }
 ],
 "metadata": {
  "kernelspec": {
   "display_name": "Python 3 (ipykernel)",
   "language": "python",
   "name": "python3"
  },
  "language_info": {
   "codemirror_mode": {
    "name": "ipython",
    "version": 3
   },
   "file_extension": ".py",
   "mimetype": "text/x-python",
   "name": "python",
   "nbconvert_exporter": "python",
   "pygments_lexer": "ipython3",
   "version": "3.10.6"
  }
 },
 "nbformat": 4,
 "nbformat_minor": 5
}
