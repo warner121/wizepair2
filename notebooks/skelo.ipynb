{
 "cells": [
  {
   "cell_type": "code",
   "execution_count": 1,
   "id": "889b3a4f-a533-47f5-bb4a-37324d2e342a",
   "metadata": {},
   "outputs": [],
   "source": [
    "import glob\n",
    "import numpy as np\n",
    "import pandas as pd\n",
    "\n",
    "from skelo.model.elo import EloEstimator"
   ]
  },
  {
   "cell_type": "code",
   "execution_count": 2,
   "id": "dee8012a-17b0-4e9b-91b0-c541983a849c",
   "metadata": {},
   "outputs": [
    {
     "name": "stdout",
     "output_type": "stream",
     "text": [
      "INFO: Pandarallel will run on 12 workers.\n",
      "INFO: Pandarallel will use Memory file system to transfer data between the main process and workers.\n"
     ]
    }
   ],
   "source": [
    "from pandarallel import pandarallel\n",
    "pandarallel.initialize(progress_bar=True, nb_workers=12)\n"
   ]
  },
  {
   "cell_type": "code",
   "execution_count": 3,
   "id": "f6af5bbb-8701-4b81-b2cd-3e3b77f9f824",
   "metadata": {},
   "outputs": [
    {
     "data": {
      "application/vnd.jupyter.widget-view+json": {
       "model_id": "1aa4182bc17d4d21a9e6386ed168d139",
       "version_major": 2,
       "version_minor": 0
      },
      "text/plain": [
       "VBox(children=(HBox(children=(IntProgress(value=0, description='0.00%', max=9), Label(value='0 / 9'))), HBox(c…"
      ]
     },
     "metadata": {},
     "output_type": "display_data"
    }
   ],
   "source": [
    "df = pd.concat(pd.Series(glob.glob('/home/daniel/wizepair2/notebooks/elo/elo_input-*.csv.gz')).parallel_apply(pd.read_csv).tolist())"
   ]
  },
  {
   "cell_type": "code",
   "execution_count": 4,
   "id": "0642f7d2-7db8-4569-96a4-fae866bb9306",
   "metadata": {},
   "outputs": [],
   "source": [
    "df.publication_date_greatest = pd.to_datetime(df.publication_date_greatest)\n",
    "df.sort_values('publication_date_greatest', inplace=True)\n",
    "df.reset_index(inplace=True, drop=True)"
   ]
  },
  {
   "cell_type": "code",
   "execution_count": 5,
   "id": "b3639e99-e2bb-4129-8164-c65c13090366",
   "metadata": {},
   "outputs": [],
   "source": [
    "df['label'] = df.standard_change=='increase'"
   ]
  },
  {
   "cell_type": "code",
   "execution_count": 6,
   "id": "cce3d449-1ed4-4b53-9d34-fc9a79b2a1c5",
   "metadata": {},
   "outputs": [
    {
     "data": {
      "text/html": [
       "<div>\n",
       "<style scoped>\n",
       "    .dataframe tbody tr th:only-of-type {\n",
       "        vertical-align: middle;\n",
       "    }\n",
       "\n",
       "    .dataframe tbody tr th {\n",
       "        vertical-align: top;\n",
       "    }\n",
       "\n",
       "    .dataframe thead th {\n",
       "        text-align: right;\n",
       "    }\n",
       "</style>\n",
       "<table border=\"1\" class=\"dataframe\">\n",
       "  <thead>\n",
       "    <tr style=\"text-align: right;\">\n",
       "      <th></th>\n",
       "      <th>wizepair2_uuid</th>\n",
       "      <th>assay_id</th>\n",
       "      <th>standard_type</th>\n",
       "      <th>standard_change</th>\n",
       "      <th>publication_date_greatest</th>\n",
       "      <th>fragment1</th>\n",
       "      <th>fragment2</th>\n",
       "      <th>radius</th>\n",
       "      <th>pref_name</th>\n",
       "      <th>chessleague_uuid</th>\n",
       "      <th>chessleague_partition</th>\n",
       "      <th>label</th>\n",
       "    </tr>\n",
       "  </thead>\n",
       "  <tbody>\n",
       "    <tr>\n",
       "      <th>0</th>\n",
       "      <td>7cba99046eb3f9478deb4efd8d96dc13</td>\n",
       "      <td>954521</td>\n",
       "      <td>IC50</td>\n",
       "      <td>decrease</td>\n",
       "      <td>1970-01-01</td>\n",
       "      <td>07aea057e1d55a464d527ccccb3b2b5c</td>\n",
       "      <td>5abb3a61c31d85cee019df28914633fa</td>\n",
       "      <td>2</td>\n",
       "      <td>RT-4</td>\n",
       "      <td>78a43651d048795ddd77dfae9917c615</td>\n",
       "      <td>48</td>\n",
       "      <td>False</td>\n",
       "    </tr>\n",
       "    <tr>\n",
       "      <th>1</th>\n",
       "      <td>63589ff962863ae1344d44a0fe407e44</td>\n",
       "      <td>737382</td>\n",
       "      <td>EC50</td>\n",
       "      <td>decrease</td>\n",
       "      <td>1970-01-01</td>\n",
       "      <td>2e19831469f8b9aecf70e98d935cde55</td>\n",
       "      <td>2df97c488cd78b3fcf81b76ba11fe1aa</td>\n",
       "      <td>2</td>\n",
       "      <td>Citrate synthase, peroxisomal</td>\n",
       "      <td>532d7d76eb210714c970532fa26062dd</td>\n",
       "      <td>60</td>\n",
       "      <td>False</td>\n",
       "    </tr>\n",
       "    <tr>\n",
       "      <th>2</th>\n",
       "      <td>ee2f9c37353dc62b597fd2103e2400e5</td>\n",
       "      <td>737382</td>\n",
       "      <td>EC50</td>\n",
       "      <td>increase</td>\n",
       "      <td>1970-01-01</td>\n",
       "      <td>42eb15a11af4ad03315b87cdc94273f3</td>\n",
       "      <td>fcd030edfdc7ce7e076622b846ed55c1</td>\n",
       "      <td>2</td>\n",
       "      <td>Citrate synthase, peroxisomal</td>\n",
       "      <td>532d7d76eb210714c970532fa26062dd</td>\n",
       "      <td>60</td>\n",
       "      <td>True</td>\n",
       "    </tr>\n",
       "  </tbody>\n",
       "</table>\n",
       "</div>"
      ],
      "text/plain": [
       "                     wizepair2_uuid  assay_id standard_type standard_change  \\\n",
       "0  7cba99046eb3f9478deb4efd8d96dc13    954521          IC50        decrease   \n",
       "1  63589ff962863ae1344d44a0fe407e44    737382          EC50        decrease   \n",
       "2  ee2f9c37353dc62b597fd2103e2400e5    737382          EC50        increase   \n",
       "\n",
       "  publication_date_greatest                         fragment1  \\\n",
       "0                1970-01-01  07aea057e1d55a464d527ccccb3b2b5c   \n",
       "1                1970-01-01  2e19831469f8b9aecf70e98d935cde55   \n",
       "2                1970-01-01  42eb15a11af4ad03315b87cdc94273f3   \n",
       "\n",
       "                          fragment2  radius                      pref_name  \\\n",
       "0  5abb3a61c31d85cee019df28914633fa       2                           RT-4   \n",
       "1  2df97c488cd78b3fcf81b76ba11fe1aa       2  Citrate synthase, peroxisomal   \n",
       "2  fcd030edfdc7ce7e076622b846ed55c1       2  Citrate synthase, peroxisomal   \n",
       "\n",
       "                   chessleague_uuid  chessleague_partition  label  \n",
       "0  78a43651d048795ddd77dfae9917c615                     48  False  \n",
       "1  532d7d76eb210714c970532fa26062dd                     60  False  \n",
       "2  532d7d76eb210714c970532fa26062dd                     60   True  "
      ]
     },
     "execution_count": 6,
     "metadata": {},
     "output_type": "execute_result"
    }
   ],
   "source": [
    "df.head(3)"
   ]
  },
  {
   "cell_type": "code",
   "execution_count": 7,
   "id": "242099ba-08c1-40e2-99f6-6e9349b8d6a2",
   "metadata": {},
   "outputs": [
    {
     "data": {
      "text/plain": [
       "0.00   1970-01-01\n",
       "0.05   1989-02-02\n",
       "0.50   2009-01-20\n",
       "0.95   2018-09-13\n",
       "1.00   2020-11-28\n",
       "Name: publication_date_greatest, dtype: datetime64[ns]"
      ]
     },
     "execution_count": 7,
     "metadata": {},
     "output_type": "execute_result"
    }
   ],
   "source": [
    "df.publication_date_greatest.quantile([0, 0.05, 0.5, 0.95, 1])"
   ]
  },
  {
   "cell_type": "code",
   "execution_count": 8,
   "id": "cd1027bc-56ff-4a72-b4b3-c2d56b9f2126",
   "metadata": {},
   "outputs": [
    {
     "data": {
      "text/plain": [
       "21787458"
      ]
     },
     "execution_count": 8,
     "metadata": {},
     "output_type": "execute_result"
    }
   ],
   "source": [
    "len(df.index)"
   ]
  },
  {
   "cell_type": "code",
   "execution_count": 9,
   "id": "b74024af-99df-48db-8dd9-b8fa02acce6f",
   "metadata": {},
   "outputs": [],
   "source": [
    "def elo(df, return_ratings=False):\n",
    "    \n",
    "    # create a table where winner / loser is defined\n",
    "    if df.empty: return None\n",
    "    \n",
    "    # fit model\n",
    "    model = EloEstimator(\n",
    "        key1_field=\"fragment1\",\n",
    "        key2_field=\"fragment2\",\n",
    "        timestamp_field=\"publication_date_greatest\",\n",
    "        initial_time=pd.to_datetime('1970-01-01'),\n",
    "        default_k=20\n",
    "    ).fit(df, df.label)\n",
    "    if return_ratings: return model.rating_model.to_frame()\n",
    "\n",
    "    # calculate proba\n",
    "    df['proba'] = model.transform(df, output_type='prob', strict_past_data=True)\n",
    "    return df[['assay_id', 'wizepair2_uuid', 'chessleague_uuid', 'proba', 'label']]\n",
    "    "
   ]
  },
  {
   "cell_type": "code",
   "execution_count": 10,
   "id": "6109cf72-d379-45ff-8ffa-c8c65618c2dc",
   "metadata": {},
   "outputs": [
    {
     "data": {
      "application/vnd.jupyter.widget-view+json": {
       "model_id": "490c2ab73a1b4879a9e940740e27ff55",
       "version_major": 2,
       "version_minor": 0
      },
      "text/plain": [
       "VBox(children=(HBox(children=(IntProgress(value=0, description='0.00%', max=2563), Label(value='0 / 2563'))), …"
      ]
     },
     "metadata": {},
     "output_type": "display_data"
    }
   ],
   "source": [
    "df_elo = df.groupby(['chessleague_uuid']).parallel_apply(elo)"
   ]
  },
  {
   "cell_type": "code",
   "execution_count": 11,
   "id": "9255ac52-7c3d-4440-904a-1f70feb048b5",
   "metadata": {},
   "outputs": [
    {
     "data": {
      "text/plain": [
       "0.0    0.000002\n",
       "0.1    0.472074\n",
       "0.5    0.500000\n",
       "0.9    0.527926\n",
       "1.0    0.999998\n",
       "Name: proba, dtype: float64"
      ]
     },
     "execution_count": 11,
     "metadata": {},
     "output_type": "execute_result"
    }
   ],
   "source": [
    "df_elo.proba.quantile([0, 0.1, 0.5, 0.9, 1])"
   ]
  },
  {
   "cell_type": "code",
   "execution_count": 12,
   "id": "cdf52023-e7e0-4a58-8e6f-e8c1e35b0fb5",
   "metadata": {},
   "outputs": [
    {
     "data": {
      "text/plain": [
       "0.570988993975907"
      ]
     },
     "execution_count": 12,
     "metadata": {},
     "output_type": "execute_result"
    }
   ],
   "source": [
    "from sklearn.metrics import roc_auc_score\n",
    "\n",
    "roc_auc_score(df_elo.label, df_elo.proba)"
   ]
  },
  {
   "cell_type": "code",
   "execution_count": 13,
   "id": "c05a1994-9c71-4809-b66d-1f14ecb001d2",
   "metadata": {},
   "outputs": [
    {
     "data": {
      "text/plain": [
       "<matplotlib.legend.Legend at 0x7f860646fcf8>"
      ]
     },
     "execution_count": 13,
     "metadata": {},
     "output_type": "execute_result"
    },
    {
     "data": {
      "image/png": "[encoded data removed]",
      "text/plain": [
       "<Figure size 640x480 with 1 Axes>"
      ]
     },
     "metadata": {},
     "output_type": "display_data"
    }
   ],
   "source": [
    "import matplotlib.pyplot as plt\n",
    "from sklearn.calibration import calibration_curve\n",
    "\n",
    "prob_true, prob_pred = calibration_curve(\n",
    "  df_elo.label,\n",
    "  df_elo.proba,\n",
    "  n_bins=7\n",
    ")\n",
    "plt.plot(prob_pred, prob_true, label=f\"Elo Classifier\", marker='s', color='b')\n",
    "plt.plot([0, 1], [0, 1], label=\"Perfect Calibration\", ls=\":\", color='k')\n",
    "plt.xlabel(\"Predicted Probability\")\n",
    "plt.ylabel(\"Empirical Probability\")\n",
    "plt.legend()"
   ]
  },
  {
   "cell_type": "code",
   "execution_count": 14,
   "id": "9e14b157-9e64-4cbc-a937-61e1ed362a0c",
   "metadata": {},
   "outputs": [
    {
     "data": {
      "text/html": [
       "<div>\n",
       "<style scoped>\n",
       "    .dataframe tbody tr th:only-of-type {\n",
       "        vertical-align: middle;\n",
       "    }\n",
       "\n",
       "    .dataframe tbody tr th {\n",
       "        vertical-align: top;\n",
       "    }\n",
       "\n",
       "    .dataframe thead th {\n",
       "        text-align: right;\n",
       "    }\n",
       "</style>\n",
       "<table border=\"1\" class=\"dataframe\">\n",
       "  <thead>\n",
       "    <tr style=\"text-align: right;\">\n",
       "      <th></th>\n",
       "      <th></th>\n",
       "      <th>assay_id</th>\n",
       "      <th>wizepair2_uuid</th>\n",
       "      <th>chessleague_uuid</th>\n",
       "      <th>proba</th>\n",
       "      <th>label</th>\n",
       "    </tr>\n",
       "    <tr>\n",
       "      <th>chessleague_uuid</th>\n",
       "      <th></th>\n",
       "      <th></th>\n",
       "      <th></th>\n",
       "      <th></th>\n",
       "      <th></th>\n",
       "      <th></th>\n",
       "    </tr>\n",
       "  </thead>\n",
       "  <tbody>\n",
       "    <tr>\n",
       "      <th rowspan=\"11\" valign=\"top\">6cd65b5fa27be3b2b0b8643f4b4adcd1</th>\n",
       "      <th>18623718</th>\n",
       "      <td>1552240</td>\n",
       "      <td>660a5f32f3b87ff9eaac76d6ff98cf0b</td>\n",
       "      <td>6cd65b5fa27be3b2b0b8643f4b4adcd1</td>\n",
       "      <td>0.999998</td>\n",
       "      <td>True</td>\n",
       "    </tr>\n",
       "    <tr>\n",
       "      <th>19755478</th>\n",
       "      <td>1685271</td>\n",
       "      <td>660a5f32f3b87ff9eaac76d6ff98cf0b</td>\n",
       "      <td>6cd65b5fa27be3b2b0b8643f4b4adcd1</td>\n",
       "      <td>0.999998</td>\n",
       "      <td>True</td>\n",
       "    </tr>\n",
       "    <tr>\n",
       "      <th>19396899</th>\n",
       "      <td>1652370</td>\n",
       "      <td>660a5f32f3b87ff9eaac76d6ff98cf0b</td>\n",
       "      <td>6cd65b5fa27be3b2b0b8643f4b4adcd1</td>\n",
       "      <td>0.999998</td>\n",
       "      <td>True</td>\n",
       "    </tr>\n",
       "    <tr>\n",
       "      <th>18902738</th>\n",
       "      <td>1563412</td>\n",
       "      <td>660a5f32f3b87ff9eaac76d6ff98cf0b</td>\n",
       "      <td>6cd65b5fa27be3b2b0b8643f4b4adcd1</td>\n",
       "      <td>0.999998</td>\n",
       "      <td>True</td>\n",
       "    </tr>\n",
       "    <tr>\n",
       "      <th>18519860</th>\n",
       "      <td>1925022</td>\n",
       "      <td>660a5f32f3b87ff9eaac76d6ff98cf0b</td>\n",
       "      <td>6cd65b5fa27be3b2b0b8643f4b4adcd1</td>\n",
       "      <td>0.999998</td>\n",
       "      <td>True</td>\n",
       "    </tr>\n",
       "    <tr>\n",
       "      <th>...</th>\n",
       "      <td>...</td>\n",
       "      <td>...</td>\n",
       "      <td>...</td>\n",
       "      <td>...</td>\n",
       "      <td>...</td>\n",
       "    </tr>\n",
       "    <tr>\n",
       "      <th>18518145</th>\n",
       "      <td>1925022</td>\n",
       "      <td>fd0fe6b16e81218c3f233578a6056448</td>\n",
       "      <td>6cd65b5fa27be3b2b0b8643f4b4adcd1</td>\n",
       "      <td>0.000002</td>\n",
       "      <td>False</td>\n",
       "    </tr>\n",
       "    <tr>\n",
       "      <th>18898081</th>\n",
       "      <td>1563412</td>\n",
       "      <td>fd0fe6b16e81218c3f233578a6056448</td>\n",
       "      <td>6cd65b5fa27be3b2b0b8643f4b4adcd1</td>\n",
       "      <td>0.000002</td>\n",
       "      <td>False</td>\n",
       "    </tr>\n",
       "    <tr>\n",
       "      <th>19396885</th>\n",
       "      <td>1652370</td>\n",
       "      <td>fd0fe6b16e81218c3f233578a6056448</td>\n",
       "      <td>6cd65b5fa27be3b2b0b8643f4b4adcd1</td>\n",
       "      <td>0.000002</td>\n",
       "      <td>False</td>\n",
       "    </tr>\n",
       "    <tr>\n",
       "      <th>19755515</th>\n",
       "      <td>1685271</td>\n",
       "      <td>fd0fe6b16e81218c3f233578a6056448</td>\n",
       "      <td>6cd65b5fa27be3b2b0b8643f4b4adcd1</td>\n",
       "      <td>0.000002</td>\n",
       "      <td>False</td>\n",
       "    </tr>\n",
       "    <tr>\n",
       "      <th>18624113</th>\n",
       "      <td>1552240</td>\n",
       "      <td>fd0fe6b16e81218c3f233578a6056448</td>\n",
       "      <td>6cd65b5fa27be3b2b0b8643f4b4adcd1</td>\n",
       "      <td>0.000002</td>\n",
       "      <td>False</td>\n",
       "    </tr>\n",
       "  </tbody>\n",
       "</table>\n",
       "<p>21787458 rows × 5 columns</p>\n",
       "</div>"
      ],
      "text/plain": [
       "                                           assay_id  \\\n",
       "chessleague_uuid                                      \n",
       "6cd65b5fa27be3b2b0b8643f4b4adcd1 18623718   1552240   \n",
       "                                 19755478   1685271   \n",
       "                                 19396899   1652370   \n",
       "                                 18902738   1563412   \n",
       "                                 18519860   1925022   \n",
       "...                                             ...   \n",
       "                                 18518145   1925022   \n",
       "                                 18898081   1563412   \n",
       "                                 19396885   1652370   \n",
       "                                 19755515   1685271   \n",
       "                                 18624113   1552240   \n",
       "\n",
       "                                                             wizepair2_uuid  \\\n",
       "chessleague_uuid                                                              \n",
       "6cd65b5fa27be3b2b0b8643f4b4adcd1 18623718  660a5f32f3b87ff9eaac76d6ff98cf0b   \n",
       "                                 19755478  660a5f32f3b87ff9eaac76d6ff98cf0b   \n",
       "                                 19396899  660a5f32f3b87ff9eaac76d6ff98cf0b   \n",
       "                                 18902738  660a5f32f3b87ff9eaac76d6ff98cf0b   \n",
       "                                 18519860  660a5f32f3b87ff9eaac76d6ff98cf0b   \n",
       "...                                                                     ...   \n",
       "                                 18518145  fd0fe6b16e81218c3f233578a6056448   \n",
       "                                 18898081  fd0fe6b16e81218c3f233578a6056448   \n",
       "                                 19396885  fd0fe6b16e81218c3f233578a6056448   \n",
       "                                 19755515  fd0fe6b16e81218c3f233578a6056448   \n",
       "                                 18624113  fd0fe6b16e81218c3f233578a6056448   \n",
       "\n",
       "                                                           chessleague_uuid  \\\n",
       "chessleague_uuid                                                              \n",
       "6cd65b5fa27be3b2b0b8643f4b4adcd1 18623718  6cd65b5fa27be3b2b0b8643f4b4adcd1   \n",
       "                                 19755478  6cd65b5fa27be3b2b0b8643f4b4adcd1   \n",
       "                                 19396899  6cd65b5fa27be3b2b0b8643f4b4adcd1   \n",
       "                                 18902738  6cd65b5fa27be3b2b0b8643f4b4adcd1   \n",
       "                                 18519860  6cd65b5fa27be3b2b0b8643f4b4adcd1   \n",
       "...                                                                     ...   \n",
       "                                 18518145  6cd65b5fa27be3b2b0b8643f4b4adcd1   \n",
       "                                 18898081  6cd65b5fa27be3b2b0b8643f4b4adcd1   \n",
       "                                 19396885  6cd65b5fa27be3b2b0b8643f4b4adcd1   \n",
       "                                 19755515  6cd65b5fa27be3b2b0b8643f4b4adcd1   \n",
       "                                 18624113  6cd65b5fa27be3b2b0b8643f4b4adcd1   \n",
       "\n",
       "                                              proba  label  \n",
       "chessleague_uuid                                            \n",
       "6cd65b5fa27be3b2b0b8643f4b4adcd1 18623718  0.999998   True  \n",
       "                                 19755478  0.999998   True  \n",
       "                                 19396899  0.999998   True  \n",
       "                                 18902738  0.999998   True  \n",
       "                                 18519860  0.999998   True  \n",
       "...                                             ...    ...  \n",
       "                                 18518145  0.000002  False  \n",
       "                                 18898081  0.000002  False  \n",
       "                                 19396885  0.000002  False  \n",
       "                                 19755515  0.000002  False  \n",
       "                                 18624113  0.000002  False  \n",
       "\n",
       "[21787458 rows x 5 columns]"
      ]
     },
     "execution_count": 14,
     "metadata": {},
     "output_type": "execute_result"
    }
   ],
   "source": [
    "df_elo.sort_values('proba', ascending=False)"
   ]
  },
  {
   "cell_type": "code",
   "execution_count": 15,
   "id": "901d80bc-52f5-4300-b504-d91f4250850c",
   "metadata": {},
   "outputs": [
    {
     "data": {
      "application/vnd.jupyter.widget-view+json": {
       "model_id": "1ac90de78c7c4b6f8666c4d7ca1358ef",
       "version_major": 2,
       "version_minor": 0
      },
      "text/plain": [
       "VBox(children=(HBox(children=(IntProgress(value=0, description='0.00%', max=2563), Label(value='0 / 2563'))), …"
      ]
     },
     "metadata": {},
     "output_type": "display_data"
    }
   ],
   "source": [
    "df_ratings = df.groupby(['chessleague_uuid']).parallel_apply(elo, return_ratings=True)"
   ]
  },
  {
   "cell_type": "code",
   "execution_count": 16,
   "id": "dd474ad5-090f-44f8-9404-837a4442c67c",
   "metadata": {},
   "outputs": [
    {
     "data": {
      "text/html": [
       "<div>\n",
       "<style scoped>\n",
       "    .dataframe tbody tr th:only-of-type {\n",
       "        vertical-align: middle;\n",
       "    }\n",
       "\n",
       "    .dataframe tbody tr th {\n",
       "        vertical-align: top;\n",
       "    }\n",
       "\n",
       "    .dataframe thead th {\n",
       "        text-align: right;\n",
       "    }\n",
       "</style>\n",
       "<table border=\"1\" class=\"dataframe\">\n",
       "  <thead>\n",
       "    <tr style=\"text-align: right;\">\n",
       "      <th></th>\n",
       "      <th></th>\n",
       "      <th>key</th>\n",
       "      <th>rating</th>\n",
       "      <th>valid_from</th>\n",
       "      <th>valid_to</th>\n",
       "    </tr>\n",
       "    <tr>\n",
       "      <th>chessleague_uuid</th>\n",
       "      <th></th>\n",
       "      <th></th>\n",
       "      <th></th>\n",
       "      <th></th>\n",
       "      <th></th>\n",
       "    </tr>\n",
       "  </thead>\n",
       "  <tbody>\n",
       "    <tr>\n",
       "      <th rowspan=\"5\" valign=\"top\">936b2ab0848ce64836a1671bab454d8a</th>\n",
       "      <th>23327</th>\n",
       "      <td>7d10e7b4bb13ce25d0cb6302f324cb69</td>\n",
       "      <td>2664.786349</td>\n",
       "      <td>2016-03-11</td>\n",
       "      <td>2016-03-11</td>\n",
       "    </tr>\n",
       "    <tr>\n",
       "      <th>23326</th>\n",
       "      <td>7d10e7b4bb13ce25d0cb6302f324cb69</td>\n",
       "      <td>2664.761534</td>\n",
       "      <td>2016-02-06</td>\n",
       "      <td>2016-03-11</td>\n",
       "    </tr>\n",
       "    <tr>\n",
       "      <th>23325</th>\n",
       "      <td>7d10e7b4bb13ce25d0cb6302f324cb69</td>\n",
       "      <td>2663.261604</td>\n",
       "      <td>2016-02-06</td>\n",
       "      <td>2016-02-06</td>\n",
       "    </tr>\n",
       "    <tr>\n",
       "      <th>23324</th>\n",
       "      <td>7d10e7b4bb13ce25d0cb6302f324cb69</td>\n",
       "      <td>2663.260300</td>\n",
       "      <td>2016-02-06</td>\n",
       "      <td>2016-02-06</td>\n",
       "    </tr>\n",
       "    <tr>\n",
       "      <th>23323</th>\n",
       "      <td>7d10e7b4bb13ce25d0cb6302f324cb69</td>\n",
       "      <td>2657.030607</td>\n",
       "      <td>2016-02-06</td>\n",
       "      <td>2016-02-06</td>\n",
       "    </tr>\n",
       "    <tr>\n",
       "      <th>...</th>\n",
       "      <th>...</th>\n",
       "      <td>...</td>\n",
       "      <td>...</td>\n",
       "      <td>...</td>\n",
       "      <td>...</td>\n",
       "    </tr>\n",
       "    <tr>\n",
       "      <th rowspan=\"5\" valign=\"top\">bf8a7ae5540c33788794ebe2792c31d7</th>\n",
       "      <th>265036</th>\n",
       "      <td>21ea6a5665fb4674223ddbbb4487a64b</td>\n",
       "      <td>110.000000</td>\n",
       "      <td>2019-03-28</td>\n",
       "      <td>NaT</td>\n",
       "    </tr>\n",
       "    <tr>\n",
       "      <th>265035</th>\n",
       "      <td>21ea6a5665fb4674223ddbbb4487a64b</td>\n",
       "      <td>100.000000</td>\n",
       "      <td>2019-03-28</td>\n",
       "      <td>2019-03-28</td>\n",
       "    </tr>\n",
       "    <tr>\n",
       "      <th>265038</th>\n",
       "      <td>21ea6a5665fb4674223ddbbb4487a64b</td>\n",
       "      <td>100.000000</td>\n",
       "      <td>2019-03-28</td>\n",
       "      <td>NaT</td>\n",
       "    </tr>\n",
       "    <tr>\n",
       "      <th>265037</th>\n",
       "      <td>21ea6a5665fb4674223ddbbb4487a64b</td>\n",
       "      <td>90.000000</td>\n",
       "      <td>2019-03-28</td>\n",
       "      <td>2019-03-28</td>\n",
       "    </tr>\n",
       "    <tr>\n",
       "      <th>265039</th>\n",
       "      <td>21ea6a5665fb4674223ddbbb4487a64b</td>\n",
       "      <td>80.000000</td>\n",
       "      <td>2019-03-28</td>\n",
       "      <td>NaT</td>\n",
       "    </tr>\n",
       "  </tbody>\n",
       "</table>\n",
       "<p>48585555 rows × 4 columns</p>\n",
       "</div>"
      ],
      "text/plain": [
       "                                                                      key  \\\n",
       "chessleague_uuid                                                            \n",
       "936b2ab0848ce64836a1671bab454d8a 23327   7d10e7b4bb13ce25d0cb6302f324cb69   \n",
       "                                 23326   7d10e7b4bb13ce25d0cb6302f324cb69   \n",
       "                                 23325   7d10e7b4bb13ce25d0cb6302f324cb69   \n",
       "                                 23324   7d10e7b4bb13ce25d0cb6302f324cb69   \n",
       "                                 23323   7d10e7b4bb13ce25d0cb6302f324cb69   \n",
       "...                                                                   ...   \n",
       "bf8a7ae5540c33788794ebe2792c31d7 265036  21ea6a5665fb4674223ddbbb4487a64b   \n",
       "                                 265035  21ea6a5665fb4674223ddbbb4487a64b   \n",
       "                                 265038  21ea6a5665fb4674223ddbbb4487a64b   \n",
       "                                 265037  21ea6a5665fb4674223ddbbb4487a64b   \n",
       "                                 265039  21ea6a5665fb4674223ddbbb4487a64b   \n",
       "\n",
       "                                              rating valid_from   valid_to  \n",
       "chessleague_uuid                                                            \n",
       "936b2ab0848ce64836a1671bab454d8a 23327   2664.786349 2016-03-11 2016-03-11  \n",
       "                                 23326   2664.761534 2016-02-06 2016-03-11  \n",
       "                                 23325   2663.261604 2016-02-06 2016-02-06  \n",
       "                                 23324   2663.260300 2016-02-06 2016-02-06  \n",
       "                                 23323   2657.030607 2016-02-06 2016-02-06  \n",
       "...                                              ...        ...        ...  \n",
       "bf8a7ae5540c33788794ebe2792c31d7 265036   110.000000 2019-03-28        NaT  \n",
       "                                 265035   100.000000 2019-03-28 2019-03-28  \n",
       "                                 265038   100.000000 2019-03-28        NaT  \n",
       "                                 265037    90.000000 2019-03-28 2019-03-28  \n",
       "                                 265039    80.000000 2019-03-28        NaT  \n",
       "\n",
       "[48585555 rows x 4 columns]"
      ]
     },
     "execution_count": 16,
     "metadata": {},
     "output_type": "execute_result"
    }
   ],
   "source": [
    "df_ratings.sort_values('rating', ascending=False)"
   ]
  },
  {
   "cell_type": "code",
   "execution_count": 17,
   "id": "45c5e696-812e-4d57-9c89-2f0bc1ceffe3",
   "metadata": {},
   "outputs": [],
   "source": [
    "df_ratings[df_ratings.valid_to.isna()].to_csv('/home/daniel/wizepair2/elo_ratings.csv.gz', compression='gzip')"
   ]
  },
  {
   "cell_type": "code",
   "execution_count": null,
   "id": "d8decea7-2613-4f14-be37-2345e26c0b6f",
   "metadata": {},
   "outputs": [],
   "source": []
  }
 ],
 "metadata": {
  "kernelspec": {
   "display_name": "Python 3 (ipykernel)",
   "language": "python",
   "name": "python3"
  },
  "language_info": {
   "codemirror_mode": {
    "name": "ipython",
    "version": 3
   },
   "file_extension": ".py",
   "mimetype": "text/x-python",
   "name": "python",
   "nbconvert_exporter": "python",
   "pygments_lexer": "ipython3",
   "version": "3.7.0"
  }
 },
 "nbformat": 4,
 "nbformat_minor": 5
}
