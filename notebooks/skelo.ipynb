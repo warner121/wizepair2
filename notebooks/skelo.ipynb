{
 "cells": [
  {
   "cell_type": "code",
   "execution_count": 1,
   "id": "889b3a4f-a533-47f5-bb4a-37324d2e342a",
   "metadata": {},
   "outputs": [],
   "source": [
    "import pandas as pd\n",
    "\n",
    "from skelo.model.elo import EloEstimator"
   ]
  },
  {
   "cell_type": "code",
   "execution_count": 2,
   "id": "dee8012a-17b0-4e9b-91b0-c541983a849c",
   "metadata": {},
   "outputs": [
    {
     "name": "stdout",
     "output_type": "stream",
     "text": [
      "INFO: Pandarallel will run on 12 workers.\n",
      "INFO: Pandarallel will use Memory file system to transfer data between the main process and workers.\n"
     ]
    }
   ],
   "source": [
    "from pandarallel import pandarallel\n",
    "pandarallel.initialize(progress_bar=True, nb_workers=12)\n"
   ]
  },
  {
   "cell_type": "code",
   "execution_count": 3,
   "id": "5b7fb67d-33d6-4871-bebe-bf662043536d",
   "metadata": {},
   "outputs": [],
   "source": [
    "df = pd.read_csv('/home/daniel/Downloads/bq-results-20221023-185610-1666551774580.csv')"
   ]
  },
  {
   "cell_type": "code",
   "execution_count": 4,
   "id": "cce3d449-1ed4-4b53-9d34-fc9a79b2a1c5",
   "metadata": {},
   "outputs": [
    {
     "data": {
      "text/html": [
       "<div>\n",
       "<style scoped>\n",
       "    .dataframe tbody tr th:only-of-type {\n",
       "        vertical-align: middle;\n",
       "    }\n",
       "\n",
       "    .dataframe tbody tr th {\n",
       "        vertical-align: top;\n",
       "    }\n",
       "\n",
       "    .dataframe thead th {\n",
       "        text-align: right;\n",
       "    }\n",
       "</style>\n",
       "<table border=\"1\" class=\"dataframe\">\n",
       "  <thead>\n",
       "    <tr style=\"text-align: right;\">\n",
       "      <th></th>\n",
       "      <th>wizepair2_uuid</th>\n",
       "      <th>assay_id</th>\n",
       "      <th>standard_type</th>\n",
       "      <th>standard_change</th>\n",
       "      <th>molregno_1</th>\n",
       "      <th>molregno_2</th>\n",
       "      <th>fragment_md5_1</th>\n",
       "      <th>fragment_md5_2</th>\n",
       "      <th>radius</th>\n",
       "      <th>tid_1</th>\n",
       "      <th>tid_2</th>\n",
       "      <th>tid_3</th>\n",
       "      <th>tid_4</th>\n",
       "    </tr>\n",
       "  </thead>\n",
       "  <tbody>\n",
       "    <tr>\n",
       "      <th>0</th>\n",
       "      <td>2f6aabcc73084ffe3627c9d4d3dad98e</td>\n",
       "      <td>514061</td>\n",
       "      <td>Inhibition</td>\n",
       "      <td>decrease</td>\n",
       "      <td>511865</td>\n",
       "      <td>511935</td>\n",
       "      <td>61c8966c785e3624e913daf2ead91963</td>\n",
       "      <td>a2f78f648999e64164f9fc5f443bc80f</td>\n",
       "      <td>4</td>\n",
       "      <td>11464.0</td>\n",
       "      <td>105120.0</td>\n",
       "      <td>NaN</td>\n",
       "      <td>NaN</td>\n",
       "    </tr>\n",
       "    <tr>\n",
       "      <th>1</th>\n",
       "      <td>2f6aabcc73084ffe3627c9d4d3dad98e</td>\n",
       "      <td>514061</td>\n",
       "      <td>Inhibition</td>\n",
       "      <td>decrease</td>\n",
       "      <td>511865</td>\n",
       "      <td>511935</td>\n",
       "      <td>61c8966c785e3624e913daf2ead91963</td>\n",
       "      <td>a2f78f648999e64164f9fc5f443bc80f</td>\n",
       "      <td>4</td>\n",
       "      <td>11464.0</td>\n",
       "      <td>118283.0</td>\n",
       "      <td>NaN</td>\n",
       "      <td>NaN</td>\n",
       "    </tr>\n",
       "    <tr>\n",
       "      <th>2</th>\n",
       "      <td>2f6aabcc73084ffe3627c9d4d3dad98e</td>\n",
       "      <td>514061</td>\n",
       "      <td>Inhibition</td>\n",
       "      <td>decrease</td>\n",
       "      <td>511865</td>\n",
       "      <td>511935</td>\n",
       "      <td>61c8966c785e3624e913daf2ead91963</td>\n",
       "      <td>a2f78f648999e64164f9fc5f443bc80f</td>\n",
       "      <td>4</td>\n",
       "      <td>11464.0</td>\n",
       "      <td>118283.0</td>\n",
       "      <td>118285.0</td>\n",
       "      <td>104301.0</td>\n",
       "    </tr>\n",
       "  </tbody>\n",
       "</table>\n",
       "</div>"
      ],
      "text/plain": [
       "                     wizepair2_uuid  assay_id standard_type standard_change  \\\n",
       "0  2f6aabcc73084ffe3627c9d4d3dad98e    514061    Inhibition        decrease   \n",
       "1  2f6aabcc73084ffe3627c9d4d3dad98e    514061    Inhibition        decrease   \n",
       "2  2f6aabcc73084ffe3627c9d4d3dad98e    514061    Inhibition        decrease   \n",
       "\n",
       "   molregno_1  molregno_2                    fragment_md5_1  \\\n",
       "0      511865      511935  61c8966c785e3624e913daf2ead91963   \n",
       "1      511865      511935  61c8966c785e3624e913daf2ead91963   \n",
       "2      511865      511935  61c8966c785e3624e913daf2ead91963   \n",
       "\n",
       "                     fragment_md5_2  radius    tid_1     tid_2     tid_3  \\\n",
       "0  a2f78f648999e64164f9fc5f443bc80f       4  11464.0  105120.0       NaN   \n",
       "1  a2f78f648999e64164f9fc5f443bc80f       4  11464.0  118283.0       NaN   \n",
       "2  a2f78f648999e64164f9fc5f443bc80f       4  11464.0  118283.0  118285.0   \n",
       "\n",
       "      tid_4  \n",
       "0       NaN  \n",
       "1       NaN  \n",
       "2  104301.0  "
      ]
     },
     "execution_count": 4,
     "metadata": {},
     "output_type": "execute_result"
    }
   ],
   "source": [
    "df.head(3)"
   ]
  },
  {
   "cell_type": "code",
   "execution_count": 5,
   "id": "cd1027bc-56ff-4a72-b4b3-c2d56b9f2126",
   "metadata": {},
   "outputs": [
    {
     "data": {
      "text/plain": [
       "6395429"
      ]
     },
     "execution_count": 5,
     "metadata": {},
     "output_type": "execute_result"
    }
   ],
   "source": [
    "len(df.index)"
   ]
  },
  {
   "cell_type": "code",
   "execution_count": 6,
   "id": "81d54c76-1ac9-4265-8eea-ad9b9b13ba3d",
   "metadata": {},
   "outputs": [],
   "source": [
    "df_melt = df.melt(id_vars='assay_id', value_vars=['tid_1', 'tid_2', 'tid_3', 'tid_4'])\n",
    "df_melt.dropna(inplace=True)\n",
    "df_melt.drop_duplicates(['assay_id', 'value'], inplace=True)"
   ]
  },
  {
   "cell_type": "code",
   "execution_count": 7,
   "id": "f97606c6-eb95-4124-955e-11e99869360a",
   "metadata": {},
   "outputs": [],
   "source": [
    "df.drop(['tid_1', 'tid_2', 'tid_3', 'tid_4'], axis=1, inplace=True)\n",
    "df.drop_duplicates(inplace=True)"
   ]
  },
  {
   "cell_type": "code",
   "execution_count": 8,
   "id": "152d455b-050e-48ea-9c98-4824de771fdd",
   "metadata": {},
   "outputs": [
    {
     "data": {
      "text/html": [
       "<div>\n",
       "<style scoped>\n",
       "    .dataframe tbody tr th:only-of-type {\n",
       "        vertical-align: middle;\n",
       "    }\n",
       "\n",
       "    .dataframe tbody tr th {\n",
       "        vertical-align: top;\n",
       "    }\n",
       "\n",
       "    .dataframe thead th {\n",
       "        text-align: right;\n",
       "    }\n",
       "</style>\n",
       "<table border=\"1\" class=\"dataframe\">\n",
       "  <thead>\n",
       "    <tr style=\"text-align: right;\">\n",
       "      <th></th>\n",
       "      <th>wizepair2_uuid</th>\n",
       "      <th>assay_id</th>\n",
       "      <th>standard_type</th>\n",
       "      <th>standard_change</th>\n",
       "      <th>molregno_1</th>\n",
       "      <th>molregno_2</th>\n",
       "      <th>fragment_md5_1</th>\n",
       "      <th>fragment_md5_2</th>\n",
       "      <th>radius</th>\n",
       "    </tr>\n",
       "  </thead>\n",
       "  <tbody>\n",
       "    <tr>\n",
       "      <th>0</th>\n",
       "      <td>2f6aabcc73084ffe3627c9d4d3dad98e</td>\n",
       "      <td>514061</td>\n",
       "      <td>Inhibition</td>\n",
       "      <td>decrease</td>\n",
       "      <td>511865</td>\n",
       "      <td>511935</td>\n",
       "      <td>61c8966c785e3624e913daf2ead91963</td>\n",
       "      <td>a2f78f648999e64164f9fc5f443bc80f</td>\n",
       "      <td>4</td>\n",
       "    </tr>\n",
       "    <tr>\n",
       "      <th>6</th>\n",
       "      <td>2f6aabcc73084ffe3627c9d4d3dad98e</td>\n",
       "      <td>514061</td>\n",
       "      <td>Inhibition</td>\n",
       "      <td>decrease</td>\n",
       "      <td>511865</td>\n",
       "      <td>511935</td>\n",
       "      <td>61c8966c785e3624e913daf2ead91963</td>\n",
       "      <td>a2f78f648999e64164f9fc5f443bc80f</td>\n",
       "      <td>2</td>\n",
       "    </tr>\n",
       "    <tr>\n",
       "      <th>11</th>\n",
       "      <td>2f6aabcc73084ffe3627c9d4d3dad98e</td>\n",
       "      <td>514061</td>\n",
       "      <td>Inhibition</td>\n",
       "      <td>decrease</td>\n",
       "      <td>511865</td>\n",
       "      <td>511935</td>\n",
       "      <td>61c8966c785e3624e913daf2ead91963</td>\n",
       "      <td>a2f78f648999e64164f9fc5f443bc80f</td>\n",
       "      <td>3</td>\n",
       "    </tr>\n",
       "  </tbody>\n",
       "</table>\n",
       "</div>"
      ],
      "text/plain": [
       "                      wizepair2_uuid  assay_id standard_type standard_change  \\\n",
       "0   2f6aabcc73084ffe3627c9d4d3dad98e    514061    Inhibition        decrease   \n",
       "6   2f6aabcc73084ffe3627c9d4d3dad98e    514061    Inhibition        decrease   \n",
       "11  2f6aabcc73084ffe3627c9d4d3dad98e    514061    Inhibition        decrease   \n",
       "\n",
       "    molregno_1  molregno_2                    fragment_md5_1  \\\n",
       "0       511865      511935  61c8966c785e3624e913daf2ead91963   \n",
       "6       511865      511935  61c8966c785e3624e913daf2ead91963   \n",
       "11      511865      511935  61c8966c785e3624e913daf2ead91963   \n",
       "\n",
       "                      fragment_md5_2  radius  \n",
       "0   a2f78f648999e64164f9fc5f443bc80f       4  \n",
       "6   a2f78f648999e64164f9fc5f443bc80f       2  \n",
       "11  a2f78f648999e64164f9fc5f443bc80f       3  "
      ]
     },
     "execution_count": 8,
     "metadata": {},
     "output_type": "execute_result"
    }
   ],
   "source": [
    "df.head(3)"
   ]
  },
  {
   "cell_type": "code",
   "execution_count": 9,
   "id": "b472c134-7448-4b90-8cdc-989a09fd841a",
   "metadata": {},
   "outputs": [
    {
     "data": {
      "text/plain": [
       "3595806"
      ]
     },
     "execution_count": 9,
     "metadata": {},
     "output_type": "execute_result"
    }
   ],
   "source": [
    "len(df.index)"
   ]
  },
  {
   "cell_type": "raw",
   "id": "d595fea4-9237-43ce-bc9f-59ac21b08f14",
   "metadata": {},
   "source": [
    "df['molecule_chembl_num_1'] = df.molecule_chembl_id_1.str.extract('(\\d+)')\n",
    "df['molecule_chembl_num_2'] = df.molecule_chembl_id_2.str.extract('(\\d+)')"
   ]
  },
  {
   "cell_type": "code",
   "execution_count": 31,
   "id": "b74024af-99df-48db-8dd9-b8fa02acce6f",
   "metadata": {},
   "outputs": [],
   "source": [
    "def elo(df):\n",
    "    \n",
    "    # create a table where winner / loser is defined\n",
    "    df_train = df[df.standard_change.isin(['increase', 'decrease'])].copy(deep=True)\n",
    "    if df_train.empty: return None\n",
    "    df_train['label'] = df_train.standard_change=='increase'\n",
    "    \n",
    "    # use index as timeseries\n",
    "    df_train['timestamp'] = df_train[['molregno_1', 'molregno_1']].max(axis=1)\n",
    "    df_train.sort_values('timestamp', inplace=True)\n",
    "    \n",
    "    # fit model\n",
    "    model = EloEstimator(\n",
    "        key1_field=\"fragment_md5_1\",\n",
    "        key2_field=\"fragment_md5_2\",\n",
    "        timestamp_field=\"timestamp\",\n",
    "        initial_time=0,\n",
    "        default_k=250\n",
    "    ).fit(df_train, df_train.label)\n",
    "    \n",
    "    # return proba\n",
    "    df_train['proba'] = model.transform(df_train, output_type='prob', strict_past_data=True)\n",
    "    return df_train[['wizepair2_uuid', 'proba', 'label']]\n",
    "    "
   ]
  },
  {
   "cell_type": "code",
   "execution_count": 32,
   "id": "390969fd-de48-46aa-af7b-6f1e792490ce",
   "metadata": {},
   "outputs": [
    {
     "data": {
      "application/vnd.jupyter.widget-view+json": {
       "model_id": "fd4b3f854b45435d89d68eea1a4ff203",
       "version_major": 2,
       "version_minor": 0
      },
      "text/plain": [
       "VBox(children=(HBox(children=(IntProgress(value=0, description='0.00%', max=6765), Label(value='0 / 6765'))), …"
      ]
     },
     "metadata": {},
     "output_type": "display_data"
    }
   ],
   "source": [
    "df_elo = df.groupby(['assay_id', 'radius']).parallel_apply(elo)"
   ]
  },
  {
   "cell_type": "code",
   "execution_count": 33,
   "id": "74652570-120d-4321-9ed8-65583b5fe34e",
   "metadata": {},
   "outputs": [
    {
     "data": {
      "text/plain": [
       "0.0    5.450089e-08\n",
       "0.1    7.018221e-02\n",
       "0.5    5.000000e-01\n",
       "0.9    9.274857e-01\n",
       "1.0    9.999995e-01\n",
       "Name: proba, dtype: float64"
      ]
     },
     "execution_count": 33,
     "metadata": {},
     "output_type": "execute_result"
    }
   ],
   "source": [
    "df_elo.proba.quantile([0, 0.1, 0.5, 0.9, 1])"
   ]
  },
  {
   "cell_type": "code",
   "execution_count": 34,
   "id": "f9aa2676-9bc6-4fc2-b789-21e666dddb48",
   "metadata": {},
   "outputs": [
    {
     "data": {
      "text/plain": [
       "0.9043555871093313"
      ]
     },
     "execution_count": 34,
     "metadata": {},
     "output_type": "execute_result"
    }
   ],
   "source": [
    "from sklearn.metrics import roc_auc_score\n",
    "\n",
    "roc_auc_score(df_elo.label, df_elo.proba)"
   ]
  },
  {
   "cell_type": "code",
   "execution_count": 35,
   "id": "6c00e336-ee01-4841-8197-4e8ca3f63252",
   "metadata": {},
   "outputs": [
    {
     "data": {
      "text/plain": [
       "<matplotlib.legend.Legend at 0x7fe597849dd8>"
      ]
     },
     "execution_count": 35,
     "metadata": {},
     "output_type": "execute_result"
    },
    {
     "data": {
      "image/png": "[encoded data removed]",
      "text/plain": [
       "<Figure size 640x480 with 1 Axes>"
      ]
     },
     "metadata": {},
     "output_type": "display_data"
    }
   ],
   "source": [
    "import matplotlib.pyplot as plt\n",
    "from sklearn.calibration import calibration_curve\n",
    "\n",
    "prob_true, prob_pred = calibration_curve(\n",
    "  df_elo.label,\n",
    "  df_elo.proba,\n",
    "  n_bins=10\n",
    ")\n",
    "plt.plot(prob_pred, prob_true, label=f\"Elo Classifier\", marker='s', color='b')\n",
    "plt.plot([0, 1], [0, 1], label=\"Perfect Calibration\", ls=\":\", color='k')\n",
    "plt.xlabel(\"Predicted Probability\")\n",
    "plt.ylabel(\"Empirical Probability\")\n",
    "plt.legend()"
   ]
  },
  {
   "cell_type": "code",
   "execution_count": 37,
   "id": "d506498a-e708-41e8-9888-e2f9c4df7d77",
   "metadata": {},
   "outputs": [],
   "source": [
    "df_elo.to_csv('elo.csv.gz', index=False, compression='gzip')"
   ]
  },
  {
   "cell_type": "code",
   "execution_count": null,
   "id": "e3c4ca97-b14e-4c15-8069-c9d87098b282",
   "metadata": {},
   "outputs": [],
   "source": [
    "def eloo(df):\n",
    "    \n",
    "    loo = list(pd.DataFrame())\n",
    "    for mol in pd.concat([df.molregno_1, df.molregno_2]).unique():\n",
    "    \n",
    "        # create a table where winner / loser is defined\n",
    "        df_train = df[df.standard_change.isin(['increase', 'decrease'])].copy(deep=True)\n",
    "        if df_train.empty: continue\n",
    "        df_train['label'] = df_train.standard_change=='increase'\n",
    "\n",
    "        # use loo group as timeseries\n",
    "        df_train['timestamp'] = ((df_train.molregno_1==mol) | (df_train.molregno_2==mol)).astype(int)\n",
    "        df_train.sort_values('timestamp', inplace=True)\n",
    "\n",
    "        # fit mode\n",
    "        model = EloEstimator(\n",
    "            key1_field=\"fragment_md5_1\",\n",
    "            key2_field=\"fragment_md5_2\",\n",
    "            timestamp_field=\"timestamp\",\n",
    "            initial_time=0,\n",
    "            default_k=250\n",
    "        ).fit(df_train, df_train.label)\n",
    "\n",
    "        # return proba\n",
    "        df_train['proba'] = model.transform(df_train, output_type='prob', strict_past_data=True)\n",
    "        loo.append(df_train[df_train.timestamp==1][['wizepair2_uuid', 'proba', 'label']])\n",
    "\n",
    "    try: return pd.concat(loo)\n",
    "    except ValueError: return None"
   ]
  },
  {
   "cell_type": "code",
   "execution_count": null,
   "id": "f6b79c4d-8d50-4af3-acf2-8443a6d17632",
   "metadata": {},
   "outputs": [],
   "source": [
    "df_eloo = df.groupby(['assay_id', 'radius']).parallel_apply(eloo)"
   ]
  },
  {
   "cell_type": "code",
   "execution_count": null,
   "id": "b35705a6-8199-4f5b-9ef5-baf2bb916aeb",
   "metadata": {},
   "outputs": [],
   "source": [
    "df_eloo.proba.quantile([0, 0.1, 0.5, 0.9, 1])"
   ]
  },
  {
   "cell_type": "code",
   "execution_count": null,
   "id": "2a7704ae-bb9f-46ee-89b4-7af1708fc429",
   "metadata": {},
   "outputs": [],
   "source": [
    "from sklearn.metrics import roc_auc_score\n",
    "\n",
    "roc_auc_score(df_eloo.label, df_eloo.proba)"
   ]
  },
  {
   "cell_type": "code",
   "execution_count": null,
   "id": "4b7ffe61-9d83-40fb-930c-1d5448d3c757",
   "metadata": {},
   "outputs": [],
   "source": [
    "import matplotlib.pyplot as plt\n",
    "from sklearn.calibration import calibration_curve\n",
    "\n",
    "prob_true, prob_pred = calibration_curve(\n",
    "  df_eloo.label,\n",
    "  df_eloo.proba,\n",
    "  n_bins=10\n",
    ")\n",
    "plt.plot(prob_pred, prob_true, label=f\"Elo Classifier\", marker='s', color='b')\n",
    "plt.plot([0, 1], [0, 1], label=\"Perfect Calibration\", ls=\":\", color='k')\n",
    "plt.xlabel(\"Predicted Probability\")\n",
    "plt.ylabel(\"Empirical Probability\")\n",
    "plt.legend()"
   ]
  },
  {
   "cell_type": "code",
   "execution_count": null,
   "id": "3d4c8e7d-acab-45b1-a464-16d4cbc583cd",
   "metadata": {},
   "outputs": [],
   "source": [
    "df_eloo.to_csv('eloo.csv.gz', index=False, compression='gzip')"
   ]
  },
  {
   "cell_type": "code",
   "execution_count": null,
   "id": "e81f2e5f-d5e3-416b-8a26-2fd9b2200797",
   "metadata": {},
   "outputs": [],
   "source": []
  }
 ],
 "metadata": {
  "kernelspec": {
   "display_name": "Python 3 (ipykernel)",
   "language": "python",
   "name": "python3"
  },
  "language_info": {
   "codemirror_mode": {
    "name": "ipython",
    "version": 3
   },
   "file_extension": ".py",
   "mimetype": "text/x-python",
   "name": "python",
   "nbconvert_exporter": "python",
   "pygments_lexer": "ipython3",
   "version": "3.7.0"
  }
 },
 "nbformat": 4,
 "nbformat_minor": 5
}
