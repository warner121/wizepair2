{
 "cells": [
  {
   "cell_type": "code",
   "execution_count": 1,
   "id": "889b3a4f-a533-47f5-bb4a-37324d2e342a",
   "metadata": {},
   "outputs": [],
   "source": [
    "import glob\n",
    "import numpy as np\n",
    "import pandas as pd\n",
    "\n",
    "from skelo.model.elo import EloEstimator"
   ]
  },
  {
   "cell_type": "code",
   "execution_count": 2,
   "id": "dee8012a-17b0-4e9b-91b0-c541983a849c",
   "metadata": {},
   "outputs": [
    {
     "name": "stdout",
     "output_type": "stream",
     "text": [
      "INFO: Pandarallel will run on 12 workers.\n",
      "INFO: Pandarallel will use Memory file system to transfer data between the main process and workers.\n"
     ]
    }
   ],
   "source": [
    "from pandarallel import pandarallel\n",
    "pandarallel.initialize(progress_bar=True, nb_workers=12)\n"
   ]
  },
  {
   "cell_type": "code",
   "execution_count": 3,
   "id": "5b7fb67d-33d6-4871-bebe-bf662043536d",
   "metadata": {},
   "outputs": [],
   "source": [
    "df = pd.concat([pd.read_csv(x) for x in glob.glob('/home/daniel/wizepair2/elo_training-*.gz')])"
   ]
  },
  {
   "cell_type": "code",
   "execution_count": 4,
   "id": "0642f7d2-7db8-4569-96a4-fae866bb9306",
   "metadata": {},
   "outputs": [],
   "source": [
    "df.publication_date_greatest = pd.to_datetime(df.publication_date_greatest)\n",
    "df.sort_values('publication_date_greatest', inplace=True)\n",
    "df.reset_index(inplace=True, drop=True)"
   ]
  },
  {
   "cell_type": "code",
   "execution_count": 5,
   "id": "b3639e99-e2bb-4129-8164-c65c13090366",
   "metadata": {},
   "outputs": [],
   "source": [
    "df['label'] = df.standard_change=='increase'"
   ]
  },
  {
   "cell_type": "code",
   "execution_count": 6,
   "id": "cce3d449-1ed4-4b53-9d34-fc9a79b2a1c5",
   "metadata": {},
   "outputs": [
    {
     "data": {
      "text/html": [
       "<div>\n",
       "<style scoped>\n",
       "    .dataframe tbody tr th:only-of-type {\n",
       "        vertical-align: middle;\n",
       "    }\n",
       "\n",
       "    .dataframe tbody tr th {\n",
       "        vertical-align: top;\n",
       "    }\n",
       "\n",
       "    .dataframe thead th {\n",
       "        text-align: right;\n",
       "    }\n",
       "</style>\n",
       "<table border=\"1\" class=\"dataframe\">\n",
       "  <thead>\n",
       "    <tr style=\"text-align: right;\">\n",
       "      <th></th>\n",
       "      <th>wizepair2_uuid</th>\n",
       "      <th>assay_id</th>\n",
       "      <th>standard_type</th>\n",
       "      <th>standard_change</th>\n",
       "      <th>publication_date_greatest</th>\n",
       "      <th>fragment_md5_1</th>\n",
       "      <th>fragment_md5_2</th>\n",
       "      <th>radius</th>\n",
       "      <th>tid</th>\n",
       "      <th>rating_uuid</th>\n",
       "      <th>rating_partition</th>\n",
       "      <th>label</th>\n",
       "    </tr>\n",
       "  </thead>\n",
       "  <tbody>\n",
       "    <tr>\n",
       "      <th>0</th>\n",
       "      <td>9d135165ed18fbb35b60b766116eeec1</td>\n",
       "      <td>688583</td>\n",
       "      <td>Potency</td>\n",
       "      <td>no-change</td>\n",
       "      <td>1970-01-01</td>\n",
       "      <td>97b841ff1304769eeb4cbad2e9871882</td>\n",
       "      <td>e6863c78309033197c72682044aeae58</td>\n",
       "      <td>3</td>\n",
       "      <td>103686</td>\n",
       "      <td>8b95504d87ec14fec3184a9dee94bd04</td>\n",
       "      <td>8</td>\n",
       "      <td>False</td>\n",
       "    </tr>\n",
       "    <tr>\n",
       "      <th>1</th>\n",
       "      <td>c7d5b86628168b15b1ab4bee80abc458</td>\n",
       "      <td>1915140</td>\n",
       "      <td>IC50</td>\n",
       "      <td>increase</td>\n",
       "      <td>1970-01-01</td>\n",
       "      <td>a22b7948e5dfc19057bf9d532f44bd36</td>\n",
       "      <td>49abb5f9bd529b643d284fdd1b21d927</td>\n",
       "      <td>1</td>\n",
       "      <td>22226</td>\n",
       "      <td>1985c899f635714177bf6cc94bfeed0b</td>\n",
       "      <td>8</td>\n",
       "      <td>True</td>\n",
       "    </tr>\n",
       "    <tr>\n",
       "      <th>2</th>\n",
       "      <td>cc4fa1401b46c90c16a97de310a32968</td>\n",
       "      <td>688794</td>\n",
       "      <td>Potency</td>\n",
       "      <td>increase</td>\n",
       "      <td>1970-01-01</td>\n",
       "      <td>940ba680c81a6edd3106b2cdbfd75355</td>\n",
       "      <td>8e118d094cf9abeb4d62c760b74886c6</td>\n",
       "      <td>4</td>\n",
       "      <td>105104</td>\n",
       "      <td>465e0ec54ec989364408d86c4b5f72be</td>\n",
       "      <td>8</td>\n",
       "      <td>True</td>\n",
       "    </tr>\n",
       "  </tbody>\n",
       "</table>\n",
       "</div>"
      ],
      "text/plain": [
       "                     wizepair2_uuid  assay_id standard_type standard_change  \\\n",
       "0  9d135165ed18fbb35b60b766116eeec1    688583       Potency       no-change   \n",
       "1  c7d5b86628168b15b1ab4bee80abc458   1915140          IC50        increase   \n",
       "2  cc4fa1401b46c90c16a97de310a32968    688794       Potency        increase   \n",
       "\n",
       "  publication_date_greatest                    fragment_md5_1  \\\n",
       "0                1970-01-01  97b841ff1304769eeb4cbad2e9871882   \n",
       "1                1970-01-01  a22b7948e5dfc19057bf9d532f44bd36   \n",
       "2                1970-01-01  940ba680c81a6edd3106b2cdbfd75355   \n",
       "\n",
       "                     fragment_md5_2  radius     tid  \\\n",
       "0  e6863c78309033197c72682044aeae58       3  103686   \n",
       "1  49abb5f9bd529b643d284fdd1b21d927       1   22226   \n",
       "2  8e118d094cf9abeb4d62c760b74886c6       4  105104   \n",
       "\n",
       "                        rating_uuid  rating_partition  label  \n",
       "0  8b95504d87ec14fec3184a9dee94bd04                 8  False  \n",
       "1  1985c899f635714177bf6cc94bfeed0b                 8   True  \n",
       "2  465e0ec54ec989364408d86c4b5f72be                 8   True  "
      ]
     },
     "execution_count": 6,
     "metadata": {},
     "output_type": "execute_result"
    }
   ],
   "source": [
    "df.head(3)"
   ]
  },
  {
   "cell_type": "code",
   "execution_count": 7,
   "id": "242099ba-08c1-40e2-99f6-6e9349b8d6a2",
   "metadata": {},
   "outputs": [
    {
     "data": {
      "text/plain": [
       "0.00   1970-01-01\n",
       "0.05   1989-03-05\n",
       "0.50   2009-01-12\n",
       "0.95   2018-09-25\n",
       "1.00   2020-11-28\n",
       "Name: publication_date_greatest, dtype: datetime64[ns]"
      ]
     },
     "execution_count": 7,
     "metadata": {},
     "output_type": "execute_result"
    }
   ],
   "source": [
    "df.publication_date_greatest.quantile([0, 0.05, 0.5, 0.95, 1])"
   ]
  },
  {
   "cell_type": "code",
   "execution_count": 8,
   "id": "cd1027bc-56ff-4a72-b4b3-c2d56b9f2126",
   "metadata": {},
   "outputs": [
    {
     "data": {
      "text/plain": [
       "19289514"
      ]
     },
     "execution_count": 8,
     "metadata": {},
     "output_type": "execute_result"
    }
   ],
   "source": [
    "len(df.index)"
   ]
  },
  {
   "cell_type": "code",
   "execution_count": 11,
   "id": "b74024af-99df-48db-8dd9-b8fa02acce6f",
   "metadata": {},
   "outputs": [],
   "source": [
    "def elo(df, return_ratings=False):\n",
    "    \n",
    "    # create a table where winner / loser is defined\n",
    "    if df.empty: return None\n",
    "    \n",
    "    # fit model\n",
    "    model = EloEstimator(\n",
    "        key1_field=\"fragment_md5_1\",\n",
    "        key2_field=\"fragment_md5_2\",\n",
    "        timestamp_field=\"publication_date_greatest\",\n",
    "        initial_time=pd.to_datetime('1970-01-01'),\n",
    "        default_k=20\n",
    "    ).fit(df, df.label)\n",
    "    if return_ratings: return model.rating_model.to_frame()\n",
    "\n",
    "    # calculate proba\n",
    "    df['proba'] = model.transform(df, output_type='prob', strict_past_data=True)\n",
    "    return df[['assay_id', 'rating_uuid', 'proba', 'label']]\n",
    "    "
   ]
  },
  {
   "cell_type": "code",
   "execution_count": 12,
   "id": "6109cf72-d379-45ff-8ffa-c8c65618c2dc",
   "metadata": {},
   "outputs": [
    {
     "data": {
      "application/vnd.jupyter.widget-view+json": {
       "model_id": "b5e48008375547f4b8d79c3b88b48a2e",
       "version_major": 2,
       "version_minor": 0
      },
      "text/plain": [
       "VBox(children=(HBox(children=(IntProgress(value=0, description='0.00%', max=2905), Label(value='0 / 2905'))), …"
      ]
     },
     "metadata": {},
     "output_type": "display_data"
    }
   ],
   "source": [
    "df_elo = df.groupby(['standard_type', 'tid', 'radius']).parallel_apply(elo)"
   ]
  },
  {
   "cell_type": "code",
   "execution_count": 13,
   "id": "9255ac52-7c3d-4440-904a-1f70feb048b5",
   "metadata": {},
   "outputs": [
    {
     "data": {
      "text/plain": [
       "0.0    0.000001\n",
       "0.1    0.471648\n",
       "0.5    0.500000\n",
       "0.9    0.528705\n",
       "1.0    0.999999\n",
       "Name: proba, dtype: float64"
      ]
     },
     "execution_count": 13,
     "metadata": {},
     "output_type": "execute_result"
    }
   ],
   "source": [
    "df_elo.proba.quantile([0, 0.1, 0.5, 0.9, 1])"
   ]
  },
  {
   "cell_type": "code",
   "execution_count": 14,
   "id": "cdf52023-e7e0-4a58-8e6f-e8c1e35b0fb5",
   "metadata": {},
   "outputs": [
    {
     "data": {
      "text/plain": [
       "0.5702030458088644"
      ]
     },
     "execution_count": 14,
     "metadata": {},
     "output_type": "execute_result"
    }
   ],
   "source": [
    "from sklearn.metrics import roc_auc_score\n",
    "\n",
    "roc_auc_score(df_elo.label, df_elo.proba)"
   ]
  },
  {
   "cell_type": "code",
   "execution_count": 15,
   "id": "c05a1994-9c71-4809-b66d-1f14ecb001d2",
   "metadata": {},
   "outputs": [
    {
     "data": {
      "text/plain": [
       "<matplotlib.legend.Legend at 0x7f6040c8e2e8>"
      ]
     },
     "execution_count": 15,
     "metadata": {},
     "output_type": "execute_result"
    },
    {
     "data": {
      "image/png": "[encoded data removed]",
      "text/plain": [
       "<Figure size 640x480 with 1 Axes>"
      ]
     },
     "metadata": {},
     "output_type": "display_data"
    }
   ],
   "source": [
    "import matplotlib.pyplot as plt\n",
    "from sklearn.calibration import calibration_curve\n",
    "\n",
    "prob_true, prob_pred = calibration_curve(\n",
    "  df_elo.label,\n",
    "  df_elo.proba,\n",
    "  n_bins=7\n",
    ")\n",
    "plt.plot(prob_pred, prob_true, label=f\"Elo Classifier\", marker='s', color='b')\n",
    "plt.plot([0, 1], [0, 1], label=\"Perfect Calibration\", ls=\":\", color='k')\n",
    "plt.xlabel(\"Predicted Probability\")\n",
    "plt.ylabel(\"Empirical Probability\")\n",
    "plt.legend()"
   ]
  },
  {
   "cell_type": "code",
   "execution_count": 16,
   "id": "9e14b157-9e64-4cbc-a937-61e1ed362a0c",
   "metadata": {},
   "outputs": [
    {
     "data": {
      "text/html": [
       "<div>\n",
       "<style scoped>\n",
       "    .dataframe tbody tr th:only-of-type {\n",
       "        vertical-align: middle;\n",
       "    }\n",
       "\n",
       "    .dataframe tbody tr th {\n",
       "        vertical-align: top;\n",
       "    }\n",
       "\n",
       "    .dataframe thead th {\n",
       "        text-align: right;\n",
       "    }\n",
       "</style>\n",
       "<table border=\"1\" class=\"dataframe\">\n",
       "  <thead>\n",
       "    <tr style=\"text-align: right;\">\n",
       "      <th></th>\n",
       "      <th></th>\n",
       "      <th></th>\n",
       "      <th></th>\n",
       "      <th>assay_id</th>\n",
       "      <th>rating_uuid</th>\n",
       "      <th>proba</th>\n",
       "      <th>label</th>\n",
       "    </tr>\n",
       "    <tr>\n",
       "      <th>standard_type</th>\n",
       "      <th>tid</th>\n",
       "      <th>radius</th>\n",
       "      <th></th>\n",
       "      <th></th>\n",
       "      <th></th>\n",
       "      <th></th>\n",
       "      <th></th>\n",
       "    </tr>\n",
       "  </thead>\n",
       "  <tbody>\n",
       "    <tr>\n",
       "      <th rowspan=\"11\" valign=\"top\">Ki</th>\n",
       "      <th rowspan=\"11\" valign=\"top\">10193</th>\n",
       "      <th rowspan=\"11\" valign=\"top\">4</th>\n",
       "      <th>16544697</th>\n",
       "      <td>1552240</td>\n",
       "      <td>23cbf9e2b4f651ca682e3bd726525418</td>\n",
       "      <td>0.999999</td>\n",
       "      <td>True</td>\n",
       "    </tr>\n",
       "    <tr>\n",
       "      <th>17563398</th>\n",
       "      <td>1685271</td>\n",
       "      <td>23cbf9e2b4f651ca682e3bd726525418</td>\n",
       "      <td>0.999998</td>\n",
       "      <td>True</td>\n",
       "    </tr>\n",
       "    <tr>\n",
       "      <th>17246279</th>\n",
       "      <td>1652370</td>\n",
       "      <td>23cbf9e2b4f651ca682e3bd726525418</td>\n",
       "      <td>0.999998</td>\n",
       "      <td>True</td>\n",
       "    </tr>\n",
       "    <tr>\n",
       "      <th>16805777</th>\n",
       "      <td>1563412</td>\n",
       "      <td>23cbf9e2b4f651ca682e3bd726525418</td>\n",
       "      <td>0.999998</td>\n",
       "      <td>True</td>\n",
       "    </tr>\n",
       "    <tr>\n",
       "      <th>16451540</th>\n",
       "      <td>1925022</td>\n",
       "      <td>23cbf9e2b4f651ca682e3bd726525418</td>\n",
       "      <td>0.999998</td>\n",
       "      <td>True</td>\n",
       "    </tr>\n",
       "    <tr>\n",
       "      <th>...</th>\n",
       "      <td>...</td>\n",
       "      <td>...</td>\n",
       "      <td>...</td>\n",
       "      <td>...</td>\n",
       "    </tr>\n",
       "    <tr>\n",
       "      <th>16442994</th>\n",
       "      <td>1925022</td>\n",
       "      <td>91cee99067e94e426cdabb5e5767492d</td>\n",
       "      <td>0.000002</td>\n",
       "      <td>False</td>\n",
       "    </tr>\n",
       "    <tr>\n",
       "      <th>16795605</th>\n",
       "      <td>1563412</td>\n",
       "      <td>91cee99067e94e426cdabb5e5767492d</td>\n",
       "      <td>0.000002</td>\n",
       "      <td>False</td>\n",
       "    </tr>\n",
       "    <tr>\n",
       "      <th>17232764</th>\n",
       "      <td>1652370</td>\n",
       "      <td>91cee99067e94e426cdabb5e5767492d</td>\n",
       "      <td>0.000002</td>\n",
       "      <td>False</td>\n",
       "    </tr>\n",
       "    <tr>\n",
       "      <th>17563808</th>\n",
       "      <td>1685271</td>\n",
       "      <td>91cee99067e94e426cdabb5e5767492d</td>\n",
       "      <td>0.000002</td>\n",
       "      <td>False</td>\n",
       "    </tr>\n",
       "    <tr>\n",
       "      <th>16540134</th>\n",
       "      <td>1552240</td>\n",
       "      <td>91cee99067e94e426cdabb5e5767492d</td>\n",
       "      <td>0.000001</td>\n",
       "      <td>False</td>\n",
       "    </tr>\n",
       "  </tbody>\n",
       "</table>\n",
       "<p>19289514 rows × 4 columns</p>\n",
       "</div>"
      ],
      "text/plain": [
       "                                     assay_id  \\\n",
       "standard_type tid   radius                      \n",
       "Ki            10193 4      16544697   1552240   \n",
       "                           17563398   1685271   \n",
       "                           17246279   1652370   \n",
       "                           16805777   1563412   \n",
       "                           16451540   1925022   \n",
       "...                                       ...   \n",
       "                           16442994   1925022   \n",
       "                           16795605   1563412   \n",
       "                           17232764   1652370   \n",
       "                           17563808   1685271   \n",
       "                           16540134   1552240   \n",
       "\n",
       "                                                          rating_uuid  \\\n",
       "standard_type tid   radius                                              \n",
       "Ki            10193 4      16544697  23cbf9e2b4f651ca682e3bd726525418   \n",
       "                           17563398  23cbf9e2b4f651ca682e3bd726525418   \n",
       "                           17246279  23cbf9e2b4f651ca682e3bd726525418   \n",
       "                           16805777  23cbf9e2b4f651ca682e3bd726525418   \n",
       "                           16451540  23cbf9e2b4f651ca682e3bd726525418   \n",
       "...                                                               ...   \n",
       "                           16442994  91cee99067e94e426cdabb5e5767492d   \n",
       "                           16795605  91cee99067e94e426cdabb5e5767492d   \n",
       "                           17232764  91cee99067e94e426cdabb5e5767492d   \n",
       "                           17563808  91cee99067e94e426cdabb5e5767492d   \n",
       "                           16540134  91cee99067e94e426cdabb5e5767492d   \n",
       "\n",
       "                                        proba  label  \n",
       "standard_type tid   radius                            \n",
       "Ki            10193 4      16544697  0.999999   True  \n",
       "                           17563398  0.999998   True  \n",
       "                           17246279  0.999998   True  \n",
       "                           16805777  0.999998   True  \n",
       "                           16451540  0.999998   True  \n",
       "...                                       ...    ...  \n",
       "                           16442994  0.000002  False  \n",
       "                           16795605  0.000002  False  \n",
       "                           17232764  0.000002  False  \n",
       "                           17563808  0.000002  False  \n",
       "                           16540134  0.000001  False  \n",
       "\n",
       "[19289514 rows x 4 columns]"
      ]
     },
     "execution_count": 16,
     "metadata": {},
     "output_type": "execute_result"
    }
   ],
   "source": [
    "df_elo.sort_values('proba', ascending=False)"
   ]
  },
  {
   "cell_type": "code",
   "execution_count": 17,
   "id": "901d80bc-52f5-4300-b504-d91f4250850c",
   "metadata": {},
   "outputs": [
    {
     "data": {
      "application/vnd.jupyter.widget-view+json": {
       "model_id": "844c6ab1f8cb4a179ed3a88ba0de4e60",
       "version_major": 2,
       "version_minor": 0
      },
      "text/plain": [
       "VBox(children=(HBox(children=(IntProgress(value=0, description='0.00%', max=2905), Label(value='0 / 2905'))), …"
      ]
     },
     "metadata": {},
     "output_type": "display_data"
    }
   ],
   "source": [
    "df_ratings = df.groupby(['standard_type', 'tid', 'radius']).parallel_apply(elo, return_ratings=True)"
   ]
  },
  {
   "cell_type": "code",
   "execution_count": 18,
   "id": "dd474ad5-090f-44f8-9404-837a4442c67c",
   "metadata": {},
   "outputs": [
    {
     "data": {
      "text/html": [
       "<div>\n",
       "<style scoped>\n",
       "    .dataframe tbody tr th:only-of-type {\n",
       "        vertical-align: middle;\n",
       "    }\n",
       "\n",
       "    .dataframe tbody tr th {\n",
       "        vertical-align: top;\n",
       "    }\n",
       "\n",
       "    .dataframe thead th {\n",
       "        text-align: right;\n",
       "    }\n",
       "</style>\n",
       "<table border=\"1\" class=\"dataframe\">\n",
       "  <thead>\n",
       "    <tr style=\"text-align: right;\">\n",
       "      <th></th>\n",
       "      <th></th>\n",
       "      <th></th>\n",
       "      <th></th>\n",
       "      <th>key</th>\n",
       "      <th>rating</th>\n",
       "      <th>valid_from</th>\n",
       "      <th>valid_to</th>\n",
       "    </tr>\n",
       "    <tr>\n",
       "      <th>standard_type</th>\n",
       "      <th>tid</th>\n",
       "      <th>radius</th>\n",
       "      <th></th>\n",
       "      <th></th>\n",
       "      <th></th>\n",
       "      <th></th>\n",
       "      <th></th>\n",
       "    </tr>\n",
       "  </thead>\n",
       "  <tbody>\n",
       "    <tr>\n",
       "      <th rowspan=\"5\" valign=\"top\">Ki</th>\n",
       "      <th rowspan=\"5\" valign=\"top\">15</th>\n",
       "      <th rowspan=\"5\" valign=\"top\">4</th>\n",
       "      <th>84852</th>\n",
       "      <td>0108bac7ed2929e150f65f69b9dc46b7</td>\n",
       "      <td>2647.625698</td>\n",
       "      <td>2016-03-11</td>\n",
       "      <td>2016-03-11</td>\n",
       "    </tr>\n",
       "    <tr>\n",
       "      <th>84851</th>\n",
       "      <td>0108bac7ed2929e150f65f69b9dc46b7</td>\n",
       "      <td>2647.622096</td>\n",
       "      <td>2016-03-11</td>\n",
       "      <td>2016-03-11</td>\n",
       "    </tr>\n",
       "    <tr>\n",
       "      <th>84850</th>\n",
       "      <td>0108bac7ed2929e150f65f69b9dc46b7</td>\n",
       "      <td>2647.620522</td>\n",
       "      <td>2016-03-11</td>\n",
       "      <td>2016-03-11</td>\n",
       "    </tr>\n",
       "    <tr>\n",
       "      <th>84849</th>\n",
       "      <td>0108bac7ed2929e150f65f69b9dc46b7</td>\n",
       "      <td>2647.536917</td>\n",
       "      <td>2016-03-11</td>\n",
       "      <td>2016-03-11</td>\n",
       "    </tr>\n",
       "    <tr>\n",
       "      <th>84848</th>\n",
       "      <td>0108bac7ed2929e150f65f69b9dc46b7</td>\n",
       "      <td>2647.534349</td>\n",
       "      <td>2016-02-06</td>\n",
       "      <td>2016-03-11</td>\n",
       "    </tr>\n",
       "    <tr>\n",
       "      <th>...</th>\n",
       "      <th>...</th>\n",
       "      <th>...</th>\n",
       "      <th>...</th>\n",
       "      <td>...</td>\n",
       "      <td>...</td>\n",
       "      <td>...</td>\n",
       "      <td>...</td>\n",
       "    </tr>\n",
       "    <tr>\n",
       "      <th>Inhibition</th>\n",
       "      <th>22226</th>\n",
       "      <th>1</th>\n",
       "      <th>20718</th>\n",
       "      <td>252a226c309990460f131702755561b9</td>\n",
       "      <td>-132.979922</td>\n",
       "      <td>2019-03-08</td>\n",
       "      <td>2019-03-08</td>\n",
       "    </tr>\n",
       "    <tr>\n",
       "      <th rowspan=\"3\" valign=\"top\">Ki</th>\n",
       "      <th rowspan=\"3\" valign=\"top\">104764</th>\n",
       "      <th rowspan=\"3\" valign=\"top\">1</th>\n",
       "      <th>88588</th>\n",
       "      <td>16b9af0a2dd2c01e22e382028af5d9f0</td>\n",
       "      <td>-137.652019</td>\n",
       "      <td>2013-03-11</td>\n",
       "      <td>2014-01-15</td>\n",
       "    </tr>\n",
       "    <tr>\n",
       "      <th>88589</th>\n",
       "      <td>16b9af0a2dd2c01e22e382028af5d9f0</td>\n",
       "      <td>-137.652523</td>\n",
       "      <td>2014-01-15</td>\n",
       "      <td>2014-01-15</td>\n",
       "    </tr>\n",
       "    <tr>\n",
       "      <th>88590</th>\n",
       "      <td>16b9af0a2dd2c01e22e382028af5d9f0</td>\n",
       "      <td>-137.652950</td>\n",
       "      <td>2014-01-15</td>\n",
       "      <td>2014-01-15</td>\n",
       "    </tr>\n",
       "    <tr>\n",
       "      <th>Inhibition</th>\n",
       "      <th>22226</th>\n",
       "      <th>1</th>\n",
       "      <th>20720</th>\n",
       "      <td>252a226c309990460f131702755561b9</td>\n",
       "      <td>-142.979922</td>\n",
       "      <td>2019-03-08</td>\n",
       "      <td>NaT</td>\n",
       "    </tr>\n",
       "  </tbody>\n",
       "</table>\n",
       "<p>43077668 rows × 4 columns</p>\n",
       "</div>"
      ],
      "text/plain": [
       "                                                                key  \\\n",
       "standard_type tid    radius                                           \n",
       "Ki            15     4      84852  0108bac7ed2929e150f65f69b9dc46b7   \n",
       "                            84851  0108bac7ed2929e150f65f69b9dc46b7   \n",
       "                            84850  0108bac7ed2929e150f65f69b9dc46b7   \n",
       "                            84849  0108bac7ed2929e150f65f69b9dc46b7   \n",
       "                            84848  0108bac7ed2929e150f65f69b9dc46b7   \n",
       "...                                                             ...   \n",
       "Inhibition    22226  1      20718  252a226c309990460f131702755561b9   \n",
       "Ki            104764 1      88588  16b9af0a2dd2c01e22e382028af5d9f0   \n",
       "                            88589  16b9af0a2dd2c01e22e382028af5d9f0   \n",
       "                            88590  16b9af0a2dd2c01e22e382028af5d9f0   \n",
       "Inhibition    22226  1      20720  252a226c309990460f131702755561b9   \n",
       "\n",
       "                                        rating valid_from   valid_to  \n",
       "standard_type tid    radius                                           \n",
       "Ki            15     4      84852  2647.625698 2016-03-11 2016-03-11  \n",
       "                            84851  2647.622096 2016-03-11 2016-03-11  \n",
       "                            84850  2647.620522 2016-03-11 2016-03-11  \n",
       "                            84849  2647.536917 2016-03-11 2016-03-11  \n",
       "                            84848  2647.534349 2016-02-06 2016-03-11  \n",
       "...                                        ...        ...        ...  \n",
       "Inhibition    22226  1      20718  -132.979922 2019-03-08 2019-03-08  \n",
       "Ki            104764 1      88588  -137.652019 2013-03-11 2014-01-15  \n",
       "                            88589  -137.652523 2014-01-15 2014-01-15  \n",
       "                            88590  -137.652950 2014-01-15 2014-01-15  \n",
       "Inhibition    22226  1      20720  -142.979922 2019-03-08        NaT  \n",
       "\n",
       "[43077668 rows x 4 columns]"
      ]
     },
     "execution_count": 18,
     "metadata": {},
     "output_type": "execute_result"
    }
   ],
   "source": [
    "df_ratings.sort_values('rating', ascending=False)"
   ]
  },
  {
   "cell_type": "code",
   "execution_count": 20,
   "id": "45c5e696-812e-4d57-9c89-2f0bc1ceffe3",
   "metadata": {},
   "outputs": [],
   "source": [
    "df_ratings[df_ratings.valid_to.isna()].to_csv('/home/daniel/wizepair2/elo_ratings.csv.gz', compression='gzip')"
   ]
  },
  {
   "cell_type": "code",
   "execution_count": null,
   "id": "d8decea7-2613-4f14-be37-2345e26c0b6f",
   "metadata": {},
   "outputs": [],
   "source": []
  }
 ],
 "metadata": {
  "kernelspec": {
   "display_name": "Python 3 (ipykernel)",
   "language": "python",
   "name": "python3"
  },
  "language_info": {
   "codemirror_mode": {
    "name": "ipython",
    "version": 3
   },
   "file_extension": ".py",
   "mimetype": "text/x-python",
   "name": "python",
   "nbconvert_exporter": "python",
   "pygments_lexer": "ipython3",
   "version": "3.7.0"
  }
 },
 "nbformat": 4,
 "nbformat_minor": 5
}
