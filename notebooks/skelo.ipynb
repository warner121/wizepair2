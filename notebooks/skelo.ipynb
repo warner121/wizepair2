{
 "cells": [
  {
   "cell_type": "code",
   "execution_count": 1,
   "id": "889b3a4f-a533-47f5-bb4a-37324d2e342a",
   "metadata": {},
   "outputs": [],
   "source": [
    "import pandas as pd\n",
    "\n",
    "from skelo.model.elo import EloEstimator"
   ]
  },
  {
   "cell_type": "code",
   "execution_count": 2,
   "id": "dee8012a-17b0-4e9b-91b0-c541983a849c",
   "metadata": {},
   "outputs": [
    {
     "name": "stdout",
     "output_type": "stream",
     "text": [
      "INFO: Pandarallel will run on 12 workers.\n",
      "INFO: Pandarallel will use Memory file system to transfer data between the main process and workers.\n"
     ]
    }
   ],
   "source": [
    "from pandarallel import pandarallel\n",
    "pandarallel.initialize(progress_bar=True, nb_workers=12)\n"
   ]
  },
  {
   "cell_type": "code",
   "execution_count": 3,
   "id": "5b7fb67d-33d6-4871-bebe-bf662043536d",
   "metadata": {},
   "outputs": [],
   "source": [
    "df = pd.read_csv('/home/daniel/Downloads/bq-results-20221017-183438-1666031719613.csv')"
   ]
  },
  {
   "cell_type": "code",
   "execution_count": 4,
   "id": "81d54c76-1ac9-4265-8eea-ad9b9b13ba3d",
   "metadata": {},
   "outputs": [
    {
     "data": {
      "text/html": [
       "<div>\n",
       "<style scoped>\n",
       "    .dataframe tbody tr th:only-of-type {\n",
       "        vertical-align: middle;\n",
       "    }\n",
       "\n",
       "    .dataframe tbody tr th {\n",
       "        vertical-align: top;\n",
       "    }\n",
       "\n",
       "    .dataframe thead th {\n",
       "        text-align: right;\n",
       "    }\n",
       "</style>\n",
       "<table border=\"1\" class=\"dataframe\">\n",
       "  <thead>\n",
       "    <tr style=\"text-align: right;\">\n",
       "      <th></th>\n",
       "      <th>wizepair2_uuid</th>\n",
       "      <th>assay_chembl_id</th>\n",
       "      <th>standard_type</th>\n",
       "      <th>standard_change</th>\n",
       "      <th>standard_relation_1</th>\n",
       "      <th>standard_value_1</th>\n",
       "      <th>molecule_chembl_id_1</th>\n",
       "      <th>standard_relation_2</th>\n",
       "      <th>standard_value_2</th>\n",
       "      <th>molecule_chembl_id_2</th>\n",
       "      <th>fragment_md5_1</th>\n",
       "      <th>fragment_md5_2</th>\n",
       "      <th>radius</th>\n",
       "    </tr>\n",
       "  </thead>\n",
       "  <tbody>\n",
       "    <tr>\n",
       "      <th>0</th>\n",
       "      <td>c96822a0e62b32823391576ea377aab7</td>\n",
       "      <td>CHEMBL4429195</td>\n",
       "      <td>EC50</td>\n",
       "      <td>increase</td>\n",
       "      <td>=</td>\n",
       "      <td>1.800000e+03</td>\n",
       "      <td>CHEMBL3326930</td>\n",
       "      <td>=</td>\n",
       "      <td>3.700000e+03</td>\n",
       "      <td>CHEMBL4461014</td>\n",
       "      <td>fd666d61cc324d263e0736ea7b591ede</td>\n",
       "      <td>5dc2f047df227356e3c17ce245f46761</td>\n",
       "      <td>3</td>\n",
       "    </tr>\n",
       "    <tr>\n",
       "      <th>1</th>\n",
       "      <td>c96822a0e62b32823391576ea377aab7</td>\n",
       "      <td>CHEMBL4429195</td>\n",
       "      <td>EC50</td>\n",
       "      <td>increase</td>\n",
       "      <td>=</td>\n",
       "      <td>1.800000e+03</td>\n",
       "      <td>CHEMBL3326930</td>\n",
       "      <td>=</td>\n",
       "      <td>3.700000e+03</td>\n",
       "      <td>CHEMBL4461014</td>\n",
       "      <td>3545a588a2083fc78b0cb46ba29b675e</td>\n",
       "      <td>81285f18fca69cbf7694dabada210116</td>\n",
       "      <td>1</td>\n",
       "    </tr>\n",
       "    <tr>\n",
       "      <th>2</th>\n",
       "      <td>b453fe578419a78489befc89f894d835</td>\n",
       "      <td>CHEMBL692992</td>\n",
       "      <td>Ki</td>\n",
       "      <td>no-change</td>\n",
       "      <td>=</td>\n",
       "      <td>3.162278e+13</td>\n",
       "      <td>CHEMBL153919</td>\n",
       "      <td>=</td>\n",
       "      <td>3.162278e+13</td>\n",
       "      <td>CHEMBL154566</td>\n",
       "      <td>9cf7b6a3fd85cea056f6b233fffe6581</td>\n",
       "      <td>612cbdcbb24abc1585f77bff1fc89694</td>\n",
       "      <td>4</td>\n",
       "    </tr>\n",
       "  </tbody>\n",
       "</table>\n",
       "</div>"
      ],
      "text/plain": [
       "                     wizepair2_uuid assay_chembl_id standard_type  \\\n",
       "0  c96822a0e62b32823391576ea377aab7   CHEMBL4429195          EC50   \n",
       "1  c96822a0e62b32823391576ea377aab7   CHEMBL4429195          EC50   \n",
       "2  b453fe578419a78489befc89f894d835    CHEMBL692992            Ki   \n",
       "\n",
       "  standard_change standard_relation_1  standard_value_1 molecule_chembl_id_1  \\\n",
       "0        increase                   =      1.800000e+03        CHEMBL3326930   \n",
       "1        increase                   =      1.800000e+03        CHEMBL3326930   \n",
       "2       no-change                   =      3.162278e+13         CHEMBL153919   \n",
       "\n",
       "  standard_relation_2  standard_value_2 molecule_chembl_id_2  \\\n",
       "0                   =      3.700000e+03        CHEMBL4461014   \n",
       "1                   =      3.700000e+03        CHEMBL4461014   \n",
       "2                   =      3.162278e+13         CHEMBL154566   \n",
       "\n",
       "                     fragment_md5_1                    fragment_md5_2  radius  \n",
       "0  fd666d61cc324d263e0736ea7b591ede  5dc2f047df227356e3c17ce245f46761       3  \n",
       "1  3545a588a2083fc78b0cb46ba29b675e  81285f18fca69cbf7694dabada210116       1  \n",
       "2  9cf7b6a3fd85cea056f6b233fffe6581  612cbdcbb24abc1585f77bff1fc89694       4  "
      ]
     },
     "execution_count": 4,
     "metadata": {},
     "output_type": "execute_result"
    }
   ],
   "source": [
    "df.head(3)"
   ]
  },
  {
   "cell_type": "code",
   "execution_count": 5,
   "id": "d2cde78d-36fd-4b97-a173-1be5ba9f6dcf",
   "metadata": {},
   "outputs": [],
   "source": [
    "df['molecule_chembl_num_1'] = df.molecule_chembl_id_1.str.extract('(\\d+)')\n",
    "df['molecule_chembl_num_2'] = df.molecule_chembl_id_2.str.extract('(\\d+)')"
   ]
  },
  {
   "cell_type": "code",
   "execution_count": 6,
   "id": "b74024af-99df-48db-8dd9-b8fa02acce6f",
   "metadata": {},
   "outputs": [],
   "source": [
    "def elo(df):\n",
    "    \n",
    "    # create a table where winner / loser is defined\n",
    "    df_train = df[df.standard_change.isin(['increase', 'decrease'])].copy(deep=True)\n",
    "    if df_train.empty: return None\n",
    "    df_train['label'] = df_train.standard_change=='increase'\n",
    "    \n",
    "    # use index as timeseries\n",
    "    df_train['timestamp'] = df_train[['molecule_chembl_num_1', 'molecule_chembl_num_2']].max(axis=1)\n",
    "    df_train.sort_values('timestamp', inplace=True)\n",
    "    \n",
    "    # fit model\n",
    "    model = EloEstimator(\n",
    "        key1_field=\"fragment_md5_1\",\n",
    "        key2_field=\"fragment_md5_2\",\n",
    "        timestamp_field=\"timestamp\",\n",
    "        initial_time=0,\n",
    "        default_k=100\n",
    "    ).fit(df_train, df_train.label)\n",
    "    \n",
    "    # return proba\n",
    "    df_train['proba'] = model.transform(df_train, output_type='prob', strict_past_data=True)\n",
    "    return df_train[['wizepair2_uuid', 'proba', 'label']]\n",
    "    "
   ]
  },
  {
   "cell_type": "code",
   "execution_count": 7,
   "id": "390969fd-de48-46aa-af7b-6f1e792490ce",
   "metadata": {},
   "outputs": [
    {
     "data": {
      "application/vnd.jupyter.widget-view+json": {
       "model_id": "220c12a43b324ec681508c43c9a4b3cb",
       "version_major": 2,
       "version_minor": 0
      },
      "text/plain": [
       "VBox(children=(HBox(children=(IntProgress(value=0, description='0.00%', max=2241), Label(value='0 / 2241'))), …"
      ]
     },
     "metadata": {},
     "output_type": "display_data"
    }
   ],
   "source": [
    "df_elo = df.groupby('assay_chembl_id').parallel_apply(elo)"
   ]
  },
  {
   "cell_type": "code",
   "execution_count": 8,
   "id": "74652570-120d-4321-9ed8-65583b5fe34e",
   "metadata": {},
   "outputs": [
    {
     "data": {
      "text/plain": [
       "0.0    9.999990e-07\n",
       "0.1    1.452148e-01\n",
       "0.5    5.000000e-01\n",
       "0.9    8.551096e-01\n",
       "1.0    9.999990e-01\n",
       "Name: proba, dtype: float64"
      ]
     },
     "execution_count": 8,
     "metadata": {},
     "output_type": "execute_result"
    }
   ],
   "source": [
    "df_elo.proba.quantile([0, 0.1, 0.5, 0.9, 1])"
   ]
  },
  {
   "cell_type": "code",
   "execution_count": 9,
   "id": "f9aa2676-9bc6-4fc2-b789-21e666dddb48",
   "metadata": {},
   "outputs": [
    {
     "data": {
      "text/plain": [
       "0.7779695879451856"
      ]
     },
     "execution_count": 9,
     "metadata": {},
     "output_type": "execute_result"
    }
   ],
   "source": [
    "from sklearn.metrics import roc_auc_score\n",
    "\n",
    "roc_auc_score(df_elo.label, df_elo.proba)"
   ]
  },
  {
   "cell_type": "code",
   "execution_count": 10,
   "id": "6c00e336-ee01-4841-8197-4e8ca3f63252",
   "metadata": {},
   "outputs": [
    {
     "data": {
      "text/plain": [
       "<matplotlib.legend.Legend at 0x7f5692e37c50>"
      ]
     },
     "execution_count": 10,
     "metadata": {},
     "output_type": "execute_result"
    },
    {
     "data": {
      "image/png": "[encoded data removed]",
      "text/plain": [
       "<Figure size 640x480 with 1 Axes>"
      ]
     },
     "metadata": {},
     "output_type": "display_data"
    }
   ],
   "source": [
    "import matplotlib.pyplot as plt\n",
    "from sklearn.calibration import calibration_curve\n",
    "\n",
    "prob_true, prob_pred = calibration_curve(\n",
    "  df_elo.label,\n",
    "  df_elo.proba,\n",
    "  n_bins=10\n",
    ")\n",
    "plt.plot(prob_pred, prob_true, label=f\"Elo Classifier\", marker='s', color='b')\n",
    "plt.plot([0, 1], [0, 1], label=\"Perfect Calibration\", ls=\":\", color='k')\n",
    "plt.xlabel(\"Predicted Probability\")\n",
    "plt.ylabel(\"Empirical Probability\")\n",
    "plt.legend()"
   ]
  },
  {
   "cell_type": "code",
   "execution_count": 11,
   "id": "d506498a-e708-41e8-9888-e2f9c4df7d77",
   "metadata": {},
   "outputs": [],
   "source": [
    "df_elo.to_csv('elo.csv.gz', index=False, compression='gzip')"
   ]
  },
  {
   "cell_type": "code",
   "execution_count": 12,
   "id": "e3c4ca97-b14e-4c15-8069-c9d87098b282",
   "metadata": {},
   "outputs": [],
   "source": [
    "def eloo(df):\n",
    "    \n",
    "    loo = list(pd.DataFrame())\n",
    "    for mol in pd.concat([df.molecule_chembl_id_1, df.molecule_chembl_id_2]).unique():\n",
    "    \n",
    "        # create a table where winner / loser is defined\n",
    "        df_train = df[df.standard_change.isin(['increase', 'decrease'])].copy(deep=True)\n",
    "        if df_train.empty: continue\n",
    "        df_train['label'] = df_train.standard_change=='increase'\n",
    "\n",
    "        # use loo group as timeseries\n",
    "        df_train['timestamp'] = ((df_train.molecule_chembl_id_1==mol) | (df_train.molecule_chembl_id_2==mol)).astype(int)\n",
    "        df_train.sort_values('timestamp', inplace=True)\n",
    "\n",
    "        # fit mode\n",
    "        model = EloEstimator(\n",
    "            key1_field=\"fragment_md5_1\",\n",
    "            key2_field=\"fragment_md5_2\",\n",
    "            timestamp_field=\"timestamp\",\n",
    "            initial_time=0,\n",
    "            default_k=100\n",
    "        ).fit(df_train, df_train.label)\n",
    "\n",
    "        # return proba\n",
    "        df_train['proba'] = model.transform(df_train, output_type='prob', strict_past_data=True)\n",
    "        loo.append(df_train[df_train.timestamp==1][['wizepair2_uuid', 'proba', 'label']])\n",
    "\n",
    "    try: return pd.concat(loo)\n",
    "    except ValueError: return None"
   ]
  },
  {
   "cell_type": "code",
   "execution_count": 13,
   "id": "f6b79c4d-8d50-4af3-acf2-8443a6d17632",
   "metadata": {},
   "outputs": [
    {
     "data": {
      "application/vnd.jupyter.widget-view+json": {
       "model_id": "b0cdd00de2b64d2fbbdfb366cd60b0ba",
       "version_major": 2,
       "version_minor": 0
      },
      "text/plain": [
       "VBox(children=(HBox(children=(IntProgress(value=0, description='0.00%', max=2241), Label(value='0 / 2241'))), …"
      ]
     },
     "metadata": {},
     "output_type": "display_data"
    }
   ],
   "source": [
    "df_eloo = df.groupby('assay_chembl_id').parallel_apply(eloo)"
   ]
  },
  {
   "cell_type": "code",
   "execution_count": 14,
   "id": "b35705a6-8199-4f5b-9ef5-baf2bb916aeb",
   "metadata": {},
   "outputs": [
    {
     "data": {
      "text/plain": [
       "0.0    4.778036e-09\n",
       "0.1    9.881159e-02\n",
       "0.5    5.000000e-01\n",
       "0.9    9.014727e-01\n",
       "1.0    1.000000e+00\n",
       "Name: proba, dtype: float64"
      ]
     },
     "execution_count": 14,
     "metadata": {},
     "output_type": "execute_result"
    }
   ],
   "source": [
    "df_eloo.proba.quantile([0, 0.1, 0.5, 0.9, 1])"
   ]
  },
  {
   "cell_type": "code",
   "execution_count": 15,
   "id": "2a7704ae-bb9f-46ee-89b4-7af1708fc429",
   "metadata": {},
   "outputs": [
    {
     "data": {
      "text/plain": [
       "0.7891176367160075"
      ]
     },
     "execution_count": 15,
     "metadata": {},
     "output_type": "execute_result"
    }
   ],
   "source": [
    "from sklearn.metrics import roc_auc_score\n",
    "\n",
    "roc_auc_score(df_eloo.label, df_eloo.proba)"
   ]
  },
  {
   "cell_type": "code",
   "execution_count": 16,
   "id": "4b7ffe61-9d83-40fb-930c-1d5448d3c757",
   "metadata": {},
   "outputs": [
    {
     "data": {
      "text/plain": [
       "<matplotlib.legend.Legend at 0x7f56db95f358>"
      ]
     },
     "execution_count": 16,
     "metadata": {},
     "output_type": "execute_result"
    },
    {
     "data": {
      "image/png": "[encoded data removed]",
      "text/plain": [
       "<Figure size 640x480 with 1 Axes>"
      ]
     },
     "metadata": {},
     "output_type": "display_data"
    }
   ],
   "source": [
    "import matplotlib.pyplot as plt\n",
    "from sklearn.calibration import calibration_curve\n",
    "\n",
    "prob_true, prob_pred = calibration_curve(\n",
    "  df_eloo.label,\n",
    "  df_eloo.proba,\n",
    "  n_bins=10\n",
    ")\n",
    "plt.plot(prob_pred, prob_true, label=f\"Elo Classifier\", marker='s', color='b')\n",
    "plt.plot([0, 1], [0, 1], label=\"Perfect Calibration\", ls=\":\", color='k')\n",
    "plt.xlabel(\"Predicted Probability\")\n",
    "plt.ylabel(\"Empirical Probability\")\n",
    "plt.legend()"
   ]
  },
  {
   "cell_type": "code",
   "execution_count": 17,
   "id": "3d4c8e7d-acab-45b1-a464-16d4cbc583cd",
   "metadata": {},
   "outputs": [],
   "source": [
    "df_eloo.to_csv('eloo.csv.gz', index=False, compression='gzip')"
   ]
  },
  {
   "cell_type": "code",
   "execution_count": null,
   "id": "e81f2e5f-d5e3-416b-8a26-2fd9b2200797",
   "metadata": {},
   "outputs": [],
   "source": []
  }
 ],
 "metadata": {
  "kernelspec": {
   "display_name": "Python 3 (ipykernel)",
   "language": "python",
   "name": "python3"
  },
  "language_info": {
   "codemirror_mode": {
    "name": "ipython",
    "version": 3
   },
   "file_extension": ".py",
   "mimetype": "text/x-python",
   "name": "python",
   "nbconvert_exporter": "python",
   "pygments_lexer": "ipython3",
   "version": "3.7.0"
  }
 },
 "nbformat": 4,
 "nbformat_minor": 5
}
