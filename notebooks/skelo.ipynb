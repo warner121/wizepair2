{
 "cells": [
  {
   "cell_type": "code",
   "execution_count": 1,
   "id": "889b3a4f-a533-47f5-bb4a-37324d2e342a",
   "metadata": {},
   "outputs": [],
   "source": [
    "import glob\n",
    "import numpy as np\n",
    "import pandas as pd\n",
    "\n",
    "from skelo.model.elo import EloEstimator"
   ]
  },
  {
   "cell_type": "code",
   "execution_count": 2,
   "id": "dee8012a-17b0-4e9b-91b0-c541983a849c",
   "metadata": {},
   "outputs": [
    {
     "name": "stdout",
     "output_type": "stream",
     "text": [
      "INFO: Pandarallel will run on 12 workers.\n",
      "INFO: Pandarallel will use Memory file system to transfer data between the main process and workers.\n"
     ]
    }
   ],
   "source": [
    "from pandarallel import pandarallel\n",
    "pandarallel.initialize(progress_bar=True, nb_workers=12)"
   ]
  },
  {
   "cell_type": "code",
   "execution_count": 3,
   "id": "647a5537-77d5-4a19-bc2d-4e235a388141",
   "metadata": {},
   "outputs": [
    {
     "data": {
      "application/vnd.jupyter.widget-view+json": {
       "model_id": "812c43e5c4114e96846d6fc8f3fd53e8",
       "version_major": 2,
       "version_minor": 0
      },
      "text/plain": [
       "VBox(children=(HBox(children=(IntProgress(value=0, description='0.00%', max=17), Label(value='0 / 17'))), HBox…"
      ]
     },
     "metadata": {},
     "output_type": "display_data"
    }
   ],
   "source": [
    "infiles = pd.Series(glob.glob('/home/daniel/wizepair2/notebooks/elo/elo-*.csv.gz')).sample(frac=0.2, replace=True)\n",
    "df = pd.concat(infiles.parallel_apply(pd.read_csv, compression='gzip').tolist())"
   ]
  },
  {
   "cell_type": "code",
   "execution_count": 4,
   "id": "0642f7d2-7db8-4569-96a4-fae866bb9306",
   "metadata": {},
   "outputs": [],
   "source": [
    "df.publication_date_greatest = pd.to_datetime(df.publication_date_greatest)\n",
    "df.sort_values('publication_date_greatest', inplace=True)\n",
    "df.reset_index(inplace=True, drop=True)"
   ]
  },
  {
   "cell_type": "code",
   "execution_count": 5,
   "id": "b3639e99-e2bb-4129-8164-c65c13090366",
   "metadata": {},
   "outputs": [],
   "source": [
    "df['label'] = df.standard_change=='increase'"
   ]
  },
  {
   "cell_type": "code",
   "execution_count": 6,
   "id": "cce3d449-1ed4-4b53-9d34-fc9a79b2a1c5",
   "metadata": {},
   "outputs": [
    {
     "data": {
      "text/html": [
       "<div>\n",
       "<style scoped>\n",
       "    .dataframe tbody tr th:only-of-type {\n",
       "        vertical-align: middle;\n",
       "    }\n",
       "\n",
       "    .dataframe tbody tr th {\n",
       "        vertical-align: top;\n",
       "    }\n",
       "\n",
       "    .dataframe thead th {\n",
       "        text-align: right;\n",
       "    }\n",
       "</style>\n",
       "<table border=\"1\" class=\"dataframe\">\n",
       "  <thead>\n",
       "    <tr style=\"text-align: right;\">\n",
       "      <th></th>\n",
       "      <th>mmp_delta_uuid</th>\n",
       "      <th>assay_id</th>\n",
       "      <th>standard_type</th>\n",
       "      <th>standard_change</th>\n",
       "      <th>publication_date_greatest</th>\n",
       "      <th>fragment1</th>\n",
       "      <th>fragment2</th>\n",
       "      <th>radius</th>\n",
       "      <th>pref_name</th>\n",
       "      <th>chessleague_uuid</th>\n",
       "      <th>rand_partition</th>\n",
       "      <th>label</th>\n",
       "    </tr>\n",
       "  </thead>\n",
       "  <tbody>\n",
       "    <tr>\n",
       "      <th>0</th>\n",
       "      <td>678c3d63fe7cb47fed87819f51629f61</td>\n",
       "      <td>688499</td>\n",
       "      <td>Potency</td>\n",
       "      <td>no-change</td>\n",
       "      <td>1970-01-01</td>\n",
       "      <td>7c60d053306f1d4ef2f1f37662d04c20</td>\n",
       "      <td>0cbfe85da56d71085e6beb9fabca3a38</td>\n",
       "      <td>3</td>\n",
       "      <td>Signal transducer and activator of transcripti...</td>\n",
       "      <td>be64f385ec167e0fccb4a6237826b894</td>\n",
       "      <td>561</td>\n",
       "      <td>False</td>\n",
       "    </tr>\n",
       "    <tr>\n",
       "      <th>1</th>\n",
       "      <td>211df80d08beafc30ef66d2b28117722</td>\n",
       "      <td>688158</td>\n",
       "      <td>EC50</td>\n",
       "      <td>increase</td>\n",
       "      <td>1970-01-01</td>\n",
       "      <td>7e10e1c20012e772c8eb6e85da3d069f</td>\n",
       "      <td>2ea4a470936415942df61536cd28de10</td>\n",
       "      <td>3</td>\n",
       "      <td>Unchecked</td>\n",
       "      <td>10319a02c7b211608c22c613eb911008</td>\n",
       "      <td>952</td>\n",
       "      <td>True</td>\n",
       "    </tr>\n",
       "    <tr>\n",
       "      <th>2</th>\n",
       "      <td>c0a5f4bb872aa0e14e14486305e3cd7a</td>\n",
       "      <td>737531</td>\n",
       "      <td>EC50</td>\n",
       "      <td>increase</td>\n",
       "      <td>1970-01-01</td>\n",
       "      <td>64bf3f0ea987276b8e996923e0ee9dde</td>\n",
       "      <td>85e8762f0c9d39954c1310ccadbdc290</td>\n",
       "      <td>3</td>\n",
       "      <td>Unchecked</td>\n",
       "      <td>10319a02c7b211608c22c613eb911008</td>\n",
       "      <td>952</td>\n",
       "      <td>True</td>\n",
       "    </tr>\n",
       "  </tbody>\n",
       "</table>\n",
       "</div>"
      ],
      "text/plain": [
       "                     mmp_delta_uuid  assay_id standard_type standard_change  \\\n",
       "0  678c3d63fe7cb47fed87819f51629f61    688499       Potency       no-change   \n",
       "1  211df80d08beafc30ef66d2b28117722    688158          EC50        increase   \n",
       "2  c0a5f4bb872aa0e14e14486305e3cd7a    737531          EC50        increase   \n",
       "\n",
       "  publication_date_greatest                         fragment1  \\\n",
       "0                1970-01-01  7c60d053306f1d4ef2f1f37662d04c20   \n",
       "1                1970-01-01  7e10e1c20012e772c8eb6e85da3d069f   \n",
       "2                1970-01-01  64bf3f0ea987276b8e996923e0ee9dde   \n",
       "\n",
       "                          fragment2  radius  \\\n",
       "0  0cbfe85da56d71085e6beb9fabca3a38       3   \n",
       "1  2ea4a470936415942df61536cd28de10       3   \n",
       "2  85e8762f0c9d39954c1310ccadbdc290       3   \n",
       "\n",
       "                                           pref_name  \\\n",
       "0  Signal transducer and activator of transcripti...   \n",
       "1                                          Unchecked   \n",
       "2                                          Unchecked   \n",
       "\n",
       "                   chessleague_uuid  rand_partition  label  \n",
       "0  be64f385ec167e0fccb4a6237826b894             561  False  \n",
       "1  10319a02c7b211608c22c613eb911008             952   True  \n",
       "2  10319a02c7b211608c22c613eb911008             952   True  "
      ]
     },
     "execution_count": 6,
     "metadata": {},
     "output_type": "execute_result"
    }
   ],
   "source": [
    "df.head(3)"
   ]
  },
  {
   "cell_type": "code",
   "execution_count": 7,
   "id": "242099ba-08c1-40e2-99f6-6e9349b8d6a2",
   "metadata": {},
   "outputs": [
    {
     "data": {
      "text/plain": [
       "0.00   1970-01-01\n",
       "0.05   1991-05-02\n",
       "0.50   2010-01-04\n",
       "0.95   2019-02-22\n",
       "1.00   2021-01-01\n",
       "Name: publication_date_greatest, dtype: datetime64[ns]"
      ]
     },
     "execution_count": 7,
     "metadata": {},
     "output_type": "execute_result"
    }
   ],
   "source": [
    "df.publication_date_greatest.quantile([0, 0.05, 0.5, 0.95, 1])"
   ]
  },
  {
   "cell_type": "code",
   "execution_count": 8,
   "id": "cd1027bc-56ff-4a72-b4b3-c2d56b9f2126",
   "metadata": {},
   "outputs": [
    {
     "data": {
      "text/plain": [
       "23163633"
      ]
     },
     "execution_count": 8,
     "metadata": {},
     "output_type": "execute_result"
    }
   ],
   "source": [
    "len(df.index)"
   ]
  },
  {
   "cell_type": "code",
   "execution_count": 9,
   "id": "eb5b3015-7938-498f-8206-d67152b8d3f4",
   "metadata": {},
   "outputs": [],
   "source": [
    "from sklearn.model_selection import GridSearchCV\n",
    "\n",
    "def elo_grid(df, return_ratings=False):\n",
    "    \n",
    "    # create a table where winner / loser is defined\n",
    "    df = df.copy(deep=True).reset_index()\n",
    "    if df.empty: return None\n",
    "\n",
    "    model = EloEstimator(\n",
    "            key1_field=\"fragment1\",\n",
    "            key2_field=\"fragment2\",\n",
    "            timestamp_field=\"publication_date_greatest\",\n",
    "            initial_time=pd.to_datetime('1970-01-01')\n",
    "    )\n",
    "\n",
    "    clf = GridSearchCV(\n",
    "        model,\n",
    "        param_grid={'default_k': [5, 10, 20, 40, 80, 160, 320]},\n",
    "        refit=False,\n",
    "        cv=[(df.index, df.index)],\n",
    "        scoring='accuracy'\n",
    "    ).fit(df, df['label'])\n",
    "\n",
    "    return pd.DataFrame(clf.cv_results_)"
   ]
  },
  {
   "cell_type": "code",
   "execution_count": 10,
   "id": "c97e4e65-0362-476d-9150-3add983b253c",
   "metadata": {},
   "outputs": [
    {
     "data": {
      "application/vnd.jupyter.widget-view+json": {
       "model_id": "78c4b4d39d7c4b8b9566b4d7c452dfb0",
       "version_major": 2,
       "version_minor": 0
      },
      "text/plain": [
       "VBox(children=(HBox(children=(IntProgress(value=0, description='0.00%', max=3120), Label(value='0 / 3120'))), …"
      ]
     },
     "metadata": {},
     "output_type": "display_data"
    }
   ],
   "source": [
    "df_elo_grid = df.groupby(['chessleague_uuid']).parallel_apply(elo_grid)"
   ]
  },
  {
   "cell_type": "code",
   "execution_count": 11,
   "id": "9086c2a5-26d0-4bcd-95ea-ff89a51a1428",
   "metadata": {},
   "outputs": [
    {
     "data": {
      "text/html": [
       "<div>\n",
       "<style scoped>\n",
       "    .dataframe tbody tr th:only-of-type {\n",
       "        vertical-align: middle;\n",
       "    }\n",
       "\n",
       "    .dataframe tbody tr th {\n",
       "        vertical-align: top;\n",
       "    }\n",
       "\n",
       "    .dataframe thead th {\n",
       "        text-align: right;\n",
       "    }\n",
       "</style>\n",
       "<table border=\"1\" class=\"dataframe\">\n",
       "  <thead>\n",
       "    <tr style=\"text-align: right;\">\n",
       "      <th></th>\n",
       "      <th>mean_fit_time</th>\n",
       "      <th>std_fit_time</th>\n",
       "      <th>mean_score_time</th>\n",
       "      <th>std_score_time</th>\n",
       "      <th>split0_test_score</th>\n",
       "      <th>mean_test_score</th>\n",
       "      <th>std_test_score</th>\n",
       "      <th>rank_test_score</th>\n",
       "    </tr>\n",
       "    <tr>\n",
       "      <th>param_default_k</th>\n",
       "      <th></th>\n",
       "      <th></th>\n",
       "      <th></th>\n",
       "      <th></th>\n",
       "      <th></th>\n",
       "      <th></th>\n",
       "      <th></th>\n",
       "      <th></th>\n",
       "    </tr>\n",
       "  </thead>\n",
       "  <tbody>\n",
       "    <tr>\n",
       "      <th>5</th>\n",
       "      <td>0.001919</td>\n",
       "      <td>0.0</td>\n",
       "      <td>0.003029</td>\n",
       "      <td>0.0</td>\n",
       "      <td>0.517986</td>\n",
       "      <td>0.517986</td>\n",
       "      <td>0.0</td>\n",
       "      <td>1.0</td>\n",
       "    </tr>\n",
       "    <tr>\n",
       "      <th>10</th>\n",
       "      <td>0.001675</td>\n",
       "      <td>0.0</td>\n",
       "      <td>0.003013</td>\n",
       "      <td>0.0</td>\n",
       "      <td>0.517949</td>\n",
       "      <td>0.517949</td>\n",
       "      <td>0.0</td>\n",
       "      <td>1.0</td>\n",
       "    </tr>\n",
       "    <tr>\n",
       "      <th>20</th>\n",
       "      <td>0.001668</td>\n",
       "      <td>0.0</td>\n",
       "      <td>0.003005</td>\n",
       "      <td>0.0</td>\n",
       "      <td>0.517941</td>\n",
       "      <td>0.517941</td>\n",
       "      <td>0.0</td>\n",
       "      <td>1.0</td>\n",
       "    </tr>\n",
       "    <tr>\n",
       "      <th>40</th>\n",
       "      <td>0.001668</td>\n",
       "      <td>0.0</td>\n",
       "      <td>0.003008</td>\n",
       "      <td>0.0</td>\n",
       "      <td>0.518072</td>\n",
       "      <td>0.518072</td>\n",
       "      <td>0.0</td>\n",
       "      <td>1.0</td>\n",
       "    </tr>\n",
       "    <tr>\n",
       "      <th>80</th>\n",
       "      <td>0.001669</td>\n",
       "      <td>0.0</td>\n",
       "      <td>0.003001</td>\n",
       "      <td>0.0</td>\n",
       "      <td>0.518169</td>\n",
       "      <td>0.518169</td>\n",
       "      <td>0.0</td>\n",
       "      <td>1.0</td>\n",
       "    </tr>\n",
       "    <tr>\n",
       "      <th>160</th>\n",
       "      <td>0.001668</td>\n",
       "      <td>0.0</td>\n",
       "      <td>0.003006</td>\n",
       "      <td>0.0</td>\n",
       "      <td>0.517947</td>\n",
       "      <td>0.517947</td>\n",
       "      <td>0.0</td>\n",
       "      <td>1.0</td>\n",
       "    </tr>\n",
       "    <tr>\n",
       "      <th>320</th>\n",
       "      <td>0.001668</td>\n",
       "      <td>0.0</td>\n",
       "      <td>0.003007</td>\n",
       "      <td>0.0</td>\n",
       "      <td>0.517795</td>\n",
       "      <td>0.517795</td>\n",
       "      <td>0.0</td>\n",
       "      <td>1.0</td>\n",
       "    </tr>\n",
       "  </tbody>\n",
       "</table>\n",
       "</div>"
      ],
      "text/plain": [
       "                 mean_fit_time  std_fit_time  mean_score_time  std_score_time  \\\n",
       "param_default_k                                                                 \n",
       "5                     0.001919           0.0         0.003029             0.0   \n",
       "10                    0.001675           0.0         0.003013             0.0   \n",
       "20                    0.001668           0.0         0.003005             0.0   \n",
       "40                    0.001668           0.0         0.003008             0.0   \n",
       "80                    0.001669           0.0         0.003001             0.0   \n",
       "160                   0.001668           0.0         0.003006             0.0   \n",
       "320                   0.001668           0.0         0.003007             0.0   \n",
       "\n",
       "                 split0_test_score  mean_test_score  std_test_score  \\\n",
       "param_default_k                                                       \n",
       "5                         0.517986         0.517986             0.0   \n",
       "10                        0.517949         0.517949             0.0   \n",
       "20                        0.517941         0.517941             0.0   \n",
       "40                        0.518072         0.518072             0.0   \n",
       "80                        0.518169         0.518169             0.0   \n",
       "160                       0.517947         0.517947             0.0   \n",
       "320                       0.517795         0.517795             0.0   \n",
       "\n",
       "                 rank_test_score  \n",
       "param_default_k                   \n",
       "5                            1.0  \n",
       "10                           1.0  \n",
       "20                           1.0  \n",
       "40                           1.0  \n",
       "80                           1.0  \n",
       "160                          1.0  \n",
       "320                          1.0  "
      ]
     },
     "execution_count": 11,
     "metadata": {},
     "output_type": "execute_result"
    }
   ],
   "source": [
    "df_elo_grid.groupby('param_default_k').median()"
   ]
  },
  {
   "cell_type": "code",
   "execution_count": 12,
   "id": "b74024af-99df-48db-8dd9-b8fa02acce6f",
   "metadata": {},
   "outputs": [],
   "source": [
    "def elo(df, return_ratings=False):\n",
    "    \n",
    "    # create a table where winner / loser is defined\n",
    "    if df.empty: return None\n",
    "    \n",
    "    # fit model\n",
    "    model = EloEstimator(\n",
    "        key1_field=\"fragment1\",\n",
    "        key2_field=\"fragment2\",\n",
    "        timestamp_field=\"publication_date_greatest\",\n",
    "        initial_time=pd.to_datetime('1970-01-01'),\n",
    "        default_k=10\n",
    "    ).fit(df, df.label)\n",
    "    if return_ratings: return model.rating_model.to_frame()\n",
    "\n",
    "    # calculate proba\n",
    "    df['proba'] = model.transform(df, output_type='prob', strict_past_data=True)\n",
    "    return df[['assay_id', 'mmp_delta_uuid', 'chessleague_uuid', 'proba', 'label']]\n",
    "    "
   ]
  },
  {
   "cell_type": "code",
   "execution_count": 13,
   "id": "6109cf72-d379-45ff-8ffa-c8c65618c2dc",
   "metadata": {},
   "outputs": [
    {
     "data": {
      "application/vnd.jupyter.widget-view+json": {
       "model_id": "a0265a72ec2843dcbed0de7487fbdde0",
       "version_major": 2,
       "version_minor": 0
      },
      "text/plain": [
       "VBox(children=(HBox(children=(IntProgress(value=0, description='0.00%', max=3120), Label(value='0 / 3120'))), …"
      ]
     },
     "metadata": {},
     "output_type": "display_data"
    }
   ],
   "source": [
    "df_elo = df.groupby(['chessleague_uuid']).parallel_apply(elo)"
   ]
  },
  {
   "cell_type": "code",
   "execution_count": 14,
   "id": "9255ac52-7c3d-4440-904a-1f70feb048b5",
   "metadata": {},
   "outputs": [
    {
     "data": {
      "text/plain": [
       "0.0    0.000001\n",
       "0.1    0.478253\n",
       "0.5    0.500000\n",
       "0.9    0.522516\n",
       "1.0    0.999999\n",
       "Name: proba, dtype: float64"
      ]
     },
     "execution_count": 14,
     "metadata": {},
     "output_type": "execute_result"
    }
   ],
   "source": [
    "df_elo.proba.quantile([0, 0.1, 0.5, 0.9, 1])"
   ]
  },
  {
   "cell_type": "code",
   "execution_count": 15,
   "id": "cdf52023-e7e0-4a58-8e6f-e8c1e35b0fb5",
   "metadata": {},
   "outputs": [
    {
     "data": {
      "text/plain": [
       "0.5490712246870644"
      ]
     },
     "execution_count": 15,
     "metadata": {},
     "output_type": "execute_result"
    }
   ],
   "source": [
    "from sklearn.metrics import roc_auc_score\n",
    "\n",
    "roc_auc_score(df_elo.label, df_elo.proba)"
   ]
  },
  {
   "cell_type": "code",
   "execution_count": 16,
   "id": "c05a1994-9c71-4809-b66d-1f14ecb001d2",
   "metadata": {},
   "outputs": [
    {
     "data": {
      "text/plain": [
       "<matplotlib.legend.Legend at 0x7fe38d8c8f28>"
      ]
     },
     "execution_count": 16,
     "metadata": {},
     "output_type": "execute_result"
    },
    {
     "data": {
      "image/png": "[encoded data removed]",
      "text/plain": [
       "<Figure size 640x480 with 1 Axes>"
      ]
     },
     "metadata": {},
     "output_type": "display_data"
    }
   ],
   "source": [
    "import matplotlib.pyplot as plt\n",
    "from sklearn.calibration import calibration_curve\n",
    "\n",
    "prob_true, prob_pred = calibration_curve(\n",
    "  df_elo.label,\n",
    "  df_elo.proba,\n",
    "  n_bins=7\n",
    ")\n",
    "plt.plot(prob_pred, prob_true, label=f\"Elo Classifier\", marker='s', color='b')\n",
    "plt.plot([0, 1], [0, 1], label=\"Perfect Calibration\", ls=\":\", color='k')\n",
    "plt.xlabel(\"Predicted Probability\")\n",
    "plt.ylabel(\"Empirical Probability\")\n",
    "plt.legend()"
   ]
  },
  {
   "cell_type": "code",
   "execution_count": 17,
   "id": "9e14b157-9e64-4cbc-a937-61e1ed362a0c",
   "metadata": {},
   "outputs": [
    {
     "data": {
      "text/html": [
       "<div>\n",
       "<style scoped>\n",
       "    .dataframe tbody tr th:only-of-type {\n",
       "        vertical-align: middle;\n",
       "    }\n",
       "\n",
       "    .dataframe tbody tr th {\n",
       "        vertical-align: top;\n",
       "    }\n",
       "\n",
       "    .dataframe thead th {\n",
       "        text-align: right;\n",
       "    }\n",
       "</style>\n",
       "<table border=\"1\" class=\"dataframe\">\n",
       "  <thead>\n",
       "    <tr style=\"text-align: right;\">\n",
       "      <th></th>\n",
       "      <th></th>\n",
       "      <th>assay_id</th>\n",
       "      <th>mmp_delta_uuid</th>\n",
       "      <th>chessleague_uuid</th>\n",
       "      <th>proba</th>\n",
       "      <th>label</th>\n",
       "    </tr>\n",
       "    <tr>\n",
       "      <th>chessleague_uuid</th>\n",
       "      <th></th>\n",
       "      <th></th>\n",
       "      <th></th>\n",
       "      <th></th>\n",
       "      <th></th>\n",
       "      <th></th>\n",
       "    </tr>\n",
       "  </thead>\n",
       "  <tbody>\n",
       "    <tr>\n",
       "      <th rowspan=\"11\" valign=\"top\">7f2737dddb558e0912a66198bf7f00d6</th>\n",
       "      <th>23158659</th>\n",
       "      <td>1993483</td>\n",
       "      <td>7444479bff3cfe94bb79f835be8f6482</td>\n",
       "      <td>7f2737dddb558e0912a66198bf7f00d6</td>\n",
       "      <td>0.999999</td>\n",
       "      <td>False</td>\n",
       "    </tr>\n",
       "    <tr>\n",
       "      <th>19888829</th>\n",
       "      <td>1551389</td>\n",
       "      <td>451373a8230cce0c5ff8a549df98facf</td>\n",
       "      <td>7f2737dddb558e0912a66198bf7f00d6</td>\n",
       "      <td>0.999919</td>\n",
       "      <td>False</td>\n",
       "    </tr>\n",
       "    <tr>\n",
       "      <th>16960591</th>\n",
       "      <td>1285834</td>\n",
       "      <td>6c99a6afbedb5fd684cde8f2c2152f9f</td>\n",
       "      <td>7f2737dddb558e0912a66198bf7f00d6</td>\n",
       "      <td>0.998670</td>\n",
       "      <td>False</td>\n",
       "    </tr>\n",
       "    <tr>\n",
       "      <th>16959346</th>\n",
       "      <td>1285833</td>\n",
       "      <td>0ea030524429f82a3014db7d0e79fb66</td>\n",
       "      <td>7f2737dddb558e0912a66198bf7f00d6</td>\n",
       "      <td>0.998670</td>\n",
       "      <td>True</td>\n",
       "    </tr>\n",
       "    <tr>\n",
       "      <th>16960355</th>\n",
       "      <td>1285832</td>\n",
       "      <td>4fbfe5da14c7c4f0a021a0ba0f8f76f9</td>\n",
       "      <td>7f2737dddb558e0912a66198bf7f00d6</td>\n",
       "      <td>0.998670</td>\n",
       "      <td>False</td>\n",
       "    </tr>\n",
       "    <tr>\n",
       "      <th>...</th>\n",
       "      <td>...</td>\n",
       "      <td>...</td>\n",
       "      <td>...</td>\n",
       "      <td>...</td>\n",
       "      <td>...</td>\n",
       "    </tr>\n",
       "    <tr>\n",
       "      <th>19844840</th>\n",
       "      <td>1579651</td>\n",
       "      <td>343612be8fa0b504b0cc39145e0d3d77</td>\n",
       "      <td>7f2737dddb558e0912a66198bf7f00d6</td>\n",
       "      <td>0.000089</td>\n",
       "      <td>False</td>\n",
       "    </tr>\n",
       "    <tr>\n",
       "      <th>19887526</th>\n",
       "      <td>1551388</td>\n",
       "      <td>3120ea60d3af007fb1583f24706d4fa9</td>\n",
       "      <td>7f2737dddb558e0912a66198bf7f00d6</td>\n",
       "      <td>0.000081</td>\n",
       "      <td>True</td>\n",
       "    </tr>\n",
       "    <tr>\n",
       "      <th>21556393</th>\n",
       "      <td>1826296</td>\n",
       "      <td>bccf4f93f0bc6fb1862f264eabb9e039</td>\n",
       "      <td>7f2737dddb558e0912a66198bf7f00d6</td>\n",
       "      <td>0.000003</td>\n",
       "      <td>False</td>\n",
       "    </tr>\n",
       "    <tr>\n",
       "      <th>21888667</th>\n",
       "      <td>1812209</td>\n",
       "      <td>99a7594ca21b3fed16c543467954be2e</td>\n",
       "      <td>7f2737dddb558e0912a66198bf7f00d6</td>\n",
       "      <td>0.000001</td>\n",
       "      <td>True</td>\n",
       "    </tr>\n",
       "    <tr>\n",
       "      <th>21890170</th>\n",
       "      <td>1812209</td>\n",
       "      <td>99a7594ca21b3fed16c543467954be2e</td>\n",
       "      <td>7f2737dddb558e0912a66198bf7f00d6</td>\n",
       "      <td>0.000001</td>\n",
       "      <td>True</td>\n",
       "    </tr>\n",
       "  </tbody>\n",
       "</table>\n",
       "<p>23163633 rows × 5 columns</p>\n",
       "</div>"
      ],
      "text/plain": [
       "                                           assay_id  \\\n",
       "chessleague_uuid                                      \n",
       "7f2737dddb558e0912a66198bf7f00d6 23158659   1993483   \n",
       "                                 19888829   1551389   \n",
       "                                 16960591   1285834   \n",
       "                                 16959346   1285833   \n",
       "                                 16960355   1285832   \n",
       "...                                             ...   \n",
       "                                 19844840   1579651   \n",
       "                                 19887526   1551388   \n",
       "                                 21556393   1826296   \n",
       "                                 21888667   1812209   \n",
       "                                 21890170   1812209   \n",
       "\n",
       "                                                             mmp_delta_uuid  \\\n",
       "chessleague_uuid                                                              \n",
       "7f2737dddb558e0912a66198bf7f00d6 23158659  7444479bff3cfe94bb79f835be8f6482   \n",
       "                                 19888829  451373a8230cce0c5ff8a549df98facf   \n",
       "                                 16960591  6c99a6afbedb5fd684cde8f2c2152f9f   \n",
       "                                 16959346  0ea030524429f82a3014db7d0e79fb66   \n",
       "                                 16960355  4fbfe5da14c7c4f0a021a0ba0f8f76f9   \n",
       "...                                                                     ...   \n",
       "                                 19844840  343612be8fa0b504b0cc39145e0d3d77   \n",
       "                                 19887526  3120ea60d3af007fb1583f24706d4fa9   \n",
       "                                 21556393  bccf4f93f0bc6fb1862f264eabb9e039   \n",
       "                                 21888667  99a7594ca21b3fed16c543467954be2e   \n",
       "                                 21890170  99a7594ca21b3fed16c543467954be2e   \n",
       "\n",
       "                                                           chessleague_uuid  \\\n",
       "chessleague_uuid                                                              \n",
       "7f2737dddb558e0912a66198bf7f00d6 23158659  7f2737dddb558e0912a66198bf7f00d6   \n",
       "                                 19888829  7f2737dddb558e0912a66198bf7f00d6   \n",
       "                                 16960591  7f2737dddb558e0912a66198bf7f00d6   \n",
       "                                 16959346  7f2737dddb558e0912a66198bf7f00d6   \n",
       "                                 16960355  7f2737dddb558e0912a66198bf7f00d6   \n",
       "...                                                                     ...   \n",
       "                                 19844840  7f2737dddb558e0912a66198bf7f00d6   \n",
       "                                 19887526  7f2737dddb558e0912a66198bf7f00d6   \n",
       "                                 21556393  7f2737dddb558e0912a66198bf7f00d6   \n",
       "                                 21888667  7f2737dddb558e0912a66198bf7f00d6   \n",
       "                                 21890170  7f2737dddb558e0912a66198bf7f00d6   \n",
       "\n",
       "                                              proba  label  \n",
       "chessleague_uuid                                            \n",
       "7f2737dddb558e0912a66198bf7f00d6 23158659  0.999999  False  \n",
       "                                 19888829  0.999919  False  \n",
       "                                 16960591  0.998670  False  \n",
       "                                 16959346  0.998670   True  \n",
       "                                 16960355  0.998670  False  \n",
       "...                                             ...    ...  \n",
       "                                 19844840  0.000089  False  \n",
       "                                 19887526  0.000081   True  \n",
       "                                 21556393  0.000003  False  \n",
       "                                 21888667  0.000001   True  \n",
       "                                 21890170  0.000001   True  \n",
       "\n",
       "[23163633 rows x 5 columns]"
      ]
     },
     "execution_count": 17,
     "metadata": {},
     "output_type": "execute_result"
    }
   ],
   "source": [
    "df_elo.sort_values('proba', ascending=False)"
   ]
  },
  {
   "cell_type": "code",
   "execution_count": 18,
   "id": "901d80bc-52f5-4300-b504-d91f4250850c",
   "metadata": {},
   "outputs": [
    {
     "data": {
      "application/vnd.jupyter.widget-view+json": {
       "model_id": "a3cf59e9005b49bf8c9271926d3475d9",
       "version_major": 2,
       "version_minor": 0
      },
      "text/plain": [
       "VBox(children=(HBox(children=(IntProgress(value=0, description='0.00%', max=3120), Label(value='0 / 3120'))), …"
      ]
     },
     "metadata": {},
     "output_type": "display_data"
    }
   ],
   "source": [
    "df_ratings = df.groupby(['chessleague_uuid']).parallel_apply(elo, return_ratings=True)"
   ]
  },
  {
   "cell_type": "code",
   "execution_count": 19,
   "id": "dd474ad5-090f-44f8-9404-837a4442c67c",
   "metadata": {},
   "outputs": [
    {
     "data": {
      "text/html": [
       "<div>\n",
       "<style scoped>\n",
       "    .dataframe tbody tr th:only-of-type {\n",
       "        vertical-align: middle;\n",
       "    }\n",
       "\n",
       "    .dataframe tbody tr th {\n",
       "        vertical-align: top;\n",
       "    }\n",
       "\n",
       "    .dataframe thead th {\n",
       "        text-align: right;\n",
       "    }\n",
       "</style>\n",
       "<table border=\"1\" class=\"dataframe\">\n",
       "  <thead>\n",
       "    <tr style=\"text-align: right;\">\n",
       "      <th></th>\n",
       "      <th></th>\n",
       "      <th>key</th>\n",
       "      <th>rating</th>\n",
       "      <th>valid_from</th>\n",
       "      <th>valid_to</th>\n",
       "    </tr>\n",
       "    <tr>\n",
       "      <th>chessleague_uuid</th>\n",
       "      <th></th>\n",
       "      <th></th>\n",
       "      <th></th>\n",
       "      <th></th>\n",
       "      <th></th>\n",
       "    </tr>\n",
       "  </thead>\n",
       "  <tbody>\n",
       "    <tr>\n",
       "      <th rowspan=\"5\" valign=\"top\">bbe2b268137e37fa524bb8820172f4df</th>\n",
       "      <th>99448</th>\n",
       "      <td>5b4a3554855bc14716c32b29474cc50c</td>\n",
       "      <td>2137.154359</td>\n",
       "      <td>2020-01-01</td>\n",
       "      <td>2020-01-01</td>\n",
       "    </tr>\n",
       "    <tr>\n",
       "      <th>99447</th>\n",
       "      <td>5b4a3554855bc14716c32b29474cc50c</td>\n",
       "      <td>2136.950956</td>\n",
       "      <td>2020-01-01</td>\n",
       "      <td>2020-01-01</td>\n",
       "    </tr>\n",
       "    <tr>\n",
       "      <th>99446</th>\n",
       "      <td>5b4a3554855bc14716c32b29474cc50c</td>\n",
       "      <td>2136.747084</td>\n",
       "      <td>2020-01-01</td>\n",
       "      <td>2020-01-01</td>\n",
       "    </tr>\n",
       "    <tr>\n",
       "      <th>99445</th>\n",
       "      <td>5b4a3554855bc14716c32b29474cc50c</td>\n",
       "      <td>2136.542743</td>\n",
       "      <td>2020-01-01</td>\n",
       "      <td>2020-01-01</td>\n",
       "    </tr>\n",
       "    <tr>\n",
       "      <th>99444</th>\n",
       "      <td>5b4a3554855bc14716c32b29474cc50c</td>\n",
       "      <td>2136.337929</td>\n",
       "      <td>2020-01-01</td>\n",
       "      <td>2020-01-01</td>\n",
       "    </tr>\n",
       "    <tr>\n",
       "      <th>...</th>\n",
       "      <th>...</th>\n",
       "      <td>...</td>\n",
       "      <td>...</td>\n",
       "      <td>...</td>\n",
       "      <td>...</td>\n",
       "    </tr>\n",
       "    <tr>\n",
       "      <th rowspan=\"5\" valign=\"top\">7f2737dddb558e0912a66198bf7f00d6</th>\n",
       "      <th>874185</th>\n",
       "      <td>369fe85e1781430d072ca992d9a65f8a</td>\n",
       "      <td>-996.752427</td>\n",
       "      <td>2020-10-12</td>\n",
       "      <td>NaT</td>\n",
       "    </tr>\n",
       "    <tr>\n",
       "      <th>874187</th>\n",
       "      <td>369fe85e1781430d072ca992d9a65f8a</td>\n",
       "      <td>-996.752433</td>\n",
       "      <td>2020-11-17</td>\n",
       "      <td>2020-11-19</td>\n",
       "    </tr>\n",
       "    <tr>\n",
       "      <th>874184</th>\n",
       "      <td>369fe85e1781430d072ca992d9a65f8a</td>\n",
       "      <td>-1001.752427</td>\n",
       "      <td>2020-10-12</td>\n",
       "      <td>2020-10-12</td>\n",
       "    </tr>\n",
       "    <tr>\n",
       "      <th>874189</th>\n",
       "      <td>369fe85e1781430d072ca992d9a65f8a</td>\n",
       "      <td>-1001.752433</td>\n",
       "      <td>2020-11-19</td>\n",
       "      <td>NaT</td>\n",
       "    </tr>\n",
       "    <tr>\n",
       "      <th>874186</th>\n",
       "      <td>369fe85e1781430d072ca992d9a65f8a</td>\n",
       "      <td>-1006.752427</td>\n",
       "      <td>2020-10-12</td>\n",
       "      <td>2020-11-17</td>\n",
       "    </tr>\n",
       "  </tbody>\n",
       "</table>\n",
       "<p>55811984 rows × 4 columns</p>\n",
       "</div>"
      ],
      "text/plain": [
       "                                                                      key  \\\n",
       "chessleague_uuid                                                            \n",
       "bbe2b268137e37fa524bb8820172f4df 99448   5b4a3554855bc14716c32b29474cc50c   \n",
       "                                 99447   5b4a3554855bc14716c32b29474cc50c   \n",
       "                                 99446   5b4a3554855bc14716c32b29474cc50c   \n",
       "                                 99445   5b4a3554855bc14716c32b29474cc50c   \n",
       "                                 99444   5b4a3554855bc14716c32b29474cc50c   \n",
       "...                                                                   ...   \n",
       "7f2737dddb558e0912a66198bf7f00d6 874185  369fe85e1781430d072ca992d9a65f8a   \n",
       "                                 874187  369fe85e1781430d072ca992d9a65f8a   \n",
       "                                 874184  369fe85e1781430d072ca992d9a65f8a   \n",
       "                                 874189  369fe85e1781430d072ca992d9a65f8a   \n",
       "                                 874186  369fe85e1781430d072ca992d9a65f8a   \n",
       "\n",
       "                                              rating valid_from   valid_to  \n",
       "chessleague_uuid                                                            \n",
       "bbe2b268137e37fa524bb8820172f4df 99448   2137.154359 2020-01-01 2020-01-01  \n",
       "                                 99447   2136.950956 2020-01-01 2020-01-01  \n",
       "                                 99446   2136.747084 2020-01-01 2020-01-01  \n",
       "                                 99445   2136.542743 2020-01-01 2020-01-01  \n",
       "                                 99444   2136.337929 2020-01-01 2020-01-01  \n",
       "...                                              ...        ...        ...  \n",
       "7f2737dddb558e0912a66198bf7f00d6 874185  -996.752427 2020-10-12        NaT  \n",
       "                                 874187  -996.752433 2020-11-17 2020-11-19  \n",
       "                                 874184 -1001.752427 2020-10-12 2020-10-12  \n",
       "                                 874189 -1001.752433 2020-11-19        NaT  \n",
       "                                 874186 -1006.752427 2020-10-12 2020-11-17  \n",
       "\n",
       "[55811984 rows x 4 columns]"
      ]
     },
     "execution_count": 19,
     "metadata": {},
     "output_type": "execute_result"
    }
   ],
   "source": [
    "df_ratings.sort_values('rating', ascending=False)"
   ]
  },
  {
   "cell_type": "code",
   "execution_count": 20,
   "id": "45c5e696-812e-4d57-9c89-2f0bc1ceffe3",
   "metadata": {},
   "outputs": [],
   "source": [
    "df_ratings[df_ratings.valid_to.isna()].to_csv('/home/daniel/wizepair2/elo_ratings.csv.gz', compression='gzip')"
   ]
  },
  {
   "cell_type": "code",
   "execution_count": null,
   "id": "d8decea7-2613-4f14-be37-2345e26c0b6f",
   "metadata": {},
   "outputs": [],
   "source": []
  }
 ],
 "metadata": {
  "kernelspec": {
   "display_name": "Python 3 (ipykernel)",
   "language": "python",
   "name": "python3"
  },
  "language_info": {
   "codemirror_mode": {
    "name": "ipython",
    "version": 3
   },
   "file_extension": ".py",
   "mimetype": "text/x-python",
   "name": "python",
   "nbconvert_exporter": "python",
   "pygments_lexer": "ipython3",
   "version": "3.7.0"
  }
 },
 "nbformat": 4,
 "nbformat_minor": 5
}
