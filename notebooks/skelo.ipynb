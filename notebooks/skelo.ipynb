{
 "cells": [
  {
   "cell_type": "code",
   "execution_count": 1,
   "id": "889b3a4f-a533-47f5-bb4a-37324d2e342a",
   "metadata": {},
   "outputs": [],
   "source": [
    "import glob\n",
    "import numpy as np\n",
    "import pandas as pd\n",
    "\n",
    "from skelo.model.elo import EloEstimator"
   ]
  },
  {
   "cell_type": "code",
   "execution_count": 2,
   "id": "dee8012a-17b0-4e9b-91b0-c541983a849c",
   "metadata": {},
   "outputs": [
    {
     "name": "stdout",
     "output_type": "stream",
     "text": [
      "INFO: Pandarallel will run on 12 workers.\n",
      "INFO: Pandarallel will use Memory file system to transfer data between the main process and workers.\n"
     ]
    }
   ],
   "source": [
    "from pandarallel import pandarallel\n",
    "pandarallel.initialize(progress_bar=True, nb_workers=12)\n"
   ]
  },
  {
   "cell_type": "code",
   "execution_count": 3,
   "id": "f6af5bbb-8701-4b81-b2cd-3e3b77f9f824",
   "metadata": {},
   "outputs": [
    {
     "data": {
      "application/vnd.jupyter.widget-view+json": {
       "model_id": "c00b2581630f496aa6055e9c5d7ebbf6",
       "version_major": 2,
       "version_minor": 0
      },
      "text/plain": [
       "VBox(children=(HBox(children=(IntProgress(value=0, description='0.00%', max=9), Label(value='0 / 9'))), HBox(c…"
      ]
     },
     "metadata": {},
     "output_type": "display_data"
    }
   ],
   "source": [
    "df = pd.concat(pd.Series(glob.glob('/home/daniel/wizepair2/notebooks/elo/elo_input-*.json.gz')).parallel_apply(pd.read_json, lines=True).tolist())"
   ]
  },
  {
   "cell_type": "code",
   "execution_count": 4,
   "id": "0642f7d2-7db8-4569-96a4-fae866bb9306",
   "metadata": {},
   "outputs": [],
   "source": [
    "df.publication_date_greatest = pd.to_datetime(df.publication_date_greatest)\n",
    "df.sort_values('publication_date_greatest', inplace=True)\n",
    "df.reset_index(inplace=True, drop=True)"
   ]
  },
  {
   "cell_type": "code",
   "execution_count": 5,
   "id": "b3639e99-e2bb-4129-8164-c65c13090366",
   "metadata": {},
   "outputs": [],
   "source": [
    "df['label'] = df.standard_change=='increase'"
   ]
  },
  {
   "cell_type": "code",
   "execution_count": 6,
   "id": "cce3d449-1ed4-4b53-9d34-fc9a79b2a1c5",
   "metadata": {},
   "outputs": [
    {
     "data": {
      "text/html": [
       "<div>\n",
       "<style scoped>\n",
       "    .dataframe tbody tr th:only-of-type {\n",
       "        vertical-align: middle;\n",
       "    }\n",
       "\n",
       "    .dataframe tbody tr th {\n",
       "        vertical-align: top;\n",
       "    }\n",
       "\n",
       "    .dataframe thead th {\n",
       "        text-align: right;\n",
       "    }\n",
       "</style>\n",
       "<table border=\"1\" class=\"dataframe\">\n",
       "  <thead>\n",
       "    <tr style=\"text-align: right;\">\n",
       "      <th></th>\n",
       "      <th>wizepair2_uuid</th>\n",
       "      <th>assay_id</th>\n",
       "      <th>standard_type</th>\n",
       "      <th>standard_change</th>\n",
       "      <th>publication_date_greatest</th>\n",
       "      <th>fragment1</th>\n",
       "      <th>fragment2</th>\n",
       "      <th>radius</th>\n",
       "      <th>pref_name</th>\n",
       "      <th>chessleague_uuid</th>\n",
       "      <th>chessleague_partition</th>\n",
       "      <th>label</th>\n",
       "    </tr>\n",
       "  </thead>\n",
       "  <tbody>\n",
       "    <tr>\n",
       "      <th>0</th>\n",
       "      <td>b30e992c8539bf855032e7a111f76808</td>\n",
       "      <td>688756</td>\n",
       "      <td>Potency</td>\n",
       "      <td>decrease</td>\n",
       "      <td>1970-01-01</td>\n",
       "      <td>d32e61ed89b4e69e56c321ca2b171450</td>\n",
       "      <td>bcb676e9ba13f59b37f891ae87d2ec9b</td>\n",
       "      <td>1</td>\n",
       "      <td>MAP kinase ERK2</td>\n",
       "      <td>9b01963ec35d75c8da44c4e247e67911</td>\n",
       "      <td>22</td>\n",
       "      <td>False</td>\n",
       "    </tr>\n",
       "    <tr>\n",
       "      <th>1</th>\n",
       "      <td>4cbdbc310e5d3a312229150f68bb3f60</td>\n",
       "      <td>1915787</td>\n",
       "      <td>Inhibition</td>\n",
       "      <td>no-change</td>\n",
       "      <td>1970-01-01</td>\n",
       "      <td>3836bbb8c25d56650267be2226d0eab3</td>\n",
       "      <td>1c23458c2aa6464b8a5fd0861163ea91</td>\n",
       "      <td>1</td>\n",
       "      <td>Sulfide:quinone oxidoreductase, mitochondrial</td>\n",
       "      <td>8ae46a9f19a9c010e5c8dcfe88ffd670</td>\n",
       "      <td>24</td>\n",
       "      <td>False</td>\n",
       "    </tr>\n",
       "    <tr>\n",
       "      <th>2</th>\n",
       "      <td>1e84ed33a02e174bc64b91fd21d0f62c</td>\n",
       "      <td>1915787</td>\n",
       "      <td>Inhibition</td>\n",
       "      <td>decrease</td>\n",
       "      <td>1970-01-01</td>\n",
       "      <td>78f78afb1bb3d24b6a6279fcd75c2557</td>\n",
       "      <td>e1763067da4705d7f475739160178b12</td>\n",
       "      <td>1</td>\n",
       "      <td>Sulfide:quinone oxidoreductase, mitochondrial</td>\n",
       "      <td>8ae46a9f19a9c010e5c8dcfe88ffd670</td>\n",
       "      <td>24</td>\n",
       "      <td>False</td>\n",
       "    </tr>\n",
       "  </tbody>\n",
       "</table>\n",
       "</div>"
      ],
      "text/plain": [
       "                     wizepair2_uuid  assay_id standard_type standard_change  \\\n",
       "0  b30e992c8539bf855032e7a111f76808    688756       Potency        decrease   \n",
       "1  4cbdbc310e5d3a312229150f68bb3f60   1915787    Inhibition       no-change   \n",
       "2  1e84ed33a02e174bc64b91fd21d0f62c   1915787    Inhibition        decrease   \n",
       "\n",
       "  publication_date_greatest                         fragment1  \\\n",
       "0                1970-01-01  d32e61ed89b4e69e56c321ca2b171450   \n",
       "1                1970-01-01  3836bbb8c25d56650267be2226d0eab3   \n",
       "2                1970-01-01  78f78afb1bb3d24b6a6279fcd75c2557   \n",
       "\n",
       "                          fragment2  radius  \\\n",
       "0  bcb676e9ba13f59b37f891ae87d2ec9b       1   \n",
       "1  1c23458c2aa6464b8a5fd0861163ea91       1   \n",
       "2  e1763067da4705d7f475739160178b12       1   \n",
       "\n",
       "                                       pref_name  \\\n",
       "0                                MAP kinase ERK2   \n",
       "1  Sulfide:quinone oxidoreductase, mitochondrial   \n",
       "2  Sulfide:quinone oxidoreductase, mitochondrial   \n",
       "\n",
       "                   chessleague_uuid  chessleague_partition  label  \n",
       "0  9b01963ec35d75c8da44c4e247e67911                     22  False  \n",
       "1  8ae46a9f19a9c010e5c8dcfe88ffd670                     24  False  \n",
       "2  8ae46a9f19a9c010e5c8dcfe88ffd670                     24  False  "
      ]
     },
     "execution_count": 6,
     "metadata": {},
     "output_type": "execute_result"
    }
   ],
   "source": [
    "df.head(3)"
   ]
  },
  {
   "cell_type": "code",
   "execution_count": 7,
   "id": "242099ba-08c1-40e2-99f6-6e9349b8d6a2",
   "metadata": {},
   "outputs": [
    {
     "data": {
      "text/plain": [
       "0.00   1970-01-01\n",
       "0.05   1989-04-12\n",
       "0.50   2009-01-08\n",
       "0.95   2018-10-17\n",
       "1.00   2020-11-28\n",
       "Name: publication_date_greatest, dtype: datetime64[ns]"
      ]
     },
     "execution_count": 7,
     "metadata": {},
     "output_type": "execute_result"
    }
   ],
   "source": [
    "df.publication_date_greatest.quantile([0, 0.05, 0.5, 0.95, 1])"
   ]
  },
  {
   "cell_type": "code",
   "execution_count": 8,
   "id": "cd1027bc-56ff-4a72-b4b3-c2d56b9f2126",
   "metadata": {},
   "outputs": [
    {
     "data": {
      "text/plain": [
       "20120367"
      ]
     },
     "execution_count": 8,
     "metadata": {},
     "output_type": "execute_result"
    }
   ],
   "source": [
    "len(df.index)"
   ]
  },
  {
   "cell_type": "code",
   "execution_count": 9,
   "id": "b74024af-99df-48db-8dd9-b8fa02acce6f",
   "metadata": {},
   "outputs": [],
   "source": [
    "def elo(df, return_ratings=False):\n",
    "    \n",
    "    # create a table where winner / loser is defined\n",
    "    if df.empty: return None\n",
    "    \n",
    "    # fit model\n",
    "    model = EloEstimator(\n",
    "        key1_field=\"fragment1\",\n",
    "        key2_field=\"fragment2\",\n",
    "        timestamp_field=\"publication_date_greatest\",\n",
    "        initial_time=pd.to_datetime('1970-01-01'),\n",
    "        default_k=20\n",
    "    ).fit(df, df.label)\n",
    "    if return_ratings: return model.rating_model.to_frame()\n",
    "\n",
    "    # calculate proba\n",
    "    df['proba'] = model.transform(df, output_type='prob', strict_past_data=True)\n",
    "    return df[['assay_id', 'wizepair2_uuid', 'chessleague_uuid', 'proba', 'label']]\n",
    "    "
   ]
  },
  {
   "cell_type": "code",
   "execution_count": 10,
   "id": "6109cf72-d379-45ff-8ffa-c8c65618c2dc",
   "metadata": {},
   "outputs": [
    {
     "data": {
      "application/vnd.jupyter.widget-view+json": {
       "model_id": "80cf41dd1dcd4b56bad3c84d24f800a6",
       "version_major": 2,
       "version_minor": 0
      },
      "text/plain": [
       "VBox(children=(HBox(children=(IntProgress(value=0, description='0.00%', max=2540), Label(value='0 / 2540'))), …"
      ]
     },
     "metadata": {},
     "output_type": "display_data"
    }
   ],
   "source": [
    "df_elo = df.groupby(['chessleague_uuid']).parallel_apply(elo)"
   ]
  },
  {
   "cell_type": "code",
   "execution_count": 11,
   "id": "9255ac52-7c3d-4440-904a-1f70feb048b5",
   "metadata": {},
   "outputs": [
    {
     "data": {
      "text/plain": [
       "0.0    0.000002\n",
       "0.1    0.472074\n",
       "0.5    0.500000\n",
       "0.9    0.527926\n",
       "1.0    0.999998\n",
       "Name: proba, dtype: float64"
      ]
     },
     "execution_count": 11,
     "metadata": {},
     "output_type": "execute_result"
    }
   ],
   "source": [
    "df_elo.proba.quantile([0, 0.1, 0.5, 0.9, 1])"
   ]
  },
  {
   "cell_type": "code",
   "execution_count": 12,
   "id": "cdf52023-e7e0-4a58-8e6f-e8c1e35b0fb5",
   "metadata": {},
   "outputs": [
    {
     "data": {
      "text/plain": [
       "0.5726053672454434"
      ]
     },
     "execution_count": 12,
     "metadata": {},
     "output_type": "execute_result"
    }
   ],
   "source": [
    "from sklearn.metrics import roc_auc_score\n",
    "\n",
    "roc_auc_score(df_elo.label, df_elo.proba)"
   ]
  },
  {
   "cell_type": "code",
   "execution_count": 13,
   "id": "c05a1994-9c71-4809-b66d-1f14ecb001d2",
   "metadata": {},
   "outputs": [
    {
     "data": {
      "text/plain": [
       "<matplotlib.legend.Legend at 0x7f328a623a58>"
      ]
     },
     "execution_count": 13,
     "metadata": {},
     "output_type": "execute_result"
    },
    {
     "data": {
      "image/png": "[encoded data removed]",
      "text/plain": [
       "<Figure size 640x480 with 1 Axes>"
      ]
     },
     "metadata": {},
     "output_type": "display_data"
    }
   ],
   "source": [
    "import matplotlib.pyplot as plt\n",
    "from sklearn.calibration import calibration_curve\n",
    "\n",
    "prob_true, prob_pred = calibration_curve(\n",
    "  df_elo.label,\n",
    "  df_elo.proba,\n",
    "  n_bins=7\n",
    ")\n",
    "plt.plot(prob_pred, prob_true, label=f\"Elo Classifier\", marker='s', color='b')\n",
    "plt.plot([0, 1], [0, 1], label=\"Perfect Calibration\", ls=\":\", color='k')\n",
    "plt.xlabel(\"Predicted Probability\")\n",
    "plt.ylabel(\"Empirical Probability\")\n",
    "plt.legend()"
   ]
  },
  {
   "cell_type": "code",
   "execution_count": 14,
   "id": "9e14b157-9e64-4cbc-a937-61e1ed362a0c",
   "metadata": {},
   "outputs": [
    {
     "data": {
      "text/html": [
       "<div>\n",
       "<style scoped>\n",
       "    .dataframe tbody tr th:only-of-type {\n",
       "        vertical-align: middle;\n",
       "    }\n",
       "\n",
       "    .dataframe tbody tr th {\n",
       "        vertical-align: top;\n",
       "    }\n",
       "\n",
       "    .dataframe thead th {\n",
       "        text-align: right;\n",
       "    }\n",
       "</style>\n",
       "<table border=\"1\" class=\"dataframe\">\n",
       "  <thead>\n",
       "    <tr style=\"text-align: right;\">\n",
       "      <th></th>\n",
       "      <th></th>\n",
       "      <th>assay_id</th>\n",
       "      <th>wizepair2_uuid</th>\n",
       "      <th>chessleague_uuid</th>\n",
       "      <th>proba</th>\n",
       "      <th>label</th>\n",
       "    </tr>\n",
       "    <tr>\n",
       "      <th>chessleague_uuid</th>\n",
       "      <th></th>\n",
       "      <th></th>\n",
       "      <th></th>\n",
       "      <th></th>\n",
       "      <th></th>\n",
       "      <th></th>\n",
       "    </tr>\n",
       "  </thead>\n",
       "  <tbody>\n",
       "    <tr>\n",
       "      <th rowspan=\"11\" valign=\"top\">6cd65b5fa27be3b2b0b8643f4b4adcd1</th>\n",
       "      <th>17217385</th>\n",
       "      <td>1552240</td>\n",
       "      <td>660a5f32f3b87ff9eaac76d6ff98cf0b</td>\n",
       "      <td>6cd65b5fa27be3b2b0b8643f4b4adcd1</td>\n",
       "      <td>0.999998</td>\n",
       "      <td>True</td>\n",
       "    </tr>\n",
       "    <tr>\n",
       "      <th>18291833</th>\n",
       "      <td>1685271</td>\n",
       "      <td>660a5f32f3b87ff9eaac76d6ff98cf0b</td>\n",
       "      <td>6cd65b5fa27be3b2b0b8643f4b4adcd1</td>\n",
       "      <td>0.999998</td>\n",
       "      <td>True</td>\n",
       "    </tr>\n",
       "    <tr>\n",
       "      <th>17960062</th>\n",
       "      <td>1652370</td>\n",
       "      <td>660a5f32f3b87ff9eaac76d6ff98cf0b</td>\n",
       "      <td>6cd65b5fa27be3b2b0b8643f4b4adcd1</td>\n",
       "      <td>0.999998</td>\n",
       "      <td>True</td>\n",
       "    </tr>\n",
       "    <tr>\n",
       "      <th>17509530</th>\n",
       "      <td>1563412</td>\n",
       "      <td>660a5f32f3b87ff9eaac76d6ff98cf0b</td>\n",
       "      <td>6cd65b5fa27be3b2b0b8643f4b4adcd1</td>\n",
       "      <td>0.999998</td>\n",
       "      <td>True</td>\n",
       "    </tr>\n",
       "    <tr>\n",
       "      <th>17133957</th>\n",
       "      <td>1925022</td>\n",
       "      <td>660a5f32f3b87ff9eaac76d6ff98cf0b</td>\n",
       "      <td>6cd65b5fa27be3b2b0b8643f4b4adcd1</td>\n",
       "      <td>0.999998</td>\n",
       "      <td>True</td>\n",
       "    </tr>\n",
       "    <tr>\n",
       "      <th>...</th>\n",
       "      <td>...</td>\n",
       "      <td>...</td>\n",
       "      <td>...</td>\n",
       "      <td>...</td>\n",
       "      <td>...</td>\n",
       "    </tr>\n",
       "    <tr>\n",
       "      <th>17132993</th>\n",
       "      <td>1925022</td>\n",
       "      <td>fd0fe6b16e81218c3f233578a6056448</td>\n",
       "      <td>6cd65b5fa27be3b2b0b8643f4b4adcd1</td>\n",
       "      <td>0.000002</td>\n",
       "      <td>False</td>\n",
       "    </tr>\n",
       "    <tr>\n",
       "      <th>17510176</th>\n",
       "      <td>1563412</td>\n",
       "      <td>fd0fe6b16e81218c3f233578a6056448</td>\n",
       "      <td>6cd65b5fa27be3b2b0b8643f4b4adcd1</td>\n",
       "      <td>0.000002</td>\n",
       "      <td>False</td>\n",
       "    </tr>\n",
       "    <tr>\n",
       "      <th>17959942</th>\n",
       "      <td>1652370</td>\n",
       "      <td>fd0fe6b16e81218c3f233578a6056448</td>\n",
       "      <td>6cd65b5fa27be3b2b0b8643f4b4adcd1</td>\n",
       "      <td>0.000002</td>\n",
       "      <td>False</td>\n",
       "    </tr>\n",
       "    <tr>\n",
       "      <th>18291172</th>\n",
       "      <td>1685271</td>\n",
       "      <td>fd0fe6b16e81218c3f233578a6056448</td>\n",
       "      <td>6cd65b5fa27be3b2b0b8643f4b4adcd1</td>\n",
       "      <td>0.000002</td>\n",
       "      <td>False</td>\n",
       "    </tr>\n",
       "    <tr>\n",
       "      <th>17219172</th>\n",
       "      <td>1552240</td>\n",
       "      <td>fd0fe6b16e81218c3f233578a6056448</td>\n",
       "      <td>6cd65b5fa27be3b2b0b8643f4b4adcd1</td>\n",
       "      <td>0.000002</td>\n",
       "      <td>False</td>\n",
       "    </tr>\n",
       "  </tbody>\n",
       "</table>\n",
       "<p>20120367 rows × 5 columns</p>\n",
       "</div>"
      ],
      "text/plain": [
       "                                           assay_id  \\\n",
       "chessleague_uuid                                      \n",
       "6cd65b5fa27be3b2b0b8643f4b4adcd1 17217385   1552240   \n",
       "                                 18291833   1685271   \n",
       "                                 17960062   1652370   \n",
       "                                 17509530   1563412   \n",
       "                                 17133957   1925022   \n",
       "...                                             ...   \n",
       "                                 17132993   1925022   \n",
       "                                 17510176   1563412   \n",
       "                                 17959942   1652370   \n",
       "                                 18291172   1685271   \n",
       "                                 17219172   1552240   \n",
       "\n",
       "                                                             wizepair2_uuid  \\\n",
       "chessleague_uuid                                                              \n",
       "6cd65b5fa27be3b2b0b8643f4b4adcd1 17217385  660a5f32f3b87ff9eaac76d6ff98cf0b   \n",
       "                                 18291833  660a5f32f3b87ff9eaac76d6ff98cf0b   \n",
       "                                 17960062  660a5f32f3b87ff9eaac76d6ff98cf0b   \n",
       "                                 17509530  660a5f32f3b87ff9eaac76d6ff98cf0b   \n",
       "                                 17133957  660a5f32f3b87ff9eaac76d6ff98cf0b   \n",
       "...                                                                     ...   \n",
       "                                 17132993  fd0fe6b16e81218c3f233578a6056448   \n",
       "                                 17510176  fd0fe6b16e81218c3f233578a6056448   \n",
       "                                 17959942  fd0fe6b16e81218c3f233578a6056448   \n",
       "                                 18291172  fd0fe6b16e81218c3f233578a6056448   \n",
       "                                 17219172  fd0fe6b16e81218c3f233578a6056448   \n",
       "\n",
       "                                                           chessleague_uuid  \\\n",
       "chessleague_uuid                                                              \n",
       "6cd65b5fa27be3b2b0b8643f4b4adcd1 17217385  6cd65b5fa27be3b2b0b8643f4b4adcd1   \n",
       "                                 18291833  6cd65b5fa27be3b2b0b8643f4b4adcd1   \n",
       "                                 17960062  6cd65b5fa27be3b2b0b8643f4b4adcd1   \n",
       "                                 17509530  6cd65b5fa27be3b2b0b8643f4b4adcd1   \n",
       "                                 17133957  6cd65b5fa27be3b2b0b8643f4b4adcd1   \n",
       "...                                                                     ...   \n",
       "                                 17132993  6cd65b5fa27be3b2b0b8643f4b4adcd1   \n",
       "                                 17510176  6cd65b5fa27be3b2b0b8643f4b4adcd1   \n",
       "                                 17959942  6cd65b5fa27be3b2b0b8643f4b4adcd1   \n",
       "                                 18291172  6cd65b5fa27be3b2b0b8643f4b4adcd1   \n",
       "                                 17219172  6cd65b5fa27be3b2b0b8643f4b4adcd1   \n",
       "\n",
       "                                              proba  label  \n",
       "chessleague_uuid                                            \n",
       "6cd65b5fa27be3b2b0b8643f4b4adcd1 17217385  0.999998   True  \n",
       "                                 18291833  0.999998   True  \n",
       "                                 17960062  0.999998   True  \n",
       "                                 17509530  0.999998   True  \n",
       "                                 17133957  0.999998   True  \n",
       "...                                             ...    ...  \n",
       "                                 17132993  0.000002  False  \n",
       "                                 17510176  0.000002  False  \n",
       "                                 17959942  0.000002  False  \n",
       "                                 18291172  0.000002  False  \n",
       "                                 17219172  0.000002  False  \n",
       "\n",
       "[20120367 rows x 5 columns]"
      ]
     },
     "execution_count": 14,
     "metadata": {},
     "output_type": "execute_result"
    }
   ],
   "source": [
    "df_elo.sort_values('proba', ascending=False)"
   ]
  },
  {
   "cell_type": "code",
   "execution_count": 15,
   "id": "901d80bc-52f5-4300-b504-d91f4250850c",
   "metadata": {},
   "outputs": [
    {
     "data": {
      "application/vnd.jupyter.widget-view+json": {
       "model_id": "ad35569e49274ef3bb01acce8ef9c13b",
       "version_major": 2,
       "version_minor": 0
      },
      "text/plain": [
       "VBox(children=(HBox(children=(IntProgress(value=0, description='0.00%', max=2540), Label(value='0 / 2540'))), …"
      ]
     },
     "metadata": {},
     "output_type": "display_data"
    }
   ],
   "source": [
    "df_ratings = df.groupby(['chessleague_uuid']).parallel_apply(elo, return_ratings=True)"
   ]
  },
  {
   "cell_type": "code",
   "execution_count": 16,
   "id": "dd474ad5-090f-44f8-9404-837a4442c67c",
   "metadata": {},
   "outputs": [
    {
     "data": {
      "text/html": [
       "<div>\n",
       "<style scoped>\n",
       "    .dataframe tbody tr th:only-of-type {\n",
       "        vertical-align: middle;\n",
       "    }\n",
       "\n",
       "    .dataframe tbody tr th {\n",
       "        vertical-align: top;\n",
       "    }\n",
       "\n",
       "    .dataframe thead th {\n",
       "        text-align: right;\n",
       "    }\n",
       "</style>\n",
       "<table border=\"1\" class=\"dataframe\">\n",
       "  <thead>\n",
       "    <tr style=\"text-align: right;\">\n",
       "      <th></th>\n",
       "      <th></th>\n",
       "      <th>key</th>\n",
       "      <th>rating</th>\n",
       "      <th>valid_from</th>\n",
       "      <th>valid_to</th>\n",
       "    </tr>\n",
       "    <tr>\n",
       "      <th>chessleague_uuid</th>\n",
       "      <th></th>\n",
       "      <th></th>\n",
       "      <th></th>\n",
       "      <th></th>\n",
       "      <th></th>\n",
       "    </tr>\n",
       "  </thead>\n",
       "  <tbody>\n",
       "    <tr>\n",
       "      <th rowspan=\"5\" valign=\"top\">936b2ab0848ce64836a1671bab454d8a</th>\n",
       "      <th>26251</th>\n",
       "      <td>7d10e7b4bb13ce25d0cb6302f324cb69</td>\n",
       "      <td>2666.505280</td>\n",
       "      <td>2016-03-11</td>\n",
       "      <td>2016-03-11</td>\n",
       "    </tr>\n",
       "    <tr>\n",
       "      <th>26250</th>\n",
       "      <td>7d10e7b4bb13ce25d0cb6302f324cb69</td>\n",
       "      <td>2666.480502</td>\n",
       "      <td>2016-02-06</td>\n",
       "      <td>2016-03-11</td>\n",
       "    </tr>\n",
       "    <tr>\n",
       "      <th>26249</th>\n",
       "      <td>7d10e7b4bb13ce25d0cb6302f324cb69</td>\n",
       "      <td>2664.979245</td>\n",
       "      <td>2016-02-06</td>\n",
       "      <td>2016-02-06</td>\n",
       "    </tr>\n",
       "    <tr>\n",
       "      <th>26248</th>\n",
       "      <td>7d10e7b4bb13ce25d0cb6302f324cb69</td>\n",
       "      <td>2664.977952</td>\n",
       "      <td>2016-02-06</td>\n",
       "      <td>2016-02-06</td>\n",
       "    </tr>\n",
       "    <tr>\n",
       "      <th>26247</th>\n",
       "      <td>7d10e7b4bb13ce25d0cb6302f324cb69</td>\n",
       "      <td>2658.747969</td>\n",
       "      <td>2016-02-06</td>\n",
       "      <td>2016-02-06</td>\n",
       "    </tr>\n",
       "    <tr>\n",
       "      <th>...</th>\n",
       "      <th>...</th>\n",
       "      <td>...</td>\n",
       "      <td>...</td>\n",
       "      <td>...</td>\n",
       "      <td>...</td>\n",
       "    </tr>\n",
       "    <tr>\n",
       "      <th rowspan=\"5\" valign=\"top\">6cd65b5fa27be3b2b0b8643f4b4adcd1</th>\n",
       "      <th>4146</th>\n",
       "      <td>ddb06c57f407ae293015c2cccf877127</td>\n",
       "      <td>217.940557</td>\n",
       "      <td>2017-07-03</td>\n",
       "      <td>2017-07-03</td>\n",
       "    </tr>\n",
       "    <tr>\n",
       "      <th>4147</th>\n",
       "      <td>ddb06c57f407ae293015c2cccf877127</td>\n",
       "      <td>217.940457</td>\n",
       "      <td>2017-07-03</td>\n",
       "      <td>2017-07-03</td>\n",
       "    </tr>\n",
       "    <tr>\n",
       "      <th>4148</th>\n",
       "      <td>ddb06c57f407ae293015c2cccf877127</td>\n",
       "      <td>217.940424</td>\n",
       "      <td>2017-07-03</td>\n",
       "      <td>2017-07-03</td>\n",
       "    </tr>\n",
       "    <tr>\n",
       "      <th>4149</th>\n",
       "      <td>ddb06c57f407ae293015c2cccf877127</td>\n",
       "      <td>217.940325</td>\n",
       "      <td>2017-07-03</td>\n",
       "      <td>2017-07-03</td>\n",
       "    </tr>\n",
       "    <tr>\n",
       "      <th>4150</th>\n",
       "      <td>ddb06c57f407ae293015c2cccf877127</td>\n",
       "      <td>217.940292</td>\n",
       "      <td>2017-07-03</td>\n",
       "      <td>NaT</td>\n",
       "    </tr>\n",
       "  </tbody>\n",
       "</table>\n",
       "<p>45018069 rows × 4 columns</p>\n",
       "</div>"
      ],
      "text/plain": [
       "                                                                     key  \\\n",
       "chessleague_uuid                                                           \n",
       "936b2ab0848ce64836a1671bab454d8a 26251  7d10e7b4bb13ce25d0cb6302f324cb69   \n",
       "                                 26250  7d10e7b4bb13ce25d0cb6302f324cb69   \n",
       "                                 26249  7d10e7b4bb13ce25d0cb6302f324cb69   \n",
       "                                 26248  7d10e7b4bb13ce25d0cb6302f324cb69   \n",
       "                                 26247  7d10e7b4bb13ce25d0cb6302f324cb69   \n",
       "...                                                                  ...   \n",
       "6cd65b5fa27be3b2b0b8643f4b4adcd1 4146   ddb06c57f407ae293015c2cccf877127   \n",
       "                                 4147   ddb06c57f407ae293015c2cccf877127   \n",
       "                                 4148   ddb06c57f407ae293015c2cccf877127   \n",
       "                                 4149   ddb06c57f407ae293015c2cccf877127   \n",
       "                                 4150   ddb06c57f407ae293015c2cccf877127   \n",
       "\n",
       "                                             rating valid_from   valid_to  \n",
       "chessleague_uuid                                                           \n",
       "936b2ab0848ce64836a1671bab454d8a 26251  2666.505280 2016-03-11 2016-03-11  \n",
       "                                 26250  2666.480502 2016-02-06 2016-03-11  \n",
       "                                 26249  2664.979245 2016-02-06 2016-02-06  \n",
       "                                 26248  2664.977952 2016-02-06 2016-02-06  \n",
       "                                 26247  2658.747969 2016-02-06 2016-02-06  \n",
       "...                                             ...        ...        ...  \n",
       "6cd65b5fa27be3b2b0b8643f4b4adcd1 4146    217.940557 2017-07-03 2017-07-03  \n",
       "                                 4147    217.940457 2017-07-03 2017-07-03  \n",
       "                                 4148    217.940424 2017-07-03 2017-07-03  \n",
       "                                 4149    217.940325 2017-07-03 2017-07-03  \n",
       "                                 4150    217.940292 2017-07-03        NaT  \n",
       "\n",
       "[45018069 rows x 4 columns]"
      ]
     },
     "execution_count": 16,
     "metadata": {},
     "output_type": "execute_result"
    }
   ],
   "source": [
    "df_ratings.sort_values('rating', ascending=False)"
   ]
  },
  {
   "cell_type": "code",
   "execution_count": 17,
   "id": "45c5e696-812e-4d57-9c89-2f0bc1ceffe3",
   "metadata": {},
   "outputs": [],
   "source": [
    "df_ratings[df_ratings.valid_to.isna()].to_csv('/home/daniel/wizepair2/elo_ratings.csv.gz', compression='gzip')"
   ]
  },
  {
   "cell_type": "code",
   "execution_count": null,
   "id": "d8decea7-2613-4f14-be37-2345e26c0b6f",
   "metadata": {},
   "outputs": [],
   "source": []
  }
 ],
 "metadata": {
  "kernelspec": {
   "display_name": "Python 3 (ipykernel)",
   "language": "python",
   "name": "python3"
  },
  "language_info": {
   "codemirror_mode": {
    "name": "ipython",
    "version": 3
   },
   "file_extension": ".py",
   "mimetype": "text/x-python",
   "name": "python",
   "nbconvert_exporter": "python",
   "pygments_lexer": "ipython3",
   "version": "3.7.0"
  }
 },
 "nbformat": 4,
 "nbformat_minor": 5
}
