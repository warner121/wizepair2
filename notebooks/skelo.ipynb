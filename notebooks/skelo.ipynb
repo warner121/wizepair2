{
 "cells": [
  {
   "cell_type": "code",
   "execution_count": 1,
   "id": "889b3a4f-a533-47f5-bb4a-37324d2e342a",
   "metadata": {},
   "outputs": [],
   "source": [
    "import glob\n",
    "import numpy as np\n",
    "import pandas as pd\n",
    "\n",
    "from skelo.model.elo import EloEstimator"
   ]
  },
  {
   "cell_type": "code",
   "execution_count": 2,
   "id": "dee8012a-17b0-4e9b-91b0-c541983a849c",
   "metadata": {},
   "outputs": [
    {
     "name": "stdout",
     "output_type": "stream",
     "text": [
      "INFO: Pandarallel will run on 12 workers.\n",
      "INFO: Pandarallel will use Memory file system to transfer data between the main process and workers.\n"
     ]
    }
   ],
   "source": [
    "from pandarallel import pandarallel\n",
    "pandarallel.initialize(progress_bar=True, nb_workers=12)"
   ]
  },
  {
   "cell_type": "code",
   "execution_count": 3,
   "id": "647a5537-77d5-4a19-bc2d-4e235a388141",
   "metadata": {},
   "outputs": [
    {
     "data": {
      "application/vnd.jupyter.widget-view+json": {
       "model_id": "4a7e4cc84f404ce283fe1822224c28e4",
       "version_major": 2,
       "version_minor": 0
      },
      "text/plain": [
       "VBox(children=(HBox(children=(IntProgress(value=0, description='0.00%', max=84), Label(value='0 / 84'))), HBox…"
      ]
     },
     "metadata": {},
     "output_type": "display_data"
    }
   ],
   "source": [
    "infiles = pd.Series(glob.glob('/home/daniel/wizepair2/notebooks/elo/elo-*.csv.gz'))\n",
    "df = pd.concat(infiles.parallel_apply(pd.read_csv, compression='gzip').tolist()).sample(frac=0.2, replace=True)"
   ]
  },
  {
   "cell_type": "code",
   "execution_count": 4,
   "id": "0642f7d2-7db8-4569-96a4-fae866bb9306",
   "metadata": {},
   "outputs": [],
   "source": [
    "df.publication_date_greatest = pd.to_datetime(df.publication_date_greatest)\n",
    "df.sort_values('publication_date_greatest', inplace=True)\n",
    "df.reset_index(inplace=True, drop=True)"
   ]
  },
  {
   "cell_type": "code",
   "execution_count": 5,
   "id": "b3639e99-e2bb-4129-8164-c65c13090366",
   "metadata": {},
   "outputs": [],
   "source": [
    "df['label'] = df.standard_change=='increase'"
   ]
  },
  {
   "cell_type": "code",
   "execution_count": 6,
   "id": "cce3d449-1ed4-4b53-9d34-fc9a79b2a1c5",
   "metadata": {},
   "outputs": [
    {
     "data": {
      "text/html": [
       "<div>\n",
       "<style scoped>\n",
       "    .dataframe tbody tr th:only-of-type {\n",
       "        vertical-align: middle;\n",
       "    }\n",
       "\n",
       "    .dataframe tbody tr th {\n",
       "        vertical-align: top;\n",
       "    }\n",
       "\n",
       "    .dataframe thead th {\n",
       "        text-align: right;\n",
       "    }\n",
       "</style>\n",
       "<table border=\"1\" class=\"dataframe\">\n",
       "  <thead>\n",
       "    <tr style=\"text-align: right;\">\n",
       "      <th></th>\n",
       "      <th>mmp_delta_uuid</th>\n",
       "      <th>assay_id</th>\n",
       "      <th>standard_type</th>\n",
       "      <th>standard_change</th>\n",
       "      <th>doc_id_greatest</th>\n",
       "      <th>publication_date_greatest</th>\n",
       "      <th>fragment1</th>\n",
       "      <th>fragment2</th>\n",
       "      <th>radius</th>\n",
       "      <th>pref_name</th>\n",
       "      <th>chessleague_uuid</th>\n",
       "      <th>doc_id_partition</th>\n",
       "      <th>label</th>\n",
       "    </tr>\n",
       "  </thead>\n",
       "  <tbody>\n",
       "    <tr>\n",
       "      <th>0</th>\n",
       "      <td>b8334fe5cf257c1871039602d533ce86</td>\n",
       "      <td>688107</td>\n",
       "      <td>IC50</td>\n",
       "      <td>increase</td>\n",
       "      <td>51887</td>\n",
       "      <td>1970-01-01</td>\n",
       "      <td>c41797e20650da06faef1019e2326091</td>\n",
       "      <td>3202cbbb94f86e917c3deee0dedb0cd3</td>\n",
       "      <td>3</td>\n",
       "      <td>ANY</td>\n",
       "      <td>6ad84f51535ccddcdf2e33ff9a840bd6</td>\n",
       "      <td>887</td>\n",
       "      <td>True</td>\n",
       "    </tr>\n",
       "    <tr>\n",
       "      <th>1</th>\n",
       "      <td>d2dfb8290127170291c8867c4b609a91</td>\n",
       "      <td>954324</td>\n",
       "      <td>IC50</td>\n",
       "      <td>decrease</td>\n",
       "      <td>51887</td>\n",
       "      <td>1970-01-01</td>\n",
       "      <td>69c025f823dde052472d0029f082fe4c</td>\n",
       "      <td>fe0ccb930f4a5b47df1bee5aa747dce3</td>\n",
       "      <td>4</td>\n",
       "      <td>ANY</td>\n",
       "      <td>168e6b30b67ecef449a5b66f4801d387</td>\n",
       "      <td>887</td>\n",
       "      <td>False</td>\n",
       "    </tr>\n",
       "    <tr>\n",
       "      <th>2</th>\n",
       "      <td>217194329a1f5c7111cc621fa2b51f91</td>\n",
       "      <td>1301869</td>\n",
       "      <td>AC50</td>\n",
       "      <td>increase</td>\n",
       "      <td>51887</td>\n",
       "      <td>1970-01-01</td>\n",
       "      <td>6b5091712c34b61cf99cea3c7ef15225</td>\n",
       "      <td>2ed8adc1514b7adacd95007d22d7658c</td>\n",
       "      <td>2</td>\n",
       "      <td>ANY</td>\n",
       "      <td>7ae53ed0d2696672f11b2e98320bed24</td>\n",
       "      <td>887</td>\n",
       "      <td>True</td>\n",
       "    </tr>\n",
       "  </tbody>\n",
       "</table>\n",
       "</div>"
      ],
      "text/plain": [
       "                     mmp_delta_uuid  assay_id standard_type standard_change  \\\n",
       "0  b8334fe5cf257c1871039602d533ce86    688107          IC50        increase   \n",
       "1  d2dfb8290127170291c8867c4b609a91    954324          IC50        decrease   \n",
       "2  217194329a1f5c7111cc621fa2b51f91   1301869          AC50        increase   \n",
       "\n",
       "   doc_id_greatest publication_date_greatest  \\\n",
       "0            51887                1970-01-01   \n",
       "1            51887                1970-01-01   \n",
       "2            51887                1970-01-01   \n",
       "\n",
       "                          fragment1                         fragment2  radius  \\\n",
       "0  c41797e20650da06faef1019e2326091  3202cbbb94f86e917c3deee0dedb0cd3       3   \n",
       "1  69c025f823dde052472d0029f082fe4c  fe0ccb930f4a5b47df1bee5aa747dce3       4   \n",
       "2  6b5091712c34b61cf99cea3c7ef15225  2ed8adc1514b7adacd95007d22d7658c       2   \n",
       "\n",
       "  pref_name                  chessleague_uuid  doc_id_partition  label  \n",
       "0       ANY  6ad84f51535ccddcdf2e33ff9a840bd6               887   True  \n",
       "1       ANY  168e6b30b67ecef449a5b66f4801d387               887  False  \n",
       "2       ANY  7ae53ed0d2696672f11b2e98320bed24               887   True  "
      ]
     },
     "execution_count": 6,
     "metadata": {},
     "output_type": "execute_result"
    }
   ],
   "source": [
    "df.head(3)"
   ]
  },
  {
   "cell_type": "code",
   "execution_count": 7,
   "id": "242099ba-08c1-40e2-99f6-6e9349b8d6a2",
   "metadata": {},
   "outputs": [
    {
     "data": {
      "text/plain": [
       "0.00   1970-01-01\n",
       "0.05   1990-08-05\n",
       "0.50   2010-01-21\n",
       "0.95   2019-02-03\n",
       "1.00   2021-01-01\n",
       "Name: publication_date_greatest, dtype: datetime64[ns]"
      ]
     },
     "execution_count": 7,
     "metadata": {},
     "output_type": "execute_result"
    }
   ],
   "source": [
    "df.publication_date_greatest.quantile([0, 0.05, 0.5, 0.95, 1])"
   ]
  },
  {
   "cell_type": "code",
   "execution_count": 8,
   "id": "cd1027bc-56ff-4a72-b4b3-c2d56b9f2126",
   "metadata": {},
   "outputs": [
    {
     "data": {
      "text/plain": [
       "18748231"
      ]
     },
     "execution_count": 8,
     "metadata": {},
     "output_type": "execute_result"
    }
   ],
   "source": [
    "len(df.index)"
   ]
  },
  {
   "cell_type": "code",
   "execution_count": 9,
   "id": "eb5b3015-7938-498f-8206-d67152b8d3f4",
   "metadata": {},
   "outputs": [],
   "source": [
    "from sklearn.model_selection import GridSearchCV\n",
    "\n",
    "def elo_grid(df, return_ratings=False):\n",
    "    \n",
    "    # create a table where winner / loser is defined\n",
    "    df = df.copy(deep=True).reset_index()\n",
    "    if df.empty: return None\n",
    "\n",
    "    model = EloEstimator(\n",
    "            key1_field=\"fragment1\",\n",
    "            key2_field=\"fragment2\",\n",
    "            timestamp_field=\"publication_date_greatest\",\n",
    "            initial_time=pd.to_datetime('1970-01-01')\n",
    "    )\n",
    "\n",
    "    clf = GridSearchCV(\n",
    "        model,\n",
    "        param_grid={'default_k': [5, 10, 20, 40, 80, 160, 320]},\n",
    "        refit=False,\n",
    "        cv=[(df.index, df.index)],\n",
    "        scoring='accuracy'\n",
    "    ).fit(df, df['label'])\n",
    "\n",
    "    return pd.DataFrame(clf.cv_results_)"
   ]
  },
  {
   "cell_type": "code",
   "execution_count": 10,
   "id": "c97e4e65-0362-476d-9150-3add983b253c",
   "metadata": {},
   "outputs": [
    {
     "data": {
      "application/vnd.jupyter.widget-view+json": {
       "model_id": "ccaef852db7e4744abfdc10fa94c5cdb",
       "version_major": 2,
       "version_minor": 0
      },
      "text/plain": [
       "VBox(children=(HBox(children=(IntProgress(value=0, description='0.00%', max=2363), Label(value='0 / 2363'))), …"
      ]
     },
     "metadata": {},
     "output_type": "display_data"
    },
    {
     "name": "stderr",
     "output_type": "stream",
     "text": [
      "/home/daniel/anaconda3/envs/wizepair-env/lib/python3.7/site-packages/sklearn/model_selection/_validation.py:372: FitFailedWarning: \n",
      "1 fits failed out of a total of 7.\n",
      "The score on these train-test partitions for these parameters will be set to nan.\n",
      "If these failures are not expected, you can try to debug them by setting error_score='raise'.\n",
      "\n",
      "Below are more details about the failures:\n",
      "--------------------------------------------------------------------------------\n",
      "1 fits failed with the following error:\n",
      "Traceback (most recent call last):\n",
      "  File \"/home/daniel/anaconda3/envs/wizepair-env/lib/python3.7/site-packages/sklearn/model_selection/_validation.py\", line 680, in _fit_and_score\n",
      "    estimator.fit(X_train, y_train, **fit_params)\n",
      "  File \"/home/daniel/anaconda3/envs/wizepair-env/lib/python3.7/site-packages/skelo/model/base.py\", line 460, in fit\n",
      "    self.rating_model.update(winner, loser, timestamp)\n",
      "  File \"/home/daniel/anaconda3/envs/wizepair-env/lib/python3.7/site-packages/skelo/model/base.py\", line 204, in update\n",
      "    'rating': self.evolve_rating(r1['rating'], r2['rating'], label=1),\n",
      "  File \"/home/daniel/anaconda3/envs/wizepair-env/lib/python3.7/site-packages/skelo/model/elo.py\", line 61, in evolve_rating\n",
      "    exp = self.compute_prob(r1, r2)\n",
      "  File \"/home/daniel/anaconda3/envs/wizepair-env/lib/python3.7/site-packages/skelo/model/elo.py\", line 70, in compute_prob\n",
      "    prob = 1.0 / (1 + 10**diff)\n",
      "OverflowError: (34, 'Numerical result out of range')\n",
      "\n",
      "  warnings.warn(some_fits_failed_message, FitFailedWarning)\n",
      "/home/daniel/anaconda3/envs/wizepair-env/lib/python3.7/site-packages/sklearn/model_selection/_search.py:972: UserWarning: One or more of the test scores are non-finite: [0.53326889 0.53058558 0.52832705 0.52710685 0.52443612 0.52297805\n",
      "        nan]\n",
      "  category=UserWarning,\n"
     ]
    }
   ],
   "source": [
    "df_elo_grid = df.groupby(['chessleague_uuid']).parallel_apply(elo_grid)"
   ]
  },
  {
   "cell_type": "code",
   "execution_count": 11,
   "id": "9086c2a5-26d0-4bcd-95ea-ff89a51a1428",
   "metadata": {},
   "outputs": [
    {
     "data": {
      "text/html": [
       "<div>\n",
       "<style scoped>\n",
       "    .dataframe tbody tr th:only-of-type {\n",
       "        vertical-align: middle;\n",
       "    }\n",
       "\n",
       "    .dataframe tbody tr th {\n",
       "        vertical-align: top;\n",
       "    }\n",
       "\n",
       "    .dataframe thead th {\n",
       "        text-align: right;\n",
       "    }\n",
       "</style>\n",
       "<table border=\"1\" class=\"dataframe\">\n",
       "  <thead>\n",
       "    <tr style=\"text-align: right;\">\n",
       "      <th></th>\n",
       "      <th>mean_fit_time</th>\n",
       "      <th>std_fit_time</th>\n",
       "      <th>mean_score_time</th>\n",
       "      <th>std_score_time</th>\n",
       "      <th>split0_test_score</th>\n",
       "      <th>mean_test_score</th>\n",
       "      <th>std_test_score</th>\n",
       "      <th>rank_test_score</th>\n",
       "    </tr>\n",
       "    <tr>\n",
       "      <th>param_default_k</th>\n",
       "      <th></th>\n",
       "      <th></th>\n",
       "      <th></th>\n",
       "      <th></th>\n",
       "      <th></th>\n",
       "      <th></th>\n",
       "      <th></th>\n",
       "      <th></th>\n",
       "    </tr>\n",
       "  </thead>\n",
       "  <tbody>\n",
       "    <tr>\n",
       "      <th>5</th>\n",
       "      <td>0.002525</td>\n",
       "      <td>0.0</td>\n",
       "      <td>0.003747</td>\n",
       "      <td>0.0</td>\n",
       "      <td>0.501247</td>\n",
       "      <td>0.501247</td>\n",
       "      <td>0.0</td>\n",
       "      <td>1.0</td>\n",
       "    </tr>\n",
       "    <tr>\n",
       "      <th>10</th>\n",
       "      <td>0.002281</td>\n",
       "      <td>0.0</td>\n",
       "      <td>0.003698</td>\n",
       "      <td>0.0</td>\n",
       "      <td>0.501276</td>\n",
       "      <td>0.501276</td>\n",
       "      <td>0.0</td>\n",
       "      <td>1.0</td>\n",
       "    </tr>\n",
       "    <tr>\n",
       "      <th>20</th>\n",
       "      <td>0.002268</td>\n",
       "      <td>0.0</td>\n",
       "      <td>0.003691</td>\n",
       "      <td>0.0</td>\n",
       "      <td>0.501282</td>\n",
       "      <td>0.501282</td>\n",
       "      <td>0.0</td>\n",
       "      <td>1.0</td>\n",
       "    </tr>\n",
       "    <tr>\n",
       "      <th>40</th>\n",
       "      <td>0.002266</td>\n",
       "      <td>0.0</td>\n",
       "      <td>0.003697</td>\n",
       "      <td>0.0</td>\n",
       "      <td>0.501246</td>\n",
       "      <td>0.501246</td>\n",
       "      <td>0.0</td>\n",
       "      <td>1.0</td>\n",
       "    </tr>\n",
       "    <tr>\n",
       "      <th>80</th>\n",
       "      <td>0.002269</td>\n",
       "      <td>0.0</td>\n",
       "      <td>0.003669</td>\n",
       "      <td>0.0</td>\n",
       "      <td>0.501241</td>\n",
       "      <td>0.501241</td>\n",
       "      <td>0.0</td>\n",
       "      <td>1.0</td>\n",
       "    </tr>\n",
       "    <tr>\n",
       "      <th>160</th>\n",
       "      <td>0.002267</td>\n",
       "      <td>0.0</td>\n",
       "      <td>0.003670</td>\n",
       "      <td>0.0</td>\n",
       "      <td>0.501277</td>\n",
       "      <td>0.501277</td>\n",
       "      <td>0.0</td>\n",
       "      <td>1.0</td>\n",
       "    </tr>\n",
       "    <tr>\n",
       "      <th>320</th>\n",
       "      <td>0.002258</td>\n",
       "      <td>0.0</td>\n",
       "      <td>0.003668</td>\n",
       "      <td>0.0</td>\n",
       "      <td>0.501241</td>\n",
       "      <td>0.501241</td>\n",
       "      <td>0.0</td>\n",
       "      <td>1.0</td>\n",
       "    </tr>\n",
       "  </tbody>\n",
       "</table>\n",
       "</div>"
      ],
      "text/plain": [
       "                 mean_fit_time  std_fit_time  mean_score_time  std_score_time  \\\n",
       "param_default_k                                                                 \n",
       "5                     0.002525           0.0         0.003747             0.0   \n",
       "10                    0.002281           0.0         0.003698             0.0   \n",
       "20                    0.002268           0.0         0.003691             0.0   \n",
       "40                    0.002266           0.0         0.003697             0.0   \n",
       "80                    0.002269           0.0         0.003669             0.0   \n",
       "160                   0.002267           0.0         0.003670             0.0   \n",
       "320                   0.002258           0.0         0.003668             0.0   \n",
       "\n",
       "                 split0_test_score  mean_test_score  std_test_score  \\\n",
       "param_default_k                                                       \n",
       "5                         0.501247         0.501247             0.0   \n",
       "10                        0.501276         0.501276             0.0   \n",
       "20                        0.501282         0.501282             0.0   \n",
       "40                        0.501246         0.501246             0.0   \n",
       "80                        0.501241         0.501241             0.0   \n",
       "160                       0.501277         0.501277             0.0   \n",
       "320                       0.501241         0.501241             0.0   \n",
       "\n",
       "                 rank_test_score  \n",
       "param_default_k                   \n",
       "5                            1.0  \n",
       "10                           1.0  \n",
       "20                           1.0  \n",
       "40                           1.0  \n",
       "80                           1.0  \n",
       "160                          1.0  \n",
       "320                          1.0  "
      ]
     },
     "execution_count": 11,
     "metadata": {},
     "output_type": "execute_result"
    }
   ],
   "source": [
    "df_elo_grid.groupby('param_default_k').median()"
   ]
  },
  {
   "cell_type": "code",
   "execution_count": 9,
   "id": "b74024af-99df-48db-8dd9-b8fa02acce6f",
   "metadata": {},
   "outputs": [],
   "source": [
    "def elo(df, return_ratings=False):\n",
    "    \n",
    "    # create a table where winner / loser is defined\n",
    "    if df.empty: return None\n",
    "    \n",
    "    # fit model\n",
    "    model = EloEstimator(\n",
    "        key1_field=\"fragment1\",\n",
    "        key2_field=\"fragment2\",\n",
    "        timestamp_field=\"publication_date_greatest\",\n",
    "        initial_time=pd.to_datetime('1970-01-01'),\n",
    "        default_k=10\n",
    "    ).fit(df, df.label)\n",
    "    if return_ratings: return model.rating_model.to_frame()\n",
    "\n",
    "    # calculate proba\n",
    "    df['proba'] = model.transform(df, output_type='prob', strict_past_data=True)\n",
    "    return df[['assay_id', 'mmp_delta_uuid', 'chessleague_uuid', 'proba', 'label']]\n",
    "    "
   ]
  },
  {
   "cell_type": "code",
   "execution_count": 10,
   "id": "6109cf72-d379-45ff-8ffa-c8c65618c2dc",
   "metadata": {},
   "outputs": [
    {
     "data": {
      "application/vnd.jupyter.widget-view+json": {
       "model_id": "f1b39495b68f4f0d93d6d9a4a31e6d48",
       "version_major": 2,
       "version_minor": 0
      },
      "text/plain": [
       "VBox(children=(HBox(children=(IntProgress(value=0, description='0.00%', max=3237), Label(value='0 / 3237'))), …"
      ]
     },
     "metadata": {},
     "output_type": "display_data"
    }
   ],
   "source": [
    "df_elo = df.groupby(['chessleague_uuid']).parallel_apply(elo)"
   ]
  },
  {
   "cell_type": "code",
   "execution_count": 11,
   "id": "9255ac52-7c3d-4440-904a-1f70feb048b5",
   "metadata": {},
   "outputs": [
    {
     "data": {
      "text/plain": [
       "0.0    0.000034\n",
       "0.1    0.481089\n",
       "0.5    0.500000\n",
       "0.9    0.519398\n",
       "1.0    1.000000\n",
       "Name: proba, dtype: float64"
      ]
     },
     "execution_count": 11,
     "metadata": {},
     "output_type": "execute_result"
    }
   ],
   "source": [
    "df_elo.proba.quantile([0, 0.1, 0.5, 0.9, 1])"
   ]
  },
  {
   "cell_type": "code",
   "execution_count": 12,
   "id": "cdf52023-e7e0-4a58-8e6f-e8c1e35b0fb5",
   "metadata": {},
   "outputs": [
    {
     "data": {
      "text/plain": [
       "0.5511807094552735"
      ]
     },
     "execution_count": 12,
     "metadata": {},
     "output_type": "execute_result"
    }
   ],
   "source": [
    "from sklearn.metrics import roc_auc_score\n",
    "\n",
    "roc_auc_score(df_elo.label, df_elo.proba)"
   ]
  },
  {
   "cell_type": "code",
   "execution_count": 13,
   "id": "c05a1994-9c71-4809-b66d-1f14ecb001d2",
   "metadata": {},
   "outputs": [
    {
     "data": {
      "text/plain": [
       "<matplotlib.legend.Legend at 0x7f6314e39cc0>"
      ]
     },
     "execution_count": 13,
     "metadata": {},
     "output_type": "execute_result"
    },
    {
     "data": {
      "image/png": "[encoded data removed]",
      "text/plain": [
       "<Figure size 640x480 with 1 Axes>"
      ]
     },
     "metadata": {},
     "output_type": "display_data"
    }
   ],
   "source": [
    "import matplotlib.pyplot as plt\n",
    "from sklearn.calibration import calibration_curve\n",
    "\n",
    "prob_true, prob_pred = calibration_curve(\n",
    "  df_elo.label,\n",
    "  df_elo.proba,\n",
    "  n_bins=7\n",
    ")\n",
    "plt.plot(prob_pred, prob_true, label=f\"Elo Classifier\", marker='s', color='b')\n",
    "plt.plot([0, 1], [0, 1], label=\"Perfect Calibration\", ls=\":\", color='k')\n",
    "plt.xlabel(\"Predicted Probability\")\n",
    "plt.ylabel(\"Empirical Probability\")\n",
    "plt.legend()"
   ]
  },
  {
   "cell_type": "code",
   "execution_count": 17,
   "id": "9e14b157-9e64-4cbc-a937-61e1ed362a0c",
   "metadata": {},
   "outputs": [
    {
     "data": {
      "text/html": [
       "<div>\n",
       "<style scoped>\n",
       "    .dataframe tbody tr th:only-of-type {\n",
       "        vertical-align: middle;\n",
       "    }\n",
       "\n",
       "    .dataframe tbody tr th {\n",
       "        vertical-align: top;\n",
       "    }\n",
       "\n",
       "    .dataframe thead th {\n",
       "        text-align: right;\n",
       "    }\n",
       "</style>\n",
       "<table border=\"1\" class=\"dataframe\">\n",
       "  <thead>\n",
       "    <tr style=\"text-align: right;\">\n",
       "      <th></th>\n",
       "      <th></th>\n",
       "      <th>assay_id</th>\n",
       "      <th>mmp_delta_uuid</th>\n",
       "      <th>chessleague_uuid</th>\n",
       "      <th>proba</th>\n",
       "      <th>label</th>\n",
       "    </tr>\n",
       "    <tr>\n",
       "      <th>chessleague_uuid</th>\n",
       "      <th></th>\n",
       "      <th></th>\n",
       "      <th></th>\n",
       "      <th></th>\n",
       "      <th></th>\n",
       "      <th></th>\n",
       "    </tr>\n",
       "  </thead>\n",
       "  <tbody>\n",
       "    <tr>\n",
       "      <th rowspan=\"11\" valign=\"top\">7f2737dddb558e0912a66198bf7f00d6</th>\n",
       "      <th>34375246</th>\n",
       "      <td>1285832</td>\n",
       "      <td>74ed8605746005833089cbac5d31a4aa</td>\n",
       "      <td>7f2737dddb558e0912a66198bf7f00d6</td>\n",
       "      <td>1.000000e+00</td>\n",
       "      <td>False</td>\n",
       "    </tr>\n",
       "    <tr>\n",
       "      <th>40755928</th>\n",
       "      <td>1648485</td>\n",
       "      <td>a0d18fc9a2dc165e13ed2f49ec89b723</td>\n",
       "      <td>7f2737dddb558e0912a66198bf7f00d6</td>\n",
       "      <td>1.000000e+00</td>\n",
       "      <td>True</td>\n",
       "    </tr>\n",
       "    <tr>\n",
       "      <th>41415502</th>\n",
       "      <td>1685777</td>\n",
       "      <td>c9c411436d426b44654f2cae6fb4935f</td>\n",
       "      <td>7f2737dddb558e0912a66198bf7f00d6</td>\n",
       "      <td>1.000000e+00</td>\n",
       "      <td>False</td>\n",
       "    </tr>\n",
       "    <tr>\n",
       "      <th>41415505</th>\n",
       "      <td>1685776</td>\n",
       "      <td>79c649f4236a3116418dcd8ccd02c794</td>\n",
       "      <td>7f2737dddb558e0912a66198bf7f00d6</td>\n",
       "      <td>1.000000e+00</td>\n",
       "      <td>True</td>\n",
       "    </tr>\n",
       "    <tr>\n",
       "      <th>34375213</th>\n",
       "      <td>1285832</td>\n",
       "      <td>9a80a09c246f5d629f49a0917a466e37</td>\n",
       "      <td>7f2737dddb558e0912a66198bf7f00d6</td>\n",
       "      <td>1.000000e+00</td>\n",
       "      <td>False</td>\n",
       "    </tr>\n",
       "    <tr>\n",
       "      <th>...</th>\n",
       "      <td>...</td>\n",
       "      <td>...</td>\n",
       "      <td>...</td>\n",
       "      <td>...</td>\n",
       "      <td>...</td>\n",
       "    </tr>\n",
       "    <tr>\n",
       "      <th>44051319</th>\n",
       "      <td>1812209</td>\n",
       "      <td>7f2e2506f4f8ac2d4f3031f65d309549</td>\n",
       "      <td>7f2737dddb558e0912a66198bf7f00d6</td>\n",
       "      <td>2.818383e-31</td>\n",
       "      <td>True</td>\n",
       "    </tr>\n",
       "    <tr>\n",
       "      <th>44050567</th>\n",
       "      <td>1812208</td>\n",
       "      <td>f7e7ff759620dc9e3028b205a02bf516</td>\n",
       "      <td>7f2737dddb558e0912a66198bf7f00d6</td>\n",
       "      <td>2.818383e-31</td>\n",
       "      <td>True</td>\n",
       "    </tr>\n",
       "    <tr>\n",
       "      <th>44050568</th>\n",
       "      <td>1812209</td>\n",
       "      <td>99a7594ca21b3fed16c543467954be2e</td>\n",
       "      <td>7f2737dddb558e0912a66198bf7f00d6</td>\n",
       "      <td>2.818383e-31</td>\n",
       "      <td>True</td>\n",
       "    </tr>\n",
       "    <tr>\n",
       "      <th>44050570</th>\n",
       "      <td>1812208</td>\n",
       "      <td>faf8fac97fe95242098ce8c4eae983e6</td>\n",
       "      <td>7f2737dddb558e0912a66198bf7f00d6</td>\n",
       "      <td>2.818383e-31</td>\n",
       "      <td>True</td>\n",
       "    </tr>\n",
       "    <tr>\n",
       "      <th>44050555</th>\n",
       "      <td>1812208</td>\n",
       "      <td>a6b38b7c59cdacc29b28bb68a966edff</td>\n",
       "      <td>7f2737dddb558e0912a66198bf7f00d6</td>\n",
       "      <td>2.818383e-31</td>\n",
       "      <td>True</td>\n",
       "    </tr>\n",
       "  </tbody>\n",
       "</table>\n",
       "<p>46571700 rows × 5 columns</p>\n",
       "</div>"
      ],
      "text/plain": [
       "                                           assay_id  \\\n",
       "chessleague_uuid                                      \n",
       "7f2737dddb558e0912a66198bf7f00d6 34375246   1285832   \n",
       "                                 40755928   1648485   \n",
       "                                 41415502   1685777   \n",
       "                                 41415505   1685776   \n",
       "                                 34375213   1285832   \n",
       "...                                             ...   \n",
       "                                 44051319   1812209   \n",
       "                                 44050567   1812208   \n",
       "                                 44050568   1812209   \n",
       "                                 44050570   1812208   \n",
       "                                 44050555   1812208   \n",
       "\n",
       "                                                             mmp_delta_uuid  \\\n",
       "chessleague_uuid                                                              \n",
       "7f2737dddb558e0912a66198bf7f00d6 34375246  74ed8605746005833089cbac5d31a4aa   \n",
       "                                 40755928  a0d18fc9a2dc165e13ed2f49ec89b723   \n",
       "                                 41415502  c9c411436d426b44654f2cae6fb4935f   \n",
       "                                 41415505  79c649f4236a3116418dcd8ccd02c794   \n",
       "                                 34375213  9a80a09c246f5d629f49a0917a466e37   \n",
       "...                                                                     ...   \n",
       "                                 44051319  7f2e2506f4f8ac2d4f3031f65d309549   \n",
       "                                 44050567  f7e7ff759620dc9e3028b205a02bf516   \n",
       "                                 44050568  99a7594ca21b3fed16c543467954be2e   \n",
       "                                 44050570  faf8fac97fe95242098ce8c4eae983e6   \n",
       "                                 44050555  a6b38b7c59cdacc29b28bb68a966edff   \n",
       "\n",
       "                                                           chessleague_uuid  \\\n",
       "chessleague_uuid                                                              \n",
       "7f2737dddb558e0912a66198bf7f00d6 34375246  7f2737dddb558e0912a66198bf7f00d6   \n",
       "                                 40755928  7f2737dddb558e0912a66198bf7f00d6   \n",
       "                                 41415502  7f2737dddb558e0912a66198bf7f00d6   \n",
       "                                 41415505  7f2737dddb558e0912a66198bf7f00d6   \n",
       "                                 34375213  7f2737dddb558e0912a66198bf7f00d6   \n",
       "...                                                                     ...   \n",
       "                                 44051319  7f2737dddb558e0912a66198bf7f00d6   \n",
       "                                 44050567  7f2737dddb558e0912a66198bf7f00d6   \n",
       "                                 44050568  7f2737dddb558e0912a66198bf7f00d6   \n",
       "                                 44050570  7f2737dddb558e0912a66198bf7f00d6   \n",
       "                                 44050555  7f2737dddb558e0912a66198bf7f00d6   \n",
       "\n",
       "                                                  proba  label  \n",
       "chessleague_uuid                                                \n",
       "7f2737dddb558e0912a66198bf7f00d6 34375246  1.000000e+00  False  \n",
       "                                 40755928  1.000000e+00   True  \n",
       "                                 41415502  1.000000e+00  False  \n",
       "                                 41415505  1.000000e+00   True  \n",
       "                                 34375213  1.000000e+00  False  \n",
       "...                                                 ...    ...  \n",
       "                                 44051319  2.818383e-31   True  \n",
       "                                 44050567  2.818383e-31   True  \n",
       "                                 44050568  2.818383e-31   True  \n",
       "                                 44050570  2.818383e-31   True  \n",
       "                                 44050555  2.818383e-31   True  \n",
       "\n",
       "[46571700 rows x 5 columns]"
      ]
     },
     "execution_count": 17,
     "metadata": {},
     "output_type": "execute_result"
    }
   ],
   "source": [
    "df_elo.sort_values('proba', ascending=False)"
   ]
  },
  {
   "cell_type": "code",
   "execution_count": null,
   "id": "901d80bc-52f5-4300-b504-d91f4250850c",
   "metadata": {},
   "outputs": [],
   "source": [
    "df_ratings = df.groupby(['chessleague_uuid']).parallel_apply(elo, return_ratings=True)"
   ]
  },
  {
   "cell_type": "code",
   "execution_count": 16,
   "id": "dd474ad5-090f-44f8-9404-837a4442c67c",
   "metadata": {},
   "outputs": [
    {
     "data": {
      "text/html": [
       "<div>\n",
       "<style scoped>\n",
       "    .dataframe tbody tr th:only-of-type {\n",
       "        vertical-align: middle;\n",
       "    }\n",
       "\n",
       "    .dataframe tbody tr th {\n",
       "        vertical-align: top;\n",
       "    }\n",
       "\n",
       "    .dataframe thead th {\n",
       "        text-align: right;\n",
       "    }\n",
       "</style>\n",
       "<table border=\"1\" class=\"dataframe\">\n",
       "  <thead>\n",
       "    <tr style=\"text-align: right;\">\n",
       "      <th></th>\n",
       "      <th></th>\n",
       "      <th>key</th>\n",
       "      <th>rating</th>\n",
       "      <th>valid_from</th>\n",
       "      <th>valid_to</th>\n",
       "    </tr>\n",
       "    <tr>\n",
       "      <th>chessleague_uuid</th>\n",
       "      <th></th>\n",
       "      <th></th>\n",
       "      <th></th>\n",
       "      <th></th>\n",
       "      <th></th>\n",
       "    </tr>\n",
       "  </thead>\n",
       "  <tbody>\n",
       "    <tr>\n",
       "      <th rowspan=\"5\" valign=\"top\">936b2ab0848ce64836a1671bab454d8a</th>\n",
       "      <th>23327</th>\n",
       "      <td>7d10e7b4bb13ce25d0cb6302f324cb69</td>\n",
       "      <td>2664.786349</td>\n",
       "      <td>2016-03-11</td>\n",
       "      <td>2016-03-11</td>\n",
       "    </tr>\n",
       "    <tr>\n",
       "      <th>23326</th>\n",
       "      <td>7d10e7b4bb13ce25d0cb6302f324cb69</td>\n",
       "      <td>2664.761534</td>\n",
       "      <td>2016-02-06</td>\n",
       "      <td>2016-03-11</td>\n",
       "    </tr>\n",
       "    <tr>\n",
       "      <th>23325</th>\n",
       "      <td>7d10e7b4bb13ce25d0cb6302f324cb69</td>\n",
       "      <td>2663.261604</td>\n",
       "      <td>2016-02-06</td>\n",
       "      <td>2016-02-06</td>\n",
       "    </tr>\n",
       "    <tr>\n",
       "      <th>23324</th>\n",
       "      <td>7d10e7b4bb13ce25d0cb6302f324cb69</td>\n",
       "      <td>2663.260300</td>\n",
       "      <td>2016-02-06</td>\n",
       "      <td>2016-02-06</td>\n",
       "    </tr>\n",
       "    <tr>\n",
       "      <th>23323</th>\n",
       "      <td>7d10e7b4bb13ce25d0cb6302f324cb69</td>\n",
       "      <td>2657.030607</td>\n",
       "      <td>2016-02-06</td>\n",
       "      <td>2016-02-06</td>\n",
       "    </tr>\n",
       "    <tr>\n",
       "      <th>...</th>\n",
       "      <th>...</th>\n",
       "      <td>...</td>\n",
       "      <td>...</td>\n",
       "      <td>...</td>\n",
       "      <td>...</td>\n",
       "    </tr>\n",
       "    <tr>\n",
       "      <th rowspan=\"5\" valign=\"top\">bf8a7ae5540c33788794ebe2792c31d7</th>\n",
       "      <th>265036</th>\n",
       "      <td>21ea6a5665fb4674223ddbbb4487a64b</td>\n",
       "      <td>110.000000</td>\n",
       "      <td>2019-03-28</td>\n",
       "      <td>NaT</td>\n",
       "    </tr>\n",
       "    <tr>\n",
       "      <th>265035</th>\n",
       "      <td>21ea6a5665fb4674223ddbbb4487a64b</td>\n",
       "      <td>100.000000</td>\n",
       "      <td>2019-03-28</td>\n",
       "      <td>2019-03-28</td>\n",
       "    </tr>\n",
       "    <tr>\n",
       "      <th>265038</th>\n",
       "      <td>21ea6a5665fb4674223ddbbb4487a64b</td>\n",
       "      <td>100.000000</td>\n",
       "      <td>2019-03-28</td>\n",
       "      <td>NaT</td>\n",
       "    </tr>\n",
       "    <tr>\n",
       "      <th>265037</th>\n",
       "      <td>21ea6a5665fb4674223ddbbb4487a64b</td>\n",
       "      <td>90.000000</td>\n",
       "      <td>2019-03-28</td>\n",
       "      <td>2019-03-28</td>\n",
       "    </tr>\n",
       "    <tr>\n",
       "      <th>265039</th>\n",
       "      <td>21ea6a5665fb4674223ddbbb4487a64b</td>\n",
       "      <td>80.000000</td>\n",
       "      <td>2019-03-28</td>\n",
       "      <td>NaT</td>\n",
       "    </tr>\n",
       "  </tbody>\n",
       "</table>\n",
       "<p>48585555 rows × 4 columns</p>\n",
       "</div>"
      ],
      "text/plain": [
       "                                                                      key  \\\n",
       "chessleague_uuid                                                            \n",
       "936b2ab0848ce64836a1671bab454d8a 23327   7d10e7b4bb13ce25d0cb6302f324cb69   \n",
       "                                 23326   7d10e7b4bb13ce25d0cb6302f324cb69   \n",
       "                                 23325   7d10e7b4bb13ce25d0cb6302f324cb69   \n",
       "                                 23324   7d10e7b4bb13ce25d0cb6302f324cb69   \n",
       "                                 23323   7d10e7b4bb13ce25d0cb6302f324cb69   \n",
       "...                                                                   ...   \n",
       "bf8a7ae5540c33788794ebe2792c31d7 265036  21ea6a5665fb4674223ddbbb4487a64b   \n",
       "                                 265035  21ea6a5665fb4674223ddbbb4487a64b   \n",
       "                                 265038  21ea6a5665fb4674223ddbbb4487a64b   \n",
       "                                 265037  21ea6a5665fb4674223ddbbb4487a64b   \n",
       "                                 265039  21ea6a5665fb4674223ddbbb4487a64b   \n",
       "\n",
       "                                              rating valid_from   valid_to  \n",
       "chessleague_uuid                                                            \n",
       "936b2ab0848ce64836a1671bab454d8a 23327   2664.786349 2016-03-11 2016-03-11  \n",
       "                                 23326   2664.761534 2016-02-06 2016-03-11  \n",
       "                                 23325   2663.261604 2016-02-06 2016-02-06  \n",
       "                                 23324   2663.260300 2016-02-06 2016-02-06  \n",
       "                                 23323   2657.030607 2016-02-06 2016-02-06  \n",
       "...                                              ...        ...        ...  \n",
       "bf8a7ae5540c33788794ebe2792c31d7 265036   110.000000 2019-03-28        NaT  \n",
       "                                 265035   100.000000 2019-03-28 2019-03-28  \n",
       "                                 265038   100.000000 2019-03-28        NaT  \n",
       "                                 265037    90.000000 2019-03-28 2019-03-28  \n",
       "                                 265039    80.000000 2019-03-28        NaT  \n",
       "\n",
       "[48585555 rows x 4 columns]"
      ]
     },
     "execution_count": 16,
     "metadata": {},
     "output_type": "execute_result"
    }
   ],
   "source": [
    "df_ratings.sort_values('rating', ascending=False)"
   ]
  },
  {
   "cell_type": "code",
   "execution_count": 17,
   "id": "45c5e696-812e-4d57-9c89-2f0bc1ceffe3",
   "metadata": {},
   "outputs": [],
   "source": [
    "df_ratings[df_ratings.valid_to.isna()].to_csv('/home/daniel/wizepair2/elo_ratings.csv.gz', compression='gzip')"
   ]
  },
  {
   "cell_type": "code",
   "execution_count": null,
   "id": "d8decea7-2613-4f14-be37-2345e26c0b6f",
   "metadata": {},
   "outputs": [],
   "source": []
  }
 ],
 "metadata": {
  "kernelspec": {
   "display_name": "Python 3 (ipykernel)",
   "language": "python",
   "name": "python3"
  },
  "language_info": {
   "codemirror_mode": {
    "name": "ipython",
    "version": 3
   },
   "file_extension": ".py",
   "mimetype": "text/x-python",
   "name": "python",
   "nbconvert_exporter": "python",
   "pygments_lexer": "ipython3",
   "version": "3.7.0"
  }
 },
 "nbformat": 4,
 "nbformat_minor": 5
}
