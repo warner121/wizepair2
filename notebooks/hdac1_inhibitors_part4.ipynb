{
 "cells": [
  {
   "cell_type": "markdown",
   "metadata": {},
   "source": [
    "## Histone deacetylase 1 - part 4 (library enumeration)"
   ]
  },
  {
   "cell_type": "markdown",
   "metadata": {},
   "source": [
    "### Import libraries"
   ]
  },
  {
   "cell_type": "code",
   "execution_count": 1,
   "metadata": {},
   "outputs": [],
   "source": [
    "import pandas as pd\n",
    "\n",
    "from rdkit import Chem"
   ]
  },
  {
   "cell_type": "markdown",
   "metadata": {},
   "source": [
    "### Read in the datasets"
   ]
  },
  {
   "cell_type": "code",
   "execution_count": 2,
   "metadata": {},
   "outputs": [],
   "source": [
    "df = pd.read_csv('hdac1_inhibitors_stripped.csv')\n",
    "df_trans = pd.read_csv('hdac1_inhibitors_transformations.csv')"
   ]
  },
  {
   "cell_type": "markdown",
   "metadata": {},
   "source": [
    "### Merge on assay identifier to enumerate all seed molecule / transformation pairs"
   ]
  },
  {
   "cell_type": "code",
   "execution_count": 3,
   "metadata": {},
   "outputs": [],
   "source": [
    "df = df[pd.notna(df.pchembl_value)]\n",
    "df = df.merge(df_trans, on='assay_chembl_id')"
   ]
  },
  {
   "cell_type": "markdown",
   "metadata": {},
   "source": [
    "### Apply the transformations"
   ]
  },
  {
   "cell_type": "code",
   "execution_count": 4,
   "metadata": {},
   "outputs": [],
   "source": [
    "def apply_reaction(smiles, smirks):\n",
    "    rxn = Chem.rdChemReactions.ReactionFromSmarts(smirks)\n",
    "    productset = rxn.RunReactants((Chem.AddHs(Chem.MolFromSmiles(smiles)),))\n",
    "    productlist = list()\n",
    "    for product in productset:\n",
    "        productlist.append('.'.join([Chem.MolToSmiles(Chem.RemoveHs(productpart)) for productpart in product]))\n",
    "    return list(set(productlist))\n",
    "\n",
    "df_seed = df.apply(lambda x: apply_reaction(x.stripped_smiles, x.smirks), axis=1)"
   ]
  },
  {
   "cell_type": "markdown",
   "metadata": {},
   "source": [
    "### Associate products with seed data"
   ]
  },
  {
   "cell_type": "code",
   "execution_count": 5,
   "metadata": {},
   "outputs": [],
   "source": [
    "df_seed = df.join(pd.DataFrame(df_seed.explode(), columns=['products']))\n",
    "df_seed = df_seed[pd.notna(df_seed.products)]"
   ]
  },
  {
   "cell_type": "markdown",
   "metadata": {},
   "source": [
    "### Seed + delta = prediction, and aggregate (optionally weighted according to count of pairs in transformation)"
   ]
  },
  {
   "cell_type": "code",
   "execution_count": 6,
   "metadata": {},
   "outputs": [],
   "source": [
    "df_seed['pchembl_predicted'] = (df_seed.pchembl_value + df_seed.mean_pchembl_exact_delta) #* df_seed.count_pchembl_exact_delta\n",
    "df_products = pd.pivot_table(df_seed, values=['count_pchembl_exact_delta', 'pchembl_predicted'], index=['products', 'radius', 'assay_chembl_id'], aggfunc='mean')\n",
    "#df_products['pchembl_predicted'] = df_products.pchembl_predicted / df_products.count_pchembl_exact_delta"
   ]
  },
  {
   "cell_type": "markdown",
   "metadata": {},
   "source": [
    "### Write to file"
   ]
  },
  {
   "cell_type": "code",
   "execution_count": 7,
   "metadata": {},
   "outputs": [],
   "source": [
    "df_products = df_products.reset_index()\n",
    "df_products.to_csv('hdac1_inhibitors_products.csv', index=False)"
   ]
  },
  {
   "cell_type": "markdown",
   "metadata": {},
   "source": [
    "### ... and finaly tabulate (tables 4 & 5 from wizepairz paper)"
   ]
  },
  {
   "cell_type": "code",
   "execution_count": 8,
   "metadata": {},
   "outputs": [],
   "source": [
    "df_holdout = pd.read_csv('hdac1_inhibitors_stripped_holdout.csv')\n",
    "df_holdout = df_seed.merge(df_holdout, left_on=['assay_chembl_id', 'products'], right_on=['assay_chembl_id', 'stripped_smiles'])\n",
    "tablecols = ['_metadata.parent_molecule_data.compound_key_x', 'fragment1', 'fragment2', 'pchembl_value_x', 'mean_pchembl_exact_delta', 'pchembl_predicted']"
   ]
  },
  {
   "cell_type": "code",
   "execution_count": 9,
   "metadata": {},
   "outputs": [
    {
     "data": {
      "text/html": [
       "<div>\n",
       "<style scoped>\n",
       "    .dataframe tbody tr th:only-of-type {\n",
       "        vertical-align: middle;\n",
       "    }\n",
       "\n",
       "    .dataframe tbody tr th {\n",
       "        vertical-align: top;\n",
       "    }\n",
       "\n",
       "    .dataframe thead th {\n",
       "        text-align: right;\n",
       "    }\n",
       "</style>\n",
       "<table border=\"1\" class=\"dataframe\">\n",
       "  <thead>\n",
       "    <tr style=\"text-align: right;\">\n",
       "      <th></th>\n",
       "      <th>_metadata.parent_molecule_data.compound_key_x</th>\n",
       "      <th>fragment1</th>\n",
       "      <th>fragment2</th>\n",
       "      <th>pchembl_value_x</th>\n",
       "      <th>mean_pchembl_exact_delta</th>\n",
       "      <th>pchembl_predicted</th>\n",
       "    </tr>\n",
       "  </thead>\n",
       "  <tbody>\n",
       "    <tr>\n",
       "      <th>0</th>\n",
       "      <td>13b</td>\n",
       "      <td>[cH2][cH][c]([C]#[N])[c](-[cH3])[nH]</td>\n",
       "      <td>[cH2][cH][c]([Cl])[c](-[cH3])[nH]</td>\n",
       "      <td>8.01</td>\n",
       "      <td>-0.16</td>\n",
       "      <td>7.85</td>\n",
       "    </tr>\n",
       "    <tr>\n",
       "      <th>5</th>\n",
       "      <td>13a</td>\n",
       "      <td>[cH2][cH][c]([CH3])[c](-[cH3])[nH]</td>\n",
       "      <td>[cH2][cH][c]([Cl])[c](-[cH3])[nH]</td>\n",
       "      <td>7.67</td>\n",
       "      <td>0.11</td>\n",
       "      <td>7.78</td>\n",
       "    </tr>\n",
       "    <tr>\n",
       "      <th>9</th>\n",
       "      <td>13d</td>\n",
       "      <td>[cH2][cH][c]([F])[c](-[cH3])[nH]</td>\n",
       "      <td>[cH2][cH][c]([Cl])[c](-[cH3])[nH]</td>\n",
       "      <td>7.30</td>\n",
       "      <td>0.40</td>\n",
       "      <td>7.70</td>\n",
       "    </tr>\n",
       "  </tbody>\n",
       "</table>\n",
       "</div>"
      ],
      "text/plain": [
       "  _metadata.parent_molecule_data.compound_key_x  \\\n",
       "0                                           13b   \n",
       "5                                           13a   \n",
       "9                                           13d   \n",
       "\n",
       "                              fragment1                          fragment2  \\\n",
       "0  [cH2][cH][c]([C]#[N])[c](-[cH3])[nH]  [cH2][cH][c]([Cl])[c](-[cH3])[nH]   \n",
       "5    [cH2][cH][c]([CH3])[c](-[cH3])[nH]  [cH2][cH][c]([Cl])[c](-[cH3])[nH]   \n",
       "9      [cH2][cH][c]([F])[c](-[cH3])[nH]  [cH2][cH][c]([Cl])[c](-[cH3])[nH]   \n",
       "\n",
       "   pchembl_value_x  mean_pchembl_exact_delta  pchembl_predicted  \n",
       "0             8.01                     -0.16               7.85  \n",
       "5             7.67                      0.11               7.78  \n",
       "9             7.30                      0.40               7.70  "
      ]
     },
     "execution_count": 9,
     "metadata": {},
     "output_type": "execute_result"
    }
   ],
   "source": [
    "df_holdout[(df_holdout.radius==3) & (df_holdout.assay_chembl_id=='CHEMBL927948') & (df_holdout['_metadata.parent_molecule_data.compound_key_y']=='13c')][tablecols]"
   ]
  },
  {
   "cell_type": "code",
   "execution_count": 10,
   "metadata": {},
   "outputs": [
    {
     "data": {
      "text/html": [
       "<div>\n",
       "<style scoped>\n",
       "    .dataframe tbody tr th:only-of-type {\n",
       "        vertical-align: middle;\n",
       "    }\n",
       "\n",
       "    .dataframe tbody tr th {\n",
       "        vertical-align: top;\n",
       "    }\n",
       "\n",
       "    .dataframe thead th {\n",
       "        text-align: right;\n",
       "    }\n",
       "</style>\n",
       "<table border=\"1\" class=\"dataframe\">\n",
       "  <thead>\n",
       "    <tr style=\"text-align: right;\">\n",
       "      <th></th>\n",
       "      <th>_metadata.parent_molecule_data.compound_key_x</th>\n",
       "      <th>fragment1</th>\n",
       "      <th>fragment2</th>\n",
       "      <th>pchembl_value_x</th>\n",
       "      <th>mean_pchembl_exact_delta</th>\n",
       "      <th>pchembl_predicted</th>\n",
       "    </tr>\n",
       "  </thead>\n",
       "  <tbody>\n",
       "    <tr>\n",
       "      <th>13</th>\n",
       "      <td>15d</td>\n",
       "      <td>[CH3][CH2][N]([CH2][CH3])[CH]([CH3])[CH3]</td>\n",
       "      <td>[CH3][CH2][N]([CH2][CH3])[CH2][CH3]</td>\n",
       "      <td>7.48</td>\n",
       "      <td>-0.016667</td>\n",
       "      <td>7.463333</td>\n",
       "    </tr>\n",
       "    <tr>\n",
       "      <th>18</th>\n",
       "      <td>14a</td>\n",
       "      <td>[cH2][cH][c]([CH3])[c](-[cH3])[nH]</td>\n",
       "      <td>[cH2][cH][c]([F])[c](-[cH3])[nH]</td>\n",
       "      <td>7.73</td>\n",
       "      <td>-0.305000</td>\n",
       "      <td>7.425000</td>\n",
       "    </tr>\n",
       "    <tr>\n",
       "      <th>21</th>\n",
       "      <td>14b</td>\n",
       "      <td>[cH2][cH][c]([C]#[N])[c](-[cH3])[nH]</td>\n",
       "      <td>[cH2][cH][c]([F])[c](-[cH3])[nH]</td>\n",
       "      <td>8.01</td>\n",
       "      <td>-0.605000</td>\n",
       "      <td>7.405000</td>\n",
       "    </tr>\n",
       "    <tr>\n",
       "      <th>25</th>\n",
       "      <td>14c</td>\n",
       "      <td>[cH2][cH][c]([Cl])[c](-[cH3])[nH]</td>\n",
       "      <td>[cH2][cH][c]([F])[c](-[cH3])[nH]</td>\n",
       "      <td>7.79</td>\n",
       "      <td>-0.400000</td>\n",
       "      <td>7.390000</td>\n",
       "    </tr>\n",
       "  </tbody>\n",
       "</table>\n",
       "</div>"
      ],
      "text/plain": [
       "   _metadata.parent_molecule_data.compound_key_x  \\\n",
       "13                                           15d   \n",
       "18                                           14a   \n",
       "21                                           14b   \n",
       "25                                           14c   \n",
       "\n",
       "                                    fragment1  \\\n",
       "13  [CH3][CH2][N]([CH2][CH3])[CH]([CH3])[CH3]   \n",
       "18         [cH2][cH][c]([CH3])[c](-[cH3])[nH]   \n",
       "21       [cH2][cH][c]([C]#[N])[c](-[cH3])[nH]   \n",
       "25          [cH2][cH][c]([Cl])[c](-[cH3])[nH]   \n",
       "\n",
       "                              fragment2  pchembl_value_x  \\\n",
       "13  [CH3][CH2][N]([CH2][CH3])[CH2][CH3]             7.48   \n",
       "18     [cH2][cH][c]([F])[c](-[cH3])[nH]             7.73   \n",
       "21     [cH2][cH][c]([F])[c](-[cH3])[nH]             8.01   \n",
       "25     [cH2][cH][c]([F])[c](-[cH3])[nH]             7.79   \n",
       "\n",
       "    mean_pchembl_exact_delta  pchembl_predicted  \n",
       "13                 -0.016667           7.463333  \n",
       "18                 -0.305000           7.425000  \n",
       "21                 -0.605000           7.405000  \n",
       "25                 -0.400000           7.390000  "
      ]
     },
     "execution_count": 10,
     "metadata": {},
     "output_type": "execute_result"
    }
   ],
   "source": [
    "df_holdout[(df_holdout.radius==3) & (df_holdout.assay_chembl_id=='CHEMBL927948') & (df_holdout['_metadata.parent_molecule_data.compound_key_y']=='14d')][tablecols]"
   ]
  },
  {
   "cell_type": "code",
   "execution_count": null,
   "metadata": {},
   "outputs": [],
   "source": []
  }
 ],
 "metadata": {
  "kernelspec": {
   "display_name": "Python 3",
   "language": "python",
   "name": "python3"
  },
  "language_info": {
   "codemirror_mode": {
    "name": "ipython",
    "version": 3
   },
   "file_extension": ".py",
   "mimetype": "text/x-python",
   "name": "python",
   "nbconvert_exporter": "python",
   "pygments_lexer": "ipython3",
   "version": "3.6.10"
  }
 },
 "nbformat": 4,
 "nbformat_minor": 4
}
