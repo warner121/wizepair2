{
 "cells": [
  {
   "cell_type": "code",
   "execution_count": 1,
   "metadata": {},
   "outputs": [],
   "source": [
    "import json\n",
    "import re\n",
    "import logging\n",
    "import networkx as nx\n",
    "import numpy as np\n",
    "import timeit\n",
    "\n",
    "from hashlib import md5\n",
    "from rdkit import Chem, RDLogger\n",
    "from rdkit.Chem import SaltRemover\n",
    "from rdkit.Chem.rdChemReactions import ReactionFromSmarts\n",
    "from func_timeout import func_timeout, FunctionTimedOut\n",
    "from networkx.algorithms.clique import enumerate_all_cliques, find_cliques, find_cliques_recursive, max_weight_clique\n",
    "from multiprocessing import Pool\n",
    "\n",
    "# disable C++ logger for production\n",
    "RDLogger.DisableLog('rdApp.*')\n",
    "\n",
    "class CorrespondenceGraph(nx.Graph):\n",
    "    '''\n",
    "    Build the correspondence matrix of putative atom pairings, from which to determine the maximal clique (comprising the MCS). \n",
    "    '''\n",
    "    \n",
    "    def __init__(self):\n",
    "\n",
    "        # inherit from nx.Graph\n",
    "        super().__init__(self)\n",
    "\n",
    "    def build(\n",
    "        self, \n",
    "        mol1, \n",
    "        mol2, \n",
    "        strictness, \n",
    "        sfunc=np.full(10, 10)):\n",
    "        '''\n",
    "        Build the correspondence graph.\n",
    "        \n",
    "        Each atomic pairing is assigned a providional score, from 0 (most different) to 100 (identical).\n",
    "        This pairwise score is appended to the tuple representing each node, following the atomic indices.\n",
    "        '''\n",
    "        # ensure scoring function suitable\n",
    "        assert len(sfunc) == 10\n",
    "        assert (sfunc > 1).all()\n",
    "        \n",
    "        # store strictness for scoring\n",
    "        self._mol1 = mol1\n",
    "        self._mol2 = mol2\n",
    "        self._strict = (sfunc.mean() * strictness) ** 2 # np.sort(sfunc)[:5].sum() ** 2\n",
    "\n",
    "        # calculate distance matrices\n",
    "        self._dmat1 = Chem.GetDistanceMatrix(mol1)\n",
    "        self._dmat2 = Chem.GetDistanceMatrix(mol2)\n",
    "\n",
    "        # extract propery in such a way error is not thrown on comparison\n",
    "        def safeGetProp(atom, propname):\n",
    "            try: return atom.GetProp(propname)\n",
    "            except KeyError: return None\n",
    "            \n",
    "        # create description of how central in molecule atom\n",
    "        def getPeripherality(atom, dmat):\n",
    "            peripherality = dmat[atom.GetIdx()]\n",
    "            return np.mean(peripherality / np.max(peripherality))            \n",
    "                        \n",
    "        # create lookup for atomic index mappings\n",
    "        self._idxmaps = []\n",
    "\n",
    "        # iterate over all potential atom-atom pairings\n",
    "        for atom1 in self._mol1.GetAtoms():\n",
    "            for atom2 in self._mol2.GetAtoms():\n",
    "\n",
    "                # score putative nodes based on atom:atom similarity (0-100 + up to 9.99 point centrality bonus)\n",
    "                score = np.zeros(10)\n",
    "                if atom1.GetAtomicNum() == atom2.GetAtomicNum(): score[0] = 1\n",
    "                if atom1.GetImplicitValence() == atom2.GetImplicitValence(): score[1] = 1\n",
    "                if atom1.GetExplicitValence() == atom2.GetExplicitValence(): score[2] = 1\n",
    "                if atom1.GetFormalCharge() == atom2.GetFormalCharge(): score[3] = 1\n",
    "                if atom1.GetIsAromatic() == atom2.GetIsAromatic(): score[4] = 1\n",
    "                if atom1.GetDegree() == atom2.GetDegree(): score[5] = 1\n",
    "                if atom1.IsInRing() == atom2.IsInRing(): score[6] = 1\n",
    "                if safeGetProp(atom1, '_CIPCode') == safeGetProp(atom2, '_CIPCode'): score[7] = 1\n",
    "                if safeGetProp(atom1, '_EZCode') == safeGetProp(atom2, '_EZCode'): score[8] = 1\n",
    "                if atom1.GetTotalNumHs() == atom2.GetTotalNumHs(): score[9] = 1\n",
    "                score = (score * sfunc).sum()\n",
    "\n",
    "                # apply jitter in the event of a tie\n",
    "                peripherality1 = getPeripherality(atom1, self._dmat1)\n",
    "                peripherality2 = getPeripherality(atom2, self._dmat2)\n",
    "                score += sfunc.min() * (1 - abs(peripherality1 - peripherality2)) * 0.999\n",
    "                score = int(np.floor(score**2))\n",
    "                \n",
    "                # accept node with greater than specified match level\n",
    "                if score >= self._strict: \n",
    "                    newmap = (atom1.GetIdx(), atom2.GetIdx())\n",
    "                    self._idxmaps.append(newmap)\n",
    "                    self.add_node(self._idxmaps.index(newmap), weight=score)\n",
    "                    \n",
    "        # build numpy matrices for weights\n",
    "        self._nodeweights = np.array([self.nodes[x]['weight'] for x in self.nodes()], dtype='int64') / (sfunc.sum() ** 2)\n",
    "        #self._edgeweights = np.zeros((len(self.nodes), len(self.nodes)), dtype='int64')\n",
    "        \n",
    "        # create correspondence graph edges\n",
    "        for node1 in self.nodes():\n",
    "            map1 = self._idxmaps[node1]\n",
    "            for node2 in self.nodes():\n",
    "                map2 = self._idxmaps[node2]\n",
    "                \n",
    "                # only build 1/2 matrix\n",
    "                if node1 > node2: continue\n",
    "                                \n",
    "                # ensure any given atom is not mapped twice in a clique\n",
    "                if map1[0] == map2[0] or map1[1] == map2[1]: continue\n",
    "\n",
    "                # test if criteria are met for correspondence\n",
    "                #correspondence = abs(self._dmat1[map1[0]][map2[0]] - self._dmat2[map1[1]][map2[1]])\n",
    "                #score = int(np.floor(1000/((1+correspondence)**2)))\n",
    "\n",
    "                # check comparative distance between mapped atoms is within tolerance\n",
    "                if (2/3) <= self._dmat1[map1[0]][map2[0]] / self._dmat2[map1[1]][map2[1]] <= (3/2):\n",
    "                    self.add_edge(node1, node2, weight=0)\n",
    "                    #self._edgeweights[node1][node2] = 0\n",
    "                    \n",
    "        # get weighted degrees\n",
    "        self._embedding = [np.log(self._nodeweights[node] * val) for (node, val) in self.degree()]\n",
    "        boundaries = np.sort(np.concatenate((np.linspace(3, 7, 15), [np.inf, np.NINF]), axis=0))\n",
    "        self._embedding = np.histogram(self._embedding, bins=boundaries)[0].tolist()\n",
    "        \n",
    "        # predict solution time using simple linear model\n",
    "        self._predsolversecs = np.sum(self._embedding * np.array([\n",
    "            0.001, 0.001, 0.001, 0.001, 0.001, 0.002, 0.002, 0.003,\n",
    "            0.011, 0.016, 0.030, 0.045, 0.040, 0.048, 0.048, 0.048\n",
    "        ]))\n",
    "           \n",
    "    def score_clique(self, clique):\n",
    "            \n",
    "        # lookup scores from matrices\n",
    "        score = np.sum(self._nodeweights[clique])\n",
    "        #score += np.sum(self._edgeweights[clique].T[clique])   \n",
    "        return score\n",
    "\n",
    "    def filter_mcs(self, clique, clipper=2):\n",
    "        \n",
    "        # remove any atom pairings with less than perfect score, excluding bonus i.e. (10*10)**2\n",
    "        mcs = [x for x in clique if self._nodeweights[x] >= 1] \n",
    "        \n",
    "        # replace integer node numbers with atomic index tuples\n",
    "        mcs = [self._idxmaps[x] for x in mcs]\n",
    "        clique = [self._idxmaps[x] for x in clique]\n",
    "        if not len(mcs): return clique, mcs\n",
    "        \n",
    "        # split the tuples and homogenise the distance matrices\n",
    "        idx1, idx2 = zip(*mcs)\n",
    "        dmat1 = self._dmat1[list(idx1)].T[list(idx1)]\n",
    "        dmat2 = self._dmat2[list(idx2)].T[list(idx2)]       \n",
    "        \n",
    "        # take the difference in the reduced distance matries\n",
    "        dmatdiff = np.clip(dmat1, 0, clipper) - np.clip(dmat2, 0, clipper)\n",
    "        idx1 = set([idx1[x] for x in np.where(dmatdiff != 0)[0]])\n",
    "        idx2 = set([idx2[x] for x in np.where(dmatdiff != 0)[1]])\n",
    "\n",
    "        # retain those nodes where the constituent atoms have not drifted (or explicit i.e. chiral H)\n",
    "        mcs = [x for x in mcs\n",
    "               if (x[0] not in idx1 or self._mol1.GetAtomWithIdx(x[0]).GetAtomicNum() == 1)\n",
    "               and (x[1] not in idx2 or self._mol2.GetAtomWithIdx(x[1]).GetAtomicNum() == 1)]\n",
    "        \n",
    "        # return\n",
    "        return clique, mcs\n",
    "                            \n",
    "    def solve_weighted(self, timeout=60):\n",
    "        '''\n",
    "        For testing only, please do not use.\n",
    "        \n",
    "        Execute the maximum weight clique search.\n",
    "        \n",
    "        Returns:\n",
    "            clique - the best scoring clique (including partially matching atoms, and used to derive reaction mappings)\n",
    "            mcs - the subset of bestclique containing exact chemical matches only (to be discarded to produce the RECS)\n",
    "        '''\n",
    "                    \n",
    "        # define function with no arguments (for use with timeout function)\n",
    "        def findCliquesNoArgs(): return max_weight_clique(self)\n",
    "        \n",
    "        # try finding cliques within [timeout] seconds\n",
    "        try:\n",
    "            clique, maxweight = func_timeout(timeout, findCliquesNoArgs)\n",
    "        except FunctionTimedOut:\n",
    "            logging.warning(json.dumps({\"message\": \"failed to find cliques in {} seconds\".format(timeout)}))\n",
    "            return list(), list()\n",
    "\n",
    "        # lookup scores from matrices (purely for comparison with return from max_weight_cliques)\n",
    "        score = self.score_clique(clique)\n",
    "\n",
    "        # remap to indices and remove atomic/drift based discrepancies from mcs\n",
    "        clique, mcs = self.filter_mcs(clique)\n",
    "        \n",
    "        # return results\n",
    "        return clique, mcs\n",
    "\n",
    "class Reactor():\n",
    "    \n",
    "    def __init__(self, smirks):        \n",
    "        '''\n",
    "        Instantiate MMP 'Reactor'.\n",
    "        \n",
    "        smirks: SMIRKS encoded reaction.\n",
    "        '''\n",
    "        \n",
    "        self._rxn = Chem.rdChemReactions.ReactionFromSmarts(smirks)\n",
    "\n",
    "    def assert_one2one(self):\n",
    "        '''\n",
    "        Assert 1:1 relationship between reactants and products.\n",
    "        '''\n",
    "            \n",
    "        try: \n",
    "            assert self._rxn.GetNumReactantTemplates() == 1\n",
    "            assert self._rxn.GetNumProductTemplates() == 1\n",
    "            return True\n",
    "        except AssertionError:\n",
    "            logging.info(json.dumps({\"message\": \"no 1:1 reaction could be generated\"}))\n",
    "            return False\n",
    "     \n",
    "    def generate_products(self, smiles):\n",
    "        '''\n",
    "        Return products as list of SMILES.\n",
    "        \n",
    "        smiles: SMILES to serve as seed or reactant.\n",
    "        '''\n",
    "            \n",
    "        reactant = Chem.AddHs(Chem.MolFromSmiles(smiles))\n",
    "        products = self._rxn.RunReactants((reactant,))\n",
    "        productset = set()\n",
    "        for product in products:\n",
    "            try:\n",
    "                productparts = [Chem.MolToSmiles(Chem.RemoveHs(productpart)) for productpart in product]\n",
    "                productset.add('.'.join(productparts))\n",
    "            except (Chem.AtomValenceException, Chem.AtomKekulizeException, Chem.KekulizeException):\n",
    "                logging.info(json.dumps({\"message\": \"MolSanitizeException raised on product enumeration\"}))\n",
    "        return list(productset)\n",
    "\n",
    "class Desalinator():\n",
    "    \n",
    "    def __init__(self, smiles):\n",
    "\n",
    "        # parse smiles\n",
    "        try: mol = Chem.MolFromSmiles(smiles)\n",
    "        except: return None\n",
    "    \n",
    "        # remove salts\n",
    "        remover = SaltRemover.SaltRemover()\n",
    "        mol, salts = remover.StripMolWithDeleted(mol)\n",
    "        \n",
    "        # retain largest fragment\n",
    "        largest = Chem.Mol()\n",
    "        for submol in Chem.GetMolFrags(mol, asMols=True): \n",
    "            if submol.GetNumHeavyAtoms() <= largest.GetNumHeavyAtoms(): continue\n",
    "            largest = submol\n",
    "        mol = largest\n",
    "\n",
    "        # sneakily set conjugated bond stereo to none\n",
    "        for bond in mol.GetBonds():\n",
    "            if not bond.GetIsConjugated(): continue\n",
    "            bond.SetStereo(Chem.BondStereo.STEREONONE)\n",
    "        \n",
    "        # create mol attribute (via inchi to enforce bond stereo removal)\n",
    "        self._mol = Chem.MolFromInchi(Chem.MolToInchi(mol))\n",
    "\n",
    "    def getSmiles(self):\n",
    "\n",
    "        return Chem.MolToSmiles(self._mol)\n",
    "\n",
    "    def getInchi(self):\n",
    "\n",
    "        return Chem.MolToInchi(self._mol)\n",
    "\n",
    "class SMIRKSEncoder():\n",
    "    \n",
    "    def __init__(self):\n",
    "        \n",
    "        return None\n",
    "        \n",
    "    def encode(self, frag1, frag2, smiles1, smiles2):\n",
    "        '''\n",
    "        Returns tuple of (\n",
    "            smirks: str, \n",
    "            valid: bool, \n",
    "            error: str,\n",
    "            biproducts: int)\n",
    "        '''\n",
    "\n",
    "        def getMolAtomMapNumber(atom):\n",
    "            try: return atom.GetProp('molAtomMapNumber')\n",
    "            except KeyError: return None\n",
    "\n",
    "        # save backup in case this fails validation\n",
    "        smarts1 = Chem.MolToSmarts(frag1)\n",
    "        smarts2 = Chem.MolToSmarts(frag2)\n",
    "        backup = '{}>>{}'.format(smarts1, smarts2)\n",
    "\n",
    "        # extract index/mapping lookup of atom all (including None) mappings\n",
    "        mappings1 = list(enumerate([getMolAtomMapNumber(atom) for atom in frag1.GetAtoms()]))\n",
    "        mappings2 = list(enumerate([getMolAtomMapNumber(atom) for atom in frag2.GetAtoms()]))\n",
    "\n",
    "        # strip of mappings and call MolToSmiles to define _smilesAtomOutputOrder\n",
    "        for atom in frag1.GetAtoms(): atom.ClearProp('molAtomMapNumber')\n",
    "        for atom in frag2.GetAtoms(): atom.ClearProp('molAtomMapNumber')\n",
    "        junk1 = Chem.MolToSmiles(frag1)\n",
    "        junk2 = Chem.MolToSmiles(frag2)\n",
    "\n",
    "        # put the original mappings back\n",
    "        for mapping in mappings1:\n",
    "            if not mapping[1]: continue\n",
    "            frag1.GetAtomWithIdx(mapping[0]).SetIntProp('molAtomMapNumber', int(mapping[1]))\n",
    "        for mapping in mappings2:\n",
    "            if not mapping[1]: continue\n",
    "            frag2.GetAtomWithIdx(mapping[0]).SetIntProp('molAtomMapNumber', int(mapping[1]))\n",
    "\n",
    "        # renumber according to mapping-free output order\n",
    "        frag1 = Chem.RenumberAtoms(frag1, frag1.GetPropsAsDict(True,True)[\"_smilesAtomOutputOrder\"])\n",
    "        frag2 = Chem.RenumberAtoms(frag2, frag2.GetPropsAsDict(True,True)[\"_smilesAtomOutputOrder\"])\n",
    "        smarts1 = Chem.MolToSmarts(frag1)\n",
    "        smarts2 = Chem.MolToSmarts(frag2)\n",
    "\n",
    "        # arbitrarily define dominant fragment and \n",
    "        hashstr1 = re.sub('(?<=:)[0-9]+(?=])', 'X', smarts1)\n",
    "        hashstr2 = re.sub('(?<=:)[0-9]+(?=])', 'X', smarts2)\n",
    "        if hashstr1 > hashstr2: lookup = re.findall('(?<=:)[0-9]+(?=])', smarts1)\n",
    "        else: lookup = re.findall('(?<=:)[0-9]+(?=])', smarts2)\n",
    "\n",
    "        # replace with sequentially ordered mappings from 1\n",
    "        smirks = '{}>>{}'.format(smarts1, smarts2)\n",
    "        for idx, swap in enumerate(lookup):\n",
    "            smirks = re.sub(':{}]'.format(swap), ':X{}]'.format(idx+1), smirks)\n",
    "            backup = re.sub(':{}]'.format(swap), ':X{}]'.format(idx+1), backup)\n",
    "        smirks = re.sub(':X', ':', smirks)\n",
    "        backup = re.sub(':X', ':', backup)\n",
    "\n",
    "        # finally add missing +0 charges where mismatched\n",
    "        chargemaps1 = set(re.findall('(?<=[+-]:)[0-9]+(?=])', smarts1))\n",
    "        chargemaps2 = set(re.findall('(?<=[+-]:)[0-9]+(?=])', smarts2))\n",
    "        for chargemap in chargemaps1.symmetric_difference(chargemaps2):\n",
    "            idx = lookup.index(chargemap)\n",
    "            smirks = re.sub('(?<=[0-9]):{}]'.format(idx+1), '+0:{}]'.format(idx+1), smirks)\n",
    "            backup = re.sub('(?<=[0-9]):{}]'.format(idx+1), '+0:{}]'.format(idx+1), backup)\n",
    "\n",
    "        # verify 1:1 reaction\n",
    "        reactor = Reactor(smirks)\n",
    "        if not reactor.assert_one2one():\n",
    "            return smirks, False, 'not one2one reaction', None\n",
    "\n",
    "        # verify derived reaction produces original 'product'\n",
    "        for test in [smirks, backup]:\n",
    "            reactor = Reactor(test)\n",
    "            productlist = reactor.generate_products(smiles1)\n",
    "            if smiles2 in productlist:\n",
    "                return test, True, None, len(productlist) - 1\n",
    "        return backup, False, 'second molecule not found amongst products enumerated from first', len(productlist)\n",
    "    \n",
    "class MMP():\n",
    "    \n",
    "    @staticmethod\n",
    "    def __setEZCode(mol):\n",
    "\n",
    "        # assign E/Z attribute to atoms (not perfect but will do until maximum node & edge weighting implemented)\n",
    "        for bond in mol.GetBonds():\n",
    "            stereo = bond.GetStereo()\n",
    "            if stereo == Chem.BondStereo.STEREONONE: continue\n",
    "            bond.GetBeginAtom().SetProp('_EZCode', str(stereo))\n",
    "            bond.GetEndAtom().SetProp('_EZCode', str(stereo))\n",
    "        return mol\n",
    "\n",
    "    @staticmethod\n",
    "    def __prepareMol(mol: Chem.Mol):\n",
    "\n",
    "        # add hydrogen where defining isomer\n",
    "        isomerics = []\n",
    "        for atom in mol.GetAtoms():\n",
    "            if not atom.HasProp('_CIPCode'): continue\n",
    "            isomerics.append(atom.GetIdx())\n",
    "\n",
    "        # seems all Hs added when isomerics is empty now?\n",
    "        if isomerics:\n",
    "            mol = Chem.AddHs(mol, onlyOnAtoms=isomerics, explicitOnly=True)\n",
    "\n",
    "        # clear mappings and initialise radii (assume all atoms are RECS)\n",
    "        for atom in mol.GetAtoms(): \n",
    "            atom.SetIntProp('molAtomRadius', 0)\n",
    "            atom.ClearProp('molAtomMapNumber')\n",
    "\n",
    "        # return\n",
    "        return mol\n",
    "\n",
    "    def __init__(self, smiles_x: str, smiles_y: str, strictness=8):\n",
    "        '''\n",
    "        Initialise the matched molecular pair.\n",
    "        \n",
    "        smiles_x: First molecule to compare.\n",
    "        smiles_y: Second molecule to compare.\n",
    "        strictness: Integer (1-10) to indicate how tolerant the algortithm should to be to atom-wise chemical differences.\n",
    "            1 (slowest) all atom types match.\n",
    "            10 (fastest) atoms chemically identical to be considered part of mcss.\n",
    "        '''\n",
    "\n",
    "        if strictness-1 not in range(10): return\n",
    "\n",
    "        # store input smiles for posterity\n",
    "        self._smiles1 = Desalinator(smiles_x).getSmiles()\n",
    "        self._smiles2 = Desalinator(smiles_y).getSmiles()\n",
    "\n",
    "        # remove salts from molecules\n",
    "        self._inchi1 = Desalinator(smiles_x).getInchi()\n",
    "        self._inchi2 = Desalinator(smiles_y).getInchi()\n",
    "\n",
    "        # canonicalise salt-free molecules\n",
    "        self._mol1 = Chem.MolFromInchi(self._inchi1)\n",
    "        self._mol2 = Chem.MolFromInchi(self._inchi2)\n",
    "\n",
    "        # set bond stereo where rstill remaining (i.e. non-conjugated)\n",
    "        self._mol1 = self.__setEZCode(self._mol1)\n",
    "        self._mol2 = self.__setEZCode(self._mol2)\n",
    "\n",
    "        # add chiral Hs etc. ahead of MCSS\n",
    "        self._mol1 = self.__prepareMol(self._mol1)\n",
    "        self._mol2 = self.__prepareMol(self._mol2)\n",
    "\n",
    "        # intialise correspondence graph\n",
    "        self._graph = CorrespondenceGraph()\n",
    "        self._graph.build(self._mol1, self._mol2, strictness)\n",
    "        \n",
    "        # dummy vars\n",
    "        self._clique = None\n",
    "        self._mcs = None\n",
    "\n",
    "    def __setAtomMapNumbers(self):        \n",
    "        '''\n",
    "        Use the indices of the best scoring clique to define the atom mappings.\n",
    "        '''\n",
    "\n",
    "        # iterate over the mappings identified from MCSS\n",
    "        for pair in self._clique:\n",
    "            \n",
    "            # increment the index to prevent atom mappings of 0\n",
    "            mapIdx = self._clique.index(pair) + 1\n",
    "            \n",
    "            # map first atom and set radius to 99 (atom part of MCS)\n",
    "            atom1 = self._mol1.GetAtomWithIdx(pair[0])\n",
    "            atom1.SetIntProp('molAtomMapNumber', mapIdx)\n",
    "            \n",
    "            # map second atom and set radius to 99 (atom part of MCS)\n",
    "            atom2 = self._mol2.GetAtomWithIdx(pair[1])\n",
    "            atom2.SetIntProp('molAtomMapNumber', mapIdx)\n",
    "\n",
    "    def __setAtomRadii(self):\n",
    "        '''\n",
    "        Use the atomic radii to denote which atoms are part of the MCS. By elimination, those atoms with radii of 0 will form the RECS.\n",
    "        '''\n",
    "\n",
    "        # iterate over the remaining mappings identified from MCSS\n",
    "        for pair in self._mcs:\n",
    "            \n",
    "            # map first atom and set radius to 99 (atom part of MCS)\n",
    "            atom1 = self._mol1.GetAtomWithIdx(pair[0])\n",
    "            atom1.SetIntProp('molAtomRadius',99)\n",
    "            \n",
    "            # map second atom and set radius to 99 (atom part of MCS)\n",
    "            atom2 = self._mol2.GetAtomWithIdx(pair[1])\n",
    "            atom2.SetIntProp('molAtomRadius',99)\n",
    "            \n",
    "    def __eliminate(self, mol, radius):\n",
    "        '''\n",
    "        Method for elimination of MCS\n",
    "        \n",
    "        mol: molecule with radii set according to __setAtomRadii\n",
    "        radius: size of the environment in bonds beyond which mol is to be pruned\n",
    "        '''\n",
    "\n",
    "        # preserve atoms within <radius> bonds of attachment\n",
    "        toRemove = set(range(mol.GetNumAtoms()))\n",
    "        for atom in mol.GetAtoms():\n",
    "            if atom.GetIntProp('molAtomRadius') > 0: continue\n",
    "            for x in reversed(range(radius+1)):\n",
    "                env = list(Chem.FindAtomEnvironmentOfRadiusN(mol, x, atom.GetIdx()))\n",
    "                if not env: continue\n",
    "                break\n",
    "            for idx in env:\n",
    "                envBond = mol.GetBondWithIdx(idx)\n",
    "                toRemove.discard(envBond.GetBeginAtom().GetIdx())\n",
    "                toRemove.discard(envBond.GetEndAtom().GetIdx())\n",
    "            if radius == 0:\n",
    "                toRemove.discard(atom.GetIdx())\n",
    "\n",
    "        # remove core from environment\n",
    "        toRemove = list(toRemove)\n",
    "        toRemove.sort(reverse=True)\n",
    "        frag = Chem.EditableMol(mol)\n",
    "        for atom in toRemove: frag.RemoveAtom(atom)\n",
    "        frag = frag.GetMol()\n",
    "        frag = Chem.AddHs(frag)\n",
    "        return frag\n",
    "\n",
    "    def execute(self, radii=4):\n",
    "        '''\n",
    "        solver = max_weight_clique\n",
    "        '''\n",
    "        \n",
    "        # predict timeout\n",
    "        if self._graph._predsolversecs > 60: \n",
    "            return [{\n",
    "                'embedding': self._graph._embedding,\n",
    "                'predsolversecs': self._graph._predsolversecs,\n",
    "                'error': 'timeout expected - skipping'\n",
    "            }]\n",
    "\n",
    "        # find the MCS\n",
    "        self._solversecs = timeit.default_timer()\n",
    "        self._clique, self._mcs = self._graph.solve_weighted()\n",
    "        self._solversecs = timeit.default_timer() - self._solversecs\n",
    "\n",
    "        # determine the % of largest molecule covered by MCS\n",
    "        maxnumatoms = max(self._mol1.GetNumAtoms(), self._mol2.GetNumAtoms())\n",
    "        if not maxnumatoms: \n",
    "            return [{\n",
    "                'valid': False,\n",
    "                'error': 'neither mol has any non-salt atoms'\n",
    "            }]\n",
    "        self._percentmcs = len(self._mcs) / maxnumatoms \n",
    "        if not (0 < self._percentmcs < 1): \n",
    "            return [{\n",
    "                'valid': False,\n",
    "                'percentmcs': self._percentmcs,\n",
    "                'error': 'either none, or complete common substructure'\n",
    "            }]\n",
    "        \n",
    "        # search, mark up atom mappings and MCS/RECS split\n",
    "        self.__setAtomMapNumbers()\n",
    "        self.__setAtomRadii()\n",
    "                \n",
    "        # loop from 4 down to 1 bond radius to find smallest valid transformation\n",
    "        responselist = list()\n",
    "        for radius in reversed(range(radii+1)):\n",
    "            \n",
    "            # return list of valid transformations\n",
    "            if radius == 0: return responselist\n",
    "            \n",
    "            # initialise response object\n",
    "            response = {'smiles1': self._smiles1,\n",
    "                        'smiles2': self._smiles2,\n",
    "                        'percentmcs': self._percentmcs,\n",
    "                        'radius': radius,\n",
    "                        'valid': False,\n",
    "                        'solversecs': self._solversecs,\n",
    "                        'embedding': self._graph._embedding,\n",
    "                        'predsolversecs': self._graph._predsolversecs,\n",
    "                        'error': None}\n",
    "            \n",
    "            # Define reaction as SMIRKS while mappings still present\n",
    "            frag1 = self.__eliminate(self._mol1, radius)\n",
    "            frag2 = self.__eliminate(self._mol2, radius)\n",
    "            encoder = SMIRKSEncoder()\n",
    "            smirks, valid, error, biproducts = encoder.encode(frag1, frag2, self._smiles1, self._smiles2)\n",
    "\n",
    "            # remove mappings to yield clean fragments\n",
    "            for atom in frag1.GetAtoms(): atom.ClearProp('molAtomMapNumber')\n",
    "            for atom in frag2.GetAtoms(): atom.ClearProp('molAtomMapNumber')\n",
    "            junk1 = Chem.MolToSmiles(frag1)\n",
    "            junk2 = Chem.MolToSmiles(frag2)\n",
    "\n",
    "            # renumber according to mapping-free output order\n",
    "            frag1 = Chem.RenumberAtoms(frag1, frag1.GetPropsAsDict(True,True)[\"_smilesAtomOutputOrder\"])\n",
    "            frag2 = Chem.RenumberAtoms(frag2, frag2.GetPropsAsDict(True,True)[\"_smilesAtomOutputOrder\"])\n",
    "            frag1 = md5(Chem.MolToSmarts(frag1).encode()).hexdigest()\n",
    "            frag2 = md5(Chem.MolToSmarts(frag2).encode()).hexdigest()\n",
    "            \n",
    "            # return key response elements\n",
    "            response['smirks'] = smirks\n",
    "            response['biproducts'] = biproducts\n",
    "            response['valid'] = valid\n",
    "            response['error'] = error\n",
    "            response['fragment1'] = frag1\n",
    "            response['fragment2'] = frag2\n",
    "            responselist.append(response)"
   ]
  },
  {
   "cell_type": "code",
   "execution_count": 2,
   "metadata": {},
   "outputs": [],
   "source": [
    "# basic examples\n",
    "#mmp = MMP('Cc1cccnc1', 'Cc1ccccn1', strictness=7)\n",
    "#mmp = MMP('Cc1oc(C)cc1', 'Cc1ccc(C)cc1', strictness=7)\n",
    "#mmp = MMP('c1([N+](=O)[O-])ccccc1', 'c1(C(=O)OC)ccccc1', strictness=7)\n",
    "#mmp = MMP('N1CCC1', 'N1CCNCC1', strictness=7)"
   ]
  },
  {
   "cell_type": "code",
   "execution_count": 3,
   "metadata": {},
   "outputs": [],
   "source": [
    "# hdac and pde5\n",
    "#mmp = MMP('Nc1ccccc1NC(=O)c1ccc(-c2ncc(CN3CCC3)cc2F)cc1', 'CCN1CCN(Cc2cnc(-c3ccc(C(=O)Nc4ccccc4N)cc3)c(C)c2)CC1', strictness=7)\n",
    "#mmp = MMP('CCCc1nn(C)c2c(=O)[nH]c(-c3cc(S(=O)(=O)N4CCN(C)CC4)ccc3OCC)nc12', 'CCCc1nc(C)c2c(=O)nc(-c3cc(S(=O)(=O)N4CCN(CC)CC4)ccc3OCC)[nH]n12', strictness=7)"
   ]
  },
  {
   "cell_type": "code",
   "execution_count": 4,
   "metadata": {},
   "outputs": [],
   "source": [
    "# beta2 / stereochem examples\n",
    "#mmp = MMP('CC(C)NC[C@@H](O)c1ccc(O)c(O)c1', 'CC(C)NC[C@H](O)c1ccc(O)c(O)c1', strictness=7)\n",
    "#mmp = MMP('CNC[C@H](O)c1cccc(O)c1', 'CNCC(=O)c1ccc(O)c(O)c1', strictness=7)\n",
    "#mmp = MMP('CC(C)NC[C@H](O)c1ccc(NS(C)(=O)=O)c(O)c1', 'CC(C)NC[C@H](O)c1ccc(O)c(CS(C)(=O)=O)c1', strictness=7)\n",
    "#mmp = MMP('CC(C)c1cc(C(O)CN)ccc1O', 'CCc1ccc(C(O)CN)cc1O', strictness=7)\n",
    "#mmp = MMP('CNC[C@@H](SC)c1ccc(O)c(O)c1', 'CC[C@H](NC(C)C)[C@H](O)c1ccc(O)c(O)c1', strictness=7)"
   ]
  },
  {
   "cell_type": "code",
   "execution_count": 5,
   "metadata": {},
   "outputs": [],
   "source": [
    "# steroids\n",
    "#mmp = MMP('C[C@]12C[C@H](O)[C@H]3[C@@H](CCC4=CC(=O)CC[C@@]43C)[C@@H]1CC[C@]2(O)C(=O)CO', 'CCCC1O[C@@H]2C[C@H]3[C@@H]4CCC5=CC(=O)C=C[C@]5(C)[C@H]4[C@@H](O)C[C@]3(C)[C@]2(C(=O)CO)O1', strictness=7)\n",
    "#mmp = MMP('C[C@]12C[C@H](O)[C@H]3[C@@H](CCC4=CC(=O)CC[C@@]43C)[C@@H]1CC[C@]2(O)C(=O)CO', 'CC12CCC(=O)C=C1CCC1C2C(O)CC2(C)C1CCC2(O)C(=O)CO', strictness=7)\n",
    "#mmp = MMP('C[C@]12C[C@H](O)[C@H]3[C@@H](CCC4=CC(=O)C=C[C@@]43C)[C@@H]1CC[C@]2(O)C(=O)O', 'CCCC1OC2CC3C4CCC5=CC(=O)C=CC5(C)C4C(O)CC3(C)C2(C(=O)O)O1', strictness=7)\n",
    "#mmp = MMP('C[C@]12C[C@H](O)[C@H]3[C@@H](CCC4=CC(=O)C=C[C@@]43C)[C@@H]1CC[C@]2(O)C(=O)CO', 'CCCC1O[C@@H]2C[C@H]3[C@@H]4CCC5=CC(=O)C=C[C@]5(C)[C@H]4[C@@H](O)C[C@]3(C)[C@]2(C(=O)CO)O1', strictness=7)\n",
    "#mmp = MMP('COc1ccc(F)cc1C(C)(C)CC(O)(Cn1cnc2ccccc21)C(F)(F)F', 'C[C@]12C[C@H](O)[C@H]3[C@@H](CCC4=CC(=O)C=C[C@@]43C)[C@@H]1CC[C@]2(O)C(=O)CO', strictness=7)"
   ]
  },
  {
   "cell_type": "code",
   "execution_count": 6,
   "metadata": {},
   "outputs": [],
   "source": [
    "# canonicalization\n",
    "#mmp = MMP('CC(=O)CCc1ccc2ccccc2c1', 'CC(=O)CCc1ccc2cc(Cl)ccc2c1', strictness=7)\n",
    "#mmp = MMP('S=c1[nH]ccn1Cc1ccccc1Cl', 'S=c1[nH]ccn1Cc1cc(Cl)ccc1Cl', strictness=7)\n",
    "#mmp = MMP('NC1=N[C@@H](CCc2ccccc2)CO1', 'NC1=N[C@@H](CCc2cccc(Cl)c2)CO1', strictness=7)"
   ]
  },
  {
   "cell_type": "code",
   "execution_count": 7,
   "metadata": {},
   "outputs": [],
   "source": [
    "# fragment grouping\n",
    "#mmp = MMP('CNCCCCCNCCCCCNC', 'CNCCCCCNCCCCNC', strictness=7)\n",
    "#mmp = MMP('CC(C)CCNCC(P(=O)(O)O)P(=O)(O)O', 'CC(C)CNCC(P(=O)(O)O)P(=O)(O)O', strictness=7)\n",
    "#mmp = MMP('Clc1ccc(N2C[C@@H]3CCNC[C@@H]32)cn1', 'Clc1ccc(N2CC[C@@H]3CN[C@@H]3C2)cn1', strictness=7)\n",
    "#mmp = MMP('Cc1cc(N2C[C@@H]3CCNC[C@@H]32)cnc1Cl', 'Cc1cc(N2CC[C@@H]3CN[C@@H]3C2)cnc1Cl', strictness=7)"
   ]
  },
  {
   "cell_type": "code",
   "execution_count": 8,
   "metadata": {},
   "outputs": [],
   "source": [
    "# _smilesAtomOutputOrder error\n",
    "#mmp = MMP('C[n+]1cccc2[nH]c3ccccc3c21.O=S(=O)([O-])C(F)(F)F', 'C[n+]1cccc2[nH]c3ccccc3c21.[Cl-]', strictness=7)"
   ]
  },
  {
   "cell_type": "code",
   "execution_count": 9,
   "metadata": {},
   "outputs": [],
   "source": [
    "# charge differences\n",
    "#mmp = MMP('C[C@]1(Cn2ccnn2)[C@H](C(=O)[O-])N2C(=O)C[C@H]2S1(=O)=O.[Na+]', 'CC1(C)[C@H](C(=O)O)N2C(=O)C[C@H]2S1(=O)=O', strictness=7)\n",
    "#mmp = MMP('O=C1C=CC[C@@H]2[C@H]3CCC[N+]4([O-])CCC[C@@H](CN12)[C@@H]34', 'O=C1C=CC[C@@H]2[C@H]3CCCN4CCC[C@@](O)(CN12)[C@@H]34', strictness=7)\n",
    "#mmp = MMP('CC1(C)[C@H](C(=O)[O-])N2C(=O)/C(=C/C(=O)[O-])[C@H]2S1(=O)=O.[Na+].[Na+]', 'C[C@]1(Cn2ccnn2)[C@H](C(=O)O)N2C(=O)C[C@H]2S1(=O)=O', strictness=7)"
   ]
  },
  {
   "cell_type": "code",
   "execution_count": 10,
   "metadata": {},
   "outputs": [],
   "source": [
    "# one works the other not\n",
    "#mmp = MMP('C#CCN(C)CC(=C)c1ccccc1F.Cl', 'C#CCN(C)CC(=C)c1ccc(Cl)cc1.O=C(O)C(=O)O', strictness=7)\n",
    "#mmp = MMP('Fc1ccccc1-c1c[nH]nn1', 'Clc1ccc(-c2c[nH]nn2)cc1', strictness=7)"
   ]
  },
  {
   "cell_type": "code",
   "execution_count": 11,
   "metadata": {},
   "outputs": [],
   "source": [
    "# symmetry still an issue for canonization\n",
    "#mmp = MMP('N#Cc1ccc(CNC23CC4CC(CC(C4)C2)C3)cc1', 'c1coc(CNC23CC4CC(CC(C4)C2)C3)c1', strictness=7)\n",
    "#mmp = MMP('N#Cc1ccc(CNc2cc(Br)cc3[nH]ncc23)cc1', 'Brc1cc(NCc2ccco2)c2cn[nH]c2c1', strictness=7)\n",
    "#mmp = MMP('NCc1cc(=O)c2cc(Br)ccc2[nH]1', 'C#Cc1ccc2[nH]c(CN)cc(=O)c2c1', strictness=7)\n",
    "#mmp = MMP('O=C(CO[C@@H](CO)c1ccc(Br)cc1)NO', 'C#Cc1ccc([C@H](CO)OCC(=O)NO)cc1', strictness=7)"
   ]
  },
  {
   "cell_type": "code",
   "execution_count": 12,
   "metadata": {},
   "outputs": [],
   "source": [
    "# mesomers also an issue for validator\n",
    "#mmp = MMP('O=C(/C=C/c1ccccc1)Nc1ccccc1O', 'CC(=O)c1ccccc1NC(=O)/C=C\\c1ccccc1', strictness=7)\n",
    "#mmp = MMP('O=C1CCCC/C1=C\\c1cccc([N+](=O)[O-])c1', 'O=C1CCCC/C1=C\\c1ccc([N+](=O)[O-])cc1', strictness=7)"
   ]
  },
  {
   "cell_type": "code",
   "execution_count": 13,
   "metadata": {},
   "outputs": [],
   "source": [
    "# sometimes the only detectible change is the number of hydrogens\n",
    "#mmp = MMP('CN1CCCC[C@H]1[C@H]1COC(c2ccccc2)(c2ccccc2)O1', 'c1ccc(C2(c3ccccc3)OC[C@H]([C@@H]3CCCCN3)O2)cc1', strictness=7)\n",
    "mmp = MMP('Nc1nc(F)nc2c1ncn2[C@H]1CO[C@H](CO)O1', 'N=c1nc2c(ncn2[C@H]2CO[C@H](CO)O2)c(N)[nH]1', strictness=7)"
   ]
  },
  {
   "cell_type": "code",
   "execution_count": 14,
   "metadata": {},
   "outputs": [
    {
     "data": {
      "text/plain": [
       "(164, 5588)"
      ]
     },
     "execution_count": 14,
     "metadata": {},
     "output_type": "execute_result"
    }
   ],
   "source": [
    "(len(mmp._graph.nodes), len(mmp._graph.edges()))"
   ]
  },
  {
   "cell_type": "code",
   "execution_count": 15,
   "metadata": {},
   "outputs": [
    {
     "data": {
      "text/plain": [
       "[{'smiles1': 'Nc1nc(F)nc2c1ncn2[C@H]1CO[C@H](CO)O1',\n",
       "  'smiles2': 'N=c1nc2c(ncn2[C@H]2CO[C@H](CO)O2)c(N)[nH]1',\n",
       "  'percentmcs': 0.9,\n",
       "  'radius': 4,\n",
       "  'valid': True,\n",
       "  'solversecs': 0.05791148500429699,\n",
       "  'embedding': [0, 4, 12, 62, 33, 30, 19, 4, 0, 0, 0, 0, 0, 0, 0, 0],\n",
       "  'predsolversecs': 0.22100000000000003,\n",
       "  'error': None,\n",
       "  'smirks': '[H]-[#6:6]1:[#7:5]:[#6:4]2:[#7:3]:[#6:2](-[#9:1]):[#7:11]:[#6:9](-[#7:10](-[H])-[H]):[#6:8]:2:[#7:7]:1>>[H]-[#7:1]=[#6:2]1:[#7:3]:[#6:4]2:[#7:5]:[#6:6](-[H]):[#7:7]:[#6:8]:2:[#6:9](-[#7:10](-[H])-[H]):[#7:11]:1-[H]',\n",
       "  'biproducts': 0,\n",
       "  'fragment1': 'ddfda83ed9321133e89dd70ce11b74ae',\n",
       "  'fragment2': '96e2aa88836276f33fd98aa2cd881d00'},\n",
       " {'smiles1': 'Nc1nc(F)nc2c1ncn2[C@H]1CO[C@H](CO)O1',\n",
       "  'smiles2': 'N=c1nc2c(ncn2[C@H]2CO[C@H](CO)O2)c(N)[nH]1',\n",
       "  'percentmcs': 0.9,\n",
       "  'radius': 3,\n",
       "  'valid': True,\n",
       "  'solversecs': 0.05791148500429699,\n",
       "  'embedding': [0, 4, 12, 62, 33, 30, 19, 4, 0, 0, 0, 0, 0, 0, 0, 0],\n",
       "  'predsolversecs': 0.22100000000000003,\n",
       "  'error': None,\n",
       "  'smirks': '[H]-[#7:8](-[H])-[#6:7]1:[#7:9]:[#6:2](-[#9:1]):[#7:3]:[#6:4]:[#6:5]:1:[#7:6]>>[H]-[#7:1]=[#6:2]1:[#7:3]:[#6:4]:[#6:5](:[#7:6]):[#6:7](-[#7:8](-[H])-[H]):[#7:9]:1-[H]',\n",
       "  'biproducts': 0,\n",
       "  'fragment1': '0f31c9862aecf176ae990e6d28bb0f3a',\n",
       "  'fragment2': 'd068c7cc6b0351f20bb2ae0d62109864'},\n",
       " {'smiles1': 'Nc1nc(F)nc2c1ncn2[C@H]1CO[C@H](CO)O1',\n",
       "  'smiles2': 'N=c1nc2c(ncn2[C@H]2CO[C@H](CO)O2)c(N)[nH]1',\n",
       "  'percentmcs': 0.9,\n",
       "  'radius': 2,\n",
       "  'valid': True,\n",
       "  'solversecs': 0.05791148500429699,\n",
       "  'embedding': [0, 4, 12, 62, 33, 30, 19, 4, 0, 0, 0, 0, 0, 0, 0, 0],\n",
       "  'predsolversecs': 0.22100000000000003,\n",
       "  'error': None,\n",
       "  'smirks': '[H]-[#7:7](-[H])-[#6:5](:[#6:6]):[#7:4]:[#6:2](:[#7:3])-[#9:1]>>[H]-[#7:1]=[#6:2](:[#7:3]):[#7:4](-[H]):[#6:5](:[#6:6])-[#7:7](-[H])-[H]',\n",
       "  'biproducts': 0,\n",
       "  'fragment1': '057513c32471ca5ca505c10b1ad4e128',\n",
       "  'fragment2': '9499a725cb28ab6ca3ae1bb5b3f02b25'},\n",
       " {'smiles1': 'Nc1nc(F)nc2c1ncn2[C@H]1CO[C@H](CO)O1',\n",
       "  'smiles2': 'N=c1nc2c(ncn2[C@H]2CO[C@H](CO)O2)c(N)[nH]1',\n",
       "  'percentmcs': 0.9,\n",
       "  'radius': 1,\n",
       "  'valid': True,\n",
       "  'solversecs': 0.05791148500429699,\n",
       "  'embedding': [0, 4, 12, 62, 33, 30, 19, 4, 0, 0, 0, 0, 0, 0, 0, 0],\n",
       "  'predsolversecs': 0.22100000000000003,\n",
       "  'error': None,\n",
       "  'smirks': '[#6:4]:[#7:3]:[#6:2]-[#9:1]>>[H]-[#7:1]=[#6:2]:[#7:3](-[H]):[#6:4]',\n",
       "  'biproducts': 1,\n",
       "  'fragment1': 'e6961e6f4c8b9448b3ca574ff52b3e97',\n",
       "  'fragment2': '3716fb9caf1aa6e5bea65378c933c5c3'}]"
      ]
     },
     "execution_count": 15,
     "metadata": {},
     "output_type": "execute_result"
    }
   ],
   "source": [
    "response = mmp.execute()\n",
    "response"
   ]
  },
  {
   "cell_type": "raw",
   "metadata": {},
   "source": [
    "mmp._solversecs"
   ]
  },
  {
   "cell_type": "raw",
   "metadata": {},
   "source": [
    "mmp.execute()"
   ]
  },
  {
   "cell_type": "raw",
   "metadata": {},
   "source": [
    "def shownodes(x):\n",
    "    try: return (x, mmp._graph.nodes[mmp._graph._idxmaps.index(x)])\n",
    "    except ValueError: (x, None)\n",
    "[shownodes(x) for x in mmp._clique]"
   ]
  },
  {
   "cell_type": "raw",
   "metadata": {},
   "source": [
    "minatoms = min(mmp._mol1.GetNumAtoms(), mmp._mol2.GetNumAtoms())\n",
    "idxclique = [x for x in zip(range(minatoms), range(minatoms))]\n",
    "[shownodes(x) for x in idxclique]"
   ]
  },
  {
   "cell_type": "code",
   "execution_count": 16,
   "metadata": {},
   "outputs": [
    {
     "data": {
      "image/png": "[encoded data removed]",
      "text/plain": [
       "<rdkit.Chem.rdchem.Mol at 0x7f88d404cdf0>"
      ]
     },
     "execution_count": 16,
     "metadata": {},
     "output_type": "execute_result"
    }
   ],
   "source": [
    "mmp._mol1"
   ]
  },
  {
   "cell_type": "code",
   "execution_count": 17,
   "metadata": {},
   "outputs": [
    {
     "data": {
      "image/png": "[encoded data removed]",
      "text/plain": [
       "<rdkit.Chem.rdchem.Mol at 0x7f88d404cf30>"
      ]
     },
     "execution_count": 17,
     "metadata": {},
     "output_type": "execute_result"
    }
   ],
   "source": [
    "mmp._mol2"
   ]
  },
  {
   "cell_type": "raw",
   "metadata": {},
   "source": [
    "[(mmp._graph._idxmaps[e1], mmp._graph._idxmaps[e2], mmp._graph.edges[(e1, e2)]) \n",
    " for e1, e2 in mmp._graph.edges() \n",
    " if (mmp._graph._idxmaps[e1], mmp._graph._idxmaps[e2]) in ((x, y) for x in mmp._clique for y in mmp._clique)]"
   ]
  },
  {
   "cell_type": "raw",
   "metadata": {},
   "source": [
    "[(mmp._graph._idxmaps[e1], mmp._graph._idxmaps[e2], mmp._graph.edges[(e1, e2)]) \n",
    " for e1, e2 in mmp._graph.edges() \n",
    " if (mmp._graph._idxmaps[e1], mmp._graph._idxmaps[e2]) in ((x, y) for x in idxclique for y in idxclique)]"
   ]
  },
  {
   "cell_type": "code",
   "execution_count": 18,
   "metadata": {},
   "outputs": [
    {
     "data": {
      "text/plain": [
       "'e6961e6f4c8b9448b3ca574ff52b3e97'"
      ]
     },
     "execution_count": 18,
     "metadata": {},
     "output_type": "execute_result"
    }
   ],
   "source": [
    "response[3]['fragment1']"
   ]
  },
  {
   "cell_type": "code",
   "execution_count": 19,
   "metadata": {},
   "outputs": [
    {
     "data": {
      "text/plain": [
       "'[#6:4]:[#7:3]:[#6:2]-[#9:1]>>[H]-[#7:1]=[#6:2]:[#7:3](-[H]):[#6:4]'"
      ]
     },
     "execution_count": 19,
     "metadata": {},
     "output_type": "execute_result"
    }
   ],
   "source": [
    "response[3]['smirks']"
   ]
  },
  {
   "cell_type": "code",
   "execution_count": 20,
   "metadata": {},
   "outputs": [
    {
     "data": {
      "image/png": "[encoded data removed]",
      "text/plain": [
       "<rdkit.Chem.rdChemReactions.ChemicalReaction at 0x7f88272787b0>"
      ]
     },
     "execution_count": 20,
     "metadata": {},
     "output_type": "execute_result"
    }
   ],
   "source": [
    "rxn = Chem.rdChemReactions.ReactionFromSmarts(response[3]['smirks'])\n",
    "rxn"
   ]
  },
  {
   "cell_type": "code",
   "execution_count": 21,
   "metadata": {},
   "outputs": [],
   "source": [
    "reactant = Chem.AddHs(Chem.MolFromSmiles(mmp._smiles1))\n",
    "products = rxn.RunReactants((reactant,))"
   ]
  },
  {
   "cell_type": "code",
   "execution_count": 22,
   "metadata": {},
   "outputs": [
    {
     "data": {
      "image/png": "[encoded data removed]",
      "text/plain": [
       "<rdkit.Chem.rdchem.Mol at 0x7f88cc6c6b88>"
      ]
     },
     "execution_count": 22,
     "metadata": {},
     "output_type": "execute_result"
    }
   ],
   "source": [
    "products[0][0]"
   ]
  },
  {
   "cell_type": "code",
   "execution_count": 23,
   "metadata": {},
   "outputs": [
    {
     "data": {
      "text/plain": [
       "'N=c1nc2c(ncn2[C@H]2CO[C@H](CO)O2)c(N)[nH]1'"
      ]
     },
     "execution_count": 23,
     "metadata": {},
     "output_type": "execute_result"
    }
   ],
   "source": [
    "Chem.MolToSmiles(Chem.RemoveHs(products[0][0]))"
   ]
  },
  {
   "cell_type": "code",
   "execution_count": 24,
   "metadata": {},
   "outputs": [
    {
     "data": {
      "text/plain": [
       "'N=c1nc2c(ncn2[C@H]2CO[C@H](CO)O2)c(N)[nH]1'"
      ]
     },
     "execution_count": 24,
     "metadata": {},
     "output_type": "execute_result"
    }
   ],
   "source": [
    "mmp._smiles2"
   ]
  },
  {
   "cell_type": "code",
   "execution_count": 25,
   "metadata": {},
   "outputs": [
    {
     "ename": "AttributeError",
     "evalue": "module 'scipy.sparse' has no attribute 'coo_array'",
     "output_type": "error",
     "traceback": [
      "\u001b[0;31m---------------------------------------------------------------------------\u001b[0m",
      "\u001b[0;31mAttributeError\u001b[0m                            Traceback (most recent call last)",
      "\u001b[0;32m/tmp/ipykernel_21927/4107042192.py\u001b[0m in \u001b[0;36m<module>\u001b[0;34m\u001b[0m\n\u001b[1;32m      1\u001b[0m \u001b[0;32mimport\u001b[0m \u001b[0mscipy\u001b[0m\u001b[0;34m.\u001b[0m\u001b[0mio\u001b[0m \u001b[0;32mas\u001b[0m \u001b[0msio\u001b[0m\u001b[0;34m\u001b[0m\u001b[0m\n\u001b[0;32m----> 2\u001b[0;31m \u001b[0mm\u001b[0m \u001b[0;34m=\u001b[0m \u001b[0mnx\u001b[0m\u001b[0;34m.\u001b[0m\u001b[0mto_scipy_sparse_array\u001b[0m\u001b[0;34m(\u001b[0m\u001b[0mmmp\u001b[0m\u001b[0;34m.\u001b[0m\u001b[0m_graph\u001b[0m\u001b[0;34m)\u001b[0m\u001b[0;34m\u001b[0m\u001b[0m\n\u001b[0m\u001b[1;32m      3\u001b[0m \u001b[0msio\u001b[0m\u001b[0;34m.\u001b[0m\u001b[0mmmwrite\u001b[0m\u001b[0;34m(\u001b[0m\u001b[0;34m'test.mat'\u001b[0m\u001b[0;34m,\u001b[0m \u001b[0mm\u001b[0m\u001b[0;34m)\u001b[0m\u001b[0;34m\u001b[0m\u001b[0m\n",
      "\u001b[0;32m~/anaconda3/envs/wizepair-env/lib/python3.7/site-packages/networkx/convert_matrix.py\u001b[0m in \u001b[0;36mto_scipy_sparse_array\u001b[0;34m(G, nodelist, dtype, weight, format)\u001b[0m\n\u001b[1;32m    919\u001b[0m             \u001b[0mr\u001b[0m \u001b[0;34m+=\u001b[0m \u001b[0mdiag_index\u001b[0m\u001b[0;34m\u001b[0m\u001b[0m\n\u001b[1;32m    920\u001b[0m             \u001b[0mc\u001b[0m \u001b[0;34m+=\u001b[0m \u001b[0mdiag_index\u001b[0m\u001b[0;34m\u001b[0m\u001b[0m\n\u001b[0;32m--> 921\u001b[0;31m         \u001b[0mA\u001b[0m \u001b[0;34m=\u001b[0m \u001b[0msp\u001b[0m\u001b[0;34m.\u001b[0m\u001b[0msparse\u001b[0m\u001b[0;34m.\u001b[0m\u001b[0mcoo_array\u001b[0m\u001b[0;34m(\u001b[0m\u001b[0;34m(\u001b[0m\u001b[0md\u001b[0m\u001b[0;34m,\u001b[0m \u001b[0;34m(\u001b[0m\u001b[0mr\u001b[0m\u001b[0;34m,\u001b[0m \u001b[0mc\u001b[0m\u001b[0;34m)\u001b[0m\u001b[0;34m)\u001b[0m\u001b[0;34m,\u001b[0m \u001b[0mshape\u001b[0m\u001b[0;34m=\u001b[0m\u001b[0;34m(\u001b[0m\u001b[0mnlen\u001b[0m\u001b[0;34m,\u001b[0m \u001b[0mnlen\u001b[0m\u001b[0;34m)\u001b[0m\u001b[0;34m,\u001b[0m \u001b[0mdtype\u001b[0m\u001b[0;34m=\u001b[0m\u001b[0mdtype\u001b[0m\u001b[0;34m)\u001b[0m\u001b[0;34m\u001b[0m\u001b[0m\n\u001b[0m\u001b[1;32m    922\u001b[0m     \u001b[0;32mtry\u001b[0m\u001b[0;34m:\u001b[0m\u001b[0;34m\u001b[0m\u001b[0m\n\u001b[1;32m    923\u001b[0m         \u001b[0;32mreturn\u001b[0m \u001b[0mA\u001b[0m\u001b[0;34m.\u001b[0m\u001b[0masformat\u001b[0m\u001b[0;34m(\u001b[0m\u001b[0mformat\u001b[0m\u001b[0;34m)\u001b[0m\u001b[0;34m\u001b[0m\u001b[0m\n",
      "\u001b[0;31mAttributeError\u001b[0m: module 'scipy.sparse' has no attribute 'coo_array'"
     ]
    }
   ],
   "source": [
    "import scipy.io as sio\n",
    "m = nx.to_scipy_sparse_array(mmp._graph)\n",
    "sio.mmwrite('test.mat', m)"
   ]
  },
  {
   "cell_type": "code",
   "execution_count": null,
   "metadata": {},
   "outputs": [],
   "source": [
    "m"
   ]
  },
  {
   "cell_type": "code",
   "execution_count": null,
   "metadata": {},
   "outputs": [],
   "source": [
    "Chem.MolFromInchi('InChI=1S/C15H13NO2/c17-14-9-5-4-8-13(14)16-15(18)11-10-12-6-2-1-3-7-12/h1-11,17H,(H,16,18)/b11-10+')"
   ]
  },
  {
   "cell_type": "code",
   "execution_count": null,
   "metadata": {},
   "outputs": [],
   "source": [
    "Chem.MolFromInchi('InChI=1S/C17H15NO2/c1-13(19)15-9-5-6-10-16(15)18-17(20)12-11-14-7-3-2-4-8-14/h2-12H,1H3,(H,18,20)/b12-11-')"
   ]
  },
  {
   "cell_type": "code",
   "execution_count": null,
   "metadata": {},
   "outputs": [],
   "source": []
  }
 ],
 "metadata": {
  "kernelspec": {
   "display_name": "Python 3 (ipykernel)",
   "language": "python",
   "name": "python3"
  },
  "language_info": {
   "codemirror_mode": {
    "name": "ipython",
    "version": 3
   },
   "file_extension": ".py",
   "mimetype": "text/x-python",
   "name": "python",
   "nbconvert_exporter": "python",
   "pygments_lexer": "ipython3",
   "version": "3.7.0"
  }
 },
 "nbformat": 4,
 "nbformat_minor": 4
}
