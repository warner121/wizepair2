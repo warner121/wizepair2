{
 "cells": [
  {
   "cell_type": "code",
   "execution_count": 316,
   "metadata": {},
   "outputs": [],
   "source": [
    "import json\n",
    "import re\n",
    "import logging\n",
    "import networkx as nx\n",
    "import numpy as np\n",
    "import timeit\n",
    "\n",
    "from hashlib import md5\n",
    "from rdkit import Chem, RDLogger\n",
    "from rdkit.Chem import SaltRemover\n",
    "from rdkit.Chem.rdChemReactions import ReactionFromSmarts\n",
    "from func_timeout import func_timeout, FunctionTimedOut\n",
    "from networkx.algorithms.clique import enumerate_all_cliques, find_cliques, find_cliques_recursive, max_weight_clique\n",
    "from multiprocessing import Pool\n",
    "\n",
    "# disable C++ logger for production\n",
    "RDLogger.DisableLog('rdApp.*')\n",
    "\n",
    "class CorrespondenceGraph(nx.Graph):\n",
    "    '''\n",
    "    Build the correspondence matrix of putative atom pairings, from which to determine the maximal clique (comprising the MCS). \n",
    "    '''\n",
    "    \n",
    "    def __init__(self):\n",
    "\n",
    "        # inherit from nx.Graph\n",
    "        super().__init__(self)\n",
    "\n",
    "    def build(\n",
    "        self, \n",
    "        mol1, \n",
    "        mol2, \n",
    "        strictness, \n",
    "        sfunc=np.full(9, 10)):\n",
    "        '''\n",
    "        Build the correspondence graph.\n",
    "        \n",
    "        Each atomic pairing is assigned a providional score, from 0 (most different) to 90 (identical). \n",
    "        This pairwise score is appended to the tuple representing each node, following the atomic indices.\n",
    "        '''\n",
    "        # ensure scoring function suitable\n",
    "        assert len(sfunc) == 9\n",
    "        assert (sfunc > 1).all()\n",
    "        \n",
    "        # store strictness for scoring\n",
    "        self._mol1 = mol1\n",
    "        self._mol2 = mol2\n",
    "        self._strict = (sfunc.mean() * strictness) ** 2 # np.sort(sfunc)[:5].sum() ** 2\n",
    "\n",
    "        # calculate distance matrices\n",
    "        self._dmat1 = Chem.GetDistanceMatrix(mol1)\n",
    "        self._dmat2 = Chem.GetDistanceMatrix(mol2)\n",
    "\n",
    "        # assign E/Z attribute to atoms (not perfect but will do until maximum node & edge weighting implemented)\n",
    "        def setEZCode(mol):\n",
    "            for bond in mol.GetBonds():\n",
    "                stereo = bond.GetStereo()\n",
    "                if stereo == Chem.BondStereo.STEREONONE: continue\n",
    "                print(stereo)\n",
    "                bond.GetBeginAtom().SetProp('_EZCode', str(stereo))\n",
    "                bond.GetEndAtom().SetProp('_EZCode', str(stereo))\n",
    "            return mol\n",
    "\n",
    "        self._mol1 = setEZCode(self._mol1)\n",
    "        self._mol2 = setEZCode(self._mol2)\n",
    "        \n",
    "        # extract propery in such a way error is not thrown on comparison\n",
    "        def safeGetProp(atom, propname):\n",
    "            try: return atom.GetProp(propname)\n",
    "            except KeyError: return None\n",
    "            \n",
    "        # create description of how central in molecule atom\n",
    "        def getPeripherality(atom, dmat):\n",
    "            peripherality = dmat[atom.GetIdx()]\n",
    "            return np.mean(peripherality / np.max(peripherality))            \n",
    "                        \n",
    "        # create lookup for atomic index mappings\n",
    "        self._idxmaps = []\n",
    "\n",
    "        # iterate over all potential atom-atom pairings\n",
    "        for atom1 in self._mol1.GetAtoms():\n",
    "            for atom2 in self._mol2.GetAtoms():\n",
    "\n",
    "                # score putative nodes based on atom:atom similarity (0-90 + up to 9.99 point centrality bonus)\n",
    "                score = np.zeros(9)\n",
    "                if atom1.GetAtomicNum() == atom2.GetAtomicNum(): score[0] = 1\n",
    "                if atom1.GetImplicitValence() == atom2.GetImplicitValence(): score[1] = 1\n",
    "                if atom1.GetExplicitValence() == atom2.GetExplicitValence(): score[2] = 1\n",
    "                if atom1.GetFormalCharge() == atom2.GetFormalCharge(): score[3] = 1\n",
    "                if atom1.GetIsAromatic() == atom2.GetIsAromatic(): score[4] = 1\n",
    "                if atom1.GetDegree() == atom2.GetDegree(): score[5] = 1\n",
    "                if atom1.IsInRing() == atom2.IsInRing(): score[6] = 1\n",
    "                if safeGetProp(atom1, '_CIPCode') == safeGetProp(atom2, '_CIPCode'): score[7] = 1\n",
    "                if safeGetProp(atom1, '_EZCode') == safeGetProp(atom2, '_EZCode'): score[8] = 1\n",
    "                score = (score * sfunc).sum()\n",
    "\n",
    "                # apply jitter in the event of a tie\n",
    "                peripherality1 = getPeripherality(atom1, self._dmat1)\n",
    "                peripherality2 = getPeripherality(atom2, self._dmat2)\n",
    "                score += sfunc.min() * (1 - abs(peripherality1 - peripherality2)) * 0.999\n",
    "                score = int(np.floor(score**2))\n",
    "                \n",
    "                # accept node with greater than specified match level\n",
    "                if score >= self._strict: \n",
    "                    newmap = (atom1.GetIdx(), atom2.GetIdx())\n",
    "                    self._idxmaps.append(newmap)\n",
    "                    self.add_node(self._idxmaps.index(newmap), weight=score)\n",
    "                    \n",
    "        # build numpy matrices for weights\n",
    "        self._nodeweights = np.array([self.nodes[x]['weight'] for x in self.nodes()], dtype='int64') / (sfunc.sum() ** 2)\n",
    "        #self._edgeweights = np.zeros((len(self.nodes), len(self.nodes)), dtype='int64')\n",
    "        \n",
    "        # create correspondence graph edges\n",
    "        for node1 in self.nodes():\n",
    "            map1 = self._idxmaps[node1]\n",
    "            for node2 in self.nodes():\n",
    "                map2 = self._idxmaps[node2]\n",
    "                \n",
    "                # only build 1/2 matrix\n",
    "                if node1 > node2: continue\n",
    "                                \n",
    "                # ensure any given atom is not mapped twice in a clique\n",
    "                if map1[0] == map2[0] or map1[1] == map2[1]: continue\n",
    "\n",
    "                # test if criteria are met for correspondence\n",
    "                #correspondence = abs(self._dmat1[map1[0]][map2[0]] - self._dmat2[map1[1]][map2[1]])\n",
    "                #score = int(np.floor(1000/((1+correspondence)**2)))\n",
    "\n",
    "                # check comparative distance between mapped atoms is within tolerance\n",
    "                if (2/3) <= self._dmat1[map1[0]][map2[0]] / self._dmat2[map1[1]][map2[1]] <= (3/2):\n",
    "                    self.add_edge(node1, node2, weight=0)\n",
    "                    #self._edgeweights[node1][node2] = 0\n",
    "                    \n",
    "        # get weighted degrees\n",
    "        self._embedding = [np.log(self._nodeweights[node] * val) for (node, val) in self.degree()]\n",
    "        boundaries = np.sort(np.concatenate((np.linspace(3, 7, 15), [np.inf, np.NINF]), axis=0))\n",
    "        self._embedding = np.histogram(self._embedding, bins=boundaries)[0].tolist()\n",
    "        \n",
    "        # predict solution time using simple linear model\n",
    "        self._predsolversecs = np.sum(self._embedding * np.array([\n",
    "            0.001, 0.001, 0.001, 0.001, 0.001, 0.002, 0.002, 0.003,\n",
    "            0.011, 0.016, 0.030, 0.045, 0.040, 0.048, 0.048, 0.048\n",
    "        ]))\n",
    "           \n",
    "    def score_clique(self, clique):\n",
    "            \n",
    "        # lookup scores from matrices\n",
    "        score = np.sum(self._nodeweights[clique])\n",
    "        #score += np.sum(self._edgeweights[clique].T[clique])   \n",
    "        return score\n",
    "\n",
    "    def filter_mcs(self, clique, clipper=2):\n",
    "        \n",
    "        # remove any atom pairings with less than perfect score, excluding bonus i.e. (10*9)**2 = 9100\n",
    "        mcs = [x for x in clique if self._nodeweights[x] >= 1] \n",
    "        \n",
    "        # replace integer node numbers with atomic index tuples\n",
    "        mcs = [self._idxmaps[x] for x in mcs]\n",
    "        clique = [self._idxmaps[x] for x in clique]\n",
    "        if not len(mcs): return clique, mcs\n",
    "        \n",
    "        # split the tuples and homogenise the distance matrices\n",
    "        idx1, idx2 = zip(*mcs)\n",
    "        dmat1 = self._dmat1[list(idx1)].T[list(idx1)]\n",
    "        dmat2 = self._dmat2[list(idx2)].T[list(idx2)]       \n",
    "        \n",
    "        # take the difference in the reduced distance matries\n",
    "        dmatdiff = np.clip(dmat1, 0, clipper) - np.clip(dmat2, 0, clipper)\n",
    "        idx1 = set([idx1[x] for x in np.where(dmatdiff != 0)[0]])\n",
    "        idx2 = set([idx2[x] for x in np.where(dmatdiff != 0)[1]])\n",
    "\n",
    "        # retain those nodes where the constituent atoms have not drifted (or explicit i.e. chiral H)\n",
    "        mcs = [x for x in mcs\n",
    "               if (x[0] not in idx1 or self._mol1.GetAtomWithIdx(x[0]).GetAtomicNum() == 1)\n",
    "               and (x[1] not in idx2 or self._mol2.GetAtomWithIdx(x[1]).GetAtomicNum() == 1)]\n",
    "        \n",
    "        # return\n",
    "        return clique, mcs\n",
    "                            \n",
    "    def solve_weighted(self, timeout=60):\n",
    "        '''\n",
    "        For testing only, please do not use.\n",
    "        \n",
    "        Execute the maximum weight clique search.\n",
    "        \n",
    "        Returns:\n",
    "            clique - the best scoring clique (including partially matching atoms, and used to derive reaction mappings)\n",
    "            mcs - the subset of bestclique containing exact chemical matches only (to be discarded to produce the RECS)\n",
    "        '''\n",
    "                    \n",
    "        # define function with no arguments (for use with timeout function)\n",
    "        def findCliquesNoArgs(): return max_weight_clique(self)\n",
    "        \n",
    "        # try finding cliques within [timeout] seconds\n",
    "        try:\n",
    "            clique, maxweight = func_timeout(timeout, findCliquesNoArgs)\n",
    "        except FunctionTimedOut:\n",
    "            logging.warning(json.dumps({\"message\": \"failed to find cliques in {} seconds\".format(timeout)}))\n",
    "            return list(), list()\n",
    "\n",
    "        # lookup scores from matrices (purely for comparison with return from max_weight_cliques)\n",
    "        score = self.score_clique(clique)\n",
    "\n",
    "        # remap to indices and remove atomic/drift based discrepancies from mcs\n",
    "        clique, mcs = self.filter_mcs(clique)\n",
    "        \n",
    "        # return results\n",
    "        return clique, mcs\n",
    "\n",
    "class Reactor():\n",
    "    \n",
    "    def __init__(self, smirks):        \n",
    "        '''\n",
    "        Instantiate MMP 'Reactor'.\n",
    "        \n",
    "        smirks: SMIRKS encoded reaction.\n",
    "        '''\n",
    "        \n",
    "        self._rxn = Chem.rdChemReactions.ReactionFromSmarts(smirks)\n",
    "\n",
    "    def assert_one2one(self):\n",
    "        '''\n",
    "        Assert 1:1 relationship between reactants and products.\n",
    "        '''\n",
    "            \n",
    "        try: \n",
    "            assert self._rxn.GetNumReactantTemplates() == 1\n",
    "            assert self._rxn.GetNumProductTemplates() == 1\n",
    "            return True\n",
    "        except AssertionError:\n",
    "            logging.info(json.dumps({\"message\": \"no 1:1 reaction could be generated\"}))\n",
    "            return False\n",
    "     \n",
    "    def generate_products(self, smiles):\n",
    "        '''\n",
    "        Return products as list of SMILES.\n",
    "        \n",
    "        smiles: SMILES to serve as seed or reactant.\n",
    "        '''\n",
    "            \n",
    "        reactant = Chem.AddHs(Chem.MolFromSmiles(smiles))\n",
    "        products = self._rxn.RunReactants((reactant,))\n",
    "        productset = set()\n",
    "        for product in products:\n",
    "            try:\n",
    "                productparts = [Chem.MolToSmiles(Chem.RemoveHs(productpart)) for productpart in product]\n",
    "                productset.add('.'.join(productparts))\n",
    "            except (Chem.AtomValenceException, Chem.AtomKekulizeException, Chem.KekulizeException):\n",
    "                logging.info(json.dumps({\"message\": \"MolSanitizeException raised on product enumeration\"}))\n",
    "        return list(productset)\n",
    "\n",
    "class Desalinator():\n",
    "    \n",
    "    def __init__(self, smiles):\n",
    "\n",
    "        # parse smiles\n",
    "        try: mol = Chem.MolFromSmiles(smiles)\n",
    "        except: return None\n",
    "    \n",
    "        # remove salts\n",
    "        remover = SaltRemover.SaltRemover()\n",
    "        mol, salts = remover.StripMolWithDeleted(mol)\n",
    "        \n",
    "        # retain largest fragment\n",
    "        largest = Chem.Mol()\n",
    "        for submol in Chem.GetMolFrags(mol, asMols=True): \n",
    "            if submol.GetNumHeavyAtoms() <= largest.GetNumHeavyAtoms(): continue\n",
    "            largest = submol\n",
    "        mol = largest\n",
    "        \n",
    "        # create mol attribute\n",
    "        self._smiles = Chem.MolToSmiles(mol)\n",
    "\n",
    "    def getSmiles(self):\n",
    "\n",
    "        return self._smiles\n",
    "\n",
    "class SMIRKSEncoder():\n",
    "    \n",
    "    def __init__(self):\n",
    "        \n",
    "        return None\n",
    "        \n",
    "    def encode(self, frag1, frag2, smiles1, smiles2):\n",
    "        '''\n",
    "        Returns tuple of (\n",
    "            smirks: str, \n",
    "            valid: bool, \n",
    "            error: str,\n",
    "            biproducts: int)\n",
    "        '''\n",
    "\n",
    "        def getMolAtomMapNumber(atom):\n",
    "            try: return atom.GetProp('molAtomMapNumber')\n",
    "            except KeyError: return None\n",
    "\n",
    "        # save backup in case this fails validation\n",
    "        smarts1 = Chem.MolToSmarts(frag1)\n",
    "        smarts2 = Chem.MolToSmarts(frag2)\n",
    "        backup = '{}>>{}'.format(smarts1, smarts2)\n",
    "\n",
    "        # extract index/mapping lookup of atom all (including None) mappings\n",
    "        mappings1 = list(enumerate([getMolAtomMapNumber(atom) for atom in frag1.GetAtoms()]))\n",
    "        mappings2 = list(enumerate([getMolAtomMapNumber(atom) for atom in frag2.GetAtoms()]))\n",
    "\n",
    "        # strip of mappings and call MolToSmiles to define _smilesAtomOutputOrder\n",
    "        for atom in frag1.GetAtoms(): atom.ClearProp('molAtomMapNumber')\n",
    "        for atom in frag2.GetAtoms(): atom.ClearProp('molAtomMapNumber')\n",
    "        junk1 = Chem.MolToSmiles(frag1)\n",
    "        junk2 = Chem.MolToSmiles(frag2)\n",
    "\n",
    "        # put the original mappings back\n",
    "        for mapping in mappings1:\n",
    "            if not mapping[1]: continue\n",
    "            frag1.GetAtomWithIdx(mapping[0]).SetIntProp('molAtomMapNumber', int(mapping[1]))\n",
    "        for mapping in mappings2:\n",
    "            if not mapping[1]: continue\n",
    "            frag2.GetAtomWithIdx(mapping[0]).SetIntProp('molAtomMapNumber', int(mapping[1]))\n",
    "\n",
    "        # renumber according to mapping-free output order\n",
    "        frag1 = Chem.RenumberAtoms(frag1, frag1.GetPropsAsDict(True,True)[\"_smilesAtomOutputOrder\"])\n",
    "        frag2 = Chem.RenumberAtoms(frag2, frag2.GetPropsAsDict(True,True)[\"_smilesAtomOutputOrder\"])\n",
    "        smarts1 = Chem.MolToSmarts(frag1)\n",
    "        smarts2 = Chem.MolToSmarts(frag2)\n",
    "\n",
    "        # arbitrarily define dominant fragment and \n",
    "        hashstr1 = re.sub('(?<=:)[0-9]+(?=])', 'X', smarts1)\n",
    "        hashstr2 = re.sub('(?<=:)[0-9]+(?=])', 'X', smarts2)\n",
    "        if hashstr1 > hashstr2: lookup = re.findall('(?<=:)[0-9]+(?=])', smarts1)\n",
    "        else: lookup = re.findall('(?<=:)[0-9]+(?=])', smarts2)\n",
    "\n",
    "        # replace with sequentially ordered mappings from 1\n",
    "        smirks = '{}>>{}'.format(smarts1, smarts2)\n",
    "        for idx, swap in enumerate(lookup):\n",
    "            smirks = re.sub(':{}]'.format(swap), ':X{}]'.format(idx+1), smirks)\n",
    "            backup = re.sub(':{}]'.format(swap), ':X{}]'.format(idx+1), backup)\n",
    "        smirks = re.sub(':X', ':', smirks)\n",
    "        backup = re.sub(':X', ':', backup)\n",
    "\n",
    "        # finally add missing +0 charges where mismatched\n",
    "        chargemaps1 = set(re.findall('(?<=[+-]:)[0-9]+(?=])', smarts1))\n",
    "        chargemaps2 = set(re.findall('(?<=[+-]:)[0-9]+(?=])', smarts2))\n",
    "        for chargemap in chargemaps1.symmetric_difference(chargemaps2):\n",
    "            idx = lookup.index(chargemap)\n",
    "            smirks = re.sub('(?<=[0-9]):{}]'.format(idx+1), '+0:{}]'.format(idx+1), smirks)\n",
    "            backup = re.sub('(?<=[0-9]):{}]'.format(idx+1), '+0:{}]'.format(idx+1), backup)\n",
    "\n",
    "        # verify 1:1 reaction\n",
    "        reactor = Reactor(smirks)\n",
    "        if not reactor.assert_one2one():\n",
    "            return smirks, False, 'not one2one reaction', None\n",
    "\n",
    "        # verify derived reaction produces original 'product'\n",
    "        for test in [smirks, backup]:\n",
    "            reactor = Reactor(test)\n",
    "            productlist = reactor.generate_products(smiles1)\n",
    "            if smiles2 in productlist:\n",
    "                return test, True, None, len(productlist) - 1\n",
    "        return backup, False, 'second molecule not found amongst products enumerated from first', len(productlist)\n",
    "    \n",
    "class MMP():\n",
    "    \n",
    "    @staticmethod\n",
    "    def __prepareMol(mol: Chem.Mol):\n",
    "\n",
    "        # add hydrogen where defining isomer\n",
    "        isomerics = []\n",
    "        for atom in mol.GetAtoms():\n",
    "            if not atom.HasProp('_CIPCode'): continue\n",
    "            isomerics.append(atom.GetIdx())\n",
    "        mol = Chem.AddHs(mol, onlyOnAtoms=isomerics, explicitOnly=True)\n",
    "                      \n",
    "        # clear mappings and initialise radii (assume all atoms are RECS)\n",
    "        for atom in mol.GetAtoms(): \n",
    "            atom.SetIntProp('molAtomRadius', 0)\n",
    "            atom.ClearProp('molAtomMapNumber')\n",
    "            \n",
    "        # return\n",
    "        return mol\n",
    "    \n",
    "    def __init__(self, smiles_x: str, smiles_y: str, strictness=4):\n",
    "        '''\n",
    "        Initialise the matched molecular pair.\n",
    "        \n",
    "        smiles_x: First molecule to compare.\n",
    "        smiles_y: Second molecule to compare.\n",
    "        strictness: Integer (1-8) to indicate how tolerant the algortithm should to be to atom-wise chemical differences. \n",
    "            1 (slowest) all atom types match.\n",
    "            8 (fastest) atoms chemically identical to be considered part of mcss.  \n",
    "        '''\n",
    "        \n",
    "        if strictness-1 not in range(8): return\n",
    "        \n",
    "        # remove salts from molecules\n",
    "        self._smiles1 = Desalinator(smiles_x).getSmiles()\n",
    "        self._smiles2 = Desalinator(smiles_y).getSmiles()\n",
    "\n",
    "        # canonicalise salt-free molecules\n",
    "        self._mol1 = Chem.MolFromSmiles(self._smiles1)\n",
    "        self._mol2 = Chem.MolFromSmiles(self._smiles2)\n",
    "                 \n",
    "        # add chiral Hs etc. ahead of MCSS\n",
    "        self._mol1 = self.__prepareMol(self._mol1)\n",
    "        self._mol2 = self.__prepareMol(self._mol2)\n",
    "\n",
    "        # intialise correspondence graph\n",
    "        self._graph = CorrespondenceGraph()\n",
    "        self._graph.build(self._mol1, self._mol2, strictness)\n",
    "        \n",
    "        # dummy vars\n",
    "        self._clique = None\n",
    "        self._mcs = None\n",
    "\n",
    "    def __setAtomMapNumbers(self):        \n",
    "        '''\n",
    "        Use the indices of the best scoring clique to define the atom mappings.\n",
    "        '''\n",
    "\n",
    "        # iterate over the mappings identified from MCSS\n",
    "        for pair in self._clique:\n",
    "            \n",
    "            # increment the index to prevent atom mappings of 0\n",
    "            mapIdx = self._clique.index(pair) + 1\n",
    "            \n",
    "            # map first atom and set radius to 99 (atom part of MCS)\n",
    "            atom1 = self._mol1.GetAtomWithIdx(pair[0])\n",
    "            atom1.SetIntProp('molAtomMapNumber', mapIdx)\n",
    "            \n",
    "            # map second atom and set radius to 99 (atom part of MCS)\n",
    "            atom2 = self._mol2.GetAtomWithIdx(pair[1])\n",
    "            atom2.SetIntProp('molAtomMapNumber', mapIdx)\n",
    "\n",
    "    def __setAtomRadii(self):\n",
    "        '''\n",
    "        Use the atomic radii to denote which atoms are part of the MCS. By elimination, those atoms with radii of 0 will form the RECS.\n",
    "        '''\n",
    "\n",
    "        # iterate over the remaining mappings identified from MCSS\n",
    "        for pair in self._mcs:\n",
    "            \n",
    "            # map first atom and set radius to 99 (atom part of MCS)\n",
    "            atom1 = self._mol1.GetAtomWithIdx(pair[0])\n",
    "            atom1.SetIntProp('molAtomRadius',99)\n",
    "            \n",
    "            # map second atom and set radius to 99 (atom part of MCS)\n",
    "            atom2 = self._mol2.GetAtomWithIdx(pair[1])\n",
    "            atom2.SetIntProp('molAtomRadius',99)\n",
    "\n",
    "    def execute(self, radii=4):\n",
    "        '''\n",
    "        solver = max_weight_clique\n",
    "        '''\n",
    "        \n",
    "        # predict timeout\n",
    "        if self._graph._predsolversecs > 60: \n",
    "            return [{\n",
    "                'embedding': self._graph._embedding,\n",
    "                'predsolversecs': self._graph._predsolversecs,\n",
    "                'error': 'timeout expected - skipping'\n",
    "            }]\n",
    "\n",
    "        # find the MCS\n",
    "        self._solversecs = timeit.default_timer()\n",
    "        self._clique, self._mcs = self._graph.solve_weighted()\n",
    "        self._solversecs = timeit.default_timer() - self._solversecs\n",
    "\n",
    "        # determine the % of largest molecule covered by MCS\n",
    "        maxnumatoms = max(self._mol1.GetNumAtoms(), self._mol2.GetNumAtoms())\n",
    "        if not maxnumatoms: \n",
    "            return [{\n",
    "                'valid': False,\n",
    "                'error': 'neither mol has any non-salt atoms'\n",
    "            }]\n",
    "        self._percentmcs = len(self._mcs) / maxnumatoms \n",
    "        if not (0 < self._percentmcs < 1): \n",
    "            return [{\n",
    "                'valid': False,\n",
    "                'percentmcs': self._percentmcs,\n",
    "                'error': 'either none, or complete common substructure'\n",
    "            }]\n",
    "        \n",
    "        # search, mark up atom mappings and MCS/RECS split\n",
    "        self.__setAtomMapNumbers()\n",
    "        self.__setAtomRadii()\n",
    "                \n",
    "        # define function for elimination of MCS\n",
    "        def eliminate(mol, radius):\n",
    "            \n",
    "            # preserve atoms within <radius> bonds of attachment\n",
    "            toRemove = set(range(mol.GetNumAtoms()))\n",
    "            for atom in mol.GetAtoms():\n",
    "                if atom.GetIntProp('molAtomRadius') > 0: continue\n",
    "                for x in reversed(range(radius+1)):\n",
    "                    env = list(Chem.FindAtomEnvironmentOfRadiusN(mol, x, atom.GetIdx()))\n",
    "                    if not len(env): continue\n",
    "                    break\n",
    "                for idx in env:\n",
    "                    envBond = mol.GetBondWithIdx(idx)\n",
    "                    toRemove.discard(envBond.GetBeginAtom().GetIdx())\n",
    "                    toRemove.discard(envBond.GetEndAtom().GetIdx())\n",
    "                if radius == 0:\n",
    "                    toRemove.discard(atom.GetIdx())\n",
    "                        \n",
    "            # remove environment from core\n",
    "            toRemove = list(toRemove)\n",
    "            toRemove.sort(reverse=True)\n",
    "            frag = Chem.EditableMol(mol)\n",
    "            for atom in toRemove: frag.RemoveAtom(atom)\n",
    "            frag = frag.GetMol()\n",
    "            frag = Chem.AddHs(frag)\n",
    "            return frag        \n",
    "\n",
    "        # loop from 4 down to 1 bond radius to find smallest valid transformation\n",
    "        responselist = list()\n",
    "        for radius in reversed(range(radii+1)):\n",
    "            \n",
    "            # return list of valid transformations\n",
    "            if radius == 0: return responselist\n",
    "            \n",
    "            # initialise response object\n",
    "            response = {'smiles1': self._smiles1,\n",
    "                        'smiles2': self._smiles2,\n",
    "                        'percentmcs': self._percentmcs,\n",
    "                        'radius': radius,\n",
    "                        'valid': False,\n",
    "                        'solversecs': self._solversecs,\n",
    "                        'embedding': self._graph._embedding,\n",
    "                        'predsolversecs': self._graph._predsolversecs,\n",
    "                        'error': None}\n",
    "            \n",
    "            # Define reaction as SMIRKS while mappings still present\n",
    "            frag1 = eliminate(self._mol1, radius)\n",
    "            frag2 = eliminate(self._mol2, radius)   \n",
    "            encoder = SMIRKSEncoder()\n",
    "            smirks, valid, error, biproducts = encoder.encode(frag1, frag2, self._smiles1, self._smiles2)\n",
    "\n",
    "            # remove mappings to yield clean fragments\n",
    "            for atom in frag1.GetAtoms(): atom.ClearProp('molAtomMapNumber')\n",
    "            for atom in frag2.GetAtoms(): atom.ClearProp('molAtomMapNumber')\n",
    "            junk1 = Chem.MolToSmiles(frag1)\n",
    "            junk2 = Chem.MolToSmiles(frag2)\n",
    "\n",
    "            # renumber according to mapping-free output order\n",
    "            frag1 = Chem.RenumberAtoms(frag1, frag1.GetPropsAsDict(True,True)[\"_smilesAtomOutputOrder\"])\n",
    "            frag2 = Chem.RenumberAtoms(frag2, frag2.GetPropsAsDict(True,True)[\"_smilesAtomOutputOrder\"])\n",
    "            frag1 = md5(Chem.MolToSmarts(frag1).encode()).hexdigest()\n",
    "            frag2 = md5(Chem.MolToSmarts(frag2).encode()).hexdigest()\n",
    "            \n",
    "            # return key response elements\n",
    "            response['smirks'] = smirks\n",
    "            response['biproducts'] = biproducts\n",
    "            response['valid'] = valid\n",
    "            response['error'] = error\n",
    "            response['fragment1'] = frag1\n",
    "            response['fragment2'] = frag2\n",
    "            responselist.append(response)"
   ]
  },
  {
   "cell_type": "code",
   "execution_count": 317,
   "metadata": {},
   "outputs": [],
   "source": [
    "# basic examples\n",
    "#mmp = MMP('Cc1cccnc1', 'Cc1ccccn1', strictness=5)\n",
    "#mmp = MMP('Cc1oc(C)cc1', 'Cc1ccc(C)cc1', strictness=5)\n",
    "#mmp = MMP('c1([N+](=O)[O-])ccccc1', 'c1(C(=O)OC)ccccc1', strictness=5)\n",
    "#mmp = MMP('N1CCC1', 'N1CCNCC1', strictness=5)"
   ]
  },
  {
   "cell_type": "code",
   "execution_count": 318,
   "metadata": {},
   "outputs": [],
   "source": [
    "# hdac and pde5\n",
    "#mmp = MMP('Nc1ccccc1NC(=O)c1ccc(-c2ncc(CN3CCC3)cc2F)cc1', 'CCN1CCN(Cc2cnc(-c3ccc(C(=O)Nc4ccccc4N)cc3)c(C)c2)CC1', strictness=5)\n",
    "#mmp = MMP('CCCc1nn(C)c2c(=O)[nH]c(-c3cc(S(=O)(=O)N4CCN(C)CC4)ccc3OCC)nc12', 'CCCc1nc(C)c2c(=O)nc(-c3cc(S(=O)(=O)N4CCN(CC)CC4)ccc3OCC)[nH]n12', strictness=5)"
   ]
  },
  {
   "cell_type": "code",
   "execution_count": 319,
   "metadata": {},
   "outputs": [],
   "source": [
    "# beta2 / stereochem examples\n",
    "#mmp = MMP('CC(C)NC[C@@H](O)c1ccc(O)c(O)c1', 'CC(C)NC[C@H](O)c1ccc(O)c(O)c1', strictness=8)\n",
    "#mmp = MMP('CNC[C@H](O)c1cccc(O)c1', 'CNCC(=O)c1ccc(O)c(O)c1', strictness=8)\n",
    "#mmp = MMP('CC(C)NC[C@H](O)c1ccc(NS(C)(=O)=O)c(O)c1', 'CC(C)NC[C@H](O)c1ccc(O)c(CS(C)(=O)=O)c1', strictness=5)\n",
    "#mmp = MMP('CC(C)c1cc(C(O)CN)ccc1O', 'CCc1ccc(C(O)CN)cc1O', strictness=8)\n",
    "#mmp = MMP('CNC[C@@H](SC)c1ccc(O)c(O)c1', 'CC[C@H](NC(C)C)[C@H](O)c1ccc(O)c(O)c1', strictness=5)"
   ]
  },
  {
   "cell_type": "code",
   "execution_count": 344,
   "metadata": {},
   "outputs": [],
   "source": [
    "# steroids\n",
    "#mmp = MMP('C[C@]12C[C@H](O)[C@H]3[C@@H](CCC4=CC(=O)CC[C@@]43C)[C@@H]1CC[C@]2(O)C(=O)CO', 'CCCC1O[C@@H]2C[C@H]3[C@@H]4CCC5=CC(=O)C=C[C@]5(C)[C@H]4[C@@H](O)C[C@]3(C)[C@]2(C(=O)CO)O1', strictness=5)\n",
    "#mmp = MMP('C[C@]12C[C@H](O)[C@H]3[C@@H](CCC4=CC(=O)CC[C@@]43C)[C@@H]1CC[C@]2(O)C(=O)CO', 'CC12CCC(=O)C=C1CCC1C2C(O)CC2(C)C1CCC2(O)C(=O)CO', strictness=5)\n",
    "#mmp = MMP('C[C@]12C[C@H](O)[C@H]3[C@@H](CCC4=CC(=O)C=C[C@@]43C)[C@@H]1CC[C@]2(O)C(=O)O', 'CCCC1OC2CC3C4CCC5=CC(=O)C=CC5(C)C4C(O)CC3(C)C2(C(=O)O)O1', strictness=5)\n",
    "#mmp = MMP('C[C@]12C[C@H](O)[C@H]3[C@@H](CCC4=CC(=O)C=C[C@@]43C)[C@@H]1CC[C@]2(O)C(=O)CO', 'CCCC1O[C@@H]2C[C@H]3[C@@H]4CCC5=CC(=O)C=C[C@]5(C)[C@H]4[C@@H](O)C[C@]3(C)[C@]2(C(=O)CO)O1', strictness=5)\n",
    "#mmp = MMP('COc1ccc(F)cc1C(C)(C)CC(O)(Cn1cnc2ccccc21)C(F)(F)F', 'C[C@]12C[C@H](O)[C@H]3[C@@H](CCC4=CC(=O)C=C[C@@]43C)[C@@H]1CC[C@]2(O)C(=O)CO', strictness=5)"
   ]
  },
  {
   "cell_type": "code",
   "execution_count": 345,
   "metadata": {},
   "outputs": [],
   "source": [
    "# canonicalization\n",
    "#mmp = MMP('CC(=O)CCc1ccc2ccccc2c1', 'CC(=O)CCc1ccc2cc(Cl)ccc2c1', strictness=5)\n",
    "#mmp = MMP('S=c1[nH]ccn1Cc1ccccc1Cl', 'S=c1[nH]ccn1Cc1cc(Cl)ccc1Cl', strictness=5)\n",
    "#mmp = MMP('NC1=N[C@@H](CCc2ccccc2)CO1', 'NC1=N[C@@H](CCc2cccc(Cl)c2)CO1', strictness=5)"
   ]
  },
  {
   "cell_type": "code",
   "execution_count": 346,
   "metadata": {},
   "outputs": [],
   "source": [
    "# fragment grouping\n",
    "#mmp = MMP('CNCCCCCNCCCCCNC', 'CNCCCCCNCCCCNC', strictness=5)\n",
    "#mmp = MMP('CC(C)CCNCC(P(=O)(O)O)P(=O)(O)O', 'CC(C)CNCC(P(=O)(O)O)P(=O)(O)O', strictness=5)\n",
    "#mmp = MMP('Clc1ccc(N2C[C@@H]3CCNC[C@@H]32)cn1', 'Clc1ccc(N2CC[C@@H]3CN[C@@H]3C2)cn1', strictness=5)\n",
    "#mmp = MMP('Cc1cc(N2C[C@@H]3CCNC[C@@H]32)cnc1Cl', 'Cc1cc(N2CC[C@@H]3CN[C@@H]3C2)cnc1Cl', strictness=5)"
   ]
  },
  {
   "cell_type": "code",
   "execution_count": 347,
   "metadata": {},
   "outputs": [],
   "source": [
    "# _smilesAtomOutputOrder error\n",
    "#mmp = MMP('C[n+]1cccc2[nH]c3ccccc3c21.O=S(=O)([O-])C(F)(F)F', 'C[n+]1cccc2[nH]c3ccccc3c21.[Cl-]', strictness=5)"
   ]
  },
  {
   "cell_type": "code",
   "execution_count": 348,
   "metadata": {},
   "outputs": [],
   "source": [
    "# charge differences\n",
    "#mmp = MMP('C[C@]1(Cn2ccnn2)[C@H](C(=O)[O-])N2C(=O)C[C@H]2S1(=O)=O.[Na+]', 'CC1(C)[C@H](C(=O)O)N2C(=O)C[C@H]2S1(=O)=O', strictness=5)\n",
    "#mmp = MMP('O=C1C=CC[C@@H]2[C@H]3CCC[N+]4([O-])CCC[C@@H](CN12)[C@@H]34', 'O=C1C=CC[C@@H]2[C@H]3CCCN4CCC[C@@](O)(CN12)[C@@H]34', strictness=5)\n",
    "#mmp = MMP('CC1(C)[C@H](C(=O)[O-])N2C(=O)/C(=C/C(=O)[O-])[C@H]2S1(=O)=O.[Na+].[Na+]', 'C[C@]1(Cn2ccnn2)[C@H](C(=O)O)N2C(=O)C[C@H]2S1(=O)=O', strictness=5)"
   ]
  },
  {
   "cell_type": "code",
   "execution_count": 349,
   "metadata": {},
   "outputs": [],
   "source": [
    "# one works the other not\n",
    "#mmp = MMP('C#CCN(C)CC(=C)c1ccccc1F.Cl', 'C#CCN(C)CC(=C)c1ccc(Cl)cc1.O=C(O)C(=O)O', strictness=5)\n",
    "#mmp = MMP('Fc1ccccc1-c1c[nH]nn1', 'Clc1ccc(-c2c[nH]nn2)cc1', strictness=5)"
   ]
  },
  {
   "cell_type": "code",
   "execution_count": 350,
   "metadata": {},
   "outputs": [],
   "source": [
    "# symmetry still an issue for canonization\n",
    "#mmp = MMP('N#Cc1ccc(CNC23CC4CC(CC(C4)C2)C3)cc1', 'c1coc(CNC23CC4CC(CC(C4)C2)C3)c1', strictness=5)\n",
    "#mmp = MMP('N#Cc1ccc(CNc2cc(Br)cc3[nH]ncc23)cc1', 'Brc1cc(NCc2ccco2)c2cn[nH]c2c1', strictness=5)\n",
    "#mmp = MMP('NCc1cc(=O)c2cc(Br)ccc2[nH]1', 'C#Cc1ccc2[nH]c(CN)cc(=O)c2c1', strictness=5)\n",
    "#mmp = MMP('O=C(CO[C@@H](CO)c1ccc(Br)cc1)NO', 'C#Cc1ccc([C@H](CO)OCC(=O)NO)cc1', strictness=5)"
   ]
  },
  {
   "cell_type": "code",
   "execution_count": 354,
   "metadata": {},
   "outputs": [],
   "source": [
    "# mesomers also an issue for validator\n",
    "#mmp = MMP('O=C(/C=C/c1ccccc1)Nc1ccccc1O', 'CC(=O)c1ccccc1NC(=O)/C=C\\c1ccccc1', strictness=5)\n",
    "mmp = MMP('CN1CCC[C@H]1[C@@H]1COc2ccc(O)cc2O1', 'CC(=O)c1ccc2c(c1)O[C@H]([C@@H]1CCCN1C)CO2', strictness=5)"
   ]
  },
  {
   "cell_type": "code",
   "execution_count": 355,
   "metadata": {},
   "outputs": [
    {
     "data": {
      "text/plain": [
       "(282, 14909)"
      ]
     },
     "execution_count": 355,
     "metadata": {},
     "output_type": "execute_result"
    }
   ],
   "source": [
    "(len(mmp._graph.nodes), len(mmp._graph.edges()))"
   ]
  },
  {
   "cell_type": "code",
   "execution_count": 356,
   "metadata": {},
   "outputs": [
    {
     "data": {
      "text/plain": [
       "[{'smiles1': 'CN1CCC[C@H]1[C@@H]1COc2ccc(O)cc2O1',\n",
       "  'smiles2': 'CC(=O)c1ccc2c(c1)O[C@H]([C@@H]1CCCN1C)CO2',\n",
       "  'percentmcs': 0.8571428571428571,\n",
       "  'radius': 4,\n",
       "  'valid': True,\n",
       "  'solversecs': 0.21188063199952012,\n",
       "  'embedding': [0, 0, 8, 77, 99, 34, 19, 33, 12, 0, 0, 0, 0, 0, 0, 0],\n",
       "  'predsolversecs': 0.521,\n",
       "  'error': None,\n",
       "  'smirks': '[H]-[#8:1]-[#6:2]1:[#6:3](-[H]):[#6:4](-[H]):[#6:5]:[#6:6](-[#8:7]):[#6:8]:1-[H]>>[H]-[#6:4]1:[#6:5]:[#6:6](-[#8:7]):[#6:8](-[H]):[#6:2](-[#6:1](=[#8])-[#6](-[H])(-[H])-[H]):[#6:3]:1-[H]',\n",
       "  'biproducts': 0,\n",
       "  'fragment1': '04a7a4bb99e0146ca736102a63e36d0d',\n",
       "  'fragment2': 'f7966c38ff0642774a44e01eaaf5f7bb'},\n",
       " {'smiles1': 'CN1CCC[C@H]1[C@@H]1COc2ccc(O)cc2O1',\n",
       "  'smiles2': 'CC(=O)c1ccc2c(c1)O[C@H]([C@@H]1CCCN1C)CO2',\n",
       "  'percentmcs': 0.8571428571428571,\n",
       "  'radius': 3,\n",
       "  'valid': True,\n",
       "  'solversecs': 0.21188063199952012,\n",
       "  'embedding': [0, 0, 8, 77, 99, 34, 19, 33, 12, 0, 0, 0, 0, 0, 0, 0],\n",
       "  'predsolversecs': 0.521,\n",
       "  'error': None,\n",
       "  'smirks': '[H]-[#6:1]:[#6:2](-[H]):[#6:3](-[#8:4]-[H]):[#6:5](-[H]):[#6:6]>>[H]-[#6:1]:[#6:2](-[H]):[#6:3](-[#6:4](=[#8])-[#6](-[H])(-[H])-[H]):[#6:5](-[H]):[#6:6]',\n",
       "  'biproducts': 0,\n",
       "  'fragment1': '79277ef188099e15af0640ce2a7e857e',\n",
       "  'fragment2': '16148e5e4054452a86508043c478ec44'},\n",
       " {'smiles1': 'CN1CCC[C@H]1[C@@H]1COc2ccc(O)cc2O1',\n",
       "  'smiles2': 'CC(=O)c1ccc2c(c1)O[C@H]([C@@H]1CCCN1C)CO2',\n",
       "  'percentmcs': 0.8571428571428571,\n",
       "  'radius': 2,\n",
       "  'valid': True,\n",
       "  'solversecs': 0.21188063199952012,\n",
       "  'embedding': [0, 0, 8, 77, 99, 34, 19, 33, 12, 0, 0, 0, 0, 0, 0, 0],\n",
       "  'predsolversecs': 0.521,\n",
       "  'error': None,\n",
       "  'smirks': '[H]-[#6:1]:[#6:2](:[#6:3]-[H])-[#8:4]-[H]>>[H]-[#6:1]:[#6:2](:[#6:3]-[H])-[#6:4](=[#8])-[#6](-[H])(-[H])-[H]',\n",
       "  'biproducts': 0,\n",
       "  'fragment1': 'd7d384da1bec67069603da72e1309644',\n",
       "  'fragment2': '3cd4b0bfba86e1886afd7a799f690b6b'},\n",
       " {'smiles1': 'CN1CCC[C@H]1[C@@H]1COc2ccc(O)cc2O1',\n",
       "  'smiles2': 'CC(=O)c1ccc2c(c1)O[C@H]([C@@H]1CCCN1C)CO2',\n",
       "  'percentmcs': 0.8571428571428571,\n",
       "  'radius': 1,\n",
       "  'valid': True,\n",
       "  'solversecs': 0.21188063199952012,\n",
       "  'embedding': [0, 0, 8, 77, 99, 34, 19, 33, 12, 0, 0, 0, 0, 0, 0, 0],\n",
       "  'predsolversecs': 0.521,\n",
       "  'error': None,\n",
       "  'smirks': '[H]-[#8:1]-[#6:2]>>[H]-[#6](-[H])(-[H])-[#6:1](-[#6:2])=[#8]',\n",
       "  'biproducts': 0,\n",
       "  'fragment1': '6165b0edcecb1ac87183f68b23294d12',\n",
       "  'fragment2': '31a07e0e9cb864659a14eda2951093bd'}]"
      ]
     },
     "execution_count": 356,
     "metadata": {},
     "output_type": "execute_result"
    }
   ],
   "source": [
    "response = mmp.execute()\n",
    "response"
   ]
  },
  {
   "cell_type": "raw",
   "metadata": {},
   "source": [
    "mmp._solversecs"
   ]
  },
  {
   "cell_type": "raw",
   "metadata": {},
   "source": [
    "mmp.execute()"
   ]
  },
  {
   "cell_type": "raw",
   "metadata": {},
   "source": [
    "def shownodes(x):\n",
    "    try: return (x, mmp._graph.nodes[mmp._graph._idxmaps.index(x)])\n",
    "    except ValueError: (x, None)\n",
    "[shownodes(x) for x in mmp._clique]"
   ]
  },
  {
   "cell_type": "raw",
   "metadata": {},
   "source": [
    "minatoms = min(mmp._mol1.GetNumAtoms(), mmp._mol2.GetNumAtoms())\n",
    "idxclique = [x for x in zip(range(minatoms), range(minatoms))]\n",
    "[shownodes(x) for x in idxclique]"
   ]
  },
  {
   "cell_type": "code",
   "execution_count": 357,
   "metadata": {},
   "outputs": [
    {
     "data": {
      "image/png": "[encoded data removed]",
      "text/plain": [
       "<rdkit.Chem.rdchem.Mol at 0x7fcd5c21df80>"
      ]
     },
     "execution_count": 357,
     "metadata": {},
     "output_type": "execute_result"
    }
   ],
   "source": [
    "mmp._mol1"
   ]
  },
  {
   "cell_type": "code",
   "execution_count": 358,
   "metadata": {},
   "outputs": [
    {
     "data": {
      "image/png": "[encoded data removed]",
      "text/plain": [
       "<rdkit.Chem.rdchem.Mol at 0x7fcd5c21dd50>"
      ]
     },
     "execution_count": 358,
     "metadata": {},
     "output_type": "execute_result"
    }
   ],
   "source": [
    "mmp._mol2"
   ]
  },
  {
   "cell_type": "raw",
   "metadata": {},
   "source": [
    "[(mmp._graph._idxmaps[e1], mmp._graph._idxmaps[e2], mmp._graph.edges[(e1, e2)]) \n",
    " for e1, e2 in mmp._graph.edges() \n",
    " if (mmp._graph._idxmaps[e1], mmp._graph._idxmaps[e2]) in ((x, y) for x in mmp._clique for y in mmp._clique)]"
   ]
  },
  {
   "cell_type": "raw",
   "metadata": {},
   "source": [
    "[(mmp._graph._idxmaps[e1], mmp._graph._idxmaps[e2], mmp._graph.edges[(e1, e2)]) \n",
    " for e1, e2 in mmp._graph.edges() \n",
    " if (mmp._graph._idxmaps[e1], mmp._graph._idxmaps[e2]) in ((x, y) for x in idxclique for y in idxclique)]"
   ]
  },
  {
   "cell_type": "code",
   "execution_count": 359,
   "metadata": {},
   "outputs": [
    {
     "data": {
      "text/plain": [
       "'d7d384da1bec67069603da72e1309644'"
      ]
     },
     "execution_count": 359,
     "metadata": {},
     "output_type": "execute_result"
    }
   ],
   "source": [
    "response[2]['fragment1']"
   ]
  },
  {
   "cell_type": "code",
   "execution_count": 360,
   "metadata": {},
   "outputs": [
    {
     "data": {
      "text/plain": [
       "'[H]-[#6:1]:[#6:2](:[#6:3]-[H])-[#8:4]-[H]>>[H]-[#6:1]:[#6:2](:[#6:3]-[H])-[#6:4](=[#8])-[#6](-[H])(-[H])-[H]'"
      ]
     },
     "execution_count": 360,
     "metadata": {},
     "output_type": "execute_result"
    }
   ],
   "source": [
    "response[2]['smirks']"
   ]
  },
  {
   "cell_type": "code",
   "execution_count": 361,
   "metadata": {},
   "outputs": [
    {
     "data": {
      "image/png": "[encoded data removed]",
      "text/plain": [
       "<rdkit.Chem.rdChemReactions.ChemicalReaction at 0x7fccb2b26a80>"
      ]
     },
     "execution_count": 361,
     "metadata": {},
     "output_type": "execute_result"
    }
   ],
   "source": [
    "rxn = Chem.rdChemReactions.ReactionFromSmarts(response[2]['smirks'])\n",
    "rxn"
   ]
  },
  {
   "cell_type": "code",
   "execution_count": 362,
   "metadata": {},
   "outputs": [
    {
     "data": {
      "text/plain": [
       "'d7d384da1bec67069603da72e1309644'"
      ]
     },
     "execution_count": 362,
     "metadata": {},
     "output_type": "execute_result"
    }
   ],
   "source": [
    "response[2]['fragment1']"
   ]
  },
  {
   "cell_type": "code",
   "execution_count": 363,
   "metadata": {},
   "outputs": [
    {
     "data": {
      "text/plain": [
       "'[H]-[#6:1]:[#6:2](:[#6:3]-[H])-[#8:4]-[H]>>[H]-[#6:1]:[#6:2](:[#6:3]-[H])-[#6:4](=[#8])-[#6](-[H])(-[H])-[H]'"
      ]
     },
     "execution_count": 363,
     "metadata": {},
     "output_type": "execute_result"
    }
   ],
   "source": [
    "response[2]['smirks']"
   ]
  },
  {
   "cell_type": "code",
   "execution_count": 364,
   "metadata": {},
   "outputs": [
    {
     "data": {
      "image/png": "[encoded data removed]",
      "text/plain": [
       "<rdkit.Chem.rdChemReactions.ChemicalReaction at 0x7fcd5c14e530>"
      ]
     },
     "execution_count": 364,
     "metadata": {},
     "output_type": "execute_result"
    }
   ],
   "source": [
    "rxn = Chem.rdChemReactions.ReactionFromSmarts(response[2]['smirks'])\n",
    "rxn"
   ]
  },
  {
   "cell_type": "code",
   "execution_count": 365,
   "metadata": {},
   "outputs": [],
   "source": [
    "reactant = Chem.AddHs(Chem.MolFromSmiles(mmp._smiles1))\n",
    "products = rxn.RunReactants((reactant,))"
   ]
  },
  {
   "cell_type": "code",
   "execution_count": 341,
   "metadata": {},
   "outputs": [
    {
     "data": {
      "text/plain": [
       "'C[C@]12C[C@H](O)[C@H]3[C@@H](CCC4=CC(=O)C=C[C@@]43C)[C@@H]1CC[C@]2(O)C(=O)CO'"
      ]
     },
     "execution_count": 341,
     "metadata": {},
     "output_type": "execute_result"
    }
   ],
   "source": [
    "Chem.MolToSmiles(Chem.RemoveHs(products[0][0]))"
   ]
  },
  {
   "cell_type": "code",
   "execution_count": 342,
   "metadata": {},
   "outputs": [
    {
     "data": {
      "text/plain": [
       "'C[C@]12C[C@H](O)[C@H]3[C@@H](CCC4=CC(=O)C=C[C@@]43C)[C@@H]1CC[C@]2(O)C(=O)CO'"
      ]
     },
     "execution_count": 342,
     "metadata": {},
     "output_type": "execute_result"
    }
   ],
   "source": [
    "mmp._smiles2"
   ]
  },
  {
   "cell_type": "code",
   "execution_count": 343,
   "metadata": {},
   "outputs": [
    {
     "ename": "AttributeError",
     "evalue": "module 'scipy.sparse' has no attribute 'coo_array'",
     "output_type": "error",
     "traceback": [
      "\u001b[0;31m---------------------------------------------------------------------------\u001b[0m",
      "\u001b[0;31mAttributeError\u001b[0m                            Traceback (most recent call last)",
      "\u001b[0;32m/tmp/ipykernel_7905/4107042192.py\u001b[0m in \u001b[0;36m<module>\u001b[0;34m\u001b[0m\n\u001b[1;32m      1\u001b[0m \u001b[0;32mimport\u001b[0m \u001b[0mscipy\u001b[0m\u001b[0;34m.\u001b[0m\u001b[0mio\u001b[0m \u001b[0;32mas\u001b[0m \u001b[0msio\u001b[0m\u001b[0;34m\u001b[0m\u001b[0m\n\u001b[0;32m----> 2\u001b[0;31m \u001b[0mm\u001b[0m \u001b[0;34m=\u001b[0m \u001b[0mnx\u001b[0m\u001b[0;34m.\u001b[0m\u001b[0mto_scipy_sparse_array\u001b[0m\u001b[0;34m(\u001b[0m\u001b[0mmmp\u001b[0m\u001b[0;34m.\u001b[0m\u001b[0m_graph\u001b[0m\u001b[0;34m)\u001b[0m\u001b[0;34m\u001b[0m\u001b[0m\n\u001b[0m\u001b[1;32m      3\u001b[0m \u001b[0msio\u001b[0m\u001b[0;34m.\u001b[0m\u001b[0mmmwrite\u001b[0m\u001b[0;34m(\u001b[0m\u001b[0;34m'test.mat'\u001b[0m\u001b[0;34m,\u001b[0m \u001b[0mm\u001b[0m\u001b[0;34m)\u001b[0m\u001b[0;34m\u001b[0m\u001b[0m\n",
      "\u001b[0;32m~/anaconda3/envs/wizepair-env/lib/python3.7/site-packages/networkx/convert_matrix.py\u001b[0m in \u001b[0;36mto_scipy_sparse_array\u001b[0;34m(G, nodelist, dtype, weight, format)\u001b[0m\n\u001b[1;32m    919\u001b[0m             \u001b[0mr\u001b[0m \u001b[0;34m+=\u001b[0m \u001b[0mdiag_index\u001b[0m\u001b[0;34m\u001b[0m\u001b[0m\n\u001b[1;32m    920\u001b[0m             \u001b[0mc\u001b[0m \u001b[0;34m+=\u001b[0m \u001b[0mdiag_index\u001b[0m\u001b[0;34m\u001b[0m\u001b[0m\n\u001b[0;32m--> 921\u001b[0;31m         \u001b[0mA\u001b[0m \u001b[0;34m=\u001b[0m \u001b[0msp\u001b[0m\u001b[0;34m.\u001b[0m\u001b[0msparse\u001b[0m\u001b[0;34m.\u001b[0m\u001b[0mcoo_array\u001b[0m\u001b[0;34m(\u001b[0m\u001b[0;34m(\u001b[0m\u001b[0md\u001b[0m\u001b[0;34m,\u001b[0m \u001b[0;34m(\u001b[0m\u001b[0mr\u001b[0m\u001b[0;34m,\u001b[0m \u001b[0mc\u001b[0m\u001b[0;34m)\u001b[0m\u001b[0;34m)\u001b[0m\u001b[0;34m,\u001b[0m \u001b[0mshape\u001b[0m\u001b[0;34m=\u001b[0m\u001b[0;34m(\u001b[0m\u001b[0mnlen\u001b[0m\u001b[0;34m,\u001b[0m \u001b[0mnlen\u001b[0m\u001b[0;34m)\u001b[0m\u001b[0;34m,\u001b[0m \u001b[0mdtype\u001b[0m\u001b[0;34m=\u001b[0m\u001b[0mdtype\u001b[0m\u001b[0;34m)\u001b[0m\u001b[0;34m\u001b[0m\u001b[0m\n\u001b[0m\u001b[1;32m    922\u001b[0m     \u001b[0;32mtry\u001b[0m\u001b[0;34m:\u001b[0m\u001b[0;34m\u001b[0m\u001b[0m\n\u001b[1;32m    923\u001b[0m         \u001b[0;32mreturn\u001b[0m \u001b[0mA\u001b[0m\u001b[0;34m.\u001b[0m\u001b[0masformat\u001b[0m\u001b[0;34m(\u001b[0m\u001b[0mformat\u001b[0m\u001b[0;34m)\u001b[0m\u001b[0;34m\u001b[0m\u001b[0m\n",
      "\u001b[0;31mAttributeError\u001b[0m: module 'scipy.sparse' has no attribute 'coo_array'"
     ]
    }
   ],
   "source": [
    "import scipy.io as sio\n",
    "m = nx.to_scipy_sparse_array(mmp._graph)\n",
    "sio.mmwrite('test.mat', m)"
   ]
  },
  {
   "cell_type": "code",
   "execution_count": 304,
   "metadata": {},
   "outputs": [
    {
     "ename": "NameError",
     "evalue": "name 'm' is not defined",
     "output_type": "error",
     "traceback": [
      "\u001b[0;31m---------------------------------------------------------------------------\u001b[0m",
      "\u001b[0;31mNameError\u001b[0m                                 Traceback (most recent call last)",
      "\u001b[0;32m/tmp/ipykernel_7905/1497821502.py\u001b[0m in \u001b[0;36m<module>\u001b[0;34m\u001b[0m\n\u001b[0;32m----> 1\u001b[0;31m \u001b[0mm\u001b[0m\u001b[0;34m\u001b[0m\u001b[0m\n\u001b[0m",
      "\u001b[0;31mNameError\u001b[0m: name 'm' is not defined"
     ]
    }
   ],
   "source": [
    "m"
   ]
  },
  {
   "cell_type": "code",
   "execution_count": 305,
   "metadata": {},
   "outputs": [
    {
     "data": {
      "image/png": "[encoded data removed]",
      "text/plain": [
       "<rdkit.Chem.rdchem.Mol at 0x7fccb2b22ad8>"
      ]
     },
     "execution_count": 305,
     "metadata": {},
     "output_type": "execute_result"
    }
   ],
   "source": [
    "Chem.MolFromInchi('InChI=1S/C15H13NO2/c17-14-9-5-4-8-13(14)16-15(18)11-10-12-6-2-1-3-7-12/h1-11,17H,(H,16,18)/b11-10+')"
   ]
  },
  {
   "cell_type": "code",
   "execution_count": 306,
   "metadata": {},
   "outputs": [
    {
     "data": {
      "image/png": "[encoded data removed]",
      "text/plain": [
       "<rdkit.Chem.rdchem.Mol at 0x7fccb2b22558>"
      ]
     },
     "execution_count": 306,
     "metadata": {},
     "output_type": "execute_result"
    }
   ],
   "source": [
    "Chem.MolFromInchi('InChI=1S/C17H15NO2/c1-13(19)15-9-5-6-10-16(15)18-17(20)12-11-14-7-3-2-4-8-14/h2-12H,1H3,(H,18,20)/b12-11-')"
   ]
  },
  {
   "cell_type": "code",
   "execution_count": null,
   "metadata": {},
   "outputs": [],
   "source": []
  }
 ],
 "metadata": {
  "kernelspec": {
   "display_name": "Python 3 (ipykernel)",
   "language": "python",
   "name": "python3"
  },
  "language_info": {
   "codemirror_mode": {
    "name": "ipython",
    "version": 3
   },
   "file_extension": ".py",
   "mimetype": "text/x-python",
   "name": "python",
   "nbconvert_exporter": "python",
   "pygments_lexer": "ipython3",
   "version": "3.7.0"
  }
 },
 "nbformat": 4,
 "nbformat_minor": 4
}
