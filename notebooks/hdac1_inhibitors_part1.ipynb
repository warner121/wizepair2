{
 "cells": [
  {
   "cell_type": "markdown",
   "metadata": {},
   "source": [
    "## Histone deacetylase 1 - part 1 (dataset preparation)"
   ]
  },
  {
   "cell_type": "markdown",
   "metadata": {},
   "source": [
    "### Import libraries"
   ]
  },
  {
   "cell_type": "code",
   "execution_count": 1,
   "metadata": {},
   "outputs": [],
   "source": [
    "import requests\n",
    "import json\n",
    "import pandas as pd"
   ]
  },
  {
   "cell_type": "code",
   "execution_count": 2,
   "metadata": {},
   "outputs": [],
   "source": [
    "from tqdm import tqdm\n",
    "tqdm.pandas()\n",
    "\n",
    "import sys\n",
    "sys.path.append('/home/daniel/wizepair2')\n",
    "from mmpa.chem import strip_salts"
   ]
  },
  {
   "cell_type": "markdown",
   "metadata": {},
   "source": [
    "### Define POST request and download "
   ]
  },
  {
   "cell_type": "code",
   "execution_count": 3,
   "metadata": {},
   "outputs": [
    {
     "data": {
      "text/plain": [
       "<Response [200]>"
      ]
     },
     "execution_count": 3,
     "metadata": {},
     "output_type": "execute_result"
    }
   ],
   "source": [
    "url = \"https://www.ebi.ac.uk/chembl/elk/es/chembl_activity/_search\"\n",
    "headers = {'Content-Type': 'application/json'}\n",
    "with open('hdac1_inhibitors.chembl') as f:\n",
    "    payload = f.read()\n",
    "response = requests.post(url, headers=headers, data=payload)\n",
    "response"
   ]
  },
  {
   "cell_type": "markdown",
   "metadata": {},
   "source": [
    "### Load results into a pandas data frame"
   ]
  },
  {
   "cell_type": "code",
   "execution_count": 4,
   "metadata": {},
   "outputs": [
    {
     "data": {
      "text/html": [
       "<div>\n",
       "<style scoped>\n",
       "    .dataframe tbody tr th:only-of-type {\n",
       "        vertical-align: middle;\n",
       "    }\n",
       "\n",
       "    .dataframe tbody tr th {\n",
       "        vertical-align: top;\n",
       "    }\n",
       "\n",
       "    .dataframe thead th {\n",
       "        text-align: right;\n",
       "    }\n",
       "</style>\n",
       "<table border=\"1\" class=\"dataframe\">\n",
       "  <thead>\n",
       "    <tr style=\"text-align: right;\">\n",
       "      <th></th>\n",
       "      <th>activity_properties</th>\n",
       "      <th>standard_units</th>\n",
       "      <th>standard_type</th>\n",
       "      <th>standard_relation</th>\n",
       "      <th>data_validity_comment</th>\n",
       "      <th>activity_comment</th>\n",
       "      <th>target_pref_name</th>\n",
       "      <th>pchembl_value</th>\n",
       "      <th>bao_label</th>\n",
       "      <th>molecule_pref_name</th>\n",
       "      <th>...</th>\n",
       "      <th>_metadata.assay_data.assay_cell_type</th>\n",
       "      <th>_metadata.assay_data.assay_organism</th>\n",
       "      <th>_metadata.assay_data.tissue_chembl_id</th>\n",
       "      <th>_metadata.assay_data.assay_parameters</th>\n",
       "      <th>_metadata.assay_data.assay_tissue</th>\n",
       "      <th>_metadata.source.src_description</th>\n",
       "      <th>ligand_efficiency.lle</th>\n",
       "      <th>ligand_efficiency.sei</th>\n",
       "      <th>ligand_efficiency.bei</th>\n",
       "      <th>ligand_efficiency.le</th>\n",
       "    </tr>\n",
       "  </thead>\n",
       "  <tbody>\n",
       "    <tr>\n",
       "      <th>51</th>\n",
       "      <td>[]</td>\n",
       "      <td>hr</td>\n",
       "      <td>T1/2</td>\n",
       "      <td>=</td>\n",
       "      <td>None</td>\n",
       "      <td>None</td>\n",
       "      <td>Rattus norvegicus</td>\n",
       "      <td>None</td>\n",
       "      <td>organism-based format</td>\n",
       "      <td>None</td>\n",
       "      <td>...</td>\n",
       "      <td>None</td>\n",
       "      <td>Rattus norvegicus</td>\n",
       "      <td>None</td>\n",
       "      <td>[]</td>\n",
       "      <td>None</td>\n",
       "      <td>Scientific Literature</td>\n",
       "      <td>NaN</td>\n",
       "      <td>NaN</td>\n",
       "      <td>NaN</td>\n",
       "      <td>NaN</td>\n",
       "    </tr>\n",
       "    <tr>\n",
       "      <th>0</th>\n",
       "      <td>[]</td>\n",
       "      <td>None</td>\n",
       "      <td>LogD</td>\n",
       "      <td>=</td>\n",
       "      <td>None</td>\n",
       "      <td>None</td>\n",
       "      <td>No relevant target</td>\n",
       "      <td>None</td>\n",
       "      <td>small-molecule physicochemical format</td>\n",
       "      <td>None</td>\n",
       "      <td>...</td>\n",
       "      <td>None</td>\n",
       "      <td>None</td>\n",
       "      <td>None</td>\n",
       "      <td>[]</td>\n",
       "      <td>None</td>\n",
       "      <td>Scientific Literature</td>\n",
       "      <td>NaN</td>\n",
       "      <td>NaN</td>\n",
       "      <td>NaN</td>\n",
       "      <td>NaN</td>\n",
       "    </tr>\n",
       "    <tr>\n",
       "      <th>89</th>\n",
       "      <td>[]</td>\n",
       "      <td>nM</td>\n",
       "      <td>IC50</td>\n",
       "      <td>=</td>\n",
       "      <td>None</td>\n",
       "      <td>None</td>\n",
       "      <td>HCT-116</td>\n",
       "      <td>6.62</td>\n",
       "      <td>cell-based format</td>\n",
       "      <td>None</td>\n",
       "      <td>...</td>\n",
       "      <td>HCT-116</td>\n",
       "      <td>Homo sapiens</td>\n",
       "      <td>None</td>\n",
       "      <td>[]</td>\n",
       "      <td>None</td>\n",
       "      <td>Scientific Literature</td>\n",
       "      <td>NaN</td>\n",
       "      <td>NaN</td>\n",
       "      <td>NaN</td>\n",
       "      <td>NaN</td>\n",
       "    </tr>\n",
       "  </tbody>\n",
       "</table>\n",
       "<p>3 rows × 46 columns</p>\n",
       "</div>"
      ],
      "text/plain": [
       "   activity_properties standard_units standard_type standard_relation  \\\n",
       "51                  []             hr          T1/2                 =   \n",
       "0                   []           None          LogD                 =   \n",
       "89                  []             nM          IC50                 =   \n",
       "\n",
       "   data_validity_comment activity_comment    target_pref_name pchembl_value  \\\n",
       "51                  None             None   Rattus norvegicus          None   \n",
       "0                   None             None  No relevant target          None   \n",
       "89                  None             None             HCT-116          6.62   \n",
       "\n",
       "                                bao_label molecule_pref_name  ...  \\\n",
       "51                  organism-based format               None  ...   \n",
       "0   small-molecule physicochemical format               None  ...   \n",
       "89                      cell-based format               None  ...   \n",
       "\n",
       "   _metadata.assay_data.assay_cell_type _metadata.assay_data.assay_organism  \\\n",
       "51                                 None                   Rattus norvegicus   \n",
       "0                                  None                                None   \n",
       "89                              HCT-116                        Homo sapiens   \n",
       "\n",
       "   _metadata.assay_data.tissue_chembl_id  \\\n",
       "51                                  None   \n",
       "0                                   None   \n",
       "89                                  None   \n",
       "\n",
       "    _metadata.assay_data.assay_parameters _metadata.assay_data.assay_tissue  \\\n",
       "51                                     []                              None   \n",
       "0                                      []                              None   \n",
       "89                                     []                              None   \n",
       "\n",
       "   _metadata.source.src_description ligand_efficiency.lle  \\\n",
       "51            Scientific Literature                   NaN   \n",
       "0             Scientific Literature                   NaN   \n",
       "89            Scientific Literature                   NaN   \n",
       "\n",
       "    ligand_efficiency.sei  ligand_efficiency.bei ligand_efficiency.le  \n",
       "51                    NaN                    NaN                  NaN  \n",
       "0                     NaN                    NaN                  NaN  \n",
       "89                    NaN                    NaN                  NaN  \n",
       "\n",
       "[3 rows x 46 columns]"
      ]
     },
     "execution_count": 4,
     "metadata": {},
     "output_type": "execute_result"
    }
   ],
   "source": [
    "df = json.loads(response.text)['hits']['hits']\n",
    "df = pd.DataFrame(df)._source\n",
    "df = pd.json_normalize(df)\n",
    "df.sample(3)"
   ]
  },
  {
   "cell_type": "markdown",
   "metadata": {},
   "source": [
    "### Summarise the most common molecules."
   ]
  },
  {
   "cell_type": "code",
   "execution_count": 5,
   "metadata": {},
   "outputs": [
    {
     "data": {
      "text/plain": [
       "molecule_chembl_id  _metadata.parent_molecule_data.compound_key\n",
       "CHEMBL403813        13b                                            23\n",
       "CHEMBL403812        13d                                            11\n",
       "CHEMBL402208        13a                                            11\n",
       "CHEMBL258177        15b                                            11\n",
       "CHEMBL256985        14b                                            11\n",
       "CHEMBL257176        3                                               9\n",
       "CHEMBL402542        14c                                             7\n",
       "CHEMBL258176        15a                                             7\n",
       "CHEMBL258175        15c                                             6\n",
       "CHEMBL256998        15d                                             6\n",
       "dtype: int64"
      ]
     },
     "execution_count": 5,
     "metadata": {},
     "output_type": "execute_result"
    }
   ],
   "source": [
    "df[['molecule_chembl_id', '_metadata.parent_molecule_data.compound_key']].value_counts()[0:10]"
   ]
  },
  {
   "cell_type": "markdown",
   "metadata": {},
   "source": [
    "### Summarise the most common targets."
   ]
  },
  {
   "cell_type": "code",
   "execution_count": 6,
   "metadata": {},
   "outputs": [
    {
     "data": {
      "text/plain": [
       "assay_chembl_id  target_pref_name       bao_label                              standard_type  standard_units\n",
       "CHEMBL927950     HERG                   single protein format                  IC50           nM                13\n",
       "CHEMBL927949     HCT-116                cell-based format                      IC50           nM                13\n",
       "CHEMBL927948     Histone deacetylase 1  cell-based format                      IC50           nM                13\n",
       "CHEMBL927951     No relevant target     small-molecule physicochemical format  Solubility     nM                12\n",
       "CHEMBL927956     Rattus norvegicus      organism-based format                  AUC            hr.Kg/L            4\n",
       "CHEMBL927955     Rattus norvegicus      organism-based format                  Vdss           L.kg-1             4\n",
       "CHEMBL927953     Rattus norvegicus      organism-based format                  CL             mL.min-1.kg-1      4\n",
       "CHEMBL927954     Rattus norvegicus      organism-based format                  T1/2           hr                 3\n",
       "CHEMBL927959     Rattus norvegicus      organism-based format                  Vdss           L.kg-1             2\n",
       "CHEMBL927960     Rattus norvegicus      organism-based format                  AUC            hr.Kg/L            2\n",
       "dtype: int64"
      ]
     },
     "execution_count": 6,
     "metadata": {},
     "output_type": "execute_result"
    }
   ],
   "source": [
    "df[['assay_chembl_id', 'target_pref_name', 'bao_label', 'standard_type', 'standard_units']].value_counts()[0:10]"
   ]
  },
  {
   "cell_type": "markdown",
   "metadata": {},
   "source": [
    "### Strip salts from the molecular structures."
   ]
  },
  {
   "cell_type": "code",
   "execution_count": 7,
   "metadata": {},
   "outputs": [
    {
     "name": "stderr",
     "output_type": "stream",
     "text": [
      "100%|██████████| 119/119 [00:00<00:00, 419.95it/s]\n"
     ]
    },
    {
     "data": {
      "text/plain": [
       "13"
      ]
     },
     "execution_count": 7,
     "metadata": {},
     "output_type": "execute_result"
    }
   ],
   "source": [
    "df['stripped_smiles'] = df.canonical_smiles.progress_apply(strip_salts)\n",
    "df.stripped_smiles.unique().size"
   ]
  },
  {
   "cell_type": "markdown",
   "metadata": {},
   "source": [
    "### Split training from test set and save"
   ]
  },
  {
   "cell_type": "code",
   "execution_count": 9,
   "metadata": {},
   "outputs": [],
   "source": [
    "training = ~df['_metadata.parent_molecule_data.compound_key'].isin(['13c', '14d'])"
   ]
  },
  {
   "cell_type": "code",
   "execution_count": 12,
   "metadata": {},
   "outputs": [],
   "source": [
    "df[training].to_csv('hdac1_inhibitors_stripped.csv', index=False)\n",
    "df[~training].to_csv('hdac1_inhibitors_stripped_holdout.csv', index=False)"
   ]
  },
  {
   "cell_type": "code",
   "execution_count": null,
   "metadata": {},
   "outputs": [],
   "source": []
  }
 ],
 "metadata": {
  "kernelspec": {
   "display_name": "Python 3",
   "language": "python",
   "name": "python3"
  },
  "language_info": {
   "codemirror_mode": {
    "name": "ipython",
    "version": 3
   },
   "file_extension": ".py",
   "mimetype": "text/x-python",
   "name": "python",
   "nbconvert_exporter": "python",
   "pygments_lexer": "ipython3",
   "version": "3.6.10"
  }
 },
 "nbformat": 4,
 "nbformat_minor": 4
}
