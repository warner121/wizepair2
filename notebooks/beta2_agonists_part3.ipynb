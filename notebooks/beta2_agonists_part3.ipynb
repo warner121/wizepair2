{
 "cells": [
  {
   "cell_type": "markdown",
   "metadata": {},
   "source": [
    "## Beta-2 adrenergic receptor - part 3 (rule aggregation)"
   ]
  },
  {
   "cell_type": "markdown",
   "metadata": {},
   "source": [
    "### Import libraries"
   ]
  },
  {
   "cell_type": "code",
   "execution_count": 1,
   "metadata": {},
   "outputs": [],
   "source": [
    "import pandas as pd"
   ]
  },
  {
   "cell_type": "markdown",
   "metadata": {},
   "source": [
    "### Read in the datasets"
   ]
  },
  {
   "cell_type": "code",
   "execution_count": 2,
   "metadata": {},
   "outputs": [],
   "source": [
    "df = pd.read_csv('beta2_agonists_stripped.csv')\n",
    "df_pairs = pd.read_csv('beta2_agonists_pairs.csv')"
   ]
  },
  {
   "cell_type": "markdown",
   "metadata": {},
   "source": [
    "### Filter pairs with MCS > 70% and radius 3"
   ]
  },
  {
   "cell_type": "code",
   "execution_count": 3,
   "metadata": {},
   "outputs": [],
   "source": [
    "df_pairs = df_pairs[(df_pairs.percentmcs > 0.7) & (df_pairs.radius == 3)]"
   ]
  },
  {
   "cell_type": "markdown",
   "metadata": {},
   "source": [
    "### Determine which measurements can be included in delta property calculation"
   ]
  },
  {
   "cell_type": "code",
   "execution_count": 4,
   "metadata": {},
   "outputs": [],
   "source": [
    "df['pchembl_exact'] = df.apply(lambda x: x.pchembl_value if x.standard_relation == \"=\" and x.pchembl_value else None, axis=1)"
   ]
  },
  {
   "cell_type": "markdown",
   "metadata": {},
   "source": [
    "### Combine twice with confirmed molecular pairs"
   ]
  },
  {
   "cell_type": "code",
   "execution_count": 5,
   "metadata": {},
   "outputs": [
    {
     "data": {
      "text/html": [
       "<div>\n",
       "<style scoped>\n",
       "    .dataframe tbody tr th:only-of-type {\n",
       "        vertical-align: middle;\n",
       "    }\n",
       "\n",
       "    .dataframe tbody tr th {\n",
       "        vertical-align: top;\n",
       "    }\n",
       "\n",
       "    .dataframe thead th {\n",
       "        text-align: right;\n",
       "    }\n",
       "</style>\n",
       "<table border=\"1\" class=\"dataframe\">\n",
       "  <thead>\n",
       "    <tr style=\"text-align: right;\">\n",
       "      <th></th>\n",
       "      <th>678259</th>\n",
       "      <th>449690</th>\n",
       "      <th>219806</th>\n",
       "    </tr>\n",
       "  </thead>\n",
       "  <tbody>\n",
       "    <tr>\n",
       "      <th>smiles1</th>\n",
       "      <td>CNC[C@H](O)c1ccc(O)c(O)c1</td>\n",
       "      <td>CC(C)NCC(O)c1ccc(O)c(O)c1</td>\n",
       "      <td>NC[C@H](O)c1ccc(O)c(O)c1</td>\n",
       "    </tr>\n",
       "    <tr>\n",
       "      <th>smiles2</th>\n",
       "      <td>CC(C)NCC(O)c1ccc(O)c(O)c1</td>\n",
       "      <td>CNCC(O)c1ccc(O)c(O)c1</td>\n",
       "      <td>CNC[C@H](O)c1cccc(O)c1</td>\n",
       "    </tr>\n",
       "    <tr>\n",
       "      <th>percentmcs</th>\n",
       "      <td>0.733333</td>\n",
       "      <td>0.8</td>\n",
       "      <td>0.769231</td>\n",
       "    </tr>\n",
       "    <tr>\n",
       "      <th>radius</th>\n",
       "      <td>3</td>\n",
       "      <td>3</td>\n",
       "      <td>3</td>\n",
       "    </tr>\n",
       "    <tr>\n",
       "      <th>valid</th>\n",
       "      <td>True</td>\n",
       "      <td>True</td>\n",
       "      <td>True</td>\n",
       "    </tr>\n",
       "    <tr>\n",
       "      <th>...</th>\n",
       "      <td>...</td>\n",
       "      <td>...</td>\n",
       "      <td>...</td>\n",
       "    </tr>\n",
       "    <tr>\n",
       "      <th>ligand_efficiency.bei_y</th>\n",
       "      <td>NaN</td>\n",
       "      <td>NaN</td>\n",
       "      <td>NaN</td>\n",
       "    </tr>\n",
       "    <tr>\n",
       "      <th>ligand_efficiency.le_y</th>\n",
       "      <td>NaN</td>\n",
       "      <td>NaN</td>\n",
       "      <td>NaN</td>\n",
       "    </tr>\n",
       "    <tr>\n",
       "      <th>stripped_smiles_y</th>\n",
       "      <td>CC(C)NCC(O)c1ccc(O)c(O)c1</td>\n",
       "      <td>CNCC(O)c1ccc(O)c(O)c1</td>\n",
       "      <td>CNC[C@H](O)c1cccc(O)c1</td>\n",
       "    </tr>\n",
       "    <tr>\n",
       "      <th>pchembl_exact_y</th>\n",
       "      <td>NaN</td>\n",
       "      <td>NaN</td>\n",
       "      <td>NaN</td>\n",
       "    </tr>\n",
       "    <tr>\n",
       "      <th>pchembl_exact_delta</th>\n",
       "      <td>NaN</td>\n",
       "      <td>NaN</td>\n",
       "      <td>NaN</td>\n",
       "    </tr>\n",
       "  </tbody>\n",
       "</table>\n",
       "<p>103 rows × 3 columns</p>\n",
       "</div>"
      ],
      "text/plain": [
       "                                            678259                     449690  \\\n",
       "smiles1                  CNC[C@H](O)c1ccc(O)c(O)c1  CC(C)NCC(O)c1ccc(O)c(O)c1   \n",
       "smiles2                  CC(C)NCC(O)c1ccc(O)c(O)c1      CNCC(O)c1ccc(O)c(O)c1   \n",
       "percentmcs                                0.733333                        0.8   \n",
       "radius                                           3                          3   \n",
       "valid                                         True                       True   \n",
       "...                                            ...                        ...   \n",
       "ligand_efficiency.bei_y                        NaN                        NaN   \n",
       "ligand_efficiency.le_y                         NaN                        NaN   \n",
       "stripped_smiles_y        CC(C)NCC(O)c1ccc(O)c(O)c1      CNCC(O)c1ccc(O)c(O)c1   \n",
       "pchembl_exact_y                                NaN                        NaN   \n",
       "pchembl_exact_delta                            NaN                        NaN   \n",
       "\n",
       "                                           219806  \n",
       "smiles1                  NC[C@H](O)c1ccc(O)c(O)c1  \n",
       "smiles2                    CNC[C@H](O)c1cccc(O)c1  \n",
       "percentmcs                               0.769231  \n",
       "radius                                          3  \n",
       "valid                                        True  \n",
       "...                                           ...  \n",
       "ligand_efficiency.bei_y                       NaN  \n",
       "ligand_efficiency.le_y                        NaN  \n",
       "stripped_smiles_y          CNC[C@H](O)c1cccc(O)c1  \n",
       "pchembl_exact_y                               NaN  \n",
       "pchembl_exact_delta                           NaN  \n",
       "\n",
       "[103 rows x 3 columns]"
      ]
     },
     "execution_count": 5,
     "metadata": {},
     "output_type": "execute_result"
    }
   ],
   "source": [
    "df_merge = df_pairs.merge(df, left_on='smiles1', right_on='stripped_smiles')\n",
    "df_merge = df_merge.merge(df, left_on=['smiles2', 'target_pref_name', 'standard_type'], right_on=['stripped_smiles', 'target_pref_name', 'standard_type'])\n",
    "df_merge['pchembl_exact_delta'] = df_merge['pchembl_exact_y'] - df_merge['pchembl_exact_x'] \n",
    "df_merge.sample(3).transpose()"
   ]
  },
  {
   "cell_type": "markdown",
   "metadata": {},
   "source": [
    "### Aggregate data by the two fragments"
   ]
  },
  {
   "cell_type": "code",
   "execution_count": 6,
   "metadata": {},
   "outputs": [],
   "source": [
    "indexcols = ['fragment1', 'fragment2', 'radius', 'target_pref_name', 'standard_type'] #, 'assay_chembl_id', 'standard_units']\n",
    "df_agg_data = pd.pivot_table(df_merge, values='pchembl_exact_delta', index=indexcols, aggfunc=['count','mean'])\n",
    "df_agg_data.columns = ['_'.join(col).strip() for col in df_agg_data.columns.values]"
   ]
  },
  {
   "cell_type": "markdown",
   "metadata": {},
   "source": [
    "### Retain single SMIRKS per transformation (effectively at random)"
   ]
  },
  {
   "cell_type": "code",
   "execution_count": 7,
   "metadata": {},
   "outputs": [],
   "source": [
    "df_agg_smirks = pd.pivot_table(df_merge, values='smirks', index=indexcols, aggfunc='first')\n",
    "df_agg = df_agg_data.join(df_agg_smirks).reset_index()"
   ]
  },
  {
   "cell_type": "markdown",
   "metadata": {},
   "source": [
    "### Write to file"
   ]
  },
  {
   "cell_type": "code",
   "execution_count": 8,
   "metadata": {},
   "outputs": [],
   "source": [
    "df_agg.to_csv('beta2_agonists_transformations.csv', index=False)"
   ]
  },
  {
   "cell_type": "code",
   "execution_count": null,
   "metadata": {},
   "outputs": [],
   "source": []
  }
 ],
 "metadata": {
  "kernelspec": {
   "display_name": "Python 3",
   "language": "python",
   "name": "python3"
  },
  "language_info": {
   "codemirror_mode": {
    "name": "ipython",
    "version": 3
   },
   "file_extension": ".py",
   "mimetype": "text/x-python",
   "name": "python",
   "nbconvert_exporter": "python",
   "pygments_lexer": "ipython3",
   "version": "3.6.10"
  }
 },
 "nbformat": 4,
 "nbformat_minor": 4
}
