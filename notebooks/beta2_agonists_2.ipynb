{
 "cells": [
  {
   "cell_type": "code",
   "execution_count": 1,
   "metadata": {},
   "outputs": [],
   "source": [
    "import os\n",
    "os.chdir(\"../\")"
   ]
  },
  {
   "cell_type": "code",
   "execution_count": 2,
   "metadata": {},
   "outputs": [],
   "source": [
    "import pandas as pd\n",
    "\n",
    "from rdkit import Chem\n",
    "from rdkit.Chem import SaltRemover\n",
    "from networkx.algorithms.clique import find_cliques\n",
    "from networkx import to_numpy_matrix\n",
    "from func_timeout import func_timeout, FunctionTimedOut\n",
    "from mmpa.mmp import MMP"
   ]
  },
  {
   "cell_type": "code",
   "execution_count": 3,
   "metadata": {},
   "outputs": [],
   "source": [
    "from tqdm import tqdm\n",
    "tqdm.pandas()"
   ]
  },
  {
   "cell_type": "markdown",
   "metadata": {},
   "source": [
    "### import all activity values for compounds within 40% similarity of adenaline"
   ]
  },
  {
   "cell_type": "code",
   "execution_count": 4,
   "metadata": {},
   "outputs": [],
   "source": [
    "df = pd.read_csv('/home/daniel/Downloads/DOWNLOAD-DMAOS_6IYWiRfDdsg31VJek5bJXL5Y2ndfPnJhrbTB0=.csv.gz', sep=';', compression='gzip')"
   ]
  },
  {
   "cell_type": "markdown",
   "metadata": {},
   "source": [
    "### most common molecules"
   ]
  },
  {
   "cell_type": "code",
   "execution_count": 5,
   "metadata": {},
   "outputs": [
    {
     "data": {
      "text/plain": [
       "ISOPROTERENOL                  1894\n",
       "EPINEPHRINE                    1025\n",
       "NOREPINEPHRINE                  851\n",
       "PHENYLEPHRINE                   566\n",
       "ALBUTEROL                       493\n",
       "RACEPINEPHRINE                  449\n",
       "LEVISOPRENALINE                 143\n",
       "ISOPROTERENOL HYDROCHLORIDE      96\n",
       "NOREPINEPHRINE BITARTRATE        86\n",
       "EPINEPHRINE BITARTRATE           79\n",
       "Name: Molecule Name, dtype: int64"
      ]
     },
     "execution_count": 5,
     "metadata": {},
     "output_type": "execute_result"
    }
   ],
   "source": [
    "df['Molecule Name'].value_counts()[0:10]"
   ]
  },
  {
   "cell_type": "markdown",
   "metadata": {},
   "source": [
    "### most common targets"
   ]
  },
  {
   "cell_type": "code",
   "execution_count": 6,
   "metadata": {},
   "outputs": [
    {
     "data": {
      "text/plain": [
       "Rattus norvegicus             3191\n",
       "Unchecked                      665\n",
       "Beta-2 adrenergic receptor     363\n",
       "Beta-1 adrenergic receptor     132\n",
       "Hepatotoxicity                 130\n",
       "Canis familiaris               111\n",
       "NON-PROTEIN TARGET             109\n",
       "ADMET                           79\n",
       "Beta-3 adrenergic receptor      65\n",
       "Cavia porcellus                 64\n",
       "Name: Target Name, dtype: int64"
      ]
     },
     "execution_count": 6,
     "metadata": {},
     "output_type": "execute_result"
    }
   ],
   "source": [
    "df['Target Name'].value_counts()[0:10]"
   ]
  },
  {
   "cell_type": "markdown",
   "metadata": {},
   "source": [
    "### filter beta2 measurements"
   ]
  },
  {
   "cell_type": "code",
   "execution_count": 7,
   "metadata": {},
   "outputs": [
    {
     "data": {
      "text/plain": [
       "56"
      ]
     },
     "execution_count": 7,
     "metadata": {},
     "output_type": "execute_result"
    }
   ],
   "source": [
    "df_beta2 = df[df['Target Name']=='Beta-2 adrenergic receptor']\n",
    "df_beta2.Smiles.unique().size"
   ]
  },
  {
   "cell_type": "markdown",
   "metadata": {},
   "source": [
    "### strip salts"
   ]
  },
  {
   "cell_type": "code",
   "execution_count": 8,
   "metadata": {},
   "outputs": [],
   "source": [
    "def strip_salts(smiles, remover):\n",
    "    mol = Chem.MolFromSmiles(smiles)\n",
    "    res, deleted = remover.StripMolWithDeleted(mol)\n",
    "    res = Chem.MolToSmiles(res)\n",
    "    deleted = [Chem.MolToSmarts(mol) for mol in deleted]\n",
    "    return pd.Series({'Stripped':res, 'Salts':deleted})"
   ]
  },
  {
   "cell_type": "code",
   "execution_count": 9,
   "metadata": {},
   "outputs": [
    {
     "data": {
      "text/plain": [
       "47"
      ]
     },
     "execution_count": 9,
     "metadata": {},
     "output_type": "execute_result"
    }
   ],
   "source": [
    "remover = SaltRemover.SaltRemover()\n",
    "df_beta2 = df_beta2.join(df_beta2.Smiles.apply(strip_salts, remover=remover))\n",
    "df_beta2.Stripped.unique().size"
   ]
  },
  {
   "cell_type": "markdown",
   "metadata": {},
   "source": [
    "### create cartesian product of molecules test in the same assay"
   ]
  },
  {
   "cell_type": "code",
   "execution_count": 10,
   "metadata": {},
   "outputs": [
    {
     "data": {
      "text/html": [
       "<div>\n",
       "<style scoped>\n",
       "    .dataframe tbody tr th:only-of-type {\n",
       "        vertical-align: middle;\n",
       "    }\n",
       "\n",
       "    .dataframe tbody tr th {\n",
       "        vertical-align: top;\n",
       "    }\n",
       "\n",
       "    .dataframe thead th {\n",
       "        text-align: right;\n",
       "    }\n",
       "</style>\n",
       "<table border=\"1\" class=\"dataframe\">\n",
       "  <thead>\n",
       "    <tr style=\"text-align: right;\">\n",
       "      <th></th>\n",
       "      <th>Stripped_x</th>\n",
       "      <th>Stripped_y</th>\n",
       "    </tr>\n",
       "  </thead>\n",
       "  <tbody>\n",
       "    <tr>\n",
       "      <th>0</th>\n",
       "      <td>CC(C)NC[C@@H](O)c1ccc(O)c(O)c1</td>\n",
       "      <td>CC(C)NC[C@@H](O)c1ccc(O)c(O)c1</td>\n",
       "    </tr>\n",
       "    <tr>\n",
       "      <th>1</th>\n",
       "      <td>CC(C)NC[C@@H](O)c1ccc(O)c(O)c1</td>\n",
       "      <td>CCC(NC(C)C)C(O)c1ccc(O)c(O)c1</td>\n",
       "    </tr>\n",
       "    <tr>\n",
       "      <th>2</th>\n",
       "      <td>CC(C)NC[C@@H](O)c1ccc(O)c(O)c1</td>\n",
       "      <td>CC(C)NC[C@H](O)c1ccc(O)c(O)c1</td>\n",
       "    </tr>\n",
       "    <tr>\n",
       "      <th>3</th>\n",
       "      <td>CC(C)NC[C@@H](O)c1ccc(O)c(O)c1</td>\n",
       "      <td>CNCC(O)c1ccc(OC(=O)C(C)(C)C)c(OC(=O)C(C)(C)C)c1</td>\n",
       "    </tr>\n",
       "    <tr>\n",
       "      <th>4</th>\n",
       "      <td>CC(C)NC[C@@H](O)c1ccc(O)c(O)c1</td>\n",
       "      <td>CNCC(O)c1ccc(O)c(O)c1</td>\n",
       "    </tr>\n",
       "    <tr>\n",
       "      <th>...</th>\n",
       "      <td>...</td>\n",
       "      <td>...</td>\n",
       "    </tr>\n",
       "    <tr>\n",
       "      <th>1938</th>\n",
       "      <td>CC(C)NCC(O)c1ccc(O)c(NS(C)(=O)=O)c1</td>\n",
       "      <td>COC(CNC(C)C)c1ccc(O)c(O)c1</td>\n",
       "    </tr>\n",
       "    <tr>\n",
       "      <th>1946</th>\n",
       "      <td>CC(C)(C)NCC(O)c1ccc(O)c(NC(N)=O)c1</td>\n",
       "      <td>COC(CNC(C)C)c1ccc(O)c(O)c1</td>\n",
       "    </tr>\n",
       "    <tr>\n",
       "      <th>1954</th>\n",
       "      <td>CC(C)NCC(O)c1ccc(O)cc1</td>\n",
       "      <td>COC(CNC(C)C)c1ccc(O)c(O)c1</td>\n",
       "    </tr>\n",
       "    <tr>\n",
       "      <th>1962</th>\n",
       "      <td>CC(C)(C)NCC(O)c1ccc(O)c(O)c1</td>\n",
       "      <td>COC(CNC(C)C)c1ccc(O)c(O)c1</td>\n",
       "    </tr>\n",
       "    <tr>\n",
       "      <th>1970</th>\n",
       "      <td>CC(C)(C)NCC(O)c1ccc(O)c(CO)c1</td>\n",
       "      <td>COC(CNC(C)C)c1ccc(O)c(O)c1</td>\n",
       "    </tr>\n",
       "  </tbody>\n",
       "</table>\n",
       "<p>551 rows × 2 columns</p>\n",
       "</div>"
      ],
      "text/plain": [
       "                               Stripped_x  \\\n",
       "0          CC(C)NC[C@@H](O)c1ccc(O)c(O)c1   \n",
       "1          CC(C)NC[C@@H](O)c1ccc(O)c(O)c1   \n",
       "2          CC(C)NC[C@@H](O)c1ccc(O)c(O)c1   \n",
       "3          CC(C)NC[C@@H](O)c1ccc(O)c(O)c1   \n",
       "4          CC(C)NC[C@@H](O)c1ccc(O)c(O)c1   \n",
       "...                                   ...   \n",
       "1938  CC(C)NCC(O)c1ccc(O)c(NS(C)(=O)=O)c1   \n",
       "1946   CC(C)(C)NCC(O)c1ccc(O)c(NC(N)=O)c1   \n",
       "1954               CC(C)NCC(O)c1ccc(O)cc1   \n",
       "1962         CC(C)(C)NCC(O)c1ccc(O)c(O)c1   \n",
       "1970        CC(C)(C)NCC(O)c1ccc(O)c(CO)c1   \n",
       "\n",
       "                                           Stripped_y  \n",
       "0                      CC(C)NC[C@@H](O)c1ccc(O)c(O)c1  \n",
       "1                       CCC(NC(C)C)C(O)c1ccc(O)c(O)c1  \n",
       "2                       CC(C)NC[C@H](O)c1ccc(O)c(O)c1  \n",
       "3     CNCC(O)c1ccc(OC(=O)C(C)(C)C)c(OC(=O)C(C)(C)C)c1  \n",
       "4                               CNCC(O)c1ccc(O)c(O)c1  \n",
       "...                                               ...  \n",
       "1938                       COC(CNC(C)C)c1ccc(O)c(O)c1  \n",
       "1946                       COC(CNC(C)C)c1ccc(O)c(O)c1  \n",
       "1954                       COC(CNC(C)C)c1ccc(O)c(O)c1  \n",
       "1962                       COC(CNC(C)C)c1ccc(O)c(O)c1  \n",
       "1970                       COC(CNC(C)C)c1ccc(O)c(O)c1  \n",
       "\n",
       "[551 rows x 2 columns]"
      ]
     },
     "execution_count": 10,
     "metadata": {},
     "output_type": "execute_result"
    }
   ],
   "source": [
    "df_beta2_pairs = pd.merge(df_beta2, df_beta2, on='Assay ChEMBL ID')\n",
    "df_beta2_pairs = df_beta2_pairs[['Stripped_x', 'Stripped_y']].drop_duplicates()\n",
    "df_beta2_pairs"
   ]
  },
  {
   "cell_type": "markdown",
   "metadata": {},
   "source": [
    "### identify pairs"
   ]
  },
  {
   "cell_type": "code",
   "execution_count": 11,
   "metadata": {},
   "outputs": [],
   "source": [
    "def apply_mmpa(prospective_pair):\n",
    "    \n",
    "    # define input molecules\n",
    "    mol1 = Chem.MolFromSmiles(prospective_pair.Stripped_x)\n",
    "    mol2 = Chem.MolFromSmiles(prospective_pair.Stripped_y)\n",
    "\n",
    "    # prepare potential atom-atom mappings and create correspondence graph\n",
    "    mmp = MMP()\n",
    "    mmp.setMol1(mol1)\n",
    "    mmp.setMol2(mol2)\n",
    "    mmp.createCorrespondence(penalty=3.0)\n",
    "    \n",
    "    # score the cliques and isolate RECS \n",
    "    def find_cliques_no_args():\n",
    "        return list(find_cliques(mmp))\n",
    "    try:\n",
    "        cliques = func_timeout(60, find_cliques_no_args)\n",
    "    except FunctionTimedOut:\n",
    "        print(\"find_cliques could not complete within 60 seconds, hence terminated.\")\n",
    "        return prospective_pair\n",
    "    mmp.scoreCliques(cliques) \n",
    "    mmp.eliminateMCS()\n",
    "    \n",
    "    # append frags to output\n",
    "    prospective_pair['Frag_x'] = mmp.getFragmentA()\n",
    "    prospective_pair['Frag_y'] = mmp.getFragmentB()\n",
    "    \n",
    "    # create reaction\n",
    "    smirks = '{}>>{}'.format(Chem.MolToSmarts(Chem.AddHs(mmp.frag1)), Chem.MolToSmarts(Chem.AddHs(mmp.frag2)))\n",
    "    rxn = Chem.rdChemReactions.ReactionFromSmarts(smirks)\n",
    "    if rxn.GetNumReactantTemplates() != 1 or rxn.GetNumProductTemplates() != 1: return prospective_pair\n",
    "    \n",
    "    # return\n",
    "    prospective_pair['SMIRKS'] = smirks\n",
    "    return prospective_pair"
   ]
  },
  {
   "cell_type": "code",
   "execution_count": 12,
   "metadata": {},
   "outputs": [
    {
     "name": "stderr",
     "output_type": "stream",
     "text": [
      "100%|██████████| 551/551 [00:41<00:00, 13.16it/s]\n"
     ]
    },
    {
     "data": {
      "text/html": [
       "<div>\n",
       "<style scoped>\n",
       "    .dataframe tbody tr th:only-of-type {\n",
       "        vertical-align: middle;\n",
       "    }\n",
       "\n",
       "    .dataframe tbody tr th {\n",
       "        vertical-align: top;\n",
       "    }\n",
       "\n",
       "    .dataframe thead th {\n",
       "        text-align: right;\n",
       "    }\n",
       "</style>\n",
       "<table border=\"1\" class=\"dataframe\">\n",
       "  <thead>\n",
       "    <tr style=\"text-align: right;\">\n",
       "      <th></th>\n",
       "      <th>Frag_x</th>\n",
       "      <th>Frag_y</th>\n",
       "      <th>SMIRKS</th>\n",
       "      <th>Stripped_x</th>\n",
       "      <th>Stripped_y</th>\n",
       "    </tr>\n",
       "  </thead>\n",
       "  <tbody>\n",
       "    <tr>\n",
       "      <th>1</th>\n",
       "      <td>[H][C@@](O)(CNC(C)C)c1cccc(O)c1</td>\n",
       "      <td>CCC(NC(C)C)C(O)c1cccc(O)c1</td>\n",
       "      <td>[#6:13](-[#6:5](-[#6:12](-[H])(-[H])-[H])(-[#7...</td>\n",
       "      <td>CC(C)NC[C@@H](O)c1ccc(O)c(O)c1</td>\n",
       "      <td>CCC(NC(C)C)C(O)c1ccc(O)c(O)c1</td>\n",
       "    </tr>\n",
       "    <tr>\n",
       "      <th>2</th>\n",
       "      <td>CC(C)NCC(O)c1cccc(O)c1</td>\n",
       "      <td>CC(C)NCC(O)c1cccc(O)c1</td>\n",
       "      <td>[#6:10](-[#6:5](-[#6:11](-[H])(-[H])-[H])(-[#7...</td>\n",
       "      <td>CC(C)NC[C@@H](O)c1ccc(O)c(O)c1</td>\n",
       "      <td>CC(C)NC[C@H](O)c1ccc(O)c(O)c1</td>\n",
       "    </tr>\n",
       "    <tr>\n",
       "      <th>3</th>\n",
       "      <td>[H][C@@](O)(CNC(C)C)c1ccc(O)c(O)c1</td>\n",
       "      <td>CNCC(O)c1ccc(OC(=O)C(C)(C)C)c(OC(=O)C(C)(C)C)c1</td>\n",
       "      <td>[#6](-[#6](-[#6](-[H])(-[H])-[H])(-[#7:1](-[#6...</td>\n",
       "      <td>CC(C)NC[C@@H](O)c1ccc(O)c(O)c1</td>\n",
       "      <td>CNCC(O)c1ccc(OC(=O)C(C)(C)C)c(OC(=O)C(C)(C)C)c1</td>\n",
       "    </tr>\n",
       "    <tr>\n",
       "      <th>4</th>\n",
       "      <td>[H][C@@](O)(CNC(C)C)c1cccc(O)c1</td>\n",
       "      <td>CNCC(O)c1cccc(O)c1</td>\n",
       "      <td>[#6](-[#6](-[#6](-[H])(-[H])-[H])(-[#7:6](-[#6...</td>\n",
       "      <td>CC(C)NC[C@@H](O)c1ccc(O)c(O)c1</td>\n",
       "      <td>CNCC(O)c1ccc(O)c(O)c1</td>\n",
       "    </tr>\n",
       "    <tr>\n",
       "      <th>5</th>\n",
       "      <td>[H][C@@](O)(CNC(C)C)c1cccc(O)c1</td>\n",
       "      <td>CC(C)NCC(O)c1cccc(O)c1</td>\n",
       "      <td>[#6:8](-[#6:3](-[#6:9](-[H])(-[H])-[H])(-[#7:5...</td>\n",
       "      <td>CC(C)NC[C@@H](O)c1ccc(O)c(O)c1</td>\n",
       "      <td>CC(C)NCC(O)c1ccc(O)c(O)c1</td>\n",
       "    </tr>\n",
       "    <tr>\n",
       "      <th>...</th>\n",
       "      <td>...</td>\n",
       "      <td>...</td>\n",
       "      <td>...</td>\n",
       "      <td>...</td>\n",
       "      <td>...</td>\n",
       "    </tr>\n",
       "    <tr>\n",
       "      <th>1938</th>\n",
       "      <td>CNCC(O)c1ccc(O)c(NS(C)(=O)=O)c1</td>\n",
       "      <td>CNCC(OC)c1ccc(O)c(O)c1</td>\n",
       "      <td>[#6:9](-[#7:10](-[#6:11](-[#6:6](-[#8]-[H])(-[...</td>\n",
       "      <td>CC(C)NCC(O)c1ccc(O)c(NS(C)(=O)=O)c1</td>\n",
       "      <td>COC(CNC(C)C)c1ccc(O)c(O)c1</td>\n",
       "    </tr>\n",
       "    <tr>\n",
       "      <th>1946</th>\n",
       "      <td>CC(C)(C)NCC(O)c1ccc(O)c(NC(N)=O)c1</td>\n",
       "      <td>COC(CNC(C)C)c1ccc(O)c(O)c1</td>\n",
       "      <td>[#6](-[#6](-[#6:11](-[H])(-[H])-[H])(-[#6:12](...</td>\n",
       "      <td>CC(C)(C)NCC(O)c1ccc(O)c(NC(N)=O)c1</td>\n",
       "      <td>COC(CNC(C)C)c1ccc(O)c(O)c1</td>\n",
       "    </tr>\n",
       "    <tr>\n",
       "      <th>1954</th>\n",
       "      <td>CNCC(O)c1ccc(O)cc1</td>\n",
       "      <td>CNCC(OC)c1ccc(O)c(O)c1</td>\n",
       "      <td>[#6:5](-[#7:6](-[#6:7](-[#6:1](-[#8]-[H])(-[#6...</td>\n",
       "      <td>CC(C)NCC(O)c1ccc(O)cc1</td>\n",
       "      <td>COC(CNC(C)C)c1ccc(O)c(O)c1</td>\n",
       "    </tr>\n",
       "    <tr>\n",
       "      <th>1962</th>\n",
       "      <td>ccc(cc)C(O)CNC(C)(C)C</td>\n",
       "      <td>ccc(cc)C(CNC(C)C)OC</td>\n",
       "      <td>[#6](-[#6](-[#6:12](-[H])(-[H])-[H])(-[#6:13](...</td>\n",
       "      <td>CC(C)(C)NCC(O)c1ccc(O)c(O)c1</td>\n",
       "      <td>COC(CNC(C)C)c1ccc(O)c(O)c1</td>\n",
       "    </tr>\n",
       "    <tr>\n",
       "      <th>1970</th>\n",
       "      <td>CC(C)(C)NCC(O)c1ccc(O)c(CO)c1</td>\n",
       "      <td>COC(CNC(C)C)c1ccc(O)c(O)c1</td>\n",
       "      <td>[#6](-[#6](-[#6:11](-[H])(-[H])-[H])(-[#6:12](...</td>\n",
       "      <td>CC(C)(C)NCC(O)c1ccc(O)c(CO)c1</td>\n",
       "      <td>COC(CNC(C)C)c1ccc(O)c(O)c1</td>\n",
       "    </tr>\n",
       "  </tbody>\n",
       "</table>\n",
       "<p>490 rows × 5 columns</p>\n",
       "</div>"
      ],
      "text/plain": [
       "                                  Frag_x  \\\n",
       "1        [H][C@@](O)(CNC(C)C)c1cccc(O)c1   \n",
       "2                 CC(C)NCC(O)c1cccc(O)c1   \n",
       "3     [H][C@@](O)(CNC(C)C)c1ccc(O)c(O)c1   \n",
       "4        [H][C@@](O)(CNC(C)C)c1cccc(O)c1   \n",
       "5        [H][C@@](O)(CNC(C)C)c1cccc(O)c1   \n",
       "...                                  ...   \n",
       "1938     CNCC(O)c1ccc(O)c(NS(C)(=O)=O)c1   \n",
       "1946  CC(C)(C)NCC(O)c1ccc(O)c(NC(N)=O)c1   \n",
       "1954                  CNCC(O)c1ccc(O)cc1   \n",
       "1962               ccc(cc)C(O)CNC(C)(C)C   \n",
       "1970       CC(C)(C)NCC(O)c1ccc(O)c(CO)c1   \n",
       "\n",
       "                                               Frag_y  \\\n",
       "1                          CCC(NC(C)C)C(O)c1cccc(O)c1   \n",
       "2                              CC(C)NCC(O)c1cccc(O)c1   \n",
       "3     CNCC(O)c1ccc(OC(=O)C(C)(C)C)c(OC(=O)C(C)(C)C)c1   \n",
       "4                                  CNCC(O)c1cccc(O)c1   \n",
       "5                              CC(C)NCC(O)c1cccc(O)c1   \n",
       "...                                               ...   \n",
       "1938                           CNCC(OC)c1ccc(O)c(O)c1   \n",
       "1946                       COC(CNC(C)C)c1ccc(O)c(O)c1   \n",
       "1954                           CNCC(OC)c1ccc(O)c(O)c1   \n",
       "1962                              ccc(cc)C(CNC(C)C)OC   \n",
       "1970                       COC(CNC(C)C)c1ccc(O)c(O)c1   \n",
       "\n",
       "                                                 SMIRKS  \\\n",
       "1     [#6:13](-[#6:5](-[#6:12](-[H])(-[H])-[H])(-[#7...   \n",
       "2     [#6:10](-[#6:5](-[#6:11](-[H])(-[H])-[H])(-[#7...   \n",
       "3     [#6](-[#6](-[#6](-[H])(-[H])-[H])(-[#7:1](-[#6...   \n",
       "4     [#6](-[#6](-[#6](-[H])(-[H])-[H])(-[#7:6](-[#6...   \n",
       "5     [#6:8](-[#6:3](-[#6:9](-[H])(-[H])-[H])(-[#7:5...   \n",
       "...                                                 ...   \n",
       "1938  [#6:9](-[#7:10](-[#6:11](-[#6:6](-[#8]-[H])(-[...   \n",
       "1946  [#6](-[#6](-[#6:11](-[H])(-[H])-[H])(-[#6:12](...   \n",
       "1954  [#6:5](-[#7:6](-[#6:7](-[#6:1](-[#8]-[H])(-[#6...   \n",
       "1962  [#6](-[#6](-[#6:12](-[H])(-[H])-[H])(-[#6:13](...   \n",
       "1970  [#6](-[#6](-[#6:11](-[H])(-[H])-[H])(-[#6:12](...   \n",
       "\n",
       "                               Stripped_x  \\\n",
       "1          CC(C)NC[C@@H](O)c1ccc(O)c(O)c1   \n",
       "2          CC(C)NC[C@@H](O)c1ccc(O)c(O)c1   \n",
       "3          CC(C)NC[C@@H](O)c1ccc(O)c(O)c1   \n",
       "4          CC(C)NC[C@@H](O)c1ccc(O)c(O)c1   \n",
       "5          CC(C)NC[C@@H](O)c1ccc(O)c(O)c1   \n",
       "...                                   ...   \n",
       "1938  CC(C)NCC(O)c1ccc(O)c(NS(C)(=O)=O)c1   \n",
       "1946   CC(C)(C)NCC(O)c1ccc(O)c(NC(N)=O)c1   \n",
       "1954               CC(C)NCC(O)c1ccc(O)cc1   \n",
       "1962         CC(C)(C)NCC(O)c1ccc(O)c(O)c1   \n",
       "1970        CC(C)(C)NCC(O)c1ccc(O)c(CO)c1   \n",
       "\n",
       "                                           Stripped_y  \n",
       "1                       CCC(NC(C)C)C(O)c1ccc(O)c(O)c1  \n",
       "2                       CC(C)NC[C@H](O)c1ccc(O)c(O)c1  \n",
       "3     CNCC(O)c1ccc(OC(=O)C(C)(C)C)c(OC(=O)C(C)(C)C)c1  \n",
       "4                               CNCC(O)c1ccc(O)c(O)c1  \n",
       "5                           CC(C)NCC(O)c1ccc(O)c(O)c1  \n",
       "...                                               ...  \n",
       "1938                       COC(CNC(C)C)c1ccc(O)c(O)c1  \n",
       "1946                       COC(CNC(C)C)c1ccc(O)c(O)c1  \n",
       "1954                       COC(CNC(C)C)c1ccc(O)c(O)c1  \n",
       "1962                       COC(CNC(C)C)c1ccc(O)c(O)c1  \n",
       "1970                       COC(CNC(C)C)c1ccc(O)c(O)c1  \n",
       "\n",
       "[490 rows x 5 columns]"
      ]
     },
     "execution_count": 12,
     "metadata": {},
     "output_type": "execute_result"
    }
   ],
   "source": [
    "df_beta2_pairs = df_beta2_pairs.progress_apply(apply_mmpa, axis=1)\n",
    "df_beta2_pairs = df_beta2_pairs[~pd.isna(df_beta2_pairs.SMIRKS)]\n",
    "df_beta2_pairs"
   ]
  },
  {
   "cell_type": "code",
   "execution_count": null,
   "metadata": {},
   "outputs": [],
   "source": []
  },
  {
   "cell_type": "code",
   "execution_count": null,
   "metadata": {},
   "outputs": [],
   "source": []
  },
  {
   "cell_type": "markdown",
   "metadata": {},
   "source": [
    "### quality control, demonstrate x -> y using reaction"
   ]
  },
  {
   "cell_type": "code",
   "execution_count": 13,
   "metadata": {},
   "outputs": [],
   "source": [
    "def apply_reactions(reaction):\n",
    "    \n",
    "    # create reaction\n",
    "    rxn = Chem.rdChemReactions.ReactionFromSmarts(reaction.SMIRKS)\n",
    "\n",
    "    # enumerate products\n",
    "    reaction['Products'] = rxn.RunReactants((Chem.AddHs(Chem.MolFromSmiles(reaction.Stripped_x)),))\n",
    "    return reaction"
   ]
  },
  {
   "cell_type": "code",
   "execution_count": 14,
   "metadata": {},
   "outputs": [
    {
     "name": "stderr",
     "output_type": "stream",
     "text": [
      "100%|██████████| 490/490 [00:11<00:00, 43.24it/s]\n"
     ]
    },
    {
     "data": {
      "text/html": [
       "<div>\n",
       "<style scoped>\n",
       "    .dataframe tbody tr th:only-of-type {\n",
       "        vertical-align: middle;\n",
       "    }\n",
       "\n",
       "    .dataframe tbody tr th {\n",
       "        vertical-align: top;\n",
       "    }\n",
       "\n",
       "    .dataframe thead th {\n",
       "        text-align: right;\n",
       "    }\n",
       "</style>\n",
       "<table border=\"1\" class=\"dataframe\">\n",
       "  <thead>\n",
       "    <tr style=\"text-align: right;\">\n",
       "      <th></th>\n",
       "      <th>Frag_x</th>\n",
       "      <th>Frag_y</th>\n",
       "      <th>SMIRKS</th>\n",
       "      <th>Stripped_x</th>\n",
       "      <th>Stripped_y</th>\n",
       "      <th>Products</th>\n",
       "    </tr>\n",
       "  </thead>\n",
       "  <tbody>\n",
       "    <tr>\n",
       "      <th>98</th>\n",
       "      <td>[H][C@](O)(CNC)c1ccc(O)c(O)c1</td>\n",
       "      <td>CNCC(O)c1ccc(O)c(O)c1F</td>\n",
       "      <td>[#6:8](-[#7:4](-[#6:6](-[#6@](-[#8:11]-[H])(-[...</td>\n",
       "      <td>CNC[C@H](O)c1ccc(O)c(O)c1</td>\n",
       "      <td>CNCC(O)c1ccc(O)c(O)c1F</td>\n",
       "      <td>((&lt;rdkit.Chem.rdchem.Mol object at 0x7fd11ab73...</td>\n",
       "    </tr>\n",
       "    <tr>\n",
       "      <th>413</th>\n",
       "      <td>CC(C)(C)NCC(O)c1ccc(O)c(CO)c1</td>\n",
       "      <td>CC(C)NCC(O)c1ccc(O)cc1</td>\n",
       "      <td>[#6:9](-[#6](-[#6](-[H])(-[H])-[H])(-[#6:8](-[...</td>\n",
       "      <td>CC(C)(C)NCC(O)c1ccc(O)c(CO)c1</td>\n",
       "      <td>CC(C)NCC(O)c1ccc(O)cc1</td>\n",
       "      <td>((&lt;rdkit.Chem.rdchem.Mol object at 0x7fd11a3ce...</td>\n",
       "    </tr>\n",
       "    <tr>\n",
       "      <th>97</th>\n",
       "      <td>NCC(O)c1ccc(O)c(O)c1</td>\n",
       "      <td>NCC(O)c1ccc(O)c(O)c1F</td>\n",
       "      <td>[#7:4](-[#6:7](-[#6@:11](-[#8:13]-[H])-[#6:6]1...</td>\n",
       "      <td>CNC[C@H](O)c1ccc(O)c(O)c1</td>\n",
       "      <td>CNC[C@H](O)c1ccc(O)c(O)c1F</td>\n",
       "      <td>((&lt;rdkit.Chem.rdchem.Mol object at 0x7fd11ab73...</td>\n",
       "    </tr>\n",
       "  </tbody>\n",
       "</table>\n",
       "</div>"
      ],
      "text/plain": [
       "                            Frag_x                  Frag_y  \\\n",
       "98   [H][C@](O)(CNC)c1ccc(O)c(O)c1  CNCC(O)c1ccc(O)c(O)c1F   \n",
       "413  CC(C)(C)NCC(O)c1ccc(O)c(CO)c1  CC(C)NCC(O)c1ccc(O)cc1   \n",
       "97            NCC(O)c1ccc(O)c(O)c1   NCC(O)c1ccc(O)c(O)c1F   \n",
       "\n",
       "                                                SMIRKS  \\\n",
       "98   [#6:8](-[#7:4](-[#6:6](-[#6@](-[#8:11]-[H])(-[...   \n",
       "413  [#6:9](-[#6](-[#6](-[H])(-[H])-[H])(-[#6:8](-[...   \n",
       "97   [#7:4](-[#6:7](-[#6@:11](-[#8:13]-[H])-[#6:6]1...   \n",
       "\n",
       "                        Stripped_x                  Stripped_y  \\\n",
       "98       CNC[C@H](O)c1ccc(O)c(O)c1      CNCC(O)c1ccc(O)c(O)c1F   \n",
       "413  CC(C)(C)NCC(O)c1ccc(O)c(CO)c1      CC(C)NCC(O)c1ccc(O)cc1   \n",
       "97       CNC[C@H](O)c1ccc(O)c(O)c1  CNC[C@H](O)c1ccc(O)c(O)c1F   \n",
       "\n",
       "                                              Products  \n",
       "98   ((<rdkit.Chem.rdchem.Mol object at 0x7fd11ab73...  \n",
       "413  ((<rdkit.Chem.rdchem.Mol object at 0x7fd11a3ce...  \n",
       "97   ((<rdkit.Chem.rdchem.Mol object at 0x7fd11ab73...  "
      ]
     },
     "execution_count": 14,
     "metadata": {},
     "output_type": "execute_result"
    }
   ],
   "source": [
    "df_beta2_products = df_beta2_pairs.progress_apply(apply_reactions, axis=1)\n",
    "df_beta2_products.sample(3)"
   ]
  },
  {
   "cell_type": "code",
   "execution_count": 15,
   "metadata": {},
   "outputs": [
    {
     "data": {
      "text/plain": [
       "490"
      ]
     },
     "execution_count": 15,
     "metadata": {},
     "output_type": "execute_result"
    }
   ],
   "source": [
    "len(df_beta2_products.index)"
   ]
  },
  {
   "cell_type": "code",
   "execution_count": 16,
   "metadata": {},
   "outputs": [],
   "source": [
    "def products_to_list(productset):\n",
    "    \n",
    "    # given produces exist\n",
    "    productlist = []\n",
    "    for product in productset:\n",
    "        productlist.append('.'.join([Chem.MolToSmiles(Chem.RemoveHs(productpart)) for productpart in product]))\n",
    "    return list(set(productlist))\n",
    "\n",
    "df_beta2_products['ProductList'] = df_beta2_products.Products.apply(lambda x: products_to_list(x) if pd.notna(x) else list())"
   ]
  },
  {
   "cell_type": "code",
   "execution_count": 17,
   "metadata": {},
   "outputs": [
    {
     "data": {
      "text/html": [
       "<div>\n",
       "<style scoped>\n",
       "    .dataframe tbody tr th:only-of-type {\n",
       "        vertical-align: middle;\n",
       "    }\n",
       "\n",
       "    .dataframe tbody tr th {\n",
       "        vertical-align: top;\n",
       "    }\n",
       "\n",
       "    .dataframe thead th {\n",
       "        text-align: right;\n",
       "    }\n",
       "</style>\n",
       "<table border=\"1\" class=\"dataframe\">\n",
       "  <thead>\n",
       "    <tr style=\"text-align: right;\">\n",
       "      <th></th>\n",
       "      <th>Frag_x</th>\n",
       "      <th>Frag_y</th>\n",
       "      <th>SMIRKS</th>\n",
       "      <th>Stripped_x</th>\n",
       "      <th>Stripped_y</th>\n",
       "      <th>Products</th>\n",
       "      <th>ProductList</th>\n",
       "    </tr>\n",
       "  </thead>\n",
       "  <tbody>\n",
       "    <tr>\n",
       "      <th>26</th>\n",
       "      <td>CNCC(O)c1ccc(OC(=O)C(C)(C)C)c(OC(=O)C(C)(C)C)c1</td>\n",
       "      <td>CC(C)NCC(O)c1ccc(O)c(O)c1</td>\n",
       "      <td>[#6](-[#7:1](-[#6:2](-[#6:3](-[#8:4]-[H])(-[#6...</td>\n",
       "      <td>CNCC(O)c1ccc(OC(=O)C(C)(C)C)c(OC(=O)C(C)(C)C)c1</td>\n",
       "      <td>CC(C)NCC(O)c1ccc(O)c(O)c1</td>\n",
       "      <td>((&lt;rdkit.Chem.rdchem.Mol object at 0x7fd11ab94...</td>\n",
       "      <td>[CC(C)NCC(O)c1ccc(O)c(O)c1]</td>\n",
       "    </tr>\n",
       "    <tr>\n",
       "      <th>416</th>\n",
       "      <td>Cc1ccc(O)c(CO)c1</td>\n",
       "      <td>Cc1ccc(O)c(N)c1</td>\n",
       "      <td>[#6:2](-[#6:6]1:[#6:11](:[#6:9](:[#6:8](-[#8:7...</td>\n",
       "      <td>CC(C)(C)NCC(O)c1ccc(O)c(CO)c1</td>\n",
       "      <td>CC(C)(C)NCC(O)c1ccc(O)c(N)c1</td>\n",
       "      <td>((&lt;rdkit.Chem.rdchem.Mol object at 0x7fd11a3f0...</td>\n",
       "      <td>[CC(C)(C)NCC(O)c1ccc(O)c(N)c1]</td>\n",
       "    </tr>\n",
       "    <tr>\n",
       "      <th>332</th>\n",
       "      <td>CNc1cc(C)ccc1O</td>\n",
       "      <td>Cc1ccc(O)c(N)c1</td>\n",
       "      <td>[#6](-[#7](-[#6:10]1:[#6:9](:[#6:6](-[#6:2]-[H...</td>\n",
       "      <td>CNc1cc(C(O)CNC(C)(C)C)ccc1O</td>\n",
       "      <td>CC(C)(C)NCC(O)c1ccc(O)c(N)c1</td>\n",
       "      <td>((&lt;rdkit.Chem.rdchem.Mol object at 0x7fd11a798...</td>\n",
       "      <td>[CC(C)(C)NCC(O)c1ccc(O)c(N)c1]</td>\n",
       "    </tr>\n",
       "  </tbody>\n",
       "</table>\n",
       "</div>"
      ],
      "text/plain": [
       "                                              Frag_x  \\\n",
       "26   CNCC(O)c1ccc(OC(=O)C(C)(C)C)c(OC(=O)C(C)(C)C)c1   \n",
       "416                                 Cc1ccc(O)c(CO)c1   \n",
       "332                                   CNc1cc(C)ccc1O   \n",
       "\n",
       "                        Frag_y  \\\n",
       "26   CC(C)NCC(O)c1ccc(O)c(O)c1   \n",
       "416            Cc1ccc(O)c(N)c1   \n",
       "332            Cc1ccc(O)c(N)c1   \n",
       "\n",
       "                                                SMIRKS  \\\n",
       "26   [#6](-[#7:1](-[#6:2](-[#6:3](-[#8:4]-[H])(-[#6...   \n",
       "416  [#6:2](-[#6:6]1:[#6:11](:[#6:9](:[#6:8](-[#8:7...   \n",
       "332  [#6](-[#7](-[#6:10]1:[#6:9](:[#6:6](-[#6:2]-[H...   \n",
       "\n",
       "                                          Stripped_x  \\\n",
       "26   CNCC(O)c1ccc(OC(=O)C(C)(C)C)c(OC(=O)C(C)(C)C)c1   \n",
       "416                    CC(C)(C)NCC(O)c1ccc(O)c(CO)c1   \n",
       "332                      CNc1cc(C(O)CNC(C)(C)C)ccc1O   \n",
       "\n",
       "                       Stripped_y  \\\n",
       "26      CC(C)NCC(O)c1ccc(O)c(O)c1   \n",
       "416  CC(C)(C)NCC(O)c1ccc(O)c(N)c1   \n",
       "332  CC(C)(C)NCC(O)c1ccc(O)c(N)c1   \n",
       "\n",
       "                                              Products  \\\n",
       "26   ((<rdkit.Chem.rdchem.Mol object at 0x7fd11ab94...   \n",
       "416  ((<rdkit.Chem.rdchem.Mol object at 0x7fd11a3f0...   \n",
       "332  ((<rdkit.Chem.rdchem.Mol object at 0x7fd11a798...   \n",
       "\n",
       "                        ProductList  \n",
       "26      [CC(C)NCC(O)c1ccc(O)c(O)c1]  \n",
       "416  [CC(C)(C)NCC(O)c1ccc(O)c(N)c1]  \n",
       "332  [CC(C)(C)NCC(O)c1ccc(O)c(N)c1]  "
      ]
     },
     "execution_count": 17,
     "metadata": {},
     "output_type": "execute_result"
    }
   ],
   "source": [
    "df_beta2_products.sample(3)"
   ]
  },
  {
   "cell_type": "code",
   "execution_count": null,
   "metadata": {},
   "outputs": [],
   "source": []
  },
  {
   "cell_type": "code",
   "execution_count": 18,
   "metadata": {},
   "outputs": [
    {
     "data": {
      "text/plain": [
       "0"
      ]
     },
     "execution_count": 18,
     "metadata": {},
     "output_type": "execute_result"
    }
   ],
   "source": [
    "df_beta2_products.apply(lambda x: x.Stripped_y not in x.ProductList, axis=1).sum()"
   ]
  },
  {
   "cell_type": "code",
   "execution_count": 19,
   "metadata": {},
   "outputs": [
    {
     "data": {
      "text/plain": [
       "0"
      ]
     },
     "execution_count": 19,
     "metadata": {},
     "output_type": "execute_result"
    }
   ],
   "source": [
    "df_beta2_products.ProductList.apply(lambda x: len(x) > 1).sum()"
   ]
  },
  {
   "cell_type": "code",
   "execution_count": null,
   "metadata": {},
   "outputs": [],
   "source": []
  }
 ],
 "metadata": {
  "kernelspec": {
   "display_name": "Python 3",
   "language": "python",
   "name": "python3"
  },
  "language_info": {
   "codemirror_mode": {
    "name": "ipython",
    "version": 3
   },
   "file_extension": ".py",
   "mimetype": "text/x-python",
   "name": "python",
   "nbconvert_exporter": "python",
   "pygments_lexer": "ipython3",
   "version": "3.6.10"
  }
 },
 "nbformat": 4,
 "nbformat_minor": 4
}
