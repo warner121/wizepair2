{
 "cells": [
  {
   "cell_type": "code",
   "execution_count": 1,
   "metadata": {},
   "outputs": [],
   "source": [
    "import os\n",
    "os.chdir(\"../\")"
   ]
  },
  {
   "cell_type": "code",
   "execution_count": 2,
   "metadata": {},
   "outputs": [],
   "source": [
    "import pandas as pd\n",
    "\n",
    "from rdkit import Chem\n",
    "from rdkit.Chem import SaltRemover\n",
    "from networkx import to_numpy_matrix\n",
    "from mmpa.mmp import MMP\n",
    "\n",
    "from tqdm import tqdm\n",
    "tqdm.pandas()"
   ]
  },
  {
   "cell_type": "markdown",
   "metadata": {},
   "source": [
    "### import all activity values from glen's hdac paper\n",
    "\n",
    "https://www.ebi.ac.uk/chembl/g/#browse/activities/filter/document_chembl_id%3ACHEMBL1144843"
   ]
  },
  {
   "cell_type": "code",
   "execution_count": 3,
   "metadata": {},
   "outputs": [],
   "source": [
    "df = pd.read_csv('/home/daniel/Downloads/DOWNLOAD-yHB7WOyNM1ncO7P50KZYChBxehUvIU9pGeCACYqyD4Y=.zip', sep=';', compression='zip')"
   ]
  },
  {
   "cell_type": "markdown",
   "metadata": {},
   "source": [
    "### most common molecules"
   ]
  },
  {
   "cell_type": "code",
   "execution_count": 4,
   "metadata": {},
   "outputs": [
    {
     "data": {
      "text/plain": [
       "Series([], Name: Molecule Name, dtype: int64)"
      ]
     },
     "execution_count": 4,
     "metadata": {},
     "output_type": "execute_result"
    }
   ],
   "source": [
    "df['Molecule Name'].value_counts()[0:10]"
   ]
  },
  {
   "cell_type": "markdown",
   "metadata": {},
   "source": [
    "### most common targets"
   ]
  },
  {
   "cell_type": "code",
   "execution_count": 5,
   "metadata": {},
   "outputs": [
    {
     "data": {
      "text/plain": [
       "Rattus norvegicus        44\n",
       "No relevant target       24\n",
       "HCT-116                  13\n",
       "Histone deacetylase 1    13\n",
       "HERG                     13\n",
       "Canis familiaris          7\n",
       "Plasma                    3\n",
       "Mus musculus              2\n",
       "Name: Target Name, dtype: int64"
      ]
     },
     "execution_count": 5,
     "metadata": {},
     "output_type": "execute_result"
    }
   ],
   "source": [
    "df['Target Name'].value_counts()[0:10]"
   ]
  },
  {
   "cell_type": "markdown",
   "metadata": {},
   "source": [
    "### filter hdac1 measurements"
   ]
  },
  {
   "cell_type": "code",
   "execution_count": 6,
   "metadata": {},
   "outputs": [
    {
     "data": {
      "text/plain": [
       "13"
      ]
     },
     "execution_count": 6,
     "metadata": {},
     "output_type": "execute_result"
    }
   ],
   "source": [
    "df_hdac1 = df[df['Target Name']=='Histone deacetylase 1'].copy()\n",
    "df_hdac1.Smiles.unique().size"
   ]
  },
  {
   "cell_type": "markdown",
   "metadata": {},
   "source": [
    "### strip salts"
   ]
  },
  {
   "cell_type": "code",
   "execution_count": 7,
   "metadata": {},
   "outputs": [],
   "source": [
    "def strip_salts(smiles):\n",
    "    mol = Chem.MolFromSmiles(smiles)\n",
    "    remover = SaltRemover.SaltRemover()\n",
    "    mol, salts = remover.StripMolWithDeleted(mol)\n",
    "    smiles = Chem.MolToSmiles(mol)\n",
    "    return smiles"
   ]
  },
  {
   "cell_type": "code",
   "execution_count": 8,
   "metadata": {},
   "outputs": [
    {
     "data": {
      "text/plain": [
       "13"
      ]
     },
     "execution_count": 8,
     "metadata": {},
     "output_type": "execute_result"
    }
   ],
   "source": [
    "df_hdac1['Stripped'] = df_hdac1.Smiles.apply(strip_salts)\n",
    "df_hdac1.Stripped.unique().size"
   ]
  },
  {
   "cell_type": "markdown",
   "metadata": {},
   "source": [
    "### create cartesian product of molecules test in the same assay"
   ]
  },
  {
   "cell_type": "code",
   "execution_count": 9,
   "metadata": {},
   "outputs": [
    {
     "data": {
      "text/html": [
       "<div>\n",
       "<style scoped>\n",
       "    .dataframe tbody tr th:only-of-type {\n",
       "        vertical-align: middle;\n",
       "    }\n",
       "\n",
       "    .dataframe tbody tr th {\n",
       "        vertical-align: top;\n",
       "    }\n",
       "\n",
       "    .dataframe thead th {\n",
       "        text-align: right;\n",
       "    }\n",
       "</style>\n",
       "<table border=\"1\" class=\"dataframe\">\n",
       "  <thead>\n",
       "    <tr style=\"text-align: right;\">\n",
       "      <th></th>\n",
       "      <th>Stripped_x</th>\n",
       "      <th>Stripped_y</th>\n",
       "    </tr>\n",
       "  </thead>\n",
       "  <tbody>\n",
       "    <tr>\n",
       "      <th>0</th>\n",
       "      <td>CCN1CCN(Cc2cnc(-c3ccc(C(=O)Nc4ccccc4N)cc3)c(Cl...</td>\n",
       "      <td>CCN1CCN(Cc2cnc(-c3ccc(C(=O)Nc4ccccc4N)cc3)c(Cl...</td>\n",
       "    </tr>\n",
       "    <tr>\n",
       "      <th>1</th>\n",
       "      <td>CCN1CCN(Cc2cnc(-c3ccc(C(=O)Nc4ccccc4N)cc3)c(Cl...</td>\n",
       "      <td>CC(C)N1CCN(Cc2cnc(-c3ccc(C(=O)Nc4ccccc4N)cc3)c...</td>\n",
       "    </tr>\n",
       "    <tr>\n",
       "      <th>2</th>\n",
       "      <td>CCN1CCN(Cc2cnc(-c3ccc(C(=O)Nc4ccccc4N)cc3)c(Cl...</td>\n",
       "      <td>CC(C)N1CCN(Cc2cnc(-c3ccc(C(=O)Nc4ccccc4N)cc3)c...</td>\n",
       "    </tr>\n",
       "    <tr>\n",
       "      <th>3</th>\n",
       "      <td>CCN1CCN(Cc2cnc(-c3ccc(C(=O)Nc4ccccc4N)cc3)c(Cl...</td>\n",
       "      <td>N#Cc1cc(CN2CCC2)cnc1-c1ccc(C(=O)Nc2ccccc2N)cc1</td>\n",
       "    </tr>\n",
       "    <tr>\n",
       "      <th>4</th>\n",
       "      <td>CCN1CCN(Cc2cnc(-c3ccc(C(=O)Nc4ccccc4N)cc3)c(Cl...</td>\n",
       "      <td>CCN1CCN(Cc2cnc(-c3ccc(C(=O)Nc4ccccc4N)cc3)c(F)...</td>\n",
       "    </tr>\n",
       "    <tr>\n",
       "      <th>...</th>\n",
       "      <td>...</td>\n",
       "      <td>...</td>\n",
       "    </tr>\n",
       "    <tr>\n",
       "      <th>164</th>\n",
       "      <td>CC(C)N1CCN(Cc2cnc(-c3ccc(C(=O)Nc4ccccc4N)cc3)c...</td>\n",
       "      <td>Cc1cc(CN2CCN(C(C)C)CC2)cnc1-c1ccc(C(=O)Nc2cccc...</td>\n",
       "    </tr>\n",
       "    <tr>\n",
       "      <th>165</th>\n",
       "      <td>CC(C)N1CCN(Cc2cnc(-c3ccc(C(=O)Nc4ccccc4N)cc3)c...</td>\n",
       "      <td>Nc1ccccc1NC(=O)c1ccc(-c2ncc(CN3CCC3)cc2F)cc1</td>\n",
       "    </tr>\n",
       "    <tr>\n",
       "      <th>166</th>\n",
       "      <td>CC(C)N1CCN(Cc2cnc(-c3ccc(C(=O)Nc4ccccc4N)cc3)c...</td>\n",
       "      <td>Nc1ccccc1NC(=O)c1ccc(-c2ncc(CN3CCC3)cc2Cl)cc1</td>\n",
       "    </tr>\n",
       "    <tr>\n",
       "      <th>167</th>\n",
       "      <td>CC(C)N1CCN(Cc2cnc(-c3ccc(C(=O)Nc4ccccc4N)cc3)c...</td>\n",
       "      <td>Cc1cc(CN2CCC2)cnc1-c1ccc(C(=O)Nc2ccccc2N)cc1</td>\n",
       "    </tr>\n",
       "    <tr>\n",
       "      <th>168</th>\n",
       "      <td>CC(C)N1CCN(Cc2cnc(-c3ccc(C(=O)Nc4ccccc4N)cc3)c...</td>\n",
       "      <td>CC(C)N1CCN(Cc2cnc(-c3ccc(C(=O)Nc4ccccc4N)cc3)c...</td>\n",
       "    </tr>\n",
       "  </tbody>\n",
       "</table>\n",
       "<p>169 rows × 2 columns</p>\n",
       "</div>"
      ],
      "text/plain": [
       "                                            Stripped_x  \\\n",
       "0    CCN1CCN(Cc2cnc(-c3ccc(C(=O)Nc4ccccc4N)cc3)c(Cl...   \n",
       "1    CCN1CCN(Cc2cnc(-c3ccc(C(=O)Nc4ccccc4N)cc3)c(Cl...   \n",
       "2    CCN1CCN(Cc2cnc(-c3ccc(C(=O)Nc4ccccc4N)cc3)c(Cl...   \n",
       "3    CCN1CCN(Cc2cnc(-c3ccc(C(=O)Nc4ccccc4N)cc3)c(Cl...   \n",
       "4    CCN1CCN(Cc2cnc(-c3ccc(C(=O)Nc4ccccc4N)cc3)c(Cl...   \n",
       "..                                                 ...   \n",
       "164  CC(C)N1CCN(Cc2cnc(-c3ccc(C(=O)Nc4ccccc4N)cc3)c...   \n",
       "165  CC(C)N1CCN(Cc2cnc(-c3ccc(C(=O)Nc4ccccc4N)cc3)c...   \n",
       "166  CC(C)N1CCN(Cc2cnc(-c3ccc(C(=O)Nc4ccccc4N)cc3)c...   \n",
       "167  CC(C)N1CCN(Cc2cnc(-c3ccc(C(=O)Nc4ccccc4N)cc3)c...   \n",
       "168  CC(C)N1CCN(Cc2cnc(-c3ccc(C(=O)Nc4ccccc4N)cc3)c...   \n",
       "\n",
       "                                            Stripped_y  \n",
       "0    CCN1CCN(Cc2cnc(-c3ccc(C(=O)Nc4ccccc4N)cc3)c(Cl...  \n",
       "1    CC(C)N1CCN(Cc2cnc(-c3ccc(C(=O)Nc4ccccc4N)cc3)c...  \n",
       "2    CC(C)N1CCN(Cc2cnc(-c3ccc(C(=O)Nc4ccccc4N)cc3)c...  \n",
       "3       N#Cc1cc(CN2CCC2)cnc1-c1ccc(C(=O)Nc2ccccc2N)cc1  \n",
       "4    CCN1CCN(Cc2cnc(-c3ccc(C(=O)Nc4ccccc4N)cc3)c(F)...  \n",
       "..                                                 ...  \n",
       "164  Cc1cc(CN2CCN(C(C)C)CC2)cnc1-c1ccc(C(=O)Nc2cccc...  \n",
       "165       Nc1ccccc1NC(=O)c1ccc(-c2ncc(CN3CCC3)cc2F)cc1  \n",
       "166      Nc1ccccc1NC(=O)c1ccc(-c2ncc(CN3CCC3)cc2Cl)cc1  \n",
       "167       Cc1cc(CN2CCC2)cnc1-c1ccc(C(=O)Nc2ccccc2N)cc1  \n",
       "168  CC(C)N1CCN(Cc2cnc(-c3ccc(C(=O)Nc4ccccc4N)cc3)c...  \n",
       "\n",
       "[169 rows x 2 columns]"
      ]
     },
     "execution_count": 9,
     "metadata": {},
     "output_type": "execute_result"
    }
   ],
   "source": [
    "df_hdac1_pairs = pd.merge(df_hdac1, df_hdac1, on='Assay ChEMBL ID')\n",
    "df_hdac1_pairs = df_hdac1_pairs[['Stripped_x', 'Stripped_y']].drop_duplicates()\n",
    "df_hdac1_pairs"
   ]
  },
  {
   "cell_type": "markdown",
   "metadata": {},
   "source": [
    "### identify pairs"
   ]
  },
  {
   "cell_type": "code",
   "execution_count": 10,
   "metadata": {},
   "outputs": [],
   "source": [
    "def apply_mmpa(prospective_pair):\n",
    "\n",
    "    # prepare potential atom-atom mappings and create correspondence graph\n",
    "    mmp = MMP(prospective_pair.Stripped_x, prospective_pair.Stripped_y)\n",
    "    mmp.createCorrespondence(penalty=3.0)\n",
    "    mmp.findCliques()\n",
    "    mmp.eliminateMCS()\n",
    "    \n",
    "    # append frags to output\n",
    "    prospective_pair['Fragment_x'] = mmp.getFragment1()\n",
    "    prospective_pair['Fragment_y'] = mmp.getFragment2()\n",
    "    prospective_pair['SMIRKS'] = mmp.getSmirks()\n",
    "    \n",
    "    # return\n",
    "    return prospective_pair"
   ]
  },
  {
   "cell_type": "code",
   "execution_count": 11,
   "metadata": {},
   "outputs": [
    {
     "name": "stderr",
     "output_type": "stream",
     "text": [
      "100%|██████████| 169/169 [00:37<00:00,  4.52it/s]\n"
     ]
    },
    {
     "data": {
      "text/html": [
       "<div>\n",
       "<style scoped>\n",
       "    .dataframe tbody tr th:only-of-type {\n",
       "        vertical-align: middle;\n",
       "    }\n",
       "\n",
       "    .dataframe tbody tr th {\n",
       "        vertical-align: top;\n",
       "    }\n",
       "\n",
       "    .dataframe thead th {\n",
       "        text-align: right;\n",
       "    }\n",
       "</style>\n",
       "<table border=\"1\" class=\"dataframe\">\n",
       "  <thead>\n",
       "    <tr style=\"text-align: right;\">\n",
       "      <th></th>\n",
       "      <th>Stripped_x</th>\n",
       "      <th>Stripped_y</th>\n",
       "      <th>Fragment_x</th>\n",
       "      <th>Fragment_y</th>\n",
       "      <th>SMIRKS</th>\n",
       "    </tr>\n",
       "  </thead>\n",
       "  <tbody>\n",
       "    <tr>\n",
       "      <th>1</th>\n",
       "      <td>CCN1CCN(Cc2cnc(-c3ccc(C(=O)Nc4ccccc4N)cc3)c(Cl...</td>\n",
       "      <td>CC(C)N1CCN(Cc2cnc(-c3ccc(C(=O)Nc4ccccc4N)cc3)c...</td>\n",
       "      <td>cc(c)-c1ncc(CN2CCN(CC)CC2)cc1Cl</td>\n",
       "      <td>cc(c)-c1ncc(CN2CCN(C(C)C)CC2)cc1C#N</td>\n",
       "      <td>[#6:13](-[#6](-[#7:6]1-[#6:30](-[#6:29](-[#7:1...</td>\n",
       "    </tr>\n",
       "    <tr>\n",
       "      <th>2</th>\n",
       "      <td>CCN1CCN(Cc2cnc(-c3ccc(C(=O)Nc4ccccc4N)cc3)c(Cl...</td>\n",
       "      <td>CC(C)N1CCN(Cc2cnc(-c3ccc(C(=O)Nc4ccccc4N)cc3)c...</td>\n",
       "      <td>cc(c)-c1ncc(CN2CCN(CC)CC2)cc1Cl</td>\n",
       "      <td>cc(c)-c1ncc(CN2CCN(C(C)C)CC2)cc1F</td>\n",
       "      <td>[#6:13](-[#6](-[#7:6]1-[#6:29](-[#6:28](-[#7:1...</td>\n",
       "    </tr>\n",
       "    <tr>\n",
       "      <th>3</th>\n",
       "      <td>CCN1CCN(Cc2cnc(-c3ccc(C(=O)Nc4ccccc4N)cc3)c(Cl...</td>\n",
       "      <td>N#Cc1cc(CN2CCC2)cnc1-c1ccc(C(=O)Nc2ccccc2N)cc1</td>\n",
       "      <td>cc(c)-c1ncc(CN2CCN(CC)CC2)cc1Cl</td>\n",
       "      <td>cc(c)-c1ncc(CN2CCC2)cc1C#N</td>\n",
       "      <td>[#6](-[#6](-[#7]1-[#6](-[#6:21](-[#7:11](-[#6:...</td>\n",
       "    </tr>\n",
       "    <tr>\n",
       "      <th>4</th>\n",
       "      <td>CCN1CCN(Cc2cnc(-c3ccc(C(=O)Nc4ccccc4N)cc3)c(Cl...</td>\n",
       "      <td>CCN1CCN(Cc2cnc(-c3ccc(C(=O)Nc4ccccc4N)cc3)c(F)...</td>\n",
       "      <td>cc(c)-c1ncc(C)cc1Cl</td>\n",
       "      <td>cc(c)-c1ncc(C)cc1F</td>\n",
       "      <td>[#6:10](-[#6:8]1:[#6:21](:[#7:24]:[#6:2](-[#6:...</td>\n",
       "    </tr>\n",
       "    <tr>\n",
       "      <th>5</th>\n",
       "      <td>CCN1CCN(Cc2cnc(-c3ccc(C(=O)Nc4ccccc4N)cc3)c(Cl...</td>\n",
       "      <td>CCN1CCN(Cc2cnc(-c3ccc(C(=O)Nc4ccccc4N)cc3)c(C#...</td>\n",
       "      <td>cc(c)-c1ncc(C)cc1Cl</td>\n",
       "      <td>cc(c)-c1ncc(C)cc1C#N</td>\n",
       "      <td>[#6:10](-[#6:8]1:[#6:21](:[#7:22]:[#6:2](-[#6:...</td>\n",
       "    </tr>\n",
       "    <tr>\n",
       "      <th>...</th>\n",
       "      <td>...</td>\n",
       "      <td>...</td>\n",
       "      <td>...</td>\n",
       "      <td>...</td>\n",
       "      <td>...</td>\n",
       "    </tr>\n",
       "    <tr>\n",
       "      <th>163</th>\n",
       "      <td>CC(C)N1CCN(Cc2cnc(-c3ccc(C(=O)Nc4ccccc4N)cc3)c...</td>\n",
       "      <td>N#Cc1cccnc1-c1ccc(C(=O)Nc2ccccc2N)cc1</td>\n",
       "      <td>cc(c)-c1ncc(CN2CCN(C(C)C)CC2)cc1Cl</td>\n",
       "      <td>cc(c)-c1ncccc1C#N</td>\n",
       "      <td>[#6](-[#6](-[#6](-[H])(-[H])-[H])(-[#7]1-[#6](...</td>\n",
       "    </tr>\n",
       "    <tr>\n",
       "      <th>164</th>\n",
       "      <td>CC(C)N1CCN(Cc2cnc(-c3ccc(C(=O)Nc4ccccc4N)cc3)c...</td>\n",
       "      <td>Cc1cc(CN2CCN(C(C)C)CC2)cnc1-c1ccc(C(=O)Nc2cccc...</td>\n",
       "      <td>cc(c)-c1ncc(C)cc1Cl</td>\n",
       "      <td>cc(c)-c1ncc(C)cc1C</td>\n",
       "      <td>[#6:6](-[#6:3]1:[#6:23](:[#7:19]:[#6:12](-[#6:...</td>\n",
       "    </tr>\n",
       "    <tr>\n",
       "      <th>165</th>\n",
       "      <td>CC(C)N1CCN(Cc2cnc(-c3ccc(C(=O)Nc4ccccc4N)cc3)c...</td>\n",
       "      <td>Nc1ccccc1NC(=O)c1ccc(-c2ncc(CN3CCC3)cc2F)cc1</td>\n",
       "      <td>cc(c)-c1ncc(CN2CCN(C(C)C)CC2)cc1Cl</td>\n",
       "      <td>cc(c)-c1ncc(CN2CCC2)cc1F</td>\n",
       "      <td>[#6](-[#6](-[#6](-[H])(-[H])-[H])(-[#7]1-[#6](...</td>\n",
       "    </tr>\n",
       "    <tr>\n",
       "      <th>166</th>\n",
       "      <td>CC(C)N1CCN(Cc2cnc(-c3ccc(C(=O)Nc4ccccc4N)cc3)c...</td>\n",
       "      <td>Nc1ccccc1NC(=O)c1ccc(-c2ncc(CN3CCC3)cc2Cl)cc1</td>\n",
       "      <td>cCN1CCN(C(C)C)CC1</td>\n",
       "      <td>cCN1CCC1</td>\n",
       "      <td>[#6](-[#6](-[#6](-[H])(-[H])-[H])(-[#7]1-[#6](...</td>\n",
       "    </tr>\n",
       "    <tr>\n",
       "      <th>167</th>\n",
       "      <td>CC(C)N1CCN(Cc2cnc(-c3ccc(C(=O)Nc4ccccc4N)cc3)c...</td>\n",
       "      <td>Cc1cc(CN2CCC2)cnc1-c1ccc(C(=O)Nc2ccccc2N)cc1</td>\n",
       "      <td>cc(c)-c1ncc(CN2CCN(C(C)C)CC2)cc1Cl</td>\n",
       "      <td>cc(c)-c1ncc(CN2CCC2)cc1C</td>\n",
       "      <td>[#6](-[#6](-[#6](-[H])(-[H])-[H])(-[#7]1-[#6:2...</td>\n",
       "    </tr>\n",
       "  </tbody>\n",
       "</table>\n",
       "<p>156 rows × 5 columns</p>\n",
       "</div>"
      ],
      "text/plain": [
       "                                            Stripped_x  \\\n",
       "1    CCN1CCN(Cc2cnc(-c3ccc(C(=O)Nc4ccccc4N)cc3)c(Cl...   \n",
       "2    CCN1CCN(Cc2cnc(-c3ccc(C(=O)Nc4ccccc4N)cc3)c(Cl...   \n",
       "3    CCN1CCN(Cc2cnc(-c3ccc(C(=O)Nc4ccccc4N)cc3)c(Cl...   \n",
       "4    CCN1CCN(Cc2cnc(-c3ccc(C(=O)Nc4ccccc4N)cc3)c(Cl...   \n",
       "5    CCN1CCN(Cc2cnc(-c3ccc(C(=O)Nc4ccccc4N)cc3)c(Cl...   \n",
       "..                                                 ...   \n",
       "163  CC(C)N1CCN(Cc2cnc(-c3ccc(C(=O)Nc4ccccc4N)cc3)c...   \n",
       "164  CC(C)N1CCN(Cc2cnc(-c3ccc(C(=O)Nc4ccccc4N)cc3)c...   \n",
       "165  CC(C)N1CCN(Cc2cnc(-c3ccc(C(=O)Nc4ccccc4N)cc3)c...   \n",
       "166  CC(C)N1CCN(Cc2cnc(-c3ccc(C(=O)Nc4ccccc4N)cc3)c...   \n",
       "167  CC(C)N1CCN(Cc2cnc(-c3ccc(C(=O)Nc4ccccc4N)cc3)c...   \n",
       "\n",
       "                                            Stripped_y  \\\n",
       "1    CC(C)N1CCN(Cc2cnc(-c3ccc(C(=O)Nc4ccccc4N)cc3)c...   \n",
       "2    CC(C)N1CCN(Cc2cnc(-c3ccc(C(=O)Nc4ccccc4N)cc3)c...   \n",
       "3       N#Cc1cc(CN2CCC2)cnc1-c1ccc(C(=O)Nc2ccccc2N)cc1   \n",
       "4    CCN1CCN(Cc2cnc(-c3ccc(C(=O)Nc4ccccc4N)cc3)c(F)...   \n",
       "5    CCN1CCN(Cc2cnc(-c3ccc(C(=O)Nc4ccccc4N)cc3)c(C#...   \n",
       "..                                                 ...   \n",
       "163              N#Cc1cccnc1-c1ccc(C(=O)Nc2ccccc2N)cc1   \n",
       "164  Cc1cc(CN2CCN(C(C)C)CC2)cnc1-c1ccc(C(=O)Nc2cccc...   \n",
       "165       Nc1ccccc1NC(=O)c1ccc(-c2ncc(CN3CCC3)cc2F)cc1   \n",
       "166      Nc1ccccc1NC(=O)c1ccc(-c2ncc(CN3CCC3)cc2Cl)cc1   \n",
       "167       Cc1cc(CN2CCC2)cnc1-c1ccc(C(=O)Nc2ccccc2N)cc1   \n",
       "\n",
       "                             Fragment_x                           Fragment_y  \\\n",
       "1       cc(c)-c1ncc(CN2CCN(CC)CC2)cc1Cl  cc(c)-c1ncc(CN2CCN(C(C)C)CC2)cc1C#N   \n",
       "2       cc(c)-c1ncc(CN2CCN(CC)CC2)cc1Cl    cc(c)-c1ncc(CN2CCN(C(C)C)CC2)cc1F   \n",
       "3       cc(c)-c1ncc(CN2CCN(CC)CC2)cc1Cl           cc(c)-c1ncc(CN2CCC2)cc1C#N   \n",
       "4                   cc(c)-c1ncc(C)cc1Cl                   cc(c)-c1ncc(C)cc1F   \n",
       "5                   cc(c)-c1ncc(C)cc1Cl                 cc(c)-c1ncc(C)cc1C#N   \n",
       "..                                  ...                                  ...   \n",
       "163  cc(c)-c1ncc(CN2CCN(C(C)C)CC2)cc1Cl                    cc(c)-c1ncccc1C#N   \n",
       "164                 cc(c)-c1ncc(C)cc1Cl                   cc(c)-c1ncc(C)cc1C   \n",
       "165  cc(c)-c1ncc(CN2CCN(C(C)C)CC2)cc1Cl             cc(c)-c1ncc(CN2CCC2)cc1F   \n",
       "166                   cCN1CCN(C(C)C)CC1                             cCN1CCC1   \n",
       "167  cc(c)-c1ncc(CN2CCN(C(C)C)CC2)cc1Cl             cc(c)-c1ncc(CN2CCC2)cc1C   \n",
       "\n",
       "                                                SMIRKS  \n",
       "1    [#6:13](-[#6](-[#7:6]1-[#6:30](-[#6:29](-[#7:1...  \n",
       "2    [#6:13](-[#6](-[#7:6]1-[#6:29](-[#6:28](-[#7:1...  \n",
       "3    [#6](-[#6](-[#7]1-[#6](-[#6:21](-[#7:11](-[#6:...  \n",
       "4    [#6:10](-[#6:8]1:[#6:21](:[#7:24]:[#6:2](-[#6:...  \n",
       "5    [#6:10](-[#6:8]1:[#6:21](:[#7:22]:[#6:2](-[#6:...  \n",
       "..                                                 ...  \n",
       "163  [#6](-[#6](-[#6](-[H])(-[H])-[H])(-[#7]1-[#6](...  \n",
       "164  [#6:6](-[#6:3]1:[#6:23](:[#7:19]:[#6:12](-[#6:...  \n",
       "165  [#6](-[#6](-[#6](-[H])(-[H])-[H])(-[#7]1-[#6](...  \n",
       "166  [#6](-[#6](-[#6](-[H])(-[H])-[H])(-[#7]1-[#6](...  \n",
       "167  [#6](-[#6](-[#6](-[H])(-[H])-[H])(-[#7]1-[#6:2...  \n",
       "\n",
       "[156 rows x 5 columns]"
      ]
     },
     "execution_count": 11,
     "metadata": {},
     "output_type": "execute_result"
    }
   ],
   "source": [
    "df_hdac1_pairs = df_hdac1_pairs.progress_apply(apply_mmpa, axis=1)\n",
    "df_hdac1_pairs = df_hdac1_pairs[~pd.isna(df_hdac1_pairs.SMIRKS)]\n",
    "df_hdac1_pairs"
   ]
  },
  {
   "cell_type": "code",
   "execution_count": null,
   "metadata": {},
   "outputs": [],
   "source": []
  },
  {
   "cell_type": "code",
   "execution_count": null,
   "metadata": {},
   "outputs": [],
   "source": []
  },
  {
   "cell_type": "markdown",
   "metadata": {},
   "source": [
    "### quality control, demonstrate x -> y using reaction"
   ]
  },
  {
   "cell_type": "code",
   "execution_count": 12,
   "metadata": {},
   "outputs": [],
   "source": [
    "def apply_reactions(reaction):\n",
    "    \n",
    "    # create reaction\n",
    "    rxn = Chem.rdChemReactions.ReactionFromSmarts(reaction.SMIRKS)\n",
    "\n",
    "    # enumerate products\n",
    "    reaction['Products'] = rxn.RunReactants((Chem.AddHs(Chem.MolFromSmiles(reaction.Stripped_x)),))\n",
    "    return reaction"
   ]
  },
  {
   "cell_type": "code",
   "execution_count": 13,
   "metadata": {},
   "outputs": [
    {
     "name": "stderr",
     "output_type": "stream",
     "text": [
      "100%|██████████| 156/156 [00:07<00:00, 19.55it/s]\n"
     ]
    },
    {
     "data": {
      "text/html": [
       "<div>\n",
       "<style scoped>\n",
       "    .dataframe tbody tr th:only-of-type {\n",
       "        vertical-align: middle;\n",
       "    }\n",
       "\n",
       "    .dataframe tbody tr th {\n",
       "        vertical-align: top;\n",
       "    }\n",
       "\n",
       "    .dataframe thead th {\n",
       "        text-align: right;\n",
       "    }\n",
       "</style>\n",
       "<table border=\"1\" class=\"dataframe\">\n",
       "  <thead>\n",
       "    <tr style=\"text-align: right;\">\n",
       "      <th></th>\n",
       "      <th>Stripped_x</th>\n",
       "      <th>Stripped_y</th>\n",
       "      <th>Fragment_x</th>\n",
       "      <th>Fragment_y</th>\n",
       "      <th>SMIRKS</th>\n",
       "      <th>Products</th>\n",
       "    </tr>\n",
       "  </thead>\n",
       "  <tbody>\n",
       "    <tr>\n",
       "      <th>60</th>\n",
       "      <td>CCN1CCN(Cc2cnc(-c3ccc(C(=O)Nc4ccccc4N)cc3)c(F)...</td>\n",
       "      <td>Cc1cc(CN2CCN(C(C)C)CC2)cnc1-c1ccc(C(=O)Nc2cccc...</td>\n",
       "      <td>cc(c)-c1ncc(CN2CCN(CC)CC2)cc1F</td>\n",
       "      <td>cc(c)-c1ncc(CN2CCN(C(C)C)CC2)cc1C</td>\n",
       "      <td>[#6:13](-[#6](-[#7:2]1-[#6:28](-[#6:30](-[#7:3...</td>\n",
       "      <td>((&lt;rdkit.Chem.rdchem.Mol object at 0x7fed3537f...</td>\n",
       "    </tr>\n",
       "    <tr>\n",
       "      <th>20</th>\n",
       "      <td>CC(C)N1CCN(Cc2cnc(-c3ccc(C(=O)Nc4ccccc4N)cc3)c...</td>\n",
       "      <td>N#Cc1cccnc1-c1ccc(C(=O)Nc2ccccc2N)cc1</td>\n",
       "      <td>c-c1ncc(CN2CCN(C(C)C)CC2)cc1C#N</td>\n",
       "      <td>c-c1ncccc1C#N</td>\n",
       "      <td>[#6](-[#6](-[#6](-[H])(-[H])-[H])(-[#7]1-[#6](...</td>\n",
       "      <td>((&lt;rdkit.Chem.rdchem.Mol object at 0x7fed35621...</td>\n",
       "    </tr>\n",
       "    <tr>\n",
       "      <th>18</th>\n",
       "      <td>CC(C)N1CCN(Cc2cnc(-c3ccc(C(=O)Nc4ccccc4N)cc3)c...</td>\n",
       "      <td>CCN1CCN(Cc2cnc(-c3ccc(C(=O)Nc4ccccc4N)cc3)c(C#...</td>\n",
       "      <td>CC(C)N1CCNCC1</td>\n",
       "      <td>CCN1CCNCC1</td>\n",
       "      <td>[#6:13](-[#6](-[#6](-[H])(-[H])-[H])(-[#7:5]1-...</td>\n",
       "      <td>((&lt;rdkit.Chem.rdchem.Mol object at 0x7fed35658...</td>\n",
       "    </tr>\n",
       "  </tbody>\n",
       "</table>\n",
       "</div>"
      ],
      "text/plain": [
       "                                           Stripped_x  \\\n",
       "60  CCN1CCN(Cc2cnc(-c3ccc(C(=O)Nc4ccccc4N)cc3)c(F)...   \n",
       "20  CC(C)N1CCN(Cc2cnc(-c3ccc(C(=O)Nc4ccccc4N)cc3)c...   \n",
       "18  CC(C)N1CCN(Cc2cnc(-c3ccc(C(=O)Nc4ccccc4N)cc3)c...   \n",
       "\n",
       "                                           Stripped_y  \\\n",
       "60  Cc1cc(CN2CCN(C(C)C)CC2)cnc1-c1ccc(C(=O)Nc2cccc...   \n",
       "20              N#Cc1cccnc1-c1ccc(C(=O)Nc2ccccc2N)cc1   \n",
       "18  CCN1CCN(Cc2cnc(-c3ccc(C(=O)Nc4ccccc4N)cc3)c(C#...   \n",
       "\n",
       "                         Fragment_x                         Fragment_y  \\\n",
       "60   cc(c)-c1ncc(CN2CCN(CC)CC2)cc1F  cc(c)-c1ncc(CN2CCN(C(C)C)CC2)cc1C   \n",
       "20  c-c1ncc(CN2CCN(C(C)C)CC2)cc1C#N                      c-c1ncccc1C#N   \n",
       "18                    CC(C)N1CCNCC1                         CCN1CCNCC1   \n",
       "\n",
       "                                               SMIRKS  \\\n",
       "60  [#6:13](-[#6](-[#7:2]1-[#6:28](-[#6:30](-[#7:3...   \n",
       "20  [#6](-[#6](-[#6](-[H])(-[H])-[H])(-[#7]1-[#6](...   \n",
       "18  [#6:13](-[#6](-[#6](-[H])(-[H])-[H])(-[#7:5]1-...   \n",
       "\n",
       "                                             Products  \n",
       "60  ((<rdkit.Chem.rdchem.Mol object at 0x7fed3537f...  \n",
       "20  ((<rdkit.Chem.rdchem.Mol object at 0x7fed35621...  \n",
       "18  ((<rdkit.Chem.rdchem.Mol object at 0x7fed35658...  "
      ]
     },
     "execution_count": 13,
     "metadata": {},
     "output_type": "execute_result"
    }
   ],
   "source": [
    "df_hdac1_products = df_hdac1_pairs.progress_apply(apply_reactions, axis=1)\n",
    "df_hdac1_products.sample(3)"
   ]
  },
  {
   "cell_type": "code",
   "execution_count": 14,
   "metadata": {},
   "outputs": [
    {
     "data": {
      "text/plain": [
       "156"
      ]
     },
     "execution_count": 14,
     "metadata": {},
     "output_type": "execute_result"
    }
   ],
   "source": [
    "len(df_hdac1_products.index)"
   ]
  },
  {
   "cell_type": "code",
   "execution_count": 15,
   "metadata": {},
   "outputs": [],
   "source": [
    "def products_to_list(productset):\n",
    "    \n",
    "    # given produces exist\n",
    "    productlist = []\n",
    "    for product in productset:\n",
    "        productlist.append('.'.join([Chem.MolToSmiles(Chem.RemoveHs(productpart)) for productpart in product]))\n",
    "    return list(set(productlist))\n",
    "\n",
    "df_hdac1_products['ProductList'] = df_hdac1_products.Products.apply(lambda x: products_to_list(x) if pd.notna(x) else list())"
   ]
  },
  {
   "cell_type": "code",
   "execution_count": 16,
   "metadata": {},
   "outputs": [
    {
     "data": {
      "text/html": [
       "<div>\n",
       "<style scoped>\n",
       "    .dataframe tbody tr th:only-of-type {\n",
       "        vertical-align: middle;\n",
       "    }\n",
       "\n",
       "    .dataframe tbody tr th {\n",
       "        vertical-align: top;\n",
       "    }\n",
       "\n",
       "    .dataframe thead th {\n",
       "        text-align: right;\n",
       "    }\n",
       "</style>\n",
       "<table border=\"1\" class=\"dataframe\">\n",
       "  <thead>\n",
       "    <tr style=\"text-align: right;\">\n",
       "      <th></th>\n",
       "      <th>Stripped_x</th>\n",
       "      <th>Stripped_y</th>\n",
       "      <th>Fragment_x</th>\n",
       "      <th>Fragment_y</th>\n",
       "      <th>SMIRKS</th>\n",
       "      <th>Products</th>\n",
       "      <th>ProductList</th>\n",
       "    </tr>\n",
       "  </thead>\n",
       "  <tbody>\n",
       "    <tr>\n",
       "      <th>77</th>\n",
       "      <td>CCN1CCN(Cc2cnc(-c3ccc(C(=O)Nc4ccccc4N)cc3)c(C#...</td>\n",
       "      <td>CC(C)N1CCN(Cc2cnc(-c3ccc(C(=O)Nc4ccccc4N)cc3)c...</td>\n",
       "      <td>cc(c)-c1ncc(CN2CCN(CC)CC2)cc1C#N</td>\n",
       "      <td>cc(c)-c1ncc(CN2CCN(C(C)C)CC2)cc1Cl</td>\n",
       "      <td>[#6:13](-[#6](-[#7:6]1-[#6:24](-[#6:26](-[#7:1...</td>\n",
       "      <td>((&lt;rdkit.Chem.rdchem.Mol object at 0x7fed351b2...</td>\n",
       "      <td>[CC(C)N1CCN(Cc2cnc(-c3ccc(C(=O)Nc4ccccc4N)cc3)...</td>\n",
       "    </tr>\n",
       "    <tr>\n",
       "      <th>101</th>\n",
       "      <td>N#Cc1cccnc1-c1ccc(C(=O)Nc2ccccc2N)cc1</td>\n",
       "      <td>Nc1ccccc1NC(=O)c1ccc(-c2ncc(CN3CCC3)cc2Cl)cc1</td>\n",
       "      <td>cc(c)-c1ncccc1C#N</td>\n",
       "      <td>cc(c)-c1ncc(CN2CCC2)cc1Cl</td>\n",
       "      <td>[#7]#[#6]-[#6:17]1:[#6:14](:[#6](:[#6:15](:[#7...</td>\n",
       "      <td>((&lt;rdkit.Chem.rdchem.Mol object at 0x7fed3507d...</td>\n",
       "      <td>[Nc1ccccc1NC(=O)c1ccc(-c2ncc(CN3CCC3)cc2Cl)cc1]</td>\n",
       "    </tr>\n",
       "    <tr>\n",
       "      <th>73</th>\n",
       "      <td>CCN1CCN(Cc2cnc(-c3ccc(C(=O)Nc4ccccc4N)cc3)c(C#...</td>\n",
       "      <td>Cc1cc(CN2CCN(C(C)C)CC2)cnc1-c1ccc(C(=O)Nc2cccc...</td>\n",
       "      <td>cc(c)-c1ncc(CN2CCN(CC)CC2)cc1C#N</td>\n",
       "      <td>cc(c)-c1ncc(CN2CCN(C(C)C)CC2)cc1C</td>\n",
       "      <td>[#6:13](-[#6](-[#7:2]1-[#6:25](-[#6:26](-[#7:3...</td>\n",
       "      <td>((&lt;rdkit.Chem.rdchem.Mol object at 0x7fed352a3...</td>\n",
       "      <td>[Cc1cc(CN2CCN(C(C)C)CC2)cnc1-c1ccc(C(=O)Nc2ccc...</td>\n",
       "    </tr>\n",
       "  </tbody>\n",
       "</table>\n",
       "</div>"
      ],
      "text/plain": [
       "                                            Stripped_x  \\\n",
       "77   CCN1CCN(Cc2cnc(-c3ccc(C(=O)Nc4ccccc4N)cc3)c(C#...   \n",
       "101              N#Cc1cccnc1-c1ccc(C(=O)Nc2ccccc2N)cc1   \n",
       "73   CCN1CCN(Cc2cnc(-c3ccc(C(=O)Nc4ccccc4N)cc3)c(C#...   \n",
       "\n",
       "                                            Stripped_y  \\\n",
       "77   CC(C)N1CCN(Cc2cnc(-c3ccc(C(=O)Nc4ccccc4N)cc3)c...   \n",
       "101      Nc1ccccc1NC(=O)c1ccc(-c2ncc(CN3CCC3)cc2Cl)cc1   \n",
       "73   Cc1cc(CN2CCN(C(C)C)CC2)cnc1-c1ccc(C(=O)Nc2cccc...   \n",
       "\n",
       "                           Fragment_x                          Fragment_y  \\\n",
       "77   cc(c)-c1ncc(CN2CCN(CC)CC2)cc1C#N  cc(c)-c1ncc(CN2CCN(C(C)C)CC2)cc1Cl   \n",
       "101                 cc(c)-c1ncccc1C#N           cc(c)-c1ncc(CN2CCC2)cc1Cl   \n",
       "73   cc(c)-c1ncc(CN2CCN(CC)CC2)cc1C#N   cc(c)-c1ncc(CN2CCN(C(C)C)CC2)cc1C   \n",
       "\n",
       "                                                SMIRKS  \\\n",
       "77   [#6:13](-[#6](-[#7:6]1-[#6:24](-[#6:26](-[#7:1...   \n",
       "101  [#7]#[#6]-[#6:17]1:[#6:14](:[#6](:[#6:15](:[#7...   \n",
       "73   [#6:13](-[#6](-[#7:2]1-[#6:25](-[#6:26](-[#7:3...   \n",
       "\n",
       "                                              Products  \\\n",
       "77   ((<rdkit.Chem.rdchem.Mol object at 0x7fed351b2...   \n",
       "101  ((<rdkit.Chem.rdchem.Mol object at 0x7fed3507d...   \n",
       "73   ((<rdkit.Chem.rdchem.Mol object at 0x7fed352a3...   \n",
       "\n",
       "                                           ProductList  \n",
       "77   [CC(C)N1CCN(Cc2cnc(-c3ccc(C(=O)Nc4ccccc4N)cc3)...  \n",
       "101    [Nc1ccccc1NC(=O)c1ccc(-c2ncc(CN3CCC3)cc2Cl)cc1]  \n",
       "73   [Cc1cc(CN2CCN(C(C)C)CC2)cnc1-c1ccc(C(=O)Nc2ccc...  "
      ]
     },
     "execution_count": 16,
     "metadata": {},
     "output_type": "execute_result"
    }
   ],
   "source": [
    "df_hdac1_products.sample(3)"
   ]
  },
  {
   "cell_type": "code",
   "execution_count": null,
   "metadata": {},
   "outputs": [],
   "source": []
  },
  {
   "cell_type": "code",
   "execution_count": 17,
   "metadata": {},
   "outputs": [
    {
     "data": {
      "text/plain": [
       "0"
      ]
     },
     "execution_count": 17,
     "metadata": {},
     "output_type": "execute_result"
    }
   ],
   "source": [
    "df_hdac1_products.apply(lambda x: x.Stripped_y not in x.ProductList, axis=1).sum()"
   ]
  },
  {
   "cell_type": "code",
   "execution_count": 18,
   "metadata": {},
   "outputs": [
    {
     "data": {
      "text/plain": [
       "0"
      ]
     },
     "execution_count": 18,
     "metadata": {},
     "output_type": "execute_result"
    }
   ],
   "source": [
    "df_hdac1_products.ProductList.apply(lambda x: len(x) > 1).sum()"
   ]
  },
  {
   "cell_type": "code",
   "execution_count": null,
   "metadata": {},
   "outputs": [],
   "source": []
  }
 ],
 "metadata": {
  "kernelspec": {
   "display_name": "Python 3",
   "language": "python",
   "name": "python3"
  },
  "language_info": {
   "codemirror_mode": {
    "name": "ipython",
    "version": 3
   },
   "file_extension": ".py",
   "mimetype": "text/x-python",
   "name": "python",
   "nbconvert_exporter": "python",
   "pygments_lexer": "ipython3",
   "version": "3.6.10"
  }
 },
 "nbformat": 4,
 "nbformat_minor": 4
}
