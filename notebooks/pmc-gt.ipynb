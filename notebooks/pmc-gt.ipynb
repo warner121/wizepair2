{
 "cells": [
  {
   "cell_type": "code",
   "execution_count": 107,
   "metadata": {},
   "outputs": [],
   "source": [
    "import json\n",
    "import logging\n",
    "import graph_tool as gt\n",
    "import numpy as np\n",
    "\n",
    "from rdkit import Chem\n",
    "from func_timeout import func_timeout, FunctionTimedOut\n",
    "from graph_tool.topology import max_cliques\n",
    "\n",
    "class CorrespondenceGraph():\n",
    "    '''\n",
    "    Build the correspondence matrix of putative atom pairings, from which to determine the maximal clique (comprising the MCS). \n",
    "    '''\n",
    "    \n",
    "    def __init__(self):\n",
    "\n",
    "        # inherit from graph_tool.Graph\n",
    "        #super().__init__(self)\n",
    "        pass\n",
    "    \n",
    "    def build(self, mol1, mol2, strictness, correspondence):\n",
    "        '''\n",
    "        Build the correspondence graph.\n",
    "        \n",
    "        Each atomic pairing is assigned a providional score, from 0 (most different) to 8000 (identical). \n",
    "        This pairwise score is appended to the tuple representing each node, following the atomic indices.\n",
    "        '''\n",
    "        self._g = gt.Graph()\n",
    "        \n",
    "        # store strictness for scoring\n",
    "        self._strict = strictness * 1000\n",
    "        self._corr = correspondence\n",
    "        \n",
    "        # calculate distance matrices\n",
    "        dmat1 = Chem.GetDistanceMatrix(mol1)\n",
    "        dmat2 = Chem.GetDistanceMatrix(mol2)\n",
    "        \n",
    "        # extract propery in such a way error is not thrown on comparison\n",
    "        def getCIPCode(atom):\n",
    "            try: return atom.GetProp('_CIPCode')\n",
    "            except KeyError: return None\n",
    "\n",
    "        # iterate over all potential atom-atom pairings\n",
    "        self._nodedata = []\n",
    "        for atom1 in mol1.GetAtoms():\n",
    "            for atom2 in mol2.GetAtoms():\n",
    "\n",
    "                # set penalties - [penalty] strikes and you're out!\n",
    "                # TODO: move atomic properies to graph \n",
    "                matches = 0\n",
    "                if atom1.GetAtomicNum() == atom2.GetAtomicNum(): matches += 1000\n",
    "                if atom1.GetImplicitValence() == atom2.GetImplicitValence(): matches += 1000\n",
    "                if atom1.GetExplicitValence() == atom2.GetExplicitValence(): matches += 1000\n",
    "                if atom1.GetFormalCharge() == atom2.GetFormalCharge(): matches += 1000\n",
    "                if atom1.GetIsAromatic() == atom2.GetIsAromatic(): matches += 1000\n",
    "                if atom1.GetDegree() == atom2.GetDegree(): matches += 1000\n",
    "                if atom1.IsInRing() == atom2.IsInRing(): matches += 1000\n",
    "                if getCIPCode(atom1) == getCIPCode(atom2): matches += 1000\n",
    "\n",
    "                # accept node with greater than specified match level\n",
    "                mapping = (atom1.GetIdx(), atom2.GetIdx())\n",
    "                if matches > self._strict: \n",
    "                    self._g.add_vertex() #, weight=matches)  \n",
    "                    self._nodedata.append({'map': mapping, 'weight': matches})\n",
    "\n",
    "        # create correspondence graph edges\n",
    "        self._edgedata = []\n",
    "        for vert1 in self._g.vertices():\n",
    "            self._edgedata.append([])\n",
    "            for vert2 in self._g.vertices():\n",
    "                self._edgedata[int(vert1)].append({})\n",
    "                \n",
    "                #if int(vert1) < int(vert2): continue\n",
    "                \n",
    "                map1 = self._nodedata[int(vert1)]['map']\n",
    "                map2 = self._nodedata[int(vert2)]['map']\n",
    "\n",
    "                # ensure any given atom is not mapped twice in a clique\n",
    "                if map1[0] == map2[0] or map1[1] == map2[1]: continue\n",
    "\n",
    "                # test if criteria are met for correspondence\n",
    "                correspondence = abs(dmat1[map1[0]][map2[0]] - dmat2[map1[1]][map2[1]])\n",
    "                #correspondence1 = np.mean(abs(dmat1[map1[0]] - dmat1[map2[0]]))\n",
    "                #correspondence2 = np.mean(abs(dmat2[map1[1]] - dmat2[map2[1]]))\n",
    "                #correspondence = abs(correspondence1 - correspondence2)\n",
    "                if correspondence < self._corr: \n",
    "                    self._g.add_edge(vert1, vert2) #, weight=int(np.floor(1000/((1+correspondence)))))\n",
    "                    self._edgedata[int(vert1)][int(vert2)] = {'map': (map1, map2), 'weight': int(np.floor(1000/((1+correspondence))))}\n",
    "\n",
    "    def solve(self, solver, timeout=600):\n",
    "        '''\n",
    "        Enumerate cliques and rescore:\n",
    "            solver=find_cliques - analyse maximal cliques only (default)\n",
    "            solver=find_cliques_recursive - (recursively) analyse maximal cliques only\n",
    "            solver=enumerate_all_cliques - analyse all cliques (not recommended for performance reasons)\n",
    "        \n",
    "        Returns:\n",
    "            bestclique - the best scoring clique (including partially matching atoms, and used to derive reaction mappings)\n",
    "            bestmcs - the subset of bestclique containing exact chemical matches only (to be discarded to produce the RECS)\n",
    "        '''\n",
    "                    \n",
    "        # define function with no arguments (for use with timeout function)\n",
    "        def findCliquesNoArgs(): return list(solver(self._g))\n",
    "        \n",
    "        # try finding cliques within [timeout] seconds\n",
    "        try:\n",
    "            cliques = func_timeout(timeout, findCliquesNoArgs)\n",
    "            print(self._g.num_vertices(), self._g.num_edges(), len(cliques))\n",
    "        except FunctionTimedOut:\n",
    "            logging.warning(json.dumps({\"message\": \"failed to find cliques in {} seconds\".format(timeout)}))\n",
    "            return list(), list()\n",
    "        \n",
    "        # score (largest cliques first)\n",
    "        bestscore = -1E800\n",
    "        cliques.sort(key=len, reverse=True)\n",
    "        for clique in cliques:\n",
    "            \n",
    "            # initialize scores\n",
    "            score = 0\n",
    "            mcs = list(clique)\n",
    "            #if 8000 * len(clique) <= bestscore: continue # score cannot be greater than clique size\n",
    "                \n",
    "            # iterate over the mappings identified from MCSS\n",
    "            for pair in clique:\n",
    "                weight = self._nodedata[pair]['weight']\n",
    "                score += weight\n",
    "            for map1, map2 in self._g.edges():                    \n",
    "                if map1 < map2: continue\n",
    "                if map1 not in clique or map2 not in clique: continue\n",
    "                try: weight = self._edgedata[int(map2)][int(map1)]['weight']\n",
    "                except KeyError: weight = self._edgedata[int(map1)][int(map2)]['weight']\n",
    "                score += weight\n",
    "\n",
    "            # store results if best so far\n",
    "            if score > bestscore:\n",
    "                bestscore = score\n",
    "                bestmcs = mcs\n",
    "                bestclique = clique  \n",
    "                \n",
    "        bestmcs = [x for x in bestclique if self._nodedata[x]['weight'] == 8000] \n",
    "        #mcs = [x for x in mcs if np.mean(mmp._graph._corrmat[x].T[bestclique]) == 1000]\n",
    "        \n",
    "        # replace indices with actual mappings for downstream\n",
    "        bestmcs = [self._nodedata[x]['map'] for x in bestmcs] \n",
    "        bestclique = [self._nodedata[x]['map'] for x in bestclique]         \n",
    "                \n",
    "        # return results\n",
    "        print(bestscore)\n",
    "        return bestclique, bestmcs\n",
    "        \n",
    "class MMP():\n",
    "\n",
    "    @staticmethod\n",
    "    def __molFromSmiles(smiles: str):\n",
    "        \n",
    "        # parse smiles\n",
    "        try: mol = Chem.MolFromSmiles(smiles)\n",
    "        except: return None\n",
    "            \n",
    "        # add hydrogen where defining isomer\n",
    "        isomerics = []\n",
    "        for atom in mol.GetAtoms():\n",
    "            if not atom.HasProp('_CIPCode'): continue\n",
    "            isomerics.append(atom.GetIdx())\n",
    "        mol = Chem.AddHs(mol, onlyOnAtoms=isomerics, explicitOnly=True)\n",
    "                      \n",
    "        # clear mappings and initialise radii (assume all atoms are RECS)\n",
    "        for atom in mol.GetAtoms(): \n",
    "            atom.SetProp('molAtomRadius','0')\n",
    "            atom.ClearProp('molAtomMapNumber')\n",
    "            \n",
    "        # return\n",
    "        return mol\n",
    "    \n",
    "    def __init__(self, smiles_x: str, smiles_y: str, strictness=4, correspondence=1):\n",
    "        '''\n",
    "        Initialise the matched molecular pair.\n",
    "        \n",
    "        smiles_x: First molecule to compare.\n",
    "        smiles_y: Second molecule to compare.\n",
    "        strictness: Integer (1-8) to indicate how tolerant the algortitm should to be to atom-wise differences in the construction of the correspondence graph. \n",
    "            1 (slowest) purely topological comparison of structures.\n",
    "            8 (fastest) atoms chemically identical to be considered part of mcss.  \n",
    "        '''\n",
    "        \n",
    "        # canonicalise smiles\n",
    "        self._smiles1 = Chem.MolToSmiles(Chem.MolFromSmiles(smiles_x))\n",
    "        self._smiles2 = Chem.MolToSmiles(Chem.MolFromSmiles(smiles_y))\n",
    "         \n",
    "        # initialise molecules for comparison\n",
    "        self._mol1 = self.__molFromSmiles(self._smiles1)\n",
    "        self._mol2 = self.__molFromSmiles(self._smiles2)\n",
    "        \n",
    "        # intialise correspondence graph\n",
    "        self._graph = CorrespondenceGraph()\n",
    "        self._graph.build(self._mol1, self._mol2, strictness, correspondence)\n",
    "        \n",
    "        # dummy vars\n",
    "        self._clique = None\n",
    "        self._mcs = None\n",
    "        \n",
    "    def __search(self, solver):\n",
    "        \n",
    "        # find the MCS\n",
    "        self._clique, self._mcs = self._graph.solve(solver=solver)\n",
    "\n",
    "        # determine the % of largest molecule covered by MCS\n",
    "        self._percentmcs = len(self._mcs) / max(self._mol1.GetNumAtoms(), self._mol2.GetNumAtoms())        \n",
    "\n",
    "    def __setAtomMapNumbers(self):        \n",
    "        '''\n",
    "        Use the indices of the best scoring clique to define the atom mappings.\n",
    "        '''\n",
    "\n",
    "        # iterate over the mappings identified from MCSS\n",
    "        for pair in self._clique:\n",
    "            \n",
    "            # increment the index to prevent atom mappings of 0\n",
    "            mapIdx = self._clique.index(pair) + 1\n",
    "            \n",
    "            # map first atom and set radius to 99 (atom part of MCS)\n",
    "            atom1 = self._mol1.GetAtomWithIdx(pair[0])\n",
    "            atom1.SetProp('molAtomMapNumber', '%d'%mapIdx)\n",
    "            print('mol1: idx {} map {}'.format(pair[0], mapIdx))\n",
    "            \n",
    "            # map second atom and set radius to 99 (atom part of MCS)\n",
    "            atom2 = self._mol2.GetAtomWithIdx(pair[1])\n",
    "            atom2.SetProp('molAtomMapNumber', '%d'%mapIdx)\n",
    "            print('mol2: idx {} map {}'.format(pair[1], mapIdx))\n",
    "\n",
    "    def __setAtomRadii(self):\n",
    "        '''\n",
    "        Use the atomic radii to denote which atoms are part of the MCS. By elimination, those atoms with radii of 0 will form the RECS.\n",
    "        '''\n",
    "\n",
    "        # iterate over the remaining mappings identified from MCSS\n",
    "        for pair in self._mcs:\n",
    "            \n",
    "            # map first atom and set radius to 99 (atom part of MCS)\n",
    "            atom1 = self._mol1.GetAtomWithIdx(pair[0])\n",
    "            atom1.SetProp('molAtomRadius','99')\n",
    "            \n",
    "            # map second atom and set radius to 99 (atom part of MCS)\n",
    "            atom2 = self._mol2.GetAtomWithIdx(pair[1])\n",
    "            atom2.SetProp('molAtomRadius','99')\n",
    "\n",
    "    def execute(self, radii=4, solver=max_cliques):\n",
    "        '''\n",
    "        solver = max_weight_clique, enumerate_all_cliques, find_cliques, find_cliques_recursive\n",
    "        '''\n",
    "                \n",
    "        # search, mark up atom mappings and MCS/RECS split\n",
    "        self.__search(solver)\n",
    "        self.__setAtomMapNumbers()\n",
    "        self.__setAtomRadii()\n",
    "        \n",
    "        # define function for elimination of MCS\n",
    "        def eliminate(mol, radius):\n",
    "        \n",
    "            # tag atoms within 4 bonds of attachment\n",
    "            toRemove = set(range(mol.GetNumAtoms()))\n",
    "            for atom in mol.GetAtoms():\n",
    "                if atom.GetProp('molAtomRadius') ==  '0':\n",
    "                    for idx in Chem.FindAtomEnvironmentOfRadiusN(mol, radius, atom.GetIdx()):\n",
    "                        envBond = mol.GetBondWithIdx(idx)\n",
    "                        toRemove.discard(envBond.GetBeginAtom().GetIdx())\n",
    "                        toRemove.discard(envBond.GetEndAtom().GetIdx())\n",
    "                        \n",
    "            # remove environment from core\n",
    "            toRemove = list(toRemove)\n",
    "            toRemove.sort(reverse=True)\n",
    "            frag = Chem.EditableMol(mol)\n",
    "            for atom in toRemove: frag.RemoveAtom(atom)\n",
    "            frag = frag.GetMol()\n",
    "            return frag\n",
    "      \n",
    "        # loop from 4 down to 1 bond radius to find smallest valid transformation\n",
    "        responselist = list()\n",
    "        for radius in reversed(range(radii+1)):\n",
    "            \n",
    "            # return list of valid transformations\n",
    "            if radius == 0: return responselist\n",
    "            \n",
    "            # initialise response object\n",
    "            response = {'smiles1': self._smiles1,\n",
    "                        'smiles2': self._smiles2,\n",
    "                        'percentmcs': self._percentmcs,\n",
    "                        'radius': radius,\n",
    "                        'valid': False}\n",
    "            \n",
    "            # Define reaction as SMIRKS while mappings still present\n",
    "            frag1 = eliminate(self._mol1, radius)\n",
    "            frag2 = eliminate(self._mol2, radius)   \n",
    "            smirks = '{}>>{}'.format(Chem.MolToSmarts(Chem.AddHs(frag1)), Chem.MolToSmarts(Chem.AddHs(frag2)))\n",
    "            response['smirks'] = smirks\n",
    "            \n",
    "            # verify 1:1 reaction\n",
    "            rxn = Chem.rdChemReactions.ReactionFromSmarts(smirks)\n",
    "            if rxn.GetNumReactantTemplates() != 1 or rxn.GetNumProductTemplates() != 1: \n",
    "                logging.info(json.dumps({'radius': radius, \"message\": \"no 1:1 reaction could be generated\"}))\n",
    "                responselist.append(response)\n",
    "                continue\n",
    "\n",
    "            # verify derived reaction produces original 'product'\n",
    "            print(smirks, self._smiles1)\n",
    "            productset = rxn.RunReactants((Chem.AddHs(Chem.MolFromSmiles(self._smiles1)),))\n",
    "            productlist = list()\n",
    "            for product in productset:\n",
    "                productlist.append('.'.join([Chem.MolToSmiles(Chem.RemoveHs(productpart)) for productpart in product]))\n",
    "            if self._smiles2 not in productlist:\n",
    "                logging.info(json.dumps({'radius': radius, \"message\": \"second molecule not found amongst products enumerated from first\"}))\n",
    "                responselist.append(response)\n",
    "                continue\n",
    "\n",
    "            # remove mappings to yield clean fragments\n",
    "            for atom in frag1.GetAtoms(): atom.ClearProp('molAtomMapNumber')\n",
    "            frag1 = Chem.MolToSmiles(frag1, allHsExplicit=True)\n",
    "            for atom in frag2.GetAtoms(): atom.ClearProp('molAtomMapNumber')\n",
    "            frag2 = Chem.MolToSmiles(frag2, allHsExplicit=True)\n",
    "\n",
    "            # return key response elements\n",
    "            response['valid'] = True\n",
    "            response['fragment1'] = frag1\n",
    "            response['fragment2'] = frag2\n",
    "            responselist.append(response)"
   ]
  },
  {
   "cell_type": "code",
   "execution_count": 108,
   "metadata": {},
   "outputs": [],
   "source": [
    "#mmp = MMP('Cc1cccnc1', 'Cc1ccccn1', strictness=5, correspondence=99)\n",
    "mmp = MMP('CC(C)NC[C@@H](O)c1ccc(O)c(O)c1', 'CC(C)NC[C@H](O)c1ccc(O)c(O)c1', strictness=5, correspondence=3)\n",
    "#mmp = MMP('Cc1oc(C)cc1', 'Cc1ccc(C)cc1', strictness=5, correspondence=99)\n",
    "#mmp = MMP('N1CCC1', 'N1CCNCC1', strictness=5, correspondence=2)\n",
    "#mmp = MMP('Nc1ccccc1NC(=O)c1ccc(-c2ncc(CN3CCC3)cc2F)cc1', 'CCN1CCN(Cc2cnc(-c3ccc(C(=O)Nc4ccccc4N)cc3)c(C)c2)CC1', strictness=6, correspondence=3)"
   ]
  },
  {
   "cell_type": "code",
   "execution_count": 109,
   "metadata": {},
   "outputs": [
    {
     "name": "stdout",
     "output_type": "stream",
     "text": [
      "60 1868 1122\n",
      "247000\n",
      "mol1: idx 0 map 1\n",
      "mol2: idx 2 map 1\n",
      "mol1: idx 10 map 2\n",
      "mol2: idx 10 map 2\n",
      "mol1: idx 1 map 3\n",
      "mol2: idx 1 map 3\n",
      "mol1: idx 11 map 4\n",
      "mol2: idx 11 map 4\n",
      "mol1: idx 2 map 5\n",
      "mol2: idx 0 map 5\n",
      "mol1: idx 12 map 6\n",
      "mol2: idx 12 map 6\n",
      "mol1: idx 3 map 7\n",
      "mol2: idx 3 map 7\n",
      "mol1: idx 4 map 8\n",
      "mol2: idx 4 map 8\n",
      "mol1: idx 13 map 9\n",
      "mol2: idx 13 map 9\n",
      "mol1: idx 5 map 10\n",
      "mol2: idx 5 map 10\n",
      "mol1: idx 6 map 11\n",
      "mol2: idx 6 map 11\n",
      "mol1: idx 14 map 12\n",
      "mol2: idx 14 map 12\n",
      "mol1: idx 7 map 13\n",
      "mol2: idx 7 map 13\n",
      "mol1: idx 8 map 14\n",
      "mol2: idx 8 map 14\n",
      "mol1: idx 15 map 15\n",
      "mol2: idx 15 map 15\n",
      "mol1: idx 9 map 16\n",
      "mol2: idx 9 map 16\n",
      "[#6:1](-[#6:3](-[#6:5](-[H])(-[H])-[H])(-[#7:7](-[#6:8](-[#6@@:10](-[#8:11]-[H])-[#6:13]1:[#6:14](:[#6:16](:[#6:2]:[#6:6](-[#8:9]-[H]):[#6:12]:1-[H])-[H])-[H])(-[H])-[H])-[H])-[H])(-[H])(-[H])-[H]>>[#6:5](-[#6:3](-[#6:1](-[H])(-[H])-[H])(-[#7:7](-[#6:8](-[#6@:10](-[#8:11]-[H])-[#6:13]1:[#6:14](:[#6:16](:[#6:2]:[#6:6](-[#8:9]-[H]):[#6:12]:1-[H])-[H])-[H])(-[H])-[H])-[H])-[H])(-[H])(-[H])-[H] CC(C)NC[C@@H](O)c1ccc(O)c(O)c1\n",
      "[#6:3](-[#7:7](-[#6:8](-[#6@@:10](-[#8:11]-[H])-[#6:13](:[#6:14](:[#6:16]-[H])-[H]):[#6:12](:[#6:6])-[H])(-[H])-[H])-[H])-[H]>>[#6:3](-[#7:7](-[#6:8](-[#6@:10](-[#8:11]-[H])-[#6:13](:[#6:14](:[#6:16]-[H])-[H]):[#6:12](:[#6:6])-[H])(-[H])-[H])-[H])-[H] CC(C)NC[C@@H](O)c1ccc(O)c(O)c1\n",
      "[#7:7](-[#6:8](-[#6@@:10](-[#8:11]-[H])-[#6:13](:[#6:14]-[H]):[#6:12]-[H])(-[H])-[H])-[H]>>[#7:7](-[#6:8](-[#6@:10](-[#8:11]-[H])-[#6:13](:[#6:14]-[H]):[#6:12]-[H])(-[H])-[H])-[H] CC(C)NC[C@@H](O)c1ccc(O)c(O)c1\n",
      "[#6:8](-[#6@@:10](-[#8:11]-[H])-[#6:13])(-[H])-[H]>>[#6:8](-[#6@:10](-[#8:11]-[H])-[#6:13])(-[H])-[H] CC(C)NC[C@@H](O)c1ccc(O)c(O)c1\n"
     ]
    },
    {
     "data": {
      "text/plain": [
       "[{'smiles1': 'CC(C)NC[C@@H](O)c1ccc(O)c(O)c1',\n",
       "  'smiles2': 'CC(C)NC[C@H](O)c1ccc(O)c(O)c1',\n",
       "  'percentmcs': 0.9375,\n",
       "  'radius': 4,\n",
       "  'valid': True,\n",
       "  'smirks': '[#6:1](-[#6:3](-[#6:5](-[H])(-[H])-[H])(-[#7:7](-[#6:8](-[#6@@:10](-[#8:11]-[H])-[#6:13]1:[#6:14](:[#6:16](:[#6:2]:[#6:6](-[#8:9]-[H]):[#6:12]:1-[H])-[H])-[H])(-[H])-[H])-[H])-[H])(-[H])(-[H])-[H]>>[#6:5](-[#6:3](-[#6:1](-[H])(-[H])-[H])(-[#7:7](-[#6:8](-[#6@:10](-[#8:11]-[H])-[#6:13]1:[#6:14](:[#6:16](:[#6:2]:[#6:6](-[#8:9]-[H]):[#6:12]:1-[H])-[H])-[H])(-[H])-[H])-[H])-[H])(-[H])(-[H])-[H]',\n",
       "  'fragment1': '[CH3][CH]([CH3])[NH][CH2][C]([OH])[c]1[cH][cH][cH][c]([OH])[cH]1',\n",
       "  'fragment2': '[CH3][CH]([CH3])[NH][CH2][C]([OH])[c]1[cH][cH][cH][c]([OH])[cH]1'},\n",
       " {'smiles1': 'CC(C)NC[C@@H](O)c1ccc(O)c(O)c1',\n",
       "  'smiles2': 'CC(C)NC[C@H](O)c1ccc(O)c(O)c1',\n",
       "  'percentmcs': 0.9375,\n",
       "  'radius': 3,\n",
       "  'valid': True,\n",
       "  'smirks': '[#6:3](-[#7:7](-[#6:8](-[#6@@:10](-[#8:11]-[H])-[#6:13](:[#6:14](:[#6:16]-[H])-[H]):[#6:12](:[#6:6])-[H])(-[H])-[H])-[H])-[H]>>[#6:3](-[#7:7](-[#6:8](-[#6@:10](-[#8:11]-[H])-[#6:13](:[#6:14](:[#6:16]-[H])-[H]):[#6:12](:[#6:6])-[H])(-[H])-[H])-[H])-[H]',\n",
       "  'fragment1': '[cH2][cH][c]([cH][cH2])[C]([OH])[CH2][NH][CH3]',\n",
       "  'fragment2': '[cH2][cH][c]([cH][cH2])[C]([OH])[CH2][NH][CH3]'},\n",
       " {'smiles1': 'CC(C)NC[C@@H](O)c1ccc(O)c(O)c1',\n",
       "  'smiles2': 'CC(C)NC[C@H](O)c1ccc(O)c(O)c1',\n",
       "  'percentmcs': 0.9375,\n",
       "  'radius': 2,\n",
       "  'valid': True,\n",
       "  'smirks': '[#7:7](-[#6:8](-[#6@@:10](-[#8:11]-[H])-[#6:13](:[#6:14]-[H]):[#6:12]-[H])(-[H])-[H])-[H]>>[#7:7](-[#6:8](-[#6@:10](-[#8:11]-[H])-[#6:13](:[#6:14]-[H]):[#6:12]-[H])(-[H])-[H])-[H]',\n",
       "  'fragment1': '[cH2][c]([cH2])[C]([OH])[CH2][NH2]',\n",
       "  'fragment2': '[cH2][c]([cH2])[C]([OH])[CH2][NH2]'},\n",
       " {'smiles1': 'CC(C)NC[C@@H](O)c1ccc(O)c(O)c1',\n",
       "  'smiles2': 'CC(C)NC[C@H](O)c1ccc(O)c(O)c1',\n",
       "  'percentmcs': 0.9375,\n",
       "  'radius': 1,\n",
       "  'valid': True,\n",
       "  'smirks': '[#6:8](-[#6@@:10](-[#8:11]-[H])-[#6:13])(-[H])-[H]>>[#6:8](-[#6@:10](-[#8:11]-[H])-[#6:13])(-[H])-[H]',\n",
       "  'fragment1': '[CH3][C]([cH3])[OH]',\n",
       "  'fragment2': '[CH3][C]([cH3])[OH]'}]"
      ]
     },
     "execution_count": 109,
     "metadata": {},
     "output_type": "execute_result"
    }
   ],
   "source": [
    "mmp.execute(solver=max_cliques)"
   ]
  },
  {
   "cell_type": "raw",
   "metadata": {},
   "source": [
    "mmp.execute(solver=max_weight_clique)"
   ]
  },
  {
   "cell_type": "code",
   "execution_count": 110,
   "metadata": {},
   "outputs": [
    {
     "ename": "TypeError",
     "evalue": "list indices must be integers or slices, not tuple",
     "output_type": "error",
     "traceback": [
      "\u001b[0;31m---------------------------------------------------------------------------\u001b[0m",
      "\u001b[0;31mTypeError\u001b[0m                                 Traceback (most recent call last)",
      "\u001b[0;32m<ipython-input-110-09a1826e3625>\u001b[0m in \u001b[0;36m<module>\u001b[0;34m()\u001b[0m\n\u001b[0;32m----> 1\u001b[0;31m \u001b[0;34m[\u001b[0m\u001b[0;34m(\u001b[0m\u001b[0mx\u001b[0m\u001b[0;34m,\u001b[0m \u001b[0mmmp\u001b[0m\u001b[0;34m.\u001b[0m\u001b[0m_graph\u001b[0m\u001b[0;34m.\u001b[0m\u001b[0m_nodedata\u001b[0m\u001b[0;34m[\u001b[0m\u001b[0mx\u001b[0m\u001b[0;34m]\u001b[0m\u001b[0;34m)\u001b[0m \u001b[0;32mfor\u001b[0m \u001b[0mx\u001b[0m \u001b[0;32min\u001b[0m \u001b[0mmmp\u001b[0m\u001b[0;34m.\u001b[0m\u001b[0m_clique\u001b[0m\u001b[0;34m]\u001b[0m\u001b[0;34m\u001b[0m\u001b[0;34m\u001b[0m\u001b[0m\n\u001b[0m",
      "\u001b[0;32m<ipython-input-110-09a1826e3625>\u001b[0m in \u001b[0;36m<listcomp>\u001b[0;34m(.0)\u001b[0m\n\u001b[0;32m----> 1\u001b[0;31m \u001b[0;34m[\u001b[0m\u001b[0;34m(\u001b[0m\u001b[0mx\u001b[0m\u001b[0;34m,\u001b[0m \u001b[0mmmp\u001b[0m\u001b[0;34m.\u001b[0m\u001b[0m_graph\u001b[0m\u001b[0;34m.\u001b[0m\u001b[0m_nodedata\u001b[0m\u001b[0;34m[\u001b[0m\u001b[0mx\u001b[0m\u001b[0;34m]\u001b[0m\u001b[0;34m)\u001b[0m \u001b[0;32mfor\u001b[0m \u001b[0mx\u001b[0m \u001b[0;32min\u001b[0m \u001b[0mmmp\u001b[0m\u001b[0;34m.\u001b[0m\u001b[0m_clique\u001b[0m\u001b[0;34m]\u001b[0m\u001b[0;34m\u001b[0m\u001b[0;34m\u001b[0m\u001b[0m\n\u001b[0m",
      "\u001b[0;31mTypeError\u001b[0m: list indices must be integers or slices, not tuple"
     ]
    }
   ],
   "source": [
    "[(x, mmp._graph._nodedata[x]) for x in mmp._clique]"
   ]
  },
  {
   "cell_type": "code",
   "execution_count": 111,
   "metadata": {},
   "outputs": [
    {
     "data": {
      "text/plain": [
       "[(0, {'map': (0, 0), 'weight': 8000}),\n",
       " (6, {'map': (1, 1), 'weight': 8000}),\n",
       " (8, {'map': (2, 2), 'weight': 8000}),\n",
       " (13, {'map': (3, 3), 'weight': 8000}),\n",
       " (16, {'map': (4, 4), 'weight': 8000}),\n",
       " (17, {'map': (5, 5), 'weight': 7000}),\n",
       " (20, {'map': (6, 6), 'weight': 8000}),\n",
       " (24, {'map': (7, 7), 'weight': 8000}),\n",
       " (27, {'map': (8, 8), 'weight': 8000}),\n",
       " (31, {'map': (9, 9), 'weight': 8000}),\n",
       " (34, {'map': (10, 10), 'weight': 8000}),\n",
       " (39, {'map': (11, 11), 'weight': 8000}),\n",
       " (44, {'map': (12, 12), 'weight': 8000}),\n",
       " (49, {'map': (13, 13), 'weight': 8000}),\n",
       " (53, {'map': (14, 14), 'weight': 8000}),\n",
       " (59, {'map': (15, 15), 'weight': 8000})]"
      ]
     },
     "execution_count": 111,
     "metadata": {},
     "output_type": "execute_result"
    }
   ],
   "source": [
    "minatoms = min(mmp._mol1.GetNumAtoms(), mmp._mol2.GetNumAtoms())\n",
    "idxclique = [x for x in zip(range(minatoms), range(minatoms))]\n",
    "[(mmp._graph._nodedata.index(x), x) for x in mmp._graph._nodedata if x['map'] in idxclique]"
   ]
  },
  {
   "cell_type": "code",
   "execution_count": 112,
   "metadata": {},
   "outputs": [
    {
     "data": {
      "image/png": "[encoded data removed]",
      "text/plain": [
       "<rdkit.Chem.rdchem.Mol at 0x7fbe88fc60d0>"
      ]
     },
     "execution_count": 112,
     "metadata": {},
     "output_type": "execute_result"
    }
   ],
   "source": [
    "mmp._mol1"
   ]
  },
  {
   "cell_type": "code",
   "execution_count": 113,
   "metadata": {},
   "outputs": [
    {
     "data": {
      "image/png": "[encoded data removed]",
      "text/plain": [
       "<rdkit.Chem.rdchem.Mol at 0x7fbe88fc6d00>"
      ]
     },
     "execution_count": 113,
     "metadata": {},
     "output_type": "execute_result"
    }
   ],
   "source": [
    "mmp._mol2"
   ]
  },
  {
   "cell_type": "code",
   "execution_count": 114,
   "metadata": {},
   "outputs": [
    {
     "data": {
      "text/plain": [
       "[]"
      ]
     },
     "execution_count": 114,
     "metadata": {},
     "output_type": "execute_result"
    }
   ],
   "source": [
    "[((int(e1), int(e2)), mmp._graph._edgedata[int(e1)][int(e2)]['weight']) \n",
    " for e1, e2 in mmp._graph._g.edges() \n",
    " if (e1, e2) in ((x, y) for x in mmp._clique for y in mmp._clique)]"
   ]
  },
  {
   "cell_type": "code",
   "execution_count": null,
   "metadata": {},
   "outputs": [],
   "source": [
    "[((int(e1), int(e2)), mmp._graph._edgedata[int(e1)][int(e2)]['weight']) \n",
    " for e1, e2 in mmp._graph._g.edges()\n",
    " if mmp._graph._edgedata[int(e1)][int(e2)]['map'] in ((x, y) for x in idxclique for y in idxclique)]"
   ]
  },
  {
   "cell_type": "code",
   "execution_count": 117,
   "metadata": {},
   "outputs": [
    {
     "data": {
      "image/png": "[encoded data removed]",
      "text/plain": [
       "<rdkit.Chem.rdChemReactions.ChemicalReaction at 0x7fbe88e0ecb0>"
      ]
     },
     "execution_count": 117,
     "metadata": {},
     "output_type": "execute_result"
    }
   ],
   "source": [
    "Chem.rdChemReactions.ReactionFromSmarts('[#6:8](-[#6@@:10](-[#8:11]-[H])-[#6:13])(-[H])-[H]>>[#6:8](-[#6@:10](-[#8:11]-[H])-[#6:13])(-[H])-[H]')"
   ]
  },
  {
   "cell_type": "code",
   "execution_count": 11,
   "metadata": {},
   "outputs": [
    {
     "ename": "NameError",
     "evalue": "name 'networkx' is not defined",
     "output_type": "error",
     "traceback": [
      "\u001b[0;31m---------------------------------------------------------------------------\u001b[0m",
      "\u001b[0;31mNameError\u001b[0m                                 Traceback (most recent call last)",
      "\u001b[0;32m<ipython-input-11-4fc25e4c2044>\u001b[0m in \u001b[0;36m<module>\u001b[0;34m()\u001b[0m\n\u001b[1;32m      1\u001b[0m \u001b[0;32mimport\u001b[0m \u001b[0mscipy\u001b[0m\u001b[0;34m.\u001b[0m\u001b[0mio\u001b[0m \u001b[0;32mas\u001b[0m \u001b[0msio\u001b[0m\u001b[0;34m\u001b[0m\u001b[0;34m\u001b[0m\u001b[0m\n\u001b[0;32m----> 2\u001b[0;31m \u001b[0mm\u001b[0m \u001b[0;34m=\u001b[0m \u001b[0mnetworkx\u001b[0m\u001b[0;34m.\u001b[0m\u001b[0mto_scipy_sparse_matrix\u001b[0m\u001b[0;34m(\u001b[0m\u001b[0mmmp\u001b[0m\u001b[0;34m.\u001b[0m\u001b[0m_graph\u001b[0m\u001b[0;34m)\u001b[0m\u001b[0;34m\u001b[0m\u001b[0;34m\u001b[0m\u001b[0m\n\u001b[0m\u001b[1;32m      3\u001b[0m \u001b[0msio\u001b[0m\u001b[0;34m.\u001b[0m\u001b[0mmmwrite\u001b[0m\u001b[0;34m(\u001b[0m\u001b[0;34m'test.mat'\u001b[0m\u001b[0;34m,\u001b[0m \u001b[0mm\u001b[0m\u001b[0;34m)\u001b[0m\u001b[0;34m\u001b[0m\u001b[0;34m\u001b[0m\u001b[0m\n",
      "\u001b[0;31mNameError\u001b[0m: name 'networkx' is not defined"
     ]
    }
   ],
   "source": [
    "import scipy.io as sio\n",
    "m = networkx.to_scipy_sparse_matrix(mmp._graph)\n",
    "sio.mmwrite('test.mat', m)"
   ]
  },
  {
   "cell_type": "code",
   "execution_count": null,
   "metadata": {},
   "outputs": [],
   "source": [
    "m"
   ]
  },
  {
   "cell_type": "code",
   "execution_count": null,
   "metadata": {},
   "outputs": [],
   "source": [
    "np.array([45, 10, 39, 56, 1]) - 1"
   ]
  },
  {
   "cell_type": "code",
   "execution_count": null,
   "metadata": {},
   "outputs": [],
   "source": [
    "[list(mmp._graph.nodes())[i] for i in np.array([45, 10, 39, 56, 1]) - 1]"
   ]
  },
  {
   "cell_type": "code",
   "execution_count": null,
   "metadata": {},
   "outputs": [],
   "source": []
  }
 ],
 "metadata": {
  "kernelspec": {
   "display_name": "Python 3",
   "language": "python",
   "name": "python3"
  },
  "language_info": {
   "codemirror_mode": {
    "name": "ipython",
    "version": 3
   },
   "file_extension": ".py",
   "mimetype": "text/x-python",
   "name": "python",
   "nbconvert_exporter": "python",
   "pygments_lexer": "ipython3",
   "version": "3.6.10"
  }
 },
 "nbformat": 4,
 "nbformat_minor": 4
}
