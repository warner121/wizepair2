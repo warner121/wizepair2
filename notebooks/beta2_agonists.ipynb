{
 "cells": [
  {
   "cell_type": "code",
   "execution_count": 1,
   "metadata": {},
   "outputs": [],
   "source": [
    "import os\n",
    "os.chdir(\"../\")"
   ]
  },
  {
   "cell_type": "code",
   "execution_count": 2,
   "metadata": {},
   "outputs": [],
   "source": [
    "import pandas as pd\n",
    "\n",
    "from rdkit import Chem\n",
    "from rdkit.Chem import SaltRemover\n",
    "from networkx.algorithms.clique import find_cliques\n",
    "from networkx import to_numpy_matrix\n",
    "from func_timeout import func_timeout, FunctionTimedOut\n",
    "from mmpa.mmp import MMP\n",
    "\n",
    "from tqdm import tqdm\n",
    "tqdm.pandas()"
   ]
  },
  {
   "cell_type": "markdown",
   "metadata": {},
   "source": [
    "### import all activity values for compounds within 40% similarity of adenaline"
   ]
  },
  {
   "cell_type": "code",
   "execution_count": 3,
   "metadata": {},
   "outputs": [],
   "source": [
    "df = pd.read_csv('/home/daniel/Downloads/DOWNLOAD-DMAOS_6IYWiRfDdsg31VJek5bJXL5Y2ndfPnJhrbTB0=.csv.gz', sep=';', compression='gzip')"
   ]
  },
  {
   "cell_type": "markdown",
   "metadata": {},
   "source": [
    "### most common molecules"
   ]
  },
  {
   "cell_type": "code",
   "execution_count": 13,
   "metadata": {},
   "outputs": [
    {
     "data": {
      "text/plain": [
       "Molecule ChEMBL ID  Molecule Name              \n",
       "CHEMBL434           ISOPROTERENOL                  1894\n",
       "CHEMBL679           EPINEPHRINE                    1025\n",
       "CHEMBL1437          NOREPINEPHRINE                  851\n",
       "CHEMBL1215          PHENYLEPHRINE                   566\n",
       "CHEMBL714           ALBUTEROL                       493\n",
       "CHEMBL1740          RACEPINEPHRINE                  449\n",
       "CHEMBL1160723       LEVISOPRENALINE                 117\n",
       "CHEMBL1711          ISOPROTERENOL HYDROCHLORIDE      96\n",
       "CHEMBL1256958       EPINEPHRINE BITARTRATE           79\n",
       "CHEMBL677           LEVONORDEFRIN                    68\n",
       "dtype: int64"
      ]
     },
     "execution_count": 13,
     "metadata": {},
     "output_type": "execute_result"
    }
   ],
   "source": [
    "df[['Molecule ChEMBL ID', 'Molecule Name']].value_counts()[0:10]"
   ]
  },
  {
   "cell_type": "markdown",
   "metadata": {},
   "source": [
    "### most common targets"
   ]
  },
  {
   "cell_type": "code",
   "execution_count": 9,
   "metadata": {},
   "outputs": [
    {
     "data": {
      "text/plain": [
       "Assay ChEMBL ID  Target Name                                               \n",
       "CHEMBL3885882    Rattus norvegicus                                             2658\n",
       "CHEMBL3885883    Rattus norvegicus                                              447\n",
       "CHEMBL1794375    Unchecked                                                       51\n",
       "CHEMBL1794424    Thioredoxin reductase 1, cytoplasmic                            40\n",
       "CHEMBL1738442    Histone-lysine N-methyltransferase, H3 lysine-9 specific 3      39\n",
       "CHEMBL1614275    Putative fructose-1,6-bisphosphate aldolase                     30\n",
       "CHEMBL1741321    Cytochrome P450 2D6                                             29\n",
       "CHEMBL1741325    Cytochrome P450 2C9                                             29\n",
       "CHEMBL1741324    Cytochrome P450 3A4                                             29\n",
       "CHEMBL1741323    Cytochrome P450 2C19                                            29\n",
       "dtype: int64"
      ]
     },
     "execution_count": 9,
     "metadata": {},
     "output_type": "execute_result"
    }
   ],
   "source": [
    "df[['Assay ChEMBL ID', 'Target Name']].value_counts()[0:10]"
   ]
  },
  {
   "cell_type": "markdown",
   "metadata": {},
   "source": [
    "### filter beta2 measurements"
   ]
  },
  {
   "cell_type": "code",
   "execution_count": 6,
   "metadata": {},
   "outputs": [
    {
     "data": {
      "text/plain": [
       "56"
      ]
     },
     "execution_count": 6,
     "metadata": {},
     "output_type": "execute_result"
    }
   ],
   "source": [
    "df_beta2 = df[df['Target Name']=='Beta-2 adrenergic receptor'].copy()\n",
    "df_beta2.Smiles.unique().size"
   ]
  },
  {
   "cell_type": "markdown",
   "metadata": {},
   "source": [
    "### strip salts"
   ]
  },
  {
   "cell_type": "code",
   "execution_count": 7,
   "metadata": {},
   "outputs": [],
   "source": [
    "def strip_salts(smiles):\n",
    "    mol = Chem.MolFromSmiles(smiles)\n",
    "    remover = SaltRemover.SaltRemover()\n",
    "    mol, salts = remover.StripMolWithDeleted(mol)\n",
    "    smiles = Chem.MolToSmiles(mol)\n",
    "    return smiles"
   ]
  },
  {
   "cell_type": "code",
   "execution_count": 8,
   "metadata": {},
   "outputs": [
    {
     "data": {
      "text/plain": [
       "47"
      ]
     },
     "execution_count": 8,
     "metadata": {},
     "output_type": "execute_result"
    }
   ],
   "source": [
    "df_beta2['Stripped'] = df_beta2.Smiles.apply(strip_salts)\n",
    "df_beta2.Stripped.unique().size"
   ]
  },
  {
   "cell_type": "markdown",
   "metadata": {},
   "source": [
    "### create cartesian product of molecules test in the same assay"
   ]
  },
  {
   "cell_type": "code",
   "execution_count": 9,
   "metadata": {},
   "outputs": [
    {
     "data": {
      "text/html": [
       "<div>\n",
       "<style scoped>\n",
       "    .dataframe tbody tr th:only-of-type {\n",
       "        vertical-align: middle;\n",
       "    }\n",
       "\n",
       "    .dataframe tbody tr th {\n",
       "        vertical-align: top;\n",
       "    }\n",
       "\n",
       "    .dataframe thead th {\n",
       "        text-align: right;\n",
       "    }\n",
       "</style>\n",
       "<table border=\"1\" class=\"dataframe\">\n",
       "  <thead>\n",
       "    <tr style=\"text-align: right;\">\n",
       "      <th></th>\n",
       "      <th>Stripped_x</th>\n",
       "      <th>Stripped_y</th>\n",
       "    </tr>\n",
       "  </thead>\n",
       "  <tbody>\n",
       "    <tr>\n",
       "      <th>0</th>\n",
       "      <td>CC(C)NC[C@@H](O)c1ccc(O)c(O)c1</td>\n",
       "      <td>CC(C)NC[C@@H](O)c1ccc(O)c(O)c1</td>\n",
       "    </tr>\n",
       "    <tr>\n",
       "      <th>1</th>\n",
       "      <td>CC(C)NC[C@@H](O)c1ccc(O)c(O)c1</td>\n",
       "      <td>CCC(NC(C)C)C(O)c1ccc(O)c(O)c1</td>\n",
       "    </tr>\n",
       "    <tr>\n",
       "      <th>2</th>\n",
       "      <td>CC(C)NC[C@@H](O)c1ccc(O)c(O)c1</td>\n",
       "      <td>CC(C)NC[C@H](O)c1ccc(O)c(O)c1</td>\n",
       "    </tr>\n",
       "    <tr>\n",
       "      <th>3</th>\n",
       "      <td>CC(C)NC[C@@H](O)c1ccc(O)c(O)c1</td>\n",
       "      <td>CNCC(O)c1ccc(OC(=O)C(C)(C)C)c(OC(=O)C(C)(C)C)c1</td>\n",
       "    </tr>\n",
       "    <tr>\n",
       "      <th>4</th>\n",
       "      <td>CC(C)NC[C@@H](O)c1ccc(O)c(O)c1</td>\n",
       "      <td>CNCC(O)c1ccc(O)c(O)c1</td>\n",
       "    </tr>\n",
       "    <tr>\n",
       "      <th>...</th>\n",
       "      <td>...</td>\n",
       "      <td>...</td>\n",
       "    </tr>\n",
       "    <tr>\n",
       "      <th>1938</th>\n",
       "      <td>CC(C)NCC(O)c1ccc(O)c(NS(C)(=O)=O)c1</td>\n",
       "      <td>COC(CNC(C)C)c1ccc(O)c(O)c1</td>\n",
       "    </tr>\n",
       "    <tr>\n",
       "      <th>1946</th>\n",
       "      <td>CC(C)(C)NCC(O)c1ccc(O)c(NC(N)=O)c1</td>\n",
       "      <td>COC(CNC(C)C)c1ccc(O)c(O)c1</td>\n",
       "    </tr>\n",
       "    <tr>\n",
       "      <th>1954</th>\n",
       "      <td>CC(C)NCC(O)c1ccc(O)cc1</td>\n",
       "      <td>COC(CNC(C)C)c1ccc(O)c(O)c1</td>\n",
       "    </tr>\n",
       "    <tr>\n",
       "      <th>1962</th>\n",
       "      <td>CC(C)(C)NCC(O)c1ccc(O)c(O)c1</td>\n",
       "      <td>COC(CNC(C)C)c1ccc(O)c(O)c1</td>\n",
       "    </tr>\n",
       "    <tr>\n",
       "      <th>1970</th>\n",
       "      <td>CC(C)(C)NCC(O)c1ccc(O)c(CO)c1</td>\n",
       "      <td>COC(CNC(C)C)c1ccc(O)c(O)c1</td>\n",
       "    </tr>\n",
       "  </tbody>\n",
       "</table>\n",
       "<p>551 rows × 2 columns</p>\n",
       "</div>"
      ],
      "text/plain": [
       "                               Stripped_x  \\\n",
       "0          CC(C)NC[C@@H](O)c1ccc(O)c(O)c1   \n",
       "1          CC(C)NC[C@@H](O)c1ccc(O)c(O)c1   \n",
       "2          CC(C)NC[C@@H](O)c1ccc(O)c(O)c1   \n",
       "3          CC(C)NC[C@@H](O)c1ccc(O)c(O)c1   \n",
       "4          CC(C)NC[C@@H](O)c1ccc(O)c(O)c1   \n",
       "...                                   ...   \n",
       "1938  CC(C)NCC(O)c1ccc(O)c(NS(C)(=O)=O)c1   \n",
       "1946   CC(C)(C)NCC(O)c1ccc(O)c(NC(N)=O)c1   \n",
       "1954               CC(C)NCC(O)c1ccc(O)cc1   \n",
       "1962         CC(C)(C)NCC(O)c1ccc(O)c(O)c1   \n",
       "1970        CC(C)(C)NCC(O)c1ccc(O)c(CO)c1   \n",
       "\n",
       "                                           Stripped_y  \n",
       "0                      CC(C)NC[C@@H](O)c1ccc(O)c(O)c1  \n",
       "1                       CCC(NC(C)C)C(O)c1ccc(O)c(O)c1  \n",
       "2                       CC(C)NC[C@H](O)c1ccc(O)c(O)c1  \n",
       "3     CNCC(O)c1ccc(OC(=O)C(C)(C)C)c(OC(=O)C(C)(C)C)c1  \n",
       "4                               CNCC(O)c1ccc(O)c(O)c1  \n",
       "...                                               ...  \n",
       "1938                       COC(CNC(C)C)c1ccc(O)c(O)c1  \n",
       "1946                       COC(CNC(C)C)c1ccc(O)c(O)c1  \n",
       "1954                       COC(CNC(C)C)c1ccc(O)c(O)c1  \n",
       "1962                       COC(CNC(C)C)c1ccc(O)c(O)c1  \n",
       "1970                       COC(CNC(C)C)c1ccc(O)c(O)c1  \n",
       "\n",
       "[551 rows x 2 columns]"
      ]
     },
     "execution_count": 9,
     "metadata": {},
     "output_type": "execute_result"
    }
   ],
   "source": [
    "df_beta2_pairs = pd.merge(df_beta2, df_beta2, on='Assay ChEMBL ID')\n",
    "df_beta2_pairs = df_beta2_pairs[['Stripped_x', 'Stripped_y']].drop_duplicates()\n",
    "df_beta2_pairs"
   ]
  },
  {
   "cell_type": "markdown",
   "metadata": {},
   "source": [
    "### identify pairs"
   ]
  },
  {
   "cell_type": "code",
   "execution_count": 10,
   "metadata": {},
   "outputs": [],
   "source": [
    "def apply_mmpa(prospective_pair):\n",
    "\n",
    "    # prepare potential atom-atom mappings and create correspondence graph\n",
    "    mmp = MMP(prospective_pair.Stripped_x, prospective_pair.Stripped_y, fuzziness=5)\n",
    "    mmp.createCorrespondence()\n",
    "    mmp.findCliques()\n",
    "    mmp.eliminateMCS()\n",
    "    \n",
    "    # append frags to output\n",
    "    prospective_pair['Fragment_x'] = mmp.getFragment1()\n",
    "    prospective_pair['Fragment_y'] = mmp.getFragment2()\n",
    "    prospective_pair['SMIRKS'] = mmp.getSmirks()\n",
    "    \n",
    "    # return\n",
    "    return prospective_pair"
   ]
  },
  {
   "cell_type": "code",
   "execution_count": 11,
   "metadata": {},
   "outputs": [
    {
     "name": "stderr",
     "output_type": "stream",
     "text": [
      "100%|██████████| 551/551 [02:26<00:00,  3.75it/s]\n"
     ]
    },
    {
     "data": {
      "text/html": [
       "<div>\n",
       "<style scoped>\n",
       "    .dataframe tbody tr th:only-of-type {\n",
       "        vertical-align: middle;\n",
       "    }\n",
       "\n",
       "    .dataframe tbody tr th {\n",
       "        vertical-align: top;\n",
       "    }\n",
       "\n",
       "    .dataframe thead th {\n",
       "        text-align: right;\n",
       "    }\n",
       "</style>\n",
       "<table border=\"1\" class=\"dataframe\">\n",
       "  <thead>\n",
       "    <tr style=\"text-align: right;\">\n",
       "      <th></th>\n",
       "      <th>Stripped_x</th>\n",
       "      <th>Stripped_y</th>\n",
       "      <th>Fragment_x</th>\n",
       "      <th>Fragment_y</th>\n",
       "      <th>SMIRKS</th>\n",
       "    </tr>\n",
       "  </thead>\n",
       "  <tbody>\n",
       "    <tr>\n",
       "      <th>1</th>\n",
       "      <td>CC(C)NC[C@@H](O)c1ccc(O)c(O)c1</td>\n",
       "      <td>CCC(NC(C)C)C(O)c1ccc(O)c(O)c1</td>\n",
       "      <td>[H][C@@]([OH])([CH2][NH][CH]([CH3])[CH3])[c]1[...</td>\n",
       "      <td>[CH3][CH2][CH]([NH][CH]([CH3])[CH3])[CH]([OH])...</td>\n",
       "      <td>[#6:10](-[#6:7](-[#6:9](-[H])(-[H])-[H])(-[#7:...</td>\n",
       "    </tr>\n",
       "    <tr>\n",
       "      <th>2</th>\n",
       "      <td>CC(C)NC[C@@H](O)c1ccc(O)c(O)c1</td>\n",
       "      <td>CC(C)NC[C@H](O)c1ccc(O)c(O)c1</td>\n",
       "      <td>[CH3][CH]([CH3])[NH][CH2][C]([OH])[c]1[cH][cH]...</td>\n",
       "      <td>[CH3][CH]([CH3])[NH][CH2][C]([OH])[c]1[cH][cH]...</td>\n",
       "      <td>[#6:10](-[#6:5](-[#6:11](-[H])(-[H])-[H])(-[#7...</td>\n",
       "    </tr>\n",
       "    <tr>\n",
       "      <th>3</th>\n",
       "      <td>CC(C)NC[C@@H](O)c1ccc(O)c(O)c1</td>\n",
       "      <td>CNCC(O)c1ccc(OC(=O)C(C)(C)C)c(OC(=O)C(C)(C)C)c1</td>\n",
       "      <td>[H][C@@]([OH])([CH2][NH][CH]([CH3])[CH3])[c]1[...</td>\n",
       "      <td>[CH3][NH][CH2][CH]([OH])[c]1[cH][cH][c]([O][C]...</td>\n",
       "      <td>[#6](-[#6:5](-[#6](-[H])(-[H])-[H])(-[#7:3](-[...</td>\n",
       "    </tr>\n",
       "    <tr>\n",
       "      <th>4</th>\n",
       "      <td>CC(C)NC[C@@H](O)c1ccc(O)c(O)c1</td>\n",
       "      <td>CNCC(O)c1ccc(O)c(O)c1</td>\n",
       "      <td>[H][C@@]([OH])([CH2][NH][CH]([CH3])[CH3])[c]1[...</td>\n",
       "      <td>[CH3][NH][CH2][CH]([OH])[c]1[cH][cH][cH][c]([O...</td>\n",
       "      <td>[#6](-[#6:6](-[#6](-[H])(-[H])-[H])(-[#7:8](-[...</td>\n",
       "    </tr>\n",
       "    <tr>\n",
       "      <th>5</th>\n",
       "      <td>CC(C)NC[C@@H](O)c1ccc(O)c(O)c1</td>\n",
       "      <td>CC(C)NCC(O)c1ccc(O)c(O)c1</td>\n",
       "      <td>[H][C@@]([OH])([CH2][NH][CH]([CH3])[CH3])[c]1[...</td>\n",
       "      <td>[CH3][CH]([CH3])[NH][CH2][CH]([OH])[c]1[cH][cH...</td>\n",
       "      <td>[#6:9](-[#6:6](-[#6:10](-[H])(-[H])-[H])(-[#7:...</td>\n",
       "    </tr>\n",
       "    <tr>\n",
       "      <th>...</th>\n",
       "      <td>...</td>\n",
       "      <td>...</td>\n",
       "      <td>...</td>\n",
       "      <td>...</td>\n",
       "      <td>...</td>\n",
       "    </tr>\n",
       "    <tr>\n",
       "      <th>1938</th>\n",
       "      <td>CC(C)NCC(O)c1ccc(O)c(NS(C)(=O)=O)c1</td>\n",
       "      <td>COC(CNC(C)C)c1ccc(O)c(O)c1</td>\n",
       "      <td>[CH3][NH][CH2][CH]([OH])[c]1[cH][cH][c]([OH])[...</td>\n",
       "      <td>[CH3][NH][CH2][CH]([O][CH3])[c]1[cH][cH][c]([O...</td>\n",
       "      <td>[#6:11](-[#7:12](-[#6:10](-[#6:8](-[#8:13]-[H]...</td>\n",
       "    </tr>\n",
       "    <tr>\n",
       "      <th>1946</th>\n",
       "      <td>CC(C)(C)NCC(O)c1ccc(O)c(NC(N)=O)c1</td>\n",
       "      <td>COC(CNC(C)C)c1ccc(O)c(O)c1</td>\n",
       "      <td>[CH3][C]([CH3])([CH3])[NH][CH2][CH]([OH])[c]1[...</td>\n",
       "      <td>[CH3][O][CH]([CH2][NH][CH]([CH3])[CH3])[c]1[cH...</td>\n",
       "      <td>[#6:15](-[#6:12](-[#6:14](-[H])(-[H])-[H])(-[#...</td>\n",
       "    </tr>\n",
       "    <tr>\n",
       "      <th>1954</th>\n",
       "      <td>CC(C)NCC(O)c1ccc(O)cc1</td>\n",
       "      <td>COC(CNC(C)C)c1ccc(O)c(O)c1</td>\n",
       "      <td>[CH3][NH][CH2][CH]([OH])[c]1[cH][cH][c]([OH])[...</td>\n",
       "      <td>[CH3][NH][CH2][CH]([O][CH3])[c]1[cH][cH][c]([O...</td>\n",
       "      <td>[#6:9](-[#7:11](-[#6:10](-[#6:6](-[#8:12]-[H])...</td>\n",
       "    </tr>\n",
       "    <tr>\n",
       "      <th>1962</th>\n",
       "      <td>CC(C)(C)NCC(O)c1ccc(O)c(O)c1</td>\n",
       "      <td>COC(CNC(C)C)c1ccc(O)c(O)c1</td>\n",
       "      <td>[cH2][cH][c]([cH][cH2])[CH]([OH])[CH2][NH][C](...</td>\n",
       "      <td>[cH2][cH][c]([cH][cH2])[CH]([CH2][NH][CH]([CH3...</td>\n",
       "      <td>[#6:10](-[#6:8](-[#6](-[H])(-[H])-[H])(-[#6:9]...</td>\n",
       "    </tr>\n",
       "    <tr>\n",
       "      <th>1970</th>\n",
       "      <td>CC(C)(C)NCC(O)c1ccc(O)c(CO)c1</td>\n",
       "      <td>COC(CNC(C)C)c1ccc(O)c(O)c1</td>\n",
       "      <td>[CH3][C]([CH3])([CH3])[NH][CH2][CH]([OH])[c]1[...</td>\n",
       "      <td>[CH3][O][CH]([CH2][NH][CH]([CH3])[CH3])[c]1[cH...</td>\n",
       "      <td>[#6](-[#6:13](-[#6:14](-[H])(-[H])-[H])(-[#6:1...</td>\n",
       "    </tr>\n",
       "  </tbody>\n",
       "</table>\n",
       "<p>490 rows × 5 columns</p>\n",
       "</div>"
      ],
      "text/plain": [
       "                               Stripped_x  \\\n",
       "1          CC(C)NC[C@@H](O)c1ccc(O)c(O)c1   \n",
       "2          CC(C)NC[C@@H](O)c1ccc(O)c(O)c1   \n",
       "3          CC(C)NC[C@@H](O)c1ccc(O)c(O)c1   \n",
       "4          CC(C)NC[C@@H](O)c1ccc(O)c(O)c1   \n",
       "5          CC(C)NC[C@@H](O)c1ccc(O)c(O)c1   \n",
       "...                                   ...   \n",
       "1938  CC(C)NCC(O)c1ccc(O)c(NS(C)(=O)=O)c1   \n",
       "1946   CC(C)(C)NCC(O)c1ccc(O)c(NC(N)=O)c1   \n",
       "1954               CC(C)NCC(O)c1ccc(O)cc1   \n",
       "1962         CC(C)(C)NCC(O)c1ccc(O)c(O)c1   \n",
       "1970        CC(C)(C)NCC(O)c1ccc(O)c(CO)c1   \n",
       "\n",
       "                                           Stripped_y  \\\n",
       "1                       CCC(NC(C)C)C(O)c1ccc(O)c(O)c1   \n",
       "2                       CC(C)NC[C@H](O)c1ccc(O)c(O)c1   \n",
       "3     CNCC(O)c1ccc(OC(=O)C(C)(C)C)c(OC(=O)C(C)(C)C)c1   \n",
       "4                               CNCC(O)c1ccc(O)c(O)c1   \n",
       "5                           CC(C)NCC(O)c1ccc(O)c(O)c1   \n",
       "...                                               ...   \n",
       "1938                       COC(CNC(C)C)c1ccc(O)c(O)c1   \n",
       "1946                       COC(CNC(C)C)c1ccc(O)c(O)c1   \n",
       "1954                       COC(CNC(C)C)c1ccc(O)c(O)c1   \n",
       "1962                       COC(CNC(C)C)c1ccc(O)c(O)c1   \n",
       "1970                       COC(CNC(C)C)c1ccc(O)c(O)c1   \n",
       "\n",
       "                                             Fragment_x  \\\n",
       "1     [H][C@@]([OH])([CH2][NH][CH]([CH3])[CH3])[c]1[...   \n",
       "2     [CH3][CH]([CH3])[NH][CH2][C]([OH])[c]1[cH][cH]...   \n",
       "3     [H][C@@]([OH])([CH2][NH][CH]([CH3])[CH3])[c]1[...   \n",
       "4     [H][C@@]([OH])([CH2][NH][CH]([CH3])[CH3])[c]1[...   \n",
       "5     [H][C@@]([OH])([CH2][NH][CH]([CH3])[CH3])[c]1[...   \n",
       "...                                                 ...   \n",
       "1938  [CH3][NH][CH2][CH]([OH])[c]1[cH][cH][c]([OH])[...   \n",
       "1946  [CH3][C]([CH3])([CH3])[NH][CH2][CH]([OH])[c]1[...   \n",
       "1954  [CH3][NH][CH2][CH]([OH])[c]1[cH][cH][c]([OH])[...   \n",
       "1962  [cH2][cH][c]([cH][cH2])[CH]([OH])[CH2][NH][C](...   \n",
       "1970  [CH3][C]([CH3])([CH3])[NH][CH2][CH]([OH])[c]1[...   \n",
       "\n",
       "                                             Fragment_y  \\\n",
       "1     [CH3][CH2][CH]([NH][CH]([CH3])[CH3])[CH]([OH])...   \n",
       "2     [CH3][CH]([CH3])[NH][CH2][C]([OH])[c]1[cH][cH]...   \n",
       "3     [CH3][NH][CH2][CH]([OH])[c]1[cH][cH][c]([O][C]...   \n",
       "4     [CH3][NH][CH2][CH]([OH])[c]1[cH][cH][cH][c]([O...   \n",
       "5     [CH3][CH]([CH3])[NH][CH2][CH]([OH])[c]1[cH][cH...   \n",
       "...                                                 ...   \n",
       "1938  [CH3][NH][CH2][CH]([O][CH3])[c]1[cH][cH][c]([O...   \n",
       "1946  [CH3][O][CH]([CH2][NH][CH]([CH3])[CH3])[c]1[cH...   \n",
       "1954  [CH3][NH][CH2][CH]([O][CH3])[c]1[cH][cH][c]([O...   \n",
       "1962  [cH2][cH][c]([cH][cH2])[CH]([CH2][NH][CH]([CH3...   \n",
       "1970  [CH3][O][CH]([CH2][NH][CH]([CH3])[CH3])[c]1[cH...   \n",
       "\n",
       "                                                 SMIRKS  \n",
       "1     [#6:10](-[#6:7](-[#6:9](-[H])(-[H])-[H])(-[#7:...  \n",
       "2     [#6:10](-[#6:5](-[#6:11](-[H])(-[H])-[H])(-[#7...  \n",
       "3     [#6](-[#6:5](-[#6](-[H])(-[H])-[H])(-[#7:3](-[...  \n",
       "4     [#6](-[#6:6](-[#6](-[H])(-[H])-[H])(-[#7:8](-[...  \n",
       "5     [#6:9](-[#6:6](-[#6:10](-[H])(-[H])-[H])(-[#7:...  \n",
       "...                                                 ...  \n",
       "1938  [#6:11](-[#7:12](-[#6:10](-[#6:8](-[#8:13]-[H]...  \n",
       "1946  [#6:15](-[#6:12](-[#6:14](-[H])(-[H])-[H])(-[#...  \n",
       "1954  [#6:9](-[#7:11](-[#6:10](-[#6:6](-[#8:12]-[H])...  \n",
       "1962  [#6:10](-[#6:8](-[#6](-[H])(-[H])-[H])(-[#6:9]...  \n",
       "1970  [#6](-[#6:13](-[#6:14](-[H])(-[H])-[H])(-[#6:1...  \n",
       "\n",
       "[490 rows x 5 columns]"
      ]
     },
     "execution_count": 11,
     "metadata": {},
     "output_type": "execute_result"
    }
   ],
   "source": [
    "df_beta2_pairs = df_beta2_pairs.progress_apply(apply_mmpa, axis=1)\n",
    "df_beta2_pairs = df_beta2_pairs[~pd.isna(df_beta2_pairs.SMIRKS)]\n",
    "df_beta2_pairs"
   ]
  },
  {
   "cell_type": "code",
   "execution_count": null,
   "metadata": {},
   "outputs": [],
   "source": []
  },
  {
   "cell_type": "code",
   "execution_count": null,
   "metadata": {},
   "outputs": [],
   "source": []
  },
  {
   "cell_type": "markdown",
   "metadata": {},
   "source": [
    "### quality control, demonstrate x -> y using reaction"
   ]
  },
  {
   "cell_type": "code",
   "execution_count": 12,
   "metadata": {},
   "outputs": [],
   "source": [
    "def apply_reactions(reaction):\n",
    "    \n",
    "    # create reaction\n",
    "    rxn = Chem.rdChemReactions.ReactionFromSmarts(reaction.SMIRKS)\n",
    "\n",
    "    # enumerate products\n",
    "    reaction['Products'] = rxn.RunReactants((Chem.AddHs(Chem.MolFromSmiles(reaction.Stripped_x)),))\n",
    "    return reaction"
   ]
  },
  {
   "cell_type": "code",
   "execution_count": 13,
   "metadata": {},
   "outputs": [
    {
     "name": "stderr",
     "output_type": "stream",
     "text": [
      "100%|██████████| 490/490 [00:12<00:00, 39.86it/s]\n"
     ]
    },
    {
     "data": {
      "text/html": [
       "<div>\n",
       "<style scoped>\n",
       "    .dataframe tbody tr th:only-of-type {\n",
       "        vertical-align: middle;\n",
       "    }\n",
       "\n",
       "    .dataframe tbody tr th {\n",
       "        vertical-align: top;\n",
       "    }\n",
       "\n",
       "    .dataframe thead th {\n",
       "        text-align: right;\n",
       "    }\n",
       "</style>\n",
       "<table border=\"1\" class=\"dataframe\">\n",
       "  <thead>\n",
       "    <tr style=\"text-align: right;\">\n",
       "      <th></th>\n",
       "      <th>Stripped_x</th>\n",
       "      <th>Stripped_y</th>\n",
       "      <th>Fragment_x</th>\n",
       "      <th>Fragment_y</th>\n",
       "      <th>SMIRKS</th>\n",
       "      <th>Products</th>\n",
       "    </tr>\n",
       "  </thead>\n",
       "  <tbody>\n",
       "    <tr>\n",
       "      <th>1345</th>\n",
       "      <td>CC(C)NC[C@@H](O)c1ccc(O)c(O)c1</td>\n",
       "      <td>CC(C)NCC(O)c1ccc2ccccc2c1</td>\n",
       "      <td>[H][C@@]([OH])([CH2][NH][CH]([CH3])[CH3])[c]1[...</td>\n",
       "      <td>[CH3][CH]([CH3])[NH][CH2][CH]([OH])[c]1[cH][cH...</td>\n",
       "      <td>[#6:13](-[#6:9](-[#6:12](-[H])(-[H])-[H])(-[#7...</td>\n",
       "      <td>((&lt;rdkit.Chem.rdchem.Mol object at 0x7f249cc29...</td>\n",
       "    </tr>\n",
       "    <tr>\n",
       "      <th>383</th>\n",
       "      <td>CC(C)(C)NCC(O)c1ccc(O)c(C(N)=O)c1</td>\n",
       "      <td>CC(C)NCC(O)c1ccc(O)c(O)c1</td>\n",
       "      <td>[CH3][C]([CH3])([CH3])[NH][CH2][CH]([OH])[c]1[...</td>\n",
       "      <td>[CH3][CH]([CH3])[NH][CH2][CH]([OH])[c]1[cH][cH...</td>\n",
       "      <td>[#6:14](-[#6:11](-[#6:15](-[H])(-[H])-[H])(-[#...</td>\n",
       "      <td>((&lt;rdkit.Chem.rdchem.Mol object at 0x7f249d374...</td>\n",
       "    </tr>\n",
       "    <tr>\n",
       "      <th>477</th>\n",
       "      <td>NC[C@H](O)c1ccc(O)c(O)c1</td>\n",
       "      <td>CC(C)NCC(O)c1ccc(O)c(O)c1</td>\n",
       "      <td>[H][C@]([OH])([CH2][NH2])[c]1[cH][cH][cH][c]([...</td>\n",
       "      <td>[CH3][CH]([CH3])[NH][CH2][CH]([OH])[c]1[cH][cH...</td>\n",
       "      <td>[#7:10](-[#6:11](-[#6@:7](-[#8:12]-[H])(-[#6:4...</td>\n",
       "      <td>((&lt;rdkit.Chem.rdchem.Mol object at 0x7f249d1ce...</td>\n",
       "    </tr>\n",
       "  </tbody>\n",
       "</table>\n",
       "</div>"
      ],
      "text/plain": [
       "                             Stripped_x                 Stripped_y  \\\n",
       "1345     CC(C)NC[C@@H](O)c1ccc(O)c(O)c1  CC(C)NCC(O)c1ccc2ccccc2c1   \n",
       "383   CC(C)(C)NCC(O)c1ccc(O)c(C(N)=O)c1  CC(C)NCC(O)c1ccc(O)c(O)c1   \n",
       "477            NC[C@H](O)c1ccc(O)c(O)c1  CC(C)NCC(O)c1ccc(O)c(O)c1   \n",
       "\n",
       "                                             Fragment_x  \\\n",
       "1345  [H][C@@]([OH])([CH2][NH][CH]([CH3])[CH3])[c]1[...   \n",
       "383   [CH3][C]([CH3])([CH3])[NH][CH2][CH]([OH])[c]1[...   \n",
       "477   [H][C@]([OH])([CH2][NH2])[c]1[cH][cH][cH][c]([...   \n",
       "\n",
       "                                             Fragment_y  \\\n",
       "1345  [CH3][CH]([CH3])[NH][CH2][CH]([OH])[c]1[cH][cH...   \n",
       "383   [CH3][CH]([CH3])[NH][CH2][CH]([OH])[c]1[cH][cH...   \n",
       "477   [CH3][CH]([CH3])[NH][CH2][CH]([OH])[c]1[cH][cH...   \n",
       "\n",
       "                                                 SMIRKS  \\\n",
       "1345  [#6:13](-[#6:9](-[#6:12](-[H])(-[H])-[H])(-[#7...   \n",
       "383   [#6:14](-[#6:11](-[#6:15](-[H])(-[H])-[H])(-[#...   \n",
       "477   [#7:10](-[#6:11](-[#6@:7](-[#8:12]-[H])(-[#6:4...   \n",
       "\n",
       "                                               Products  \n",
       "1345  ((<rdkit.Chem.rdchem.Mol object at 0x7f249cc29...  \n",
       "383   ((<rdkit.Chem.rdchem.Mol object at 0x7f249d374...  \n",
       "477   ((<rdkit.Chem.rdchem.Mol object at 0x7f249d1ce...  "
      ]
     },
     "execution_count": 13,
     "metadata": {},
     "output_type": "execute_result"
    }
   ],
   "source": [
    "df_beta2_products = df_beta2_pairs.progress_apply(apply_reactions, axis=1)\n",
    "df_beta2_products.sample(3)"
   ]
  },
  {
   "cell_type": "code",
   "execution_count": 14,
   "metadata": {},
   "outputs": [
    {
     "data": {
      "text/plain": [
       "490"
      ]
     },
     "execution_count": 14,
     "metadata": {},
     "output_type": "execute_result"
    }
   ],
   "source": [
    "len(df_beta2_products.index)"
   ]
  },
  {
   "cell_type": "code",
   "execution_count": 15,
   "metadata": {},
   "outputs": [],
   "source": [
    "def products_to_list(productset):\n",
    "    \n",
    "    # given produces exist\n",
    "    productlist = []\n",
    "    for product in productset:\n",
    "        productlist.append('.'.join([Chem.MolToSmiles(Chem.RemoveHs(productpart)) for productpart in product]))\n",
    "    return list(set(productlist))\n",
    "\n",
    "df_beta2_products['ProductList'] = df_beta2_products.Products.apply(lambda x: products_to_list(x) if pd.notna(x) else list())"
   ]
  },
  {
   "cell_type": "code",
   "execution_count": 16,
   "metadata": {},
   "outputs": [
    {
     "data": {
      "text/html": [
       "<div>\n",
       "<style scoped>\n",
       "    .dataframe tbody tr th:only-of-type {\n",
       "        vertical-align: middle;\n",
       "    }\n",
       "\n",
       "    .dataframe tbody tr th {\n",
       "        vertical-align: top;\n",
       "    }\n",
       "\n",
       "    .dataframe thead th {\n",
       "        text-align: right;\n",
       "    }\n",
       "</style>\n",
       "<table border=\"1\" class=\"dataframe\">\n",
       "  <thead>\n",
       "    <tr style=\"text-align: right;\">\n",
       "      <th></th>\n",
       "      <th>Stripped_x</th>\n",
       "      <th>Stripped_y</th>\n",
       "      <th>Fragment_x</th>\n",
       "      <th>Fragment_y</th>\n",
       "      <th>SMIRKS</th>\n",
       "      <th>Products</th>\n",
       "      <th>ProductList</th>\n",
       "    </tr>\n",
       "  </thead>\n",
       "  <tbody>\n",
       "    <tr>\n",
       "      <th>1058</th>\n",
       "      <td>CC(C)NCC(O)c1ccc(O)c(N)c1</td>\n",
       "      <td>CC(C)NC[C@@H](O)c1ccc(O)c(O)c1</td>\n",
       "      <td>[CH3][CH]([CH3])[NH][CH2][CH]([OH])[c]1[cH][cH...</td>\n",
       "      <td>[H][C@@]([OH])([CH2][NH][CH]([CH3])[CH3])[c]1[...</td>\n",
       "      <td>[#6:9](-[#6:6](-[#6:10](-[H])(-[H])-[H])(-[#7:...</td>\n",
       "      <td>((&lt;rdkit.Chem.rdchem.Mol object at 0x7f249cdbc...</td>\n",
       "      <td>[CC(C)NC[C@@H](O)c1ccc(O)c(O)c1]</td>\n",
       "    </tr>\n",
       "    <tr>\n",
       "      <th>37</th>\n",
       "      <td>CC(C)NCC(O)c1ccc(O)c(O)c1</td>\n",
       "      <td>CC(C)NC[C@H](O)c1ccc(O)c(O)c1</td>\n",
       "      <td>[CH3][CH]([CH3])[NH][CH2][CH]([OH])[c]1[cH][cH...</td>\n",
       "      <td>[H][C@]([OH])([CH2][NH][CH]([CH3])[CH3])[c]1[c...</td>\n",
       "      <td>[#6:9](-[#6:6](-[#6:10](-[H])(-[H])-[H])(-[#7:...</td>\n",
       "      <td>((&lt;rdkit.Chem.rdchem.Mol object at 0x7f249d8b6...</td>\n",
       "      <td>[CC(C)NC[C@H](O)c1ccc(O)c(O)c1]</td>\n",
       "    </tr>\n",
       "    <tr>\n",
       "      <th>1670</th>\n",
       "      <td>CC(C)(C)NCC(O)c1ccc(O)c(NC(N)=O)c1</td>\n",
       "      <td>CC(C)(C)NCC(O)c1ccc(O)c(O)c1</td>\n",
       "      <td>[CH3][c]1[cH][cH][c]([OH])[c]([NH][C]([NH2])=[...</td>\n",
       "      <td>[CH3][c]1[cH][cH][c]([OH])[c]([OH])[cH]1</td>\n",
       "      <td>[#6:9](-[#6:3]1:[#6:8](:[#6:6](:[#6:7](-[#8:5]...</td>\n",
       "      <td>((&lt;rdkit.Chem.rdchem.Mol object at 0x7f249c6ae...</td>\n",
       "      <td>[CC(C)(C)NCC(O)c1ccc(O)c(O)c1]</td>\n",
       "    </tr>\n",
       "  </tbody>\n",
       "</table>\n",
       "</div>"
      ],
      "text/plain": [
       "                              Stripped_x                      Stripped_y  \\\n",
       "1058           CC(C)NCC(O)c1ccc(O)c(N)c1  CC(C)NC[C@@H](O)c1ccc(O)c(O)c1   \n",
       "37             CC(C)NCC(O)c1ccc(O)c(O)c1   CC(C)NC[C@H](O)c1ccc(O)c(O)c1   \n",
       "1670  CC(C)(C)NCC(O)c1ccc(O)c(NC(N)=O)c1    CC(C)(C)NCC(O)c1ccc(O)c(O)c1   \n",
       "\n",
       "                                             Fragment_x  \\\n",
       "1058  [CH3][CH]([CH3])[NH][CH2][CH]([OH])[c]1[cH][cH...   \n",
       "37    [CH3][CH]([CH3])[NH][CH2][CH]([OH])[c]1[cH][cH...   \n",
       "1670  [CH3][c]1[cH][cH][c]([OH])[c]([NH][C]([NH2])=[...   \n",
       "\n",
       "                                             Fragment_y  \\\n",
       "1058  [H][C@@]([OH])([CH2][NH][CH]([CH3])[CH3])[c]1[...   \n",
       "37    [H][C@]([OH])([CH2][NH][CH]([CH3])[CH3])[c]1[c...   \n",
       "1670           [CH3][c]1[cH][cH][c]([OH])[c]([OH])[cH]1   \n",
       "\n",
       "                                                 SMIRKS  \\\n",
       "1058  [#6:9](-[#6:6](-[#6:10](-[H])(-[H])-[H])(-[#7:...   \n",
       "37    [#6:9](-[#6:6](-[#6:10](-[H])(-[H])-[H])(-[#7:...   \n",
       "1670  [#6:9](-[#6:3]1:[#6:8](:[#6:6](:[#6:7](-[#8:5]...   \n",
       "\n",
       "                                               Products  \\\n",
       "1058  ((<rdkit.Chem.rdchem.Mol object at 0x7f249cdbc...   \n",
       "37    ((<rdkit.Chem.rdchem.Mol object at 0x7f249d8b6...   \n",
       "1670  ((<rdkit.Chem.rdchem.Mol object at 0x7f249c6ae...   \n",
       "\n",
       "                           ProductList  \n",
       "1058  [CC(C)NC[C@@H](O)c1ccc(O)c(O)c1]  \n",
       "37     [CC(C)NC[C@H](O)c1ccc(O)c(O)c1]  \n",
       "1670    [CC(C)(C)NCC(O)c1ccc(O)c(O)c1]  "
      ]
     },
     "execution_count": 16,
     "metadata": {},
     "output_type": "execute_result"
    }
   ],
   "source": [
    "df_beta2_products.sample(3)"
   ]
  },
  {
   "cell_type": "code",
   "execution_count": null,
   "metadata": {},
   "outputs": [],
   "source": []
  },
  {
   "cell_type": "code",
   "execution_count": 17,
   "metadata": {},
   "outputs": [
    {
     "data": {
      "text/plain": [
       "0"
      ]
     },
     "execution_count": 17,
     "metadata": {},
     "output_type": "execute_result"
    }
   ],
   "source": [
    "df_beta2_products.apply(lambda x: x.Stripped_y not in x.ProductList, axis=1).sum()"
   ]
  },
  {
   "cell_type": "code",
   "execution_count": 18,
   "metadata": {},
   "outputs": [
    {
     "data": {
      "text/plain": [
       "0"
      ]
     },
     "execution_count": 18,
     "metadata": {},
     "output_type": "execute_result"
    }
   ],
   "source": [
    "df_beta2_products.ProductList.apply(lambda x: len(x) > 1).sum()"
   ]
  },
  {
   "cell_type": "code",
   "execution_count": null,
   "metadata": {},
   "outputs": [],
   "source": []
  }
 ],
 "metadata": {
  "kernelspec": {
   "display_name": "Python 3",
   "language": "python",
   "name": "python3"
  },
  "language_info": {
   "codemirror_mode": {
    "name": "ipython",
    "version": 3
   },
   "file_extension": ".py",
   "mimetype": "text/x-python",
   "name": "python",
   "nbconvert_exporter": "python",
   "pygments_lexer": "ipython3",
   "version": "3.6.10"
  }
 },
 "nbformat": 4,
 "nbformat_minor": 4
}
