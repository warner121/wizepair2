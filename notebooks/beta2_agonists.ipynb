{
 "cells": [
  {
   "cell_type": "code",
   "execution_count": 1,
   "metadata": {},
   "outputs": [],
   "source": [
    "import os\n",
    "os.chdir(\"../\")"
   ]
  },
  {
   "cell_type": "code",
   "execution_count": 2,
   "metadata": {},
   "outputs": [],
   "source": [
    "import pandas as pd\n",
    "\n",
    "from rdkit import Chem\n",
    "from rdkit.Chem import SaltRemover\n",
    "from networkx.algorithms.clique import find_cliques\n",
    "from networkx import to_numpy_matrix\n",
    "from func_timeout import func_timeout, FunctionTimedOut\n",
    "from mmpa.mmp import MMP\n",
    "\n",
    "from tqdm import tqdm\n",
    "tqdm.pandas()"
   ]
  },
  {
   "cell_type": "markdown",
   "metadata": {},
   "source": [
    "### import all activity values for compounds within 40% similarity of adenaline"
   ]
  },
  {
   "cell_type": "code",
   "execution_count": 3,
   "metadata": {},
   "outputs": [],
   "source": [
    "df = pd.read_csv('/home/daniel/Downloads/DOWNLOAD-DMAOS_6IYWiRfDdsg31VJek5bJXL5Y2ndfPnJhrbTB0=.csv.gz', sep=';', compression='gzip')"
   ]
  },
  {
   "cell_type": "markdown",
   "metadata": {},
   "source": [
    "### most common molecules"
   ]
  },
  {
   "cell_type": "code",
   "execution_count": 4,
   "metadata": {},
   "outputs": [
    {
     "data": {
      "text/plain": [
       "ISOPROTERENOL                  1894\n",
       "EPINEPHRINE                    1025\n",
       "NOREPINEPHRINE                  851\n",
       "PHENYLEPHRINE                   566\n",
       "ALBUTEROL                       493\n",
       "RACEPINEPHRINE                  449\n",
       "LEVISOPRENALINE                 143\n",
       "ISOPROTERENOL HYDROCHLORIDE      96\n",
       "NOREPINEPHRINE BITARTRATE        86\n",
       "EPINEPHRINE BITARTRATE           79\n",
       "Name: Molecule Name, dtype: int64"
      ]
     },
     "execution_count": 4,
     "metadata": {},
     "output_type": "execute_result"
    }
   ],
   "source": [
    "df['Molecule Name'].value_counts()[0:10]"
   ]
  },
  {
   "cell_type": "markdown",
   "metadata": {},
   "source": [
    "### most common targets"
   ]
  },
  {
   "cell_type": "code",
   "execution_count": 5,
   "metadata": {},
   "outputs": [
    {
     "data": {
      "text/plain": [
       "Rattus norvegicus             3191\n",
       "Unchecked                      665\n",
       "Beta-2 adrenergic receptor     363\n",
       "Beta-1 adrenergic receptor     132\n",
       "Hepatotoxicity                 130\n",
       "Canis familiaris               111\n",
       "NON-PROTEIN TARGET             109\n",
       "ADMET                           79\n",
       "Beta-3 adrenergic receptor      65\n",
       "Cavia porcellus                 64\n",
       "Name: Target Name, dtype: int64"
      ]
     },
     "execution_count": 5,
     "metadata": {},
     "output_type": "execute_result"
    }
   ],
   "source": [
    "df['Target Name'].value_counts()[0:10]"
   ]
  },
  {
   "cell_type": "markdown",
   "metadata": {},
   "source": [
    "### filter beta2 measurements"
   ]
  },
  {
   "cell_type": "code",
   "execution_count": 6,
   "metadata": {},
   "outputs": [
    {
     "data": {
      "text/plain": [
       "56"
      ]
     },
     "execution_count": 6,
     "metadata": {},
     "output_type": "execute_result"
    }
   ],
   "source": [
    "df_beta2 = df[df['Target Name']=='Beta-2 adrenergic receptor'].copy()\n",
    "df_beta2.Smiles.unique().size"
   ]
  },
  {
   "cell_type": "markdown",
   "metadata": {},
   "source": [
    "### strip salts"
   ]
  },
  {
   "cell_type": "code",
   "execution_count": 7,
   "metadata": {},
   "outputs": [],
   "source": [
    "def strip_salts(smiles):\n",
    "    mol = Chem.MolFromSmiles(smiles)\n",
    "    remover = SaltRemover.SaltRemover()\n",
    "    mol, salts = remover.StripMolWithDeleted(mol)\n",
    "    smiles = Chem.MolToSmiles(mol)\n",
    "    return smiles"
   ]
  },
  {
   "cell_type": "code",
   "execution_count": 8,
   "metadata": {},
   "outputs": [
    {
     "data": {
      "text/plain": [
       "47"
      ]
     },
     "execution_count": 8,
     "metadata": {},
     "output_type": "execute_result"
    }
   ],
   "source": [
    "df_beta2['Stripped'] = df_beta2.Smiles.apply(strip_salts)\n",
    "df_beta2.Stripped.unique().size"
   ]
  },
  {
   "cell_type": "markdown",
   "metadata": {},
   "source": [
    "### create cartesian product of molecules test in the same assay"
   ]
  },
  {
   "cell_type": "code",
   "execution_count": 9,
   "metadata": {},
   "outputs": [
    {
     "data": {
      "text/html": [
       "<div>\n",
       "<style scoped>\n",
       "    .dataframe tbody tr th:only-of-type {\n",
       "        vertical-align: middle;\n",
       "    }\n",
       "\n",
       "    .dataframe tbody tr th {\n",
       "        vertical-align: top;\n",
       "    }\n",
       "\n",
       "    .dataframe thead th {\n",
       "        text-align: right;\n",
       "    }\n",
       "</style>\n",
       "<table border=\"1\" class=\"dataframe\">\n",
       "  <thead>\n",
       "    <tr style=\"text-align: right;\">\n",
       "      <th></th>\n",
       "      <th>Stripped_x</th>\n",
       "      <th>Stripped_y</th>\n",
       "    </tr>\n",
       "  </thead>\n",
       "  <tbody>\n",
       "    <tr>\n",
       "      <th>0</th>\n",
       "      <td>CC(C)NC[C@@H](O)c1ccc(O)c(O)c1</td>\n",
       "      <td>CC(C)NC[C@@H](O)c1ccc(O)c(O)c1</td>\n",
       "    </tr>\n",
       "    <tr>\n",
       "      <th>1</th>\n",
       "      <td>CC(C)NC[C@@H](O)c1ccc(O)c(O)c1</td>\n",
       "      <td>CCC(NC(C)C)C(O)c1ccc(O)c(O)c1</td>\n",
       "    </tr>\n",
       "    <tr>\n",
       "      <th>2</th>\n",
       "      <td>CC(C)NC[C@@H](O)c1ccc(O)c(O)c1</td>\n",
       "      <td>CC(C)NC[C@H](O)c1ccc(O)c(O)c1</td>\n",
       "    </tr>\n",
       "    <tr>\n",
       "      <th>3</th>\n",
       "      <td>CC(C)NC[C@@H](O)c1ccc(O)c(O)c1</td>\n",
       "      <td>CNCC(O)c1ccc(OC(=O)C(C)(C)C)c(OC(=O)C(C)(C)C)c1</td>\n",
       "    </tr>\n",
       "    <tr>\n",
       "      <th>4</th>\n",
       "      <td>CC(C)NC[C@@H](O)c1ccc(O)c(O)c1</td>\n",
       "      <td>CNCC(O)c1ccc(O)c(O)c1</td>\n",
       "    </tr>\n",
       "    <tr>\n",
       "      <th>...</th>\n",
       "      <td>...</td>\n",
       "      <td>...</td>\n",
       "    </tr>\n",
       "    <tr>\n",
       "      <th>1938</th>\n",
       "      <td>CC(C)NCC(O)c1ccc(O)c(NS(C)(=O)=O)c1</td>\n",
       "      <td>COC(CNC(C)C)c1ccc(O)c(O)c1</td>\n",
       "    </tr>\n",
       "    <tr>\n",
       "      <th>1946</th>\n",
       "      <td>CC(C)(C)NCC(O)c1ccc(O)c(NC(N)=O)c1</td>\n",
       "      <td>COC(CNC(C)C)c1ccc(O)c(O)c1</td>\n",
       "    </tr>\n",
       "    <tr>\n",
       "      <th>1954</th>\n",
       "      <td>CC(C)NCC(O)c1ccc(O)cc1</td>\n",
       "      <td>COC(CNC(C)C)c1ccc(O)c(O)c1</td>\n",
       "    </tr>\n",
       "    <tr>\n",
       "      <th>1962</th>\n",
       "      <td>CC(C)(C)NCC(O)c1ccc(O)c(O)c1</td>\n",
       "      <td>COC(CNC(C)C)c1ccc(O)c(O)c1</td>\n",
       "    </tr>\n",
       "    <tr>\n",
       "      <th>1970</th>\n",
       "      <td>CC(C)(C)NCC(O)c1ccc(O)c(CO)c1</td>\n",
       "      <td>COC(CNC(C)C)c1ccc(O)c(O)c1</td>\n",
       "    </tr>\n",
       "  </tbody>\n",
       "</table>\n",
       "<p>551 rows × 2 columns</p>\n",
       "</div>"
      ],
      "text/plain": [
       "                               Stripped_x  \\\n",
       "0          CC(C)NC[C@@H](O)c1ccc(O)c(O)c1   \n",
       "1          CC(C)NC[C@@H](O)c1ccc(O)c(O)c1   \n",
       "2          CC(C)NC[C@@H](O)c1ccc(O)c(O)c1   \n",
       "3          CC(C)NC[C@@H](O)c1ccc(O)c(O)c1   \n",
       "4          CC(C)NC[C@@H](O)c1ccc(O)c(O)c1   \n",
       "...                                   ...   \n",
       "1938  CC(C)NCC(O)c1ccc(O)c(NS(C)(=O)=O)c1   \n",
       "1946   CC(C)(C)NCC(O)c1ccc(O)c(NC(N)=O)c1   \n",
       "1954               CC(C)NCC(O)c1ccc(O)cc1   \n",
       "1962         CC(C)(C)NCC(O)c1ccc(O)c(O)c1   \n",
       "1970        CC(C)(C)NCC(O)c1ccc(O)c(CO)c1   \n",
       "\n",
       "                                           Stripped_y  \n",
       "0                      CC(C)NC[C@@H](O)c1ccc(O)c(O)c1  \n",
       "1                       CCC(NC(C)C)C(O)c1ccc(O)c(O)c1  \n",
       "2                       CC(C)NC[C@H](O)c1ccc(O)c(O)c1  \n",
       "3     CNCC(O)c1ccc(OC(=O)C(C)(C)C)c(OC(=O)C(C)(C)C)c1  \n",
       "4                               CNCC(O)c1ccc(O)c(O)c1  \n",
       "...                                               ...  \n",
       "1938                       COC(CNC(C)C)c1ccc(O)c(O)c1  \n",
       "1946                       COC(CNC(C)C)c1ccc(O)c(O)c1  \n",
       "1954                       COC(CNC(C)C)c1ccc(O)c(O)c1  \n",
       "1962                       COC(CNC(C)C)c1ccc(O)c(O)c1  \n",
       "1970                       COC(CNC(C)C)c1ccc(O)c(O)c1  \n",
       "\n",
       "[551 rows x 2 columns]"
      ]
     },
     "execution_count": 9,
     "metadata": {},
     "output_type": "execute_result"
    }
   ],
   "source": [
    "df_beta2_pairs = pd.merge(df_beta2, df_beta2, on='Assay ChEMBL ID')\n",
    "df_beta2_pairs = df_beta2_pairs[['Stripped_x', 'Stripped_y']].drop_duplicates()\n",
    "df_beta2_pairs"
   ]
  },
  {
   "cell_type": "markdown",
   "metadata": {},
   "source": [
    "### identify pairs"
   ]
  },
  {
   "cell_type": "code",
   "execution_count": 10,
   "metadata": {},
   "outputs": [],
   "source": [
    "def apply_mmpa(prospective_pair):\n",
    "\n",
    "    # prepare potential atom-atom mappings and create correspondence graph\n",
    "    mmp = MMP(prospective_pair.Stripped_x, prospective_pair.Stripped_y)\n",
    "    mmp.createCorrespondence(penalty=3.0)\n",
    "    mmp.findCliques()\n",
    "    mmp.eliminateMCS()\n",
    "    \n",
    "    # append frags to output\n",
    "    prospective_pair['Fragment_x'] = mmp.getFragment1()\n",
    "    prospective_pair['Fragment_y'] = mmp.getFragment2()\n",
    "    prospective_pair['SMIRKS'] = mmp.getSmirks()\n",
    "    \n",
    "    # return\n",
    "    return prospective_pair"
   ]
  },
  {
   "cell_type": "code",
   "execution_count": 11,
   "metadata": {},
   "outputs": [
    {
     "name": "stderr",
     "output_type": "stream",
     "text": [
      "100%|██████████| 551/551 [00:38<00:00, 14.21it/s]\n"
     ]
    },
    {
     "data": {
      "text/html": [
       "<div>\n",
       "<style scoped>\n",
       "    .dataframe tbody tr th:only-of-type {\n",
       "        vertical-align: middle;\n",
       "    }\n",
       "\n",
       "    .dataframe tbody tr th {\n",
       "        vertical-align: top;\n",
       "    }\n",
       "\n",
       "    .dataframe thead th {\n",
       "        text-align: right;\n",
       "    }\n",
       "</style>\n",
       "<table border=\"1\" class=\"dataframe\">\n",
       "  <thead>\n",
       "    <tr style=\"text-align: right;\">\n",
       "      <th></th>\n",
       "      <th>Stripped_x</th>\n",
       "      <th>Stripped_y</th>\n",
       "      <th>Fragment_x</th>\n",
       "      <th>Fragment_y</th>\n",
       "      <th>SMIRKS</th>\n",
       "    </tr>\n",
       "  </thead>\n",
       "  <tbody>\n",
       "    <tr>\n",
       "      <th>1</th>\n",
       "      <td>CC(C)NC[C@@H](O)c1ccc(O)c(O)c1</td>\n",
       "      <td>CCC(NC(C)C)C(O)c1ccc(O)c(O)c1</td>\n",
       "      <td>[H][C@@](O)(CNC(C)C)c1cccc(O)c1</td>\n",
       "      <td>CCC(NC(C)C)C(O)c1cccc(O)c1</td>\n",
       "      <td>[#6:13](-[#6:5](-[#6:12](-[H])(-[H])-[H])(-[#7...</td>\n",
       "    </tr>\n",
       "    <tr>\n",
       "      <th>2</th>\n",
       "      <td>CC(C)NC[C@@H](O)c1ccc(O)c(O)c1</td>\n",
       "      <td>CC(C)NC[C@H](O)c1ccc(O)c(O)c1</td>\n",
       "      <td>CC(C)NCC(O)c1cccc(O)c1</td>\n",
       "      <td>CC(C)NCC(O)c1cccc(O)c1</td>\n",
       "      <td>[#6:10](-[#6:5](-[#6:11](-[H])(-[H])-[H])(-[#7...</td>\n",
       "    </tr>\n",
       "    <tr>\n",
       "      <th>3</th>\n",
       "      <td>CC(C)NC[C@@H](O)c1ccc(O)c(O)c1</td>\n",
       "      <td>CNCC(O)c1ccc(OC(=O)C(C)(C)C)c(OC(=O)C(C)(C)C)c1</td>\n",
       "      <td>[H][C@@](O)(CNC(C)C)c1ccc(O)c(O)c1</td>\n",
       "      <td>CNCC(O)c1ccc(OC(=O)C(C)(C)C)c(OC(=O)C(C)(C)C)c1</td>\n",
       "      <td>[#6](-[#6](-[#6](-[H])(-[H])-[H])(-[#7:5](-[#6...</td>\n",
       "    </tr>\n",
       "    <tr>\n",
       "      <th>4</th>\n",
       "      <td>CC(C)NC[C@@H](O)c1ccc(O)c(O)c1</td>\n",
       "      <td>CNCC(O)c1ccc(O)c(O)c1</td>\n",
       "      <td>[H][C@@](O)(CNC(C)C)c1cccc(O)c1</td>\n",
       "      <td>CNCC(O)c1cccc(O)c1</td>\n",
       "      <td>[#6](-[#6](-[#6](-[H])(-[H])-[H])(-[#7:6](-[#6...</td>\n",
       "    </tr>\n",
       "    <tr>\n",
       "      <th>5</th>\n",
       "      <td>CC(C)NC[C@@H](O)c1ccc(O)c(O)c1</td>\n",
       "      <td>CC(C)NCC(O)c1ccc(O)c(O)c1</td>\n",
       "      <td>[H][C@@](O)(CNC(C)C)c1cccc(O)c1</td>\n",
       "      <td>CC(C)NCC(O)c1cccc(O)c1</td>\n",
       "      <td>[#6:8](-[#6:3](-[#6:9](-[H])(-[H])-[H])(-[#7:5...</td>\n",
       "    </tr>\n",
       "    <tr>\n",
       "      <th>...</th>\n",
       "      <td>...</td>\n",
       "      <td>...</td>\n",
       "      <td>...</td>\n",
       "      <td>...</td>\n",
       "      <td>...</td>\n",
       "    </tr>\n",
       "    <tr>\n",
       "      <th>1938</th>\n",
       "      <td>CC(C)NCC(O)c1ccc(O)c(NS(C)(=O)=O)c1</td>\n",
       "      <td>COC(CNC(C)C)c1ccc(O)c(O)c1</td>\n",
       "      <td>CNCC(O)c1ccc(O)c(NS(C)(=O)=O)c1</td>\n",
       "      <td>CNCC(OC)c1ccc(O)c(O)c1</td>\n",
       "      <td>[#6:10](-[#7:9](-[#6:11](-[#6:5](-[#8]-[H])(-[...</td>\n",
       "    </tr>\n",
       "    <tr>\n",
       "      <th>1946</th>\n",
       "      <td>CC(C)(C)NCC(O)c1ccc(O)c(NC(N)=O)c1</td>\n",
       "      <td>COC(CNC(C)C)c1ccc(O)c(O)c1</td>\n",
       "      <td>CC(C)(C)NCC(O)c1ccc(O)c(NC(N)=O)c1</td>\n",
       "      <td>COC(CNC(C)C)c1ccc(O)c(O)c1</td>\n",
       "      <td>[#6](-[#6](-[#6:11](-[H])(-[H])-[H])(-[#6:12](...</td>\n",
       "    </tr>\n",
       "    <tr>\n",
       "      <th>1954</th>\n",
       "      <td>CC(C)NCC(O)c1ccc(O)cc1</td>\n",
       "      <td>COC(CNC(C)C)c1ccc(O)c(O)c1</td>\n",
       "      <td>CNCC(O)c1ccc(O)cc1</td>\n",
       "      <td>CNCC(OC)c1ccc(O)c(O)c1</td>\n",
       "      <td>[#6:5](-[#7:6](-[#6:7](-[#6:1](-[#8]-[H])(-[#6...</td>\n",
       "    </tr>\n",
       "    <tr>\n",
       "      <th>1962</th>\n",
       "      <td>CC(C)(C)NCC(O)c1ccc(O)c(O)c1</td>\n",
       "      <td>COC(CNC(C)C)c1ccc(O)c(O)c1</td>\n",
       "      <td>ccc(cc)C(O)CNC(C)(C)C</td>\n",
       "      <td>ccc(cc)C(CNC(C)C)OC</td>\n",
       "      <td>[#6](-[#6](-[#6:12](-[H])(-[H])-[H])(-[#6:13](...</td>\n",
       "    </tr>\n",
       "    <tr>\n",
       "      <th>1970</th>\n",
       "      <td>CC(C)(C)NCC(O)c1ccc(O)c(CO)c1</td>\n",
       "      <td>COC(CNC(C)C)c1ccc(O)c(O)c1</td>\n",
       "      <td>CC(C)(C)NCC(O)c1ccc(O)c(CO)c1</td>\n",
       "      <td>COC(CNC(C)C)c1ccc(O)c(O)c1</td>\n",
       "      <td>[#6](-[#6](-[#6:11](-[H])(-[H])-[H])(-[#6:12](...</td>\n",
       "    </tr>\n",
       "  </tbody>\n",
       "</table>\n",
       "<p>490 rows × 5 columns</p>\n",
       "</div>"
      ],
      "text/plain": [
       "                               Stripped_x  \\\n",
       "1          CC(C)NC[C@@H](O)c1ccc(O)c(O)c1   \n",
       "2          CC(C)NC[C@@H](O)c1ccc(O)c(O)c1   \n",
       "3          CC(C)NC[C@@H](O)c1ccc(O)c(O)c1   \n",
       "4          CC(C)NC[C@@H](O)c1ccc(O)c(O)c1   \n",
       "5          CC(C)NC[C@@H](O)c1ccc(O)c(O)c1   \n",
       "...                                   ...   \n",
       "1938  CC(C)NCC(O)c1ccc(O)c(NS(C)(=O)=O)c1   \n",
       "1946   CC(C)(C)NCC(O)c1ccc(O)c(NC(N)=O)c1   \n",
       "1954               CC(C)NCC(O)c1ccc(O)cc1   \n",
       "1962         CC(C)(C)NCC(O)c1ccc(O)c(O)c1   \n",
       "1970        CC(C)(C)NCC(O)c1ccc(O)c(CO)c1   \n",
       "\n",
       "                                           Stripped_y  \\\n",
       "1                       CCC(NC(C)C)C(O)c1ccc(O)c(O)c1   \n",
       "2                       CC(C)NC[C@H](O)c1ccc(O)c(O)c1   \n",
       "3     CNCC(O)c1ccc(OC(=O)C(C)(C)C)c(OC(=O)C(C)(C)C)c1   \n",
       "4                               CNCC(O)c1ccc(O)c(O)c1   \n",
       "5                           CC(C)NCC(O)c1ccc(O)c(O)c1   \n",
       "...                                               ...   \n",
       "1938                       COC(CNC(C)C)c1ccc(O)c(O)c1   \n",
       "1946                       COC(CNC(C)C)c1ccc(O)c(O)c1   \n",
       "1954                       COC(CNC(C)C)c1ccc(O)c(O)c1   \n",
       "1962                       COC(CNC(C)C)c1ccc(O)c(O)c1   \n",
       "1970                       COC(CNC(C)C)c1ccc(O)c(O)c1   \n",
       "\n",
       "                              Fragment_x  \\\n",
       "1        [H][C@@](O)(CNC(C)C)c1cccc(O)c1   \n",
       "2                 CC(C)NCC(O)c1cccc(O)c1   \n",
       "3     [H][C@@](O)(CNC(C)C)c1ccc(O)c(O)c1   \n",
       "4        [H][C@@](O)(CNC(C)C)c1cccc(O)c1   \n",
       "5        [H][C@@](O)(CNC(C)C)c1cccc(O)c1   \n",
       "...                                  ...   \n",
       "1938     CNCC(O)c1ccc(O)c(NS(C)(=O)=O)c1   \n",
       "1946  CC(C)(C)NCC(O)c1ccc(O)c(NC(N)=O)c1   \n",
       "1954                  CNCC(O)c1ccc(O)cc1   \n",
       "1962               ccc(cc)C(O)CNC(C)(C)C   \n",
       "1970       CC(C)(C)NCC(O)c1ccc(O)c(CO)c1   \n",
       "\n",
       "                                           Fragment_y  \\\n",
       "1                          CCC(NC(C)C)C(O)c1cccc(O)c1   \n",
       "2                              CC(C)NCC(O)c1cccc(O)c1   \n",
       "3     CNCC(O)c1ccc(OC(=O)C(C)(C)C)c(OC(=O)C(C)(C)C)c1   \n",
       "4                                  CNCC(O)c1cccc(O)c1   \n",
       "5                              CC(C)NCC(O)c1cccc(O)c1   \n",
       "...                                               ...   \n",
       "1938                           CNCC(OC)c1ccc(O)c(O)c1   \n",
       "1946                       COC(CNC(C)C)c1ccc(O)c(O)c1   \n",
       "1954                           CNCC(OC)c1ccc(O)c(O)c1   \n",
       "1962                              ccc(cc)C(CNC(C)C)OC   \n",
       "1970                       COC(CNC(C)C)c1ccc(O)c(O)c1   \n",
       "\n",
       "                                                 SMIRKS  \n",
       "1     [#6:13](-[#6:5](-[#6:12](-[H])(-[H])-[H])(-[#7...  \n",
       "2     [#6:10](-[#6:5](-[#6:11](-[H])(-[H])-[H])(-[#7...  \n",
       "3     [#6](-[#6](-[#6](-[H])(-[H])-[H])(-[#7:5](-[#6...  \n",
       "4     [#6](-[#6](-[#6](-[H])(-[H])-[H])(-[#7:6](-[#6...  \n",
       "5     [#6:8](-[#6:3](-[#6:9](-[H])(-[H])-[H])(-[#7:5...  \n",
       "...                                                 ...  \n",
       "1938  [#6:10](-[#7:9](-[#6:11](-[#6:5](-[#8]-[H])(-[...  \n",
       "1946  [#6](-[#6](-[#6:11](-[H])(-[H])-[H])(-[#6:12](...  \n",
       "1954  [#6:5](-[#7:6](-[#6:7](-[#6:1](-[#8]-[H])(-[#6...  \n",
       "1962  [#6](-[#6](-[#6:12](-[H])(-[H])-[H])(-[#6:13](...  \n",
       "1970  [#6](-[#6](-[#6:11](-[H])(-[H])-[H])(-[#6:12](...  \n",
       "\n",
       "[490 rows x 5 columns]"
      ]
     },
     "execution_count": 11,
     "metadata": {},
     "output_type": "execute_result"
    }
   ],
   "source": [
    "df_beta2_pairs = df_beta2_pairs.progress_apply(apply_mmpa, axis=1)\n",
    "df_beta2_pairs = df_beta2_pairs[~pd.isna(df_beta2_pairs.SMIRKS)]\n",
    "df_beta2_pairs"
   ]
  },
  {
   "cell_type": "code",
   "execution_count": null,
   "metadata": {},
   "outputs": [],
   "source": []
  },
  {
   "cell_type": "code",
   "execution_count": null,
   "metadata": {},
   "outputs": [],
   "source": []
  },
  {
   "cell_type": "markdown",
   "metadata": {},
   "source": [
    "### quality control, demonstrate x -> y using reaction"
   ]
  },
  {
   "cell_type": "code",
   "execution_count": 12,
   "metadata": {},
   "outputs": [],
   "source": [
    "def apply_reactions(reaction):\n",
    "    \n",
    "    # create reaction\n",
    "    rxn = Chem.rdChemReactions.ReactionFromSmarts(reaction.SMIRKS)\n",
    "\n",
    "    # enumerate products\n",
    "    reaction['Products'] = rxn.RunReactants((Chem.AddHs(Chem.MolFromSmiles(reaction.Stripped_x)),))\n",
    "    return reaction"
   ]
  },
  {
   "cell_type": "code",
   "execution_count": 13,
   "metadata": {},
   "outputs": [
    {
     "name": "stderr",
     "output_type": "stream",
     "text": [
      "100%|██████████| 490/490 [00:11<00:00, 43.75it/s]\n"
     ]
    },
    {
     "data": {
      "text/html": [
       "<div>\n",
       "<style scoped>\n",
       "    .dataframe tbody tr th:only-of-type {\n",
       "        vertical-align: middle;\n",
       "    }\n",
       "\n",
       "    .dataframe tbody tr th {\n",
       "        vertical-align: top;\n",
       "    }\n",
       "\n",
       "    .dataframe thead th {\n",
       "        text-align: right;\n",
       "    }\n",
       "</style>\n",
       "<table border=\"1\" class=\"dataframe\">\n",
       "  <thead>\n",
       "    <tr style=\"text-align: right;\">\n",
       "      <th></th>\n",
       "      <th>Stripped_x</th>\n",
       "      <th>Stripped_y</th>\n",
       "      <th>Fragment_x</th>\n",
       "      <th>Fragment_y</th>\n",
       "      <th>SMIRKS</th>\n",
       "      <th>Products</th>\n",
       "    </tr>\n",
       "  </thead>\n",
       "  <tbody>\n",
       "    <tr>\n",
       "      <th>1543</th>\n",
       "      <td>OCc1cc(C(O)CNCc2ccc(CNCC(O)c3ccc(O)c(CO)c3)cc2...</td>\n",
       "      <td>CC(C)(CNCC(O)c1ccc(O)c(CO)c1)CNCC(O)c1ccc(O)c(...</td>\n",
       "      <td>CCNCc1ccc(CNCC(O)c2ccc(O)c(CO)c2)cc1</td>\n",
       "      <td>CCNCC(C)(C)CNCC(O)c1ccc(O)c(CO)c1</td>\n",
       "      <td>[#8](-[#6](-[#6]1:[#6](:[#6:5](-[#6](-[#8]-[H]...</td>\n",
       "      <td>((&lt;rdkit.Chem.rdchem.Mol object at 0x7f19c6459...</td>\n",
       "    </tr>\n",
       "    <tr>\n",
       "      <th>325</th>\n",
       "      <td>CC(C)NCC(O)c1ccc(O)cc1</td>\n",
       "      <td>CC(C)(C)NCC(O)c1ccc(O)c(CO)c1</td>\n",
       "      <td>CC(C)NCC(O)c1ccc(O)cc1</td>\n",
       "      <td>CC(C)(C)NCC(O)c1ccc(O)c(CO)c1</td>\n",
       "      <td>[#6:8](-[#6](-[#6:9](-[H])(-[H])-[H])(-[#7:3](...</td>\n",
       "      <td>((&lt;rdkit.Chem.rdchem.Mol object at 0x7f19c728c...</td>\n",
       "    </tr>\n",
       "    <tr>\n",
       "      <th>34</th>\n",
       "      <td>CNCC(O)c1ccc(O)c(O)c1</td>\n",
       "      <td>CNC[C@H](O)c1ccc(O)c(O)c1</td>\n",
       "      <td>CNCC(O)c1cccc(O)c1</td>\n",
       "      <td>[H][C@](O)(CNC)c1cccc(O)c1</td>\n",
       "      <td>[#6:9](-[#7:3](-[#6:5](-[#6](-[#8:12]-[H])(-[#...</td>\n",
       "      <td>((&lt;rdkit.Chem.rdchem.Mol object at 0x7f19c756c...</td>\n",
       "    </tr>\n",
       "  </tbody>\n",
       "</table>\n",
       "</div>"
      ],
      "text/plain": [
       "                                             Stripped_x  \\\n",
       "1543  OCc1cc(C(O)CNCc2ccc(CNCC(O)c3ccc(O)c(CO)c3)cc2...   \n",
       "325                              CC(C)NCC(O)c1ccc(O)cc1   \n",
       "34                                CNCC(O)c1ccc(O)c(O)c1   \n",
       "\n",
       "                                             Stripped_y  \\\n",
       "1543  CC(C)(CNCC(O)c1ccc(O)c(CO)c1)CNCC(O)c1ccc(O)c(...   \n",
       "325                       CC(C)(C)NCC(O)c1ccc(O)c(CO)c1   \n",
       "34                            CNC[C@H](O)c1ccc(O)c(O)c1   \n",
       "\n",
       "                                Fragment_x                         Fragment_y  \\\n",
       "1543  CCNCc1ccc(CNCC(O)c2ccc(O)c(CO)c2)cc1  CCNCC(C)(C)CNCC(O)c1ccc(O)c(CO)c1   \n",
       "325                 CC(C)NCC(O)c1ccc(O)cc1      CC(C)(C)NCC(O)c1ccc(O)c(CO)c1   \n",
       "34                      CNCC(O)c1cccc(O)c1         [H][C@](O)(CNC)c1cccc(O)c1   \n",
       "\n",
       "                                                 SMIRKS  \\\n",
       "1543  [#8](-[#6](-[#6]1:[#6](:[#6:5](-[#6](-[#8]-[H]...   \n",
       "325   [#6:8](-[#6](-[#6:9](-[H])(-[H])-[H])(-[#7:3](...   \n",
       "34    [#6:9](-[#7:3](-[#6:5](-[#6](-[#8:12]-[H])(-[#...   \n",
       "\n",
       "                                               Products  \n",
       "1543  ((<rdkit.Chem.rdchem.Mol object at 0x7f19c6459...  \n",
       "325   ((<rdkit.Chem.rdchem.Mol object at 0x7f19c728c...  \n",
       "34    ((<rdkit.Chem.rdchem.Mol object at 0x7f19c756c...  "
      ]
     },
     "execution_count": 13,
     "metadata": {},
     "output_type": "execute_result"
    }
   ],
   "source": [
    "df_beta2_products = df_beta2_pairs.progress_apply(apply_reactions, axis=1)\n",
    "df_beta2_products.sample(3)"
   ]
  },
  {
   "cell_type": "code",
   "execution_count": 14,
   "metadata": {},
   "outputs": [
    {
     "data": {
      "text/plain": [
       "490"
      ]
     },
     "execution_count": 14,
     "metadata": {},
     "output_type": "execute_result"
    }
   ],
   "source": [
    "len(df_beta2_products.index)"
   ]
  },
  {
   "cell_type": "code",
   "execution_count": 15,
   "metadata": {},
   "outputs": [],
   "source": [
    "def products_to_list(productset):\n",
    "    \n",
    "    # given produces exist\n",
    "    productlist = []\n",
    "    for product in productset:\n",
    "        productlist.append('.'.join([Chem.MolToSmiles(Chem.RemoveHs(productpart)) for productpart in product]))\n",
    "    return list(set(productlist))\n",
    "\n",
    "df_beta2_products['ProductList'] = df_beta2_products.Products.apply(lambda x: products_to_list(x) if pd.notna(x) else list())"
   ]
  },
  {
   "cell_type": "code",
   "execution_count": 16,
   "metadata": {},
   "outputs": [
    {
     "data": {
      "text/html": [
       "<div>\n",
       "<style scoped>\n",
       "    .dataframe tbody tr th:only-of-type {\n",
       "        vertical-align: middle;\n",
       "    }\n",
       "\n",
       "    .dataframe tbody tr th {\n",
       "        vertical-align: top;\n",
       "    }\n",
       "\n",
       "    .dataframe thead th {\n",
       "        text-align: right;\n",
       "    }\n",
       "</style>\n",
       "<table border=\"1\" class=\"dataframe\">\n",
       "  <thead>\n",
       "    <tr style=\"text-align: right;\">\n",
       "      <th></th>\n",
       "      <th>Stripped_x</th>\n",
       "      <th>Stripped_y</th>\n",
       "      <th>Fragment_x</th>\n",
       "      <th>Fragment_y</th>\n",
       "      <th>SMIRKS</th>\n",
       "      <th>Products</th>\n",
       "      <th>ProductList</th>\n",
       "    </tr>\n",
       "  </thead>\n",
       "  <tbody>\n",
       "    <tr>\n",
       "      <th>824</th>\n",
       "      <td>CCC(NC1CCCC1)C(O)c1ccc(O)c(O)c1</td>\n",
       "      <td>NC[C@H](O)c1ccc(O)c(O)c1</td>\n",
       "      <td>CCC(NC1CCCC1)C(O)c1cccc(O)c1</td>\n",
       "      <td>[H][C@](O)(CN)c1cccc(O)c1</td>\n",
       "      <td>[#6](-[#6](-[#6](-[#7](-[#6]1(-[#6](-[#6](-[#6...</td>\n",
       "      <td>((&lt;rdkit.Chem.rdchem.Mol object at 0x7f19c6d69...</td>\n",
       "      <td>[NC[C@H](O)c1ccc(O)c(O)c1]</td>\n",
       "    </tr>\n",
       "    <tr>\n",
       "      <th>122</th>\n",
       "      <td>NC[C@H](O)c1ccc(O)c(O)c1</td>\n",
       "      <td>CNCC(O)c1ccc(O)c(O)c1F</td>\n",
       "      <td>[H][C@](O)(CN)c1ccc(O)c(O)c1</td>\n",
       "      <td>CNCC(O)c1ccc(O)c(O)c1F</td>\n",
       "      <td>[#7](-[#6:7](-[#6@](-[#8:9]-[H])(-[#6:2]1:[#6:...</td>\n",
       "      <td>((&lt;rdkit.Chem.rdchem.Mol object at 0x7f19c7526...</td>\n",
       "      <td>[CNCC(O)c1ccc(O)c(O)c1F]</td>\n",
       "    </tr>\n",
       "    <tr>\n",
       "      <th>78</th>\n",
       "      <td>CNCC(O)c1cc(O)c(O)cc1F</td>\n",
       "      <td>CNC[C@H](O)c1cc(O)c(O)cc1F</td>\n",
       "      <td>CNCC(O)c1cc(O)ccc1F</td>\n",
       "      <td>[H][C@](O)(CNC)c1cc(O)ccc1F</td>\n",
       "      <td>[#6:10](-[#7:3](-[#6:7](-[#6](-[#8:13]-[H])(-[...</td>\n",
       "      <td>((&lt;rdkit.Chem.rdchem.Mol object at 0x7f19c7517...</td>\n",
       "      <td>[CNC[C@H](O)c1cc(O)c(O)cc1F]</td>\n",
       "    </tr>\n",
       "  </tbody>\n",
       "</table>\n",
       "</div>"
      ],
      "text/plain": [
       "                          Stripped_x                  Stripped_y  \\\n",
       "824  CCC(NC1CCCC1)C(O)c1ccc(O)c(O)c1    NC[C@H](O)c1ccc(O)c(O)c1   \n",
       "122         NC[C@H](O)c1ccc(O)c(O)c1      CNCC(O)c1ccc(O)c(O)c1F   \n",
       "78            CNCC(O)c1cc(O)c(O)cc1F  CNC[C@H](O)c1cc(O)c(O)cc1F   \n",
       "\n",
       "                       Fragment_x                   Fragment_y  \\\n",
       "824  CCC(NC1CCCC1)C(O)c1cccc(O)c1    [H][C@](O)(CN)c1cccc(O)c1   \n",
       "122  [H][C@](O)(CN)c1ccc(O)c(O)c1       CNCC(O)c1ccc(O)c(O)c1F   \n",
       "78            CNCC(O)c1cc(O)ccc1F  [H][C@](O)(CNC)c1cc(O)ccc1F   \n",
       "\n",
       "                                                SMIRKS  \\\n",
       "824  [#6](-[#6](-[#6](-[#7](-[#6]1(-[#6](-[#6](-[#6...   \n",
       "122  [#7](-[#6:7](-[#6@](-[#8:9]-[H])(-[#6:2]1:[#6:...   \n",
       "78   [#6:10](-[#7:3](-[#6:7](-[#6](-[#8:13]-[H])(-[...   \n",
       "\n",
       "                                              Products  \\\n",
       "824  ((<rdkit.Chem.rdchem.Mol object at 0x7f19c6d69...   \n",
       "122  ((<rdkit.Chem.rdchem.Mol object at 0x7f19c7526...   \n",
       "78   ((<rdkit.Chem.rdchem.Mol object at 0x7f19c7517...   \n",
       "\n",
       "                      ProductList  \n",
       "824    [NC[C@H](O)c1ccc(O)c(O)c1]  \n",
       "122      [CNCC(O)c1ccc(O)c(O)c1F]  \n",
       "78   [CNC[C@H](O)c1cc(O)c(O)cc1F]  "
      ]
     },
     "execution_count": 16,
     "metadata": {},
     "output_type": "execute_result"
    }
   ],
   "source": [
    "df_beta2_products.sample(3)"
   ]
  },
  {
   "cell_type": "code",
   "execution_count": null,
   "metadata": {},
   "outputs": [],
   "source": []
  },
  {
   "cell_type": "code",
   "execution_count": 17,
   "metadata": {},
   "outputs": [
    {
     "data": {
      "text/plain": [
       "0"
      ]
     },
     "execution_count": 17,
     "metadata": {},
     "output_type": "execute_result"
    }
   ],
   "source": [
    "df_beta2_products.apply(lambda x: x.Stripped_y not in x.ProductList, axis=1).sum()"
   ]
  },
  {
   "cell_type": "code",
   "execution_count": 18,
   "metadata": {},
   "outputs": [
    {
     "data": {
      "text/plain": [
       "0"
      ]
     },
     "execution_count": 18,
     "metadata": {},
     "output_type": "execute_result"
    }
   ],
   "source": [
    "df_beta2_products.ProductList.apply(lambda x: len(x) > 1).sum()"
   ]
  },
  {
   "cell_type": "code",
   "execution_count": null,
   "metadata": {},
   "outputs": [],
   "source": []
  }
 ],
 "metadata": {
  "kernelspec": {
   "display_name": "Python 3",
   "language": "python",
   "name": "python3"
  },
  "language_info": {
   "codemirror_mode": {
    "name": "ipython",
    "version": 3
   },
   "file_extension": ".py",
   "mimetype": "text/x-python",
   "name": "python",
   "nbconvert_exporter": "python",
   "pygments_lexer": "ipython3",
   "version": "3.6.10"
  }
 },
 "nbformat": 4,
 "nbformat_minor": 4
}
