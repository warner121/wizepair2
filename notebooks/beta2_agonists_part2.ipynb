{
 "cells": [
  {
   "cell_type": "markdown",
   "metadata": {},
   "source": [
    "## Beta-2 adrenergic receptor - part 2 (MMP identification)"
   ]
  },
  {
   "cell_type": "markdown",
   "metadata": {},
   "source": [
    "### Import libraries"
   ]
  },
  {
   "cell_type": "code",
   "execution_count": 1,
   "metadata": {},
   "outputs": [],
   "source": [
    "import pandas as pd"
   ]
  },
  {
   "cell_type": "code",
   "execution_count": 2,
   "metadata": {},
   "outputs": [],
   "source": [
    "from tqdm import tqdm\n",
    "tqdm.pandas()\n",
    "\n",
    "import sys\n",
    "sys.path.append('/home/daniel/wizepair2')\n",
    "from mmpa.mmp import MMP"
   ]
  },
  {
   "cell_type": "markdown",
   "metadata": {},
   "source": [
    "### Read in the dataset"
   ]
  },
  {
   "cell_type": "code",
   "execution_count": 3,
   "metadata": {},
   "outputs": [
    {
     "data": {
      "text/plain": [
       "7599"
      ]
     },
     "execution_count": 3,
     "metadata": {},
     "output_type": "execute_result"
    }
   ],
   "source": [
    "df = pd.read_csv('beta2_agonists_stripped.csv')\n",
    "len(df.index)"
   ]
  },
  {
   "cell_type": "markdown",
   "metadata": {},
   "source": [
    "### Create cartesian product of unique molecules tested in the same assay"
   ]
  },
  {
   "cell_type": "code",
   "execution_count": 4,
   "metadata": {},
   "outputs": [
    {
     "data": {
      "text/html": [
       "<div>\n",
       "<style scoped>\n",
       "    .dataframe tbody tr th:only-of-type {\n",
       "        vertical-align: middle;\n",
       "    }\n",
       "\n",
       "    .dataframe tbody tr th {\n",
       "        vertical-align: top;\n",
       "    }\n",
       "\n",
       "    .dataframe thead th {\n",
       "        text-align: right;\n",
       "    }\n",
       "</style>\n",
       "<table border=\"1\" class=\"dataframe\">\n",
       "  <thead>\n",
       "    <tr style=\"text-align: right;\">\n",
       "      <th></th>\n",
       "      <th>stripped_smiles_x</th>\n",
       "      <th>stripped_smiles_y</th>\n",
       "    </tr>\n",
       "  </thead>\n",
       "  <tbody>\n",
       "    <tr>\n",
       "      <th>0</th>\n",
       "      <td>COc1cc([C@H](O)CO)ccc1O</td>\n",
       "      <td>COc1cc([C@H](O)CO)ccc1O</td>\n",
       "    </tr>\n",
       "    <tr>\n",
       "      <th>1</th>\n",
       "      <td>COc1cc([C@H](O)CO)ccc1O</td>\n",
       "      <td>CC(C)(C)NC[C@H](O)c1ccc(O)c(CO)c1</td>\n",
       "    </tr>\n",
       "    <tr>\n",
       "      <th>2</th>\n",
       "      <td>COc1cc([C@H](O)CO)ccc1O</td>\n",
       "      <td>CC[C@H](NC(C)C)[C@H](O)c1ccc(O)c(O)c1</td>\n",
       "    </tr>\n",
       "    <tr>\n",
       "      <th>3</th>\n",
       "      <td>COc1cc([C@H](O)CO)ccc1O</td>\n",
       "      <td>CC(C)NC[C@H](O)c1ccc2ccccc2c1</td>\n",
       "    </tr>\n",
       "    <tr>\n",
       "      <th>8</th>\n",
       "      <td>COc1cc([C@H](O)CO)ccc1O</td>\n",
       "      <td>NC[C@H](O)c1ccc(O)c(O)c1</td>\n",
       "    </tr>\n",
       "    <tr>\n",
       "      <th>...</th>\n",
       "      <td>...</td>\n",
       "      <td>...</td>\n",
       "    </tr>\n",
       "    <tr>\n",
       "      <th>102145</th>\n",
       "      <td>COc1cccc(CC(C)NCC(O)c2ccc(O)c(O)c2)c1</td>\n",
       "      <td>COc1cccc(CC(C)NCC(O)c2ccc(O)c(O)c2)c1</td>\n",
       "    </tr>\n",
       "    <tr>\n",
       "      <th>102180</th>\n",
       "      <td>CNCC(SC)c1ccc(O)c(O)c1</td>\n",
       "      <td>CC(Cc1ccc(O)cc1)NCC(O)c1ccc(O)c(O)c1.O=C(O)c1c...</td>\n",
       "    </tr>\n",
       "    <tr>\n",
       "      <th>102183</th>\n",
       "      <td>COc1cccc(CC(C)NCC(O)c2ccc(O)c(O)c2)c1</td>\n",
       "      <td>CC(Cc1ccc(O)cc1)NCC(O)c1ccc(O)c(O)c1.O=C(O)c1c...</td>\n",
       "    </tr>\n",
       "    <tr>\n",
       "      <th>102184</th>\n",
       "      <td>CC(Cc1ccc(O)cc1)NCC(O)c1ccc(O)c(O)c1.O=C(O)c1c...</td>\n",
       "      <td>CNCC(SC)c1ccc(O)c(O)c1</td>\n",
       "    </tr>\n",
       "    <tr>\n",
       "      <th>102185</th>\n",
       "      <td>CC(Cc1ccc(O)cc1)NCC(O)c1ccc(O)c(O)c1.O=C(O)c1c...</td>\n",
       "      <td>COc1cccc(CC(C)NCC(O)c2ccc(O)c(O)c2)c1</td>\n",
       "    </tr>\n",
       "  </tbody>\n",
       "</table>\n",
       "<p>4920 rows × 2 columns</p>\n",
       "</div>"
      ],
      "text/plain": [
       "                                        stripped_smiles_x  \\\n",
       "0                                 COc1cc([C@H](O)CO)ccc1O   \n",
       "1                                 COc1cc([C@H](O)CO)ccc1O   \n",
       "2                                 COc1cc([C@H](O)CO)ccc1O   \n",
       "3                                 COc1cc([C@H](O)CO)ccc1O   \n",
       "8                                 COc1cc([C@H](O)CO)ccc1O   \n",
       "...                                                   ...   \n",
       "102145              COc1cccc(CC(C)NCC(O)c2ccc(O)c(O)c2)c1   \n",
       "102180                             CNCC(SC)c1ccc(O)c(O)c1   \n",
       "102183              COc1cccc(CC(C)NCC(O)c2ccc(O)c(O)c2)c1   \n",
       "102184  CC(Cc1ccc(O)cc1)NCC(O)c1ccc(O)c(O)c1.O=C(O)c1c...   \n",
       "102185  CC(Cc1ccc(O)cc1)NCC(O)c1ccc(O)c(O)c1.O=C(O)c1c...   \n",
       "\n",
       "                                        stripped_smiles_y  \n",
       "0                                 COc1cc([C@H](O)CO)ccc1O  \n",
       "1                       CC(C)(C)NC[C@H](O)c1ccc(O)c(CO)c1  \n",
       "2                   CC[C@H](NC(C)C)[C@H](O)c1ccc(O)c(O)c1  \n",
       "3                           CC(C)NC[C@H](O)c1ccc2ccccc2c1  \n",
       "8                                NC[C@H](O)c1ccc(O)c(O)c1  \n",
       "...                                                   ...  \n",
       "102145              COc1cccc(CC(C)NCC(O)c2ccc(O)c(O)c2)c1  \n",
       "102180  CC(Cc1ccc(O)cc1)NCC(O)c1ccc(O)c(O)c1.O=C(O)c1c...  \n",
       "102183  CC(Cc1ccc(O)cc1)NCC(O)c1ccc(O)c(O)c1.O=C(O)c1c...  \n",
       "102184                             CNCC(SC)c1ccc(O)c(O)c1  \n",
       "102185              COc1cccc(CC(C)NCC(O)c2ccc(O)c(O)c2)c1  \n",
       "\n",
       "[4920 rows x 2 columns]"
      ]
     },
     "execution_count": 4,
     "metadata": {},
     "output_type": "execute_result"
    }
   ],
   "source": [
    "df_pairs = pd.merge(df, df, on=['target_pref_name', 'standard_type'])\n",
    "df_pairs = df_pairs[['stripped_smiles_x', 'stripped_smiles_y']].drop_duplicates()\n",
    "df_pairs"
   ]
  },
  {
   "cell_type": "markdown",
   "metadata": {},
   "source": [
    "### Identify all pairs"
   ]
  },
  {
   "cell_type": "code",
   "execution_count": 5,
   "metadata": {},
   "outputs": [
    {
     "name": "stderr",
     "output_type": "stream",
     "text": [
      " 78%|███████▊  | 3856/4920 [27:29<03:41,  4.81it/s]  WARNING:root:{\"message\": \"failed to find cliques in 60 seconds\"}\n",
      "100%|██████████| 4920/4920 [36:46<00:00,  2.23it/s]  \n"
     ]
    }
   ],
   "source": [
    "df_pairs = df_pairs.progress_apply(lambda x: MMP(x.stripped_smiles_x, x.stripped_smiles_y, fuzziness=5).execute(), axis=1)"
   ]
  },
  {
   "cell_type": "code",
   "execution_count": 6,
   "metadata": {},
   "outputs": [
    {
     "data": {
      "text/html": [
       "<div>\n",
       "<style scoped>\n",
       "    .dataframe tbody tr th:only-of-type {\n",
       "        vertical-align: middle;\n",
       "    }\n",
       "\n",
       "    .dataframe tbody tr th {\n",
       "        vertical-align: top;\n",
       "    }\n",
       "\n",
       "    .dataframe thead th {\n",
       "        text-align: right;\n",
       "    }\n",
       "</style>\n",
       "<table border=\"1\" class=\"dataframe\">\n",
       "  <thead>\n",
       "    <tr style=\"text-align: right;\">\n",
       "      <th></th>\n",
       "      <th>18564</th>\n",
       "      <th>8830</th>\n",
       "      <th>8260</th>\n",
       "    </tr>\n",
       "  </thead>\n",
       "  <tbody>\n",
       "    <tr>\n",
       "      <th>smiles1</th>\n",
       "      <td>CC(C)NCC(O)c1ccc(O)c(O)c1</td>\n",
       "      <td>CC(C)NCC(O)c1ccc(O)c(N)c1</td>\n",
       "      <td>CC(CCCNC(=O)OCc1ccccc1)NCC(O)c1ccc(O)c(O)c1</td>\n",
       "    </tr>\n",
       "    <tr>\n",
       "      <th>smiles2</th>\n",
       "      <td>CC(Cc1ccc2c(c1)OCO2)NCC(O)c1ccc(O)c(O)c1</td>\n",
       "      <td>NC[C@H](O)c1ccc(O)c(O)c1</td>\n",
       "      <td>CC(CCNC(=O)OCc1ccccc1)NCC(O)c1ccc(O)c(O)c1</td>\n",
       "    </tr>\n",
       "    <tr>\n",
       "      <th>percentmcs</th>\n",
       "      <td>0.583333</td>\n",
       "      <td>0.6</td>\n",
       "      <td>0.642857</td>\n",
       "    </tr>\n",
       "    <tr>\n",
       "      <th>radius</th>\n",
       "      <td>4</td>\n",
       "      <td>2</td>\n",
       "      <td>4</td>\n",
       "    </tr>\n",
       "    <tr>\n",
       "      <th>valid</th>\n",
       "      <td>True</td>\n",
       "      <td>True</td>\n",
       "      <td>True</td>\n",
       "    </tr>\n",
       "    <tr>\n",
       "      <th>smirks</th>\n",
       "      <td>[#6:9](-[#6:3](-[#6:10](-[H])(-[H])-[H])(-[#7:...</td>\n",
       "      <td>[#6](-[#6](-[#6](-[H])(-[H])-[H])(-[#7:11](-[#...</td>\n",
       "      <td>[#6:10](-[#6:4](-[#6:5](-[#6:1](-[#6:2](-[#7:3...</td>\n",
       "    </tr>\n",
       "    <tr>\n",
       "      <th>fragment1</th>\n",
       "      <td>[CH3][CH2][NH][CH]([CH3])[CH3]</td>\n",
       "      <td>[cH2][c]([NH2])[cH][c]([cH2])[CH]([OH])[CH2][N...</td>\n",
       "      <td>[CH3][CH]([NH2])[CH2][CH2][CH2][NH][C](=[O])[O...</td>\n",
       "    </tr>\n",
       "    <tr>\n",
       "      <th>fragment2</th>\n",
       "      <td>[CH3][CH2][NH][CH]([CH3])[CH2][c]1[cH][cH][c]2...</td>\n",
       "      <td>[H][C@]([OH])([CH2][NH2])[c]([cH2])[cH][c]([cH...</td>\n",
       "      <td>[CH3][CH]([NH2])[CH2][CH2][NH][C](=[O])[O][CH2...</td>\n",
       "    </tr>\n",
       "  </tbody>\n",
       "</table>\n",
       "</div>"
      ],
      "text/plain": [
       "                                                        18564  \\\n",
       "smiles1                             CC(C)NCC(O)c1ccc(O)c(O)c1   \n",
       "smiles2              CC(Cc1ccc2c(c1)OCO2)NCC(O)c1ccc(O)c(O)c1   \n",
       "percentmcs                                           0.583333   \n",
       "radius                                                      4   \n",
       "valid                                                    True   \n",
       "smirks      [#6:9](-[#6:3](-[#6:10](-[H])(-[H])-[H])(-[#7:...   \n",
       "fragment1                      [CH3][CH2][NH][CH]([CH3])[CH3]   \n",
       "fragment2   [CH3][CH2][NH][CH]([CH3])[CH2][c]1[cH][cH][c]2...   \n",
       "\n",
       "                                                        8830   \\\n",
       "smiles1                             CC(C)NCC(O)c1ccc(O)c(N)c1   \n",
       "smiles2                              NC[C@H](O)c1ccc(O)c(O)c1   \n",
       "percentmcs                                                0.6   \n",
       "radius                                                      2   \n",
       "valid                                                    True   \n",
       "smirks      [#6](-[#6](-[#6](-[H])(-[H])-[H])(-[#7:11](-[#...   \n",
       "fragment1   [cH2][c]([NH2])[cH][c]([cH2])[CH]([OH])[CH2][N...   \n",
       "fragment2   [H][C@]([OH])([CH2][NH2])[c]([cH2])[cH][c]([cH...   \n",
       "\n",
       "                                                        8260   \n",
       "smiles1           CC(CCCNC(=O)OCc1ccccc1)NCC(O)c1ccc(O)c(O)c1  \n",
       "smiles2            CC(CCNC(=O)OCc1ccccc1)NCC(O)c1ccc(O)c(O)c1  \n",
       "percentmcs                                           0.642857  \n",
       "radius                                                      4  \n",
       "valid                                                    True  \n",
       "smirks      [#6:10](-[#6:4](-[#6:5](-[#6:1](-[#6:2](-[#7:3...  \n",
       "fragment1   [CH3][CH]([NH2])[CH2][CH2][CH2][NH][C](=[O])[O...  \n",
       "fragment2   [CH3][CH]([NH2])[CH2][CH2][NH][C](=[O])[O][CH2...  "
      ]
     },
     "execution_count": 6,
     "metadata": {},
     "output_type": "execute_result"
    }
   ],
   "source": [
    "df_pairs = pd.json_normalize(df_pairs.explode())\n",
    "df_pairs.sample(3).transpose()"
   ]
  },
  {
   "cell_type": "markdown",
   "metadata": {},
   "source": [
    "### Drop failures and write output to file"
   ]
  },
  {
   "cell_type": "code",
   "execution_count": 7,
   "metadata": {},
   "outputs": [],
   "source": [
    "df_pairs = df_pairs[df_pairs.valid]\n",
    "df_pairs.to_csv('beta2_agonists_pairs.csv', index=False)"
   ]
  },
  {
   "cell_type": "code",
   "execution_count": null,
   "metadata": {},
   "outputs": [],
   "source": []
  }
 ],
 "metadata": {
  "kernelspec": {
   "display_name": "Python 3",
   "language": "python",
   "name": "python3"
  },
  "language_info": {
   "codemirror_mode": {
    "name": "ipython",
    "version": 3
   },
   "file_extension": ".py",
   "mimetype": "text/x-python",
   "name": "python",
   "nbconvert_exporter": "python",
   "pygments_lexer": "ipython3",
   "version": "3.6.10"
  }
 },
 "nbformat": 4,
 "nbformat_minor": 4
}
