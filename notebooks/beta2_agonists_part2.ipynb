{
 "cells": [
  {
   "cell_type": "markdown",
   "metadata": {},
   "source": [
    "## Beta-2 adrenergic receptor - part 2 (MMP identification)"
   ]
  },
  {
   "cell_type": "markdown",
   "metadata": {},
   "source": [
    "### Import libraries"
   ]
  },
  {
   "cell_type": "code",
   "execution_count": 1,
   "metadata": {},
   "outputs": [],
   "source": [
    "import pandas as pd"
   ]
  },
  {
   "cell_type": "code",
   "execution_count": 2,
   "metadata": {},
   "outputs": [],
   "source": [
    "from tqdm import tqdm\n",
    "tqdm.pandas()\n",
    "\n",
    "import sys\n",
    "sys.path.append('/home/daniel/wizepair2')\n",
    "from mmpa.mmp import MMP"
   ]
  },
  {
   "cell_type": "markdown",
   "metadata": {},
   "source": [
    "### Read in the dataset"
   ]
  },
  {
   "cell_type": "code",
   "execution_count": 3,
   "metadata": {},
   "outputs": [
    {
     "data": {
      "text/plain": [
       "7603"
      ]
     },
     "execution_count": 3,
     "metadata": {},
     "output_type": "execute_result"
    }
   ],
   "source": [
    "df = pd.read_csv('beta2_agonists_stripped.csv')\n",
    "len(df.index)"
   ]
  },
  {
   "cell_type": "markdown",
   "metadata": {},
   "source": [
    "### Create cartesian product of unique molecules tested in the same assay"
   ]
  },
  {
   "cell_type": "code",
   "execution_count": 4,
   "metadata": {},
   "outputs": [
    {
     "data": {
      "text/html": [
       "<div>\n",
       "<style scoped>\n",
       "    .dataframe tbody tr th:only-of-type {\n",
       "        vertical-align: middle;\n",
       "    }\n",
       "\n",
       "    .dataframe tbody tr th {\n",
       "        vertical-align: top;\n",
       "    }\n",
       "\n",
       "    .dataframe thead th {\n",
       "        text-align: right;\n",
       "    }\n",
       "</style>\n",
       "<table border=\"1\" class=\"dataframe\">\n",
       "  <thead>\n",
       "    <tr style=\"text-align: right;\">\n",
       "      <th></th>\n",
       "      <th>stripped_smiles_x</th>\n",
       "      <th>stripped_smiles_y</th>\n",
       "    </tr>\n",
       "  </thead>\n",
       "  <tbody>\n",
       "    <tr>\n",
       "      <th>0</th>\n",
       "      <td>COc1cc([C@H](O)CO)ccc1O</td>\n",
       "      <td>COc1cc([C@H](O)CO)ccc1O</td>\n",
       "    </tr>\n",
       "    <tr>\n",
       "      <th>1</th>\n",
       "      <td>COc1cc([C@H](O)CO)ccc1O</td>\n",
       "      <td>CC(C)(C)NC[C@H](O)c1ccc(O)c(CO)c1</td>\n",
       "    </tr>\n",
       "    <tr>\n",
       "      <th>2</th>\n",
       "      <td>COc1cc([C@H](O)CO)ccc1O</td>\n",
       "      <td>CC[C@H](NC(C)C)[C@H](O)c1ccc(O)c(O)c1</td>\n",
       "    </tr>\n",
       "    <tr>\n",
       "      <th>3</th>\n",
       "      <td>COc1cc([C@H](O)CO)ccc1O</td>\n",
       "      <td>CC(C)NC[C@H](O)c1ccc2ccccc2c1</td>\n",
       "    </tr>\n",
       "    <tr>\n",
       "      <th>5</th>\n",
       "      <td>COc1cc([C@H](O)CO)ccc1O</td>\n",
       "      <td>NC[C@H](O)c1ccc(O)c(O)c1</td>\n",
       "    </tr>\n",
       "    <tr>\n",
       "      <th>...</th>\n",
       "      <td>...</td>\n",
       "      <td>...</td>\n",
       "    </tr>\n",
       "    <tr>\n",
       "      <th>30329</th>\n",
       "      <td>COc1cccc(CC(C)NCC(O)c2ccc(O)c(O)c2)c1</td>\n",
       "      <td>CC(Cc1ccc(O)cc1)NCC(O)c1ccc(O)c(O)c1.O=C(O)c1c...</td>\n",
       "    </tr>\n",
       "    <tr>\n",
       "      <th>30330</th>\n",
       "      <td>CC(Cc1ccc(O)cc1)NCC(O)c1ccc(O)c(O)c1.O=C(O)c1c...</td>\n",
       "      <td>CNCC(SC)c1ccc(O)c(O)c1</td>\n",
       "    </tr>\n",
       "    <tr>\n",
       "      <th>30331</th>\n",
       "      <td>CC(Cc1ccc(O)cc1)NCC(O)c1ccc(O)c(O)c1.O=C(O)c1c...</td>\n",
       "      <td>COc1cccc(CC(C)NCC(O)c2ccc(O)c(O)c2)c1</td>\n",
       "    </tr>\n",
       "    <tr>\n",
       "      <th>30850</th>\n",
       "      <td>CC(C)NCC(O)c1ccc(O)c(NS(C)(=O)=O)c1</td>\n",
       "      <td>CC(C)NCC(O)c1ccc(Cl)c(Cl)c1</td>\n",
       "    </tr>\n",
       "    <tr>\n",
       "      <th>30851</th>\n",
       "      <td>CC(C)NCC(O)c1ccc(Cl)c(Cl)c1</td>\n",
       "      <td>CC(C)NCC(O)c1ccc(O)c(NS(C)(=O)=O)c1</td>\n",
       "    </tr>\n",
       "  </tbody>\n",
       "</table>\n",
       "<p>3565 rows × 2 columns</p>\n",
       "</div>"
      ],
      "text/plain": [
       "                                       stripped_smiles_x  \\\n",
       "0                                COc1cc([C@H](O)CO)ccc1O   \n",
       "1                                COc1cc([C@H](O)CO)ccc1O   \n",
       "2                                COc1cc([C@H](O)CO)ccc1O   \n",
       "3                                COc1cc([C@H](O)CO)ccc1O   \n",
       "5                                COc1cc([C@H](O)CO)ccc1O   \n",
       "...                                                  ...   \n",
       "30329              COc1cccc(CC(C)NCC(O)c2ccc(O)c(O)c2)c1   \n",
       "30330  CC(Cc1ccc(O)cc1)NCC(O)c1ccc(O)c(O)c1.O=C(O)c1c...   \n",
       "30331  CC(Cc1ccc(O)cc1)NCC(O)c1ccc(O)c(O)c1.O=C(O)c1c...   \n",
       "30850                CC(C)NCC(O)c1ccc(O)c(NS(C)(=O)=O)c1   \n",
       "30851                        CC(C)NCC(O)c1ccc(Cl)c(Cl)c1   \n",
       "\n",
       "                                       stripped_smiles_y  \n",
       "0                                COc1cc([C@H](O)CO)ccc1O  \n",
       "1                      CC(C)(C)NC[C@H](O)c1ccc(O)c(CO)c1  \n",
       "2                  CC[C@H](NC(C)C)[C@H](O)c1ccc(O)c(O)c1  \n",
       "3                          CC(C)NC[C@H](O)c1ccc2ccccc2c1  \n",
       "5                               NC[C@H](O)c1ccc(O)c(O)c1  \n",
       "...                                                  ...  \n",
       "30329  CC(Cc1ccc(O)cc1)NCC(O)c1ccc(O)c(O)c1.O=C(O)c1c...  \n",
       "30330                             CNCC(SC)c1ccc(O)c(O)c1  \n",
       "30331              COc1cccc(CC(C)NCC(O)c2ccc(O)c(O)c2)c1  \n",
       "30850                        CC(C)NCC(O)c1ccc(Cl)c(Cl)c1  \n",
       "30851                CC(C)NCC(O)c1ccc(O)c(NS(C)(=O)=O)c1  \n",
       "\n",
       "[3565 rows x 2 columns]"
      ]
     },
     "execution_count": 4,
     "metadata": {},
     "output_type": "execute_result"
    }
   ],
   "source": [
    "df_pairs = pd.merge(df, df, on='assay_chembl_id')\n",
    "df_pairs = df_pairs[['stripped_smiles_x', 'stripped_smiles_y']].drop_duplicates()\n",
    "df_pairs"
   ]
  },
  {
   "cell_type": "markdown",
   "metadata": {},
   "source": [
    "### Identify all pairs"
   ]
  },
  {
   "cell_type": "code",
   "execution_count": 5,
   "metadata": {},
   "outputs": [
    {
     "name": "stderr",
     "output_type": "stream",
     "text": [
      " 25%|██▌       | 905/3565 [03:35<05:29,  8.06it/s]  WARNING:root:{\"message\": \"second molecule not found amongst products enumerated from first\"}\n",
      " 27%|██▋       | 949/3565 [03:44<04:40,  9.32it/s]WARNING:root:{\"message\": \"second molecule not found amongst products enumerated from first\"}\n",
      " 44%|████▎     | 1558/3565 [08:11<10:53,  3.07it/s]WARNING:root:{\"message\": \"second molecule not found amongst products enumerated from first\"}\n",
      " 44%|████▍     | 1560/3565 [08:13<17:32,  1.90it/s]WARNING:root:{\"message\": \"second molecule not found amongst products enumerated from first\"}\n",
      " 44%|████▍     | 1561/3565 [08:14<20:41,  1.61it/s]WARNING:root:{\"message\": \"second molecule not found amongst products enumerated from first\"}\n",
      " 79%|███████▉  | 2819/3565 [15:22<01:12, 10.24it/s]  WARNING:root:{\"message\": \"failed to find cliques in 60 seconds\"}\n",
      "100%|██████████| 3565/3565 [20:00<00:00,  2.97it/s]  \n"
     ]
    },
    {
     "data": {
      "text/html": [
       "<div>\n",
       "<style scoped>\n",
       "    .dataframe tbody tr th:only-of-type {\n",
       "        vertical-align: middle;\n",
       "    }\n",
       "\n",
       "    .dataframe tbody tr th {\n",
       "        vertical-align: top;\n",
       "    }\n",
       "\n",
       "    .dataframe thead th {\n",
       "        text-align: right;\n",
       "    }\n",
       "</style>\n",
       "<table border=\"1\" class=\"dataframe\">\n",
       "  <thead>\n",
       "    <tr style=\"text-align: right;\">\n",
       "      <th></th>\n",
       "      <th>3527</th>\n",
       "      <th>2389</th>\n",
       "      <th>1813</th>\n",
       "    </tr>\n",
       "  </thead>\n",
       "  <tbody>\n",
       "    <tr>\n",
       "      <th>smiles1</th>\n",
       "      <td>CNC[C@H](O)c1ccc(OC(=O)C(C)(C)C)c(OC(=O)C(C)(C...</td>\n",
       "      <td>CCC(NC(C)C)C(O)c1ccc(O)c(O)c1</td>\n",
       "      <td>CCNC[C@H](O)c1ccc(O)c(O)c1</td>\n",
       "    </tr>\n",
       "    <tr>\n",
       "      <th>smiles2</th>\n",
       "      <td>CNCC(O)c1ccc(O)c(O)c1</td>\n",
       "      <td>CC(C)(C)NC[C@H](O)c1ccc(O)c(CO)c1</td>\n",
       "      <td>CC[C@H](NC(C)C)[C@H](O)c1ccc(O)c(O)c1</td>\n",
       "    </tr>\n",
       "    <tr>\n",
       "      <th>fragment1</th>\n",
       "      <td>[H][C@]([OH])([CH2][NH][CH3])[c]1[cH][cH][c]([...</td>\n",
       "      <td>[CH3][CH2][CH]([NH][CH]([CH3])[CH3])[CH]([OH])...</td>\n",
       "      <td>[cH2][cH][c]([cH][cH2])[C]([OH])[CH2][NH][CH2]...</td>\n",
       "    </tr>\n",
       "    <tr>\n",
       "      <th>fragment2</th>\n",
       "      <td>[CH3][NH][CH2][CH]([OH])[c]1[cH][cH][c]([OH])[...</td>\n",
       "      <td>[H][C@]([OH])([CH2][NH][C]([CH3])([CH3])[CH3])...</td>\n",
       "      <td>[H][C@@]([CH2][CH3])([NH][CH]([CH3])[CH3])[C](...</td>\n",
       "    </tr>\n",
       "    <tr>\n",
       "      <th>percentmcs</th>\n",
       "      <td>0.384615</td>\n",
       "      <td>0.611111</td>\n",
       "      <td>0.684211</td>\n",
       "    </tr>\n",
       "    <tr>\n",
       "      <th>smirks</th>\n",
       "      <td>[#6:12](-[#7:11](-[#6:10](-[#6@:6](-[#8:13]-[H...</td>\n",
       "      <td>[#6](-[#6](-[#6:6](-[#7:7](-[#6:8](-[#6:10](-[...</td>\n",
       "      <td>[#6:15](-[#6:13](-[#7:14](-[#6:10](-[#6@:5](-[...</td>\n",
       "    </tr>\n",
       "  </tbody>\n",
       "</table>\n",
       "</div>"
      ],
      "text/plain": [
       "                                                         3527  \\\n",
       "smiles1     CNC[C@H](O)c1ccc(OC(=O)C(C)(C)C)c(OC(=O)C(C)(C...   \n",
       "smiles2                                 CNCC(O)c1ccc(O)c(O)c1   \n",
       "fragment1   [H][C@]([OH])([CH2][NH][CH3])[c]1[cH][cH][c]([...   \n",
       "fragment2   [CH3][NH][CH2][CH]([OH])[c]1[cH][cH][c]([OH])[...   \n",
       "percentmcs                                           0.384615   \n",
       "smirks      [#6:12](-[#7:11](-[#6:10](-[#6@:6](-[#8:13]-[H...   \n",
       "\n",
       "                                                         2389  \\\n",
       "smiles1                         CCC(NC(C)C)C(O)c1ccc(O)c(O)c1   \n",
       "smiles2                     CC(C)(C)NC[C@H](O)c1ccc(O)c(CO)c1   \n",
       "fragment1   [CH3][CH2][CH]([NH][CH]([CH3])[CH3])[CH]([OH])...   \n",
       "fragment2   [H][C@]([OH])([CH2][NH][C]([CH3])([CH3])[CH3])...   \n",
       "percentmcs                                           0.611111   \n",
       "smirks      [#6](-[#6](-[#6:6](-[#7:7](-[#6:8](-[#6:10](-[...   \n",
       "\n",
       "                                                         1813  \n",
       "smiles1                            CCNC[C@H](O)c1ccc(O)c(O)c1  \n",
       "smiles2                 CC[C@H](NC(C)C)[C@H](O)c1ccc(O)c(O)c1  \n",
       "fragment1   [cH2][cH][c]([cH][cH2])[C]([OH])[CH2][NH][CH2]...  \n",
       "fragment2   [H][C@@]([CH2][CH3])([NH][CH]([CH3])[CH3])[C](...  \n",
       "percentmcs                                           0.684211  \n",
       "smirks      [#6:15](-[#6:13](-[#7:14](-[#6:10](-[#6@:5](-[...  "
      ]
     },
     "execution_count": 5,
     "metadata": {},
     "output_type": "execute_result"
    }
   ],
   "source": [
    "df_pairs = df_pairs.progress_apply(lambda x: MMP(x.stripped_smiles_x, x.stripped_smiles_y, fuzziness=5).execute(), axis=1)\n",
    "df_pairs = pd.json_normalize(df_pairs)\n",
    "df_pairs.sample(3).transpose()"
   ]
  },
  {
   "cell_type": "markdown",
   "metadata": {},
   "source": [
    "### Drop failures and write output to file"
   ]
  },
  {
   "cell_type": "code",
   "execution_count": 6,
   "metadata": {},
   "outputs": [],
   "source": [
    "df_pairs = df_pairs[~pd.isna(df_pairs.smirks)]\n",
    "df_pairs.to_csv('beta2_agonists_pairs.csv', index=False)"
   ]
  },
  {
   "cell_type": "code",
   "execution_count": null,
   "metadata": {},
   "outputs": [],
   "source": []
  }
 ],
 "metadata": {
  "kernelspec": {
   "display_name": "Python 3",
   "language": "python",
   "name": "python3"
  },
  "language_info": {
   "codemirror_mode": {
    "name": "ipython",
    "version": 3
   },
   "file_extension": ".py",
   "mimetype": "text/x-python",
   "name": "python",
   "nbconvert_exporter": "python",
   "pygments_lexer": "ipython3",
   "version": "3.6.10"
  }
 },
 "nbformat": 4,
 "nbformat_minor": 4
}
