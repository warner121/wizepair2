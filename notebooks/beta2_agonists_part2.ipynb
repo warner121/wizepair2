{
 "cells": [
  {
   "cell_type": "markdown",
   "metadata": {},
   "source": [
    "## Beta-2 adrenergic receptor - part 2 (MMP identification)"
   ]
  },
  {
   "cell_type": "markdown",
   "metadata": {},
   "source": [
    "### Import libraries"
   ]
  },
  {
   "cell_type": "code",
   "execution_count": 1,
   "metadata": {},
   "outputs": [],
   "source": [
    "import pandas as pd"
   ]
  },
  {
   "cell_type": "code",
   "execution_count": 2,
   "metadata": {},
   "outputs": [],
   "source": [
    "from tqdm import tqdm\n",
    "tqdm.pandas()\n",
    "\n",
    "import sys\n",
    "sys.path.append('/home/daniel/wizepair2')\n",
    "from mmpa.mmp import MMP"
   ]
  },
  {
   "cell_type": "markdown",
   "metadata": {},
   "source": [
    "### Read in the dataset"
   ]
  },
  {
   "cell_type": "code",
   "execution_count": 3,
   "metadata": {},
   "outputs": [
    {
     "data": {
      "text/plain": [
       "7603"
      ]
     },
     "execution_count": 3,
     "metadata": {},
     "output_type": "execute_result"
    }
   ],
   "source": [
    "df = pd.read_csv('beta2_agonists_stripped.csv')\n",
    "len(df.index)"
   ]
  },
  {
   "cell_type": "markdown",
   "metadata": {},
   "source": [
    "### Create cartesian product of unique molecules tested in the same assay"
   ]
  },
  {
   "cell_type": "code",
   "execution_count": 4,
   "metadata": {},
   "outputs": [
    {
     "data": {
      "text/html": [
       "<div>\n",
       "<style scoped>\n",
       "    .dataframe tbody tr th:only-of-type {\n",
       "        vertical-align: middle;\n",
       "    }\n",
       "\n",
       "    .dataframe tbody tr th {\n",
       "        vertical-align: top;\n",
       "    }\n",
       "\n",
       "    .dataframe thead th {\n",
       "        text-align: right;\n",
       "    }\n",
       "</style>\n",
       "<table border=\"1\" class=\"dataframe\">\n",
       "  <thead>\n",
       "    <tr style=\"text-align: right;\">\n",
       "      <th></th>\n",
       "      <th>stripped_smiles_x</th>\n",
       "      <th>stripped_smiles_y</th>\n",
       "    </tr>\n",
       "  </thead>\n",
       "  <tbody>\n",
       "    <tr>\n",
       "      <th>0</th>\n",
       "      <td>COc1cc([C@H](O)CO)ccc1O</td>\n",
       "      <td>COc1cc([C@H](O)CO)ccc1O</td>\n",
       "    </tr>\n",
       "    <tr>\n",
       "      <th>1</th>\n",
       "      <td>COc1cc([C@H](O)CO)ccc1O</td>\n",
       "      <td>CC(C)(C)NC[C@H](O)c1ccc(O)c(CO)c1</td>\n",
       "    </tr>\n",
       "    <tr>\n",
       "      <th>2</th>\n",
       "      <td>COc1cc([C@H](O)CO)ccc1O</td>\n",
       "      <td>CC[C@H](NC(C)C)[C@H](O)c1ccc(O)c(O)c1</td>\n",
       "    </tr>\n",
       "    <tr>\n",
       "      <th>3</th>\n",
       "      <td>COc1cc([C@H](O)CO)ccc1O</td>\n",
       "      <td>CC(C)NC[C@H](O)c1ccc2ccccc2c1</td>\n",
       "    </tr>\n",
       "    <tr>\n",
       "      <th>5</th>\n",
       "      <td>COc1cc([C@H](O)CO)ccc1O</td>\n",
       "      <td>NC[C@H](O)c1ccc(O)c(O)c1</td>\n",
       "    </tr>\n",
       "    <tr>\n",
       "      <th>...</th>\n",
       "      <td>...</td>\n",
       "      <td>...</td>\n",
       "    </tr>\n",
       "    <tr>\n",
       "      <th>30329</th>\n",
       "      <td>COc1cccc(CC(C)NCC(O)c2ccc(O)c(O)c2)c1</td>\n",
       "      <td>CC(Cc1ccc(O)cc1)NCC(O)c1ccc(O)c(O)c1.O=C(O)c1c...</td>\n",
       "    </tr>\n",
       "    <tr>\n",
       "      <th>30330</th>\n",
       "      <td>CC(Cc1ccc(O)cc1)NCC(O)c1ccc(O)c(O)c1.O=C(O)c1c...</td>\n",
       "      <td>CNCC(SC)c1ccc(O)c(O)c1</td>\n",
       "    </tr>\n",
       "    <tr>\n",
       "      <th>30331</th>\n",
       "      <td>CC(Cc1ccc(O)cc1)NCC(O)c1ccc(O)c(O)c1.O=C(O)c1c...</td>\n",
       "      <td>COc1cccc(CC(C)NCC(O)c2ccc(O)c(O)c2)c1</td>\n",
       "    </tr>\n",
       "    <tr>\n",
       "      <th>30850</th>\n",
       "      <td>CC(C)NCC(O)c1ccc(O)c(NS(C)(=O)=O)c1</td>\n",
       "      <td>CC(C)NCC(O)c1ccc(Cl)c(Cl)c1</td>\n",
       "    </tr>\n",
       "    <tr>\n",
       "      <th>30851</th>\n",
       "      <td>CC(C)NCC(O)c1ccc(Cl)c(Cl)c1</td>\n",
       "      <td>CC(C)NCC(O)c1ccc(O)c(NS(C)(=O)=O)c1</td>\n",
       "    </tr>\n",
       "  </tbody>\n",
       "</table>\n",
       "<p>3565 rows × 2 columns</p>\n",
       "</div>"
      ],
      "text/plain": [
       "                                       stripped_smiles_x  \\\n",
       "0                                COc1cc([C@H](O)CO)ccc1O   \n",
       "1                                COc1cc([C@H](O)CO)ccc1O   \n",
       "2                                COc1cc([C@H](O)CO)ccc1O   \n",
       "3                                COc1cc([C@H](O)CO)ccc1O   \n",
       "5                                COc1cc([C@H](O)CO)ccc1O   \n",
       "...                                                  ...   \n",
       "30329              COc1cccc(CC(C)NCC(O)c2ccc(O)c(O)c2)c1   \n",
       "30330  CC(Cc1ccc(O)cc1)NCC(O)c1ccc(O)c(O)c1.O=C(O)c1c...   \n",
       "30331  CC(Cc1ccc(O)cc1)NCC(O)c1ccc(O)c(O)c1.O=C(O)c1c...   \n",
       "30850                CC(C)NCC(O)c1ccc(O)c(NS(C)(=O)=O)c1   \n",
       "30851                        CC(C)NCC(O)c1ccc(Cl)c(Cl)c1   \n",
       "\n",
       "                                       stripped_smiles_y  \n",
       "0                                COc1cc([C@H](O)CO)ccc1O  \n",
       "1                      CC(C)(C)NC[C@H](O)c1ccc(O)c(CO)c1  \n",
       "2                  CC[C@H](NC(C)C)[C@H](O)c1ccc(O)c(O)c1  \n",
       "3                          CC(C)NC[C@H](O)c1ccc2ccccc2c1  \n",
       "5                               NC[C@H](O)c1ccc(O)c(O)c1  \n",
       "...                                                  ...  \n",
       "30329  CC(Cc1ccc(O)cc1)NCC(O)c1ccc(O)c(O)c1.O=C(O)c1c...  \n",
       "30330                             CNCC(SC)c1ccc(O)c(O)c1  \n",
       "30331              COc1cccc(CC(C)NCC(O)c2ccc(O)c(O)c2)c1  \n",
       "30850                        CC(C)NCC(O)c1ccc(Cl)c(Cl)c1  \n",
       "30851                CC(C)NCC(O)c1ccc(O)c(NS(C)(=O)=O)c1  \n",
       "\n",
       "[3565 rows x 2 columns]"
      ]
     },
     "execution_count": 4,
     "metadata": {},
     "output_type": "execute_result"
    }
   ],
   "source": [
    "df_pairs = pd.merge(df, df, on='assay_chembl_id')\n",
    "df_pairs = df_pairs[['stripped_smiles_x', 'stripped_smiles_y']].drop_duplicates()\n",
    "df_pairs"
   ]
  },
  {
   "cell_type": "markdown",
   "metadata": {},
   "source": [
    "### Identify all pairs"
   ]
  },
  {
   "cell_type": "code",
   "execution_count": 5,
   "metadata": {},
   "outputs": [
    {
     "name": "stderr",
     "output_type": "stream",
     "text": [
      " 79%|███████▉  | 2819/3565 [20:44<02:41,  4.61it/s]  WARNING:root:{\"message\": \"failed to find cliques in 60 seconds\"}\n",
      "100%|██████████| 3565/3565 [26:56<00:00,  2.20it/s]  \n"
     ]
    }
   ],
   "source": [
    "df_pairs = df_pairs.progress_apply(lambda x: MMP(x.stripped_smiles_x, x.stripped_smiles_y, fuzziness=5).execute(), axis=1)"
   ]
  },
  {
   "cell_type": "code",
   "execution_count": 6,
   "metadata": {},
   "outputs": [
    {
     "data": {
      "text/html": [
       "<div>\n",
       "<style scoped>\n",
       "    .dataframe tbody tr th:only-of-type {\n",
       "        vertical-align: middle;\n",
       "    }\n",
       "\n",
       "    .dataframe tbody tr th {\n",
       "        vertical-align: top;\n",
       "    }\n",
       "\n",
       "    .dataframe thead th {\n",
       "        text-align: right;\n",
       "    }\n",
       "</style>\n",
       "<table border=\"1\" class=\"dataframe\">\n",
       "  <thead>\n",
       "    <tr style=\"text-align: right;\">\n",
       "      <th></th>\n",
       "      <th>12744</th>\n",
       "      <th>2384</th>\n",
       "      <th>6018</th>\n",
       "    </tr>\n",
       "  </thead>\n",
       "  <tbody>\n",
       "    <tr>\n",
       "      <th>smiles1</th>\n",
       "      <td>CC(C)(C)NCC(O)c1ccc(O)c(C(=O)NN)c1</td>\n",
       "      <td>COc1cc(C(O)CN)ccc1O</td>\n",
       "      <td>CC(O)c1cc(C(O)CNC(C)(C)C)ccc1O</td>\n",
       "    </tr>\n",
       "    <tr>\n",
       "      <th>smiles2</th>\n",
       "      <td>CC(C)(C)NCC(O)c1ccc(O)c(C(=O)NN)c1</td>\n",
       "      <td>COc1cc(C(O)CN)ccc1O</td>\n",
       "      <td>CC(O)c1cc(C(O)CNC(C)(C)C)ccc1O</td>\n",
       "    </tr>\n",
       "    <tr>\n",
       "      <th>percentmcs</th>\n",
       "      <td>1</td>\n",
       "      <td>1</td>\n",
       "      <td>1</td>\n",
       "    </tr>\n",
       "    <tr>\n",
       "      <th>radius</th>\n",
       "      <td>4</td>\n",
       "      <td>4</td>\n",
       "      <td>2</td>\n",
       "    </tr>\n",
       "    <tr>\n",
       "      <th>valid</th>\n",
       "      <td>False</td>\n",
       "      <td>False</td>\n",
       "      <td>False</td>\n",
       "    </tr>\n",
       "    <tr>\n",
       "      <th>smirks</th>\n",
       "      <td>&gt;&gt;</td>\n",
       "      <td>&gt;&gt;</td>\n",
       "      <td>&gt;&gt;</td>\n",
       "    </tr>\n",
       "    <tr>\n",
       "      <th>fragment1</th>\n",
       "      <td>NaN</td>\n",
       "      <td>NaN</td>\n",
       "      <td>NaN</td>\n",
       "    </tr>\n",
       "    <tr>\n",
       "      <th>fragment2</th>\n",
       "      <td>NaN</td>\n",
       "      <td>NaN</td>\n",
       "      <td>NaN</td>\n",
       "    </tr>\n",
       "  </tbody>\n",
       "</table>\n",
       "</div>"
      ],
      "text/plain": [
       "                                         12744                2384   \\\n",
       "smiles1     CC(C)(C)NCC(O)c1ccc(O)c(C(=O)NN)c1  COc1cc(C(O)CN)ccc1O   \n",
       "smiles2     CC(C)(C)NCC(O)c1ccc(O)c(C(=O)NN)c1  COc1cc(C(O)CN)ccc1O   \n",
       "percentmcs                                   1                    1   \n",
       "radius                                       4                    4   \n",
       "valid                                    False                False   \n",
       "smirks                                      >>                   >>   \n",
       "fragment1                                  NaN                  NaN   \n",
       "fragment2                                  NaN                  NaN   \n",
       "\n",
       "                                     6018   \n",
       "smiles1     CC(O)c1cc(C(O)CNC(C)(C)C)ccc1O  \n",
       "smiles2     CC(O)c1cc(C(O)CNC(C)(C)C)ccc1O  \n",
       "percentmcs                               1  \n",
       "radius                                   2  \n",
       "valid                                False  \n",
       "smirks                                  >>  \n",
       "fragment1                              NaN  \n",
       "fragment2                              NaN  "
      ]
     },
     "execution_count": 6,
     "metadata": {},
     "output_type": "execute_result"
    }
   ],
   "source": [
    "df_pairs = pd.json_normalize(df_pairs.explode())\n",
    "df_pairs.sample(3).transpose()"
   ]
  },
  {
   "cell_type": "markdown",
   "metadata": {},
   "source": [
    "### Drop failures and write output to file"
   ]
  },
  {
   "cell_type": "code",
   "execution_count": 7,
   "metadata": {},
   "outputs": [],
   "source": [
    "df_pairs = df_pairs[df_pairs.valid]\n",
    "df_pairs.to_csv('beta2_agonists_pairs.csv', index=False)"
   ]
  },
  {
   "cell_type": "code",
   "execution_count": null,
   "metadata": {},
   "outputs": [],
   "source": []
  }
 ],
 "metadata": {
  "kernelspec": {
   "display_name": "Python 3",
   "language": "python",
   "name": "python3"
  },
  "language_info": {
   "codemirror_mode": {
    "name": "ipython",
    "version": 3
   },
   "file_extension": ".py",
   "mimetype": "text/x-python",
   "name": "python",
   "nbconvert_exporter": "python",
   "pygments_lexer": "ipython3",
   "version": "3.6.10"
  }
 },
 "nbformat": 4,
 "nbformat_minor": 4
}
