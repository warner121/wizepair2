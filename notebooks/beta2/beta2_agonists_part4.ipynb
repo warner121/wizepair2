{
 "cells": [
  {
   "cell_type": "markdown",
   "metadata": {},
   "source": [
    "## Beta-2 adrenergic receptor - part 4 (library enumeration)"
   ]
  },
  {
   "cell_type": "markdown",
   "metadata": {},
   "source": [
    "### Import libraries"
   ]
  },
  {
   "cell_type": "code",
   "execution_count": 1,
   "metadata": {},
   "outputs": [],
   "source": [
    "import pandas as pd\n",
    "\n",
    "from tqdm import tqdm\n",
    "tqdm.pandas()\n",
    "\n",
    "from rdkit import Chem"
   ]
  },
  {
   "cell_type": "markdown",
   "metadata": {},
   "source": [
    "### Read in the datasets"
   ]
  },
  {
   "cell_type": "code",
   "execution_count": 2,
   "metadata": {},
   "outputs": [],
   "source": [
    "df = pd.read_csv('beta2_agonists_stripped.csv')\n",
    "df_trans = pd.read_csv('beta2_agonists_transformations.csv')"
   ]
  },
  {
   "cell_type": "markdown",
   "metadata": {},
   "source": [
    "### Take adrenaline as only seed"
   ]
  },
  {
   "cell_type": "code",
   "execution_count": 3,
   "metadata": {},
   "outputs": [],
   "source": [
    "df = df[df.stripped_smiles=='CNC[C@H](O)c1ccc(O)c(O)c1']"
   ]
  },
  {
   "cell_type": "markdown",
   "metadata": {},
   "source": [
    "### Merge on assay identifier to enumerate all seed molecule / transformation pairs"
   ]
  },
  {
   "cell_type": "code",
   "execution_count": 4,
   "metadata": {},
   "outputs": [],
   "source": [
    "df = df[pd.notna(df.pchembl_value)]"
   ]
  },
  {
   "cell_type": "markdown",
   "metadata": {},
   "source": [
    "### Apply the transformations"
   ]
  },
  {
   "cell_type": "code",
   "execution_count": 5,
   "metadata": {},
   "outputs": [],
   "source": [
    "def apply_reaction(smiles, smirks):\n",
    "    rxn = Chem.rdChemReactions.ReactionFromSmarts(smirks)\n",
    "    productset = rxn.RunReactants((Chem.AddHs(Chem.MolFromSmiles(smiles)),))\n",
    "    productlist = list()\n",
    "    for product in productset:\n",
    "        productlist.append('.'.join([Chem.MolToSmiles(Chem.RemoveHs(productpart)) for productpart in product]))\n",
    "    return list(set(productlist))"
   ]
  },
  {
   "cell_type": "markdown",
   "metadata": {},
   "source": [
    "### Generate 1st generation products"
   ]
  },
  {
   "cell_type": "code",
   "execution_count": 6,
   "metadata": {},
   "outputs": [
    {
     "name": "stderr",
     "output_type": "stream",
     "text": [
      "100%|██████████| 6738/6738 [00:03<00:00, 1874.98it/s]\n"
     ]
    }
   ],
   "source": [
    "df = df.merge(df_trans, on=['target_pref_name', 'standard_type'])\n",
    "df_seed_1 = df.progress_apply(lambda x: apply_reaction(x.stripped_smiles, x.smirks), axis=1)"
   ]
  },
  {
   "cell_type": "code",
   "execution_count": 7,
   "metadata": {},
   "outputs": [],
   "source": [
    "df_seed_1 = df.join(pd.DataFrame(df_seed_1.explode(), columns=['products']))\n",
    "df_seed_1 = df_seed_1[pd.notna(df_seed_1.products)]"
   ]
  },
  {
   "cell_type": "code",
   "execution_count": 8,
   "metadata": {},
   "outputs": [],
   "source": [
    "df_seed_1['pchembl_predicted'] = df_seed_1.pchembl_value + df_seed_1.mean_pchembl_exact_delta\n",
    "df_seed_1 = pd.pivot_table(df_seed_1, values=['pchembl_predicted'], index=['stripped_smiles',\n",
    "    'products', 'radius', 'target_pref_name', 'standard_type'], aggfunc='mean').reset_index()"
   ]
  },
  {
   "cell_type": "markdown",
   "metadata": {},
   "source": [
    "### Generate 2nd generation products"
   ]
  },
  {
   "cell_type": "code",
   "execution_count": 9,
   "metadata": {},
   "outputs": [
    {
     "name": "stderr",
     "output_type": "stream",
     "text": [
      "100%|██████████| 21453/21453 [00:17<00:00, 1194.08it/s]\n"
     ]
    }
   ],
   "source": [
    "df_seed_1 = df_seed_1.merge(df_trans, on=['target_pref_name', 'standard_type'], suffixes=['', '_2'])\n",
    "df_seed_2 = df_seed_1.progress_apply(lambda x: apply_reaction(x.products, x.smirks), axis=1)"
   ]
  },
  {
   "cell_type": "code",
   "execution_count": 10,
   "metadata": {},
   "outputs": [],
   "source": [
    "df_seed_2 = df_seed_1.join(pd.DataFrame(df_seed_2.explode(), columns=['products_2']))\n",
    "df_seed_2 = df_seed_2[pd.notna(df_seed_2.products_2)]"
   ]
  },
  {
   "cell_type": "code",
   "execution_count": 11,
   "metadata": {},
   "outputs": [],
   "source": [
    "df_seed_2['pchembl_predicted_2'] = df_seed_2.pchembl_predicted + df_seed_2.mean_pchembl_exact_delta\n",
    "df_seed_2 = pd.pivot_table(df_seed_2, values=['pchembl_predicted_2'], index=['stripped_smiles',\n",
    "    'products', 'products_2', 'radius', 'radius_2', 'target_pref_name', 'standard_type'], aggfunc='mean').reset_index()"
   ]
  },
  {
   "cell_type": "markdown",
   "metadata": {},
   "source": [
    "### Generate 3rd generation products"
   ]
  },
  {
   "cell_type": "code",
   "execution_count": 12,
   "metadata": {},
   "outputs": [
    {
     "name": "stderr",
     "output_type": "stream",
     "text": [
      "100%|██████████| 212101/212101 [03:14<00:00, 1092.52it/s]\n"
     ]
    }
   ],
   "source": [
    "df_seed_2 = df_seed_2.merge(df_trans, on=['target_pref_name', 'standard_type'], suffixes=['', '_3'])\n",
    "df_seed_3 = df_seed_2.progress_apply(lambda x: apply_reaction(x.products_2, x.smirks), axis=1)"
   ]
  },
  {
   "cell_type": "code",
   "execution_count": 13,
   "metadata": {},
   "outputs": [],
   "source": [
    "df_seed_3 = df_seed_2.join(pd.DataFrame(df_seed_3.explode(), columns=['products_3']))\n",
    "df_seed_3 = df_seed_3[pd.notna(df_seed_3.products_3)]"
   ]
  },
  {
   "cell_type": "code",
   "execution_count": 14,
   "metadata": {},
   "outputs": [],
   "source": [
    "df_seed_3['pchembl_predicted_3'] = df_seed_3.pchembl_predicted_2 + df_seed_3.mean_pchembl_exact_delta\n",
    "df_products = pd.pivot_table(df_seed_3, values=['pchembl_predicted_3'], index=['stripped_smiles',\n",
    "    'products', 'products_2', 'products_3', 'radius', 'radius_2', 'radius_3', 'target_pref_name', 'standard_type'], aggfunc='mean').reset_index()"
   ]
  },
  {
   "cell_type": "markdown",
   "metadata": {},
   "source": [
    "### Write to file"
   ]
  },
  {
   "cell_type": "code",
   "execution_count": 15,
   "metadata": {},
   "outputs": [],
   "source": [
    "df_products = df_products.reset_index()\n",
    "df_products.to_csv('beta2_agonists_products.csv', index=False)"
   ]
  },
  {
   "cell_type": "markdown",
   "metadata": {},
   "source": [
    "### ... and finaly tabulate"
   ]
  },
  {
   "cell_type": "code",
   "execution_count": 16,
   "metadata": {},
   "outputs": [],
   "source": [
    "df_holdout = pd.read_csv('beta2_agonists_stripped_holdout.csv')\n",
    "df_holdout = df_products[df_products.products_3.isin(df_holdout.stripped_smiles)]"
   ]
  },
  {
   "cell_type": "code",
   "execution_count": 17,
   "metadata": {},
   "outputs": [
    {
     "data": {
      "text/html": [
       "<div>\n",
       "<style scoped>\n",
       "    .dataframe tbody tr th:only-of-type {\n",
       "        vertical-align: middle;\n",
       "    }\n",
       "\n",
       "    .dataframe tbody tr th {\n",
       "        vertical-align: top;\n",
       "    }\n",
       "\n",
       "    .dataframe thead th {\n",
       "        text-align: right;\n",
       "    }\n",
       "</style>\n",
       "<table border=\"1\" class=\"dataframe\">\n",
       "  <thead>\n",
       "    <tr style=\"text-align: right;\">\n",
       "      <th></th>\n",
       "      <th>index</th>\n",
       "      <th>stripped_smiles</th>\n",
       "      <th>products</th>\n",
       "      <th>products_2</th>\n",
       "      <th>products_3</th>\n",
       "      <th>radius</th>\n",
       "      <th>radius_2</th>\n",
       "      <th>radius_3</th>\n",
       "      <th>target_pref_name</th>\n",
       "      <th>standard_type</th>\n",
       "      <th>pchembl_predicted_3</th>\n",
       "    </tr>\n",
       "  </thead>\n",
       "  <tbody>\n",
       "    <tr>\n",
       "      <th>14</th>\n",
       "      <td>14</td>\n",
       "      <td>CNC[C@H](O)c1ccc(O)c(O)c1</td>\n",
       "      <td>CC(C)NCC(O)c1ccc(O)c(O)c1</td>\n",
       "      <td>CC(C)(C)NCC(O)c1ccc(O)c(N)c1</td>\n",
       "      <td>CC(C)(C)NCC(O)c1ccc(O)c(CO)c1</td>\n",
       "      <td>3</td>\n",
       "      <td>3</td>\n",
       "      <td>3</td>\n",
       "      <td>Beta-2 adrenergic receptor</td>\n",
       "      <td>Kd</td>\n",
       "      <td>5.900000</td>\n",
       "    </tr>\n",
       "    <tr>\n",
       "      <th>29</th>\n",
       "      <td>29</td>\n",
       "      <td>CNC[C@H](O)c1ccc(O)c(O)c1</td>\n",
       "      <td>CC(C)NCC(O)c1ccc(O)c(O)c1</td>\n",
       "      <td>CC(C)(C)NCC(O)c1ccc(O)c(O)c1</td>\n",
       "      <td>CC(C)(C)NCC(O)c1ccc(O)c(CO)c1</td>\n",
       "      <td>3</td>\n",
       "      <td>3</td>\n",
       "      <td>3</td>\n",
       "      <td>Beta-2 adrenergic receptor</td>\n",
       "      <td>Kd</td>\n",
       "      <td>5.024444</td>\n",
       "    </tr>\n",
       "    <tr>\n",
       "      <th>42</th>\n",
       "      <td>42</td>\n",
       "      <td>CNC[C@H](O)c1ccc(O)c(O)c1</td>\n",
       "      <td>CC(C)NCC(O)c1ccc(O)c(O)c1</td>\n",
       "      <td>CC(C)(C)NCC(O)c1ccc(O)cc1</td>\n",
       "      <td>CC(C)(C)NCC(O)c1ccc(O)c(CO)c1</td>\n",
       "      <td>3</td>\n",
       "      <td>3</td>\n",
       "      <td>3</td>\n",
       "      <td>Beta-2 adrenergic receptor</td>\n",
       "      <td>Kd</td>\n",
       "      <td>6.030000</td>\n",
       "    </tr>\n",
       "    <tr>\n",
       "      <th>136</th>\n",
       "      <td>136</td>\n",
       "      <td>CNC[C@H](O)c1ccc(O)c(O)c1</td>\n",
       "      <td>CC(C)NCC(O)c1ccc(O)c(O)c1</td>\n",
       "      <td>CC(C)NCC(O)c1ccc(O)c(CO)c1</td>\n",
       "      <td>CC(C)(C)NCC(O)c1ccc(O)c(CO)c1</td>\n",
       "      <td>3</td>\n",
       "      <td>3</td>\n",
       "      <td>3</td>\n",
       "      <td>Beta-2 adrenergic receptor</td>\n",
       "      <td>Kd</td>\n",
       "      <td>5.024444</td>\n",
       "    </tr>\n",
       "    <tr>\n",
       "      <th>163</th>\n",
       "      <td>163</td>\n",
       "      <td>CNC[C@H](O)c1ccc(O)c(O)c1</td>\n",
       "      <td>CC(C)NCC(O)c1ccc(O)c(O)c1</td>\n",
       "      <td>CC(C)NCC(O)c1ccc(O)c(O)c1</td>\n",
       "      <td>CC(C)(C)NCC(O)c1ccc(O)c(CO)c1</td>\n",
       "      <td>3</td>\n",
       "      <td>3</td>\n",
       "      <td>3</td>\n",
       "      <td>Beta-2 adrenergic receptor</td>\n",
       "      <td>EC50</td>\n",
       "      <td>8.377998</td>\n",
       "    </tr>\n",
       "    <tr>\n",
       "      <th>164</th>\n",
       "      <td>164</td>\n",
       "      <td>CNC[C@H](O)c1ccc(O)c(O)c1</td>\n",
       "      <td>CC(C)NCC(O)c1ccc(O)c(O)c1</td>\n",
       "      <td>CC(C)NCC(O)c1ccc(O)c(O)c1</td>\n",
       "      <td>CC(C)(C)NCC(O)c1ccc(O)c(CO)c1</td>\n",
       "      <td>3</td>\n",
       "      <td>3</td>\n",
       "      <td>3</td>\n",
       "      <td>Beta-2 adrenergic receptor</td>\n",
       "      <td>Ki</td>\n",
       "      <td>5.358000</td>\n",
       "    </tr>\n",
       "    <tr>\n",
       "      <th>165</th>\n",
       "      <td>165</td>\n",
       "      <td>CNC[C@H](O)c1ccc(O)c(O)c1</td>\n",
       "      <td>CC(C)NCC(O)c1ccc(O)c(O)c1</td>\n",
       "      <td>CC(C)NCC(O)c1ccc(O)c(O)c1</td>\n",
       "      <td>CC(C)(C)NCC(O)c1ccc(O)c(CO)c1</td>\n",
       "      <td>3</td>\n",
       "      <td>3</td>\n",
       "      <td>3</td>\n",
       "      <td>Thyroid stimulating hormone receptor</td>\n",
       "      <td>Potency</td>\n",
       "      <td>6.042857</td>\n",
       "    </tr>\n",
       "    <tr>\n",
       "      <th>1456</th>\n",
       "      <td>1456</td>\n",
       "      <td>CNC[C@H](O)c1ccc(O)c(O)c1</td>\n",
       "      <td>CC(C)NC[C@@H](O)c1ccc(O)c(O)c1</td>\n",
       "      <td>CC(C)NCC(O)c1ccc(O)c(O)c1</td>\n",
       "      <td>CC(C)(C)NCC(O)c1ccc(O)c(CO)c1</td>\n",
       "      <td>3</td>\n",
       "      <td>3</td>\n",
       "      <td>3</td>\n",
       "      <td>Beta-2 adrenergic receptor</td>\n",
       "      <td>EC50</td>\n",
       "      <td>6.809080</td>\n",
       "    </tr>\n",
       "    <tr>\n",
       "      <th>1457</th>\n",
       "      <td>1457</td>\n",
       "      <td>CNC[C@H](O)c1ccc(O)c(O)c1</td>\n",
       "      <td>CC(C)NC[C@@H](O)c1ccc(O)c(O)c1</td>\n",
       "      <td>CC(C)NCC(O)c1ccc(O)c(O)c1</td>\n",
       "      <td>CC(C)(C)NCC(O)c1ccc(O)c(CO)c1</td>\n",
       "      <td>3</td>\n",
       "      <td>3</td>\n",
       "      <td>3</td>\n",
       "      <td>Beta-2 adrenergic receptor</td>\n",
       "      <td>Ki</td>\n",
       "      <td>5.987667</td>\n",
       "    </tr>\n",
       "    <tr>\n",
       "      <th>2554</th>\n",
       "      <td>2554</td>\n",
       "      <td>CNC[C@H](O)c1ccc(O)c(O)c1</td>\n",
       "      <td>CC(C)NC[C@H](O)c1ccc(O)c(O)c1</td>\n",
       "      <td>CC(C)NCC(O)c1ccc(O)c(O)c1</td>\n",
       "      <td>CC(C)(C)NCC(O)c1ccc(O)c(CO)c1</td>\n",
       "      <td>3</td>\n",
       "      <td>3</td>\n",
       "      <td>3</td>\n",
       "      <td>Beta-2 adrenergic receptor</td>\n",
       "      <td>EC50</td>\n",
       "      <td>9.167552</td>\n",
       "    </tr>\n",
       "    <tr>\n",
       "      <th>2555</th>\n",
       "      <td>2555</td>\n",
       "      <td>CNC[C@H](O)c1ccc(O)c(O)c1</td>\n",
       "      <td>CC(C)NC[C@H](O)c1ccc(O)c(O)c1</td>\n",
       "      <td>CC(C)NCC(O)c1ccc(O)c(O)c1</td>\n",
       "      <td>CC(C)(C)NCC(O)c1ccc(O)c(CO)c1</td>\n",
       "      <td>3</td>\n",
       "      <td>3</td>\n",
       "      <td>3</td>\n",
       "      <td>Beta-2 adrenergic receptor</td>\n",
       "      <td>Ki</td>\n",
       "      <td>5.131667</td>\n",
       "    </tr>\n",
       "    <tr>\n",
       "      <th>2556</th>\n",
       "      <td>2556</td>\n",
       "      <td>CNC[C@H](O)c1ccc(O)c(O)c1</td>\n",
       "      <td>CC(C)NC[C@H](O)c1ccc(O)c(O)c1</td>\n",
       "      <td>CC(C)NCC(O)c1ccc(O)c(O)c1</td>\n",
       "      <td>CC(C)(C)NCC(O)c1ccc(O)c(CO)c1</td>\n",
       "      <td>3</td>\n",
       "      <td>3</td>\n",
       "      <td>3</td>\n",
       "      <td>Thyroid stimulating hormone receptor</td>\n",
       "      <td>Potency</td>\n",
       "      <td>6.114286</td>\n",
       "    </tr>\n",
       "    <tr>\n",
       "      <th>5391</th>\n",
       "      <td>5391</td>\n",
       "      <td>CNC[C@H](O)c1ccc(O)c(O)c1</td>\n",
       "      <td>CNCC(O)c1cc(O)c(O)cc1F</td>\n",
       "      <td>CC(C)NCC(O)c1ccc(O)c(O)c1</td>\n",
       "      <td>CC(C)(C)NCC(O)c1ccc(O)c(CO)c1</td>\n",
       "      <td>3</td>\n",
       "      <td>3</td>\n",
       "      <td>3</td>\n",
       "      <td>Beta-2 adrenergic receptor</td>\n",
       "      <td>Ki</td>\n",
       "      <td>5.600500</td>\n",
       "    </tr>\n",
       "    <tr>\n",
       "      <th>6235</th>\n",
       "      <td>6235</td>\n",
       "      <td>CNC[C@H](O)c1ccc(O)c(O)c1</td>\n",
       "      <td>CNCC(O)c1ccc(O)c(O)c1</td>\n",
       "      <td>CC(C)NCC(O)c1ccc(O)c(O)c1</td>\n",
       "      <td>CC(C)(C)NCC(O)c1ccc(O)c(CO)c1</td>\n",
       "      <td>3</td>\n",
       "      <td>3</td>\n",
       "      <td>3</td>\n",
       "      <td>Beta-2 adrenergic receptor</td>\n",
       "      <td>EC50</td>\n",
       "      <td>8.470052</td>\n",
       "    </tr>\n",
       "    <tr>\n",
       "      <th>6236</th>\n",
       "      <td>6236</td>\n",
       "      <td>CNC[C@H](O)c1ccc(O)c(O)c1</td>\n",
       "      <td>CNCC(O)c1ccc(O)c(O)c1</td>\n",
       "      <td>CC(C)NCC(O)c1ccc(O)c(O)c1</td>\n",
       "      <td>CC(C)(C)NCC(O)c1ccc(O)c(CO)c1</td>\n",
       "      <td>3</td>\n",
       "      <td>3</td>\n",
       "      <td>3</td>\n",
       "      <td>Beta-2 adrenergic receptor</td>\n",
       "      <td>Ki</td>\n",
       "      <td>5.458833</td>\n",
       "    </tr>\n",
       "    <tr>\n",
       "      <th>6237</th>\n",
       "      <td>6237</td>\n",
       "      <td>CNC[C@H](O)c1ccc(O)c(O)c1</td>\n",
       "      <td>CNCC(O)c1ccc(O)c(O)c1</td>\n",
       "      <td>CC(C)NCC(O)c1ccc(O)c(O)c1</td>\n",
       "      <td>CC(C)(C)NCC(O)c1ccc(O)c(CO)c1</td>\n",
       "      <td>3</td>\n",
       "      <td>3</td>\n",
       "      <td>3</td>\n",
       "      <td>Thyroid stimulating hormone receptor</td>\n",
       "      <td>Potency</td>\n",
       "      <td>6.078571</td>\n",
       "    </tr>\n",
       "    <tr>\n",
       "      <th>7779</th>\n",
       "      <td>7779</td>\n",
       "      <td>CNC[C@H](O)c1ccc(O)c(O)c1</td>\n",
       "      <td>CNCC(O)c1ccc(O)c(O)c1F</td>\n",
       "      <td>CC(C)NCC(O)c1ccc(O)c(O)c1</td>\n",
       "      <td>CC(C)(C)NCC(O)c1ccc(O)c(CO)c1</td>\n",
       "      <td>3</td>\n",
       "      <td>3</td>\n",
       "      <td>3</td>\n",
       "      <td>Beta-2 adrenergic receptor</td>\n",
       "      <td>Ki</td>\n",
       "      <td>5.470500</td>\n",
       "    </tr>\n",
       "    <tr>\n",
       "      <th>9779</th>\n",
       "      <td>9779</td>\n",
       "      <td>CNC[C@H](O)c1ccc(O)c(O)c1</td>\n",
       "      <td>CNC[C@@H](O)c1ccc(O)c(O)c1</td>\n",
       "      <td>CC(C)NCC(O)c1ccc(O)c(O)c1</td>\n",
       "      <td>CC(C)(C)NCC(O)c1ccc(O)c(CO)c1</td>\n",
       "      <td>3</td>\n",
       "      <td>3</td>\n",
       "      <td>3</td>\n",
       "      <td>Beta-2 adrenergic receptor</td>\n",
       "      <td>EC50</td>\n",
       "      <td>6.698472</td>\n",
       "    </tr>\n",
       "    <tr>\n",
       "      <th>9780</th>\n",
       "      <td>9780</td>\n",
       "      <td>CNC[C@H](O)c1ccc(O)c(O)c1</td>\n",
       "      <td>CNC[C@@H](O)c1ccc(O)c(O)c1</td>\n",
       "      <td>CC(C)NCC(O)c1ccc(O)c(O)c1</td>\n",
       "      <td>CC(C)(C)NCC(O)c1ccc(O)c(CO)c1</td>\n",
       "      <td>3</td>\n",
       "      <td>3</td>\n",
       "      <td>3</td>\n",
       "      <td>Beta-2 adrenergic receptor</td>\n",
       "      <td>Ki</td>\n",
       "      <td>5.559667</td>\n",
       "    </tr>\n",
       "    <tr>\n",
       "      <th>13277</th>\n",
       "      <td>13277</td>\n",
       "      <td>CNC[C@H](O)c1ccc(O)c(O)c1</td>\n",
       "      <td>CNC[C@H](O)c1ccc(O)c(CO)c1</td>\n",
       "      <td>CC(C)NCC(O)c1ccc(O)c(CO)c1</td>\n",
       "      <td>CC(C)(C)NCC(O)c1ccc(O)c(CO)c1</td>\n",
       "      <td>3</td>\n",
       "      <td>3</td>\n",
       "      <td>3</td>\n",
       "      <td>Beta-2 adrenergic receptor</td>\n",
       "      <td>Kd</td>\n",
       "      <td>5.024444</td>\n",
       "    </tr>\n",
       "    <tr>\n",
       "      <th>13445</th>\n",
       "      <td>13445</td>\n",
       "      <td>CNC[C@H](O)c1ccc(O)c(O)c1</td>\n",
       "      <td>CNC[C@H](O)c1ccc(O)c(O)c1</td>\n",
       "      <td>CC(C)NCC(O)c1ccc(O)c(O)c1</td>\n",
       "      <td>CC(C)(C)NCC(O)c1ccc(O)c(CO)c1</td>\n",
       "      <td>3</td>\n",
       "      <td>3</td>\n",
       "      <td>3</td>\n",
       "      <td>Beta-2 adrenergic receptor</td>\n",
       "      <td>EC50</td>\n",
       "      <td>7.440729</td>\n",
       "    </tr>\n",
       "    <tr>\n",
       "      <th>13446</th>\n",
       "      <td>13446</td>\n",
       "      <td>CNC[C@H](O)c1ccc(O)c(O)c1</td>\n",
       "      <td>CNC[C@H](O)c1ccc(O)c(O)c1</td>\n",
       "      <td>CC(C)NCC(O)c1ccc(O)c(O)c1</td>\n",
       "      <td>CC(C)(C)NCC(O)c1ccc(O)c(CO)c1</td>\n",
       "      <td>3</td>\n",
       "      <td>3</td>\n",
       "      <td>3</td>\n",
       "      <td>Beta-2 adrenergic receptor</td>\n",
       "      <td>Ki</td>\n",
       "      <td>5.761333</td>\n",
       "    </tr>\n",
       "    <tr>\n",
       "      <th>13447</th>\n",
       "      <td>13447</td>\n",
       "      <td>CNC[C@H](O)c1ccc(O)c(O)c1</td>\n",
       "      <td>CNC[C@H](O)c1ccc(O)c(O)c1</td>\n",
       "      <td>CC(C)NCC(O)c1ccc(O)c(O)c1</td>\n",
       "      <td>CC(C)(C)NCC(O)c1ccc(O)c(CO)c1</td>\n",
       "      <td>3</td>\n",
       "      <td>3</td>\n",
       "      <td>3</td>\n",
       "      <td>Thyroid stimulating hormone receptor</td>\n",
       "      <td>Potency</td>\n",
       "      <td>6.185714</td>\n",
       "    </tr>\n",
       "  </tbody>\n",
       "</table>\n",
       "</div>"
      ],
      "text/plain": [
       "       index            stripped_smiles                        products  \\\n",
       "14        14  CNC[C@H](O)c1ccc(O)c(O)c1       CC(C)NCC(O)c1ccc(O)c(O)c1   \n",
       "29        29  CNC[C@H](O)c1ccc(O)c(O)c1       CC(C)NCC(O)c1ccc(O)c(O)c1   \n",
       "42        42  CNC[C@H](O)c1ccc(O)c(O)c1       CC(C)NCC(O)c1ccc(O)c(O)c1   \n",
       "136      136  CNC[C@H](O)c1ccc(O)c(O)c1       CC(C)NCC(O)c1ccc(O)c(O)c1   \n",
       "163      163  CNC[C@H](O)c1ccc(O)c(O)c1       CC(C)NCC(O)c1ccc(O)c(O)c1   \n",
       "164      164  CNC[C@H](O)c1ccc(O)c(O)c1       CC(C)NCC(O)c1ccc(O)c(O)c1   \n",
       "165      165  CNC[C@H](O)c1ccc(O)c(O)c1       CC(C)NCC(O)c1ccc(O)c(O)c1   \n",
       "1456    1456  CNC[C@H](O)c1ccc(O)c(O)c1  CC(C)NC[C@@H](O)c1ccc(O)c(O)c1   \n",
       "1457    1457  CNC[C@H](O)c1ccc(O)c(O)c1  CC(C)NC[C@@H](O)c1ccc(O)c(O)c1   \n",
       "2554    2554  CNC[C@H](O)c1ccc(O)c(O)c1   CC(C)NC[C@H](O)c1ccc(O)c(O)c1   \n",
       "2555    2555  CNC[C@H](O)c1ccc(O)c(O)c1   CC(C)NC[C@H](O)c1ccc(O)c(O)c1   \n",
       "2556    2556  CNC[C@H](O)c1ccc(O)c(O)c1   CC(C)NC[C@H](O)c1ccc(O)c(O)c1   \n",
       "5391    5391  CNC[C@H](O)c1ccc(O)c(O)c1          CNCC(O)c1cc(O)c(O)cc1F   \n",
       "6235    6235  CNC[C@H](O)c1ccc(O)c(O)c1           CNCC(O)c1ccc(O)c(O)c1   \n",
       "6236    6236  CNC[C@H](O)c1ccc(O)c(O)c1           CNCC(O)c1ccc(O)c(O)c1   \n",
       "6237    6237  CNC[C@H](O)c1ccc(O)c(O)c1           CNCC(O)c1ccc(O)c(O)c1   \n",
       "7779    7779  CNC[C@H](O)c1ccc(O)c(O)c1          CNCC(O)c1ccc(O)c(O)c1F   \n",
       "9779    9779  CNC[C@H](O)c1ccc(O)c(O)c1      CNC[C@@H](O)c1ccc(O)c(O)c1   \n",
       "9780    9780  CNC[C@H](O)c1ccc(O)c(O)c1      CNC[C@@H](O)c1ccc(O)c(O)c1   \n",
       "13277  13277  CNC[C@H](O)c1ccc(O)c(O)c1      CNC[C@H](O)c1ccc(O)c(CO)c1   \n",
       "13445  13445  CNC[C@H](O)c1ccc(O)c(O)c1       CNC[C@H](O)c1ccc(O)c(O)c1   \n",
       "13446  13446  CNC[C@H](O)c1ccc(O)c(O)c1       CNC[C@H](O)c1ccc(O)c(O)c1   \n",
       "13447  13447  CNC[C@H](O)c1ccc(O)c(O)c1       CNC[C@H](O)c1ccc(O)c(O)c1   \n",
       "\n",
       "                         products_2                     products_3  radius  \\\n",
       "14     CC(C)(C)NCC(O)c1ccc(O)c(N)c1  CC(C)(C)NCC(O)c1ccc(O)c(CO)c1       3   \n",
       "29     CC(C)(C)NCC(O)c1ccc(O)c(O)c1  CC(C)(C)NCC(O)c1ccc(O)c(CO)c1       3   \n",
       "42        CC(C)(C)NCC(O)c1ccc(O)cc1  CC(C)(C)NCC(O)c1ccc(O)c(CO)c1       3   \n",
       "136      CC(C)NCC(O)c1ccc(O)c(CO)c1  CC(C)(C)NCC(O)c1ccc(O)c(CO)c1       3   \n",
       "163       CC(C)NCC(O)c1ccc(O)c(O)c1  CC(C)(C)NCC(O)c1ccc(O)c(CO)c1       3   \n",
       "164       CC(C)NCC(O)c1ccc(O)c(O)c1  CC(C)(C)NCC(O)c1ccc(O)c(CO)c1       3   \n",
       "165       CC(C)NCC(O)c1ccc(O)c(O)c1  CC(C)(C)NCC(O)c1ccc(O)c(CO)c1       3   \n",
       "1456      CC(C)NCC(O)c1ccc(O)c(O)c1  CC(C)(C)NCC(O)c1ccc(O)c(CO)c1       3   \n",
       "1457      CC(C)NCC(O)c1ccc(O)c(O)c1  CC(C)(C)NCC(O)c1ccc(O)c(CO)c1       3   \n",
       "2554      CC(C)NCC(O)c1ccc(O)c(O)c1  CC(C)(C)NCC(O)c1ccc(O)c(CO)c1       3   \n",
       "2555      CC(C)NCC(O)c1ccc(O)c(O)c1  CC(C)(C)NCC(O)c1ccc(O)c(CO)c1       3   \n",
       "2556      CC(C)NCC(O)c1ccc(O)c(O)c1  CC(C)(C)NCC(O)c1ccc(O)c(CO)c1       3   \n",
       "5391      CC(C)NCC(O)c1ccc(O)c(O)c1  CC(C)(C)NCC(O)c1ccc(O)c(CO)c1       3   \n",
       "6235      CC(C)NCC(O)c1ccc(O)c(O)c1  CC(C)(C)NCC(O)c1ccc(O)c(CO)c1       3   \n",
       "6236      CC(C)NCC(O)c1ccc(O)c(O)c1  CC(C)(C)NCC(O)c1ccc(O)c(CO)c1       3   \n",
       "6237      CC(C)NCC(O)c1ccc(O)c(O)c1  CC(C)(C)NCC(O)c1ccc(O)c(CO)c1       3   \n",
       "7779      CC(C)NCC(O)c1ccc(O)c(O)c1  CC(C)(C)NCC(O)c1ccc(O)c(CO)c1       3   \n",
       "9779      CC(C)NCC(O)c1ccc(O)c(O)c1  CC(C)(C)NCC(O)c1ccc(O)c(CO)c1       3   \n",
       "9780      CC(C)NCC(O)c1ccc(O)c(O)c1  CC(C)(C)NCC(O)c1ccc(O)c(CO)c1       3   \n",
       "13277    CC(C)NCC(O)c1ccc(O)c(CO)c1  CC(C)(C)NCC(O)c1ccc(O)c(CO)c1       3   \n",
       "13445     CC(C)NCC(O)c1ccc(O)c(O)c1  CC(C)(C)NCC(O)c1ccc(O)c(CO)c1       3   \n",
       "13446     CC(C)NCC(O)c1ccc(O)c(O)c1  CC(C)(C)NCC(O)c1ccc(O)c(CO)c1       3   \n",
       "13447     CC(C)NCC(O)c1ccc(O)c(O)c1  CC(C)(C)NCC(O)c1ccc(O)c(CO)c1       3   \n",
       "\n",
       "       radius_2  radius_3                      target_pref_name standard_type  \\\n",
       "14            3         3            Beta-2 adrenergic receptor            Kd   \n",
       "29            3         3            Beta-2 adrenergic receptor            Kd   \n",
       "42            3         3            Beta-2 adrenergic receptor            Kd   \n",
       "136           3         3            Beta-2 adrenergic receptor            Kd   \n",
       "163           3         3            Beta-2 adrenergic receptor          EC50   \n",
       "164           3         3            Beta-2 adrenergic receptor            Ki   \n",
       "165           3         3  Thyroid stimulating hormone receptor       Potency   \n",
       "1456          3         3            Beta-2 adrenergic receptor          EC50   \n",
       "1457          3         3            Beta-2 adrenergic receptor            Ki   \n",
       "2554          3         3            Beta-2 adrenergic receptor          EC50   \n",
       "2555          3         3            Beta-2 adrenergic receptor            Ki   \n",
       "2556          3         3  Thyroid stimulating hormone receptor       Potency   \n",
       "5391          3         3            Beta-2 adrenergic receptor            Ki   \n",
       "6235          3         3            Beta-2 adrenergic receptor          EC50   \n",
       "6236          3         3            Beta-2 adrenergic receptor            Ki   \n",
       "6237          3         3  Thyroid stimulating hormone receptor       Potency   \n",
       "7779          3         3            Beta-2 adrenergic receptor            Ki   \n",
       "9779          3         3            Beta-2 adrenergic receptor          EC50   \n",
       "9780          3         3            Beta-2 adrenergic receptor            Ki   \n",
       "13277         3         3            Beta-2 adrenergic receptor            Kd   \n",
       "13445         3         3            Beta-2 adrenergic receptor          EC50   \n",
       "13446         3         3            Beta-2 adrenergic receptor            Ki   \n",
       "13447         3         3  Thyroid stimulating hormone receptor       Potency   \n",
       "\n",
       "       pchembl_predicted_3  \n",
       "14                5.900000  \n",
       "29                5.024444  \n",
       "42                6.030000  \n",
       "136               5.024444  \n",
       "163               8.377998  \n",
       "164               5.358000  \n",
       "165               6.042857  \n",
       "1456              6.809080  \n",
       "1457              5.987667  \n",
       "2554              9.167552  \n",
       "2555              5.131667  \n",
       "2556              6.114286  \n",
       "5391              5.600500  \n",
       "6235              8.470052  \n",
       "6236              5.458833  \n",
       "6237              6.078571  \n",
       "7779              5.470500  \n",
       "9779              6.698472  \n",
       "9780              5.559667  \n",
       "13277             5.024444  \n",
       "13445             7.440729  \n",
       "13446             5.761333  \n",
       "13447             6.185714  "
      ]
     },
     "execution_count": 17,
     "metadata": {},
     "output_type": "execute_result"
    }
   ],
   "source": [
    "df_holdout"
   ]
  },
  {
   "cell_type": "code",
   "execution_count": 18,
   "metadata": {},
   "outputs": [
    {
     "data": {
      "image/png": "[encoded data removed]",
      "text/plain": [
       "<rdkit.Chem.rdchem.Mol at 0x7f9d58c319e0>"
      ]
     },
     "execution_count": 18,
     "metadata": {},
     "output_type": "execute_result"
    }
   ],
   "source": [
    "Chem.MolFromSmiles('CNC[C@H](O)c1ccc(O)c(O)c1')"
   ]
  },
  {
   "cell_type": "code",
   "execution_count": 19,
   "metadata": {},
   "outputs": [
    {
     "data": {
      "image/png": "[encoded data removed]",
      "text/plain": [
       "<rdkit.Chem.rdchem.Mol at 0x7f9d58c31da0>"
      ]
     },
     "execution_count": 19,
     "metadata": {},
     "output_type": "execute_result"
    }
   ],
   "source": [
    "Chem.MolFromSmiles('CNC[C@H](O)c1ccc(O)c(CO)c1')"
   ]
  },
  {
   "cell_type": "code",
   "execution_count": 20,
   "metadata": {},
   "outputs": [
    {
     "data": {
      "image/png": "[encoded data removed]",
      "text/plain": [
       "<rdkit.Chem.rdchem.Mol at 0x7f9d58c31ee0>"
      ]
     },
     "execution_count": 20,
     "metadata": {},
     "output_type": "execute_result"
    }
   ],
   "source": [
    "Chem.MolFromSmiles('CC(C)NCC(O)c1ccc(O)c(CO)c1')"
   ]
  },
  {
   "cell_type": "code",
   "execution_count": 21,
   "metadata": {},
   "outputs": [
    {
     "data": {
      "image/png": "[encoded data removed]",
      "text/plain": [
       "<rdkit.Chem.rdchem.Mol at 0x7f9d58c317b0>"
      ]
     },
     "execution_count": 21,
     "metadata": {},
     "output_type": "execute_result"
    }
   ],
   "source": [
    "Chem.MolFromSmiles('CC(C)(C)NCC(O)c1ccc(O)c(CO)c1')"
   ]
  },
  {
   "cell_type": "code",
   "execution_count": null,
   "metadata": {},
   "outputs": [],
   "source": []
  }
 ],
 "metadata": {
  "kernelspec": {
   "display_name": "Python 3",
   "language": "python",
   "name": "python3"
  },
  "language_info": {
   "codemirror_mode": {
    "name": "ipython",
    "version": 3
   },
   "file_extension": ".py",
   "mimetype": "text/x-python",
   "name": "python",
   "nbconvert_exporter": "python",
   "pygments_lexer": "ipython3",
   "version": "3.6.10"
  }
 },
 "nbformat": 4,
 "nbformat_minor": 4
}
