{
 "cells": [
  {
   "cell_type": "markdown",
   "metadata": {},
   "source": [
    "## Beta-2 adrenergic receptor - part 4 (library enumeration)"
   ]
  },
  {
   "cell_type": "markdown",
   "metadata": {},
   "source": [
    "### Import libraries"
   ]
  },
  {
   "cell_type": "code",
   "execution_count": 1,
   "metadata": {},
   "outputs": [
    {
     "name": "stdout",
     "output_type": "stream",
     "text": [
      "INFO: Pandarallel will run on 12 workers.\n",
      "INFO: Pandarallel will use Memory file system to transfer data between the main process and workers.\n"
     ]
    }
   ],
   "source": [
    "import pandas as pd\n",
    "\n",
    "from pandarallel import pandarallel\n",
    "pandarallel.initialize()\n",
    "\n",
    "import sys\n",
    "sys.path.append('/home/daniel/wizepair2')\n",
    "from mmpa.chem import strip_stereo\n",
    "from mmpa.mmp import Reactor\n",
    "\n",
    "from rdkit import Chem"
   ]
  },
  {
   "cell_type": "markdown",
   "metadata": {},
   "source": [
    "### Read in the datasets"
   ]
  },
  {
   "cell_type": "code",
   "execution_count": 2,
   "metadata": {},
   "outputs": [],
   "source": [
    "df = pd.read_csv('beta2_agonists_stripped.csv')\n",
    "df_trans = pd.read_csv('beta2_agonists_transformations.csv')\n",
    "df_holdout = pd.read_csv('beta2_agonists_stripped_holdout.csv')"
   ]
  },
  {
   "cell_type": "markdown",
   "metadata": {},
   "source": [
    "### Take adrenaline as only seed"
   ]
  },
  {
   "cell_type": "code",
   "execution_count": 3,
   "metadata": {},
   "outputs": [],
   "source": [
    "df = df[df.stripped_smiles=='CNC[C@H](O)c1ccc(O)c(O)c1']"
   ]
  },
  {
   "cell_type": "markdown",
   "metadata": {},
   "source": [
    "### Merge on assay identifier to enumerate all seed molecule / transformation pairs"
   ]
  },
  {
   "cell_type": "code",
   "execution_count": 4,
   "metadata": {},
   "outputs": [],
   "source": [
    "df = df[pd.notna(df.pchembl_value)]"
   ]
  },
  {
   "cell_type": "markdown",
   "metadata": {},
   "source": [
    "### Apply the transformations"
   ]
  },
  {
   "cell_type": "code",
   "execution_count": 5,
   "metadata": {},
   "outputs": [],
   "source": [
    "def enumerate_recursive(df: pd.DataFrame(), df_trans: pd.DataFrame(), generations=1, hits=None):\n",
    "    \n",
    "    if generations > 0: \n",
    "    \n",
    "        # merge with transformations and enumerate products\n",
    "        print('Generations {}: inital frame - {}'.format(generations, len(df.index)))\n",
    "        df_unique = df[['stripped_smiles', 'target_pref_name', 'standard_type']].drop_duplicates()\n",
    "        print('Generations {}: deduped seeds / property pairs - {}'.format(generations, len(df_unique.index)))\n",
    "        df_unique = df_unique.merge(df_trans, on=['target_pref_name', 'standard_type'])\n",
    "        print('Generations {}: potential seed / transformation pairs - {}'.format(generations, len(df_unique.index)))\n",
    "        df_product = df_unique.sample(frac=1).parallel_apply(lambda x: Reactor(x.smirks).generate_products(x.stripped_smiles), axis=1)\n",
    "\n",
    "        # fan out individual products\n",
    "        df_product = df_unique.join(pd.DataFrame(df_product.explode(), columns=['products']))\n",
    "        print('Generations {}: raw products - {}'.format(generations, len(df_product.index)))\n",
    "        df_product = df_product[pd.notna(df_product.products)]\n",
    "        print('Generations {}: non-null products - {}'.format(generations, len(df_product.index)))\n",
    "        df_product = df.merge(df_product, on=['stripped_smiles', 'target_pref_name', 'standard_type'])\n",
    "        print('Generations {}: final product / prediction pairs - {}'.format(generations, len(df_product.index)))\n",
    "\n",
    "        # detect if target has been identified\n",
    "        df_product['achiral_smiles'] = df_product.products.parallel_apply(strip_stereo)\n",
    "        if df_product.achiral_smiles.isin(hits).any(): print('hit!')\n",
    "                \n",
    "        # trail tracking\n",
    "        df_product['generation'] = generations\n",
    "        if all(elem in df_product.columns for elem in ['last_smiles', 'min_pchembl_value', 'min_mean_percentmcs', 'max_radius']): \n",
    "            df_product.last_smiles = df_product.last_smiles + '.' + df_product.stripped_smiles\n",
    "            df_product.min_pchembl_value = df_product[['min_pchembl_value', 'pchembl_value']].min(axis=1)\n",
    "            df_product.min_mean_percentmcs = df_product[['min_mean_percentmcs', 'mean_percentmcs']].min(axis=1)\n",
    "            df_product.max_radius = df_product[['max_radius', 'radius']].max(axis=1)\n",
    "        else: \n",
    "            df_product['last_smiles'] = df_product.stripped_smiles\n",
    "            df_product['min_pchembl_value'] = df_product.pchembl_value\n",
    "            df_product['min_mean_percentmcs'] = df_product.mean_percentmcs\n",
    "            df_product['max_radius'] = df_product.radius\n",
    "            \n",
    "        # update seed paramters\n",
    "        df_product.stripped_smiles = df_product.products\n",
    "        df_product.pchembl_value = df_product.pchembl_value + df_product.mean_pchembl_exact_delta\n",
    "        \n",
    "        # filter columns\n",
    "        df_product = df_product[['generation', 'last_smiles', 'min_pchembl_value', 'min_mean_percentmcs', 'max_radius',\n",
    "                                 'stripped_smiles', 'target_pref_name', 'standard_type', 'pchembl_value']]\n",
    "        \n",
    "        # filter rows\n",
    "        df_product.drop_duplicates(inplace=True)\n",
    "\n",
    "        # increment counter and yield\n",
    "        generations -= 1\n",
    "        yield df_product\n",
    "        yield from enumerate_recursive(df_product, df_trans, generations, hits)\n"
   ]
  },
  {
   "cell_type": "code",
   "execution_count": 6,
   "metadata": {},
   "outputs": [],
   "source": [
    "df_products = enumerate_recursive(df, df_trans, 3, df_holdout.achiral_smiles.unique())"
   ]
  },
  {
   "cell_type": "code",
   "execution_count": 7,
   "metadata": {},
   "outputs": [
    {
     "name": "stdout",
     "output_type": "stream",
     "text": [
      "Generations 3: inital frame - 137\n",
      "Generations 3: deduped seeds / property pairs - 68\n",
      "Generations 3: potential seed / transformation pairs - 10321\n",
      "Generations 3: raw products - 10338\n",
      "Generations 3: non-null products - 1843\n",
      "Generations 3: final product / prediction pairs - 5923\n",
      "Generations 2: inital frame - 4813\n",
      "Generations 2: deduped seeds / property pairs - 539\n",
      "Generations 2: potential seed / transformation pairs - 180836\n",
      "Generations 2: raw products - 180977\n",
      "Generations 2: non-null products - 26627\n",
      "Generations 2: final product / prediction pairs - 321345\n",
      "hit!\n",
      "Generations 1: inital frame - 146306\n",
      "Generations 1: deduped seeds / property pairs - 1593\n",
      "Generations 1: potential seed / transformation pairs - 658186\n",
      "Generations 1: raw products - 658453\n",
      "Generations 1: non-null products - 64471\n",
      "Generations 1: final product / prediction pairs - 10903165\n",
      "hit!\n"
     ]
    }
   ],
   "source": [
    "df_products = pd.concat([x for x in df_products])"
   ]
  },
  {
   "cell_type": "code",
   "execution_count": 8,
   "metadata": {},
   "outputs": [],
   "source": [
    "df_combined = df_holdout.merge(df_products, on=['stripped_smiles', 'target_pref_name', 'standard_type'], suffixes=['_actual', '_predicted'])"
   ]
  },
  {
   "cell_type": "code",
   "execution_count": 9,
   "metadata": {},
   "outputs": [
    {
     "data": {
      "text/html": [
       "<div>\n",
       "<style scoped>\n",
       "    .dataframe tbody tr th:only-of-type {\n",
       "        vertical-align: middle;\n",
       "    }\n",
       "\n",
       "    .dataframe tbody tr th {\n",
       "        vertical-align: top;\n",
       "    }\n",
       "\n",
       "    .dataframe thead tr th {\n",
       "        text-align: left;\n",
       "    }\n",
       "\n",
       "    .dataframe thead tr:last-of-type th {\n",
       "        text-align: right;\n",
       "    }\n",
       "</style>\n",
       "<table border=\"1\" class=\"dataframe\">\n",
       "  <thead>\n",
       "    <tr>\n",
       "      <th></th>\n",
       "      <th></th>\n",
       "      <th></th>\n",
       "      <th></th>\n",
       "      <th></th>\n",
       "      <th colspan=\"3\" halign=\"left\">min</th>\n",
       "      <th colspan=\"3\" halign=\"left\">mean</th>\n",
       "      <th colspan=\"3\" halign=\"left\">max</th>\n",
       "    </tr>\n",
       "    <tr>\n",
       "      <th></th>\n",
       "      <th></th>\n",
       "      <th></th>\n",
       "      <th></th>\n",
       "      <th></th>\n",
       "      <th>min_mean_percentmcs</th>\n",
       "      <th>pchembl_value_actual</th>\n",
       "      <th>pchembl_value_predicted</th>\n",
       "      <th>min_mean_percentmcs</th>\n",
       "      <th>pchembl_value_actual</th>\n",
       "      <th>pchembl_value_predicted</th>\n",
       "      <th>min_mean_percentmcs</th>\n",
       "      <th>pchembl_value_actual</th>\n",
       "      <th>pchembl_value_predicted</th>\n",
       "    </tr>\n",
       "    <tr>\n",
       "      <th>generation</th>\n",
       "      <th>max_radius</th>\n",
       "      <th>stripped_smiles</th>\n",
       "      <th>target_pref_name</th>\n",
       "      <th>standard_type</th>\n",
       "      <th></th>\n",
       "      <th></th>\n",
       "      <th></th>\n",
       "      <th></th>\n",
       "      <th></th>\n",
       "      <th></th>\n",
       "      <th></th>\n",
       "      <th></th>\n",
       "      <th></th>\n",
       "    </tr>\n",
       "  </thead>\n",
       "  <tbody>\n",
       "    <tr>\n",
       "      <th rowspan=\"3\" valign=\"top\">1</th>\n",
       "      <th>2</th>\n",
       "      <th>CC(C)(C)NCC(O)c1ccc(O)c(CO)c1</th>\n",
       "      <th>Beta-2 adrenergic receptor</th>\n",
       "      <th>Kd</th>\n",
       "      <td>0.526316</td>\n",
       "      <td>5.85</td>\n",
       "      <td>4.483333</td>\n",
       "      <td>0.615215</td>\n",
       "      <td>6.383333</td>\n",
       "      <td>5.186583</td>\n",
       "      <td>0.733333</td>\n",
       "      <td>6.96</td>\n",
       "      <td>6.03</td>\n",
       "    </tr>\n",
       "    <tr>\n",
       "      <th>3</th>\n",
       "      <th>CC(C)(C)NCC(O)c1ccc(O)c(CO)c1</th>\n",
       "      <th>Beta-2 adrenergic receptor</th>\n",
       "      <th>Kd</th>\n",
       "      <td>0.526316</td>\n",
       "      <td>5.85</td>\n",
       "      <td>4.483333</td>\n",
       "      <td>0.622077</td>\n",
       "      <td>6.383333</td>\n",
       "      <td>5.243058</td>\n",
       "      <td>0.733333</td>\n",
       "      <td>6.96</td>\n",
       "      <td>6.03</td>\n",
       "    </tr>\n",
       "    <tr>\n",
       "      <th>4</th>\n",
       "      <th>CC(C)(C)NCC(O)c1ccc(O)c(CO)c1</th>\n",
       "      <th>Beta-2 adrenergic receptor</th>\n",
       "      <th>Kd</th>\n",
       "      <td>0.526316</td>\n",
       "      <td>5.85</td>\n",
       "      <td>4.483333</td>\n",
       "      <td>0.621342</td>\n",
       "      <td>6.383333</td>\n",
       "      <td>5.248534</td>\n",
       "      <td>0.733333</td>\n",
       "      <td>6.96</td>\n",
       "      <td>6.03</td>\n",
       "    </tr>\n",
       "    <tr>\n",
       "      <th rowspan=\"3\" valign=\"top\">2</th>\n",
       "      <th>2</th>\n",
       "      <th>CC(C)(C)NCC(O)c1ccc(O)c(CO)c1</th>\n",
       "      <th>Beta-2 adrenergic receptor</th>\n",
       "      <th>Kd</th>\n",
       "      <td>0.600000</td>\n",
       "      <td>5.85</td>\n",
       "      <td>4.755714</td>\n",
       "      <td>0.645000</td>\n",
       "      <td>6.383333</td>\n",
       "      <td>5.293175</td>\n",
       "      <td>0.687500</td>\n",
       "      <td>6.96</td>\n",
       "      <td>6.03</td>\n",
       "    </tr>\n",
       "    <tr>\n",
       "      <th>3</th>\n",
       "      <th>CC(C)(C)NCC(O)c1ccc(O)c(CO)c1</th>\n",
       "      <th>Beta-2 adrenergic receptor</th>\n",
       "      <th>Kd</th>\n",
       "      <td>0.600000</td>\n",
       "      <td>5.85</td>\n",
       "      <td>4.755714</td>\n",
       "      <td>0.645000</td>\n",
       "      <td>6.383333</td>\n",
       "      <td>5.293175</td>\n",
       "      <td>0.687500</td>\n",
       "      <td>6.96</td>\n",
       "      <td>6.03</td>\n",
       "    </tr>\n",
       "    <tr>\n",
       "      <th>4</th>\n",
       "      <th>CC(C)(C)NCC(O)c1ccc(O)c(CO)c1</th>\n",
       "      <th>Beta-2 adrenergic receptor</th>\n",
       "      <th>Kd</th>\n",
       "      <td>0.600000</td>\n",
       "      <td>5.85</td>\n",
       "      <td>4.755714</td>\n",
       "      <td>0.645000</td>\n",
       "      <td>6.383333</td>\n",
       "      <td>5.293175</td>\n",
       "      <td>0.687500</td>\n",
       "      <td>6.96</td>\n",
       "      <td>6.03</td>\n",
       "    </tr>\n",
       "  </tbody>\n",
       "</table>\n",
       "</div>"
      ],
      "text/plain": [
       "                                                                                                             min  \\\n",
       "                                                                                             min_mean_percentmcs   \n",
       "generation max_radius stripped_smiles               target_pref_name           standard_type                       \n",
       "1          2          CC(C)(C)NCC(O)c1ccc(O)c(CO)c1 Beta-2 adrenergic receptor Kd                       0.526316   \n",
       "           3          CC(C)(C)NCC(O)c1ccc(O)c(CO)c1 Beta-2 adrenergic receptor Kd                       0.526316   \n",
       "           4          CC(C)(C)NCC(O)c1ccc(O)c(CO)c1 Beta-2 adrenergic receptor Kd                       0.526316   \n",
       "2          2          CC(C)(C)NCC(O)c1ccc(O)c(CO)c1 Beta-2 adrenergic receptor Kd                       0.600000   \n",
       "           3          CC(C)(C)NCC(O)c1ccc(O)c(CO)c1 Beta-2 adrenergic receptor Kd                       0.600000   \n",
       "           4          CC(C)(C)NCC(O)c1ccc(O)c(CO)c1 Beta-2 adrenergic receptor Kd                       0.600000   \n",
       "\n",
       "                                                                                                                   \\\n",
       "                                                                                             pchembl_value_actual   \n",
       "generation max_radius stripped_smiles               target_pref_name           standard_type                        \n",
       "1          2          CC(C)(C)NCC(O)c1ccc(O)c(CO)c1 Beta-2 adrenergic receptor Kd                            5.85   \n",
       "           3          CC(C)(C)NCC(O)c1ccc(O)c(CO)c1 Beta-2 adrenergic receptor Kd                            5.85   \n",
       "           4          CC(C)(C)NCC(O)c1ccc(O)c(CO)c1 Beta-2 adrenergic receptor Kd                            5.85   \n",
       "2          2          CC(C)(C)NCC(O)c1ccc(O)c(CO)c1 Beta-2 adrenergic receptor Kd                            5.85   \n",
       "           3          CC(C)(C)NCC(O)c1ccc(O)c(CO)c1 Beta-2 adrenergic receptor Kd                            5.85   \n",
       "           4          CC(C)(C)NCC(O)c1ccc(O)c(CO)c1 Beta-2 adrenergic receptor Kd                            5.85   \n",
       "\n",
       "                                                                                                                      \\\n",
       "                                                                                             pchembl_value_predicted   \n",
       "generation max_radius stripped_smiles               target_pref_name           standard_type                           \n",
       "1          2          CC(C)(C)NCC(O)c1ccc(O)c(CO)c1 Beta-2 adrenergic receptor Kd                           4.483333   \n",
       "           3          CC(C)(C)NCC(O)c1ccc(O)c(CO)c1 Beta-2 adrenergic receptor Kd                           4.483333   \n",
       "           4          CC(C)(C)NCC(O)c1ccc(O)c(CO)c1 Beta-2 adrenergic receptor Kd                           4.483333   \n",
       "2          2          CC(C)(C)NCC(O)c1ccc(O)c(CO)c1 Beta-2 adrenergic receptor Kd                           4.755714   \n",
       "           3          CC(C)(C)NCC(O)c1ccc(O)c(CO)c1 Beta-2 adrenergic receptor Kd                           4.755714   \n",
       "           4          CC(C)(C)NCC(O)c1ccc(O)c(CO)c1 Beta-2 adrenergic receptor Kd                           4.755714   \n",
       "\n",
       "                                                                                                            mean  \\\n",
       "                                                                                             min_mean_percentmcs   \n",
       "generation max_radius stripped_smiles               target_pref_name           standard_type                       \n",
       "1          2          CC(C)(C)NCC(O)c1ccc(O)c(CO)c1 Beta-2 adrenergic receptor Kd                       0.615215   \n",
       "           3          CC(C)(C)NCC(O)c1ccc(O)c(CO)c1 Beta-2 adrenergic receptor Kd                       0.622077   \n",
       "           4          CC(C)(C)NCC(O)c1ccc(O)c(CO)c1 Beta-2 adrenergic receptor Kd                       0.621342   \n",
       "2          2          CC(C)(C)NCC(O)c1ccc(O)c(CO)c1 Beta-2 adrenergic receptor Kd                       0.645000   \n",
       "           3          CC(C)(C)NCC(O)c1ccc(O)c(CO)c1 Beta-2 adrenergic receptor Kd                       0.645000   \n",
       "           4          CC(C)(C)NCC(O)c1ccc(O)c(CO)c1 Beta-2 adrenergic receptor Kd                       0.645000   \n",
       "\n",
       "                                                                                                                   \\\n",
       "                                                                                             pchembl_value_actual   \n",
       "generation max_radius stripped_smiles               target_pref_name           standard_type                        \n",
       "1          2          CC(C)(C)NCC(O)c1ccc(O)c(CO)c1 Beta-2 adrenergic receptor Kd                        6.383333   \n",
       "           3          CC(C)(C)NCC(O)c1ccc(O)c(CO)c1 Beta-2 adrenergic receptor Kd                        6.383333   \n",
       "           4          CC(C)(C)NCC(O)c1ccc(O)c(CO)c1 Beta-2 adrenergic receptor Kd                        6.383333   \n",
       "2          2          CC(C)(C)NCC(O)c1ccc(O)c(CO)c1 Beta-2 adrenergic receptor Kd                        6.383333   \n",
       "           3          CC(C)(C)NCC(O)c1ccc(O)c(CO)c1 Beta-2 adrenergic receptor Kd                        6.383333   \n",
       "           4          CC(C)(C)NCC(O)c1ccc(O)c(CO)c1 Beta-2 adrenergic receptor Kd                        6.383333   \n",
       "\n",
       "                                                                                                                      \\\n",
       "                                                                                             pchembl_value_predicted   \n",
       "generation max_radius stripped_smiles               target_pref_name           standard_type                           \n",
       "1          2          CC(C)(C)NCC(O)c1ccc(O)c(CO)c1 Beta-2 adrenergic receptor Kd                           5.186583   \n",
       "           3          CC(C)(C)NCC(O)c1ccc(O)c(CO)c1 Beta-2 adrenergic receptor Kd                           5.243058   \n",
       "           4          CC(C)(C)NCC(O)c1ccc(O)c(CO)c1 Beta-2 adrenergic receptor Kd                           5.248534   \n",
       "2          2          CC(C)(C)NCC(O)c1ccc(O)c(CO)c1 Beta-2 adrenergic receptor Kd                           5.293175   \n",
       "           3          CC(C)(C)NCC(O)c1ccc(O)c(CO)c1 Beta-2 adrenergic receptor Kd                           5.293175   \n",
       "           4          CC(C)(C)NCC(O)c1ccc(O)c(CO)c1 Beta-2 adrenergic receptor Kd                           5.293175   \n",
       "\n",
       "                                                                                                             max  \\\n",
       "                                                                                             min_mean_percentmcs   \n",
       "generation max_radius stripped_smiles               target_pref_name           standard_type                       \n",
       "1          2          CC(C)(C)NCC(O)c1ccc(O)c(CO)c1 Beta-2 adrenergic receptor Kd                       0.733333   \n",
       "           3          CC(C)(C)NCC(O)c1ccc(O)c(CO)c1 Beta-2 adrenergic receptor Kd                       0.733333   \n",
       "           4          CC(C)(C)NCC(O)c1ccc(O)c(CO)c1 Beta-2 adrenergic receptor Kd                       0.733333   \n",
       "2          2          CC(C)(C)NCC(O)c1ccc(O)c(CO)c1 Beta-2 adrenergic receptor Kd                       0.687500   \n",
       "           3          CC(C)(C)NCC(O)c1ccc(O)c(CO)c1 Beta-2 adrenergic receptor Kd                       0.687500   \n",
       "           4          CC(C)(C)NCC(O)c1ccc(O)c(CO)c1 Beta-2 adrenergic receptor Kd                       0.687500   \n",
       "\n",
       "                                                                                                                   \\\n",
       "                                                                                             pchembl_value_actual   \n",
       "generation max_radius stripped_smiles               target_pref_name           standard_type                        \n",
       "1          2          CC(C)(C)NCC(O)c1ccc(O)c(CO)c1 Beta-2 adrenergic receptor Kd                            6.96   \n",
       "           3          CC(C)(C)NCC(O)c1ccc(O)c(CO)c1 Beta-2 adrenergic receptor Kd                            6.96   \n",
       "           4          CC(C)(C)NCC(O)c1ccc(O)c(CO)c1 Beta-2 adrenergic receptor Kd                            6.96   \n",
       "2          2          CC(C)(C)NCC(O)c1ccc(O)c(CO)c1 Beta-2 adrenergic receptor Kd                            6.96   \n",
       "           3          CC(C)(C)NCC(O)c1ccc(O)c(CO)c1 Beta-2 adrenergic receptor Kd                            6.96   \n",
       "           4          CC(C)(C)NCC(O)c1ccc(O)c(CO)c1 Beta-2 adrenergic receptor Kd                            6.96   \n",
       "\n",
       "                                                                                                                      \n",
       "                                                                                             pchembl_value_predicted  \n",
       "generation max_radius stripped_smiles               target_pref_name           standard_type                          \n",
       "1          2          CC(C)(C)NCC(O)c1ccc(O)c(CO)c1 Beta-2 adrenergic receptor Kd                               6.03  \n",
       "           3          CC(C)(C)NCC(O)c1ccc(O)c(CO)c1 Beta-2 adrenergic receptor Kd                               6.03  \n",
       "           4          CC(C)(C)NCC(O)c1ccc(O)c(CO)c1 Beta-2 adrenergic receptor Kd                               6.03  \n",
       "2          2          CC(C)(C)NCC(O)c1ccc(O)c(CO)c1 Beta-2 adrenergic receptor Kd                               6.03  \n",
       "           3          CC(C)(C)NCC(O)c1ccc(O)c(CO)c1 Beta-2 adrenergic receptor Kd                               6.03  \n",
       "           4          CC(C)(C)NCC(O)c1ccc(O)c(CO)c1 Beta-2 adrenergic receptor Kd                               6.03  "
      ]
     },
     "execution_count": 9,
     "metadata": {},
     "output_type": "execute_result"
    }
   ],
   "source": [
    "pd.pivot_table(df_combined, \n",
    "               values=['pchembl_value_actual', 'pchembl_value_predicted', 'min_mean_percentmcs'], \n",
    "               index=['generation', 'max_radius', 'stripped_smiles', 'target_pref_name', 'standard_type'], \n",
    "               aggfunc=['min', 'mean', 'max'])"
   ]
  },
  {
   "cell_type": "code",
   "execution_count": 10,
   "metadata": {},
   "outputs": [
    {
     "data": {
      "image/png": "[encoded data removed]",
      "text/plain": [
       "<rdkit.Chem.rdchem.Mol at 0x7f10f763e5e0>"
      ]
     },
     "execution_count": 10,
     "metadata": {},
     "output_type": "execute_result"
    }
   ],
   "source": [
    "Chem.MolFromSmiles(df_combined.sample(1).last_smiles.to_list()[0])"
   ]
  },
  {
   "cell_type": "markdown",
   "metadata": {},
   "source": [
    "### Write to file"
   ]
  },
  {
   "cell_type": "code",
   "execution_count": 11,
   "metadata": {},
   "outputs": [],
   "source": [
    "df_products = df_products.reset_index()\n",
    "df_products.to_csv('beta2_agonists_products.csv', index=False)"
   ]
  },
  {
   "cell_type": "code",
   "execution_count": null,
   "metadata": {},
   "outputs": [],
   "source": []
  }
 ],
 "metadata": {
  "kernelspec": {
   "display_name": "Python 3 (ipykernel)",
   "language": "python",
   "name": "python3"
  },
  "language_info": {
   "codemirror_mode": {
    "name": "ipython",
    "version": 3
   },
   "file_extension": ".py",
   "mimetype": "text/x-python",
   "name": "python",
   "nbconvert_exporter": "python",
   "pygments_lexer": "ipython3",
   "version": "3.9.13"
  }
 },
 "nbformat": 4,
 "nbformat_minor": 4
}
