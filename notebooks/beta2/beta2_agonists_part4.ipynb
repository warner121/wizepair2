{
 "cells": [
  {
   "cell_type": "markdown",
   "metadata": {},
   "source": [
    "## Beta-2 adrenergic receptor - part 4 (library enumeration)"
   ]
  },
  {
   "cell_type": "markdown",
   "metadata": {},
   "source": [
    "### Import libraries"
   ]
  },
  {
   "cell_type": "code",
   "execution_count": 1,
   "metadata": {},
   "outputs": [
    {
     "name": "stdout",
     "output_type": "stream",
     "text": [
      "INFO: Pandarallel will run on 12 workers.\n",
      "INFO: Pandarallel will use Memory file system to transfer data between the main process and workers.\n"
     ]
    }
   ],
   "source": [
    "import pandas as pd\n",
    "\n",
    "from pandarallel import pandarallel\n",
    "pandarallel.initialize(progress_bar=True)\n",
    "\n",
    "import sys\n",
    "sys.path.append('/home/daniel/wizepair2')\n",
    "from mmpa.chem import strip_stereo\n",
    "\n",
    "from rdkit import Chem"
   ]
  },
  {
   "cell_type": "markdown",
   "metadata": {},
   "source": [
    "### Read in the datasets"
   ]
  },
  {
   "cell_type": "code",
   "execution_count": 2,
   "metadata": {},
   "outputs": [],
   "source": [
    "df = pd.read_csv('beta2_agonists_stripped.csv')\n",
    "df_trans = pd.read_csv('beta2_agonists_transformations.csv')"
   ]
  },
  {
   "cell_type": "markdown",
   "metadata": {},
   "source": [
    "### Take adrenaline as only seed"
   ]
  },
  {
   "cell_type": "code",
   "execution_count": 3,
   "metadata": {},
   "outputs": [],
   "source": [
    "df = df[df.stripped_smiles=='CNC[C@H](O)c1ccc(O)c(O)c1']"
   ]
  },
  {
   "cell_type": "markdown",
   "metadata": {},
   "source": [
    "### Merge on assay identifier to enumerate all seed molecule / transformation pairs"
   ]
  },
  {
   "cell_type": "code",
   "execution_count": 4,
   "metadata": {},
   "outputs": [],
   "source": [
    "df = df[pd.notna(df.pchembl_value)]"
   ]
  },
  {
   "cell_type": "markdown",
   "metadata": {},
   "source": [
    "### Apply the transformations"
   ]
  },
  {
   "cell_type": "code",
   "execution_count": 5,
   "metadata": {},
   "outputs": [],
   "source": [
    "def apply_reaction(smiles, smirks):\n",
    "    rxn = Chem.rdChemReactions.ReactionFromSmarts(smirks)\n",
    "    productset = rxn.RunReactants((Chem.AddHs(Chem.MolFromSmiles(smiles)),))\n",
    "    productlist = list()\n",
    "    for product in productset:\n",
    "        productlist.append('.'.join([Chem.MolToSmiles(Chem.RemoveHs(productpart)) for productpart in product]))\n",
    "    return list(set(productlist))"
   ]
  },
  {
   "cell_type": "code",
   "execution_count": 6,
   "metadata": {},
   "outputs": [],
   "source": [
    "def enumerate_recursive(df: pd.DataFrame(), df_trans: pd.DataFrame(), generations=1):\n",
    "    \n",
    "    if generations > 0: \n",
    "    \n",
    "        # merge with transformations and enumerate products\n",
    "        df = df.merge(df_trans, on=['target_pref_name', 'standard_type'])\n",
    "        df_product = df.sample(frac=1).parallel_apply(lambda x: apply_reaction(x.stripped_smiles, x.smirks), axis=1)\n",
    "\n",
    "        # fan out individual products\n",
    "        df_product = df.join(pd.DataFrame(df_product.explode(), columns=['products']))\n",
    "        df_product = df_product[pd.notna(df_product.products)]\n",
    "        \n",
    "        # trail tracking\n",
    "        if all(elem in df_product.columns for elem in ['last_smiles', 'min_pchembl_value', 'min_percentmcs', 'max_radius']): \n",
    "            df_product.last_smiles = df_product.last_smiles + '.' + df_product.stripped_smiles\n",
    "            df_product.min_pchembl_value = df_product[['min_pchembl_value', 'pchembl_value']].min(axis=1)\n",
    "            df_product.min_mean_percentmcs = df_product[['min_mean_percentmcs', 'mean_percentmcs']].min(axis=1)\n",
    "            df_product.max_radius = df_product[['max_radius', 'radius']].max(axis=1)\n",
    "        else: \n",
    "            df_product['last_smiles'] = df_product.stripped_smiles\n",
    "            df_product['min_pchembl_value'] = df_product.pchembl_value\n",
    "            df_product['min_mean_percentmcs'] = df_product.mean_percentmcs\n",
    "            df_product['max_radius'] = df_product.radius\n",
    "            \n",
    "        # update seed paramters\n",
    "        df_product.stripped_smiles = df_product.products\n",
    "        df_product.pchembl_value = df_product.pchembl_value + df_product.mean_pchembl_exact_delta\n",
    "        \n",
    "        # condense duplicate trails\n",
    "        df_product = pd.pivot_table(df_product, values='pchembl_value', index=[\n",
    "            'last_smiles', 'stripped_smiles', 'target_pref_name', 'standard_type'], aggfunc='mean').reset_index()\n",
    "        df_product['generation'] = generations\n",
    "        \n",
    "        # detect if target has been identified\n",
    "        df_product['achiral_smiles'] = df_product.stripped_smiles.apply(strip_stereo)\n",
    "        if 'CC(C)(C)NCC(O)c1ccc(O)c(CO)c1' in df_product.achiral_smiles.to_list(): print('hit!')\n",
    "\n",
    "        # increment counter any yield\n",
    "        generations -= 1\n",
    "        yield df_product\n",
    "        yield from enumerate_recursive(df_product, df_trans, generations)\n"
   ]
  },
  {
   "cell_type": "code",
   "execution_count": 7,
   "metadata": {},
   "outputs": [],
   "source": [
    "df_products = enumerate_recursive(df, df_trans, 3)"
   ]
  },
  {
   "cell_type": "code",
   "execution_count": 8,
   "metadata": {},
   "outputs": [
    {
     "data": {
      "application/vnd.jupyter.widget-view+json": {
       "model_id": "3f8d526326414ba98215896de7220227",
       "version_major": 2,
       "version_minor": 0
      },
      "text/plain": [
       "VBox(children=(HBox(children=(IntProgress(value=0, description='0.00%', max=2656), Label(value='0 / 2656'))), …"
      ]
     },
     "metadata": {},
     "output_type": "display_data"
    },
    {
     "data": {
      "application/vnd.jupyter.widget-view+json": {
       "model_id": "665ca1a815734a638ed43377881d4f65",
       "version_major": 2,
       "version_minor": 0
      },
      "text/plain": [
       "VBox(children=(HBox(children=(IntProgress(value=0, description='0.00%', max=13217), Label(value='0 / 13217')))…"
      ]
     },
     "metadata": {},
     "output_type": "display_data"
    },
    {
     "name": "stdout",
     "output_type": "stream",
     "text": [
      "hit!\n"
     ]
    },
    {
     "data": {
      "application/vnd.jupyter.widget-view+json": {
       "model_id": "f4a2c3c4572f46cda5c9a43f459acdbc",
       "version_major": 2,
       "version_minor": 0
      },
      "text/plain": [
       "VBox(children=(HBox(children=(IntProgress(value=0, description='0.00%', max=238888), Label(value='0 / 238888')…"
      ]
     },
     "metadata": {},
     "output_type": "display_data"
    },
    {
     "name": "stdout",
     "output_type": "stream",
     "text": [
      "hit!\n"
     ]
    }
   ],
   "source": [
    "df_products = pd.concat([x for x in df_products])"
   ]
  },
  {
   "cell_type": "code",
   "execution_count": 9,
   "metadata": {},
   "outputs": [
    {
     "data": {
      "text/html": [
       "<div>\n",
       "<style scoped>\n",
       "    .dataframe tbody tr th:only-of-type {\n",
       "        vertical-align: middle;\n",
       "    }\n",
       "\n",
       "    .dataframe tbody tr th {\n",
       "        vertical-align: top;\n",
       "    }\n",
       "\n",
       "    .dataframe thead th {\n",
       "        text-align: right;\n",
       "    }\n",
       "</style>\n",
       "<table border=\"1\" class=\"dataframe\">\n",
       "  <thead>\n",
       "    <tr style=\"text-align: right;\">\n",
       "      <th></th>\n",
       "      <th>last_smiles</th>\n",
       "      <th>target_pref_name</th>\n",
       "      <th>standard_type</th>\n",
       "      <th>pchembl_value</th>\n",
       "      <th>generation</th>\n",
       "      <th>achiral_smiles</th>\n",
       "    </tr>\n",
       "    <tr>\n",
       "      <th>stripped_smiles</th>\n",
       "      <th></th>\n",
       "      <th></th>\n",
       "      <th></th>\n",
       "      <th></th>\n",
       "      <th></th>\n",
       "      <th></th>\n",
       "    </tr>\n",
       "  </thead>\n",
       "  <tbody>\n",
       "    <tr>\n",
       "      <th>CNCC(O)c1ccc2sc(O)nc2c1</th>\n",
       "      <td>1</td>\n",
       "      <td>1</td>\n",
       "      <td>1</td>\n",
       "      <td>1</td>\n",
       "      <td>1</td>\n",
       "      <td>1</td>\n",
       "    </tr>\n",
       "    <tr>\n",
       "      <th>CCNCC(O)c1ccc(O)c(O)c1</th>\n",
       "      <td>1</td>\n",
       "      <td>1</td>\n",
       "      <td>1</td>\n",
       "      <td>1</td>\n",
       "      <td>1</td>\n",
       "      <td>1</td>\n",
       "    </tr>\n",
       "    <tr>\n",
       "      <th>CC(C)NCC(O)c1ccc(CO)cc1</th>\n",
       "      <td>1</td>\n",
       "      <td>1</td>\n",
       "      <td>1</td>\n",
       "      <td>1</td>\n",
       "      <td>1</td>\n",
       "      <td>1</td>\n",
       "    </tr>\n",
       "    <tr>\n",
       "      <th>CC(C)NCC(O)c1ccc(CO)c2nc(O)sc12</th>\n",
       "      <td>1</td>\n",
       "      <td>1</td>\n",
       "      <td>1</td>\n",
       "      <td>1</td>\n",
       "      <td>1</td>\n",
       "      <td>1</td>\n",
       "    </tr>\n",
       "    <tr>\n",
       "      <th>CCN[C@@H](CC)[C@H](O)c1ccc(O)c(O)c1</th>\n",
       "      <td>1</td>\n",
       "      <td>1</td>\n",
       "      <td>1</td>\n",
       "      <td>1</td>\n",
       "      <td>1</td>\n",
       "      <td>1</td>\n",
       "    </tr>\n",
       "    <tr>\n",
       "      <th>...</th>\n",
       "      <td>...</td>\n",
       "      <td>...</td>\n",
       "      <td>...</td>\n",
       "      <td>...</td>\n",
       "      <td>...</td>\n",
       "      <td>...</td>\n",
       "    </tr>\n",
       "    <tr>\n",
       "      <th>CNCC(O)c1ccc(O)c(O)c1</th>\n",
       "      <td>586</td>\n",
       "      <td>586</td>\n",
       "      <td>586</td>\n",
       "      <td>586</td>\n",
       "      <td>586</td>\n",
       "      <td>586</td>\n",
       "    </tr>\n",
       "    <tr>\n",
       "      <th>CC(C)NC[C@H](O)c1ccc(O)c(O)c1</th>\n",
       "      <td>782</td>\n",
       "      <td>782</td>\n",
       "      <td>782</td>\n",
       "      <td>782</td>\n",
       "      <td>782</td>\n",
       "      <td>782</td>\n",
       "    </tr>\n",
       "    <tr>\n",
       "      <th>CC(C)NCC(O)c1ccc(O)c(O)c1</th>\n",
       "      <td>806</td>\n",
       "      <td>806</td>\n",
       "      <td>806</td>\n",
       "      <td>806</td>\n",
       "      <td>806</td>\n",
       "      <td>806</td>\n",
       "    </tr>\n",
       "    <tr>\n",
       "      <th>NC[C@H](O)c1ccc(O)c(O)c1</th>\n",
       "      <td>987</td>\n",
       "      <td>987</td>\n",
       "      <td>987</td>\n",
       "      <td>987</td>\n",
       "      <td>987</td>\n",
       "      <td>987</td>\n",
       "    </tr>\n",
       "    <tr>\n",
       "      <th>CNC[C@H](O)c1ccc(O)c(O)c1</th>\n",
       "      <td>1172</td>\n",
       "      <td>1172</td>\n",
       "      <td>1172</td>\n",
       "      <td>1172</td>\n",
       "      <td>1172</td>\n",
       "      <td>1172</td>\n",
       "    </tr>\n",
       "  </tbody>\n",
       "</table>\n",
       "<p>930 rows × 6 columns</p>\n",
       "</div>"
      ],
      "text/plain": [
       "                                     last_smiles  target_pref_name  \\\n",
       "stripped_smiles                                                      \n",
       "CNCC(O)c1ccc2sc(O)nc2c1                        1                 1   \n",
       "CCNCC(O)c1ccc(O)c(O)c1                         1                 1   \n",
       "CC(C)NCC(O)c1ccc(CO)cc1                        1                 1   \n",
       "CC(C)NCC(O)c1ccc(CO)c2nc(O)sc12                1                 1   \n",
       "CCN[C@@H](CC)[C@H](O)c1ccc(O)c(O)c1            1                 1   \n",
       "...                                          ...               ...   \n",
       "CNCC(O)c1ccc(O)c(O)c1                        586               586   \n",
       "CC(C)NC[C@H](O)c1ccc(O)c(O)c1                782               782   \n",
       "CC(C)NCC(O)c1ccc(O)c(O)c1                    806               806   \n",
       "NC[C@H](O)c1ccc(O)c(O)c1                     987               987   \n",
       "CNC[C@H](O)c1ccc(O)c(O)c1                   1172              1172   \n",
       "\n",
       "                                     standard_type  pchembl_value  generation  \\\n",
       "stripped_smiles                                                                 \n",
       "CNCC(O)c1ccc2sc(O)nc2c1                          1              1           1   \n",
       "CCNCC(O)c1ccc(O)c(O)c1                           1              1           1   \n",
       "CC(C)NCC(O)c1ccc(CO)cc1                          1              1           1   \n",
       "CC(C)NCC(O)c1ccc(CO)c2nc(O)sc12                  1              1           1   \n",
       "CCN[C@@H](CC)[C@H](O)c1ccc(O)c(O)c1              1              1           1   \n",
       "...                                            ...            ...         ...   \n",
       "CNCC(O)c1ccc(O)c(O)c1                          586            586         586   \n",
       "CC(C)NC[C@H](O)c1ccc(O)c(O)c1                  782            782         782   \n",
       "CC(C)NCC(O)c1ccc(O)c(O)c1                      806            806         806   \n",
       "NC[C@H](O)c1ccc(O)c(O)c1                       987            987         987   \n",
       "CNC[C@H](O)c1ccc(O)c(O)c1                     1172           1172        1172   \n",
       "\n",
       "                                     achiral_smiles  \n",
       "stripped_smiles                                      \n",
       "CNCC(O)c1ccc2sc(O)nc2c1                           1  \n",
       "CCNCC(O)c1ccc(O)c(O)c1                            1  \n",
       "CC(C)NCC(O)c1ccc(CO)cc1                           1  \n",
       "CC(C)NCC(O)c1ccc(CO)c2nc(O)sc12                   1  \n",
       "CCN[C@@H](CC)[C@H](O)c1ccc(O)c(O)c1               1  \n",
       "...                                             ...  \n",
       "CNCC(O)c1ccc(O)c(O)c1                           586  \n",
       "CC(C)NC[C@H](O)c1ccc(O)c(O)c1                   782  \n",
       "CC(C)NCC(O)c1ccc(O)c(O)c1                       806  \n",
       "NC[C@H](O)c1ccc(O)c(O)c1                        987  \n",
       "CNC[C@H](O)c1ccc(O)c(O)c1                      1172  \n",
       "\n",
       "[930 rows x 6 columns]"
      ]
     },
     "execution_count": 9,
     "metadata": {},
     "output_type": "execute_result"
    }
   ],
   "source": [
    "df_products.groupby('stripped_smiles').count().sort_values('generation')"
   ]
  },
  {
   "cell_type": "code",
   "execution_count": 10,
   "metadata": {},
   "outputs": [],
   "source": [
    "df_holdout = pd.read_csv('beta2_agonists_stripped_holdout.csv')"
   ]
  },
  {
   "cell_type": "code",
   "execution_count": 11,
   "metadata": {},
   "outputs": [],
   "source": [
    "df_holdout = df_holdout.merge(df_products, on=['stripped_smiles', 'target_pref_name', 'standard_type'])"
   ]
  },
  {
   "cell_type": "code",
   "execution_count": null,
   "metadata": {},
   "outputs": [],
   "source": [
    "Chem.MolFromSmiles(df_holdout.sample(1).last_smiles.to_list()[0])"
   ]
  },
  {
   "cell_type": "markdown",
   "metadata": {},
   "source": [
    "### Write to file"
   ]
  },
  {
   "cell_type": "code",
   "execution_count": 13,
   "metadata": {},
   "outputs": [],
   "source": [
    "df_products = df_products.reset_index()\n",
    "df_products.to_csv('beta2_agonists_products.csv', index=False)"
   ]
  },
  {
   "cell_type": "code",
   "execution_count": null,
   "metadata": {},
   "outputs": [],
   "source": []
  }
 ],
 "metadata": {
  "kernelspec": {
   "display_name": "Python 3",
   "language": "python",
   "name": "python3"
  },
  "language_info": {
   "codemirror_mode": {
    "name": "ipython",
    "version": 3
   },
   "file_extension": ".py",
   "mimetype": "text/x-python",
   "name": "python",
   "nbconvert_exporter": "python",
   "pygments_lexer": "ipython3",
   "version": "3.6.10"
  }
 },
 "nbformat": 4,
 "nbformat_minor": 4
}
