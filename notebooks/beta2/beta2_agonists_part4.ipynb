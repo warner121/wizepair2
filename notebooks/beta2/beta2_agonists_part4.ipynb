{
 "cells": [
  {
   "cell_type": "markdown",
   "metadata": {},
   "source": [
    "## Beta-2 adrenergic receptor - part 4 (library enumeration)"
   ]
  },
  {
   "cell_type": "markdown",
   "metadata": {},
   "source": [
    "### Import libraries"
   ]
  },
  {
   "cell_type": "code",
   "execution_count": 1,
   "metadata": {},
   "outputs": [],
   "source": [
    "import pandas as pd\n",
    "\n",
    "from tqdm import tqdm\n",
    "tqdm.pandas()\n",
    "\n",
    "from rdkit import Chem"
   ]
  },
  {
   "cell_type": "markdown",
   "metadata": {},
   "source": [
    "### Read in the datasets"
   ]
  },
  {
   "cell_type": "code",
   "execution_count": 2,
   "metadata": {},
   "outputs": [],
   "source": [
    "df = pd.read_csv('beta2_agonists_stripped.csv')\n",
    "df_trans = pd.read_csv('beta2_agonists_transformations.csv')"
   ]
  },
  {
   "cell_type": "markdown",
   "metadata": {},
   "source": [
    "### Take adrenaline as only seed"
   ]
  },
  {
   "cell_type": "code",
   "execution_count": 3,
   "metadata": {},
   "outputs": [],
   "source": [
    "df = df[df.stripped_smiles=='CNC[C@H](O)c1ccc(O)c(O)c1']"
   ]
  },
  {
   "cell_type": "markdown",
   "metadata": {},
   "source": [
    "### Merge on assay identifier to enumerate all seed molecule / transformation pairs"
   ]
  },
  {
   "cell_type": "code",
   "execution_count": 4,
   "metadata": {},
   "outputs": [],
   "source": [
    "df = df[pd.notna(df.pchembl_value)]"
   ]
  },
  {
   "cell_type": "markdown",
   "metadata": {},
   "source": [
    "### Apply the transformations"
   ]
  },
  {
   "cell_type": "code",
   "execution_count": 5,
   "metadata": {},
   "outputs": [],
   "source": [
    "def apply_reaction(smiles, smirks):\n",
    "    rxn = Chem.rdChemReactions.ReactionFromSmarts(smirks)\n",
    "    productset = rxn.RunReactants((Chem.AddHs(Chem.MolFromSmiles(smiles)),))\n",
    "    productlist = list()\n",
    "    for product in productset:\n",
    "        productlist.append('.'.join([Chem.MolToSmiles(Chem.RemoveHs(productpart)) for productpart in product]))\n",
    "    return list(set(productlist))"
   ]
  },
  {
   "cell_type": "markdown",
   "metadata": {},
   "source": [
    "### Generate 1st generation products"
   ]
  },
  {
   "cell_type": "code",
   "execution_count": 6,
   "metadata": {},
   "outputs": [
    {
     "name": "stderr",
     "output_type": "stream",
     "text": [
      "100%|██████████| 6890/6890 [00:03<00:00, 1877.43it/s]\n"
     ]
    }
   ],
   "source": [
    "df = df.merge(df_trans, on=['target_pref_name', 'standard_type'])\n",
    "df_seed_1 = df.progress_apply(lambda x: apply_reaction(x.stripped_smiles, x.smirks), axis=1)"
   ]
  },
  {
   "cell_type": "code",
   "execution_count": 7,
   "metadata": {},
   "outputs": [],
   "source": [
    "df_seed_1 = df.join(pd.DataFrame(df_seed_1.explode(), columns=['products']))\n",
    "df_seed_1 = df_seed_1[pd.notna(df_seed_1.products)]"
   ]
  },
  {
   "cell_type": "code",
   "execution_count": 8,
   "metadata": {},
   "outputs": [],
   "source": [
    "df_seed_1['pchembl_predicted'] = df_seed_1.pchembl_value + df_seed_1.mean_pchembl_exact_delta\n",
    "df_seed_1 = pd.pivot_table(df_seed_1, values=['pchembl_predicted'], index=['stripped_smiles',\n",
    "    'products', 'radius', 'target_pref_name', 'standard_type'], aggfunc='mean').reset_index()"
   ]
  },
  {
   "cell_type": "markdown",
   "metadata": {},
   "source": [
    "### Generate 2nd generation products"
   ]
  },
  {
   "cell_type": "code",
   "execution_count": 9,
   "metadata": {},
   "outputs": [
    {
     "name": "stderr",
     "output_type": "stream",
     "text": [
      "100%|██████████| 22321/22321 [00:18<00:00, 1208.67it/s]\n"
     ]
    }
   ],
   "source": [
    "df_seed_1 = df_seed_1.merge(df_trans, on=['target_pref_name', 'standard_type'], suffixes=['', '_2'])\n",
    "df_seed_2 = df_seed_1.progress_apply(lambda x: apply_reaction(x.products, x.smirks), axis=1)"
   ]
  },
  {
   "cell_type": "code",
   "execution_count": 10,
   "metadata": {},
   "outputs": [],
   "source": [
    "df_seed_2 = df_seed_1.join(pd.DataFrame(df_seed_2.explode(), columns=['products_2']))\n",
    "df_seed_2 = df_seed_2[pd.notna(df_seed_2.products_2)]"
   ]
  },
  {
   "cell_type": "code",
   "execution_count": 11,
   "metadata": {},
   "outputs": [],
   "source": [
    "df_seed_2['pchembl_predicted_2'] = df_seed_2.pchembl_predicted + df_seed_2.mean_pchembl_exact_delta\n",
    "df_seed_2 = pd.pivot_table(df_seed_2, values=['pchembl_predicted_2'], index=['stripped_smiles',\n",
    "    'products', 'products_2', 'radius', 'radius_2', 'target_pref_name', 'standard_type'], aggfunc='mean').reset_index()"
   ]
  },
  {
   "cell_type": "markdown",
   "metadata": {},
   "source": [
    "### Generate 3rd generation products"
   ]
  },
  {
   "cell_type": "code",
   "execution_count": 12,
   "metadata": {},
   "outputs": [
    {
     "name": "stderr",
     "output_type": "stream",
     "text": [
      "100%|██████████| 221868/221868 [03:25<00:00, 1081.57it/s]\n"
     ]
    }
   ],
   "source": [
    "df_seed_2 = df_seed_2.merge(df_trans, on=['target_pref_name', 'standard_type'], suffixes=['', '_3'])\n",
    "df_seed_3 = df_seed_2.progress_apply(lambda x: apply_reaction(x.products_2, x.smirks), axis=1)"
   ]
  },
  {
   "cell_type": "code",
   "execution_count": 13,
   "metadata": {},
   "outputs": [],
   "source": [
    "df_seed_3 = df_seed_2.join(pd.DataFrame(df_seed_3.explode(), columns=['products_3']))\n",
    "df_seed_3 = df_seed_3[pd.notna(df_seed_3.products_3)]"
   ]
  },
  {
   "cell_type": "code",
   "execution_count": 14,
   "metadata": {},
   "outputs": [],
   "source": [
    "df_seed_3['pchembl_predicted_3'] = df_seed_3.pchembl_predicted_2 + df_seed_3.mean_pchembl_exact_delta\n",
    "df_products = pd.pivot_table(df_seed_3, values=['pchembl_predicted_3'], index=['stripped_smiles',\n",
    "    'products', 'products_2', 'products_3', 'radius', 'radius_2', 'radius_3', 'target_pref_name', 'standard_type'], aggfunc='mean').reset_index()"
   ]
  },
  {
   "cell_type": "markdown",
   "metadata": {},
   "source": [
    "### Write to file"
   ]
  },
  {
   "cell_type": "code",
   "execution_count": 15,
   "metadata": {},
   "outputs": [],
   "source": [
    "df_products = df_products.reset_index()\n",
    "df_products.to_csv('beta2_agonists_products.csv', index=False)"
   ]
  },
  {
   "cell_type": "markdown",
   "metadata": {},
   "source": [
    "### ... and finaly tabulate"
   ]
  },
  {
   "cell_type": "code",
   "execution_count": 16,
   "metadata": {},
   "outputs": [],
   "source": [
    "df_holdout = pd.read_csv('beta2_agonists_stripped_holdout.csv')\n",
    "df_holdout = df_products[df_products.products_3.isin(df_holdout.stripped_smiles)]"
   ]
  },
  {
   "cell_type": "code",
   "execution_count": 17,
   "metadata": {},
   "outputs": [
    {
     "data": {
      "text/html": [
       "<div>\n",
       "<style scoped>\n",
       "    .dataframe tbody tr th:only-of-type {\n",
       "        vertical-align: middle;\n",
       "    }\n",
       "\n",
       "    .dataframe tbody tr th {\n",
       "        vertical-align: top;\n",
       "    }\n",
       "\n",
       "    .dataframe thead th {\n",
       "        text-align: right;\n",
       "    }\n",
       "</style>\n",
       "<table border=\"1\" class=\"dataframe\">\n",
       "  <thead>\n",
       "    <tr style=\"text-align: right;\">\n",
       "      <th></th>\n",
       "      <th>index</th>\n",
       "      <th>stripped_smiles</th>\n",
       "      <th>products</th>\n",
       "      <th>products_2</th>\n",
       "      <th>products_3</th>\n",
       "      <th>radius</th>\n",
       "      <th>radius_2</th>\n",
       "      <th>radius_3</th>\n",
       "      <th>target_pref_name</th>\n",
       "      <th>standard_type</th>\n",
       "      <th>pchembl_predicted_3</th>\n",
       "    </tr>\n",
       "  </thead>\n",
       "  <tbody>\n",
       "    <tr>\n",
       "      <th>15</th>\n",
       "      <td>15</td>\n",
       "      <td>CNC[C@H](O)c1ccc(O)c(O)c1</td>\n",
       "      <td>CC(C)NCC(O)c1ccc(O)c(O)c1</td>\n",
       "      <td>CC(C)(C)NCC(O)c1ccc(O)c(N)c1</td>\n",
       "      <td>CC(C)(C)NCC(O)c1ccc(O)c(CO)c1</td>\n",
       "      <td>3</td>\n",
       "      <td>3</td>\n",
       "      <td>3</td>\n",
       "      <td>Beta-2 adrenergic receptor</td>\n",
       "      <td>Kd</td>\n",
       "      <td>5.900000</td>\n",
       "    </tr>\n",
       "    <tr>\n",
       "      <th>32</th>\n",
       "      <td>32</td>\n",
       "      <td>CNC[C@H](O)c1ccc(O)c(O)c1</td>\n",
       "      <td>CC(C)NCC(O)c1ccc(O)c(O)c1</td>\n",
       "      <td>CC(C)(C)NCC(O)c1ccc(O)c(O)c1</td>\n",
       "      <td>CC(C)(C)NCC(O)c1ccc(O)c(CO)c1</td>\n",
       "      <td>3</td>\n",
       "      <td>3</td>\n",
       "      <td>3</td>\n",
       "      <td>Beta-2 adrenergic receptor</td>\n",
       "      <td>Kd</td>\n",
       "      <td>5.024444</td>\n",
       "    </tr>\n",
       "    <tr>\n",
       "      <th>47</th>\n",
       "      <td>47</td>\n",
       "      <td>CNC[C@H](O)c1ccc(O)c(O)c1</td>\n",
       "      <td>CC(C)NCC(O)c1ccc(O)c(O)c1</td>\n",
       "      <td>CC(C)(C)NCC(O)c1ccc(O)cc1</td>\n",
       "      <td>CC(C)(C)NCC(O)c1ccc(O)c(CO)c1</td>\n",
       "      <td>3</td>\n",
       "      <td>3</td>\n",
       "      <td>3</td>\n",
       "      <td>Beta-2 adrenergic receptor</td>\n",
       "      <td>Kd</td>\n",
       "      <td>6.030000</td>\n",
       "    </tr>\n",
       "    <tr>\n",
       "      <th>142</th>\n",
       "      <td>142</td>\n",
       "      <td>CNC[C@H](O)c1ccc(O)c(O)c1</td>\n",
       "      <td>CC(C)NCC(O)c1ccc(O)c(O)c1</td>\n",
       "      <td>CC(C)NCC(O)c1ccc(O)c(CO)c1</td>\n",
       "      <td>CC(C)(C)NCC(O)c1ccc(O)c(CO)c1</td>\n",
       "      <td>3</td>\n",
       "      <td>3</td>\n",
       "      <td>3</td>\n",
       "      <td>Beta-2 adrenergic receptor</td>\n",
       "      <td>Kd</td>\n",
       "      <td>5.024444</td>\n",
       "    </tr>\n",
       "    <tr>\n",
       "      <th>170</th>\n",
       "      <td>170</td>\n",
       "      <td>CNC[C@H](O)c1ccc(O)c(O)c1</td>\n",
       "      <td>CC(C)NCC(O)c1ccc(O)c(O)c1</td>\n",
       "      <td>CC(C)NCC(O)c1ccc(O)c(O)c1</td>\n",
       "      <td>CC(C)(C)NCC(O)c1ccc(O)c(CO)c1</td>\n",
       "      <td>3</td>\n",
       "      <td>3</td>\n",
       "      <td>3</td>\n",
       "      <td>Beta-2 adrenergic receptor</td>\n",
       "      <td>EC50</td>\n",
       "      <td>8.377998</td>\n",
       "    </tr>\n",
       "    <tr>\n",
       "      <th>171</th>\n",
       "      <td>171</td>\n",
       "      <td>CNC[C@H](O)c1ccc(O)c(O)c1</td>\n",
       "      <td>CC(C)NCC(O)c1ccc(O)c(O)c1</td>\n",
       "      <td>CC(C)NCC(O)c1ccc(O)c(O)c1</td>\n",
       "      <td>CC(C)(C)NCC(O)c1ccc(O)c(CO)c1</td>\n",
       "      <td>3</td>\n",
       "      <td>3</td>\n",
       "      <td>3</td>\n",
       "      <td>Beta-2 adrenergic receptor</td>\n",
       "      <td>Ki</td>\n",
       "      <td>5.358000</td>\n",
       "    </tr>\n",
       "    <tr>\n",
       "      <th>172</th>\n",
       "      <td>172</td>\n",
       "      <td>CNC[C@H](O)c1ccc(O)c(O)c1</td>\n",
       "      <td>CC(C)NCC(O)c1ccc(O)c(O)c1</td>\n",
       "      <td>CC(C)NCC(O)c1ccc(O)c(O)c1</td>\n",
       "      <td>CC(C)(C)NCC(O)c1ccc(O)c(CO)c1</td>\n",
       "      <td>3</td>\n",
       "      <td>3</td>\n",
       "      <td>3</td>\n",
       "      <td>Thyroid stimulating hormone receptor</td>\n",
       "      <td>Potency</td>\n",
       "      <td>6.042857</td>\n",
       "    </tr>\n",
       "    <tr>\n",
       "      <th>366</th>\n",
       "      <td>366</td>\n",
       "      <td>CNC[C@H](O)c1ccc(O)c(O)c1</td>\n",
       "      <td>CC(C)NCC(O)c1ccc(O)c(O)c1</td>\n",
       "      <td>CC(C)NCC(O)c1ccc2ccccc2c1</td>\n",
       "      <td>CC(C)(C)NCC(O)c1ccc(O)c(CO)c1</td>\n",
       "      <td>3</td>\n",
       "      <td>3</td>\n",
       "      <td>3</td>\n",
       "      <td>Thyroid stimulating hormone receptor</td>\n",
       "      <td>Potency</td>\n",
       "      <td>6.114286</td>\n",
       "    </tr>\n",
       "    <tr>\n",
       "      <th>1559</th>\n",
       "      <td>1559</td>\n",
       "      <td>CNC[C@H](O)c1ccc(O)c(O)c1</td>\n",
       "      <td>CC(C)NC[C@@H](O)c1ccc(O)c(O)c1</td>\n",
       "      <td>CC(C)NCC(O)c1ccc(O)c(O)c1</td>\n",
       "      <td>CC(C)(C)NCC(O)c1ccc(O)c(CO)c1</td>\n",
       "      <td>3</td>\n",
       "      <td>3</td>\n",
       "      <td>3</td>\n",
       "      <td>Beta-2 adrenergic receptor</td>\n",
       "      <td>EC50</td>\n",
       "      <td>6.809080</td>\n",
       "    </tr>\n",
       "    <tr>\n",
       "      <th>1560</th>\n",
       "      <td>1560</td>\n",
       "      <td>CNC[C@H](O)c1ccc(O)c(O)c1</td>\n",
       "      <td>CC(C)NC[C@@H](O)c1ccc(O)c(O)c1</td>\n",
       "      <td>CC(C)NCC(O)c1ccc(O)c(O)c1</td>\n",
       "      <td>CC(C)(C)NCC(O)c1ccc(O)c(CO)c1</td>\n",
       "      <td>3</td>\n",
       "      <td>3</td>\n",
       "      <td>3</td>\n",
       "      <td>Beta-2 adrenergic receptor</td>\n",
       "      <td>Ki</td>\n",
       "      <td>5.987667</td>\n",
       "    </tr>\n",
       "    <tr>\n",
       "      <th>2694</th>\n",
       "      <td>2694</td>\n",
       "      <td>CNC[C@H](O)c1ccc(O)c(O)c1</td>\n",
       "      <td>CC(C)NC[C@H](O)c1ccc(O)c(O)c1</td>\n",
       "      <td>CC(C)NCC(O)c1ccc(O)c(O)c1</td>\n",
       "      <td>CC(C)(C)NCC(O)c1ccc(O)c(CO)c1</td>\n",
       "      <td>3</td>\n",
       "      <td>3</td>\n",
       "      <td>3</td>\n",
       "      <td>Beta-2 adrenergic receptor</td>\n",
       "      <td>EC50</td>\n",
       "      <td>9.167552</td>\n",
       "    </tr>\n",
       "    <tr>\n",
       "      <th>2695</th>\n",
       "      <td>2695</td>\n",
       "      <td>CNC[C@H](O)c1ccc(O)c(O)c1</td>\n",
       "      <td>CC(C)NC[C@H](O)c1ccc(O)c(O)c1</td>\n",
       "      <td>CC(C)NCC(O)c1ccc(O)c(O)c1</td>\n",
       "      <td>CC(C)(C)NCC(O)c1ccc(O)c(CO)c1</td>\n",
       "      <td>3</td>\n",
       "      <td>3</td>\n",
       "      <td>3</td>\n",
       "      <td>Beta-2 adrenergic receptor</td>\n",
       "      <td>Ki</td>\n",
       "      <td>5.131667</td>\n",
       "    </tr>\n",
       "    <tr>\n",
       "      <th>2696</th>\n",
       "      <td>2696</td>\n",
       "      <td>CNC[C@H](O)c1ccc(O)c(O)c1</td>\n",
       "      <td>CC(C)NC[C@H](O)c1ccc(O)c(O)c1</td>\n",
       "      <td>CC(C)NCC(O)c1ccc(O)c(O)c1</td>\n",
       "      <td>CC(C)(C)NCC(O)c1ccc(O)c(CO)c1</td>\n",
       "      <td>3</td>\n",
       "      <td>3</td>\n",
       "      <td>3</td>\n",
       "      <td>Thyroid stimulating hormone receptor</td>\n",
       "      <td>Potency</td>\n",
       "      <td>6.114286</td>\n",
       "    </tr>\n",
       "    <tr>\n",
       "      <th>5635</th>\n",
       "      <td>5635</td>\n",
       "      <td>CNC[C@H](O)c1ccc(O)c(O)c1</td>\n",
       "      <td>CNCC(O)c1cc(O)c(O)cc1F</td>\n",
       "      <td>CC(C)NCC(O)c1ccc(O)c(O)c1</td>\n",
       "      <td>CC(C)(C)NCC(O)c1ccc(O)c(CO)c1</td>\n",
       "      <td>3</td>\n",
       "      <td>3</td>\n",
       "      <td>3</td>\n",
       "      <td>Beta-2 adrenergic receptor</td>\n",
       "      <td>Ki</td>\n",
       "      <td>5.600500</td>\n",
       "    </tr>\n",
       "    <tr>\n",
       "      <th>6454</th>\n",
       "      <td>6454</td>\n",
       "      <td>CNC[C@H](O)c1ccc(O)c(O)c1</td>\n",
       "      <td>CNCC(O)c1ccc(O)c(O)c1</td>\n",
       "      <td>CC(C)NCC(O)c1ccc(O)c(O)c1</td>\n",
       "      <td>CC(C)(C)NCC(O)c1ccc(O)c(CO)c1</td>\n",
       "      <td>3</td>\n",
       "      <td>3</td>\n",
       "      <td>3</td>\n",
       "      <td>Beta-2 adrenergic receptor</td>\n",
       "      <td>EC50</td>\n",
       "      <td>8.470052</td>\n",
       "    </tr>\n",
       "    <tr>\n",
       "      <th>6455</th>\n",
       "      <td>6455</td>\n",
       "      <td>CNC[C@H](O)c1ccc(O)c(O)c1</td>\n",
       "      <td>CNCC(O)c1ccc(O)c(O)c1</td>\n",
       "      <td>CC(C)NCC(O)c1ccc(O)c(O)c1</td>\n",
       "      <td>CC(C)(C)NCC(O)c1ccc(O)c(CO)c1</td>\n",
       "      <td>3</td>\n",
       "      <td>3</td>\n",
       "      <td>3</td>\n",
       "      <td>Beta-2 adrenergic receptor</td>\n",
       "      <td>Ki</td>\n",
       "      <td>5.458833</td>\n",
       "    </tr>\n",
       "    <tr>\n",
       "      <th>6456</th>\n",
       "      <td>6456</td>\n",
       "      <td>CNC[C@H](O)c1ccc(O)c(O)c1</td>\n",
       "      <td>CNCC(O)c1ccc(O)c(O)c1</td>\n",
       "      <td>CC(C)NCC(O)c1ccc(O)c(O)c1</td>\n",
       "      <td>CC(C)(C)NCC(O)c1ccc(O)c(CO)c1</td>\n",
       "      <td>3</td>\n",
       "      <td>3</td>\n",
       "      <td>3</td>\n",
       "      <td>Thyroid stimulating hormone receptor</td>\n",
       "      <td>Potency</td>\n",
       "      <td>6.078571</td>\n",
       "    </tr>\n",
       "    <tr>\n",
       "      <th>8030</th>\n",
       "      <td>8030</td>\n",
       "      <td>CNC[C@H](O)c1ccc(O)c(O)c1</td>\n",
       "      <td>CNCC(O)c1ccc(O)c(O)c1F</td>\n",
       "      <td>CC(C)NCC(O)c1ccc(O)c(O)c1</td>\n",
       "      <td>CC(C)(C)NCC(O)c1ccc(O)c(CO)c1</td>\n",
       "      <td>3</td>\n",
       "      <td>3</td>\n",
       "      <td>3</td>\n",
       "      <td>Beta-2 adrenergic receptor</td>\n",
       "      <td>Ki</td>\n",
       "      <td>5.470500</td>\n",
       "    </tr>\n",
       "    <tr>\n",
       "      <th>10063</th>\n",
       "      <td>10063</td>\n",
       "      <td>CNC[C@H](O)c1ccc(O)c(O)c1</td>\n",
       "      <td>CNC[C@@H](O)c1ccc(O)c(O)c1</td>\n",
       "      <td>CC(C)NCC(O)c1ccc(O)c(O)c1</td>\n",
       "      <td>CC(C)(C)NCC(O)c1ccc(O)c(CO)c1</td>\n",
       "      <td>3</td>\n",
       "      <td>3</td>\n",
       "      <td>3</td>\n",
       "      <td>Beta-2 adrenergic receptor</td>\n",
       "      <td>EC50</td>\n",
       "      <td>6.698472</td>\n",
       "    </tr>\n",
       "    <tr>\n",
       "      <th>10064</th>\n",
       "      <td>10064</td>\n",
       "      <td>CNC[C@H](O)c1ccc(O)c(O)c1</td>\n",
       "      <td>CNC[C@@H](O)c1ccc(O)c(O)c1</td>\n",
       "      <td>CC(C)NCC(O)c1ccc(O)c(O)c1</td>\n",
       "      <td>CC(C)(C)NCC(O)c1ccc(O)c(CO)c1</td>\n",
       "      <td>3</td>\n",
       "      <td>3</td>\n",
       "      <td>3</td>\n",
       "      <td>Beta-2 adrenergic receptor</td>\n",
       "      <td>Ki</td>\n",
       "      <td>5.559667</td>\n",
       "    </tr>\n",
       "    <tr>\n",
       "      <th>13690</th>\n",
       "      <td>13690</td>\n",
       "      <td>CNC[C@H](O)c1ccc(O)c(O)c1</td>\n",
       "      <td>CNC[C@H](O)c1ccc(O)c(CO)c1</td>\n",
       "      <td>CC(C)NCC(O)c1ccc(O)c(CO)c1</td>\n",
       "      <td>CC(C)(C)NCC(O)c1ccc(O)c(CO)c1</td>\n",
       "      <td>3</td>\n",
       "      <td>3</td>\n",
       "      <td>3</td>\n",
       "      <td>Beta-2 adrenergic receptor</td>\n",
       "      <td>Kd</td>\n",
       "      <td>5.024444</td>\n",
       "    </tr>\n",
       "    <tr>\n",
       "      <th>13881</th>\n",
       "      <td>13881</td>\n",
       "      <td>CNC[C@H](O)c1ccc(O)c(O)c1</td>\n",
       "      <td>CNC[C@H](O)c1ccc(O)c(O)c1</td>\n",
       "      <td>CC(C)NCC(O)c1ccc(O)c(O)c1</td>\n",
       "      <td>CC(C)(C)NCC(O)c1ccc(O)c(CO)c1</td>\n",
       "      <td>3</td>\n",
       "      <td>3</td>\n",
       "      <td>3</td>\n",
       "      <td>Beta-2 adrenergic receptor</td>\n",
       "      <td>EC50</td>\n",
       "      <td>7.440729</td>\n",
       "    </tr>\n",
       "    <tr>\n",
       "      <th>13882</th>\n",
       "      <td>13882</td>\n",
       "      <td>CNC[C@H](O)c1ccc(O)c(O)c1</td>\n",
       "      <td>CNC[C@H](O)c1ccc(O)c(O)c1</td>\n",
       "      <td>CC(C)NCC(O)c1ccc(O)c(O)c1</td>\n",
       "      <td>CC(C)(C)NCC(O)c1ccc(O)c(CO)c1</td>\n",
       "      <td>3</td>\n",
       "      <td>3</td>\n",
       "      <td>3</td>\n",
       "      <td>Beta-2 adrenergic receptor</td>\n",
       "      <td>Ki</td>\n",
       "      <td>5.761333</td>\n",
       "    </tr>\n",
       "    <tr>\n",
       "      <th>13883</th>\n",
       "      <td>13883</td>\n",
       "      <td>CNC[C@H](O)c1ccc(O)c(O)c1</td>\n",
       "      <td>CNC[C@H](O)c1ccc(O)c(O)c1</td>\n",
       "      <td>CC(C)NCC(O)c1ccc(O)c(O)c1</td>\n",
       "      <td>CC(C)(C)NCC(O)c1ccc(O)c(CO)c1</td>\n",
       "      <td>3</td>\n",
       "      <td>3</td>\n",
       "      <td>3</td>\n",
       "      <td>Thyroid stimulating hormone receptor</td>\n",
       "      <td>Potency</td>\n",
       "      <td>6.185714</td>\n",
       "    </tr>\n",
       "    <tr>\n",
       "      <th>17744</th>\n",
       "      <td>17744</td>\n",
       "      <td>CNC[C@H](O)c1ccc(O)c(O)c1</td>\n",
       "      <td>CNC[C@H](O)c1ccc2ccccc2c1</td>\n",
       "      <td>CC(C)NCC(O)c1ccc2ccccc2c1</td>\n",
       "      <td>CC(C)(C)NCC(O)c1ccc(O)c(CO)c1</td>\n",
       "      <td>3</td>\n",
       "      <td>3</td>\n",
       "      <td>3</td>\n",
       "      <td>Thyroid stimulating hormone receptor</td>\n",
       "      <td>Potency</td>\n",
       "      <td>6.114286</td>\n",
       "    </tr>\n",
       "  </tbody>\n",
       "</table>\n",
       "</div>"
      ],
      "text/plain": [
       "       index            stripped_smiles                        products  \\\n",
       "15        15  CNC[C@H](O)c1ccc(O)c(O)c1       CC(C)NCC(O)c1ccc(O)c(O)c1   \n",
       "32        32  CNC[C@H](O)c1ccc(O)c(O)c1       CC(C)NCC(O)c1ccc(O)c(O)c1   \n",
       "47        47  CNC[C@H](O)c1ccc(O)c(O)c1       CC(C)NCC(O)c1ccc(O)c(O)c1   \n",
       "142      142  CNC[C@H](O)c1ccc(O)c(O)c1       CC(C)NCC(O)c1ccc(O)c(O)c1   \n",
       "170      170  CNC[C@H](O)c1ccc(O)c(O)c1       CC(C)NCC(O)c1ccc(O)c(O)c1   \n",
       "171      171  CNC[C@H](O)c1ccc(O)c(O)c1       CC(C)NCC(O)c1ccc(O)c(O)c1   \n",
       "172      172  CNC[C@H](O)c1ccc(O)c(O)c1       CC(C)NCC(O)c1ccc(O)c(O)c1   \n",
       "366      366  CNC[C@H](O)c1ccc(O)c(O)c1       CC(C)NCC(O)c1ccc(O)c(O)c1   \n",
       "1559    1559  CNC[C@H](O)c1ccc(O)c(O)c1  CC(C)NC[C@@H](O)c1ccc(O)c(O)c1   \n",
       "1560    1560  CNC[C@H](O)c1ccc(O)c(O)c1  CC(C)NC[C@@H](O)c1ccc(O)c(O)c1   \n",
       "2694    2694  CNC[C@H](O)c1ccc(O)c(O)c1   CC(C)NC[C@H](O)c1ccc(O)c(O)c1   \n",
       "2695    2695  CNC[C@H](O)c1ccc(O)c(O)c1   CC(C)NC[C@H](O)c1ccc(O)c(O)c1   \n",
       "2696    2696  CNC[C@H](O)c1ccc(O)c(O)c1   CC(C)NC[C@H](O)c1ccc(O)c(O)c1   \n",
       "5635    5635  CNC[C@H](O)c1ccc(O)c(O)c1          CNCC(O)c1cc(O)c(O)cc1F   \n",
       "6454    6454  CNC[C@H](O)c1ccc(O)c(O)c1           CNCC(O)c1ccc(O)c(O)c1   \n",
       "6455    6455  CNC[C@H](O)c1ccc(O)c(O)c1           CNCC(O)c1ccc(O)c(O)c1   \n",
       "6456    6456  CNC[C@H](O)c1ccc(O)c(O)c1           CNCC(O)c1ccc(O)c(O)c1   \n",
       "8030    8030  CNC[C@H](O)c1ccc(O)c(O)c1          CNCC(O)c1ccc(O)c(O)c1F   \n",
       "10063  10063  CNC[C@H](O)c1ccc(O)c(O)c1      CNC[C@@H](O)c1ccc(O)c(O)c1   \n",
       "10064  10064  CNC[C@H](O)c1ccc(O)c(O)c1      CNC[C@@H](O)c1ccc(O)c(O)c1   \n",
       "13690  13690  CNC[C@H](O)c1ccc(O)c(O)c1      CNC[C@H](O)c1ccc(O)c(CO)c1   \n",
       "13881  13881  CNC[C@H](O)c1ccc(O)c(O)c1       CNC[C@H](O)c1ccc(O)c(O)c1   \n",
       "13882  13882  CNC[C@H](O)c1ccc(O)c(O)c1       CNC[C@H](O)c1ccc(O)c(O)c1   \n",
       "13883  13883  CNC[C@H](O)c1ccc(O)c(O)c1       CNC[C@H](O)c1ccc(O)c(O)c1   \n",
       "17744  17744  CNC[C@H](O)c1ccc(O)c(O)c1       CNC[C@H](O)c1ccc2ccccc2c1   \n",
       "\n",
       "                         products_2                     products_3  radius  \\\n",
       "15     CC(C)(C)NCC(O)c1ccc(O)c(N)c1  CC(C)(C)NCC(O)c1ccc(O)c(CO)c1       3   \n",
       "32     CC(C)(C)NCC(O)c1ccc(O)c(O)c1  CC(C)(C)NCC(O)c1ccc(O)c(CO)c1       3   \n",
       "47        CC(C)(C)NCC(O)c1ccc(O)cc1  CC(C)(C)NCC(O)c1ccc(O)c(CO)c1       3   \n",
       "142      CC(C)NCC(O)c1ccc(O)c(CO)c1  CC(C)(C)NCC(O)c1ccc(O)c(CO)c1       3   \n",
       "170       CC(C)NCC(O)c1ccc(O)c(O)c1  CC(C)(C)NCC(O)c1ccc(O)c(CO)c1       3   \n",
       "171       CC(C)NCC(O)c1ccc(O)c(O)c1  CC(C)(C)NCC(O)c1ccc(O)c(CO)c1       3   \n",
       "172       CC(C)NCC(O)c1ccc(O)c(O)c1  CC(C)(C)NCC(O)c1ccc(O)c(CO)c1       3   \n",
       "366       CC(C)NCC(O)c1ccc2ccccc2c1  CC(C)(C)NCC(O)c1ccc(O)c(CO)c1       3   \n",
       "1559      CC(C)NCC(O)c1ccc(O)c(O)c1  CC(C)(C)NCC(O)c1ccc(O)c(CO)c1       3   \n",
       "1560      CC(C)NCC(O)c1ccc(O)c(O)c1  CC(C)(C)NCC(O)c1ccc(O)c(CO)c1       3   \n",
       "2694      CC(C)NCC(O)c1ccc(O)c(O)c1  CC(C)(C)NCC(O)c1ccc(O)c(CO)c1       3   \n",
       "2695      CC(C)NCC(O)c1ccc(O)c(O)c1  CC(C)(C)NCC(O)c1ccc(O)c(CO)c1       3   \n",
       "2696      CC(C)NCC(O)c1ccc(O)c(O)c1  CC(C)(C)NCC(O)c1ccc(O)c(CO)c1       3   \n",
       "5635      CC(C)NCC(O)c1ccc(O)c(O)c1  CC(C)(C)NCC(O)c1ccc(O)c(CO)c1       3   \n",
       "6454      CC(C)NCC(O)c1ccc(O)c(O)c1  CC(C)(C)NCC(O)c1ccc(O)c(CO)c1       3   \n",
       "6455      CC(C)NCC(O)c1ccc(O)c(O)c1  CC(C)(C)NCC(O)c1ccc(O)c(CO)c1       3   \n",
       "6456      CC(C)NCC(O)c1ccc(O)c(O)c1  CC(C)(C)NCC(O)c1ccc(O)c(CO)c1       3   \n",
       "8030      CC(C)NCC(O)c1ccc(O)c(O)c1  CC(C)(C)NCC(O)c1ccc(O)c(CO)c1       3   \n",
       "10063     CC(C)NCC(O)c1ccc(O)c(O)c1  CC(C)(C)NCC(O)c1ccc(O)c(CO)c1       3   \n",
       "10064     CC(C)NCC(O)c1ccc(O)c(O)c1  CC(C)(C)NCC(O)c1ccc(O)c(CO)c1       3   \n",
       "13690    CC(C)NCC(O)c1ccc(O)c(CO)c1  CC(C)(C)NCC(O)c1ccc(O)c(CO)c1       3   \n",
       "13881     CC(C)NCC(O)c1ccc(O)c(O)c1  CC(C)(C)NCC(O)c1ccc(O)c(CO)c1       3   \n",
       "13882     CC(C)NCC(O)c1ccc(O)c(O)c1  CC(C)(C)NCC(O)c1ccc(O)c(CO)c1       3   \n",
       "13883     CC(C)NCC(O)c1ccc(O)c(O)c1  CC(C)(C)NCC(O)c1ccc(O)c(CO)c1       3   \n",
       "17744     CC(C)NCC(O)c1ccc2ccccc2c1  CC(C)(C)NCC(O)c1ccc(O)c(CO)c1       3   \n",
       "\n",
       "       radius_2  radius_3                      target_pref_name standard_type  \\\n",
       "15            3         3            Beta-2 adrenergic receptor            Kd   \n",
       "32            3         3            Beta-2 adrenergic receptor            Kd   \n",
       "47            3         3            Beta-2 adrenergic receptor            Kd   \n",
       "142           3         3            Beta-2 adrenergic receptor            Kd   \n",
       "170           3         3            Beta-2 adrenergic receptor          EC50   \n",
       "171           3         3            Beta-2 adrenergic receptor            Ki   \n",
       "172           3         3  Thyroid stimulating hormone receptor       Potency   \n",
       "366           3         3  Thyroid stimulating hormone receptor       Potency   \n",
       "1559          3         3            Beta-2 adrenergic receptor          EC50   \n",
       "1560          3         3            Beta-2 adrenergic receptor            Ki   \n",
       "2694          3         3            Beta-2 adrenergic receptor          EC50   \n",
       "2695          3         3            Beta-2 adrenergic receptor            Ki   \n",
       "2696          3         3  Thyroid stimulating hormone receptor       Potency   \n",
       "5635          3         3            Beta-2 adrenergic receptor            Ki   \n",
       "6454          3         3            Beta-2 adrenergic receptor          EC50   \n",
       "6455          3         3            Beta-2 adrenergic receptor            Ki   \n",
       "6456          3         3  Thyroid stimulating hormone receptor       Potency   \n",
       "8030          3         3            Beta-2 adrenergic receptor            Ki   \n",
       "10063         3         3            Beta-2 adrenergic receptor          EC50   \n",
       "10064         3         3            Beta-2 adrenergic receptor            Ki   \n",
       "13690         3         3            Beta-2 adrenergic receptor            Kd   \n",
       "13881         3         3            Beta-2 adrenergic receptor          EC50   \n",
       "13882         3         3            Beta-2 adrenergic receptor            Ki   \n",
       "13883         3         3  Thyroid stimulating hormone receptor       Potency   \n",
       "17744         3         3  Thyroid stimulating hormone receptor       Potency   \n",
       "\n",
       "       pchembl_predicted_3  \n",
       "15                5.900000  \n",
       "32                5.024444  \n",
       "47                6.030000  \n",
       "142               5.024444  \n",
       "170               8.377998  \n",
       "171               5.358000  \n",
       "172               6.042857  \n",
       "366               6.114286  \n",
       "1559              6.809080  \n",
       "1560              5.987667  \n",
       "2694              9.167552  \n",
       "2695              5.131667  \n",
       "2696              6.114286  \n",
       "5635              5.600500  \n",
       "6454              8.470052  \n",
       "6455              5.458833  \n",
       "6456              6.078571  \n",
       "8030              5.470500  \n",
       "10063             6.698472  \n",
       "10064             5.559667  \n",
       "13690             5.024444  \n",
       "13881             7.440729  \n",
       "13882             5.761333  \n",
       "13883             6.185714  \n",
       "17744             6.114286  "
      ]
     },
     "execution_count": 17,
     "metadata": {},
     "output_type": "execute_result"
    }
   ],
   "source": [
    "df_holdout"
   ]
  },
  {
   "cell_type": "code",
   "execution_count": 18,
   "metadata": {},
   "outputs": [
    {
     "data": {
      "image/png": "[encoded data removed]",
      "text/plain": [
       "<rdkit.Chem.rdchem.Mol at 0x7efeb4c7dad0>"
      ]
     },
     "execution_count": 18,
     "metadata": {},
     "output_type": "execute_result"
    }
   ],
   "source": [
    "Chem.MolFromSmiles('CNC[C@H](O)c1ccc(O)c(O)c1')"
   ]
  },
  {
   "cell_type": "code",
   "execution_count": 22,
   "metadata": {},
   "outputs": [
    {
     "data": {
      "image/png": "[encoded data removed]",
      "text/plain": [
       "<rdkit.Chem.rdchem.Mol at 0x7efeaba69cb0>"
      ]
     },
     "execution_count": 22,
     "metadata": {},
     "output_type": "execute_result"
    }
   ],
   "source": [
    "Chem.MolFromSmiles('CC(C)NCC(O)c1ccc(O)c(O)c1')"
   ]
  },
  {
   "cell_type": "code",
   "execution_count": 23,
   "metadata": {},
   "outputs": [
    {
     "data": {
      "image/png": "[encoded data removed]",
      "text/plain": [
       "<rdkit.Chem.rdchem.Mol at 0x7efeaba32940>"
      ]
     },
     "execution_count": 23,
     "metadata": {},
     "output_type": "execute_result"
    }
   ],
   "source": [
    "Chem.MolFromSmiles('CC(C)(C)NCC(O)c1ccc(O)c(N)c1')"
   ]
  },
  {
   "cell_type": "code",
   "execution_count": 21,
   "metadata": {},
   "outputs": [
    {
     "data": {
      "image/png": "[encoded data removed]",
      "text/plain": [
       "<rdkit.Chem.rdchem.Mol at 0x7efeaba604e0>"
      ]
     },
     "execution_count": 21,
     "metadata": {},
     "output_type": "execute_result"
    }
   ],
   "source": [
    "Chem.MolFromSmiles('CC(C)(C)NCC(O)c1ccc(O)c(CO)c1')"
   ]
  },
  {
   "cell_type": "code",
   "execution_count": null,
   "metadata": {},
   "outputs": [],
   "source": []
  }
 ],
 "metadata": {
  "kernelspec": {
   "display_name": "Python 3",
   "language": "python",
   "name": "python3"
  },
  "language_info": {
   "codemirror_mode": {
    "name": "ipython",
    "version": 3
   },
   "file_extension": ".py",
   "mimetype": "text/x-python",
   "name": "python",
   "nbconvert_exporter": "python",
   "pygments_lexer": "ipython3",
   "version": "3.6.10"
  }
 },
 "nbformat": 4,
 "nbformat_minor": 4
}
