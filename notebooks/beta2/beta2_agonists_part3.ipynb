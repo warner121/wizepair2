{
 "cells": [
  {
   "cell_type": "markdown",
   "metadata": {},
   "source": [
    "## Beta-2 adrenergic receptor - part 3 (rule aggregation)"
   ]
  },
  {
   "cell_type": "markdown",
   "metadata": {},
   "source": [
    "### Import libraries"
   ]
  },
  {
   "cell_type": "code",
   "execution_count": 1,
   "metadata": {},
   "outputs": [],
   "source": [
    "import pandas as pd"
   ]
  },
  {
   "cell_type": "markdown",
   "metadata": {},
   "source": [
    "### Read in the datasets"
   ]
  },
  {
   "cell_type": "code",
   "execution_count": 2,
   "metadata": {},
   "outputs": [],
   "source": [
    "df = pd.read_csv('beta2_agonists_stripped.csv')\n",
    "df_pairs = pd.read_csv('beta2_agonists_pairs.csv')"
   ]
  },
  {
   "cell_type": "markdown",
   "metadata": {},
   "source": [
    "### Filter pairs with MCS > 50% and radius >= 2"
   ]
  },
  {
   "cell_type": "code",
   "execution_count": 3,
   "metadata": {},
   "outputs": [],
   "source": [
    "df_pairs = df_pairs[(df_pairs.percentmcs > 0.50) & (df_pairs.radius >= 2)]"
   ]
  },
  {
   "cell_type": "markdown",
   "metadata": {},
   "source": [
    "### Determine which measurements can be included in delta property calculation"
   ]
  },
  {
   "cell_type": "code",
   "execution_count": 4,
   "metadata": {},
   "outputs": [],
   "source": [
    "df['pchembl_exact'] = df.apply(lambda x: x.pchembl_value if x.standard_relation == \"=\" and x.pchembl_value else None, axis=1)"
   ]
  },
  {
   "cell_type": "markdown",
   "metadata": {},
   "source": [
    "### Combine twice with confirmed molecular pairs"
   ]
  },
  {
   "cell_type": "code",
   "execution_count": 5,
   "metadata": {},
   "outputs": [
    {
     "data": {
      "text/html": [
       "<div>\n",
       "<style scoped>\n",
       "    .dataframe tbody tr th:only-of-type {\n",
       "        vertical-align: middle;\n",
       "    }\n",
       "\n",
       "    .dataframe tbody tr th {\n",
       "        vertical-align: top;\n",
       "    }\n",
       "\n",
       "    .dataframe thead th {\n",
       "        text-align: right;\n",
       "    }\n",
       "</style>\n",
       "<table border=\"1\" class=\"dataframe\">\n",
       "  <thead>\n",
       "    <tr style=\"text-align: right;\">\n",
       "      <th></th>\n",
       "      <th>68870</th>\n",
       "      <th>46490</th>\n",
       "      <th>30424</th>\n",
       "    </tr>\n",
       "  </thead>\n",
       "  <tbody>\n",
       "    <tr>\n",
       "      <th>smiles1</th>\n",
       "      <td>COc1ccccc1OCCNC[C@@H](O)c1ccc(O)c(O)c1</td>\n",
       "      <td>CNCCc1ccc(O)c(O)c1</td>\n",
       "      <td>CNCC(O)c1ccc(O)c(O)c1</td>\n",
       "    </tr>\n",
       "    <tr>\n",
       "      <th>smiles2</th>\n",
       "      <td>COc1ccccc1OCCNC[C@H](O)c1ccc(O)c(O)c1</td>\n",
       "      <td>CNC[C@H](O)c1ccc(O)c(O)c1</td>\n",
       "      <td>NCC(O)c1ccc(O)c(O)c1</td>\n",
       "    </tr>\n",
       "    <tr>\n",
       "      <th>percentmcs</th>\n",
       "      <td>0.958333</td>\n",
       "      <td>0.785714</td>\n",
       "      <td>0.846154</td>\n",
       "    </tr>\n",
       "    <tr>\n",
       "      <th>radius</th>\n",
       "      <td>3.0</td>\n",
       "      <td>3.0</td>\n",
       "      <td>3.0</td>\n",
       "    </tr>\n",
       "    <tr>\n",
       "      <th>valid</th>\n",
       "      <td>True</td>\n",
       "      <td>True</td>\n",
       "      <td>True</td>\n",
       "    </tr>\n",
       "    <tr>\n",
       "      <th>...</th>\n",
       "      <td>...</td>\n",
       "      <td>...</td>\n",
       "      <td>...</td>\n",
       "    </tr>\n",
       "    <tr>\n",
       "      <th>ligand_efficiency.le_y</th>\n",
       "      <td>0.34</td>\n",
       "      <td>NaN</td>\n",
       "      <td>NaN</td>\n",
       "    </tr>\n",
       "    <tr>\n",
       "      <th>stripped_smiles_y</th>\n",
       "      <td>COc1ccccc1OCCNC[C@H](O)c1ccc(O)c(O)c1</td>\n",
       "      <td>CNC[C@H](O)c1ccc(O)c(O)c1</td>\n",
       "      <td>NCC(O)c1ccc(O)c(O)c1</td>\n",
       "    </tr>\n",
       "    <tr>\n",
       "      <th>achiral_smiles_y</th>\n",
       "      <td>COc1ccccc1OCCNCC(O)c1ccc(O)c(O)c1</td>\n",
       "      <td>CNCC(O)c1ccc(O)c(O)c1</td>\n",
       "      <td>NCC(O)c1ccc(O)c(O)c1</td>\n",
       "    </tr>\n",
       "    <tr>\n",
       "      <th>pchembl_exact_y</th>\n",
       "      <td>5.66</td>\n",
       "      <td>5.05</td>\n",
       "      <td>4.9</td>\n",
       "    </tr>\n",
       "    <tr>\n",
       "      <th>pchembl_exact_delta</th>\n",
       "      <td>-0.55</td>\n",
       "      <td>0.2</td>\n",
       "      <td>-0.3</td>\n",
       "    </tr>\n",
       "  </tbody>\n",
       "</table>\n",
       "<p>110 rows × 3 columns</p>\n",
       "</div>"
      ],
      "text/plain": [
       "                                                         68870  \\\n",
       "smiles1                 COc1ccccc1OCCNC[C@@H](O)c1ccc(O)c(O)c1   \n",
       "smiles2                  COc1ccccc1OCCNC[C@H](O)c1ccc(O)c(O)c1   \n",
       "percentmcs                                            0.958333   \n",
       "radius                                                     3.0   \n",
       "valid                                                     True   \n",
       "...                                                        ...   \n",
       "ligand_efficiency.le_y                                    0.34   \n",
       "stripped_smiles_y        COc1ccccc1OCCNC[C@H](O)c1ccc(O)c(O)c1   \n",
       "achiral_smiles_y             COc1ccccc1OCCNCC(O)c1ccc(O)c(O)c1   \n",
       "pchembl_exact_y                                           5.66   \n",
       "pchembl_exact_delta                                      -0.55   \n",
       "\n",
       "                                            46490                  30424  \n",
       "smiles1                        CNCCc1ccc(O)c(O)c1  CNCC(O)c1ccc(O)c(O)c1  \n",
       "smiles2                 CNC[C@H](O)c1ccc(O)c(O)c1   NCC(O)c1ccc(O)c(O)c1  \n",
       "percentmcs                               0.785714               0.846154  \n",
       "radius                                        3.0                    3.0  \n",
       "valid                                        True                   True  \n",
       "...                                           ...                    ...  \n",
       "ligand_efficiency.le_y                        NaN                    NaN  \n",
       "stripped_smiles_y       CNC[C@H](O)c1ccc(O)c(O)c1   NCC(O)c1ccc(O)c(O)c1  \n",
       "achiral_smiles_y            CNCC(O)c1ccc(O)c(O)c1   NCC(O)c1ccc(O)c(O)c1  \n",
       "pchembl_exact_y                              5.05                    4.9  \n",
       "pchembl_exact_delta                           0.2                   -0.3  \n",
       "\n",
       "[110 rows x 3 columns]"
      ]
     },
     "execution_count": 5,
     "metadata": {},
     "output_type": "execute_result"
    }
   ],
   "source": [
    "df_merge = df_pairs.merge(df, left_on='smiles1', right_on='stripped_smiles')\n",
    "df_merge = df_merge.merge(df, left_on=['smiles2', 'target_pref_name', 'standard_type'], right_on=['stripped_smiles', 'target_pref_name', 'standard_type'])\n",
    "df_merge['pchembl_exact_delta'] = df_merge['pchembl_exact_y'] - df_merge['pchembl_exact_x'] \n",
    "df_merge.sample(3).transpose()"
   ]
  },
  {
   "cell_type": "markdown",
   "metadata": {},
   "source": [
    "### Aggregate data by the two fragments"
   ]
  },
  {
   "cell_type": "code",
   "execution_count": 6,
   "metadata": {},
   "outputs": [],
   "source": [
    "indexcols = ['fragment1', 'fragment2', 'radius', 'target_pref_name', 'standard_type'] #, 'assay_chembl_id', 'standard_units']\n",
    "df_agg_data = pd.pivot_table(df_merge, values=['pchembl_exact_delta', 'percentmcs'], index=indexcols, aggfunc=['count','mean'])\n",
    "df_agg_data.columns = ['_'.join(col).strip() for col in df_agg_data.columns.values]"
   ]
  },
  {
   "cell_type": "markdown",
   "metadata": {},
   "source": [
    "### Retain single SMIRKS per transformation (effectively at random)"
   ]
  },
  {
   "cell_type": "code",
   "execution_count": 7,
   "metadata": {},
   "outputs": [],
   "source": [
    "df_agg_smirks = pd.pivot_table(df_merge, values='smirks', index=indexcols, aggfunc='first')\n",
    "df_agg = df_agg_data.join(df_agg_smirks).reset_index()"
   ]
  },
  {
   "cell_type": "markdown",
   "metadata": {},
   "source": [
    "### Write to file"
   ]
  },
  {
   "cell_type": "code",
   "execution_count": 8,
   "metadata": {},
   "outputs": [],
   "source": [
    "df_agg.to_csv('beta2_agonists_transformations.csv', index=False)"
   ]
  }
 ],
 "metadata": {
  "kernelspec": {
   "display_name": "Python 3 (ipykernel)",
   "language": "python",
   "name": "python3"
  },
  "language_info": {
   "codemirror_mode": {
    "name": "ipython",
    "version": 3
   },
   "file_extension": ".py",
   "mimetype": "text/x-python",
   "name": "python",
   "nbconvert_exporter": "python",
   "pygments_lexer": "ipython3",
   "version": "3.12.2"
  }
 },
 "nbformat": 4,
 "nbformat_minor": 4
}
