{
 "cells": [
  {
   "cell_type": "markdown",
   "metadata": {},
   "source": [
    "## Beta-2 adrenergic receptor - part 1 (dataset preparation)"
   ]
  },
  {
   "cell_type": "markdown",
   "metadata": {},
   "source": [
    "### Import libraries"
   ]
  },
  {
   "cell_type": "code",
   "execution_count": 1,
   "metadata": {},
   "outputs": [],
   "source": [
    "import requests\n",
    "import json\n",
    "import pandas as pd"
   ]
  },
  {
   "cell_type": "code",
   "execution_count": 2,
   "metadata": {},
   "outputs": [],
   "source": [
    "from tqdm import tqdm\n",
    "tqdm.pandas()\n",
    "\n",
    "import sys\n",
    "sys.path.append('/home/daniel/wizepair2')\n",
    "from mmpa.chem import strip_salts"
   ]
  },
  {
   "cell_type": "markdown",
   "metadata": {},
   "source": [
    "### Define POST request and download "
   ]
  },
  {
   "cell_type": "code",
   "execution_count": 3,
   "metadata": {},
   "outputs": [
    {
     "data": {
      "text/plain": [
       "<Response [200]>"
      ]
     },
     "execution_count": 3,
     "metadata": {},
     "output_type": "execute_result"
    }
   ],
   "source": [
    "url = \"https://www.ebi.ac.uk/chembl/elk/es/chembl_activity/_search\"\n",
    "headers = {'Content-Type': 'application/json'}\n",
    "with open('beta2_agonists.chembl') as f:\n",
    "    payload = f.read()\n",
    "response = requests.post(url, headers=headers, data=payload)\n",
    "response"
   ]
  },
  {
   "cell_type": "markdown",
   "metadata": {},
   "source": [
    "### Load results into a pandas data frame"
   ]
  },
  {
   "cell_type": "code",
   "execution_count": 4,
   "metadata": {},
   "outputs": [
    {
     "data": {
      "text/html": [
       "<div>\n",
       "<style scoped>\n",
       "    .dataframe tbody tr th:only-of-type {\n",
       "        vertical-align: middle;\n",
       "    }\n",
       "\n",
       "    .dataframe tbody tr th {\n",
       "        vertical-align: top;\n",
       "    }\n",
       "\n",
       "    .dataframe thead th {\n",
       "        text-align: right;\n",
       "    }\n",
       "</style>\n",
       "<table border=\"1\" class=\"dataframe\">\n",
       "  <thead>\n",
       "    <tr style=\"text-align: right;\">\n",
       "      <th></th>\n",
       "      <th>activity_properties</th>\n",
       "      <th>standard_units</th>\n",
       "      <th>standard_type</th>\n",
       "      <th>standard_relation</th>\n",
       "      <th>data_validity_comment</th>\n",
       "      <th>target_pref_name</th>\n",
       "      <th>activity_comment</th>\n",
       "      <th>bao_label</th>\n",
       "      <th>pchembl_value</th>\n",
       "      <th>assay_chembl_id</th>\n",
       "      <th>...</th>\n",
       "      <th>_metadata.assay_data.cell_chembl_id</th>\n",
       "      <th>_metadata.assay_data.assay_organism</th>\n",
       "      <th>_metadata.assay_data.tissue_chembl_id</th>\n",
       "      <th>_metadata.assay_data.assay_parameters</th>\n",
       "      <th>_metadata.assay_data.assay_tissue</th>\n",
       "      <th>_metadata.source.src_description</th>\n",
       "      <th>ligand_efficiency.lle</th>\n",
       "      <th>ligand_efficiency.sei</th>\n",
       "      <th>ligand_efficiency.bei</th>\n",
       "      <th>ligand_efficiency.le</th>\n",
       "    </tr>\n",
       "  </thead>\n",
       "  <tbody>\n",
       "    <tr>\n",
       "      <th>639</th>\n",
       "      <td>[]</td>\n",
       "      <td>%</td>\n",
       "      <td>Inhibition</td>\n",
       "      <td>=</td>\n",
       "      <td>None</td>\n",
       "      <td>Replicase polyprotein 1ab</td>\n",
       "      <td>None</td>\n",
       "      <td>assay format</td>\n",
       "      <td>None</td>\n",
       "      <td>CHEMBL4495582</td>\n",
       "      <td>...</td>\n",
       "      <td>None</td>\n",
       "      <td>Severe acute respiratory syndrome coronavirus 2</td>\n",
       "      <td>None</td>\n",
       "      <td>[]</td>\n",
       "      <td>None</td>\n",
       "      <td>SARS-CoV-2 Screening Data</td>\n",
       "      <td>NaN</td>\n",
       "      <td>NaN</td>\n",
       "      <td>NaN</td>\n",
       "      <td>NaN</td>\n",
       "    </tr>\n",
       "    <tr>\n",
       "      <th>1847</th>\n",
       "      <td>[]</td>\n",
       "      <td>nM</td>\n",
       "      <td>Potency</td>\n",
       "      <td>None</td>\n",
       "      <td>None</td>\n",
       "      <td>Beta-2 adrenergic receptor</td>\n",
       "      <td>Active</td>\n",
       "      <td>assay format</td>\n",
       "      <td>None</td>\n",
       "      <td>CHEMBL1738166</td>\n",
       "      <td>...</td>\n",
       "      <td>None</td>\n",
       "      <td>Homo sapiens</td>\n",
       "      <td>None</td>\n",
       "      <td>[]</td>\n",
       "      <td>None</td>\n",
       "      <td>PubChem BioAssays</td>\n",
       "      <td>NaN</td>\n",
       "      <td>NaN</td>\n",
       "      <td>NaN</td>\n",
       "      <td>NaN</td>\n",
       "    </tr>\n",
       "    <tr>\n",
       "      <th>815</th>\n",
       "      <td>[]</td>\n",
       "      <td>nM</td>\n",
       "      <td>EC50</td>\n",
       "      <td>&gt;</td>\n",
       "      <td>None</td>\n",
       "      <td>Adrenergic receptor alpha-2</td>\n",
       "      <td>None</td>\n",
       "      <td>cell membrane format</td>\n",
       "      <td>None</td>\n",
       "      <td>CHEMBL698014</td>\n",
       "      <td>...</td>\n",
       "      <td>None</td>\n",
       "      <td>Homo sapiens</td>\n",
       "      <td>None</td>\n",
       "      <td>[]</td>\n",
       "      <td>None</td>\n",
       "      <td>Scientific Literature</td>\n",
       "      <td>NaN</td>\n",
       "      <td>NaN</td>\n",
       "      <td>NaN</td>\n",
       "      <td>NaN</td>\n",
       "    </tr>\n",
       "  </tbody>\n",
       "</table>\n",
       "<p>3 rows × 46 columns</p>\n",
       "</div>"
      ],
      "text/plain": [
       "     activity_properties standard_units standard_type standard_relation  \\\n",
       "639                   []              %    Inhibition                 =   \n",
       "1847                  []             nM       Potency              None   \n",
       "815                   []             nM          EC50                 >   \n",
       "\n",
       "     data_validity_comment             target_pref_name activity_comment  \\\n",
       "639                   None    Replicase polyprotein 1ab             None   \n",
       "1847                  None   Beta-2 adrenergic receptor           Active   \n",
       "815                   None  Adrenergic receptor alpha-2             None   \n",
       "\n",
       "                 bao_label pchembl_value assay_chembl_id  ...  \\\n",
       "639           assay format          None   CHEMBL4495582  ...   \n",
       "1847          assay format          None   CHEMBL1738166  ...   \n",
       "815   cell membrane format          None    CHEMBL698014  ...   \n",
       "\n",
       "     _metadata.assay_data.cell_chembl_id  \\\n",
       "639                                 None   \n",
       "1847                                None   \n",
       "815                                 None   \n",
       "\n",
       "                  _metadata.assay_data.assay_organism  \\\n",
       "639   Severe acute respiratory syndrome coronavirus 2   \n",
       "1847                                     Homo sapiens   \n",
       "815                                      Homo sapiens   \n",
       "\n",
       "     _metadata.assay_data.tissue_chembl_id  \\\n",
       "639                                   None   \n",
       "1847                                  None   \n",
       "815                                   None   \n",
       "\n",
       "      _metadata.assay_data.assay_parameters _metadata.assay_data.assay_tissue  \\\n",
       "639                                      []                              None   \n",
       "1847                                     []                              None   \n",
       "815                                      []                              None   \n",
       "\n",
       "     _metadata.source.src_description ligand_efficiency.lle  \\\n",
       "639         SARS-CoV-2 Screening Data                   NaN   \n",
       "1847                PubChem BioAssays                   NaN   \n",
       "815             Scientific Literature                   NaN   \n",
       "\n",
       "      ligand_efficiency.sei  ligand_efficiency.bei ligand_efficiency.le  \n",
       "639                     NaN                    NaN                  NaN  \n",
       "1847                    NaN                    NaN                  NaN  \n",
       "815                     NaN                    NaN                  NaN  \n",
       "\n",
       "[3 rows x 46 columns]"
      ]
     },
     "execution_count": 4,
     "metadata": {},
     "output_type": "execute_result"
    }
   ],
   "source": [
    "df = json.loads(response.text)['hits']['hits']\n",
    "df = pd.DataFrame(df)._source\n",
    "df = pd.json_normalize(df)\n",
    "df.sample(3)"
   ]
  },
  {
   "cell_type": "markdown",
   "metadata": {},
   "source": [
    "### Summarise the most common molecules."
   ]
  },
  {
   "cell_type": "code",
   "execution_count": 5,
   "metadata": {},
   "outputs": [
    {
     "data": {
      "text/plain": [
       "molecule_chembl_id  _metadata.parent_molecule_data.compound_key\n",
       "CHEMBL434           ISOPRENALINE                                   1478\n",
       "CHEMBL679           EPINEPHRINE                                     788\n",
       "CHEMBL1215          L-PHENYLEPHRINE                                 482\n",
       "CHEMBL1437          NOREPINEPHRINE                                  457\n",
       "CHEMBL1740          RACEPINEPHRINE                                  414\n",
       "CHEMBL714           SALBUTAMOL                                      230\n",
       "CHEMBL434           Isoproterenol                                   132\n",
       "CHEMBL714           salbutamol                                       83\n",
       "CHEMBL1437          SID29215339                                      65\n",
       "CHEMBL1973413       SID545524                                        58\n",
       "dtype: int64"
      ]
     },
     "execution_count": 5,
     "metadata": {},
     "output_type": "execute_result"
    }
   ],
   "source": [
    "df[['molecule_chembl_id', '_metadata.parent_molecule_data.compound_key']].value_counts()[0:10]"
   ]
  },
  {
   "cell_type": "markdown",
   "metadata": {},
   "source": [
    "### Summarise the most common targets."
   ]
  },
  {
   "cell_type": "code",
   "execution_count": 6,
   "metadata": {},
   "outputs": [
    {
     "data": {
      "text/plain": [
       "assay_chembl_id  target_pref_name   bao_label              standard_type  standard_units\n",
       "CHEMBL1794375    Unchecked          assay format           Potency        nM                51\n",
       "CHEMBL3885882    Rattus norvegicus  organism-based format  POTASSIUM      mEq.L-1           41\n",
       "                                                           BUN            ug.mL-1           41\n",
       "                                                           ALP            U.L-1             41\n",
       "                                                           ALT            U.L-1             41\n",
       "                                                           AST            U.L-1             41\n",
       "                                                           MCH            pg                41\n",
       "                                                           BASO           cells.uL-1        41\n",
       "                                                           LYMLE          %                 41\n",
       "                                                           BASOLE         %                 41\n",
       "dtype: int64"
      ]
     },
     "execution_count": 6,
     "metadata": {},
     "output_type": "execute_result"
    }
   ],
   "source": [
    "df[['assay_chembl_id', 'target_pref_name', 'bao_label', 'standard_type', 'standard_units']].value_counts()[0:10]"
   ]
  },
  {
   "cell_type": "markdown",
   "metadata": {},
   "source": [
    "### Consider logD measurements to be pchembl values"
   ]
  },
  {
   "cell_type": "code",
   "execution_count": 7,
   "metadata": {},
   "outputs": [],
   "source": [
    "df['pchembl_value'] = df.apply(lambda x: x['standard_value'] if x['standard_type'] == 'LogD' else x['pchembl_value'], axis=1)"
   ]
  },
  {
   "cell_type": "markdown",
   "metadata": {},
   "source": [
    "### Strip salts from the molecular structures."
   ]
  },
  {
   "cell_type": "code",
   "execution_count": 8,
   "metadata": {},
   "outputs": [
    {
     "name": "stderr",
     "output_type": "stream",
     "text": [
      "100%|██████████| 8113/8113 [00:06<00:00, 1273.03it/s]\n"
     ]
    },
    {
     "data": {
      "text/plain": [
       "233"
      ]
     },
     "execution_count": 8,
     "metadata": {},
     "output_type": "execute_result"
    }
   ],
   "source": [
    "df['stripped_smiles'] = df.canonical_smiles.progress_apply(strip_salts)\n",
    "df.stripped_smiles.unique().size"
   ]
  },
  {
   "cell_type": "markdown",
   "metadata": {},
   "source": [
    "### Split training from test set and save"
   ]
  },
  {
   "cell_type": "code",
   "execution_count": 9,
   "metadata": {},
   "outputs": [],
   "source": [
    "training = ~df['stripped_smiles'].isin(['CC(C)(C)NCC(O)c1ccc(O)c(CO)c1'])"
   ]
  },
  {
   "cell_type": "code",
   "execution_count": 10,
   "metadata": {},
   "outputs": [],
   "source": [
    "df[training].to_csv('beta2_agonists_stripped.csv', index=False)\n",
    "df[~training].to_csv('beta2_agonists_stripped_holdout.csv', index=False)"
   ]
  },
  {
   "cell_type": "code",
   "execution_count": null,
   "metadata": {},
   "outputs": [],
   "source": []
  }
 ],
 "metadata": {
  "kernelspec": {
   "display_name": "Python 3",
   "language": "python",
   "name": "python3"
  },
  "language_info": {
   "codemirror_mode": {
    "name": "ipython",
    "version": 3
   },
   "file_extension": ".py",
   "mimetype": "text/x-python",
   "name": "python",
   "nbconvert_exporter": "python",
   "pygments_lexer": "ipython3",
   "version": "3.6.10"
  }
 },
 "nbformat": 4,
 "nbformat_minor": 4
}
