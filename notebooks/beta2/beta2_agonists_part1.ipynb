{
 "cells": [
  {
   "cell_type": "markdown",
   "metadata": {},
   "source": [
    "## Beta-2 adrenergic receptor - part 1 (dataset preparation)"
   ]
  },
  {
   "cell_type": "markdown",
   "metadata": {},
   "source": [
    "### Import libraries"
   ]
  },
  {
   "cell_type": "code",
   "execution_count": 1,
   "metadata": {},
   "outputs": [],
   "source": [
    "import requests\n",
    "import json\n",
    "import pandas as pd\n",
    "\n",
    "from wizepair2.chem import strip_salts, strip_stereo"
   ]
  },
  {
   "cell_type": "code",
   "execution_count": 2,
   "metadata": {},
   "outputs": [
    {
     "name": "stdout",
     "output_type": "stream",
     "text": [
      "INFO: Pandarallel will run on 10 workers.\n",
      "INFO: Pandarallel will use standard multiprocessing data transfer (pipe) to transfer data between the main process and workers.\n"
     ]
    }
   ],
   "source": [
    "from pandarallel import pandarallel\n",
    "pandarallel.initialize(progress_bar=True)"
   ]
  },
  {
   "cell_type": "markdown",
   "metadata": {},
   "source": [
    "### Define POST request and download (40% similarity to EPINEPHRINE)"
   ]
  },
  {
   "cell_type": "code",
   "execution_count": 3,
   "metadata": {},
   "outputs": [
    {
     "data": {
      "text/plain": [
       "<Response [200]>"
      ]
     },
     "execution_count": 3,
     "metadata": {},
     "output_type": "execute_result"
    }
   ],
   "source": [
    "url = \"https://www.ebi.ac.uk/chembl/elk/es/chembl_activity/_search\"\n",
    "headers = {'Content-Type': 'application/json'}\n",
    "with open('beta2_agonists.chembl') as f:\n",
    "    payload = f.read()\n",
    "response = requests.post(url, headers=headers, data=payload)\n",
    "response"
   ]
  },
  {
   "cell_type": "markdown",
   "metadata": {},
   "source": [
    "### Load results into a pandas data frame"
   ]
  },
  {
   "cell_type": "code",
   "execution_count": 4,
   "metadata": {},
   "outputs": [
    {
     "data": {
      "text/html": [
       "<div>\n",
       "<style scoped>\n",
       "    .dataframe tbody tr th:only-of-type {\n",
       "        vertical-align: middle;\n",
       "    }\n",
       "\n",
       "    .dataframe tbody tr th {\n",
       "        vertical-align: top;\n",
       "    }\n",
       "\n",
       "    .dataframe thead th {\n",
       "        text-align: right;\n",
       "    }\n",
       "</style>\n",
       "<table border=\"1\" class=\"dataframe\">\n",
       "  <thead>\n",
       "    <tr style=\"text-align: right;\">\n",
       "      <th></th>\n",
       "      <th>activity_properties</th>\n",
       "      <th>standard_units</th>\n",
       "      <th>standard_type</th>\n",
       "      <th>standard_relation</th>\n",
       "      <th>data_validity_comment</th>\n",
       "      <th>activity_comment</th>\n",
       "      <th>target_pref_name</th>\n",
       "      <th>bao_label</th>\n",
       "      <th>pchembl_value</th>\n",
       "      <th>assay_chembl_id</th>\n",
       "      <th>...</th>\n",
       "      <th>_metadata.assay_data.cell_chembl_id</th>\n",
       "      <th>_metadata.assay_data.assay_organism</th>\n",
       "      <th>_metadata.assay_data.tissue_chembl_id</th>\n",
       "      <th>_metadata.assay_data.assay_parameters</th>\n",
       "      <th>_metadata.assay_data.assay_tissue</th>\n",
       "      <th>_metadata.source.src_description</th>\n",
       "      <th>ligand_efficiency.lle</th>\n",
       "      <th>ligand_efficiency.sei</th>\n",
       "      <th>ligand_efficiency.bei</th>\n",
       "      <th>ligand_efficiency.le</th>\n",
       "    </tr>\n",
       "  </thead>\n",
       "  <tbody>\n",
       "    <tr>\n",
       "      <th>920</th>\n",
       "      <td>[]</td>\n",
       "      <td>nM</td>\n",
       "      <td>AC50</td>\n",
       "      <td>=</td>\n",
       "      <td>None</td>\n",
       "      <td>Summarised AC50 (mean value for measurements w...</td>\n",
       "      <td>Dopamine D1 receptor</td>\n",
       "      <td>single protein format</td>\n",
       "      <td>4.74</td>\n",
       "      <td>CHEMBL5291779</td>\n",
       "      <td>...</td>\n",
       "      <td>None</td>\n",
       "      <td>None</td>\n",
       "      <td>None</td>\n",
       "      <td>[]</td>\n",
       "      <td>None</td>\n",
       "      <td>Scientific Literature</td>\n",
       "      <td>4.09</td>\n",
       "      <td>9.04</td>\n",
       "      <td>28.37</td>\n",
       "      <td>0.54</td>\n",
       "    </tr>\n",
       "    <tr>\n",
       "      <th>39</th>\n",
       "      <td>[]</td>\n",
       "      <td>nM</td>\n",
       "      <td>IC50</td>\n",
       "      <td>=</td>\n",
       "      <td>None</td>\n",
       "      <td>None</td>\n",
       "      <td>Beta-2 adrenergic receptor</td>\n",
       "      <td>single protein format</td>\n",
       "      <td>5.10</td>\n",
       "      <td>CHEMBL1943767</td>\n",
       "      <td>...</td>\n",
       "      <td>None</td>\n",
       "      <td>None</td>\n",
       "      <td>None</td>\n",
       "      <td>[]</td>\n",
       "      <td>None</td>\n",
       "      <td>Scientific Literature</td>\n",
       "      <td>3.51</td>\n",
       "      <td>3.51</td>\n",
       "      <td>11.37</td>\n",
       "      <td>0.22</td>\n",
       "    </tr>\n",
       "    <tr>\n",
       "      <th>487</th>\n",
       "      <td>[]</td>\n",
       "      <td>nM</td>\n",
       "      <td>Potency</td>\n",
       "      <td>=</td>\n",
       "      <td>None</td>\n",
       "      <td>Active</td>\n",
       "      <td>Lysine-specific demethylase 4D-like</td>\n",
       "      <td>assay format</td>\n",
       "      <td>4.80</td>\n",
       "      <td>CHEMBL1613914</td>\n",
       "      <td>...</td>\n",
       "      <td>None</td>\n",
       "      <td>Homo sapiens</td>\n",
       "      <td>None</td>\n",
       "      <td>[]</td>\n",
       "      <td>None</td>\n",
       "      <td>PubChem BioAssays</td>\n",
       "      <td>NaN</td>\n",
       "      <td>NaN</td>\n",
       "      <td>NaN</td>\n",
       "      <td>NaN</td>\n",
       "    </tr>\n",
       "  </tbody>\n",
       "</table>\n",
       "<p>3 rows × 46 columns</p>\n",
       "</div>"
      ],
      "text/plain": [
       "    activity_properties standard_units standard_type standard_relation  \\\n",
       "920                  []             nM          AC50                 =   \n",
       "39                   []             nM          IC50                 =   \n",
       "487                  []             nM       Potency                 =   \n",
       "\n",
       "    data_validity_comment                                   activity_comment  \\\n",
       "920                  None  Summarised AC50 (mean value for measurements w...   \n",
       "39                   None                                               None   \n",
       "487                  None                                             Active   \n",
       "\n",
       "                        target_pref_name              bao_label pchembl_value  \\\n",
       "920                 Dopamine D1 receptor  single protein format          4.74   \n",
       "39            Beta-2 adrenergic receptor  single protein format          5.10   \n",
       "487  Lysine-specific demethylase 4D-like           assay format          4.80   \n",
       "\n",
       "    assay_chembl_id  ... _metadata.assay_data.cell_chembl_id  \\\n",
       "920   CHEMBL5291779  ...                                None   \n",
       "39    CHEMBL1943767  ...                                None   \n",
       "487   CHEMBL1613914  ...                                None   \n",
       "\n",
       "    _metadata.assay_data.assay_organism  \\\n",
       "920                                None   \n",
       "39                                 None   \n",
       "487                        Homo sapiens   \n",
       "\n",
       "     _metadata.assay_data.tissue_chembl_id  \\\n",
       "920                                   None   \n",
       "39                                    None   \n",
       "487                                   None   \n",
       "\n",
       "    _metadata.assay_data.assay_parameters _metadata.assay_data.assay_tissue  \\\n",
       "920                                    []                              None   \n",
       "39                                     []                              None   \n",
       "487                                    []                              None   \n",
       "\n",
       "    _metadata.source.src_description ligand_efficiency.lle  \\\n",
       "920            Scientific Literature                  4.09   \n",
       "39             Scientific Literature                  3.51   \n",
       "487                PubChem BioAssays                   NaN   \n",
       "\n",
       "     ligand_efficiency.sei  ligand_efficiency.bei ligand_efficiency.le  \n",
       "920                   9.04                  28.37                 0.54  \n",
       "39                    3.51                  11.37                 0.22  \n",
       "487                    NaN                    NaN                  NaN  \n",
       "\n",
       "[3 rows x 46 columns]"
      ]
     },
     "execution_count": 4,
     "metadata": {},
     "output_type": "execute_result"
    }
   ],
   "source": [
    "df = json.loads(response.text)['hits']['hits']\n",
    "df = pd.DataFrame(df)._source\n",
    "df = pd.json_normalize(df)\n",
    "df.sample(3)"
   ]
  },
  {
   "cell_type": "markdown",
   "metadata": {},
   "source": [
    "### Summarise the most common molecules."
   ]
  },
  {
   "cell_type": "code",
   "execution_count": 5,
   "metadata": {},
   "outputs": [
    {
     "data": {
      "text/plain": [
       "molecule_chembl_id  _metadata.parent_molecule_data.compound_key\n",
       "CHEMBL434           Isoproterenol                                  58\n",
       "                    Isoprenaline                                   25\n",
       "                    ISO                                            22\n",
       "CHEMBL1256484       SID50106160                                    22\n",
       "CHEMBL1215          phenylephrine                                  19\n",
       "CHEMBL1160723       SID11114195                                    19\n",
       "CHEMBL1215          Phenylephrine                                  18\n",
       "CHEMBL1472703       SID11112037                                    17\n",
       "CHEMBL2062273       SID50105780                                    17\n",
       "CHEMBL1437          NE                                             17\n",
       "dtype: int64"
      ]
     },
     "execution_count": 5,
     "metadata": {},
     "output_type": "execute_result"
    }
   ],
   "source": [
    "df[['molecule_chembl_id', '_metadata.parent_molecule_data.compound_key']].value_counts()[0:10]"
   ]
  },
  {
   "cell_type": "markdown",
   "metadata": {},
   "source": [
    "### Summarise the most common targets."
   ]
  },
  {
   "cell_type": "code",
   "execution_count": 6,
   "metadata": {},
   "outputs": [
    {
     "data": {
      "text/plain": [
       "assay_chembl_id  target_pref_name                                                       bao_label              standard_type  standard_units\n",
       "CHEMBL1614275    Putative fructose-1,6-bisphosphate aldolase                            assay format           Potency        nM                30\n",
       "CHEMBL1613914    Lysine-specific demethylase 4D-like                                    assay format           Potency        nM                28\n",
       "CHEMBL1613803    Hypoxia-inducible factor 1 alpha                                       assay format           Potency        nM                27\n",
       "CHEMBL1614456    Hypoxia-inducible factor 1 alpha                                       assay format           Potency        nM                27\n",
       "CHEMBL1614364    Tyrosyl-DNA phosphodiesterase 1                                        single protein format  Potency        nM                24\n",
       "CHEMBL1614361    Thyroid stimulating hormone receptor                                   assay format           Potency        nM                23\n",
       "CHEMBL1614281    Thyroid stimulating hormone receptor                                   assay format           Potency        nM                19\n",
       "CHEMBL1614421    Microtubule-associated protein tau                                     single protein format  Potency        nM                19\n",
       "CHEMBL1614227    Endoplasmic reticulum-associated amyloid beta-peptide-binding protein  assay format           Potency        nM                18\n",
       "CHEMBL1614174    4'-phosphopantetheinyl transferase ffp                                 assay format           Potency        nM                16\n",
       "dtype: int64"
      ]
     },
     "execution_count": 6,
     "metadata": {},
     "output_type": "execute_result"
    }
   ],
   "source": [
    "df[['assay_chembl_id', 'target_pref_name', 'bao_label', 'standard_type', 'standard_units']].value_counts()[0:10]"
   ]
  },
  {
   "cell_type": "markdown",
   "metadata": {},
   "source": [
    "### Consider logD measurements to be pchembl values"
   ]
  },
  {
   "cell_type": "code",
   "execution_count": 7,
   "metadata": {},
   "outputs": [],
   "source": [
    "df['pchembl_value'] = df.apply(lambda x: x['standard_value'] if x['standard_type'] == 'LogD' else x['pchembl_value'], axis=1)"
   ]
  },
  {
   "cell_type": "markdown",
   "metadata": {},
   "source": [
    "### Strip salts from the molecular structures."
   ]
  },
  {
   "cell_type": "code",
   "execution_count": 8,
   "metadata": {},
   "outputs": [
    {
     "data": {
      "application/vnd.jupyter.widget-view+json": {
       "model_id": "ef6d3d96d6ad4da19294c55217699acf",
       "version_major": 2,
       "version_minor": 0
      },
      "text/plain": [
       "VBox(children=(HBox(children=(IntProgress(value=0, description='0.00%', max=137), Label(value='0 / 137'))), HB…"
      ]
     },
     "metadata": {},
     "output_type": "display_data"
    },
    {
     "data": {
      "text/plain": [
       "88"
      ]
     },
     "execution_count": 8,
     "metadata": {},
     "output_type": "execute_result"
    }
   ],
   "source": [
    "df['stripped_smiles'] = df.canonical_smiles.parallel_apply(strip_salts)\n",
    "df.stripped_smiles.unique().size"
   ]
  },
  {
   "cell_type": "markdown",
   "metadata": {},
   "source": [
    "### Split training from test set and save"
   ]
  },
  {
   "cell_type": "code",
   "execution_count": 9,
   "metadata": {},
   "outputs": [],
   "source": [
    "df['achiral_smiles'] = df.stripped_smiles.apply(strip_stereo)\n",
    "training = ~df['achiral_smiles'].isin(['CC(C)(C)NCC(O)c1ccc(O)c(CO)c1'])"
   ]
  },
  {
   "cell_type": "code",
   "execution_count": 10,
   "metadata": {},
   "outputs": [],
   "source": [
    "df[training].to_csv('beta2_agonists_stripped.csv', index=False)\n",
    "df[~training].to_csv('beta2_agonists_stripped_holdout.csv', index=False)"
   ]
  },
  {
   "cell_type": "code",
   "execution_count": 11,
   "metadata": {},
   "outputs": [],
   "source": [
    "#df.to_csv('beta2_agonists_stripped.csv', index=False)"
   ]
  }
 ],
 "metadata": {
  "kernelspec": {
   "display_name": "Python 3 (ipykernel)",
   "language": "python",
   "name": "python3"
  },
  "language_info": {
   "codemirror_mode": {
    "name": "ipython",
    "version": 3
   },
   "file_extension": ".py",
   "mimetype": "text/x-python",
   "name": "python",
   "nbconvert_exporter": "python",
   "pygments_lexer": "ipython3",
   "version": "3.12.2"
  }
 },
 "nbformat": 4,
 "nbformat_minor": 4
}
