{
 "cells": [
  {
   "cell_type": "markdown",
   "metadata": {},
   "source": [
    "## Beta-2 adrenergic receptor - part 1 (dataset preparation)"
   ]
  },
  {
   "cell_type": "markdown",
   "metadata": {},
   "source": [
    "### Import libraries"
   ]
  },
  {
   "cell_type": "code",
   "execution_count": 1,
   "metadata": {},
   "outputs": [],
   "source": [
    "import requests\n",
    "import json\n",
    "import pandas as pd"
   ]
  },
  {
   "cell_type": "code",
   "execution_count": 2,
   "metadata": {},
   "outputs": [
    {
     "name": "stdout",
     "output_type": "stream",
     "text": [
      "INFO: Pandarallel will run on 8 workers.\n",
      "INFO: Pandarallel will use Memory file system to transfer data between the main process and workers.\n"
     ]
    }
   ],
   "source": [
    "from pandarallel import pandarallel\n",
    "pandarallel.initialize(progress_bar=True)\n",
    "\n",
    "import sys\n",
    "sys.path.append('/home/daniel/wizepair2')\n",
    "from classes.chem import strip_salts, strip_stereo"
   ]
  },
  {
   "cell_type": "markdown",
   "metadata": {},
   "source": [
    "### Define POST request and download (40% similarity to EPINEPHRINE)"
   ]
  },
  {
   "cell_type": "code",
   "execution_count": 3,
   "metadata": {},
   "outputs": [
    {
     "data": {
      "text/plain": [
       "<Response [200]>"
      ]
     },
     "execution_count": 3,
     "metadata": {},
     "output_type": "execute_result"
    }
   ],
   "source": [
    "url = \"https://www.ebi.ac.uk/chembl/elk/es/chembl_activity/_search\"\n",
    "headers = {'Content-Type': 'application/json'}\n",
    "with open('beta2_agonists.chembl') as f:\n",
    "    payload = f.read()\n",
    "response = requests.post(url, headers=headers, data=payload)\n",
    "response"
   ]
  },
  {
   "cell_type": "markdown",
   "metadata": {},
   "source": [
    "### Load results into a pandas data frame"
   ]
  },
  {
   "cell_type": "code",
   "execution_count": 4,
   "metadata": {},
   "outputs": [
    {
     "data": {
      "text/html": [
       "<div>\n",
       "<style scoped>\n",
       "    .dataframe tbody tr th:only-of-type {\n",
       "        vertical-align: middle;\n",
       "    }\n",
       "\n",
       "    .dataframe tbody tr th {\n",
       "        vertical-align: top;\n",
       "    }\n",
       "\n",
       "    .dataframe thead th {\n",
       "        text-align: right;\n",
       "    }\n",
       "</style>\n",
       "<table border=\"1\" class=\"dataframe\">\n",
       "  <thead>\n",
       "    <tr style=\"text-align: right;\">\n",
       "      <th></th>\n",
       "      <th>activity_properties</th>\n",
       "      <th>standard_units</th>\n",
       "      <th>standard_type</th>\n",
       "      <th>standard_relation</th>\n",
       "      <th>data_validity_comment</th>\n",
       "      <th>activity_comment</th>\n",
       "      <th>target_pref_name</th>\n",
       "      <th>bao_label</th>\n",
       "      <th>pchembl_value</th>\n",
       "      <th>assay_chembl_id</th>\n",
       "      <th>...</th>\n",
       "      <th>_metadata.assay_data.cell_chembl_id</th>\n",
       "      <th>_metadata.assay_data.assay_organism</th>\n",
       "      <th>_metadata.assay_data.tissue_chembl_id</th>\n",
       "      <th>_metadata.assay_data.assay_parameters</th>\n",
       "      <th>_metadata.assay_data.assay_tissue</th>\n",
       "      <th>_metadata.source.src_description</th>\n",
       "      <th>ligand_efficiency.lle</th>\n",
       "      <th>ligand_efficiency.sei</th>\n",
       "      <th>ligand_efficiency.bei</th>\n",
       "      <th>ligand_efficiency.le</th>\n",
       "    </tr>\n",
       "  </thead>\n",
       "  <tbody>\n",
       "    <tr>\n",
       "      <th>814</th>\n",
       "      <td>[]</td>\n",
       "      <td>nM</td>\n",
       "      <td>AC50</td>\n",
       "      <td>=</td>\n",
       "      <td>None</td>\n",
       "      <td>inconclusive</td>\n",
       "      <td>Cytochrome P450 1A2</td>\n",
       "      <td>assay format</td>\n",
       "      <td>5.00</td>\n",
       "      <td>CHEMBL1741322</td>\n",
       "      <td>...</td>\n",
       "      <td>None</td>\n",
       "      <td>None</td>\n",
       "      <td>None</td>\n",
       "      <td>[]</td>\n",
       "      <td>None</td>\n",
       "      <td>PubChem BioAssays</td>\n",
       "      <td>NaN</td>\n",
       "      <td>NaN</td>\n",
       "      <td>NaN</td>\n",
       "      <td>NaN</td>\n",
       "    </tr>\n",
       "    <tr>\n",
       "      <th>579</th>\n",
       "      <td>[]</td>\n",
       "      <td>nM</td>\n",
       "      <td>Potency</td>\n",
       "      <td>=</td>\n",
       "      <td>None</td>\n",
       "      <td>Inconclusive</td>\n",
       "      <td>4'-phosphopantetheinyl transferase ffp</td>\n",
       "      <td>assay format</td>\n",
       "      <td>4.33</td>\n",
       "      <td>CHEMBL1614084</td>\n",
       "      <td>...</td>\n",
       "      <td>None</td>\n",
       "      <td>Bacillus subtilis</td>\n",
       "      <td>None</td>\n",
       "      <td>[]</td>\n",
       "      <td>None</td>\n",
       "      <td>PubChem BioAssays</td>\n",
       "      <td>NaN</td>\n",
       "      <td>NaN</td>\n",
       "      <td>NaN</td>\n",
       "      <td>NaN</td>\n",
       "    </tr>\n",
       "    <tr>\n",
       "      <th>982</th>\n",
       "      <td>[]</td>\n",
       "      <td>nM</td>\n",
       "      <td>Ki</td>\n",
       "      <td>=</td>\n",
       "      <td>None</td>\n",
       "      <td>None</td>\n",
       "      <td>Alpha-1b adrenergic receptor</td>\n",
       "      <td>single protein format</td>\n",
       "      <td>6.58</td>\n",
       "      <td>CHEMBL859457</td>\n",
       "      <td>...</td>\n",
       "      <td>None</td>\n",
       "      <td>Cricetulus griseus</td>\n",
       "      <td>None</td>\n",
       "      <td>[]</td>\n",
       "      <td>None</td>\n",
       "      <td>Scientific Literature</td>\n",
       "      <td>6.49</td>\n",
       "      <td>7.59</td>\n",
       "      <td>38.89</td>\n",
       "      <td>0.75</td>\n",
       "    </tr>\n",
       "  </tbody>\n",
       "</table>\n",
       "<p>3 rows × 46 columns</p>\n",
       "</div>"
      ],
      "text/plain": [
       "    activity_properties standard_units standard_type standard_relation  \\\n",
       "814                  []             nM          AC50                 =   \n",
       "579                  []             nM       Potency                 =   \n",
       "982                  []             nM            Ki                 =   \n",
       "\n",
       "    data_validity_comment activity_comment  \\\n",
       "814                  None     inconclusive   \n",
       "579                  None     Inconclusive   \n",
       "982                  None             None   \n",
       "\n",
       "                           target_pref_name              bao_label  \\\n",
       "814                     Cytochrome P450 1A2           assay format   \n",
       "579  4'-phosphopantetheinyl transferase ffp           assay format   \n",
       "982            Alpha-1b adrenergic receptor  single protein format   \n",
       "\n",
       "    pchembl_value assay_chembl_id  ... _metadata.assay_data.cell_chembl_id  \\\n",
       "814          5.00   CHEMBL1741322  ...                                None   \n",
       "579          4.33   CHEMBL1614084  ...                                None   \n",
       "982          6.58    CHEMBL859457  ...                                None   \n",
       "\n",
       "    _metadata.assay_data.assay_organism  \\\n",
       "814                                None   \n",
       "579                   Bacillus subtilis   \n",
       "982                  Cricetulus griseus   \n",
       "\n",
       "     _metadata.assay_data.tissue_chembl_id  \\\n",
       "814                                   None   \n",
       "579                                   None   \n",
       "982                                   None   \n",
       "\n",
       "    _metadata.assay_data.assay_parameters _metadata.assay_data.assay_tissue  \\\n",
       "814                                    []                              None   \n",
       "579                                    []                              None   \n",
       "982                                    []                              None   \n",
       "\n",
       "    _metadata.source.src_description ligand_efficiency.lle  \\\n",
       "814                PubChem BioAssays                   NaN   \n",
       "579                PubChem BioAssays                   NaN   \n",
       "982            Scientific Literature                  6.49   \n",
       "\n",
       "     ligand_efficiency.sei  ligand_efficiency.bei ligand_efficiency.le  \n",
       "814                    NaN                    NaN                  NaN  \n",
       "579                    NaN                    NaN                  NaN  \n",
       "982                   7.59                  38.89                 0.75  \n",
       "\n",
       "[3 rows x 46 columns]"
      ]
     },
     "execution_count": 4,
     "metadata": {},
     "output_type": "execute_result"
    }
   ],
   "source": [
    "df = json.loads(response.text)['hits']['hits']\n",
    "df = pd.DataFrame(df)._source\n",
    "df = pd.json_normalize(df)\n",
    "df.sample(3)"
   ]
  },
  {
   "cell_type": "markdown",
   "metadata": {},
   "source": [
    "### Summarise the most common molecules."
   ]
  },
  {
   "cell_type": "code",
   "execution_count": 5,
   "metadata": {},
   "outputs": [
    {
     "data": {
      "text/plain": [
       "molecule_chembl_id  _metadata.parent_molecule_data.compound_key\n",
       "CHEMBL434           Isoproterenol                                  53\n",
       "                    Isoprenaline                                   26\n",
       "CHEMBL1256484       SID50106160                                    22\n",
       "CHEMBL2062275       SID11112034                                    19\n",
       "CHEMBL679           EPINEPHRINE                                    18\n",
       "CHEMBL1160723       SID11114195                                    17\n",
       "CHEMBL1215          Phenylephrine                                  17\n",
       "CHEMBL2062273       SID50105780                                    17\n",
       "CHEMBL1437          NE                                             17\n",
       "CHEMBL434           ISO                                            17\n",
       "dtype: int64"
      ]
     },
     "execution_count": 5,
     "metadata": {},
     "output_type": "execute_result"
    }
   ],
   "source": [
    "df[['molecule_chembl_id', '_metadata.parent_molecule_data.compound_key']].value_counts()[0:10]"
   ]
  },
  {
   "cell_type": "markdown",
   "metadata": {},
   "source": [
    "### Summarise the most common targets."
   ]
  },
  {
   "cell_type": "code",
   "execution_count": 6,
   "metadata": {},
   "outputs": [
    {
     "data": {
      "text/plain": [
       "assay_chembl_id  target_pref_name                                                       bao_label              standard_type  standard_units\n",
       "CHEMBL1614275    Putative fructose-1,6-bisphosphate aldolase                            assay format           Potency        nM                30\n",
       "CHEMBL1613914    Lysine-specific demethylase 4D-like                                    assay format           Potency        nM                28\n",
       "CHEMBL1613803    Hypoxia-inducible factor 1 alpha                                       assay format           Potency        nM                27\n",
       "CHEMBL1614456    Hypoxia-inducible factor 1 alpha                                       assay format           Potency        nM                27\n",
       "CHEMBL1614364    Tyrosyl-DNA phosphodiesterase 1                                        single protein format  Potency        nM                24\n",
       "CHEMBL1614361    Thyroid stimulating hormone receptor                                   assay format           Potency        nM                23\n",
       "CHEMBL1614421    Microtubule-associated protein tau                                     single protein format  Potency        nM                19\n",
       "CHEMBL1614281    Thyroid stimulating hormone receptor                                   assay format           Potency        nM                19\n",
       "CHEMBL1614227    Endoplasmic reticulum-associated amyloid beta-peptide-binding protein  assay format           Potency        nM                18\n",
       "CHEMBL1614174    4'-phosphopantetheinyl transferase ffp                                 assay format           Potency        nM                16\n",
       "dtype: int64"
      ]
     },
     "execution_count": 6,
     "metadata": {},
     "output_type": "execute_result"
    }
   ],
   "source": [
    "df[['assay_chembl_id', 'target_pref_name', 'bao_label', 'standard_type', 'standard_units']].value_counts()[0:10]"
   ]
  },
  {
   "cell_type": "markdown",
   "metadata": {},
   "source": [
    "### Consider logD measurements to be pchembl values"
   ]
  },
  {
   "cell_type": "code",
   "execution_count": 7,
   "metadata": {},
   "outputs": [],
   "source": [
    "df['pchembl_value'] = df.apply(lambda x: x['standard_value'] if x['standard_type'] == 'LogD' else x['pchembl_value'], axis=1)"
   ]
  },
  {
   "cell_type": "markdown",
   "metadata": {},
   "source": [
    "### Strip salts from the molecular structures."
   ]
  },
  {
   "cell_type": "code",
   "execution_count": 8,
   "metadata": {},
   "outputs": [
    {
     "data": {
      "application/vnd.jupyter.widget-view+json": {
       "model_id": "5b4e6281ae334b18a20e67ff305c1687",
       "version_major": 2,
       "version_minor": 0
      },
      "text/plain": [
       "VBox(children=(HBox(children=(IntProgress(value=0, description='0.00%', max=160), Label(value='0 / 160'))), HB…"
      ]
     },
     "metadata": {},
     "output_type": "display_data"
    },
    {
     "data": {
      "text/plain": [
       "87"
      ]
     },
     "execution_count": 8,
     "metadata": {},
     "output_type": "execute_result"
    }
   ],
   "source": [
    "df['stripped_smiles'] = df.canonical_smiles.parallel_apply(strip_salts)\n",
    "df.stripped_smiles.unique().size"
   ]
  },
  {
   "cell_type": "markdown",
   "metadata": {},
   "source": [
    "### Split training from test set and save"
   ]
  },
  {
   "cell_type": "code",
   "execution_count": 9,
   "metadata": {},
   "outputs": [],
   "source": [
    "df['achiral_smiles'] = df.stripped_smiles.apply(strip_stereo)\n",
    "training = ~df['achiral_smiles'].isin(['CC(C)(C)NCC(O)c1ccc(O)c(CO)c1'])"
   ]
  },
  {
   "cell_type": "code",
   "execution_count": 10,
   "metadata": {},
   "outputs": [],
   "source": [
    "df[training].to_csv('beta2_agonists_stripped.csv', index=False)\n",
    "df[~training].to_csv('beta2_agonists_stripped_holdout.csv', index=False)"
   ]
  },
  {
   "cell_type": "code",
   "execution_count": 11,
   "metadata": {},
   "outputs": [],
   "source": [
    "#df.to_csv('beta2_agonists_stripped.csv', index=False)"
   ]
  }
 ],
 "metadata": {
  "kernelspec": {
   "display_name": "Python 3 (ipykernel)",
   "language": "python",
   "name": "python3"
  },
  "language_info": {
   "codemirror_mode": {
    "name": "ipython",
    "version": 3
   },
   "file_extension": ".py",
   "mimetype": "text/x-python",
   "name": "python",
   "nbconvert_exporter": "python",
   "pygments_lexer": "ipython3",
   "version": "3.7.0"
  }
 },
 "nbformat": 4,
 "nbformat_minor": 4
}
