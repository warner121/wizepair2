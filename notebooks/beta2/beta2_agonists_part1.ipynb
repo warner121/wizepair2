{
 "cells": [
  {
   "cell_type": "markdown",
   "metadata": {},
   "source": [
    "## Beta-2 adrenergic receptor - part 1 (dataset preparation)"
   ]
  },
  {
   "cell_type": "markdown",
   "metadata": {},
   "source": [
    "### Import libraries"
   ]
  },
  {
   "cell_type": "code",
   "execution_count": 1,
   "metadata": {},
   "outputs": [],
   "source": [
    "import requests\n",
    "import json\n",
    "import pandas as pd"
   ]
  },
  {
   "cell_type": "code",
   "execution_count": 2,
   "metadata": {},
   "outputs": [
    {
     "name": "stdout",
     "output_type": "stream",
     "text": [
      "INFO: Pandarallel will run on 6 workers.\n",
      "INFO: Pandarallel will use Memory file system to transfer data between the main process and workers.\n"
     ]
    }
   ],
   "source": [
    "from pandarallel import pandarallel\n",
    "pandarallel.initialize(progress_bar=True)\n",
    "\n",
    "import sys\n",
    "sys.path.append('/home/daniel/wizepair2')\n",
    "from classes.chem import strip_salts, strip_stereo"
   ]
  },
  {
   "cell_type": "markdown",
   "metadata": {},
   "source": [
    "### Define POST request and download (40% similarity to EPINEPHRINE)"
   ]
  },
  {
   "cell_type": "code",
   "execution_count": 3,
   "metadata": {},
   "outputs": [
    {
     "data": {
      "text/plain": [
       "<Response [200]>"
      ]
     },
     "execution_count": 3,
     "metadata": {},
     "output_type": "execute_result"
    }
   ],
   "source": [
    "url = \"https://www.ebi.ac.uk/chembl/elk/es/chembl_activity/_search\"\n",
    "headers = {'Content-Type': 'application/json'}\n",
    "with open('beta2_agonists.chembl') as f:\n",
    "    payload = f.read()\n",
    "response = requests.post(url, headers=headers, data=payload)\n",
    "response"
   ]
  },
  {
   "cell_type": "markdown",
   "metadata": {},
   "source": [
    "### Load results into a pandas data frame"
   ]
  },
  {
   "cell_type": "code",
   "execution_count": 4,
   "metadata": {},
   "outputs": [
    {
     "data": {
      "text/html": [
       "<div>\n",
       "<style scoped>\n",
       "    .dataframe tbody tr th:only-of-type {\n",
       "        vertical-align: middle;\n",
       "    }\n",
       "\n",
       "    .dataframe tbody tr th {\n",
       "        vertical-align: top;\n",
       "    }\n",
       "\n",
       "    .dataframe thead th {\n",
       "        text-align: right;\n",
       "    }\n",
       "</style>\n",
       "<table border=\"1\" class=\"dataframe\">\n",
       "  <thead>\n",
       "    <tr style=\"text-align: right;\">\n",
       "      <th></th>\n",
       "      <th>activity_properties</th>\n",
       "      <th>standard_units</th>\n",
       "      <th>standard_type</th>\n",
       "      <th>standard_relation</th>\n",
       "      <th>data_validity_comment</th>\n",
       "      <th>activity_comment</th>\n",
       "      <th>target_pref_name</th>\n",
       "      <th>bao_label</th>\n",
       "      <th>pchembl_value</th>\n",
       "      <th>assay_chembl_id</th>\n",
       "      <th>...</th>\n",
       "      <th>_metadata.assay_data.cell_chembl_id</th>\n",
       "      <th>_metadata.assay_data.assay_organism</th>\n",
       "      <th>_metadata.assay_data.tissue_chembl_id</th>\n",
       "      <th>_metadata.assay_data.assay_parameters</th>\n",
       "      <th>_metadata.assay_data.assay_tissue</th>\n",
       "      <th>_metadata.source.src_description</th>\n",
       "      <th>ligand_efficiency.lle</th>\n",
       "      <th>ligand_efficiency.sei</th>\n",
       "      <th>ligand_efficiency.bei</th>\n",
       "      <th>ligand_efficiency.le</th>\n",
       "    </tr>\n",
       "  </thead>\n",
       "  <tbody>\n",
       "    <tr>\n",
       "      <th>418</th>\n",
       "      <td>[]</td>\n",
       "      <td>nM</td>\n",
       "      <td>IC50</td>\n",
       "      <td>=</td>\n",
       "      <td>None</td>\n",
       "      <td>None</td>\n",
       "      <td>Plasmodium falciparum</td>\n",
       "      <td>organism-based format</td>\n",
       "      <td>4.90</td>\n",
       "      <td>CHEMBL1267247</td>\n",
       "      <td>...</td>\n",
       "      <td>None</td>\n",
       "      <td>Plasmodium falciparum D10</td>\n",
       "      <td>None</td>\n",
       "      <td>[]</td>\n",
       "      <td>None</td>\n",
       "      <td>Scientific Literature</td>\n",
       "      <td>NaN</td>\n",
       "      <td>NaN</td>\n",
       "      <td>NaN</td>\n",
       "      <td>NaN</td>\n",
       "    </tr>\n",
       "    <tr>\n",
       "      <th>1163</th>\n",
       "      <td>[]</td>\n",
       "      <td>nM</td>\n",
       "      <td>Ki</td>\n",
       "      <td>=</td>\n",
       "      <td>None</td>\n",
       "      <td>None</td>\n",
       "      <td>Adrenergic receptor alpha-1</td>\n",
       "      <td>tissue-based format</td>\n",
       "      <td>4.45</td>\n",
       "      <td>CHEMBL647128</td>\n",
       "      <td>...</td>\n",
       "      <td>None</td>\n",
       "      <td>None</td>\n",
       "      <td>CHEMBL3638188</td>\n",
       "      <td>[]</td>\n",
       "      <td>Brain</td>\n",
       "      <td>Scientific Literature</td>\n",
       "      <td>3.32</td>\n",
       "      <td>6.12</td>\n",
       "      <td>21.06</td>\n",
       "      <td>0.41</td>\n",
       "    </tr>\n",
       "    <tr>\n",
       "      <th>815</th>\n",
       "      <td>[]</td>\n",
       "      <td>nM</td>\n",
       "      <td>Ki</td>\n",
       "      <td>=</td>\n",
       "      <td>None</td>\n",
       "      <td>None</td>\n",
       "      <td>Beta-2 adrenergic receptor</td>\n",
       "      <td>cell-based format</td>\n",
       "      <td>7.34</td>\n",
       "      <td>CHEMBL4397556</td>\n",
       "      <td>...</td>\n",
       "      <td>CHEMBL3308072</td>\n",
       "      <td>Homo sapiens</td>\n",
       "      <td>None</td>\n",
       "      <td>[]</td>\n",
       "      <td>None</td>\n",
       "      <td>Scientific Literature</td>\n",
       "      <td>6.21</td>\n",
       "      <td>10.09</td>\n",
       "      <td>34.73</td>\n",
       "      <td>0.67</td>\n",
       "    </tr>\n",
       "  </tbody>\n",
       "</table>\n",
       "<p>3 rows × 46 columns</p>\n",
       "</div>"
      ],
      "text/plain": [
       "     activity_properties standard_units standard_type standard_relation  \\\n",
       "418                   []             nM          IC50                 =   \n",
       "1163                  []             nM            Ki                 =   \n",
       "815                   []             nM            Ki                 =   \n",
       "\n",
       "     data_validity_comment activity_comment             target_pref_name  \\\n",
       "418                   None             None        Plasmodium falciparum   \n",
       "1163                  None             None  Adrenergic receptor alpha-1   \n",
       "815                   None             None   Beta-2 adrenergic receptor   \n",
       "\n",
       "                  bao_label pchembl_value assay_chembl_id  ...  \\\n",
       "418   organism-based format          4.90   CHEMBL1267247  ...   \n",
       "1163    tissue-based format          4.45    CHEMBL647128  ...   \n",
       "815       cell-based format          7.34   CHEMBL4397556  ...   \n",
       "\n",
       "     _metadata.assay_data.cell_chembl_id _metadata.assay_data.assay_organism  \\\n",
       "418                                 None           Plasmodium falciparum D10   \n",
       "1163                                None                                None   \n",
       "815                        CHEMBL3308072                        Homo sapiens   \n",
       "\n",
       "      _metadata.assay_data.tissue_chembl_id  \\\n",
       "418                                    None   \n",
       "1163                          CHEMBL3638188   \n",
       "815                                    None   \n",
       "\n",
       "     _metadata.assay_data.assay_parameters _metadata.assay_data.assay_tissue  \\\n",
       "418                                     []                              None   \n",
       "1163                                    []                             Brain   \n",
       "815                                     []                              None   \n",
       "\n",
       "     _metadata.source.src_description ligand_efficiency.lle  \\\n",
       "418             Scientific Literature                   NaN   \n",
       "1163            Scientific Literature                  3.32   \n",
       "815             Scientific Literature                  6.21   \n",
       "\n",
       "      ligand_efficiency.sei  ligand_efficiency.bei ligand_efficiency.le  \n",
       "418                     NaN                    NaN                  NaN  \n",
       "1163                   6.12                  21.06                 0.41  \n",
       "815                   10.09                  34.73                 0.67  \n",
       "\n",
       "[3 rows x 46 columns]"
      ]
     },
     "execution_count": 4,
     "metadata": {},
     "output_type": "execute_result"
    }
   ],
   "source": [
    "df = json.loads(response.text)['hits']['hits']\n",
    "df = pd.DataFrame(df)._source\n",
    "df = pd.json_normalize(df)\n",
    "df.sample(3)"
   ]
  },
  {
   "cell_type": "markdown",
   "metadata": {},
   "source": [
    "### Summarise the most common molecules."
   ]
  },
  {
   "cell_type": "code",
   "execution_count": 5,
   "metadata": {},
   "outputs": [
    {
     "data": {
      "text/plain": [
       "molecule_chembl_id  _metadata.parent_molecule_data.compound_key\n",
       "CHEMBL434           Isoproterenol                                  53\n",
       "                    Isoprenaline                                   26\n",
       "CHEMBL1256484       SID50106160                                    22\n",
       "CHEMBL2062275       SID11112034                                    19\n",
       "CHEMBL679           EPINEPHRINE                                    18\n",
       "CHEMBL1160723       SID11114195                                    17\n",
       "CHEMBL1215          Phenylephrine                                  17\n",
       "CHEMBL2062273       SID50105780                                    17\n",
       "CHEMBL1437          NE                                             17\n",
       "CHEMBL434           ISO                                            17\n",
       "dtype: int64"
      ]
     },
     "execution_count": 5,
     "metadata": {},
     "output_type": "execute_result"
    }
   ],
   "source": [
    "df[['molecule_chembl_id', '_metadata.parent_molecule_data.compound_key']].value_counts()[0:10]"
   ]
  },
  {
   "cell_type": "markdown",
   "metadata": {},
   "source": [
    "### Summarise the most common targets."
   ]
  },
  {
   "cell_type": "code",
   "execution_count": 6,
   "metadata": {},
   "outputs": [
    {
     "data": {
      "text/plain": [
       "assay_chembl_id  target_pref_name                                                       bao_label              standard_type  standard_units\n",
       "CHEMBL1614275    Putative fructose-1,6-bisphosphate aldolase                            assay format           Potency        nM                30\n",
       "CHEMBL1613914    Lysine-specific demethylase 4D-like                                    assay format           Potency        nM                28\n",
       "CHEMBL1613803    Hypoxia-inducible factor 1 alpha                                       assay format           Potency        nM                27\n",
       "CHEMBL1614456    Hypoxia-inducible factor 1 alpha                                       assay format           Potency        nM                27\n",
       "CHEMBL1614364    Tyrosyl-DNA phosphodiesterase 1                                        single protein format  Potency        nM                24\n",
       "CHEMBL1614361    Thyroid stimulating hormone receptor                                   assay format           Potency        nM                23\n",
       "CHEMBL1614421    Microtubule-associated protein tau                                     single protein format  Potency        nM                19\n",
       "CHEMBL1614281    Thyroid stimulating hormone receptor                                   assay format           Potency        nM                19\n",
       "CHEMBL1614227    Endoplasmic reticulum-associated amyloid beta-peptide-binding protein  assay format           Potency        nM                18\n",
       "CHEMBL1614174    4'-phosphopantetheinyl transferase ffp                                 assay format           Potency        nM                16\n",
       "dtype: int64"
      ]
     },
     "execution_count": 6,
     "metadata": {},
     "output_type": "execute_result"
    }
   ],
   "source": [
    "df[['assay_chembl_id', 'target_pref_name', 'bao_label', 'standard_type', 'standard_units']].value_counts()[0:10]"
   ]
  },
  {
   "cell_type": "markdown",
   "metadata": {},
   "source": [
    "### Consider logD measurements to be pchembl values"
   ]
  },
  {
   "cell_type": "code",
   "execution_count": 7,
   "metadata": {},
   "outputs": [],
   "source": [
    "df['pchembl_value'] = df.apply(lambda x: x['standard_value'] if x['standard_type'] == 'LogD' else x['pchembl_value'], axis=1)"
   ]
  },
  {
   "cell_type": "markdown",
   "metadata": {},
   "source": [
    "### Strip salts from the molecular structures."
   ]
  },
  {
   "cell_type": "code",
   "execution_count": 8,
   "metadata": {},
   "outputs": [
    {
     "data": {
      "application/vnd.jupyter.widget-view+json": {
       "model_id": "b336ad69f8ad45d19ddc381a228c2278",
       "version_major": 2,
       "version_minor": 0
      },
      "text/plain": [
       "VBox(children=(HBox(children=(IntProgress(value=0, description='0.00%', max=214), Label(value='0 / 214'))), HB…"
      ]
     },
     "metadata": {},
     "output_type": "display_data"
    },
    {
     "data": {
      "text/plain": [
       "87"
      ]
     },
     "execution_count": 8,
     "metadata": {},
     "output_type": "execute_result"
    }
   ],
   "source": [
    "df['stripped_smiles'] = df.canonical_smiles.parallel_apply(strip_salts)\n",
    "df.stripped_smiles.unique().size"
   ]
  },
  {
   "cell_type": "markdown",
   "metadata": {},
   "source": [
    "### Split training from test set and save"
   ]
  },
  {
   "cell_type": "code",
   "execution_count": 9,
   "metadata": {},
   "outputs": [],
   "source": [
    "df['achiral_smiles'] = df.stripped_smiles.apply(strip_stereo)\n",
    "training = ~df['achiral_smiles'].isin(['CC(C)(C)NCC(O)c1ccc(O)c(CO)c1'])"
   ]
  },
  {
   "cell_type": "code",
   "execution_count": 10,
   "metadata": {},
   "outputs": [],
   "source": [
    "df[training].to_csv('beta2_agonists_stripped.csv', index=False)\n",
    "df[~training].to_csv('beta2_agonists_stripped_holdout.csv', index=False)"
   ]
  },
  {
   "cell_type": "code",
   "execution_count": 11,
   "metadata": {},
   "outputs": [],
   "source": [
    "#df.to_csv('beta2_agonists_stripped.csv', index=False)"
   ]
  }
 ],
 "metadata": {
  "kernelspec": {
   "display_name": "Python 3 (ipykernel)",
   "language": "python",
   "name": "python3"
  },
  "language_info": {
   "codemirror_mode": {
    "name": "ipython",
    "version": 3
   },
   "file_extension": ".py",
   "mimetype": "text/x-python",
   "name": "python",
   "nbconvert_exporter": "python",
   "pygments_lexer": "ipython3",
   "version": "3.7.0"
  }
 },
 "nbformat": 4,
 "nbformat_minor": 4
}
