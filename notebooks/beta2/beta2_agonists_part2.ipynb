{
 "cells": [
  {
   "cell_type": "markdown",
   "metadata": {},
   "source": [
    "## Beta-2 adrenergic receptor - part 2 (MMP identification)"
   ]
  },
  {
   "cell_type": "markdown",
   "metadata": {},
   "source": [
    "### Import libraries"
   ]
  },
  {
   "cell_type": "code",
   "execution_count": 1,
   "metadata": {},
   "outputs": [],
   "source": [
    "import pandas as pd"
   ]
  },
  {
   "cell_type": "code",
   "execution_count": 2,
   "metadata": {},
   "outputs": [],
   "source": [
    "from tqdm import tqdm\n",
    "tqdm.pandas()\n",
    "\n",
    "import sys\n",
    "sys.path.append('/home/daniel/wizepair2')\n",
    "from mmpa.mmp import MMP"
   ]
  },
  {
   "cell_type": "markdown",
   "metadata": {},
   "source": [
    "### Read in the dataset"
   ]
  },
  {
   "cell_type": "code",
   "execution_count": 3,
   "metadata": {},
   "outputs": [
    {
     "data": {
      "text/plain": [
       "7600"
      ]
     },
     "execution_count": 3,
     "metadata": {},
     "output_type": "execute_result"
    }
   ],
   "source": [
    "df = pd.read_csv('beta2_agonists_stripped.csv')\n",
    "len(df.index)"
   ]
  },
  {
   "cell_type": "markdown",
   "metadata": {},
   "source": [
    "### Create cartesian product of unique molecules tested in the same assay"
   ]
  },
  {
   "cell_type": "code",
   "execution_count": 4,
   "metadata": {},
   "outputs": [
    {
     "data": {
      "text/html": [
       "<div>\n",
       "<style scoped>\n",
       "    .dataframe tbody tr th:only-of-type {\n",
       "        vertical-align: middle;\n",
       "    }\n",
       "\n",
       "    .dataframe tbody tr th {\n",
       "        vertical-align: top;\n",
       "    }\n",
       "\n",
       "    .dataframe thead th {\n",
       "        text-align: right;\n",
       "    }\n",
       "</style>\n",
       "<table border=\"1\" class=\"dataframe\">\n",
       "  <thead>\n",
       "    <tr style=\"text-align: right;\">\n",
       "      <th></th>\n",
       "      <th>stripped_smiles_x</th>\n",
       "      <th>stripped_smiles_y</th>\n",
       "    </tr>\n",
       "  </thead>\n",
       "  <tbody>\n",
       "    <tr>\n",
       "      <th>0</th>\n",
       "      <td>COC(=O)c1cc(C(O)CN)ccc1O</td>\n",
       "      <td>COC(=O)c1cc(C(O)CN)ccc1O</td>\n",
       "    </tr>\n",
       "    <tr>\n",
       "      <th>1</th>\n",
       "      <td>COC(=O)c1cc(C(O)CN)ccc1O</td>\n",
       "      <td>NCC(O)c1ccc(O)c(Cl)c1</td>\n",
       "    </tr>\n",
       "    <tr>\n",
       "      <th>2</th>\n",
       "      <td>COC(=O)c1cc(C(O)CN)ccc1O</td>\n",
       "      <td>CCc1ccc(C(O)CN)cc1O</td>\n",
       "    </tr>\n",
       "    <tr>\n",
       "      <th>3</th>\n",
       "      <td>COC(=O)c1cc(C(O)CN)ccc1O</td>\n",
       "      <td>COc1ccc(C(O)CN)cc1O</td>\n",
       "    </tr>\n",
       "    <tr>\n",
       "      <th>4</th>\n",
       "      <td>COC(=O)c1cc(C(O)CN)ccc1O</td>\n",
       "      <td>NCC(O)c1ccc(Cl)c(O)c1</td>\n",
       "    </tr>\n",
       "    <tr>\n",
       "      <th>...</th>\n",
       "      <td>...</td>\n",
       "      <td>...</td>\n",
       "    </tr>\n",
       "    <tr>\n",
       "      <th>101939</th>\n",
       "      <td>COc1cccc(CC(C)NCC(O)c2ccc(O)c(O)c2)c1</td>\n",
       "      <td>COc1cccc(CC(C)NCC(O)c2ccc(O)c(O)c2)c1</td>\n",
       "    </tr>\n",
       "    <tr>\n",
       "      <th>102026</th>\n",
       "      <td>CNCC(SC)c1ccc(O)c(O)c1</td>\n",
       "      <td>CC(Cc1ccc(O)cc1)NCC(O)c1ccc(O)c(O)c1.O=C(O)c1c...</td>\n",
       "    </tr>\n",
       "    <tr>\n",
       "      <th>102029</th>\n",
       "      <td>COc1cccc(CC(C)NCC(O)c2ccc(O)c(O)c2)c1</td>\n",
       "      <td>CC(Cc1ccc(O)cc1)NCC(O)c1ccc(O)c(O)c1.O=C(O)c1c...</td>\n",
       "    </tr>\n",
       "    <tr>\n",
       "      <th>102030</th>\n",
       "      <td>CC(Cc1ccc(O)cc1)NCC(O)c1ccc(O)c(O)c1.O=C(O)c1c...</td>\n",
       "      <td>CNCC(SC)c1ccc(O)c(O)c1</td>\n",
       "    </tr>\n",
       "    <tr>\n",
       "      <th>102031</th>\n",
       "      <td>CC(Cc1ccc(O)cc1)NCC(O)c1ccc(O)c(O)c1.O=C(O)c1c...</td>\n",
       "      <td>COc1cccc(CC(C)NCC(O)c2ccc(O)c(O)c2)c1</td>\n",
       "    </tr>\n",
       "  </tbody>\n",
       "</table>\n",
       "<p>4920 rows × 2 columns</p>\n",
       "</div>"
      ],
      "text/plain": [
       "                                        stripped_smiles_x  \\\n",
       "0                                COC(=O)c1cc(C(O)CN)ccc1O   \n",
       "1                                COC(=O)c1cc(C(O)CN)ccc1O   \n",
       "2                                COC(=O)c1cc(C(O)CN)ccc1O   \n",
       "3                                COC(=O)c1cc(C(O)CN)ccc1O   \n",
       "4                                COC(=O)c1cc(C(O)CN)ccc1O   \n",
       "...                                                   ...   \n",
       "101939              COc1cccc(CC(C)NCC(O)c2ccc(O)c(O)c2)c1   \n",
       "102026                             CNCC(SC)c1ccc(O)c(O)c1   \n",
       "102029              COc1cccc(CC(C)NCC(O)c2ccc(O)c(O)c2)c1   \n",
       "102030  CC(Cc1ccc(O)cc1)NCC(O)c1ccc(O)c(O)c1.O=C(O)c1c...   \n",
       "102031  CC(Cc1ccc(O)cc1)NCC(O)c1ccc(O)c(O)c1.O=C(O)c1c...   \n",
       "\n",
       "                                        stripped_smiles_y  \n",
       "0                                COC(=O)c1cc(C(O)CN)ccc1O  \n",
       "1                                   NCC(O)c1ccc(O)c(Cl)c1  \n",
       "2                                     CCc1ccc(C(O)CN)cc1O  \n",
       "3                                     COc1ccc(C(O)CN)cc1O  \n",
       "4                                   NCC(O)c1ccc(Cl)c(O)c1  \n",
       "...                                                   ...  \n",
       "101939              COc1cccc(CC(C)NCC(O)c2ccc(O)c(O)c2)c1  \n",
       "102026  CC(Cc1ccc(O)cc1)NCC(O)c1ccc(O)c(O)c1.O=C(O)c1c...  \n",
       "102029  CC(Cc1ccc(O)cc1)NCC(O)c1ccc(O)c(O)c1.O=C(O)c1c...  \n",
       "102030                             CNCC(SC)c1ccc(O)c(O)c1  \n",
       "102031              COc1cccc(CC(C)NCC(O)c2ccc(O)c(O)c2)c1  \n",
       "\n",
       "[4920 rows x 2 columns]"
      ]
     },
     "execution_count": 4,
     "metadata": {},
     "output_type": "execute_result"
    }
   ],
   "source": [
    "df_pairs = pd.merge(df, df, on=['target_pref_name', 'standard_type'])\n",
    "df_pairs = df_pairs[['stripped_smiles_x', 'stripped_smiles_y']].drop_duplicates()\n",
    "df_pairs"
   ]
  },
  {
   "cell_type": "markdown",
   "metadata": {},
   "source": [
    "### Identify all pairs"
   ]
  },
  {
   "cell_type": "code",
   "execution_count": 5,
   "metadata": {},
   "outputs": [
    {
     "name": "stderr",
     "output_type": "stream",
     "text": [
      "100%|██████████| 4920/4920 [29:00<00:00,  2.83it/s]  \n"
     ]
    }
   ],
   "source": [
    "df_pairs = df_pairs.sample(frac=1).progress_apply(lambda x: MMP(x.stripped_smiles_x, x.stripped_smiles_y, strictness=4).execute(), axis=1)"
   ]
  },
  {
   "cell_type": "code",
   "execution_count": 6,
   "metadata": {},
   "outputs": [
    {
     "data": {
      "text/html": [
       "<div>\n",
       "<style scoped>\n",
       "    .dataframe tbody tr th:only-of-type {\n",
       "        vertical-align: middle;\n",
       "    }\n",
       "\n",
       "    .dataframe tbody tr th {\n",
       "        vertical-align: top;\n",
       "    }\n",
       "\n",
       "    .dataframe thead th {\n",
       "        text-align: right;\n",
       "    }\n",
       "</style>\n",
       "<table border=\"1\" class=\"dataframe\">\n",
       "  <thead>\n",
       "    <tr style=\"text-align: right;\">\n",
       "      <th></th>\n",
       "      <th>9345</th>\n",
       "      <th>15123</th>\n",
       "      <th>15641</th>\n",
       "    </tr>\n",
       "  </thead>\n",
       "  <tbody>\n",
       "    <tr>\n",
       "      <th>smiles1</th>\n",
       "      <td>COC(=O)c1cc(C(O)CN)ccc1O</td>\n",
       "      <td>CC(CCCC(=O)O)NCC(O)c1ccc(O)c(O)c1</td>\n",
       "      <td>CNCC(O)c1ccc(OC(=O)C(C)(C)C)c(OC(=O)C(C)(C)C)c1</td>\n",
       "    </tr>\n",
       "    <tr>\n",
       "      <th>smiles2</th>\n",
       "      <td>NCC(O)c1ccc(O)c(I)c1</td>\n",
       "      <td>CC(CCCCC(=O)O)NCC(O)c1ccc(O)c(O)c1</td>\n",
       "      <td>CNCC(O)c1ccc(O)c(O)c1</td>\n",
       "    </tr>\n",
       "    <tr>\n",
       "      <th>percentmcs</th>\n",
       "      <td>0.733333</td>\n",
       "      <td>0.809524</td>\n",
       "      <td>0.44</td>\n",
       "    </tr>\n",
       "    <tr>\n",
       "      <th>radius</th>\n",
       "      <td>3</td>\n",
       "      <td>1</td>\n",
       "      <td>3</td>\n",
       "    </tr>\n",
       "    <tr>\n",
       "      <th>valid</th>\n",
       "      <td>True</td>\n",
       "      <td>True</td>\n",
       "      <td>True</td>\n",
       "    </tr>\n",
       "    <tr>\n",
       "      <th>smirks</th>\n",
       "      <td>[#6](-[#8]-[#6:5](=[#8])-[#6:10](:[#6:12](:[#6...</td>\n",
       "      <td>[#6:6](-[#6:4](=[#8:2])-[#8]-[H])(-[H])-[H]&gt;&gt;[...</td>\n",
       "      <td>[#6:7]1:[#6:6](:[#6:10](:[#6:8](-[#8:9]-[#6](=...</td>\n",
       "    </tr>\n",
       "    <tr>\n",
       "      <th>fragment1</th>\n",
       "      <td>[cH2][cH][c]([C](=[O])[O][CH3])[c]([cH2])[OH]</td>\n",
       "      <td>[CH3][C](=[O])[OH]</td>\n",
       "      <td>[CH3][C]([CH3])([CH3])[C](=[O])[O][c]1[cH][cH]...</td>\n",
       "    </tr>\n",
       "    <tr>\n",
       "      <th>fragment2</th>\n",
       "      <td>[cH2][cH][c]([I])[c]([cH2])[OH]</td>\n",
       "      <td>[CH3][CH2][C](=[O])[OH]</td>\n",
       "      <td>[OH][c]1[cH][cH][cH][cH][c]1[OH]</td>\n",
       "    </tr>\n",
       "  </tbody>\n",
       "</table>\n",
       "</div>"
      ],
      "text/plain": [
       "                                                        9345   \\\n",
       "smiles1                              COC(=O)c1cc(C(O)CN)ccc1O   \n",
       "smiles2                                  NCC(O)c1ccc(O)c(I)c1   \n",
       "percentmcs                                           0.733333   \n",
       "radius                                                      3   \n",
       "valid                                                    True   \n",
       "smirks      [#6](-[#8]-[#6:5](=[#8])-[#6:10](:[#6:12](:[#6...   \n",
       "fragment1       [cH2][cH][c]([C](=[O])[O][CH3])[c]([cH2])[OH]   \n",
       "fragment2                     [cH2][cH][c]([I])[c]([cH2])[OH]   \n",
       "\n",
       "                                                        15123  \\\n",
       "smiles1                     CC(CCCC(=O)O)NCC(O)c1ccc(O)c(O)c1   \n",
       "smiles2                    CC(CCCCC(=O)O)NCC(O)c1ccc(O)c(O)c1   \n",
       "percentmcs                                           0.809524   \n",
       "radius                                                      1   \n",
       "valid                                                    True   \n",
       "smirks      [#6:6](-[#6:4](=[#8:2])-[#8]-[H])(-[H])-[H]>>[...   \n",
       "fragment1                                  [CH3][C](=[O])[OH]   \n",
       "fragment2                             [CH3][CH2][C](=[O])[OH]   \n",
       "\n",
       "                                                        15641  \n",
       "smiles1       CNCC(O)c1ccc(OC(=O)C(C)(C)C)c(OC(=O)C(C)(C)C)c1  \n",
       "smiles2                                 CNCC(O)c1ccc(O)c(O)c1  \n",
       "percentmcs                                               0.44  \n",
       "radius                                                      3  \n",
       "valid                                                    True  \n",
       "smirks      [#6:7]1:[#6:6](:[#6:10](:[#6:8](-[#8:9]-[#6](=...  \n",
       "fragment1   [CH3][C]([CH3])([CH3])[C](=[O])[O][c]1[cH][cH]...  \n",
       "fragment2                    [OH][c]1[cH][cH][cH][cH][c]1[OH]  "
      ]
     },
     "execution_count": 6,
     "metadata": {},
     "output_type": "execute_result"
    }
   ],
   "source": [
    "df_pairs = pd.json_normalize(df_pairs.explode())\n",
    "df_pairs.sample(3).transpose()"
   ]
  },
  {
   "cell_type": "markdown",
   "metadata": {},
   "source": [
    "### Drop failures and write output to file"
   ]
  },
  {
   "cell_type": "code",
   "execution_count": 7,
   "metadata": {},
   "outputs": [],
   "source": [
    "df_pairs = df_pairs[df_pairs.valid]\n",
    "df_pairs.to_csv('beta2_agonists_pairs.csv', index=False)"
   ]
  },
  {
   "cell_type": "code",
   "execution_count": null,
   "metadata": {},
   "outputs": [],
   "source": []
  }
 ],
 "metadata": {
  "kernelspec": {
   "display_name": "Python 3",
   "language": "python",
   "name": "python3"
  },
  "language_info": {
   "codemirror_mode": {
    "name": "ipython",
    "version": 3
   },
   "file_extension": ".py",
   "mimetype": "text/x-python",
   "name": "python",
   "nbconvert_exporter": "python",
   "pygments_lexer": "ipython3",
   "version": "3.6.10"
  }
 },
 "nbformat": 4,
 "nbformat_minor": 4
}
