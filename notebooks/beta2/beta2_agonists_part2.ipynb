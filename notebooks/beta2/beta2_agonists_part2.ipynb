{
 "cells": [
  {
   "cell_type": "markdown",
   "metadata": {},
   "source": [
    "## Beta-2 adrenergic receptor - part 2 (MMP identification)"
   ]
  },
  {
   "cell_type": "markdown",
   "metadata": {},
   "source": [
    "### Import libraries"
   ]
  },
  {
   "cell_type": "code",
   "execution_count": 1,
   "metadata": {},
   "outputs": [],
   "source": [
    "import pandas as pd\n",
    "\n",
    "from wizepair2.mmp import MMP"
   ]
  },
  {
   "cell_type": "code",
   "execution_count": 2,
   "metadata": {},
   "outputs": [
    {
     "name": "stdout",
     "output_type": "stream",
     "text": [
      "INFO: Pandarallel will run on 10 workers.\n",
      "INFO: Pandarallel will use standard multiprocessing data transfer (pipe) to transfer data between the main process and workers.\n"
     ]
    }
   ],
   "source": [
    "from pandarallel import pandarallel\n",
    "pandarallel.initialize(progress_bar=True)"
   ]
  },
  {
   "cell_type": "markdown",
   "metadata": {},
   "source": [
    "### Read in the dataset"
   ]
  },
  {
   "cell_type": "code",
   "execution_count": 3,
   "metadata": {},
   "outputs": [
    {
     "data": {
      "text/plain": [
       "1302"
      ]
     },
     "execution_count": 3,
     "metadata": {},
     "output_type": "execute_result"
    }
   ],
   "source": [
    "df = pd.read_csv('beta2_agonists_stripped.csv')\n",
    "len(df.index)"
   ]
  },
  {
   "cell_type": "markdown",
   "metadata": {},
   "source": [
    "### Create cartesian product of unique molecules tested in the same assay"
   ]
  },
  {
   "cell_type": "code",
   "execution_count": 4,
   "metadata": {},
   "outputs": [
    {
     "data": {
      "text/html": [
       "<div>\n",
       "<style scoped>\n",
       "    .dataframe tbody tr th:only-of-type {\n",
       "        vertical-align: middle;\n",
       "    }\n",
       "\n",
       "    .dataframe tbody tr th {\n",
       "        vertical-align: top;\n",
       "    }\n",
       "\n",
       "    .dataframe thead th {\n",
       "        text-align: right;\n",
       "    }\n",
       "</style>\n",
       "<table border=\"1\" class=\"dataframe\">\n",
       "  <thead>\n",
       "    <tr style=\"text-align: right;\">\n",
       "      <th></th>\n",
       "      <th>stripped_smiles_x</th>\n",
       "      <th>stripped_smiles_y</th>\n",
       "    </tr>\n",
       "  </thead>\n",
       "  <tbody>\n",
       "    <tr>\n",
       "      <th>0</th>\n",
       "      <td>CNCC(O)c1ccc(O)c(O)c1F</td>\n",
       "      <td>CNCC(O)c1ccc(O)c(O)c1F</td>\n",
       "    </tr>\n",
       "    <tr>\n",
       "      <th>1</th>\n",
       "      <td>CNCC(O)c1ccc(O)c(O)c1F</td>\n",
       "      <td>CNC[C@H](O)c1cc(O)c(O)cc1F</td>\n",
       "    </tr>\n",
       "    <tr>\n",
       "      <th>2</th>\n",
       "      <td>CNCC(O)c1ccc(O)c(O)c1F</td>\n",
       "      <td>CN[C@H](C)[C@@H](O)c1ccc(O)c(O)c1</td>\n",
       "    </tr>\n",
       "    <tr>\n",
       "      <th>3</th>\n",
       "      <td>CNCC(O)c1ccc(O)c(O)c1F</td>\n",
       "      <td>CNC(C)C(O)c1ccc(O)c(O)c1</td>\n",
       "    </tr>\n",
       "    <tr>\n",
       "      <th>4</th>\n",
       "      <td>CNCC(O)c1ccc(O)c(O)c1F</td>\n",
       "      <td>NC(O)c1ccc(O)c(O)c1</td>\n",
       "    </tr>\n",
       "    <tr>\n",
       "      <th>...</th>\n",
       "      <td>...</td>\n",
       "      <td>...</td>\n",
       "    </tr>\n",
       "    <tr>\n",
       "      <th>30681</th>\n",
       "      <td>CCC(c1ccc(O)c(O)c1)C(CC)c1ccc(O)c(O)c1</td>\n",
       "      <td>CCC(c1ccc(O)c(O)c1)C(CC)c1ccc(O)c(O)c1</td>\n",
       "    </tr>\n",
       "    <tr>\n",
       "      <th>30720</th>\n",
       "      <td>CC(C)NC[C@@H](O)c1ccc(O)c(O)c1</td>\n",
       "      <td>CC(C)NC[C@H](O)c1ccc2ccccc2c1</td>\n",
       "    </tr>\n",
       "    <tr>\n",
       "      <th>30725</th>\n",
       "      <td>CC(C)NC[C@H](O)c1ccc2ccccc2c1</td>\n",
       "      <td>CC(C)NC[C@@H](O)c1ccc(O)c(O)c1</td>\n",
       "    </tr>\n",
       "    <tr>\n",
       "      <th>30728</th>\n",
       "      <td>CC(C)NC[C@H](O)c1ccc2ccccc2c1</td>\n",
       "      <td>CNCC(O)c1ccc(O)c(O)c1</td>\n",
       "    </tr>\n",
       "    <tr>\n",
       "      <th>30738</th>\n",
       "      <td>CNCC(O)c1ccc(O)c(O)c1</td>\n",
       "      <td>CC(C)NC[C@H](O)c1ccc2ccccc2c1</td>\n",
       "    </tr>\n",
       "  </tbody>\n",
       "</table>\n",
       "<p>1610 rows × 2 columns</p>\n",
       "</div>"
      ],
      "text/plain": [
       "                            stripped_smiles_x  \\\n",
       "0                      CNCC(O)c1ccc(O)c(O)c1F   \n",
       "1                      CNCC(O)c1ccc(O)c(O)c1F   \n",
       "2                      CNCC(O)c1ccc(O)c(O)c1F   \n",
       "3                      CNCC(O)c1ccc(O)c(O)c1F   \n",
       "4                      CNCC(O)c1ccc(O)c(O)c1F   \n",
       "...                                       ...   \n",
       "30681  CCC(c1ccc(O)c(O)c1)C(CC)c1ccc(O)c(O)c1   \n",
       "30720          CC(C)NC[C@@H](O)c1ccc(O)c(O)c1   \n",
       "30725           CC(C)NC[C@H](O)c1ccc2ccccc2c1   \n",
       "30728           CC(C)NC[C@H](O)c1ccc2ccccc2c1   \n",
       "30738                   CNCC(O)c1ccc(O)c(O)c1   \n",
       "\n",
       "                            stripped_smiles_y  \n",
       "0                      CNCC(O)c1ccc(O)c(O)c1F  \n",
       "1                  CNC[C@H](O)c1cc(O)c(O)cc1F  \n",
       "2           CN[C@H](C)[C@@H](O)c1ccc(O)c(O)c1  \n",
       "3                    CNC(C)C(O)c1ccc(O)c(O)c1  \n",
       "4                         NC(O)c1ccc(O)c(O)c1  \n",
       "...                                       ...  \n",
       "30681  CCC(c1ccc(O)c(O)c1)C(CC)c1ccc(O)c(O)c1  \n",
       "30720           CC(C)NC[C@H](O)c1ccc2ccccc2c1  \n",
       "30725          CC(C)NC[C@@H](O)c1ccc(O)c(O)c1  \n",
       "30728                   CNCC(O)c1ccc(O)c(O)c1  \n",
       "30738           CC(C)NC[C@H](O)c1ccc2ccccc2c1  \n",
       "\n",
       "[1610 rows x 2 columns]"
      ]
     },
     "execution_count": 4,
     "metadata": {},
     "output_type": "execute_result"
    }
   ],
   "source": [
    "df_pairs = pd.merge(df, df, on=['target_pref_name', 'standard_type'])\n",
    "df_pairs = df_pairs[['stripped_smiles_x', 'stripped_smiles_y']].drop_duplicates()\n",
    "df_pairs"
   ]
  },
  {
   "cell_type": "markdown",
   "metadata": {},
   "source": [
    "### Identify all pairs"
   ]
  },
  {
   "cell_type": "code",
   "execution_count": 5,
   "metadata": {},
   "outputs": [
    {
     "data": {
      "application/vnd.jupyter.widget-view+json": {
       "model_id": "a0bdfaaca60b471ba0b6dfbbc4dd8e16",
       "version_major": 2,
       "version_minor": 0
      },
      "text/plain": [
       "VBox(children=(HBox(children=(IntProgress(value=0, description='0.00%', max=161), Label(value='0 / 161'))), HB…"
      ]
     },
     "metadata": {},
     "output_type": "display_data"
    }
   ],
   "source": [
    "df_pairs = df_pairs.sample(frac=1).parallel_apply(lambda x: MMP(x.stripped_smiles_x, x.stripped_smiles_y, strictness=7).execute(), axis=1)"
   ]
  },
  {
   "cell_type": "code",
   "execution_count": 6,
   "metadata": {},
   "outputs": [
    {
     "data": {
      "text/html": [
       "<div>\n",
       "<style scoped>\n",
       "    .dataframe tbody tr th:only-of-type {\n",
       "        vertical-align: middle;\n",
       "    }\n",
       "\n",
       "    .dataframe tbody tr th {\n",
       "        vertical-align: top;\n",
       "    }\n",
       "\n",
       "    .dataframe thead th {\n",
       "        text-align: right;\n",
       "    }\n",
       "</style>\n",
       "<table border=\"1\" class=\"dataframe\">\n",
       "  <thead>\n",
       "    <tr style=\"text-align: right;\">\n",
       "      <th></th>\n",
       "      <th>6039</th>\n",
       "      <th>5505</th>\n",
       "      <th>1410</th>\n",
       "    </tr>\n",
       "  </thead>\n",
       "  <tbody>\n",
       "    <tr>\n",
       "      <th>smiles1</th>\n",
       "      <td>COc1ccccc1OCCNC[C@@H](O)c1ccc(O)c(O)c1</td>\n",
       "      <td>CNC[C@@H](O)c1ccc(O)c(O)c1F</td>\n",
       "      <td>C[C@H](N)[C@H](O)c1ccc(O)c(O)c1</td>\n",
       "    </tr>\n",
       "    <tr>\n",
       "      <th>smiles2</th>\n",
       "      <td>COc1ccccc1OCCNC[C@H](O)c1ccc(O)c(O)c1</td>\n",
       "      <td>CNCC(O)c1cc(F)c(O)c(O)c1F</td>\n",
       "      <td>CNCC(O)c1cc(O)c(O)cc1F</td>\n",
       "    </tr>\n",
       "    <tr>\n",
       "      <th>percentmcs</th>\n",
       "      <td>0.958333</td>\n",
       "      <td>0.8</td>\n",
       "      <td>0.533333</td>\n",
       "    </tr>\n",
       "    <tr>\n",
       "      <th>radius</th>\n",
       "      <td>3.0</td>\n",
       "      <td>4.0</td>\n",
       "      <td>4.0</td>\n",
       "    </tr>\n",
       "    <tr>\n",
       "      <th>valid</th>\n",
       "      <td>True</td>\n",
       "      <td>True</td>\n",
       "      <td>True</td>\n",
       "    </tr>\n",
       "    <tr>\n",
       "      <th>solversecs</th>\n",
       "      <td>0.190893</td>\n",
       "      <td>0.021462</td>\n",
       "      <td>0.018631</td>\n",
       "    </tr>\n",
       "    <tr>\n",
       "      <th>embedding</th>\n",
       "      <td>[0, 0, 2, 36, 26, 114, 31, 68, 7, 0, 0, 0, 0, ...</td>\n",
       "      <td>[1, 22, 26, 20, 24, 9, 0, 0, 0, 0, 0, 0, 0, 0,...</td>\n",
       "      <td>[2, 37, 16, 18, 18, 5, 0, 0, 0, 0, 0, 0, 0, 0,...</td>\n",
       "    </tr>\n",
       "    <tr>\n",
       "      <th>predsolversecs</th>\n",
       "      <td>0.635</td>\n",
       "      <td>0.111</td>\n",
       "      <td>0.101</td>\n",
       "    </tr>\n",
       "    <tr>\n",
       "      <th>error</th>\n",
       "      <td>None</td>\n",
       "      <td>None</td>\n",
       "      <td>None</td>\n",
       "    </tr>\n",
       "    <tr>\n",
       "      <th>smirks</th>\n",
       "      <td>[H]-[#6:1]:[#6:2](-[H]):[#6:3](-[#6@:4](-[#8:5...</td>\n",
       "      <td>[H]-[#8:1]-[#6:2]1:[#6:3](-[H]):[#6:4](-[H]):[...</td>\n",
       "      <td>[H]-[#8:1]-[#6:2]1:[#6:3](-[H]):[#6:4](-[H]):[...</td>\n",
       "    </tr>\n",
       "    <tr>\n",
       "      <th>biproducts</th>\n",
       "      <td>0.0</td>\n",
       "      <td>0.0</td>\n",
       "      <td>0.0</td>\n",
       "    </tr>\n",
       "    <tr>\n",
       "      <th>fragment1</th>\n",
       "      <td>cdcfa465fd86a8eed83df1a742fbdae1</td>\n",
       "      <td>dbaade186f8bb3a2c5b622319ab7e89a</td>\n",
       "      <td>d4cd1fecf7985e56a5938b21f7925135</td>\n",
       "    </tr>\n",
       "    <tr>\n",
       "      <th>fragment2</th>\n",
       "      <td>a9e67c1db692c1fb508443d6135848b3</td>\n",
       "      <td>781e81098d8c95b797d416bde5d69d4f</td>\n",
       "      <td>e280699db71fe5d600417ee4828ca576</td>\n",
       "    </tr>\n",
       "  </tbody>\n",
       "</table>\n",
       "</div>"
      ],
      "text/plain": [
       "                                                             6039  \\\n",
       "smiles1                    COc1ccccc1OCCNC[C@@H](O)c1ccc(O)c(O)c1   \n",
       "smiles2                     COc1ccccc1OCCNC[C@H](O)c1ccc(O)c(O)c1   \n",
       "percentmcs                                               0.958333   \n",
       "radius                                                        3.0   \n",
       "valid                                                        True   \n",
       "solversecs                                               0.190893   \n",
       "embedding       [0, 0, 2, 36, 26, 114, 31, 68, 7, 0, 0, 0, 0, ...   \n",
       "predsolversecs                                              0.635   \n",
       "error                                                        None   \n",
       "smirks          [H]-[#6:1]:[#6:2](-[H]):[#6:3](-[#6@:4](-[#8:5...   \n",
       "biproducts                                                    0.0   \n",
       "fragment1                        cdcfa465fd86a8eed83df1a742fbdae1   \n",
       "fragment2                        a9e67c1db692c1fb508443d6135848b3   \n",
       "\n",
       "                                                             5505  \\\n",
       "smiles1                               CNC[C@@H](O)c1ccc(O)c(O)c1F   \n",
       "smiles2                                 CNCC(O)c1cc(F)c(O)c(O)c1F   \n",
       "percentmcs                                                    0.8   \n",
       "radius                                                        4.0   \n",
       "valid                                                        True   \n",
       "solversecs                                               0.021462   \n",
       "embedding       [1, 22, 26, 20, 24, 9, 0, 0, 0, 0, 0, 0, 0, 0,...   \n",
       "predsolversecs                                              0.111   \n",
       "error                                                        None   \n",
       "smirks          [H]-[#8:1]-[#6:2]1:[#6:3](-[H]):[#6:4](-[H]):[...   \n",
       "biproducts                                                    0.0   \n",
       "fragment1                        dbaade186f8bb3a2c5b622319ab7e89a   \n",
       "fragment2                        781e81098d8c95b797d416bde5d69d4f   \n",
       "\n",
       "                                                             1410  \n",
       "smiles1                           C[C@H](N)[C@H](O)c1ccc(O)c(O)c1  \n",
       "smiles2                                    CNCC(O)c1cc(O)c(O)cc1F  \n",
       "percentmcs                                               0.533333  \n",
       "radius                                                        4.0  \n",
       "valid                                                        True  \n",
       "solversecs                                               0.018631  \n",
       "embedding       [2, 37, 16, 18, 18, 5, 0, 0, 0, 0, 0, 0, 0, 0,...  \n",
       "predsolversecs                                              0.101  \n",
       "error                                                        None  \n",
       "smirks          [H]-[#8:1]-[#6:2]1:[#6:3](-[H]):[#6:4](-[H]):[...  \n",
       "biproducts                                                    0.0  \n",
       "fragment1                        d4cd1fecf7985e56a5938b21f7925135  \n",
       "fragment2                        e280699db71fe5d600417ee4828ca576  "
      ]
     },
     "execution_count": 6,
     "metadata": {},
     "output_type": "execute_result"
    }
   ],
   "source": [
    "df_pairs = pd.json_normalize(df_pairs.explode())\n",
    "df_pairs.sample(3).transpose()"
   ]
  },
  {
   "cell_type": "markdown",
   "metadata": {},
   "source": [
    "### Drop failures and write output to file"
   ]
  },
  {
   "cell_type": "code",
   "execution_count": 7,
   "metadata": {},
   "outputs": [],
   "source": [
    "df_pairs = df_pairs[df_pairs.valid]\n",
    "df_pairs.to_csv('beta2_agonists_pairs.csv', index=False)"
   ]
  },
  {
   "cell_type": "code",
   "execution_count": null,
   "metadata": {},
   "outputs": [],
   "source": []
  }
 ],
 "metadata": {
  "kernelspec": {
   "display_name": "Python 3 (ipykernel)",
   "language": "python",
   "name": "python3"
  },
  "language_info": {
   "codemirror_mode": {
    "name": "ipython",
    "version": 3
   },
   "file_extension": ".py",
   "mimetype": "text/x-python",
   "name": "python",
   "nbconvert_exporter": "python",
   "pygments_lexer": "ipython3",
   "version": "3.12.2"
  }
 },
 "nbformat": 4,
 "nbformat_minor": 4
}
