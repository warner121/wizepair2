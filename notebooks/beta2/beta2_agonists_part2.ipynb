{
 "cells": [
  {
   "cell_type": "markdown",
   "metadata": {},
   "source": [
    "## Beta-2 adrenergic receptor - part 2 (MMP identification)"
   ]
  },
  {
   "cell_type": "markdown",
   "metadata": {},
   "source": [
    "### Import libraries"
   ]
  },
  {
   "cell_type": "code",
   "execution_count": 1,
   "metadata": {},
   "outputs": [],
   "source": [
    "import pandas as pd"
   ]
  },
  {
   "cell_type": "code",
   "execution_count": 2,
   "metadata": {},
   "outputs": [
    {
     "name": "stdout",
     "output_type": "stream",
     "text": [
      "INFO: Pandarallel will run on 6 workers.\n",
      "INFO: Pandarallel will use Memory file system to transfer data between the main process and workers.\n"
     ]
    }
   ],
   "source": [
    "from pandarallel import pandarallel\n",
    "pandarallel.initialize(progress_bar=True)\n",
    "\n",
    "import sys\n",
    "sys.path.append('/home/daniel/wizepair2')\n",
    "from classes.mmp import MMP"
   ]
  },
  {
   "cell_type": "markdown",
   "metadata": {},
   "source": [
    "### Read in the dataset"
   ]
  },
  {
   "cell_type": "code",
   "execution_count": 3,
   "metadata": {},
   "outputs": [
    {
     "data": {
      "text/plain": [
       "1223"
      ]
     },
     "execution_count": 3,
     "metadata": {},
     "output_type": "execute_result"
    }
   ],
   "source": [
    "df = pd.read_csv('beta2_agonists_stripped.csv')\n",
    "len(df.index)"
   ]
  },
  {
   "cell_type": "markdown",
   "metadata": {},
   "source": [
    "### Create cartesian product of unique molecules tested in the same assay"
   ]
  },
  {
   "cell_type": "code",
   "execution_count": 4,
   "metadata": {},
   "outputs": [
    {
     "data": {
      "text/html": [
       "<div>\n",
       "<style scoped>\n",
       "    .dataframe tbody tr th:only-of-type {\n",
       "        vertical-align: middle;\n",
       "    }\n",
       "\n",
       "    .dataframe tbody tr th {\n",
       "        vertical-align: top;\n",
       "    }\n",
       "\n",
       "    .dataframe thead th {\n",
       "        text-align: right;\n",
       "    }\n",
       "</style>\n",
       "<table border=\"1\" class=\"dataframe\">\n",
       "  <thead>\n",
       "    <tr style=\"text-align: right;\">\n",
       "      <th></th>\n",
       "      <th>stripped_smiles_x</th>\n",
       "      <th>stripped_smiles_y</th>\n",
       "    </tr>\n",
       "  </thead>\n",
       "  <tbody>\n",
       "    <tr>\n",
       "      <th>0</th>\n",
       "      <td>COc1ccccc1OCCNC[C@@H](O)c1ccc(O)c(O)c1</td>\n",
       "      <td>COc1ccccc1OCCNC[C@@H](O)c1ccc(O)c(O)c1</td>\n",
       "    </tr>\n",
       "    <tr>\n",
       "      <th>1</th>\n",
       "      <td>COc1ccccc1OCCNC[C@@H](O)c1ccc(O)c(O)c1</td>\n",
       "      <td>CNC[C@H](O)c1ccc(O)c(O)c1F</td>\n",
       "    </tr>\n",
       "    <tr>\n",
       "      <th>2</th>\n",
       "      <td>COc1ccccc1OCCNC[C@@H](O)c1ccc(O)c(O)c1</td>\n",
       "      <td>CNCC(O)c1ccc(O)c2nc(O)sc12</td>\n",
       "    </tr>\n",
       "    <tr>\n",
       "      <th>3</th>\n",
       "      <td>COc1ccccc1OCCNC[C@@H](O)c1ccc(O)c(O)c1</td>\n",
       "      <td>CNCC(O)c1cc(O)c(O)cc1F</td>\n",
       "    </tr>\n",
       "    <tr>\n",
       "      <th>4</th>\n",
       "      <td>COc1ccccc1OCCNC[C@@H](O)c1ccc(O)c(O)c1</td>\n",
       "      <td>CC(C)NCC(O)c1ccc(Cl)c(Cl)c1</td>\n",
       "    </tr>\n",
       "    <tr>\n",
       "      <th>...</th>\n",
       "      <td>...</td>\n",
       "      <td>...</td>\n",
       "    </tr>\n",
       "    <tr>\n",
       "      <th>31395</th>\n",
       "      <td>CCC(c1ccc(O)c(O)c1)C(CC)c1ccc(O)c(O)c1</td>\n",
       "      <td>CCC(c1ccc(O)c(O)c1)C(CC)c1ccc(O)c(O)c1</td>\n",
       "    </tr>\n",
       "    <tr>\n",
       "      <th>31434</th>\n",
       "      <td>CC(C)NC[C@@H](O)c1ccc(O)c(O)c1</td>\n",
       "      <td>CC(C)NC[C@H](O)c1ccc2ccccc2c1</td>\n",
       "    </tr>\n",
       "    <tr>\n",
       "      <th>31439</th>\n",
       "      <td>CC(C)NC[C@H](O)c1ccc2ccccc2c1</td>\n",
       "      <td>CC(C)NC[C@@H](O)c1ccc(O)c(O)c1</td>\n",
       "    </tr>\n",
       "    <tr>\n",
       "      <th>31442</th>\n",
       "      <td>CC(C)NC[C@H](O)c1ccc2ccccc2c1</td>\n",
       "      <td>CNCC(O)c1ccc(O)c(O)c1</td>\n",
       "    </tr>\n",
       "    <tr>\n",
       "      <th>31452</th>\n",
       "      <td>CNCC(O)c1ccc(O)c(O)c1</td>\n",
       "      <td>CC(C)NC[C@H](O)c1ccc2ccccc2c1</td>\n",
       "    </tr>\n",
       "  </tbody>\n",
       "</table>\n",
       "<p>1607 rows × 2 columns</p>\n",
       "</div>"
      ],
      "text/plain": [
       "                            stripped_smiles_x  \\\n",
       "0      COc1ccccc1OCCNC[C@@H](O)c1ccc(O)c(O)c1   \n",
       "1      COc1ccccc1OCCNC[C@@H](O)c1ccc(O)c(O)c1   \n",
       "2      COc1ccccc1OCCNC[C@@H](O)c1ccc(O)c(O)c1   \n",
       "3      COc1ccccc1OCCNC[C@@H](O)c1ccc(O)c(O)c1   \n",
       "4      COc1ccccc1OCCNC[C@@H](O)c1ccc(O)c(O)c1   \n",
       "...                                       ...   \n",
       "31395  CCC(c1ccc(O)c(O)c1)C(CC)c1ccc(O)c(O)c1   \n",
       "31434          CC(C)NC[C@@H](O)c1ccc(O)c(O)c1   \n",
       "31439           CC(C)NC[C@H](O)c1ccc2ccccc2c1   \n",
       "31442           CC(C)NC[C@H](O)c1ccc2ccccc2c1   \n",
       "31452                   CNCC(O)c1ccc(O)c(O)c1   \n",
       "\n",
       "                            stripped_smiles_y  \n",
       "0      COc1ccccc1OCCNC[C@@H](O)c1ccc(O)c(O)c1  \n",
       "1                  CNC[C@H](O)c1ccc(O)c(O)c1F  \n",
       "2                  CNCC(O)c1ccc(O)c2nc(O)sc12  \n",
       "3                      CNCC(O)c1cc(O)c(O)cc1F  \n",
       "4                 CC(C)NCC(O)c1ccc(Cl)c(Cl)c1  \n",
       "...                                       ...  \n",
       "31395  CCC(c1ccc(O)c(O)c1)C(CC)c1ccc(O)c(O)c1  \n",
       "31434           CC(C)NC[C@H](O)c1ccc2ccccc2c1  \n",
       "31439          CC(C)NC[C@@H](O)c1ccc(O)c(O)c1  \n",
       "31442                   CNCC(O)c1ccc(O)c(O)c1  \n",
       "31452           CC(C)NC[C@H](O)c1ccc2ccccc2c1  \n",
       "\n",
       "[1607 rows x 2 columns]"
      ]
     },
     "execution_count": 4,
     "metadata": {},
     "output_type": "execute_result"
    }
   ],
   "source": [
    "df_pairs = pd.merge(df, df, on=['target_pref_name', 'standard_type'])\n",
    "df_pairs = df_pairs[['stripped_smiles_x', 'stripped_smiles_y']].drop_duplicates()\n",
    "df_pairs"
   ]
  },
  {
   "cell_type": "markdown",
   "metadata": {},
   "source": [
    "### Identify all pairs"
   ]
  },
  {
   "cell_type": "code",
   "execution_count": 5,
   "metadata": {},
   "outputs": [
    {
     "data": {
      "application/vnd.jupyter.widget-view+json": {
       "model_id": "e81e32b143854873ad890da7d02f0c8f",
       "version_major": 2,
       "version_minor": 0
      },
      "text/plain": [
       "VBox(children=(HBox(children=(IntProgress(value=0, description='0.00%', max=268), Label(value='0 / 268'))), HB…"
      ]
     },
     "metadata": {},
     "output_type": "display_data"
    }
   ],
   "source": [
    "df_pairs = df_pairs.sample(frac=1).parallel_apply(lambda x: MMP(x.stripped_smiles_x, x.stripped_smiles_y, strictness=5).execute(), axis=1)"
   ]
  },
  {
   "cell_type": "code",
   "execution_count": 6,
   "metadata": {},
   "outputs": [
    {
     "data": {
      "text/html": [
       "<div>\n",
       "<style scoped>\n",
       "    .dataframe tbody tr th:only-of-type {\n",
       "        vertical-align: middle;\n",
       "    }\n",
       "\n",
       "    .dataframe tbody tr th {\n",
       "        vertical-align: top;\n",
       "    }\n",
       "\n",
       "    .dataframe thead th {\n",
       "        text-align: right;\n",
       "    }\n",
       "</style>\n",
       "<table border=\"1\" class=\"dataframe\">\n",
       "  <thead>\n",
       "    <tr style=\"text-align: right;\">\n",
       "      <th></th>\n",
       "      <th>534</th>\n",
       "      <th>3454</th>\n",
       "      <th>2830</th>\n",
       "    </tr>\n",
       "  </thead>\n",
       "  <tbody>\n",
       "    <tr>\n",
       "      <th>smiles1</th>\n",
       "      <td>C[C@H](N)[C@H](O)c1ccc(O)c(O)c1</td>\n",
       "      <td>CNC[C@@H](SC)c1ccc(O)c(O)c1</td>\n",
       "      <td>CNCC(O)c1cccc(O)c1F</td>\n",
       "    </tr>\n",
       "    <tr>\n",
       "      <th>smiles2</th>\n",
       "      <td>CC(C)NC[C@@H](O)c1ccc(O)c(O)c1</td>\n",
       "      <td>CNC[C@H](O)c1cccc(O)c1</td>\n",
       "      <td>CNCC(O)c1ccc(O)c(O)c1F</td>\n",
       "    </tr>\n",
       "    <tr>\n",
       "      <th>percentmcs</th>\n",
       "      <td>0.625</td>\n",
       "      <td>0.6</td>\n",
       "      <td>0.857143</td>\n",
       "    </tr>\n",
       "    <tr>\n",
       "      <th>radius</th>\n",
       "      <td>3.0</td>\n",
       "      <td>4.0</td>\n",
       "      <td>2.0</td>\n",
       "    </tr>\n",
       "    <tr>\n",
       "      <th>valid</th>\n",
       "      <td>True</td>\n",
       "      <td>True</td>\n",
       "      <td>True</td>\n",
       "    </tr>\n",
       "    <tr>\n",
       "      <th>solversecs</th>\n",
       "      <td>0.058422</td>\n",
       "      <td>0.019722</td>\n",
       "      <td>0.020503</td>\n",
       "    </tr>\n",
       "    <tr>\n",
       "      <th>embedding</th>\n",
       "      <td>[20, 21, 16, 12, 18, 6, 0, 0, 0, 0, 0, 0, 0, 0...</td>\n",
       "      <td>[25, 15, 9, 9, 13, 0, 0, 0, 0, 0, 0, 0, 0, 0, ...</td>\n",
       "      <td>[26, 21, 6, 14, 15, 2, 0, 0, 0, 0, 0, 0, 0, 0,...</td>\n",
       "    </tr>\n",
       "    <tr>\n",
       "      <th>predsolversecs</th>\n",
       "      <td>0.188593</td>\n",
       "      <td>0.131363</td>\n",
       "      <td>0.160086</td>\n",
       "    </tr>\n",
       "    <tr>\n",
       "      <th>error</th>\n",
       "      <td>None</td>\n",
       "      <td>None</td>\n",
       "      <td>None</td>\n",
       "    </tr>\n",
       "    <tr>\n",
       "      <th>smirks</th>\n",
       "      <td>[H]-[#6:1]:[#6:2](-[H]):[#6:3](-[#6@@:4](-[#8:...</td>\n",
       "      <td>[H]-[#8]-[#6:1]1:[#6:2](-[H]):[#6:3](-[H]):[#6...</td>\n",
       "      <td>[H]-[#6:1]:[#6:2](-[H]):[#6:3](-[H]):[#6:4](:[...</td>\n",
       "    </tr>\n",
       "    <tr>\n",
       "      <th>biproducts</th>\n",
       "      <td>0.0</td>\n",
       "      <td>0.0</td>\n",
       "      <td>0.0</td>\n",
       "    </tr>\n",
       "    <tr>\n",
       "      <th>fragment1</th>\n",
       "      <td>[H]cc([H])c(C(O[H])[C@@]([H])(N([H])[H])C([H])...</td>\n",
       "      <td>[H]Oc1c([H])c([H])c([C@]([H])(SC([H])([H])[H])...</td>\n",
       "      <td>[H]cc([H])c([H])c(c)O[H]</td>\n",
       "    </tr>\n",
       "    <tr>\n",
       "      <th>fragment2</th>\n",
       "      <td>[H]cc([H])c(C(O[H])C([H])([H])N([H])C([H])(C([...</td>\n",
       "      <td>[H]Oc1c([H])c([H])c([H])c([C@@]([H])(O[H])C([H...</td>\n",
       "      <td>[H]cc([H])c(O[H])c(c)O[H]</td>\n",
       "    </tr>\n",
       "  </tbody>\n",
       "</table>\n",
       "</div>"
      ],
      "text/plain": [
       "                                                             534   \\\n",
       "smiles1                           C[C@H](N)[C@H](O)c1ccc(O)c(O)c1   \n",
       "smiles2                            CC(C)NC[C@@H](O)c1ccc(O)c(O)c1   \n",
       "percentmcs                                                  0.625   \n",
       "radius                                                        3.0   \n",
       "valid                                                        True   \n",
       "solversecs                                               0.058422   \n",
       "embedding       [20, 21, 16, 12, 18, 6, 0, 0, 0, 0, 0, 0, 0, 0...   \n",
       "predsolversecs                                           0.188593   \n",
       "error                                                        None   \n",
       "smirks          [H]-[#6:1]:[#6:2](-[H]):[#6:3](-[#6@@:4](-[#8:...   \n",
       "biproducts                                                    0.0   \n",
       "fragment1       [H]cc([H])c(C(O[H])[C@@]([H])(N([H])[H])C([H])...   \n",
       "fragment2       [H]cc([H])c(C(O[H])C([H])([H])N([H])C([H])(C([...   \n",
       "\n",
       "                                                             3454  \\\n",
       "smiles1                               CNC[C@@H](SC)c1ccc(O)c(O)c1   \n",
       "smiles2                                    CNC[C@H](O)c1cccc(O)c1   \n",
       "percentmcs                                                    0.6   \n",
       "radius                                                        4.0   \n",
       "valid                                                        True   \n",
       "solversecs                                               0.019722   \n",
       "embedding       [25, 15, 9, 9, 13, 0, 0, 0, 0, 0, 0, 0, 0, 0, ...   \n",
       "predsolversecs                                           0.131363   \n",
       "error                                                        None   \n",
       "smirks          [H]-[#8]-[#6:1]1:[#6:2](-[H]):[#6:3](-[H]):[#6...   \n",
       "biproducts                                                    0.0   \n",
       "fragment1       [H]Oc1c([H])c([H])c([C@]([H])(SC([H])([H])[H])...   \n",
       "fragment2       [H]Oc1c([H])c([H])c([H])c([C@@]([H])(O[H])C([H...   \n",
       "\n",
       "                                                             2830  \n",
       "smiles1                                       CNCC(O)c1cccc(O)c1F  \n",
       "smiles2                                    CNCC(O)c1ccc(O)c(O)c1F  \n",
       "percentmcs                                               0.857143  \n",
       "radius                                                        2.0  \n",
       "valid                                                        True  \n",
       "solversecs                                               0.020503  \n",
       "embedding       [26, 21, 6, 14, 15, 2, 0, 0, 0, 0, 0, 0, 0, 0,...  \n",
       "predsolversecs                                           0.160086  \n",
       "error                                                        None  \n",
       "smirks          [H]-[#6:1]:[#6:2](-[H]):[#6:3](-[H]):[#6:4](:[...  \n",
       "biproducts                                                    0.0  \n",
       "fragment1                                [H]cc([H])c([H])c(c)O[H]  \n",
       "fragment2                               [H]cc([H])c(O[H])c(c)O[H]  "
      ]
     },
     "execution_count": 6,
     "metadata": {},
     "output_type": "execute_result"
    }
   ],
   "source": [
    "df_pairs = pd.json_normalize(df_pairs.explode())\n",
    "df_pairs.sample(3).transpose()"
   ]
  },
  {
   "cell_type": "markdown",
   "metadata": {},
   "source": [
    "### Drop failures and write output to file"
   ]
  },
  {
   "cell_type": "code",
   "execution_count": 7,
   "metadata": {},
   "outputs": [],
   "source": [
    "df_pairs = df_pairs[df_pairs.valid]\n",
    "df_pairs.to_csv('beta2_agonists_pairs.csv', index=False)"
   ]
  },
  {
   "cell_type": "code",
   "execution_count": null,
   "metadata": {},
   "outputs": [],
   "source": []
  }
 ],
 "metadata": {
  "kernelspec": {
   "display_name": "Python 3 (ipykernel)",
   "language": "python",
   "name": "python3"
  },
  "language_info": {
   "codemirror_mode": {
    "name": "ipython",
    "version": 3
   },
   "file_extension": ".py",
   "mimetype": "text/x-python",
   "name": "python",
   "nbconvert_exporter": "python",
   "pygments_lexer": "ipython3",
   "version": "3.7.0"
  }
 },
 "nbformat": 4,
 "nbformat_minor": 4
}
