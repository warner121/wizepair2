{
 "cells": [
  {
   "cell_type": "markdown",
   "metadata": {},
   "source": [
    "## Beta-2 adrenergic receptor - part 2 (MMP identification)"
   ]
  },
  {
   "cell_type": "markdown",
   "metadata": {},
   "source": [
    "### Import libraries"
   ]
  },
  {
   "cell_type": "code",
   "execution_count": 1,
   "metadata": {},
   "outputs": [],
   "source": [
    "import pandas as pd"
   ]
  },
  {
   "cell_type": "code",
   "execution_count": 2,
   "metadata": {},
   "outputs": [],
   "source": [
    "from tqdm import tqdm\n",
    "tqdm.pandas()\n",
    "\n",
    "import sys\n",
    "sys.path.append('/home/daniel/wizepair2')\n",
    "from mmpa.mmp import MMP"
   ]
  },
  {
   "cell_type": "markdown",
   "metadata": {},
   "source": [
    "### Read in the dataset"
   ]
  },
  {
   "cell_type": "code",
   "execution_count": 3,
   "metadata": {},
   "outputs": [
    {
     "data": {
      "text/plain": [
       "7600"
      ]
     },
     "execution_count": 3,
     "metadata": {},
     "output_type": "execute_result"
    }
   ],
   "source": [
    "df = pd.read_csv('beta2_agonists_stripped.csv')\n",
    "len(df.index)"
   ]
  },
  {
   "cell_type": "markdown",
   "metadata": {},
   "source": [
    "### Create cartesian product of unique molecules tested in the same assay"
   ]
  },
  {
   "cell_type": "code",
   "execution_count": 4,
   "metadata": {},
   "outputs": [
    {
     "data": {
      "text/html": [
       "<div>\n",
       "<style scoped>\n",
       "    .dataframe tbody tr th:only-of-type {\n",
       "        vertical-align: middle;\n",
       "    }\n",
       "\n",
       "    .dataframe tbody tr th {\n",
       "        vertical-align: top;\n",
       "    }\n",
       "\n",
       "    .dataframe thead th {\n",
       "        text-align: right;\n",
       "    }\n",
       "</style>\n",
       "<table border=\"1\" class=\"dataframe\">\n",
       "  <thead>\n",
       "    <tr style=\"text-align: right;\">\n",
       "      <th></th>\n",
       "      <th>stripped_smiles_x</th>\n",
       "      <th>stripped_smiles_y</th>\n",
       "    </tr>\n",
       "  </thead>\n",
       "  <tbody>\n",
       "    <tr>\n",
       "      <th>0</th>\n",
       "      <td>COC(=O)c1cc(C(O)CN)ccc1O</td>\n",
       "      <td>COC(=O)c1cc(C(O)CN)ccc1O</td>\n",
       "    </tr>\n",
       "    <tr>\n",
       "      <th>1</th>\n",
       "      <td>COC(=O)c1cc(C(O)CN)ccc1O</td>\n",
       "      <td>NCC(O)c1ccc(O)c(Cl)c1</td>\n",
       "    </tr>\n",
       "    <tr>\n",
       "      <th>2</th>\n",
       "      <td>COC(=O)c1cc(C(O)CN)ccc1O</td>\n",
       "      <td>CCc1ccc(C(O)CN)cc1O</td>\n",
       "    </tr>\n",
       "    <tr>\n",
       "      <th>3</th>\n",
       "      <td>COC(=O)c1cc(C(O)CN)ccc1O</td>\n",
       "      <td>COc1ccc(C(O)CN)cc1O</td>\n",
       "    </tr>\n",
       "    <tr>\n",
       "      <th>4</th>\n",
       "      <td>COC(=O)c1cc(C(O)CN)ccc1O</td>\n",
       "      <td>NCC(O)c1ccc(Cl)c(O)c1</td>\n",
       "    </tr>\n",
       "    <tr>\n",
       "      <th>...</th>\n",
       "      <td>...</td>\n",
       "      <td>...</td>\n",
       "    </tr>\n",
       "    <tr>\n",
       "      <th>101939</th>\n",
       "      <td>COc1cccc(CC(C)NCC(O)c2ccc(O)c(O)c2)c1</td>\n",
       "      <td>COc1cccc(CC(C)NCC(O)c2ccc(O)c(O)c2)c1</td>\n",
       "    </tr>\n",
       "    <tr>\n",
       "      <th>102026</th>\n",
       "      <td>CNCC(SC)c1ccc(O)c(O)c1</td>\n",
       "      <td>CC(Cc1ccc(O)cc1)NCC(O)c1ccc(O)c(O)c1.O=C(O)c1c...</td>\n",
       "    </tr>\n",
       "    <tr>\n",
       "      <th>102029</th>\n",
       "      <td>COc1cccc(CC(C)NCC(O)c2ccc(O)c(O)c2)c1</td>\n",
       "      <td>CC(Cc1ccc(O)cc1)NCC(O)c1ccc(O)c(O)c1.O=C(O)c1c...</td>\n",
       "    </tr>\n",
       "    <tr>\n",
       "      <th>102030</th>\n",
       "      <td>CC(Cc1ccc(O)cc1)NCC(O)c1ccc(O)c(O)c1.O=C(O)c1c...</td>\n",
       "      <td>CNCC(SC)c1ccc(O)c(O)c1</td>\n",
       "    </tr>\n",
       "    <tr>\n",
       "      <th>102031</th>\n",
       "      <td>CC(Cc1ccc(O)cc1)NCC(O)c1ccc(O)c(O)c1.O=C(O)c1c...</td>\n",
       "      <td>COc1cccc(CC(C)NCC(O)c2ccc(O)c(O)c2)c1</td>\n",
       "    </tr>\n",
       "  </tbody>\n",
       "</table>\n",
       "<p>4920 rows × 2 columns</p>\n",
       "</div>"
      ],
      "text/plain": [
       "                                        stripped_smiles_x  \\\n",
       "0                                COC(=O)c1cc(C(O)CN)ccc1O   \n",
       "1                                COC(=O)c1cc(C(O)CN)ccc1O   \n",
       "2                                COC(=O)c1cc(C(O)CN)ccc1O   \n",
       "3                                COC(=O)c1cc(C(O)CN)ccc1O   \n",
       "4                                COC(=O)c1cc(C(O)CN)ccc1O   \n",
       "...                                                   ...   \n",
       "101939              COc1cccc(CC(C)NCC(O)c2ccc(O)c(O)c2)c1   \n",
       "102026                             CNCC(SC)c1ccc(O)c(O)c1   \n",
       "102029              COc1cccc(CC(C)NCC(O)c2ccc(O)c(O)c2)c1   \n",
       "102030  CC(Cc1ccc(O)cc1)NCC(O)c1ccc(O)c(O)c1.O=C(O)c1c...   \n",
       "102031  CC(Cc1ccc(O)cc1)NCC(O)c1ccc(O)c(O)c1.O=C(O)c1c...   \n",
       "\n",
       "                                        stripped_smiles_y  \n",
       "0                                COC(=O)c1cc(C(O)CN)ccc1O  \n",
       "1                                   NCC(O)c1ccc(O)c(Cl)c1  \n",
       "2                                     CCc1ccc(C(O)CN)cc1O  \n",
       "3                                     COc1ccc(C(O)CN)cc1O  \n",
       "4                                   NCC(O)c1ccc(Cl)c(O)c1  \n",
       "...                                                   ...  \n",
       "101939              COc1cccc(CC(C)NCC(O)c2ccc(O)c(O)c2)c1  \n",
       "102026  CC(Cc1ccc(O)cc1)NCC(O)c1ccc(O)c(O)c1.O=C(O)c1c...  \n",
       "102029  CC(Cc1ccc(O)cc1)NCC(O)c1ccc(O)c(O)c1.O=C(O)c1c...  \n",
       "102030                             CNCC(SC)c1ccc(O)c(O)c1  \n",
       "102031              COc1cccc(CC(C)NCC(O)c2ccc(O)c(O)c2)c1  \n",
       "\n",
       "[4920 rows x 2 columns]"
      ]
     },
     "execution_count": 4,
     "metadata": {},
     "output_type": "execute_result"
    }
   ],
   "source": [
    "df_pairs = pd.merge(df, df, on=['target_pref_name', 'standard_type'])\n",
    "df_pairs = df_pairs[['stripped_smiles_x', 'stripped_smiles_y']].drop_duplicates()\n",
    "df_pairs"
   ]
  },
  {
   "cell_type": "markdown",
   "metadata": {},
   "source": [
    "### Identify all pairs"
   ]
  },
  {
   "cell_type": "code",
   "execution_count": 5,
   "metadata": {},
   "outputs": [
    {
     "name": "stderr",
     "output_type": "stream",
     "text": [
      "  3%|▎         | 172/4920 [01:23<28:31,  2.77it/s] WARNING:root:{\"message\": \"failed to find cliques in 60 seconds\"}\n",
      "100%|██████████| 4920/4920 [42:07<00:00,  1.95it/s]  \n"
     ]
    }
   ],
   "source": [
    "df_pairs = df_pairs.sample(frac=1).progress_apply(lambda x: MMP(x.stripped_smiles_x, x.stripped_smiles_y, strictness=4, correspondence=1).execute(), axis=1)"
   ]
  },
  {
   "cell_type": "code",
   "execution_count": 6,
   "metadata": {},
   "outputs": [
    {
     "data": {
      "text/html": [
       "<div>\n",
       "<style scoped>\n",
       "    .dataframe tbody tr th:only-of-type {\n",
       "        vertical-align: middle;\n",
       "    }\n",
       "\n",
       "    .dataframe tbody tr th {\n",
       "        vertical-align: top;\n",
       "    }\n",
       "\n",
       "    .dataframe thead th {\n",
       "        text-align: right;\n",
       "    }\n",
       "</style>\n",
       "<table border=\"1\" class=\"dataframe\">\n",
       "  <thead>\n",
       "    <tr style=\"text-align: right;\">\n",
       "      <th></th>\n",
       "      <th>12771</th>\n",
       "      <th>13889</th>\n",
       "      <th>12895</th>\n",
       "    </tr>\n",
       "  </thead>\n",
       "  <tbody>\n",
       "    <tr>\n",
       "      <th>smiles1</th>\n",
       "      <td>CC(C)NCC(O)c1ccc(O)c(O)c1</td>\n",
       "      <td>COc1cc(C(O)CN)ccc1O</td>\n",
       "      <td>CC(C)NC[C@@H](O)c1ccc(O)c(O)c1</td>\n",
       "    </tr>\n",
       "    <tr>\n",
       "      <th>smiles2</th>\n",
       "      <td>CC(C)(C)NCC(O)c1ccc(O)c(NC(N)=O)c1</td>\n",
       "      <td>NCC(O)c1ccc(Br)c(O)c1</td>\n",
       "      <td>C1CNCCN1.COc1cc(C(O)CO)ccc1O.COc1cc(C(O)CO)ccc1O</td>\n",
       "    </tr>\n",
       "    <tr>\n",
       "      <th>percentmcs</th>\n",
       "      <td>0.684211</td>\n",
       "      <td>0.769231</td>\n",
       "      <td>0.28125</td>\n",
       "    </tr>\n",
       "    <tr>\n",
       "      <th>radius</th>\n",
       "      <td>1</td>\n",
       "      <td>3</td>\n",
       "      <td>1</td>\n",
       "    </tr>\n",
       "    <tr>\n",
       "      <th>valid</th>\n",
       "      <td>False</td>\n",
       "      <td>True</td>\n",
       "      <td>False</td>\n",
       "    </tr>\n",
       "    <tr>\n",
       "      <th>smirks</th>\n",
       "      <td>[#6:14](-[#6:12](-[#6:15](-[H])(-[H])-[H])(-[#...</td>\n",
       "      <td>[#6](-[#8:5]-[#6:6]1:[#6:1](:[#6:8]:[#6:4](:[#...</td>\n",
       "      <td>[#6](-[#6](-[#6](-[H])(-[H])-[H])(-[#7:1](-[#6...</td>\n",
       "    </tr>\n",
       "    <tr>\n",
       "      <th>fragment1</th>\n",
       "      <td>NaN</td>\n",
       "      <td>[CH3][O][c]1[cH][cH][cH][cH][c]1[OH]</td>\n",
       "      <td>NaN</td>\n",
       "    </tr>\n",
       "    <tr>\n",
       "      <th>fragment2</th>\n",
       "      <td>NaN</td>\n",
       "      <td>[OH][c]1[cH][cH][cH][cH][c]1[Br]</td>\n",
       "      <td>NaN</td>\n",
       "    </tr>\n",
       "  </tbody>\n",
       "</table>\n",
       "</div>"
      ],
      "text/plain": [
       "                                                        12771  \\\n",
       "smiles1                             CC(C)NCC(O)c1ccc(O)c(O)c1   \n",
       "smiles2                    CC(C)(C)NCC(O)c1ccc(O)c(NC(N)=O)c1   \n",
       "percentmcs                                           0.684211   \n",
       "radius                                                      1   \n",
       "valid                                                   False   \n",
       "smirks      [#6:14](-[#6:12](-[#6:15](-[H])(-[H])-[H])(-[#...   \n",
       "fragment1                                                 NaN   \n",
       "fragment2                                                 NaN   \n",
       "\n",
       "                                                        13889  \\\n",
       "smiles1                                   COc1cc(C(O)CN)ccc1O   \n",
       "smiles2                                 NCC(O)c1ccc(Br)c(O)c1   \n",
       "percentmcs                                           0.769231   \n",
       "radius                                                      3   \n",
       "valid                                                    True   \n",
       "smirks      [#6](-[#8:5]-[#6:6]1:[#6:1](:[#6:8]:[#6:4](:[#...   \n",
       "fragment1                [CH3][O][c]1[cH][cH][cH][cH][c]1[OH]   \n",
       "fragment2                    [OH][c]1[cH][cH][cH][cH][c]1[Br]   \n",
       "\n",
       "                                                        12895  \n",
       "smiles1                        CC(C)NC[C@@H](O)c1ccc(O)c(O)c1  \n",
       "smiles2      C1CNCCN1.COc1cc(C(O)CO)ccc1O.COc1cc(C(O)CO)ccc1O  \n",
       "percentmcs                                            0.28125  \n",
       "radius                                                      1  \n",
       "valid                                                   False  \n",
       "smirks      [#6](-[#6](-[#6](-[H])(-[H])-[H])(-[#7:1](-[#6...  \n",
       "fragment1                                                 NaN  \n",
       "fragment2                                                 NaN  "
      ]
     },
     "execution_count": 6,
     "metadata": {},
     "output_type": "execute_result"
    }
   ],
   "source": [
    "df_pairs = pd.json_normalize(df_pairs.explode())\n",
    "df_pairs.sample(3).transpose()"
   ]
  },
  {
   "cell_type": "markdown",
   "metadata": {},
   "source": [
    "### Drop failures and write output to file"
   ]
  },
  {
   "cell_type": "code",
   "execution_count": 7,
   "metadata": {},
   "outputs": [],
   "source": [
    "df_pairs = df_pairs[df_pairs.valid]\n",
    "df_pairs.to_csv('beta2_agonists_pairs.csv', index=False)"
   ]
  },
  {
   "cell_type": "code",
   "execution_count": null,
   "metadata": {},
   "outputs": [],
   "source": []
  }
 ],
 "metadata": {
  "kernelspec": {
   "display_name": "Python 3",
   "language": "python",
   "name": "python3"
  },
  "language_info": {
   "codemirror_mode": {
    "name": "ipython",
    "version": 3
   },
   "file_extension": ".py",
   "mimetype": "text/x-python",
   "name": "python",
   "nbconvert_exporter": "python",
   "pygments_lexer": "ipython3",
   "version": "3.6.10"
  }
 },
 "nbformat": 4,
 "nbformat_minor": 4
}
