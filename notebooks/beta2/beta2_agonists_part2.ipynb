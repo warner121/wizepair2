{
 "cells": [
  {
   "cell_type": "markdown",
   "metadata": {},
   "source": [
    "## Beta-2 adrenergic receptor - part 2 (MMP identification)"
   ]
  },
  {
   "cell_type": "markdown",
   "metadata": {},
   "source": [
    "### Import libraries"
   ]
  },
  {
   "cell_type": "code",
   "execution_count": 1,
   "metadata": {},
   "outputs": [],
   "source": [
    "import pandas as pd"
   ]
  },
  {
   "cell_type": "code",
   "execution_count": 2,
   "metadata": {},
   "outputs": [
    {
     "name": "stdout",
     "output_type": "stream",
     "text": [
      "INFO: Pandarallel will run on 12 workers.\n",
      "INFO: Pandarallel will use Memory file system to transfer data between the main process and workers.\n"
     ]
    }
   ],
   "source": [
    "from pandarallel import pandarallel\n",
    "pandarallel.initialize(progress_bar=True)\n",
    "\n",
    "import sys\n",
    "sys.path.append('/home/daniel/wizepair2')\n",
    "from mmpa.mmp import MMP"
   ]
  },
  {
   "cell_type": "markdown",
   "metadata": {},
   "source": [
    "### Read in the dataset"
   ]
  },
  {
   "cell_type": "code",
   "execution_count": 3,
   "metadata": {},
   "outputs": [
    {
     "data": {
      "text/plain": [
       "1223"
      ]
     },
     "execution_count": 3,
     "metadata": {},
     "output_type": "execute_result"
    }
   ],
   "source": [
    "df = pd.read_csv('beta2_agonists_stripped.csv')\n",
    "len(df.index)"
   ]
  },
  {
   "cell_type": "markdown",
   "metadata": {},
   "source": [
    "### Create cartesian product of unique molecules tested in the same assay"
   ]
  },
  {
   "cell_type": "code",
   "execution_count": 4,
   "metadata": {},
   "outputs": [
    {
     "data": {
      "text/html": [
       "<div>\n",
       "<style scoped>\n",
       "    .dataframe tbody tr th:only-of-type {\n",
       "        vertical-align: middle;\n",
       "    }\n",
       "\n",
       "    .dataframe tbody tr th {\n",
       "        vertical-align: top;\n",
       "    }\n",
       "\n",
       "    .dataframe thead th {\n",
       "        text-align: right;\n",
       "    }\n",
       "</style>\n",
       "<table border=\"1\" class=\"dataframe\">\n",
       "  <thead>\n",
       "    <tr style=\"text-align: right;\">\n",
       "      <th></th>\n",
       "      <th>stripped_smiles_x</th>\n",
       "      <th>stripped_smiles_y</th>\n",
       "    </tr>\n",
       "  </thead>\n",
       "  <tbody>\n",
       "    <tr>\n",
       "      <th>0</th>\n",
       "      <td>COc1ccccc1OCCNC[C@@H](O)c1ccc(O)c(O)c1</td>\n",
       "      <td>COc1ccccc1OCCNC[C@@H](O)c1ccc(O)c(O)c1</td>\n",
       "    </tr>\n",
       "    <tr>\n",
       "      <th>1</th>\n",
       "      <td>COc1ccccc1OCCNC[C@@H](O)c1ccc(O)c(O)c1</td>\n",
       "      <td>CNC[C@H](O)c1ccc(O)c(O)c1F</td>\n",
       "    </tr>\n",
       "    <tr>\n",
       "      <th>2</th>\n",
       "      <td>COc1ccccc1OCCNC[C@@H](O)c1ccc(O)c(O)c1</td>\n",
       "      <td>CNCC(O)c1ccc(O)c2nc(O)sc12</td>\n",
       "    </tr>\n",
       "    <tr>\n",
       "      <th>3</th>\n",
       "      <td>COc1ccccc1OCCNC[C@@H](O)c1ccc(O)c(O)c1</td>\n",
       "      <td>CNCC(O)c1cc(O)c(O)cc1F</td>\n",
       "    </tr>\n",
       "    <tr>\n",
       "      <th>4</th>\n",
       "      <td>COc1ccccc1OCCNC[C@@H](O)c1ccc(O)c(O)c1</td>\n",
       "      <td>CC(C)NCC(O)c1ccc(Cl)c(Cl)c1</td>\n",
       "    </tr>\n",
       "    <tr>\n",
       "      <th>...</th>\n",
       "      <td>...</td>\n",
       "      <td>...</td>\n",
       "    </tr>\n",
       "    <tr>\n",
       "      <th>31395</th>\n",
       "      <td>CCC(c1ccc(O)c(O)c1)C(CC)c1ccc(O)c(O)c1</td>\n",
       "      <td>CCC(c1ccc(O)c(O)c1)C(CC)c1ccc(O)c(O)c1</td>\n",
       "    </tr>\n",
       "    <tr>\n",
       "      <th>31434</th>\n",
       "      <td>CC(C)NC[C@@H](O)c1ccc(O)c(O)c1</td>\n",
       "      <td>CC(C)NC[C@H](O)c1ccc2ccccc2c1</td>\n",
       "    </tr>\n",
       "    <tr>\n",
       "      <th>31439</th>\n",
       "      <td>CC(C)NC[C@H](O)c1ccc2ccccc2c1</td>\n",
       "      <td>CC(C)NC[C@@H](O)c1ccc(O)c(O)c1</td>\n",
       "    </tr>\n",
       "    <tr>\n",
       "      <th>31442</th>\n",
       "      <td>CC(C)NC[C@H](O)c1ccc2ccccc2c1</td>\n",
       "      <td>CNCC(O)c1ccc(O)c(O)c1</td>\n",
       "    </tr>\n",
       "    <tr>\n",
       "      <th>31452</th>\n",
       "      <td>CNCC(O)c1ccc(O)c(O)c1</td>\n",
       "      <td>CC(C)NC[C@H](O)c1ccc2ccccc2c1</td>\n",
       "    </tr>\n",
       "  </tbody>\n",
       "</table>\n",
       "<p>1607 rows × 2 columns</p>\n",
       "</div>"
      ],
      "text/plain": [
       "                            stripped_smiles_x  \\\n",
       "0      COc1ccccc1OCCNC[C@@H](O)c1ccc(O)c(O)c1   \n",
       "1      COc1ccccc1OCCNC[C@@H](O)c1ccc(O)c(O)c1   \n",
       "2      COc1ccccc1OCCNC[C@@H](O)c1ccc(O)c(O)c1   \n",
       "3      COc1ccccc1OCCNC[C@@H](O)c1ccc(O)c(O)c1   \n",
       "4      COc1ccccc1OCCNC[C@@H](O)c1ccc(O)c(O)c1   \n",
       "...                                       ...   \n",
       "31395  CCC(c1ccc(O)c(O)c1)C(CC)c1ccc(O)c(O)c1   \n",
       "31434          CC(C)NC[C@@H](O)c1ccc(O)c(O)c1   \n",
       "31439           CC(C)NC[C@H](O)c1ccc2ccccc2c1   \n",
       "31442           CC(C)NC[C@H](O)c1ccc2ccccc2c1   \n",
       "31452                   CNCC(O)c1ccc(O)c(O)c1   \n",
       "\n",
       "                            stripped_smiles_y  \n",
       "0      COc1ccccc1OCCNC[C@@H](O)c1ccc(O)c(O)c1  \n",
       "1                  CNC[C@H](O)c1ccc(O)c(O)c1F  \n",
       "2                  CNCC(O)c1ccc(O)c2nc(O)sc12  \n",
       "3                      CNCC(O)c1cc(O)c(O)cc1F  \n",
       "4                 CC(C)NCC(O)c1ccc(Cl)c(Cl)c1  \n",
       "...                                       ...  \n",
       "31395  CCC(c1ccc(O)c(O)c1)C(CC)c1ccc(O)c(O)c1  \n",
       "31434           CC(C)NC[C@H](O)c1ccc2ccccc2c1  \n",
       "31439          CC(C)NC[C@@H](O)c1ccc(O)c(O)c1  \n",
       "31442                   CNCC(O)c1ccc(O)c(O)c1  \n",
       "31452           CC(C)NC[C@H](O)c1ccc2ccccc2c1  \n",
       "\n",
       "[1607 rows x 2 columns]"
      ]
     },
     "execution_count": 4,
     "metadata": {},
     "output_type": "execute_result"
    }
   ],
   "source": [
    "df_pairs = pd.merge(df, df, on=['target_pref_name', 'standard_type'])\n",
    "df_pairs = df_pairs[['stripped_smiles_x', 'stripped_smiles_y']].drop_duplicates()\n",
    "df_pairs"
   ]
  },
  {
   "cell_type": "markdown",
   "metadata": {},
   "source": [
    "### Identify all pairs"
   ]
  },
  {
   "cell_type": "code",
   "execution_count": 5,
   "metadata": {},
   "outputs": [
    {
     "data": {
      "application/vnd.jupyter.widget-view+json": {
       "model_id": "6ee0136dd458453eafec1c78df88b513",
       "version_major": 2,
       "version_minor": 0
      },
      "text/plain": [
       "VBox(children=(HBox(children=(IntProgress(value=0, description='0.00%', max=134), Label(value='0 / 134'))), HB…"
      ]
     },
     "metadata": {},
     "output_type": "display_data"
    }
   ],
   "source": [
    "df_pairs = df_pairs.sample(frac=1).parallel_apply(lambda x: MMP(x.stripped_smiles_x, x.stripped_smiles_y, strictness=5, correspondence=2).execute(), axis=1)"
   ]
  },
  {
   "cell_type": "code",
   "execution_count": 6,
   "metadata": {},
   "outputs": [
    {
     "data": {
      "text/html": [
       "<div>\n",
       "<style scoped>\n",
       "    .dataframe tbody tr th:only-of-type {\n",
       "        vertical-align: middle;\n",
       "    }\n",
       "\n",
       "    .dataframe tbody tr th {\n",
       "        vertical-align: top;\n",
       "    }\n",
       "\n",
       "    .dataframe thead th {\n",
       "        text-align: right;\n",
       "    }\n",
       "</style>\n",
       "<table border=\"1\" class=\"dataframe\">\n",
       "  <thead>\n",
       "    <tr style=\"text-align: right;\">\n",
       "      <th></th>\n",
       "      <th>502</th>\n",
       "      <th>1711</th>\n",
       "      <th>3611</th>\n",
       "    </tr>\n",
       "  </thead>\n",
       "  <tbody>\n",
       "    <tr>\n",
       "      <th>smiles1</th>\n",
       "      <td>CNC[C@@H](O)c1ccc(O)c(O)c1F</td>\n",
       "      <td>CC(C)NCC(O)c1ccc(O)c(NS(C)(=O)=O)c1</td>\n",
       "      <td>C[C@@H](N)[C@@H](O)c1ccc(O)c(O)c1</td>\n",
       "    </tr>\n",
       "    <tr>\n",
       "      <th>smiles2</th>\n",
       "      <td>CNCC(O)c1c(F)ccc(O)c1F</td>\n",
       "      <td>CCC(C)(C)NCC(O)c1ccc(O)c(NS(C)(=O)=O)c1</td>\n",
       "      <td>C1CNCCN1.COc1cc(C(O)CO)ccc1O</td>\n",
       "    </tr>\n",
       "    <tr>\n",
       "      <th>percentmcs</th>\n",
       "      <td>0.733333</td>\n",
       "      <td>0.857143</td>\n",
       "      <td>0.421053</td>\n",
       "    </tr>\n",
       "    <tr>\n",
       "      <th>radius</th>\n",
       "      <td>2</td>\n",
       "      <td>1</td>\n",
       "      <td>1</td>\n",
       "    </tr>\n",
       "    <tr>\n",
       "      <th>valid</th>\n",
       "      <td>True</td>\n",
       "      <td>True</td>\n",
       "      <td>False</td>\n",
       "    </tr>\n",
       "    <tr>\n",
       "      <th>smirks</th>\n",
       "      <td>[#7:10](-[#6:6](-[#6@@](-[#8:9]-[H])(-[#6:5](:...</td>\n",
       "      <td>[#6:7](-[#6:2](-[#6:6](-[H])(-[H])-[H])(-[#7:5...</td>\n",
       "      <td>[#6](-[#6@@](-[#7:3](-[H])-[H])(-[#6@@](-[#8:4...</td>\n",
       "    </tr>\n",
       "    <tr>\n",
       "      <th>fragment1</th>\n",
       "      <td>[H][C@@]([OH])([CH2][NH2])[c]([cH2])[c]([F])[c...</td>\n",
       "      <td>[CH3][CH]([CH3])[NH2]</td>\n",
       "      <td>NaN</td>\n",
       "    </tr>\n",
       "    <tr>\n",
       "      <th>fragment2</th>\n",
       "      <td>[cH2][c]([F])[c]([c]([cH2])[F])[CH]([OH])[CH2]...</td>\n",
       "      <td>[CH3][CH2][C]([CH3])([CH3])[NH2]</td>\n",
       "      <td>NaN</td>\n",
       "    </tr>\n",
       "  </tbody>\n",
       "</table>\n",
       "</div>"
      ],
      "text/plain": [
       "                                                         502   \\\n",
       "smiles1                           CNC[C@@H](O)c1ccc(O)c(O)c1F   \n",
       "smiles2                                CNCC(O)c1c(F)ccc(O)c1F   \n",
       "percentmcs                                           0.733333   \n",
       "radius                                                      2   \n",
       "valid                                                    True   \n",
       "smirks      [#7:10](-[#6:6](-[#6@@](-[#8:9]-[H])(-[#6:5](:...   \n",
       "fragment1   [H][C@@]([OH])([CH2][NH2])[c]([cH2])[c]([F])[c...   \n",
       "fragment2   [cH2][c]([F])[c]([c]([cH2])[F])[CH]([OH])[CH2]...   \n",
       "\n",
       "                                                         1711  \\\n",
       "smiles1                   CC(C)NCC(O)c1ccc(O)c(NS(C)(=O)=O)c1   \n",
       "smiles2               CCC(C)(C)NCC(O)c1ccc(O)c(NS(C)(=O)=O)c1   \n",
       "percentmcs                                           0.857143   \n",
       "radius                                                      1   \n",
       "valid                                                    True   \n",
       "smirks      [#6:7](-[#6:2](-[#6:6](-[H])(-[H])-[H])(-[#7:5...   \n",
       "fragment1                               [CH3][CH]([CH3])[NH2]   \n",
       "fragment2                    [CH3][CH2][C]([CH3])([CH3])[NH2]   \n",
       "\n",
       "                                                         3611  \n",
       "smiles1                     C[C@@H](N)[C@@H](O)c1ccc(O)c(O)c1  \n",
       "smiles2                          C1CNCCN1.COc1cc(C(O)CO)ccc1O  \n",
       "percentmcs                                           0.421053  \n",
       "radius                                                      1  \n",
       "valid                                                   False  \n",
       "smirks      [#6](-[#6@@](-[#7:3](-[H])-[H])(-[#6@@](-[#8:4...  \n",
       "fragment1                                                 NaN  \n",
       "fragment2                                                 NaN  "
      ]
     },
     "execution_count": 6,
     "metadata": {},
     "output_type": "execute_result"
    }
   ],
   "source": [
    "df_pairs = pd.json_normalize(df_pairs.explode())\n",
    "df_pairs.sample(3).transpose()"
   ]
  },
  {
   "cell_type": "markdown",
   "metadata": {},
   "source": [
    "### Drop failures and write output to file"
   ]
  },
  {
   "cell_type": "code",
   "execution_count": 7,
   "metadata": {},
   "outputs": [],
   "source": [
    "df_pairs = df_pairs[df_pairs.valid]\n",
    "df_pairs.to_csv('beta2_agonists_pairs.csv', index=False)"
   ]
  },
  {
   "cell_type": "code",
   "execution_count": null,
   "metadata": {},
   "outputs": [],
   "source": []
  }
 ],
 "metadata": {
  "kernelspec": {
   "display_name": "Python 3 (ipykernel)",
   "language": "python",
   "name": "python3"
  },
  "language_info": {
   "codemirror_mode": {
    "name": "ipython",
    "version": 3
   },
   "file_extension": ".py",
   "mimetype": "text/x-python",
   "name": "python",
   "nbconvert_exporter": "python",
   "pygments_lexer": "ipython3",
   "version": "3.9.10"
  }
 },
 "nbformat": 4,
 "nbformat_minor": 4
}
